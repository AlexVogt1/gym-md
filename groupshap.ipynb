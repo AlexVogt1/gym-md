{
 "cells": [
  {
   "cell_type": "code",
   "execution_count": 1,
   "metadata": {},
   "outputs": [],
   "source": [
    "from sklearn.ensemble import RandomForestRegressor\n",
    "from sklearn.model_selection import train_test_split\n",
    "import torch\n",
    "import torch.nn as nn\n",
    "import torch.nn.functional as F\n",
    "from torch.optim import Adam\n",
    "from torch.utils.data import TensorDataset, DataLoader\n",
    "from shaprpy import explain\n",
    "from shaprpy.datasets import load_california_housing\n",
    "import gym\n",
    "import gym_md\n",
    "import shap\n",
    "import numpy as np\n",
    "import pandas as pd\n",
    "import matplotlib.pyplot as plt\n",
    "import seaborn as sns\n",
    "from stable_baselines3 import PPO, DQN\n",
    "from md_shap import gen_config, sb3Wrapper,sb3_DQN_wrapper,grid_sb3Wrapper,gen_action_map\n",
    "from torch.autograd import Variable\n",
    "from torch import float32\n",
    "from stable_baselines3.common.policies import obs_as_tensor\n",
    "import plotly.express as px\n",
    "import os\n",
    "# !pip install nbformat"
   ]
  },
  {
   "cell_type": "markdown",
   "metadata": {},
   "source": [
    "### testing baseline group shaply stuff"
   ]
  },
  {
   "cell_type": "code",
   "execution_count": 3,
   "metadata": {},
   "outputs": [
    {
     "name": "stderr",
     "output_type": "stream",
     "text": [
      "R[write to console]: Note: Feature classes extracted from the model contains NA.\n",
      "Assuming feature classes from the data are correct.\n",
      "\n",
      "\n",
      "R[write to console]: Setting parameter 'n_batches' to 3 as a fair trade-off between memory consumption and computation time.\n",
      "Reducing 'n_batches' typically reduces the computation time at the cost of increased memory consumption.\n",
      "\n",
      "\n",
      "R[write to console]: Note: Feature classes extracted from the model contains NA.\n",
      "Assuming feature classes from the data are correct.\n",
      "\n",
      "\n",
      "R[write to console]: Setting parameter 'n_batches' to 2 as a fair trade-off between memory consumption and computation time.\n",
      "Reducing 'n_batches' typically reduces the computation time at the cost of increased memory consumption.\n",
      "\n",
      "\n"
     ]
    },
    {
     "name": "stdout",
     "output_type": "stream",
     "text": [
      "       none    MedInc  HouseAge  AveRooms  AveBedrms  Population  AveOccup  \\\n",
      "1  2.205937 -0.621030  0.071411 -0.090193   0.122821   -0.037958 -0.252648   \n",
      "2  2.205938 -0.488238  0.054341 -0.416954  -0.168696    0.007425  0.141640   \n",
      "3  2.205938  0.221966  0.518924 -0.115749  -0.178247    0.040083  0.865084   \n",
      "4  2.205938  0.306283 -0.083123  0.036775   0.108284   -0.151268 -0.152517   \n",
      "5  2.205938 -0.273460 -0.078941 -0.135768   0.136243    0.102150  0.077141   \n",
      "\n",
      "   Latitude  Longitude  \n",
      "1 -0.456652  -0.202960  \n",
      "2 -0.218640  -0.078545  \n",
      "3  0.128623   0.263544  \n",
      "4  0.110140   0.199258  \n",
      "5  0.062950   0.327928  \n",
      "       none         A         B         C\n",
      "1  2.205937 -0.557039 -0.215577 -0.694592\n",
      "2  2.205938 -1.183290 -0.224834  0.240456\n",
      "3  2.205938  0.734614  0.553715  0.455900\n",
      "4  2.205938  0.180575 -0.059259  0.252516\n",
      "5  2.205938 -0.428395  0.059154  0.587484\n"
     ]
    },
    {
     "data": {
      "text/plain": [
       "{'MSEv':        MSEv   MSEv_sd\n",
       " 1  0.429018  0.184205,\n",
       " 'MSEv_explicand':    id      MSEv\n",
       " 1   1  0.316898\n",
       " 2   2  0.423245\n",
       " 3   3  1.127342\n",
       " 4   4  0.068364\n",
       " 5   5  0.209242,\n",
       " 'MSEv_combination':      id_combination               features      MSEv   MSEv_sd\n",
       " 1                 2                    [1]  0.948622  0.817797\n",
       " 2                 3                    [2]  1.424628  0.546285\n",
       " 3                 4                    [3]  1.309840  0.989908\n",
       " 4                 5                    [4]  1.667279  0.901835\n",
       " 5                 6                    [5]  1.343349  0.522656\n",
       " ..              ...                    ...       ...       ...\n",
       " 250             251  [1, 2, 3, 4, 6, 7, 8]  0.000262  0.000139\n",
       " 251             252  [1, 2, 3, 5, 6, 7, 8]  0.001441  0.001370\n",
       " 252             253  [1, 2, 4, 5, 6, 7, 8]  0.027534  0.016636\n",
       " 253             254  [1, 3, 4, 5, 6, 7, 8]  0.030001  0.019600\n",
       " 254             255  [2, 3, 4, 5, 6, 7, 8]  0.268327  0.150317\n",
       " \n",
       " [254 rows x 4 columns]}"
      ]
     },
     "execution_count": 3,
     "metadata": {},
     "output_type": "execute_result"
    }
   ],
   "source": [
    "from sklearn.ensemble import RandomForestRegressor\n",
    "from shaprpy import explain\n",
    "from shaprpy.datasets import load_california_housing\n",
    "\n",
    "dfx_train, dfx_test, dfy_train, dfy_test = load_california_housing()\n",
    "\n",
    "dfx_train\n",
    "\n",
    "## Fit model\n",
    "model = RandomForestRegressor(verbose=0)\n",
    "model.fit(dfx_train, dfy_train.values.flatten())\n",
    "\n",
    "# List to store the explanations\n",
    "# explanation_list = {}\n",
    "# explanation_list[\"sep_lm\"] = explain(\n",
    "#     model=model,\n",
    "#     x_train=dfx_train,\n",
    "#     x_explain=dfx_test,\n",
    "#     approach='regression_separate',\n",
    "#     prediction_zero=dfy_train.mean().item(),\n",
    "#     verbose=2,\n",
    "#     n_batches=1,\n",
    "#     regression_model='parsnip::linear_reg()'\n",
    "# )\n",
    "\n",
    "# # Explain the model using the empirical approach\n",
    "# explanation_list[\"empirical\"] = explain(\n",
    "#     model=model,\n",
    "#     x_train=dfx_train,\n",
    "#     x_explain=dfx_test,\n",
    "#     approach='empirical',\n",
    "#     prediction_zero=dfy_train.mean().item()\n",
    "# )\n",
    "\n",
    "## Shapr\n",
    "df_shapley, pred_explain, internal, timing ,MSEv= explain(\n",
    "    model = model,\n",
    "    x_train = dfx_train,\n",
    "    x_explain = dfx_test,\n",
    "    approach = 'empirical',\n",
    "    prediction_zero = dfy_train.mean().item(),\n",
    ")\n",
    "print(df_shapley)\n",
    "\n",
    "group = {'A': ['MedInc','HouseAge','AveRooms'],\n",
    "         'B': ['AveBedrms','Population','AveOccup'],\n",
    "         'C': ['Latitude','Longitude']}\n",
    "\n",
    "df_shapley_g, pred_explain_g, internal_g, timing_g ,msve= explain(\n",
    "    model = model,\n",
    "    x_train = dfx_train,\n",
    "    x_explain = dfx_test,\n",
    "    approach = 'empirical',\n",
    "    prediction_zero = dfy_train.mean().item(),\n",
    "    group = group\n",
    ")\n",
    "print(df_shapley_g)\n",
    "dfy_test\n",
    "MSEv"
   ]
  },
  {
   "cell_type": "code",
   "execution_count": 42,
   "metadata": {},
   "outputs": [
    {
     "name": "stderr",
     "output_type": "stream",
     "text": [
      "R[write to console]: Note: You passed a model to explain() which is not natively supported, and did not supply a 'get_model_specs' function to explain().\n",
      "Consistency checks between model and data is therefore disabled.\n",
      "\n",
      "\n",
      "R[write to console]: Setting parameter 'n_batches' to 3 as a fair trade-off between memory consumption and computation time.\n",
      "Reducing 'n_batches' typically reduces the computation time at the cost of increased memory consumption.\n",
      "\n",
      "\n"
     ]
    },
    {
     "name": "stdout",
     "output_type": "stream",
     "text": [
      "MyNeuralNet(\n",
      "  (lin0): Linear(in_features=8, out_features=128, bias=True)\n",
      "  (lin1): Linear(in_features=128, out_features=1, bias=True)\n",
      ")\n",
      "Training, epoch 1...\n",
      "Training, epoch 2...\n",
      "Training, epoch 3...\n",
      "Training, epoch 4...\n",
      "Training, epoch 5...\n",
      "<rpy2.rinterface.FloatSexpVector object at 0x7f91ad86f9d0> [14]\n",
      "2\n",
      "<class 'pandas.core.frame.DataFrame'>\n",
      "Index: 206 entries, 18343 to 15795\n",
      "Data columns (total 8 columns):\n",
      " #   Column      Non-Null Count  Dtype  \n",
      "---  ------      --------------  -----  \n",
      " 0   MedInc      206 non-null    float64\n",
      " 1   HouseAge    206 non-null    float64\n",
      " 2   AveRooms    206 non-null    float64\n",
      " 3   AveBedrms   206 non-null    float64\n",
      " 4   Population  206 non-null    float64\n",
      " 5   AveOccup    206 non-null    float64\n",
      " 6   Latitude    206 non-null    float64\n",
      " 7   Longitude   206 non-null    float64\n",
      "dtypes: float64(8)\n",
      "memory usage: 22.6 KB\n",
      "None\n",
      "       target\n",
      "18343   4.763\n",
      "19360   1.341\n",
      "8680    2.833\n",
      "18227   2.667\n",
      "1734    1.138\n",
      "...       ...\n",
      "11284   2.292\n",
      "11964   0.978\n",
      "5390    2.221\n",
      "860     2.835\n",
      "15795   3.250\n",
      "\n",
      "[206 rows x 1 columns]\n",
      "<class 'pandas.core.frame.DataFrame'>\n",
      "Index: 206 entries, 18343 to 15795\n",
      "Data columns (total 1 columns):\n",
      " #   Column  Non-Null Count  Dtype  \n",
      "---  ------  --------------  -----  \n",
      " 0   target  206 non-null    float64\n",
      "dtypes: float64(1)\n",
      "memory usage: 3.2 KB\n",
      "None\n",
      "<function <lambda> at 0x7f9189f52fc0>\n"
     ]
    },
    {
     "data": {
      "text/html": [
       "<div>\n",
       "<style scoped>\n",
       "    .dataframe tbody tr th:only-of-type {\n",
       "        vertical-align: middle;\n",
       "    }\n",
       "\n",
       "    .dataframe tbody tr th {\n",
       "        vertical-align: top;\n",
       "    }\n",
       "\n",
       "    .dataframe thead th {\n",
       "        text-align: right;\n",
       "    }\n",
       "</style>\n",
       "<table border=\"1\" class=\"dataframe\">\n",
       "  <thead>\n",
       "    <tr style=\"text-align: right;\">\n",
       "      <th></th>\n",
       "      <th>none</th>\n",
       "      <th>MedInc</th>\n",
       "      <th>HouseAge</th>\n",
       "      <th>AveRooms</th>\n",
       "      <th>AveBedrms</th>\n",
       "      <th>Population</th>\n",
       "      <th>AveOccup</th>\n",
       "      <th>Latitude</th>\n",
       "      <th>Longitude</th>\n",
       "    </tr>\n",
       "  </thead>\n",
       "  <tbody>\n",
       "    <tr>\n",
       "      <th>1</th>\n",
       "      <td>2.205950</td>\n",
       "      <td>4.036109</td>\n",
       "      <td>5.345496</td>\n",
       "      <td>5.743704</td>\n",
       "      <td>4.958375</td>\n",
       "      <td>3.382227</td>\n",
       "      <td>4.545994</td>\n",
       "      <td>3.026637</td>\n",
       "      <td>4.122832</td>\n",
       "    </tr>\n",
       "    <tr>\n",
       "      <th>2</th>\n",
       "      <td>2.205950</td>\n",
       "      <td>5.252039</td>\n",
       "      <td>5.702241</td>\n",
       "      <td>4.083750</td>\n",
       "      <td>4.238449</td>\n",
       "      <td>3.199204</td>\n",
       "      <td>5.879998</td>\n",
       "      <td>5.487187</td>\n",
       "      <td>3.703654</td>\n",
       "    </tr>\n",
       "    <tr>\n",
       "      <th>3</th>\n",
       "      <td>2.205949</td>\n",
       "      <td>4.840082</td>\n",
       "      <td>4.311369</td>\n",
       "      <td>5.691991</td>\n",
       "      <td>3.347365</td>\n",
       "      <td>3.563894</td>\n",
       "      <td>4.592269</td>\n",
       "      <td>4.825642</td>\n",
       "      <td>4.563850</td>\n",
       "    </tr>\n",
       "    <tr>\n",
       "      <th>4</th>\n",
       "      <td>2.205950</td>\n",
       "      <td>4.876310</td>\n",
       "      <td>6.888369</td>\n",
       "      <td>3.091987</td>\n",
       "      <td>4.684311</td>\n",
       "      <td>4.776395</td>\n",
       "      <td>4.889423</td>\n",
       "      <td>4.458900</td>\n",
       "      <td>4.743738</td>\n",
       "    </tr>\n",
       "    <tr>\n",
       "      <th>5</th>\n",
       "      <td>2.205950</td>\n",
       "      <td>4.763316</td>\n",
       "      <td>3.401271</td>\n",
       "      <td>3.082360</td>\n",
       "      <td>5.493106</td>\n",
       "      <td>-0.138213</td>\n",
       "      <td>5.627370</td>\n",
       "      <td>3.987965</td>\n",
       "      <td>4.986667</td>\n",
       "    </tr>\n",
       "  </tbody>\n",
       "</table>\n",
       "</div>"
      ],
      "text/plain": [
       "       none    MedInc  HouseAge  AveRooms  AveBedrms  Population  AveOccup  \\\n",
       "1  2.205950  4.036109  5.345496  5.743704   4.958375    3.382227  4.545994   \n",
       "2  2.205950  5.252039  5.702241  4.083750   4.238449    3.199204  5.879998   \n",
       "3  2.205949  4.840082  4.311369  5.691991   3.347365    3.563894  4.592269   \n",
       "4  2.205950  4.876310  6.888369  3.091987   4.684311    4.776395  4.889423   \n",
       "5  2.205950  4.763316  3.401271  3.082360   5.493106   -0.138213  5.627370   \n",
       "\n",
       "   Latitude  Longitude  \n",
       "1  3.026637   4.122832  \n",
       "2  5.487187   3.703654  \n",
       "3  4.825642   4.563850  \n",
       "4  4.458900   4.743738  \n",
       "5  3.987965   4.986667  "
      ]
     },
     "execution_count": 42,
     "metadata": {},
     "output_type": "execute_result"
    }
   ],
   "source": [
    "dfx_train, dfx_test, dfy_train, dfy_test = load_california_housing()\n",
    "\n",
    "## Fit model\n",
    "class MyNeuralNet(nn.Module):\n",
    "\n",
    "    def __init__(self, in_dim, hidden_dim):\n",
    "        super().__init__()\n",
    "        self.lin0 = nn.Linear(in_dim, hidden_dim)\n",
    "        self.lin1 = nn.Linear(hidden_dim, 1)\n",
    "\n",
    "    def forward(self, x):\n",
    "        x = self.lin0(x)\n",
    "        x = F.relu(x)\n",
    "        return self.lin1(x).squeeze(-1)\n",
    "\n",
    "data = TensorDataset(torch.from_numpy(dfx_train.values).float(), torch.from_numpy(dfy_train.values.flatten()).float())\n",
    "data_loader = DataLoader(data, batch_size=128, shuffle=True)\n",
    "model = MyNeuralNet(dfx_train.shape[-1], hidden_dim=128)\n",
    "print(model)\n",
    "optim = Adam(model.parameters(), lr=1e-3)\n",
    "\n",
    "for epoch in range(5):\n",
    "    print(f'Training, epoch {epoch+1}...')\n",
    "    for x, y in data_loader:\n",
    "        p = model(x)\n",
    "        loss = F.mse_loss(p, y)\n",
    "        loss.backward()\n",
    "        optim.step()\n",
    "        optim.zero_grad()\n",
    "\n",
    "## Shapr\n",
    "df_shapley, pred_explain, internal, timing = explain(\n",
    "    model = model,\n",
    "    x_train = dfx_train,\n",
    "    x_explain = dfx_test,\n",
    "    approach = 'empirical',\n",
    "    predict_model = lambda m, x: m(torch.from_numpy(x.values).float()).cpu().detach().numpy(),\n",
    "    prediction_zero = dfy_train.mean().item(),\n",
    ")\n",
    "# print(df_shapley)\n",
    "print(dfx_train.info())\n",
    "print(dfy_train)\n",
    "print(dfy_train.info())\n",
    "m = model\n",
    "x = dfx_train.iloc[0]\n",
    "print(lambda m, x: m(torch.from_numpy(x.values).float()).cpu().detach().numpy())\n",
    "df_shapley\n"
   ]
  },
  {
   "cell_type": "markdown",
   "metadata": {},
   "source": [
    "## My groupShap stuff"
   ]
  },
  {
   "cell_type": "markdown",
   "metadata": {},
   "source": [
    "### Functions"
   ]
  },
  {
   "cell_type": "markdown",
   "metadata": {},
   "source": [
    "##### Old Model stuff"
   ]
  },
  {
   "cell_type": "code",
   "execution_count": 2,
   "metadata": {},
   "outputs": [],
   "source": [
    "\n",
    "class sb3Wrapper(nn.Module):\n",
    "    def __init__(self, model):\n",
    "        super(sb3Wrapper,self).__init__()\n",
    "        self.extractor = model.policy.mlp_extractor\n",
    "        self.policy_net = model.policy.mlp_extractor.policy_net\n",
    "        self.action_net = model.policy.action_net\n",
    "\n",
    "    def forward(self,x):\n",
    "        x = self.policy_net(x)\n",
    "        x = self.action_net(x)\n",
    "        return x\n",
    "    \n",
    "def gen_data(config):   \n",
    "    print('----------Generating Data----------')\n",
    "    \n",
    "    # set variables\n",
    "    data =[]\n",
    "    action_type = config['action_type']\n",
    "    exp_type =config['exp_type']\n",
    "    lvl = config['lvl']\n",
    "    play_style= config['play_style']\n",
    "    reward_scheme=config['reward_scheme']\n",
    "    algo= config['learning_algo']\n",
    "    path = config['exp_path']\n",
    "\n",
    "    if action_type == 'switch':\n",
    "        exp = f\"{action_type}-{lvl}_{play_style}_{reward_scheme}_{exp_type}_{algo}\"\n",
    "        env = gym.make(f\"md-switch-{lvl}-v0\",config=config)\n",
    "    elif config['obs_type'] =='grid':\n",
    "        exp = f\"{action_type}-{lvl}_{play_style}_{reward_scheme}_{exp_type}_{algo}\"\n",
    "        env = gym.make(f\"md-switch-{lvl}-v0\",config=config)\n",
    "    else:\n",
    "        env = gym.make(f\"md-{lvl}-v0\")\n",
    "        exp = f\"{lvl}_{play_style}_{reward_scheme}_{exp_type}\"\n",
    "\n",
    "\n",
    "    env.setting.IS_ENEMY_POWER_RANDOM =False\n",
    "    if play_style=='killer':\n",
    "        env.setting.PLAYER_MAX_HP = 10000\n",
    "\n",
    "    print(exp)\n",
    "    if action_type =='base':\n",
    "        model = PPO.load(f\"{path}/{play_style}.zip\")  # loading the model from ppo_cartpole.zip \n",
    "    elif action_type == 'path':\n",
    "        model = PPO.load(f\"logs/{path}/{exp}/best_model/best_model\") \n",
    "    elif algo == 'DQN':\n",
    "        model = DQN.load(f\"logs/{path}/{exp}/{play_style}/best_model\")  # loading the model from ppo_cartpole.zip \n",
    "    else:\n",
    "        model = PPO.load(f\"logs/{path}/{exp}/{play_style}/best_model\")  # loading the model from ppo_cartpole.zip \n",
    "                                                                                     \n",
    "    curr_obs = env.reset()  \n",
    "    curr_grid = np.array(env.grid.g)\n",
    "    # data.append([exp, lvl, 0, -1, env.agent.x, env.agent.y, env.agent.hp, start_grid, play_style, \"NO_ACTION\",curr_obs, curr_obs, False, 0, dict(env.info),start_grid.shape[0],start_grid.shape[1]])\n",
    "\n",
    "    for ep in range(5):                                                                    \n",
    "        for i in range(1000): \n",
    "            agent_x = env.agent.x\n",
    "            agent_y = env.agent.y\n",
    "            agent_hp = env.agent.hp                                                                  \n",
    "            action, _state = model.predict(curr_obs, deterministic=True) \n",
    "            action = action.tolist()                  \n",
    "            obs, reward, done, info = env.step(action) \n",
    "            grid= np.array(env.grid.g)  \n",
    "            data.append([exp, lvl, ep,i, agent_x, agent_y, agent_hp, curr_grid,grid, play_style, info['action_taken'],curr_obs, obs, done, reward, dict(info),grid.shape[0],grid.shape[1]])\n",
    "                                                \n",
    "            # env.render(mode='human')                                                                        \n",
    "            if done:                                                                            \n",
    "                obs = env.reset()\n",
    "                break\n",
    "\n",
    "            curr_obs= obs\n",
    "            curr_grid = grid\n",
    "                \n",
    "    return data\n",
    "\n",
    "def merge_data(data_list, type:str):\n",
    "    data = None\n",
    "    if type == 'array':\n",
    "        # print(data_list[0])\n",
    "        data = np.asarray(data_list[0],dtype=\"object\")\n",
    "        for i in range(1,len(data_list)):\n",
    "            data = np.concatenate((data,np.asarray(data_list[i],dtype=\"object\")))\n",
    "    elif type == 'dataframe':\n",
    "        data = pd.concat(data_list,ignore_index=True)\n",
    "    else:\n",
    "        assert(\"data needs to be array or dataframe\")\n",
    "    return data\n",
    "\n",
    "def prep_data(df):\n",
    "    obs_names = ['DM', 'DT', 'SDT', 'DP', 'SDP', 'DE', 'SDE', 'HP']\n",
    "    # need train and test data, train will be used in the train param and test will be used in explain param\n",
    "    # first get data into right format\n",
    "    data = df[['curr_obs','action']]\n",
    "    data[obs_names] = pd.DataFrame(data.curr_obs.tolist(), index= data.index)\n",
    "    # Split data \n",
    "    dfx_train, dfx_test,dfy_train,dfy_test = train_test_split(data[obs_names],data['action'], random_state=42, test_size=5)\n",
    "    return dfx_train, dfx_test, data\n",
    "\n",
    "def gen_analysis_data(lvl_list):\n",
    "    #take in list of levels and the loothrough them\n",
    "    df_list = []\n",
    "    df_data_list = []\n",
    "    df_shap_list= []\n",
    "    data_list = []\n",
    "    for lvl in lvl_list:\n",
    "        configs = gen_config(lvl =lvl,algo =\"PPO\",obs_type=\"distance\", exp_type=\"switch_analysis\",switch_path=\"switching_analysis/\",base_path=\"./play_style_models/base/\")\n",
    "        for config in configs[0:6]:\n",
    "            data =gen_data(config)\n",
    "            df = pd.DataFrame(data, columns=['experiment','level','run','step','x','y','hp','curr_grid','grid','play_style','action','curr_obs','observation','done','reward','info','grid_rows','grid_columns'])\n",
    "            data_list.append(data)\n",
    "            df_list.append(df)\n",
    "    \n",
    "    #TODO add code to merge the data list and df list into one data array and one df\n",
    "    # merge data \n",
    "    game_data = merge_data(data_list, type =\"array\")\n",
    "    df_data = merge_data(df_list,type=\"dataframe\")\n",
    "\n",
    "    # format data\n",
    "    df_train, df_test ,simp_data= prep_data(df_data)\n",
    "\n",
    "    #TODO remember to unshuffle data when merging shap to orig data\n",
    "    return game_data, df_data, df_train, df_test, simp_data\n",
    "\n",
    "def gen_groupshap_data(lvl_list,df,explainer_type:str):\n",
    "    # take in data and level list\n",
    "    # for each level gen config\n",
    "    df_data = []\n",
    "    for lvl in lvl_list:\n",
    "        configs = gen_config(lvl =lvl,algo =\"PPO\",obs_type=\"distance\", exp_type=\"switch_analysis\",switch_path=\"switching_analysis/\",base_path=\"./play_style_models/base/\")\n",
    "        for config in configs[0:6]:\n",
    "            algo =config['learning_algo']\n",
    "            path = config['exp_path']\n",
    "            #seperate dataframe based on config\n",
    "            print(config['play_style'])\n",
    "            df_curr = df.loc[(df['level']== lvl) & (df['play_style']== config['play_style'])]\n",
    "\n",
    "            # format data\n",
    "            df_train, df_test ,simp_data= prep_data(df_curr)#TODO need convert back to dataframe alos check why they are not same type as input shap\n",
    "\n",
    "            #create correct model\n",
    "            if config['action_type'] == \"switch\":\n",
    "                exp = f\"{config['action_type']}-{lvl}_{config['play_style']}_{config['reward_scheme']}_{config['exp_type']}_{algo}\"\n",
    "                model_path = f\"logs/{path}/{exp}/{config['play_style']}/best_model\"\n",
    "            else:\n",
    "                exp = f\"{lvl}_{config['play_style']}_{config['reward_scheme']}_{config['exp_type']}\"\n",
    "                model_path = f\"logs/{path}/{exp}/best_model/best_model\"\n",
    "\n",
    "            if algo ==\"PPO\":\n",
    "                model = PPO.load(model_path, device='cuda')\n",
    "            elif config.algo =='DQN':\n",
    "                model = DQN.load(model_path, device='cuda')\n",
    "            state_log = np.array(df_curr['curr_obs'].values.tolist())\n",
    "            # data =torch.FloatTensor(state_log).to('cuda')\n",
    "            # print(model.policy)\n",
    "            # print(model.policy.q_net.q_net)\n",
    "            if config['obs_type']== 'grid':\n",
    "                model = grid_sb3Wrapper(model)\n",
    "            elif algo =='PPO':\n",
    "                model = sb3Wrapper(model)\n",
    "            elif algo == 'DQN':\n",
    "                model = sb3_DQN_wrapper(model)\n",
    "            \n",
    "            #generate the y data\n",
    "            f = lambda x: model.forward(Variable(torch.from_numpy(x),requires_grad=False).to(float32).cuda()).detach().cpu().numpy()\n",
    "            dfy_train = df_curr['curr_obs'].apply(lambda x: model.forward(Variable(torch.from_numpy(x),requires_grad=False).to(float32)).detach().cpu().numpy())\n",
    "            print(dfy_train)\n",
    "            print(dfy_train.mean())\n",
    "            if explainer_type == \"kernel\":\n",
    "                df_shapley, pred_explain, internal, timing = explain(\n",
    "                    model=model,\n",
    "                    x_train=df_train,\n",
    "                    x_explain=df_train,\n",
    "                    approach='emperical',\n",
    "                    predict_model= lambda x: model.forward(Variable(torch.from_numpy(x.values),requires_grad=False).to(float32)).detach().cpu().numpy(),\n",
    "                    prediction_zero=dfy_train.mean(),\n",
    "                    output_size=4\n",
    "                )\n",
    "                f = lambda x: model.forward(Variable(torch.from_numpy(x),requires_grad=False).to(float32).cuda()).detach().cpu().numpy()\n",
    "            else:\n",
    "                explainer = shap.DeepExplainer(model, data)\n",
    "                shap_vals= explainer.shap_values(data,check_additivity=True)\n",
    "            # make agent model\n",
    "            # extract correspoding dataframe\n",
    "            # gen groupshap values for that config\n",
    "            # add to dataframe"
   ]
  },
  {
   "cell_type": "code",
   "execution_count": 4,
   "metadata": {},
   "outputs": [
    {
     "name": "stdout",
     "output_type": "stream",
     "text": [
      "----------Generating Data----------\n",
      "{'action_type': 'switch', 'action_space_type': 'discrete', 'obs_type': 'distance', 'lvl': 'hard', 'play_style': 'switch', 'reward_scheme': 'switch', 'exp_type': 'switch_analysis', 'learning_algo': 'PPO', 'exp_path': 'switching_analysis/', 'base_path': './play_style_models/base/'}\n",
      "switch-hard_switch_switch_switch_analysis_PPO\n",
      "----------Generating Data----------\n",
      "{'action_type': 'switch', 'action_space_type': 'discrete', 'obs_type': 'distance', 'lvl': 'hard', 'play_style': 'hard', 'reward_scheme': 'hard', 'exp_type': 'switch_analysis', 'learning_algo': 'PPO', 'exp_path': 'switching_analysis/', 'base_path': './play_style_models/base/'}\n",
      "switch-hard_hard_hard_switch_analysis_PPO\n",
      "----------Generating Data----------\n",
      "{'action_type': 'switch', 'action_space_type': 'discrete', 'obs_type': 'distance', 'lvl': 'hard', 'play_style': 'treasure', 'reward_scheme': 'treasure', 'exp_type': 'switch_analysis', 'learning_algo': 'PPO', 'exp_path': 'switching_analysis/', 'base_path': './play_style_models/base/'}\n",
      "switch-hard_treasure_treasure_switch_analysis_PPO\n",
      "----------Generating Data----------\n",
      "{'action_type': 'switch', 'action_space_type': 'discrete', 'obs_type': 'distance', 'lvl': 'hard', 'play_style': 'killer', 'reward_scheme': 'killer', 'exp_type': 'switch_analysis', 'learning_algo': 'PPO', 'exp_path': 'switching_analysis/', 'base_path': './play_style_models/base/'}\n",
      "switch-hard_killer_killer_switch_analysis_PPO\n",
      "----------Generating Data----------\n",
      "{'action_type': 'switch', 'action_space_type': 'discrete', 'obs_type': 'distance', 'lvl': 'hard', 'play_style': 'potion', 'reward_scheme': 'potion', 'exp_type': 'switch_analysis', 'learning_algo': 'PPO', 'exp_path': 'switching_analysis/', 'base_path': './play_style_models/base/'}\n",
      "switch-hard_potion_potion_switch_analysis_PPO\n",
      "----------Generating Data----------\n",
      "{'action_type': 'switch', 'action_space_type': 'discrete', 'obs_type': 'distance', 'lvl': 'hard', 'play_style': 'runner', 'reward_scheme': 'runner', 'exp_type': 'switch_analysis', 'learning_algo': 'PPO', 'exp_path': 'switching_analysis/', 'base_path': './play_style_models/base/'}\n",
      "switch-hard_runner_runner_switch_analysis_PPO\n"
     ]
    }
   ],
   "source": [
    "lvl_list =[\n",
    "    \"hard\",\n",
    "    # \"check_1\",\n",
    "    # \"holmgard_0\",\n",
    "    # \"holmgard_1\",\n",
    "    # \"holmgard_2\",\n",
    "    # \"holmgard_3\",\n",
    "    # \"holmgard_4\",\n",
    "    # \"holmgard_5\",\n",
    "    # \"holmgard_6\",\n",
    "    # \"holmgard_7\",\n",
    "    # # # \"holmgard_8\",\n",
    "    # \"holmgard_9\",\n",
    "]\n",
    "\n",
    "game_data, df_data, df_train, df_test, simp_data =gen_analysis_data(lvl_list)"
   ]
  },
  {
   "cell_type": "code",
   "execution_count": 5,
   "metadata": {},
   "outputs": [
    {
     "name": "stdout",
     "output_type": "stream",
     "text": [
      "switch\n",
      "0       [-1.4176838, -1.3527068, -2.507051, 4.5917835]\n",
      "1      [-1.4181141, -1.3475486, -2.5040288, 4.5851736]\n",
      "2       [-1.3892903, -1.4377325, -2.5450811, 4.675839]\n",
      "3       [-1.3904492, -1.4365312, -2.5449631, 4.675533]\n",
      "4       [-1.3923558, -1.434432, -2.5446928, 4.6748605]\n",
      "                            ...                       \n",
      "405    [3.080767, -1.3820097, 0.27153894, -0.96458954]\n",
      "406     [3.080767, -1.3820099, 0.2715389, -0.96458954]\n",
      "407     [3.080767, -1.3820099, 0.2715389, -0.96458954]\n",
      "408    [3.080767, -1.3820099, 0.27153888, -0.96458954]\n",
      "409     [3.080767, -1.3820099, 0.2715389, -0.96458954]\n",
      "Name: curr_obs, Length: 410, dtype: object\n",
      "[ 0.7375278 -1.5325549 -1.4994874  2.3702395]\n"
     ]
    },
    {
     "ename": "NotImplementedError",
     "evalue": "Conversion 'py2rpy' not defined for objects of type '<class 'numpy.ndarray'>'",
     "output_type": "error",
     "traceback": [
      "\u001b[0;31m---------------------------------------------------------------------------\u001b[0m",
      "\u001b[0;31mNotImplementedError\u001b[0m                       Traceback (most recent call last)",
      "Cell \u001b[0;32mIn[5], line 1\u001b[0m\n\u001b[0;32m----> 1\u001b[0m \u001b[43mgen_groupshap_data\u001b[49m\u001b[43m(\u001b[49m\u001b[43mlvl_list\u001b[49m\u001b[43m,\u001b[49m\u001b[43mdf_data\u001b[49m\u001b[43m,\u001b[49m\u001b[38;5;124;43m\"\u001b[39;49m\u001b[38;5;124;43mkernel\u001b[39;49m\u001b[38;5;124;43m\"\u001b[39;49m\u001b[43m)\u001b[49m\n",
      "Cell \u001b[0;32mIn[3], line 169\u001b[0m, in \u001b[0;36mgen_groupshap_data\u001b[0;34m(lvl_list, df, explainer_type)\u001b[0m\n\u001b[1;32m    167\u001b[0m \u001b[38;5;28mprint\u001b[39m(dfy_train\u001b[38;5;241m.\u001b[39mmean())\n\u001b[1;32m    168\u001b[0m \u001b[38;5;28;01mif\u001b[39;00m explainer_type \u001b[38;5;241m==\u001b[39m \u001b[38;5;124m\"\u001b[39m\u001b[38;5;124mkernel\u001b[39m\u001b[38;5;124m\"\u001b[39m:\n\u001b[0;32m--> 169\u001b[0m     df_shapley, pred_explain, internal, timing \u001b[38;5;241m=\u001b[39m \u001b[43mexplain\u001b[49m\u001b[43m(\u001b[49m\n\u001b[1;32m    170\u001b[0m \u001b[43m        \u001b[49m\u001b[43mmodel\u001b[49m\u001b[38;5;241;43m=\u001b[39;49m\u001b[43mmodel\u001b[49m\u001b[43m,\u001b[49m\n\u001b[1;32m    171\u001b[0m \u001b[43m        \u001b[49m\u001b[43mx_train\u001b[49m\u001b[38;5;241;43m=\u001b[39;49m\u001b[43mdf_train\u001b[49m\u001b[43m,\u001b[49m\n\u001b[1;32m    172\u001b[0m \u001b[43m        \u001b[49m\u001b[43mx_explain\u001b[49m\u001b[38;5;241;43m=\u001b[39;49m\u001b[43mdf_train\u001b[49m\u001b[43m,\u001b[49m\n\u001b[1;32m    173\u001b[0m \u001b[43m        \u001b[49m\u001b[43mapproach\u001b[49m\u001b[38;5;241;43m=\u001b[39;49m\u001b[38;5;124;43m'\u001b[39;49m\u001b[38;5;124;43memperical\u001b[39;49m\u001b[38;5;124;43m'\u001b[39;49m\u001b[43m,\u001b[49m\n\u001b[1;32m    174\u001b[0m \u001b[43m        \u001b[49m\u001b[43mpredict_model\u001b[49m\u001b[38;5;241;43m=\u001b[39;49m\u001b[43m \u001b[49m\u001b[38;5;28;43;01mlambda\u001b[39;49;00m\u001b[43m \u001b[49m\u001b[43mx\u001b[49m\u001b[43m:\u001b[49m\u001b[43m \u001b[49m\u001b[43mmodel\u001b[49m\u001b[38;5;241;43m.\u001b[39;49m\u001b[43mforward\u001b[49m\u001b[43m(\u001b[49m\u001b[43mVariable\u001b[49m\u001b[43m(\u001b[49m\u001b[43mtorch\u001b[49m\u001b[38;5;241;43m.\u001b[39;49m\u001b[43mfrom_numpy\u001b[49m\u001b[43m(\u001b[49m\u001b[43mx\u001b[49m\u001b[38;5;241;43m.\u001b[39;49m\u001b[43mvalues\u001b[49m\u001b[43m)\u001b[49m\u001b[43m,\u001b[49m\u001b[43mrequires_grad\u001b[49m\u001b[38;5;241;43m=\u001b[39;49m\u001b[38;5;28;43;01mFalse\u001b[39;49;00m\u001b[43m)\u001b[49m\u001b[38;5;241;43m.\u001b[39;49m\u001b[43mto\u001b[49m\u001b[43m(\u001b[49m\u001b[43mfloat32\u001b[49m\u001b[43m)\u001b[49m\u001b[43m)\u001b[49m\u001b[38;5;241;43m.\u001b[39;49m\u001b[43mdetach\u001b[49m\u001b[43m(\u001b[49m\u001b[43m)\u001b[49m\u001b[38;5;241;43m.\u001b[39;49m\u001b[43mcpu\u001b[49m\u001b[43m(\u001b[49m\u001b[43m)\u001b[49m\u001b[38;5;241;43m.\u001b[39;49m\u001b[43mnumpy\u001b[49m\u001b[43m(\u001b[49m\u001b[43m)\u001b[49m\u001b[43m,\u001b[49m\n\u001b[1;32m    175\u001b[0m \u001b[43m        \u001b[49m\u001b[43mprediction_zero\u001b[49m\u001b[38;5;241;43m=\u001b[39;49m\u001b[43mdfy_train\u001b[49m\u001b[38;5;241;43m.\u001b[39;49m\u001b[43mmean\u001b[49m\u001b[43m(\u001b[49m\u001b[43m)\u001b[49m\u001b[43m,\u001b[49m\n\u001b[1;32m    176\u001b[0m \u001b[43m        \u001b[49m\u001b[43moutput_size\u001b[49m\u001b[38;5;241;43m=\u001b[39;49m\u001b[38;5;241;43m4\u001b[39;49m\n\u001b[1;32m    177\u001b[0m \u001b[43m    \u001b[49m\u001b[43m)\u001b[49m\n\u001b[1;32m    178\u001b[0m     f \u001b[38;5;241m=\u001b[39m \u001b[38;5;28;01mlambda\u001b[39;00m x: model\u001b[38;5;241m.\u001b[39mforward(Variable(torch\u001b[38;5;241m.\u001b[39mfrom_numpy(x),requires_grad\u001b[38;5;241m=\u001b[39m\u001b[38;5;28;01mFalse\u001b[39;00m)\u001b[38;5;241m.\u001b[39mto(float32)\u001b[38;5;241m.\u001b[39mcuda())\u001b[38;5;241m.\u001b[39mdetach()\u001b[38;5;241m.\u001b[39mcpu()\u001b[38;5;241m.\u001b[39mnumpy()\n\u001b[1;32m    179\u001b[0m \u001b[38;5;28;01melse\u001b[39;00m:\n",
      "File \u001b[0;32m~/Masters/gym-md/shapr/python/shaprpy/explain.py:120\u001b[0m, in \u001b[0;36mexplain\u001b[0;34m(model, x_explain, x_train, approach, prediction_zero, n_combinations, group, n_samples, n_batches, seed, keep_samp_for_vS, predict_model, get_model_specs, timing, output_size, verbose)\u001b[0m\n\u001b[1;32m    117\u001b[0m \u001b[38;5;28;01melse\u001b[39;00m:\n\u001b[1;32m    118\u001b[0m   r_group \u001b[38;5;241m=\u001b[39m ListVector({key: StrVector(value) \u001b[38;5;28;01mfor\u001b[39;00m key, value \u001b[38;5;129;01min\u001b[39;00m group\u001b[38;5;241m.\u001b[39mitems()})\n\u001b[0;32m--> 120\u001b[0m rinternal \u001b[38;5;241m=\u001b[39m \u001b[43mshapr\u001b[49m\u001b[38;5;241;43m.\u001b[39;49m\u001b[43msetup\u001b[49m\u001b[43m(\u001b[49m\n\u001b[1;32m    121\u001b[0m \u001b[43m    \u001b[49m\u001b[43mx_train\u001b[49m\u001b[43m \u001b[49m\u001b[38;5;241;43m=\u001b[39;49m\u001b[43m \u001b[49m\u001b[43mpy2r\u001b[49m\u001b[43m(\u001b[49m\u001b[43mx_train\u001b[49m\u001b[43m)\u001b[49m\u001b[43m,\u001b[49m\n\u001b[1;32m    122\u001b[0m \u001b[43m    \u001b[49m\u001b[43mx_explain\u001b[49m\u001b[43m \u001b[49m\u001b[38;5;241;43m=\u001b[39;49m\u001b[43m \u001b[49m\u001b[43mpy2r\u001b[49m\u001b[43m(\u001b[49m\u001b[43mx_explain\u001b[49m\u001b[43m)\u001b[49m\u001b[43m,\u001b[49m\n\u001b[1;32m    123\u001b[0m \u001b[43m    \u001b[49m\u001b[43mapproach\u001b[49m\u001b[43m \u001b[49m\u001b[38;5;241;43m=\u001b[39;49m\u001b[43m \u001b[49m\u001b[43mapproach\u001b[49m\u001b[43m,\u001b[49m\n\u001b[1;32m    124\u001b[0m \u001b[43m    \u001b[49m\u001b[43mprediction_zero\u001b[49m\u001b[43m \u001b[49m\u001b[38;5;241;43m=\u001b[39;49m\u001b[43m \u001b[49m\u001b[43mprediction_zero\u001b[49m\u001b[43m,\u001b[49m\n\u001b[1;32m    125\u001b[0m \u001b[43m    \u001b[49m\u001b[43mn_combinations\u001b[49m\u001b[43m \u001b[49m\u001b[38;5;241;43m=\u001b[39;49m\u001b[43m \u001b[49m\u001b[43mmaybe_null\u001b[49m\u001b[43m(\u001b[49m\u001b[43mn_combinations\u001b[49m\u001b[43m)\u001b[49m\u001b[43m,\u001b[49m\n\u001b[1;32m    126\u001b[0m \u001b[43m    \u001b[49m\u001b[43mgroup\u001b[49m\u001b[43m \u001b[49m\u001b[38;5;241;43m=\u001b[39;49m\u001b[43m \u001b[49m\u001b[43mr_group\u001b[49m\u001b[43m,\u001b[49m\n\u001b[1;32m    127\u001b[0m \u001b[43m    \u001b[49m\u001b[43mn_samples\u001b[49m\u001b[43m \u001b[49m\u001b[38;5;241;43m=\u001b[39;49m\u001b[43m \u001b[49m\u001b[43mn_samples\u001b[49m\u001b[43m,\u001b[49m\n\u001b[1;32m    128\u001b[0m \u001b[43m    \u001b[49m\u001b[43mn_batches\u001b[49m\u001b[43m \u001b[49m\u001b[38;5;241;43m=\u001b[39;49m\u001b[43m \u001b[49m\u001b[43mmaybe_null\u001b[49m\u001b[43m(\u001b[49m\u001b[43mn_batches\u001b[49m\u001b[43m)\u001b[49m\u001b[43m,\u001b[49m\n\u001b[1;32m    129\u001b[0m \u001b[43m    \u001b[49m\u001b[43mseed\u001b[49m\u001b[43m \u001b[49m\u001b[38;5;241;43m=\u001b[39;49m\u001b[43m \u001b[49m\u001b[43mseed\u001b[49m\u001b[43m,\u001b[49m\n\u001b[1;32m    130\u001b[0m \u001b[43m    \u001b[49m\u001b[43mkeep_samp_for_vS\u001b[49m\u001b[43m \u001b[49m\u001b[38;5;241;43m=\u001b[39;49m\u001b[43m \u001b[49m\u001b[43mkeep_samp_for_vS\u001b[49m\u001b[43m,\u001b[49m\n\u001b[1;32m    131\u001b[0m \u001b[43m    \u001b[49m\u001b[43mfeature_specs\u001b[49m\u001b[43m \u001b[49m\u001b[38;5;241;43m=\u001b[39;49m\u001b[43m \u001b[49m\u001b[43mrfeature_specs\u001b[49m\u001b[43m,\u001b[49m\n\u001b[1;32m    132\u001b[0m \u001b[43m    \u001b[49m\u001b[43mtiming\u001b[49m\u001b[43m \u001b[49m\u001b[38;5;241;43m=\u001b[39;49m\u001b[43m \u001b[49m\u001b[43mtiming\u001b[49m\u001b[43m,\u001b[49m\n\u001b[1;32m    133\u001b[0m \u001b[43m    \u001b[49m\u001b[43mis_python\u001b[49m\u001b[38;5;241;43m=\u001b[39;49m\u001b[38;5;28;43;01mTrue\u001b[39;49;00m\u001b[43m,\u001b[49m\n\u001b[1;32m    134\u001b[0m \u001b[43m    \u001b[49m\u001b[43mverbose\u001b[49m\u001b[43m \u001b[49m\u001b[38;5;241;43m=\u001b[39;49m\u001b[43m \u001b[49m\u001b[38;5;241;43m1\u001b[39;49m\u001b[43m,\u001b[49m\n\u001b[1;32m    135\u001b[0m \u001b[43m    \u001b[49m\u001b[43moutput_size\u001b[49m\u001b[38;5;241;43m=\u001b[39;49m\u001b[43moutput_size\u001b[49m\n\u001b[1;32m    136\u001b[0m \u001b[43m\u001b[49m\u001b[43m)\u001b[49m\n\u001b[1;32m    138\u001b[0m timing_list[\u001b[38;5;124m\"\u001b[39m\u001b[38;5;124msetup\u001b[39m\u001b[38;5;124m\"\u001b[39m] \u001b[38;5;241m=\u001b[39m datetime\u001b[38;5;241m.\u001b[39mnow()\n\u001b[1;32m    140\u001b[0m predict_model \u001b[38;5;241m=\u001b[39m get_predict_model(\n\u001b[1;32m    141\u001b[0m   x_test \u001b[38;5;241m=\u001b[39m x_train\u001b[38;5;241m.\u001b[39mhead(\u001b[38;5;241m2\u001b[39m),\n\u001b[1;32m    142\u001b[0m   predict_model \u001b[38;5;241m=\u001b[39m predict_model,\n\u001b[1;32m    143\u001b[0m   model \u001b[38;5;241m=\u001b[39m model,\n\u001b[1;32m    144\u001b[0m )\n",
      "File \u001b[0;32m~/anaconda3/envs/groupshap/lib/python3.12/site-packages/rpy2/robjects/functions.py:208\u001b[0m, in \u001b[0;36mSignatureTranslatedFunction.__call__\u001b[0;34m(self, *args, **kwargs)\u001b[0m\n\u001b[1;32m    206\u001b[0m         v \u001b[38;5;241m=\u001b[39m kwargs\u001b[38;5;241m.\u001b[39mpop(k)\n\u001b[1;32m    207\u001b[0m         kwargs[r_k] \u001b[38;5;241m=\u001b[39m v\n\u001b[0;32m--> 208\u001b[0m \u001b[38;5;28;01mreturn\u001b[39;00m (\u001b[38;5;28;43msuper\u001b[39;49m\u001b[43m(\u001b[49m\u001b[43mSignatureTranslatedFunction\u001b[49m\u001b[43m,\u001b[49m\u001b[43m \u001b[49m\u001b[38;5;28;43mself\u001b[39;49m\u001b[43m)\u001b[49m\n\u001b[1;32m    209\u001b[0m \u001b[43m        \u001b[49m\u001b[38;5;241;43m.\u001b[39;49m\u001b[38;5;21;43m__call__\u001b[39;49m\u001b[43m(\u001b[49m\u001b[38;5;241;43m*\u001b[39;49m\u001b[43margs\u001b[49m\u001b[43m,\u001b[49m\u001b[43m \u001b[49m\u001b[38;5;241;43m*\u001b[39;49m\u001b[38;5;241;43m*\u001b[39;49m\u001b[43mkwargs\u001b[49m\u001b[43m)\u001b[49m)\n",
      "File \u001b[0;32m~/anaconda3/envs/groupshap/lib/python3.12/site-packages/rpy2/robjects/functions.py:130\u001b[0m, in \u001b[0;36mFunction.__call__\u001b[0;34m(self, *args, **kwargs)\u001b[0m\n\u001b[1;32m    128\u001b[0m         new_kwargs[k] \u001b[38;5;241m=\u001b[39m v\n\u001b[1;32m    129\u001b[0m     \u001b[38;5;28;01melse\u001b[39;00m:\n\u001b[0;32m--> 130\u001b[0m         new_kwargs[k] \u001b[38;5;241m=\u001b[39m \u001b[43mcv\u001b[49m\u001b[38;5;241;43m.\u001b[39;49m\u001b[43mpy2rpy\u001b[49m\u001b[43m(\u001b[49m\u001b[43mv\u001b[49m\u001b[43m)\u001b[49m\n\u001b[1;32m    131\u001b[0m res \u001b[38;5;241m=\u001b[39m \u001b[38;5;28msuper\u001b[39m(Function, \u001b[38;5;28mself\u001b[39m)\u001b[38;5;241m.\u001b[39m\u001b[38;5;21m__call__\u001b[39m(\u001b[38;5;241m*\u001b[39mnew_args, \u001b[38;5;241m*\u001b[39m\u001b[38;5;241m*\u001b[39mnew_kwargs)\n\u001b[1;32m    132\u001b[0m res \u001b[38;5;241m=\u001b[39m cv\u001b[38;5;241m.\u001b[39mrpy2py(res)\n",
      "File \u001b[0;32m~/anaconda3/envs/groupshap/lib/python3.12/functools.py:909\u001b[0m, in \u001b[0;36msingledispatch.<locals>.wrapper\u001b[0;34m(*args, **kw)\u001b[0m\n\u001b[1;32m    905\u001b[0m \u001b[38;5;28;01mif\u001b[39;00m \u001b[38;5;129;01mnot\u001b[39;00m args:\n\u001b[1;32m    906\u001b[0m     \u001b[38;5;28;01mraise\u001b[39;00m \u001b[38;5;167;01mTypeError\u001b[39;00m(\u001b[38;5;124mf\u001b[39m\u001b[38;5;124m'\u001b[39m\u001b[38;5;132;01m{\u001b[39;00mfuncname\u001b[38;5;132;01m}\u001b[39;00m\u001b[38;5;124m requires at least \u001b[39m\u001b[38;5;124m'\u001b[39m\n\u001b[1;32m    907\u001b[0m                     \u001b[38;5;124m'\u001b[39m\u001b[38;5;124m1 positional argument\u001b[39m\u001b[38;5;124m'\u001b[39m)\n\u001b[0;32m--> 909\u001b[0m \u001b[38;5;28;01mreturn\u001b[39;00m \u001b[43mdispatch\u001b[49m\u001b[43m(\u001b[49m\u001b[43margs\u001b[49m\u001b[43m[\u001b[49m\u001b[38;5;241;43m0\u001b[39;49m\u001b[43m]\u001b[49m\u001b[38;5;241;43m.\u001b[39;49m\u001b[38;5;18;43m__class__\u001b[39;49m\u001b[43m)\u001b[49m\u001b[43m(\u001b[49m\u001b[38;5;241;43m*\u001b[39;49m\u001b[43margs\u001b[49m\u001b[43m,\u001b[49m\u001b[43m \u001b[49m\u001b[38;5;241;43m*\u001b[39;49m\u001b[38;5;241;43m*\u001b[39;49m\u001b[43mkw\u001b[49m\u001b[43m)\u001b[49m\n",
      "File \u001b[0;32m~/anaconda3/envs/groupshap/lib/python3.12/site-packages/rpy2/robjects/conversion.py:240\u001b[0m, in \u001b[0;36m_py2rpy\u001b[0;34m(obj)\u001b[0m\n\u001b[1;32m    238\u001b[0m \u001b[38;5;28;01mif\u001b[39;00m \u001b[38;5;28misinstance\u001b[39m(obj, _rinterface_capi\u001b[38;5;241m.\u001b[39mSupportsSEXP):\n\u001b[1;32m    239\u001b[0m     \u001b[38;5;28;01mreturn\u001b[39;00m obj\n\u001b[0;32m--> 240\u001b[0m \u001b[38;5;28;01mraise\u001b[39;00m \u001b[38;5;167;01mNotImplementedError\u001b[39;00m(\n\u001b[1;32m    241\u001b[0m     \u001b[38;5;124m\"\u001b[39m\u001b[38;5;124mConversion \u001b[39m\u001b[38;5;124m'\u001b[39m\u001b[38;5;124mpy2rpy\u001b[39m\u001b[38;5;124m'\u001b[39m\u001b[38;5;124m not defined for objects of type \u001b[39m\u001b[38;5;124m'\u001b[39m\u001b[38;5;132;01m%s\u001b[39;00m\u001b[38;5;124m'\u001b[39m\u001b[38;5;124m\"\u001b[39m \u001b[38;5;241m%\u001b[39m\n\u001b[1;32m    242\u001b[0m     \u001b[38;5;28mstr\u001b[39m(\u001b[38;5;28mtype\u001b[39m(obj))\n\u001b[1;32m    243\u001b[0m )\n",
      "\u001b[0;31mNotImplementedError\u001b[0m: Conversion 'py2rpy' not defined for objects of type '<class 'numpy.ndarray'>'"
     ]
    }
   ],
   "source": [
    "gen_groupshap_data(lvl_list,df_data,\"kernel\")"
   ]
  },
  {
   "cell_type": "markdown",
   "metadata": {},
   "source": [
    "##### New model"
   ]
  },
  {
   "cell_type": "code",
   "execution_count": 49,
   "metadata": {},
   "outputs": [],
   "source": [
    "class sb3Wrapper(nn.Module):\n",
    "    def __init__(self, model):\n",
    "        super(sb3Wrapper,self).__init__()\n",
    "        self.extractor = model.policy.mlp_extractor\n",
    "        self.policy_net = model.policy.mlp_extractor.policy_net\n",
    "        self.action_net = model.policy.action_net\n",
    "\n",
    "    def forward(self,x):\n",
    "        x = self.policy_net(x)\n",
    "        x = self.action_net(x)\n",
    "        return x\n",
    "    \n",
    "def gen_data(config):   \n",
    "    print('----------Generating Data----------')\n",
    "    \n",
    "    # set variables\n",
    "    data =[]\n",
    "    action_type = config['action_type']\n",
    "    exp_type =config['exp_type']\n",
    "    lvl = config['lvl']\n",
    "    play_style= config['play_style']\n",
    "    reward_scheme=config['reward_scheme']\n",
    "    algo= config['learning_algo']\n",
    "    path = config['exp_path']\n",
    "\n",
    "    if action_type == 'switch':\n",
    "        exp = f\"{action_type}-{lvl}_{play_style}_{reward_scheme}_{exp_type}_{algo}\"\n",
    "        env = gym.make(f\"md-switch-{lvl}-v0\",config=config)\n",
    "    elif config['obs_type'] =='grid':\n",
    "        exp = f\"{action_type}-{lvl}_{play_style}_{reward_scheme}_{exp_type}_{algo}\"\n",
    "        env = gym.make(f\"md-switch-{lvl}-v0\",config=config)\n",
    "    else:\n",
    "        env = gym.make(f\"md-{lvl}-v0\")\n",
    "        exp = f\"{lvl}_{play_style}_{reward_scheme}_{exp_type}\"\n",
    "\n",
    "\n",
    "    env.setting.IS_ENEMY_POWER_RANDOM =False\n",
    "    if play_style=='killer':\n",
    "        env.setting.PLAYER_MAX_HP = 10000\n",
    "\n",
    "    print(exp)\n",
    "    if action_type =='base':\n",
    "        model = PPO.load(f\"{path}/{play_style}.zip\")  # loading the model from ppo_cartpole.zip \n",
    "    elif action_type == 'path':\n",
    "        model = PPO.load(f\"logs/{path}/{exp}/best_model/best_model\") \n",
    "    elif algo == 'DQN':\n",
    "        model = DQN.load(f\"logs/{path}/{exp}/{play_style}/best_model\")  # loading the model from ppo_cartpole.zip \n",
    "    else:\n",
    "        model = PPO.load(f\"logs/{path}/{exp}/{play_style}/best_model\")  # loading the model from ppo_cartpole.zip \n",
    "                                                                                     \n",
    "    curr_obs = env.reset()  \n",
    "    curr_grid = np.array(env.grid.g)\n",
    "    # data.append([exp, lvl, 0, -1, env.agent.x, env.agent.y, env.agent.hp, start_grid, play_style, \"NO_ACTION\",curr_obs, curr_obs, False, 0, dict(env.info),start_grid.shape[0],start_grid.shape[1]])\n",
    "\n",
    "    for ep in range(5):                                                                    \n",
    "        for i in range(1000): \n",
    "            agent_x = env.agent.x\n",
    "            agent_y = env.agent.y\n",
    "            agent_hp = env.agent.hp                                                                  \n",
    "            action, _state = model.predict(curr_obs, deterministic=True) \n",
    "            action = action.tolist()                  \n",
    "            obs, reward, done, info = env.step(action) \n",
    "            grid= np.array(env.grid.g)  \n",
    "            data.append([exp, lvl, ep,i, agent_x, agent_y, agent_hp, curr_grid,grid, play_style, info['action_taken'],curr_obs, obs, done, reward, dict(info),grid.shape[0],grid.shape[1]])\n",
    "                                                \n",
    "            # env.render(mode='human')                                                                        \n",
    "            if done:                                                                            \n",
    "                obs = env.reset()\n",
    "                break\n",
    "\n",
    "            curr_obs= obs\n",
    "            curr_grid = grid\n",
    "                \n",
    "    return data\n",
    "\n",
    "def merge_data(data_list, type:str):\n",
    "    data = None\n",
    "    if type == 'array':\n",
    "        # print(data_list[0])\n",
    "        data = np.asarray(data_list[0],dtype=\"object\")\n",
    "        for i in range(1,len(data_list)):\n",
    "            data = np.concatenate((data,np.asarray(data_list[i],dtype=\"object\")))\n",
    "    elif type == 'dataframe':\n",
    "        data = pd.concat(data_list,ignore_index=True)\n",
    "    else:\n",
    "        assert(\"data needs to be array or dataframe\")\n",
    "    return data\n",
    "\n",
    "def prep_data(df):\n",
    "    obs_names = ['DM', 'DT', 'SDT', 'DP', 'SDP', 'DE', 'SDE', 'HP']\n",
    "    # need train and test data, train will be used in the train param and test will be used in explain param\n",
    "    # first get data into right format\n",
    "    data = df[['curr_obs','action']]\n",
    "    data[obs_names] = pd.DataFrame(data.curr_obs.tolist(), index= data.index)\n",
    "    # Split data \n",
    "    dfx_train, dfx_test,dfy_train,dfy_test = train_test_split(data[obs_names],data['action'], random_state=42, test_size=5)\n",
    "    # make dfx_test data\n",
    "    return dfx_train, dfx_test, data\n",
    "\n",
    "def gen_analysis_data(lvl_list):\n",
    "    #take in list of levels and the loothrough them\n",
    "    df_list = []\n",
    "    df_data_list = []\n",
    "    df_shap_list= []\n",
    "    data_list = []\n",
    "    for lvl in lvl_list:\n",
    "        configs = gen_config(lvl =lvl,algo =\"PPO\",obs_type=\"distance\", exp_type=\"switch_analysis\",switch_path=\"switching_analysis/\",base_path=\"./play_style_models/base/\")\n",
    "        for config in configs[0:6]:\n",
    "            data =gen_data(config)\n",
    "            df = pd.DataFrame(data, columns=['experiment','level','run','step','x','y','hp','curr_grid','grid','play_style','action','curr_obs','observation','done','reward','info','grid_rows','grid_columns'])\n",
    "            data_list.append(data)\n",
    "            df_list.append(df)\n",
    "    \n",
    "    #TODO add code to merge the data list and df list into one data array and one df\n",
    "    # merge data \n",
    "    game_data = merge_data(data_list, type =\"array\")\n",
    "    df_data = merge_data(df_list,type=\"dataframe\")\n",
    "\n",
    "    # format data\n",
    "    df_train, df_test ,simp_data= prep_data(df_data)\n",
    "\n",
    "    #TODO remember to unshuffle data when merging shap to orig data\n",
    "    return game_data, df_data, df_train, df_test, simp_data\n",
    "\n",
    "def gen_groupshap_data(lvl_list,df,explainer_type:str):\n",
    "    # take in data and level list\n",
    "    # for each level gen config\n",
    "    df_shapley_list,pred_explain_list, internal_list, timing_list = [],[],[],[]\n",
    "    for lvl in lvl_list:\n",
    "        configs = gen_config(lvl =lvl,algo =\"PPO\",obs_type=\"distance\", exp_type=\"switch_analysis\",switch_path=\"switching_analysis_new_longer/\",base_path=\"./play_style_models/base/\")\n",
    "        for config in configs[0:6]:\n",
    "            algo =config['learning_algo']\n",
    "            path = config['exp_path']\n",
    "            #seperate dataframe based on config\n",
    "            print(config['play_style'])\n",
    "            #create temp df for thhe current level and playstyle config from the df parameter\n",
    "            df_curr = df.loc[(df['level']== lvl) & (df['play_style']== config['play_style'])]\n",
    "            print(f\"---------------------Groupshapley for {lvl}-{config['play_style']}-----------------\")\n",
    "            # format data\n",
    "            df_train, df_test ,simp_data= prep_data(df_curr)#TODO need convert back to dataframe alos check why they are not same type as input shap\n",
    "\n",
    "            #create correct model\n",
    "            if config['action_type'] == \"switch\":\n",
    "                exp = f\"{config['action_type']}-{lvl}_{config['play_style']}_{config['reward_scheme']}_{config['exp_type']}_{algo}\"\n",
    "                model_path = f\"logs/{path}/{exp}/{config['play_style']}/best_model\"\n",
    "            else:\n",
    "                exp = f\"{lvl}_{config['play_style']}_{config['reward_scheme']}_{config['exp_type']}\"\n",
    "                model_path = f\"logs/{path}/{exp}/best_model/best_model\"\n",
    "\n",
    "            if algo ==\"PPO\":\n",
    "                model = PPO.load(model_path, device='cpu')\n",
    "            elif config.algo =='DQN':\n",
    "                model = DQN.load(model_path, device='cuda')\n",
    "            state_log = np.array(df_curr['curr_obs'].values.tolist())\n",
    "            data =torch.FloatTensor(state_log).to('cpu')\n",
    "\n",
    "            \n",
    "            if config['obs_type']== 'grid':\n",
    "                model = grid_sb3Wrapper(model)\n",
    "            elif algo =='PPO':\n",
    "                model = sb3Wrapper(model)\n",
    "            elif algo == 'DQN':\n",
    "                model = sb3_DQN_wrapper(model)\n",
    "\n",
    "\n",
    "            #tensor\n",
    "            dfy_train = df_curr['curr_obs'].apply(lambda x: np.max(model.forward(Variable(torch.from_numpy(x),requires_grad=False).to(float32)).detach().numpy(),keepdims=True))\n",
    "\n",
    "            if explainer_type == \"kernel\":\n",
    "                df_shapley, pred_explain, internal, timing = explain(\n",
    "                    model=model,\n",
    "                    x_train=df_train,\n",
    "                    x_explain=df_test,\n",
    "                    approach='independence',\n",
    "                    predict_model= lambda m,x: np.max(m(torch.from_numpy(x.to_numpy()).to(float32)).detach().numpy(),keepdims=False,axis=1), #requires model and x as param\n",
    "                    prediction_zero=dfy_train.mean().item(),\n",
    "                )\n",
    "                df_shapley_list.append(df_shapley)\n",
    "                pred_explain_list.append(pred_explain)\n",
    "                internal_list.append(internal)\n",
    "                timing_list.append(timing)\n",
    "            else:\n",
    "                explainer = shap.DeepExplainer(model, data)\n",
    "                shap_vals= explainer.shap_values(data,check_additivity=True)\n",
    "            # make agent model\n",
    "            # extract correspoding dataframe\n",
    "            # gen groupshap values for that config\n",
    "            # add to dataframe\n",
    "    return df_shapley_list, pred_explain_list,internal_list,timing_list    "
   ]
  },
  {
   "cell_type": "code",
   "execution_count": 50,
   "metadata": {},
   "outputs": [
    {
     "name": "stdout",
     "output_type": "stream",
     "text": [
      "----------Generating Data----------\n",
      "{'action_type': 'switch', 'action_space_type': 'discrete', 'obs_type': 'distance', 'lvl': 'hard', 'play_style': 'switch', 'reward_scheme': 'switch', 'exp_type': 'switch_analysis', 'learning_algo': 'PPO', 'exp_path': 'switching_analysis/', 'base_path': './play_style_models/base/'}\n",
      "switch-hard_switch_switch_switch_analysis_PPO\n",
      "----------Generating Data----------\n",
      "{'action_type': 'switch', 'action_space_type': 'discrete', 'obs_type': 'distance', 'lvl': 'hard', 'play_style': 'hard', 'reward_scheme': 'hard', 'exp_type': 'switch_analysis', 'learning_algo': 'PPO', 'exp_path': 'switching_analysis/', 'base_path': './play_style_models/base/'}\n",
      "switch-hard_hard_hard_switch_analysis_PPO\n",
      "----------Generating Data----------\n",
      "{'action_type': 'switch', 'action_space_type': 'discrete', 'obs_type': 'distance', 'lvl': 'hard', 'play_style': 'treasure', 'reward_scheme': 'treasure', 'exp_type': 'switch_analysis', 'learning_algo': 'PPO', 'exp_path': 'switching_analysis/', 'base_path': './play_style_models/base/'}\n",
      "switch-hard_treasure_treasure_switch_analysis_PPO\n",
      "----------Generating Data----------\n",
      "{'action_type': 'switch', 'action_space_type': 'discrete', 'obs_type': 'distance', 'lvl': 'hard', 'play_style': 'killer', 'reward_scheme': 'killer', 'exp_type': 'switch_analysis', 'learning_algo': 'PPO', 'exp_path': 'switching_analysis/', 'base_path': './play_style_models/base/'}\n",
      "switch-hard_killer_killer_switch_analysis_PPO\n",
      "----------Generating Data----------\n",
      "{'action_type': 'switch', 'action_space_type': 'discrete', 'obs_type': 'distance', 'lvl': 'hard', 'play_style': 'potion', 'reward_scheme': 'potion', 'exp_type': 'switch_analysis', 'learning_algo': 'PPO', 'exp_path': 'switching_analysis/', 'base_path': './play_style_models/base/'}\n",
      "switch-hard_potion_potion_switch_analysis_PPO\n",
      "----------Generating Data----------\n",
      "{'action_type': 'switch', 'action_space_type': 'discrete', 'obs_type': 'distance', 'lvl': 'hard', 'play_style': 'runner', 'reward_scheme': 'runner', 'exp_type': 'switch_analysis', 'learning_algo': 'PPO', 'exp_path': 'switching_analysis/', 'base_path': './play_style_models/base/'}\n",
      "switch-hard_runner_runner_switch_analysis_PPO\n"
     ]
    }
   ],
   "source": [
    "lvl_list =[\n",
    "    \"hard\",\n",
    "    # \"check_1\",\n",
    "    # \"holmgard_0\",\n",
    "    # \"holmgard_1\",\n",
    "    # \"holmgard_2\",\n",
    "    # \"holmgard_3\",\n",
    "    # \"holmgard_4\",\n",
    "    # \"holmgard_5\",\n",
    "    # \"holmgard_6\",\n",
    "    # \"holmgard_7\",\n",
    "    # # # \"holmgard_8\",\n",
    "    # \"holmgard_9\",\n",
    "]\n",
    "\n",
    "game_data, df_data, df_train, df_test, simp_data =gen_analysis_data(lvl_list)"
   ]
  },
  {
   "cell_type": "code",
   "execution_count": 30,
   "metadata": {},
   "outputs": [
    {
     "name": "stderr",
     "output_type": "stream",
     "text": [
      "R[write to console]: Note: You passed a model to explain() which is not natively supported, and did not supply a 'get_model_specs' function to explain().\n",
      "Consistency checks between model and data is therefore disabled.\n",
      "\n",
      "\n",
      "R[write to console]: Setting parameter 'n_batches' to 3 as a fair trade-off between memory consumption and computation time.\n",
      "Reducing 'n_batches' typically reduces the computation time at the cost of increased memory consumption.\n",
      "\n",
      "\n"
     ]
    },
    {
     "name": "stdout",
     "output_type": "stream",
     "text": [
      "switch\n",
      "---------------------Groupshapley for hard-switch-----------------\n",
      "<rpy2.rinterface.FloatSexpVector object at 0x7f9190addf50> [14]\n",
      "2\n"
     ]
    },
    {
     "name": "stderr",
     "output_type": "stream",
     "text": [
      "R[write to console]: Note: You passed a model to explain() which is not natively supported, and did not supply a 'get_model_specs' function to explain().\n",
      "Consistency checks between model and data is therefore disabled.\n",
      "\n",
      "\n",
      "R[write to console]: Setting parameter 'n_batches' to 3 as a fair trade-off between memory consumption and computation time.\n",
      "Reducing 'n_batches' typically reduces the computation time at the cost of increased memory consumption.\n",
      "\n",
      "\n"
     ]
    },
    {
     "name": "stdout",
     "output_type": "stream",
     "text": [
      "hard\n",
      "---------------------Groupshapley for hard-hard-----------------\n",
      "<rpy2.rinterface.FloatSexpVector object at 0x7f918a9d25d0> [14]\n",
      "2\n"
     ]
    },
    {
     "name": "stderr",
     "output_type": "stream",
     "text": [
      "R[write to console]: Note: You passed a model to explain() which is not natively supported, and did not supply a 'get_model_specs' function to explain().\n",
      "Consistency checks between model and data is therefore disabled.\n",
      "\n",
      "\n",
      "R[write to console]: Setting parameter 'n_batches' to 3 as a fair trade-off between memory consumption and computation time.\n",
      "Reducing 'n_batches' typically reduces the computation time at the cost of increased memory consumption.\n",
      "\n",
      "\n"
     ]
    },
    {
     "name": "stdout",
     "output_type": "stream",
     "text": [
      "treasure\n",
      "---------------------Groupshapley for hard-treasure-----------------\n",
      "<rpy2.rinterface.FloatSexpVector object at 0x7f918a65fad0> [14]\n",
      "2\n"
     ]
    },
    {
     "name": "stderr",
     "output_type": "stream",
     "text": [
      "R[write to console]: Note: You passed a model to explain() which is not natively supported, and did not supply a 'get_model_specs' function to explain().\n",
      "Consistency checks between model and data is therefore disabled.\n",
      "\n",
      "\n",
      "R[write to console]: Setting parameter 'n_batches' to 3 as a fair trade-off between memory consumption and computation time.\n",
      "Reducing 'n_batches' typically reduces the computation time at the cost of increased memory consumption.\n",
      "\n",
      "\n"
     ]
    },
    {
     "name": "stdout",
     "output_type": "stream",
     "text": [
      "killer\n",
      "---------------------Groupshapley for hard-killer-----------------\n",
      "<rpy2.rinterface.FloatSexpVector object at 0x7f918aad2650> [14]\n",
      "2\n"
     ]
    },
    {
     "name": "stderr",
     "output_type": "stream",
     "text": [
      "R[write to console]: Note: You passed a model to explain() which is not natively supported, and did not supply a 'get_model_specs' function to explain().\n",
      "Consistency checks between model and data is therefore disabled.\n",
      "\n",
      "\n",
      "R[write to console]: Setting parameter 'n_batches' to 3 as a fair trade-off between memory consumption and computation time.\n",
      "Reducing 'n_batches' typically reduces the computation time at the cost of increased memory consumption.\n",
      "\n",
      "\n"
     ]
    },
    {
     "name": "stdout",
     "output_type": "stream",
     "text": [
      "potion\n",
      "---------------------Groupshapley for hard-potion-----------------\n",
      "<rpy2.rinterface.FloatSexpVector object at 0x7f91908949d0> [14]\n",
      "2\n"
     ]
    },
    {
     "name": "stderr",
     "output_type": "stream",
     "text": [
      "R[write to console]: Note: You passed a model to explain() which is not natively supported, and did not supply a 'get_model_specs' function to explain().\n",
      "Consistency checks between model and data is therefore disabled.\n",
      "\n",
      "\n",
      "R[write to console]: Setting parameter 'n_batches' to 3 as a fair trade-off between memory consumption and computation time.\n",
      "Reducing 'n_batches' typically reduces the computation time at the cost of increased memory consumption.\n",
      "\n",
      "\n"
     ]
    },
    {
     "name": "stdout",
     "output_type": "stream",
     "text": [
      "runner\n",
      "---------------------Groupshapley for hard-runner-----------------\n",
      "<rpy2.rinterface.FloatSexpVector object at 0x7f918a5452d0> [14]\n",
      "2\n"
     ]
    }
   ],
   "source": [
    "shap_df, pred_data, internal_data, timing_data=gen_groupshap_data(lvl_list,df_data,\"kernel\")\n"
   ]
  },
  {
   "cell_type": "code",
   "execution_count": 31,
   "metadata": {},
   "outputs": [
    {
     "name": "stdout",
     "output_type": "stream",
     "text": [
      "[       none        DM        DT       SDT        DP       SDP        DE  \\\n",
      "1  3.942597  0.064681 -0.013864 -0.009783  0.400184  0.133294 -0.009003   \n",
      "2  3.942597  0.049591  0.003206  0.003931 -0.530615 -0.077961 -0.003376   \n",
      "3  3.942597  0.066020 -0.016319 -0.011995  0.400738  0.134778 -0.006258   \n",
      "4  3.942597  0.070015  0.009359  0.004085  0.384841  0.184723  0.000266   \n",
      "5  3.942597  0.049566  0.006950  0.004851 -0.532674 -0.099066  0.000809   \n",
      "\n",
      "        SDE        HP  \n",
      "1  0.076358 -0.002763  \n",
      "2 -0.030317 -0.013304  \n",
      "3  0.077391 -0.001852  \n",
      "4  0.068673  0.010682  \n",
      "5 -0.030317  0.001036  ,        none        DM        DT       SDT        DP       SDP        DE  \\\n",
      "1  3.656324 -0.000412 -0.000365  0.325063 -0.000430 -0.004837 -0.004732   \n",
      "2  3.656324 -0.000412 -0.000365  0.325063 -0.000430 -0.004837 -0.004732   \n",
      "3  3.656324 -0.000216 -0.000216 -0.807359 -0.000216 -0.000216 -0.000216   \n",
      "4  3.656324 -0.000593  0.003576  0.271608  0.001022  0.006971  0.008290   \n",
      "5  3.656324 -0.001071 -0.003393  0.321827 -0.000829 -0.007251 -0.004610   \n",
      "\n",
      "        SDE        HP  \n",
      "1  0.322095  0.002989  \n",
      "2  0.322095  0.002989  \n",
      "3 -0.009315 -0.000216  \n",
      "4 -1.046520 -0.008554  \n",
      "5  0.331644  0.003054  ,        none        DM        DT       SDT            DP       SDP        DE  \\\n",
      "1  3.124172  0.002684  0.243633  0.955934  2.049832e-04 -0.000256 -0.003424   \n",
      "2  3.124172  0.000722 -0.599659 -0.576643  7.945156e-04 -0.000914  0.002009   \n",
      "3  3.124172 -0.002323 -0.071150 -1.177316 -3.777055e-04 -0.005728 -0.000078   \n",
      "4  3.124172  0.001766  0.223601  1.005965  2.431716e-04 -0.004485 -0.001710   \n",
      "5  3.124172  0.004485  0.240792  0.970900  9.017825e-07  0.000483 -0.005791   \n",
      "\n",
      "        SDE        HP  \n",
      "1  0.137876 -0.017932  \n",
      "2 -0.007176  0.031065  \n",
      "3  0.047703  0.098662  \n",
      "4  0.120851 -0.027511  \n",
      "5  0.130256 -0.022404  ,        none        DM        DT       SDT        DP       SDP        DE  \\\n",
      "1  3.344561  0.009908 -0.000074 -0.000074 -0.000074 -0.000074 -0.000074   \n",
      "2  3.344561  0.009908 -0.000074 -0.000074 -0.000074 -0.000074 -0.000074   \n",
      "3  3.344561  0.009908 -0.000074 -0.000074 -0.000074 -0.000074 -0.000074   \n",
      "4  3.344561  0.009908 -0.000074 -0.000074 -0.000074 -0.000074 -0.000074   \n",
      "5  3.344561  0.009908 -0.000074 -0.000074 -0.000074 -0.000074 -0.000074   \n",
      "\n",
      "        SDE        HP  \n",
      "1  0.020399 -0.000074  \n",
      "2  0.020399 -0.000074  \n",
      "3  0.020399 -0.000074  \n",
      "4  0.020399 -0.000074  \n",
      "5  0.020399 -0.000074  ,        none        DM        DT       SDT        DP       SDP        DE  \\\n",
      "1  3.536422 -0.000152 -0.000848 -0.002217  0.263157  0.387118 -0.000502   \n",
      "2  3.536422  0.000988 -0.001086 -0.001761  0.257295  0.382540  0.000688   \n",
      "3  3.536422  0.000407 -0.000570 -0.002041  0.249385  0.408217 -0.001223   \n",
      "4  3.536422 -0.002123  0.000400 -0.001612  0.258008  0.379083 -0.000039   \n",
      "5  3.536422  0.003427 -0.000927 -0.001705  0.262187  0.386236 -0.001307   \n",
      "\n",
      "        SDE        HP  \n",
      "1  0.266716 -0.002202  \n",
      "2  0.275333 -0.002928  \n",
      "3  0.273977 -0.017084  \n",
      "4  0.277563 -0.000211  \n",
      "5  0.265793 -0.002636  ,        none        DM        DT       SDT        DP       SDP        DE  \\\n",
      "1  3.676162  0.000037 -0.001885 -0.000582  0.167555  0.318162 -0.001117   \n",
      "2  3.676162  0.000705 -0.002407 -0.001136  0.168458  0.319187  0.000748   \n",
      "3  3.676162  0.000766 -0.001070 -0.001089  0.169943  0.320839  0.000603   \n",
      "4  3.676162 -0.001217 -0.002118 -0.000659  0.166434  0.317087 -0.000177   \n",
      "5  3.676162  0.001086 -0.002452 -0.001453  0.168213  0.318888  0.000170   \n",
      "\n",
      "        SDE        HP  \n",
      "1  0.204833 -0.001314  \n",
      "2  0.201452 -0.001319  \n",
      "3  0.196132 -0.000435  \n",
      "4  0.208664 -0.002327  \n",
      "5  0.202556 -0.001319  ]\n"
     ]
    }
   ],
   "source": [
    "print(shap_df)\n",
    "df_shap = pd.concat(shap_df)"
   ]
  },
  {
   "cell_type": "markdown",
   "metadata": {},
   "source": [
    "### New and improved groupshap stuff"
   ]
  },
  {
   "cell_type": "code",
   "execution_count": 2,
   "metadata": {},
   "outputs": [],
   "source": [
    "class sb3Wrapper(nn.Module):\n",
    "    def __init__(self, model):\n",
    "        super(sb3Wrapper,self).__init__()\n",
    "        self.extractor = model.policy.mlp_extractor\n",
    "        self.policy_net = model.policy.mlp_extractor.policy_net\n",
    "        self.action_net = model.policy.action_net\n",
    "\n",
    "    def forward(self,x):\n",
    "        x = self.policy_net(x)\n",
    "        x = self.action_net(x)\n",
    "        return x\n",
    "\n",
    "def gen_config(lvl:str, algo:str, obs_type:str, exp_type:str,switch_path:str, base_path:str ='play_style_models/base/', which_model='best'):\n",
    "    model = None\n",
    "    if which_model =='latest':\n",
    "        model = 'best_model'\n",
    "    else:\n",
    "        model = 'latest_model_500000_steps'\n",
    "    config_switch ={\n",
    "        'action_type': 'switch',\n",
    "        'action_space_type': 'discrete',\n",
    "        'obs_type': f'{obs_type}',\n",
    "        'lvl': f'{lvl}',\n",
    "        'play_style': 'switch',\n",
    "        'reward_scheme': 'switch',\n",
    "        'exp_type': f'{exp_type}',\n",
    "        'learning_algo': f'{algo}',\n",
    "        'exp_path': f'{switch_path}',\n",
    "        'base_path': f'{base_path}',\n",
    "        'which_model': f'{model}',\n",
    "    }\n",
    "    config_hard ={\n",
    "        'action_type': 'switch',\n",
    "        'action_space_type': 'discrete',\n",
    "        'obs_type': f'{obs_type}',\n",
    "        'lvl': f'{lvl}',\n",
    "        'play_style': 'hard',\n",
    "        'reward_scheme': 'hard',\n",
    "        'exp_type': f'{exp_type}',\n",
    "        'learning_algo': f'{algo}',\n",
    "        'exp_path': f'{switch_path}',\n",
    "        'base_path': f'{base_path}',\n",
    "        'which_model': f'{model}',\n",
    "    }\n",
    "    config_treasure ={\n",
    "        'action_type': 'switch',\n",
    "        'action_space_type': 'discrete',\n",
    "        'obs_type': f'{obs_type}',\n",
    "        'lvl': f'{lvl}',\n",
    "        'play_style': 'treasure',\n",
    "        'reward_scheme': 'treasure',\n",
    "        'exp_type': f'{exp_type}',\n",
    "        'learning_algo': f'{algo}',\n",
    "        'exp_path': f'{switch_path}',\n",
    "        'base_path': f'{base_path}',\n",
    "        'which_model': f'{model}',\n",
    "    }\n",
    "    config_killer ={\n",
    "        'action_type': 'switch',\n",
    "        'action_space_type': 'discrete',\n",
    "        'obs_type': f'{obs_type}',\n",
    "        'lvl': f'{lvl}',\n",
    "        'play_style': 'killer',\n",
    "        'reward_scheme': 'killer',\n",
    "        'exp_type': f'{exp_type}',\n",
    "        'learning_algo': f'{algo}',\n",
    "        'exp_path': f'{switch_path}',\n",
    "        'base_path': f'{base_path}',\n",
    "        'which_model': f'{model}',\n",
    "    }\n",
    "    config_potion ={\n",
    "        'action_type': 'switch',\n",
    "        'action_space_type': 'discrete',\n",
    "        'obs_type': f'{obs_type}',\n",
    "        'lvl': f'{lvl}',\n",
    "        'play_style': 'potion',\n",
    "        'reward_scheme': 'potion',\n",
    "        'exp_type': f'{exp_type}',\n",
    "        'learning_algo': f'{algo}',\n",
    "        'exp_path': f'{switch_path}',\n",
    "        'base_path': f'{base_path}',\n",
    "        'which_model': f'{model}',\n",
    "    }\n",
    "    config_runner ={\n",
    "        'action_type': 'switch',\n",
    "        'action_space_type': 'discrete',\n",
    "        'obs_type': f'{obs_type}',\n",
    "        'lvl': f'{lvl}',\n",
    "        'play_style': 'runner',\n",
    "        'reward_scheme': 'runner',\n",
    "        'exp_type': f'{exp_type}',\n",
    "        'learning_algo': f'{algo}',\n",
    "        'exp_path': f'{switch_path}',\n",
    "        'base_path': f'{base_path}',\n",
    "        'which_model': f'{model}',\n",
    "    }\n",
    "    config_base_treasure={\n",
    "        'action_type': 'base',\n",
    "        'action_space_type': 'box',\n",
    "        'obs_type': f'{obs_type}',\n",
    "        'lvl': f'{lvl}',\n",
    "        'play_style': 'treasure',\n",
    "        'reward_scheme': 'fiftytwoFifty',\n",
    "        'exp_type': 'treasure',\n",
    "        'learning_algo': f'{algo}',\n",
    "        'exp_path': f'{base_path}',\n",
    "        'base_path': f'{base_path}',\n",
    "    }\n",
    "    config_base_killer={\n",
    "        'action_type': 'base',\n",
    "        'action_space_type': 'box',\n",
    "        'obs_type': f'{obs_type}',\n",
    "        'lvl': f'{lvl}',\n",
    "        'play_style': 'killer',\n",
    "        'reward_scheme': 'fiftytwoFifty',\n",
    "        'exp_type': 'killer',\n",
    "        'learning_algo':f'{algo}',\n",
    "        'exp_path': f'{base_path}',\n",
    "        'base_path': f'{base_path}',\n",
    "    }\n",
    "    config_base_potion={\n",
    "        'action_type': 'base',\n",
    "        'action_space_type': 'box',\n",
    "        'obs_type': f'{obs_type}',\n",
    "        'lvl': f'{lvl}',\n",
    "        'play_style': 'potion',\n",
    "        'reward_scheme': 'fiftytwoFifty',\n",
    "        'exp_type': 'potion',\n",
    "        'learning_algo': f'{algo}',\n",
    "        'exp_path': f'{base_path}',\n",
    "        'base_path': f'{base_path}',\n",
    "    }\n",
    "    config_base_runner={\n",
    "        'action_type': 'base',\n",
    "        'action_space_type': 'box',\n",
    "        'obs_type': f'{obs_type}',\n",
    "        'lvl': f'{lvl}',\n",
    "        'play_style': 'runner',\n",
    "        'reward_scheme': 'fiftytwoFifty',\n",
    "        'exp_type': 'runner',\n",
    "        'learning_algo': f'{algo}',\n",
    "        'exp_path': f'{base_path}',\n",
    "        'base_path': f'{base_path}',\n",
    "    }\n",
    "\n",
    "    return [config_switch, config_hard,config_treasure,config_killer, config_potion, config_runner, config_base_treasure, config_base_killer, config_base_potion, config_base_runner]\n",
    "\n",
    "def gen_data(config):   \n",
    "    print('----------Generating Data----------')\n",
    "    \n",
    "    # set variables\n",
    "    data =[]\n",
    "    action_type = config['action_type']\n",
    "    exp_type =config['exp_type']\n",
    "    lvl = config['lvl']\n",
    "    play_style= config['play_style']\n",
    "    reward_scheme=config['reward_scheme']\n",
    "    algo= config['learning_algo']\n",
    "    path = config['exp_path']\n",
    "    which_model = config['which_model'] #TODO added which model\n",
    "\n",
    "    if action_type == 'switch':\n",
    "        exp = f\"{action_type}-{lvl}_{play_style}_{reward_scheme}_{exp_type}_{algo}\"\n",
    "        env = gym.make(f\"md-switch-{lvl}-v0\",config=config)\n",
    "    elif config['obs_type'] =='grid':\n",
    "        exp = f\"{action_type}-{lvl}_{play_style}_{reward_scheme}_{exp_type}_{algo}\"\n",
    "        env = gym.make(f\"md-switch-{lvl}-v0\",config=config)\n",
    "    else:\n",
    "        env = gym.make(f\"md-{lvl}-v0\")\n",
    "        exp = f\"{lvl}_{play_style}_{reward_scheme}_{exp_type}\"\n",
    "\n",
    "\n",
    "    env.setting.IS_ENEMY_POWER_RANDOM =False\n",
    "    if play_style=='killer':\n",
    "        print('setting player HP')\n",
    "        env.setting.PLAYER_MAX_HP = 100\n",
    "\n",
    "    print(exp)\n",
    "    if action_type =='base':\n",
    "        model = PPO.load(f\"{path}/{play_style}.zip\")  # loading the model from ppo_cartpole.zip \n",
    "    elif action_type == 'path':\n",
    "        model = PPO.load(f\"logs/{path}/{exp}/best_model/best_model\") \n",
    "    elif algo == 'DQN':\n",
    "        model = DQN.load(f\"logs/{path}/{exp}/{play_style}/best_model\")  # loading the model from ppo_cartpole.zip \n",
    "    else:\n",
    "        model = PPO.load(f\"logs/{path}/{exp}/{play_style}/{which_model}\")  # loading the model from ppo_cartpole.zip  #TODO added which model\n",
    "                                                                                     \n",
    "    curr_obs = env.reset()  \n",
    "    curr_grid = np.array(env.grid.g)\n",
    "    # data.append([exp, lvl, 0, -1, env.agent.x, env.agent.y, env.agent.hp, start_grid, play_style, \"NO_ACTION\",curr_obs, curr_obs, False, 0, dict(env.info),start_grid.shape[0],start_grid.shape[1]])\n",
    "\n",
    "    for ep in range(5):                                                                    \n",
    "        for i in range(1000): \n",
    "            agent_x = env.agent.x\n",
    "            agent_y = env.agent.y\n",
    "            agent_hp = env.agent.hp\n",
    "            action, _state = model.predict(curr_obs, deterministic=True) \n",
    "            action = action.tolist()                  \n",
    "            obs, reward, done, info = env.step(action) \n",
    "            grid= np.array(env.grid.g)  \n",
    "            data.append([exp, lvl, ep,i, agent_x, agent_y, agent_hp, curr_grid,grid, play_style, info['action_taken'],curr_obs, obs, done, reward, dict(info),grid.shape[0],grid.shape[1]])\n",
    "                                                \n",
    "            # env.render(mode='human')                                                                        \n",
    "            if done:                                                                            \n",
    "                obs = env.reset()\n",
    "                break\n",
    "\n",
    "            curr_obs= obs\n",
    "            curr_grid = grid\n",
    "                \n",
    "    return data, model #TODO added model\n",
    "\n",
    "def merge_data(data_list, type:str):\n",
    "    data = None\n",
    "    if type == 'array':\n",
    "        # print(data_list[0])\n",
    "        data = np.asarray(data_list[0],dtype=\"object\")\n",
    "        for i in range(1,len(data_list)):\n",
    "            data = np.concatenate((data,np.asarray(data_list[i],dtype=\"object\")))\n",
    "    elif type == 'dataframe':\n",
    "        data = pd.concat(data_list,ignore_index=True)\n",
    "    else:\n",
    "        assert(\"data needs to be array or dataframe\")\n",
    "    return data\n",
    "\n",
    "def prep_data(df):\n",
    "    obs_names = ['DM', 'DT', 'SDT', 'DP', 'SDP', 'DE', 'SDE', 'HP']\n",
    "    # need train and test data, train will be used in the train param and test will be used in explain param\n",
    "    # first get data into right format\n",
    "    # print(df.tail())\n",
    "    # df_curr = df.loc[(df['run']==1)]\n",
    "    # print(df.head())\n",
    "    # data = df_cu[['curr_obs','action']]\n",
    "    \n",
    "    df[obs_names] = pd.DataFrame(df.curr_obs.tolist(), index= df.index)\n",
    "    # Split data \n",
    "    data = df\n",
    "    dfx_train, dfx_test,dfy_train,dfy_test = train_test_split(data[obs_names],data['action'], random_state=42, test_size=5,shuffle=False)\n",
    "    dfx_test = dfx_train.loc[(df['run']==0)]\n",
    "    # data = df_curr[['curr_obs','action']]\n",
    "    # df_curr = df.loc[(df['run']==1)]\n",
    "    # make dfx_test data  only 1 run \n",
    "    \n",
    "    return dfx_train[obs_names], dfx_test[obs_names], data\n",
    "\n",
    "def gen_analysis_data(lvl_list, config):#TODO added config param\n",
    "    #take in list of levels and the loothrough them\n",
    "    df_list = []\n",
    "    df_data_list = []\n",
    "    df_shap_list= []\n",
    "    data_list = []\n",
    "    for lvl in lvl_list:\n",
    "        configs = gen_config(lvl =lvl,algo =\"PPO\",obs_type=\"distance\", exp_type=\"switch_analysis\",switch_path=\"switching_analysis/\",base_path=\"./play_style_models/base/\")\n",
    "        for config in configs[0:6]:\n",
    "            data, model =gen_data(config) #TODO added model\n",
    "            df = pd.DataFrame(data, columns=['experiment','level','run','step','x','y','hp','curr_grid','grid','play_style','action','curr_obs','observation','done','reward','info','grid_rows','grid_columns'])\n",
    "            data_list.append(data)\n",
    "            df_list.append(df)\n",
    "    \n",
    "    #TODO add code to merge the data list and df list into one data array and one df\n",
    "    # merge data \n",
    "    game_data = merge_data(data_list, type =\"array\")\n",
    "    df_data = merge_data(df_list,type=\"dataframe\")\n",
    "\n",
    "    # format data\n",
    "    df_train, df_test ,simp_data= prep_data(df_data)\n",
    "\n",
    "    #TODO remember to unshuffle data when merging shap to orig data\n",
    "    return game_data, df_data, df_train, df_test, simp_data\n",
    "\n",
    "def gen_groupshap_data(lvl_list,df,explainer_type:str): #TODO fix this shit\n",
    "    # take in data and level list\n",
    "    # for each level gen config\n",
    "    df_shapley_list,pred_explain_list, internal_list, timing_list = [],[],[],[]\n",
    "    for lvl in lvl_list:\n",
    "        configs = gen_config(lvl =lvl,algo =\"PPO\",obs_type=\"distance\", exp_type=\"switch_analysis\",switch_path=\"switching_analysis_new_longer/\",base_path=\"./play_style_models/base/\")\n",
    "        for config in configs[0:6]:\n",
    "            algo =config['learning_algo']\n",
    "            path = config['exp_path']\n",
    "            #seperate dataframe based on config\n",
    "            print(config['play_style'])\n",
    "            #create temp df for thhe current level and playstyle config from the df parameter\n",
    "            df_curr = df.loc[(df['level']== lvl) & (df['play_style']== config['play_style'])]\n",
    "            print(f\"---------------------Groupshapley for {lvl}-{config['play_style']}-----------------\")\n",
    "            # format data\n",
    "            df_train, df_test ,simp_data= prep_data(df_curr)#TODO need convert back to dataframe alos check why they are not same type as input shap\n",
    "\n",
    "            #create correct model\n",
    "            if config['action_type'] == \"switch\":\n",
    "                exp = f\"{config['action_type']}-{lvl}_{config['play_style']}_{config['reward_scheme']}_{config['exp_type']}_{algo}\"\n",
    "                model_path = f\"logs/{path}/{exp}/{config['play_style']}/best_model\"\n",
    "            else:\n",
    "                exp = f\"{lvl}_{config['play_style']}_{config['reward_scheme']}_{config['exp_type']}\"\n",
    "                model_path = f\"logs/{path}/{exp}/best_model/best_model\"\n",
    "\n",
    "            if algo ==\"PPO\":\n",
    "                model = PPO.load(model_path, device='cpu')\n",
    "            elif config.algo =='DQN':\n",
    "                model = DQN.load(model_path, device='cuda')\n",
    "            state_log = np.array(df_curr['curr_obs'].values.tolist())\n",
    "            data =torch.FloatTensor(state_log).to('cpu')\n",
    "\n",
    "            \n",
    "            if config['obs_type']== 'grid':\n",
    "                model = grid_sb3Wrapper(model)\n",
    "            elif algo =='PPO':\n",
    "                model = sb3Wrapper(model)\n",
    "            elif algo == 'DQN':\n",
    "                model = sb3_DQN_wrapper(model)\n",
    "\n",
    "\n",
    "            #tensor\n",
    "            dfy_train = df_curr['curr_obs'].apply(lambda x: np.max(model.forward(Variable(torch.from_numpy(x),requires_grad=False).to(float32)).detach().numpy(),keepdims=True))\n",
    "            print(dfy_train)\n",
    "            if explainer_type == \"kernel\":\n",
    "                df_shapley, pred_explain, internal, timing = explain(\n",
    "                    model=model,\n",
    "                    x_train=df_train,\n",
    "                    x_explain=df_test,\n",
    "                    approach='independence',\n",
    "                    predict_model= lambda m,x: np.max(m(torch.from_numpy(x.to_numpy()).to(float32)).detach().numpy(),keepdims=False,axis=1), #requires model and x as param\n",
    "                    prediction_zero=dfy_train.mean().item(),\n",
    "                )\n",
    "                df_shapley_list.append(df_shapley)\n",
    "                pred_explain_list.append(pred_explain)\n",
    "                internal_list.append(internal)\n",
    "                timing_list.append(timing)\n",
    "            else:\n",
    "                explainer = shap.DeepExplainer(model, data)\n",
    "                shap_vals= explainer.shap_values(data,check_additivity=True)\n",
    "            # make agent model\n",
    "            # extract correspoding dataframe\n",
    "            # gen groupshap values for that config\n",
    "            # add to dataframe\n",
    "    return df_shapley_list, pred_explain_list,internal_list,timing_list\n",
    "\n",
    "def groupShap(lvl_list,base_config,approach= 'independence', group= None):\n",
    "    # init lists\n",
    "    df_shapley_list,pred_explain_list, internal_list, timing_list = [],[],[],[]\n",
    "    for lvl in lvl_list:\n",
    "        #gen configs\n",
    "        configs = gen_config(lvl=lvl,algo=base_config['algo'],obs_type=base_config['obs_type'],exp_type=base_config['exp_type'],base_path= base_config['base_path'],which_model=base_config['which_model'])\n",
    "        for config in configs[0:6]:\n",
    "            data, model = gen_data(config)\n",
    "            algo =config['learning_algo']\n",
    "            # prep data\n",
    "            df = pd.DataFrame(data, columns=['experiment','level','run','step','x','y','hp','curr_grid','grid','play_style','action','curr_obs','observation','done','reward','info','grid_rows','grid_columns'])\n",
    "            #TODO remember to do the todo in prep data\n",
    "            df_train, df_test ,simp_data= prep_data(df)#TODO need convert back to dataframe alos check why they are not same type as input shap\n",
    "            # wrap model\n",
    "            if config['obs_type']== 'grid':\n",
    "                model = grid_sb3Wrapper(model)\n",
    "            elif algo =='PPO':\n",
    "                model = sb3Wrapper(model)\n",
    "            elif algo == 'DQN':\n",
    "                model = sb3_DQN_wrapper(model)\n",
    "            \n",
    "            dfy_train = df['curr_obs'].apply(lambda x: np.max(model.forward(Variable(torch.from_numpy(x),requires_grad=False).to(float32)).detach().numpy(),keepdims=True))\n",
    "            print(dfy_train)\n",
    "            \n",
    "            # generate groupshap data\n",
    "            df_shapley, pred_explain, internal, timing = explain(\n",
    "                model=model,\n",
    "                x_train=df_train,\n",
    "                x_explain=df_test,\n",
    "                approach=approach,\n",
    "                predict_model= lambda m,x: np.max(m(torch.from_numpy(x.to_numpy()).to(float32)).detach().numpy(),keepdims=False,axis=1), #requires model and x as param\n",
    "                prediction_zero=dfy_train.mean().item(),\n",
    "                group=group,\n",
    "            )\n",
    "            # add all data list\n",
    "            df_shapley_list.append(df_shapley)\n",
    "            pred_explain_list.append(pred_explain)\n",
    "            internal_list.append(internal)\n",
    "            timing_list.append(timing)\n",
    "            \n",
    "\n",
    "    return df_shapley_list, pred_explain_list,internal_list,timing_list\n",
    "\n",
    "def group_shap_single_exp(config,approach= 'independence', group= None):\n",
    "    #TODO look into generating on a per action basis - definetly do this\n",
    "    data, model = gen_data(config)\n",
    "    algo =config['learning_algo']\n",
    "    # prep data\n",
    "    df = pd.DataFrame(data, columns=['experiment','level','run','step','x','y','hp','curr_grid','grid','play_style','action','curr_obs','observation','done','reward','info','grid_rows','grid_columns'])\n",
    "    #TODO remember to do the todo in prep data\n",
    "    df_train, df_test ,simp_data= prep_data(df)#TODO need convert back to dataframe alos check why they are not same type as input shap\n",
    "    # wrap model\n",
    "    if config['obs_type']== 'grid':\n",
    "        model = grid_sb3Wrapper(model)\n",
    "    elif algo =='PPO':\n",
    "        model = sb3Wrapper(model)\n",
    "    elif algo == 'DQN':\n",
    "        model = sb3_DQN_wrapper(model)\n",
    "    \n",
    "    dfy_train = df['curr_obs'].apply(lambda x: np.max(model.forward(Variable(torch.from_numpy(x),requires_grad=False).to(float32)).detach().numpy(),keepdims=True))\n",
    "    print(dfy_train)\n",
    "    \n",
    "    # generate groupshap data\n",
    "    df_shapley, pred_explain, internal, timing, MSEv = explain(\n",
    "        model=model,\n",
    "        x_train=df_train,\n",
    "        x_explain=df_test,\n",
    "        approach=approach,\n",
    "        predict_model= lambda m,x: np.max(m(torch.from_numpy(x.to_numpy()).to(float32)).detach().numpy(),keepdims=False,axis=1), #requires model and x as param\n",
    "        prediction_zero=dfy_train.mean().item(),\n",
    "        # MSEv_uniform_comb_weights=False,\n",
    "        group=group,\n",
    "    )\n",
    "    return df_shapley, pred_explain, internal, timing, MSEv, df\n",
    "\n",
    "def match_check(max, action):\n",
    "    if (max == 'DT' or max =='SDT') and (action=='TREASURE'):\n",
    "        return 1\n",
    "    elif(max == 'DP' or max =='SDP' or max == 'HP') and (action=='POTION'):#TODO look into HP being moved or even into its own if statement max is hp and act =(P or K)\n",
    "        return 1\n",
    "    elif(max == 'DE' or max =='SDE') and (action=='RUNNER'):\n",
    "        return 1\n",
    "    elif(max == 'DM' or max == 'HP') and (action=='KILLER'):\n",
    "        return 1\n",
    "    else:\n",
    "        return 0\n",
    "    \n",
    "def match_check_play_style(max, action):\n",
    "    if (max == ('Treasure')) and (action=='TREASURE'):\n",
    "        return 1\n",
    "    elif(max == (\"Health\")) and (action=='POTION'):\n",
    "        return 1\n",
    "    elif(max == ('Exit')) and (action=='RUNNER'):\n",
    "        return 1\n",
    "    elif(max == ('Monster')) and (action=='KILLER'):\n",
    "        return 1\n",
    "    else:\n",
    "        return 0\n",
    "\n",
    "def groupShap_quant_results(df_shapley, df, MSEv,timing, approach, grouping):\n",
    "    if grouping == 'play-style':\n",
    "        temp =df['action'].loc[(df['run']==0)]\n",
    "        df_shapley['Max'] = df_shapley[[\"Treasure\",\"Exit\",\"Health\",\"Monster\"]].idxmax(axis=1)\n",
    "        df_shapley['Max_abs'] = df_shapley[[\"Treasure\",\"Exit\",\"Health\",\"Monster\"]].abs().idxmax(axis=1)\n",
    "        df_shapley = pd.concat([df_shapley.reset_index(),temp],axis =1) #append all actions to the shap \n",
    "        # count matches for every state\n",
    "        df_shapley['match'] = df_shapley.apply(lambda row: match_check_play_style(row.Max,row.action),axis=1)\n",
    "        df_shapley['match_abs'] = df_shapley.apply(lambda row: match_check_play_style(row.Max_abs,row.action),axis=1)\n",
    "        # count matches when on object\n",
    "        temp =df['curr_obs'].loc[(df['run']==0)]\n",
    "        df_shapley = pd.concat([df_shapley.reset_index(),temp],axis =1)\n",
    "        df_obj_shapley = df_shapley[[0 in l for l in df_shapley['curr_obs']]]\n",
    "        # Create summary data frame for the level\n",
    "        print(df['experiment'].iloc[0],df['level'].iloc[0])\n",
    "        df_summary = pd.DataFrame(data =[[df['experiment'].iloc[0],df['level'].iloc[0], approach,grouping]],columns=['exp_id','level','approach','grouping'])\n",
    "        df_summary['MSEv'] = MSEv[\"MSEv\"]['MSEv'].iloc[0]\n",
    "        df_summary['MSEv_std'] = MSEv[\"MSEv\"]['MSEv_sd'].iloc[0]\n",
    "        df_summary['total_time_secs'] = timing[\"total_time_secs\"] #total time\n",
    "        df_summary['setup']= timing[\"timing_secs\"]['setup']\n",
    "        df_summary['test_prediction']= timing[\"timing_secs\"]['test_prediction']\n",
    "        df_summary['compute_vS'] = timing[\"timing_secs\"]['compute_vS']\n",
    "        df_summary['shapley_computation']= timing[\"timing_secs\"]['shapley_computation']\n",
    "        # Match calc\n",
    "        df_summary['match_avg'] = df_shapley['match'].sum()/df_shapley['match'].count()\n",
    "        df_summary['match_abs_avg'] = df_shapley['match_abs'].sum()/df_shapley['match_abs'].count()\n",
    "        df_summary['match_obj_avg'] = df_obj_shapley['match'].sum()/df_obj_shapley['match'].count()\n",
    "        df_summary['match_obj_abs_avg'] = df_obj_shapley['match_abs'].sum()/df_obj_shapley['match_abs'].count()\n",
    "        \n",
    "\n",
    "        return df_summary\n",
    "    else:\n",
    "        temp =df['action'].loc[(df['run']==0)]\n",
    "        df_shapley['Max'] = df_shapley[[\"DM\",\"DT\",\"SDT\",\"DP\",\"SDP\",\"DE\",\"SDE\",\"HP\"]].idxmax(axis=1)\n",
    "        df_shapley['Max_abs'] = df_shapley[[\"DM\",\"DT\",\"SDT\",\"DP\",\"SDP\",\"DE\",\"SDE\",\"HP\"]].abs().idxmax(axis=1)\n",
    "        df_shapley = pd.concat([df_shapley.reset_index(),temp],axis =1) #append all actions to the shap \n",
    "        # count matches for every state\n",
    "        df_shapley['match'] = df_shapley.apply(lambda row: match_check(row.Max,row.action),axis=1)\n",
    "        df_shapley['match_abs'] = df_shapley.apply(lambda row: match_check(row.Max_abs,row.action),axis=1)\n",
    "        # count matches when on object\n",
    "        temp =df['curr_obs'].loc[(df['run']==0)]\n",
    "        df_shapley = pd.concat([df_shapley.reset_index(),temp],axis =1)\n",
    "        df_obj_shapley = df_shapley[[0 in l for l in df_shapley['curr_obs']]]\n",
    "        # Create summary data frame for the level\n",
    "        print(df['experiment'].iloc[0],df['level'].iloc[0])\n",
    "        df_summary = pd.DataFrame(data =[[df['experiment'].iloc[0],df['level'].iloc[0], approach,grouping]],columns=['exp_id','level','approach','grouping'])\n",
    "        df_summary['MSEv'] = MSEv[\"MSEv\"]['MSEv'].iloc[0]\n",
    "        df_summary['MSEv_std'] = MSEv[\"MSEv\"]['MSEv_sd'].iloc[0]\n",
    "        df_summary['total_time_secs'] = timing[\"total_time_secs\"] #total time\n",
    "        df_summary['setup']= timing[\"timing_secs\"]['setup']\n",
    "        df_summary['test_prediction']= timing[\"timing_secs\"]['test_prediction']\n",
    "        df_summary['compute_vS'] = timing[\"timing_secs\"]['compute_vS']\n",
    "        df_summary['shapley_computation']= timing[\"timing_secs\"]['shapley_computation']\n",
    "        # Match calc\n",
    "        df_summary['match_avg'] = df_shapley['match'].sum()/df_shapley['match'].count()\n",
    "        df_summary['match_abs_avg'] = df_shapley['match_abs'].sum()/df_shapley['match_abs'].count()\n",
    "        df_summary['match_obj_avg'] = df_obj_shapley['match'].sum()/df_obj_shapley['match'].count()\n",
    "        df_summary['match_obj_abs_avg'] = df_obj_shapley['match_abs'].sum()/df_obj_shapley['match_abs'].count()\n",
    "        \n",
    "\n",
    "        return df_summary\n",
    "\n",
    "def group_shap_resluts_to_csv(df_shapley, df, timing, MSEv, approach,grouping,csv):\n",
    "    #gen exp id\n",
    "    #shapley_csv\n",
    "    df_summary= groupShap_quant_results(df_shapley,df,MSEv,timing,approach=approach,grouping= grouping)\n",
    "    if os.path.exists(csv):\n",
    "        df_summary.to_csv(csv,mode='a',header=False,index=False)\n",
    "    else:\n",
    "        df_summary.to_csv(csv,index=False)\n",
    "\n",
    "def group_shap_single_exp_better(config,approach= 'independence', grouping= None):\n",
    "    #TODO look into generating on a per action basis - definetly do this\n",
    "    data, model = gen_data(config)\n",
    "    algo =config['learning_algo']\n",
    "\n",
    "    # wrap model\n",
    "    if config['obs_type']== 'grid':\n",
    "        model = grid_sb3Wrapper(model)\n",
    "    elif algo =='PPO':\n",
    "        model = sb3Wrapper(model)\n",
    "    elif algo == 'DQN':\n",
    "        model = sb3_DQN_wrapper(model)\n",
    "        \n",
    "    # prep data\n",
    "    df = pd.DataFrame(data, columns=['experiment','level','run','step','x','y','hp','curr_grid','grid','play_style','action','curr_obs','observation','done','reward','info','grid_rows','grid_columns'])\n",
    "    #TODO remember to do the todo in prep data\n",
    "\n",
    "    # Separate DataFrame by 'action' column and apply the custom function\n",
    "    dfs =[]\n",
    "    pred_explain = [],\n",
    "    for action, group in df.groupby('action'):\n",
    "        # print(group.info())\n",
    "        # dfs[action] = groupshap(group)\n",
    "        # print(group)\n",
    "        df_train, df_test ,simp_data= prep_data(group)#TODO need convert back to dataframe alos check why they are not same type as input shap\n",
    "        \n",
    "        dfy_train = group['curr_obs'].apply(lambda x: np.max(model.forward(Variable(torch.from_numpy(x),requires_grad=False).to(float32)).detach().numpy(),keepdims=True))\n",
    "\n",
    "        print(dfy_train)\n",
    "        # print(len(df_test))\n",
    "\n",
    "        \n",
    "        # generate groupshap data\n",
    "        df_shapley, pred_explain, internal, timing, MSEv_score = explain(\n",
    "            model=model,\n",
    "            x_train=df_train,\n",
    "            x_explain=df_test,\n",
    "            approach=approach,\n",
    "            predict_model= lambda m,x: np.max(m(torch.from_numpy(x.to_numpy()).to(float32)).detach().numpy(),keepdims=False,axis=1), #requires model and x as param\n",
    "            prediction_zero=dfy_train.mean().item(),\n",
    "            group=grouping,\n",
    "        )\n",
    "        df_shapley.index =df_test.index\n",
    "        dfs.append(df_shapley)\n",
    "        # Merge updated DataFrames back together without ignoring indexes\n",
    "    # print(dfs)\n",
    "    merged_df = pd.concat(dfs,join='outer')\n",
    "    merged_df.sort_index(inplace=True)\n",
    "\n",
    "    return df_shapley, pred_explain, internal, timing, merged_df"
   ]
  },
  {
   "cell_type": "markdown",
   "metadata": {},
   "source": [
    "### Single exp"
   ]
  },
  {
   "cell_type": "code",
   "execution_count": 3,
   "metadata": {},
   "outputs": [
    {
     "name": "stdout",
     "output_type": "stream",
     "text": [
      "----------Generating Data----------\n",
      "{'lvl': 'policy_3', 'obs_type': 'distance', 'learning_algo': 'PPO', 'exp_type': 'switch_analysis_new', 'action_type': 'switch', 'action_space_type': 'discrete', 'play_style': 'switch', 'reward_scheme': 'switch', 'exp_path': 'switching_analysis_new_hp', 'base_path': 'play_style_models/base/', 'which_model': 'latest_model_500000_steps'}\n",
      "switch-policy_3_switch_switch_switch_analysis_new_PPO\n",
      "0       [4.529238]\n",
      "1      [4.5305057]\n",
      "2      [4.5270247]\n",
      "3       [4.514914]\n",
      "4       [4.490382]\n",
      "          ...     \n",
      "155    [3.0130048]\n",
      "156    [3.0130048]\n",
      "157    [3.0130048]\n",
      "158    [3.0130048]\n",
      "159    [3.0130048]\n",
      "Name: curr_obs, Length: 160, dtype: object\n"
     ]
    },
    {
     "name": "stderr",
     "output_type": "stream",
     "text": [
      "R[write to console]: Note: You passed a model to explain() which is not natively supported, and did not supply a 'get_model_specs' function to explain().\n",
      "Consistency checks between model and data is therefore disabled.\n",
      "\n",
      "\n",
      "R[write to console]: Setting parameter 'n_batches' to 3 as a fair trade-off between memory consumption and computation time.\n",
      "Reducing 'n_batches' typically reduces the computation time at the cost of increased memory consumption.\n",
      "\n",
      "\n"
     ]
    }
   ],
   "source": [
    "base_config={\n",
    "    'lvl': 'policy_3',\n",
    "    'obs_type': \"distance\",\n",
    "    'learning_algo': \"PPO\",\n",
    "    'exp_type': \"switch_analysis_new\",\n",
    "    'action_type': 'switch',\n",
    "    'action_space_type': 'discrete',\n",
    "    'play_style': 'switch',\n",
    "    'reward_scheme': 'switch',\n",
    "    'learning_algo': 'PPO',\n",
    "    'exp_path': 'switching_analysis_new_hp',\n",
    "    'base_path': 'play_style_models/base/',\n",
    "    'which_model': 'best_model',\n",
    "    # 'which_model': 'latest_model_500000_steps',\n",
    "}\n",
    "df_shapley, pred_explain, internal, timing,MSEv,df = group_shap_single_exp(base_config)"
   ]
  },
  {
   "cell_type": "code",
   "execution_count": 9,
   "metadata": {},
   "outputs": [
    {
     "data": {
      "text/html": [
       "<div>\n",
       "<style scoped>\n",
       "    .dataframe tbody tr th:only-of-type {\n",
       "        vertical-align: middle;\n",
       "    }\n",
       "\n",
       "    .dataframe tbody tr th {\n",
       "        vertical-align: top;\n",
       "    }\n",
       "\n",
       "    .dataframe thead th {\n",
       "        text-align: right;\n",
       "    }\n",
       "</style>\n",
       "<table border=\"1\" class=\"dataframe\">\n",
       "  <thead>\n",
       "    <tr style=\"text-align: right;\">\n",
       "      <th></th>\n",
       "      <th>experiment</th>\n",
       "      <th>level</th>\n",
       "      <th>run</th>\n",
       "      <th>step</th>\n",
       "      <th>x</th>\n",
       "      <th>y</th>\n",
       "      <th>hp</th>\n",
       "      <th>curr_grid</th>\n",
       "      <th>grid</th>\n",
       "      <th>play_style</th>\n",
       "      <th>...</th>\n",
       "      <th>grid_rows</th>\n",
       "      <th>grid_columns</th>\n",
       "      <th>DM</th>\n",
       "      <th>DT</th>\n",
       "      <th>SDT</th>\n",
       "      <th>DP</th>\n",
       "      <th>SDP</th>\n",
       "      <th>DE</th>\n",
       "      <th>SDE</th>\n",
       "      <th>HP</th>\n",
       "    </tr>\n",
       "  </thead>\n",
       "  <tbody>\n",
       "    <tr>\n",
       "      <th>0</th>\n",
       "      <td>switch-holmgard_2_switch_switch_switch_analysi...</td>\n",
       "      <td>holmgard_2</td>\n",
       "      <td>0</td>\n",
       "      <td>0</td>\n",
       "      <td>1</td>\n",
       "      <td>10</td>\n",
       "      <td>40</td>\n",
       "      <td>[[1, 1, 1, 3, 1, 0, 0, 0, 0, 0, 0, 0], [2, 0, ...</td>\n",
       "      <td>[[1, 1, 1, 3, 1, 0, 0, 0, 0, 0, 0, 0], [2, 0, ...</td>\n",
       "      <td>switch</td>\n",
       "      <td>...</td>\n",
       "      <td>12</td>\n",
       "      <td>12</td>\n",
       "      <td>4</td>\n",
       "      <td>13</td>\n",
       "      <td>1000</td>\n",
       "      <td>9</td>\n",
       "      <td>1000</td>\n",
       "      <td>21</td>\n",
       "      <td>1000</td>\n",
       "      <td>40</td>\n",
       "    </tr>\n",
       "    <tr>\n",
       "      <th>1</th>\n",
       "      <td>switch-holmgard_2_switch_switch_switch_analysi...</td>\n",
       "      <td>holmgard_2</td>\n",
       "      <td>0</td>\n",
       "      <td>1</td>\n",
       "      <td>2</td>\n",
       "      <td>10</td>\n",
       "      <td>40</td>\n",
       "      <td>[[1, 1, 1, 3, 1, 0, 0, 0, 0, 0, 0, 0], [2, 0, ...</td>\n",
       "      <td>[[1, 1, 1, 3, 1, 0, 0, 0, 0, 0, 0, 0], [2, 0, ...</td>\n",
       "      <td>switch</td>\n",
       "      <td>...</td>\n",
       "      <td>12</td>\n",
       "      <td>12</td>\n",
       "      <td>3</td>\n",
       "      <td>12</td>\n",
       "      <td>1000</td>\n",
       "      <td>8</td>\n",
       "      <td>1000</td>\n",
       "      <td>20</td>\n",
       "      <td>1000</td>\n",
       "      <td>40</td>\n",
       "    </tr>\n",
       "    <tr>\n",
       "      <th>2</th>\n",
       "      <td>switch-holmgard_2_switch_switch_switch_analysi...</td>\n",
       "      <td>holmgard_2</td>\n",
       "      <td>0</td>\n",
       "      <td>2</td>\n",
       "      <td>2</td>\n",
       "      <td>9</td>\n",
       "      <td>40</td>\n",
       "      <td>[[1, 1, 1, 3, 1, 0, 0, 0, 0, 0, 0, 0], [2, 0, ...</td>\n",
       "      <td>[[1, 1, 1, 3, 1, 0, 0, 0, 0, 0, 0, 0], [2, 0, ...</td>\n",
       "      <td>switch</td>\n",
       "      <td>...</td>\n",
       "      <td>12</td>\n",
       "      <td>12</td>\n",
       "      <td>2</td>\n",
       "      <td>11</td>\n",
       "      <td>1000</td>\n",
       "      <td>7</td>\n",
       "      <td>1000</td>\n",
       "      <td>19</td>\n",
       "      <td>1000</td>\n",
       "      <td>40</td>\n",
       "    </tr>\n",
       "    <tr>\n",
       "      <th>3</th>\n",
       "      <td>switch-holmgard_2_switch_switch_switch_analysi...</td>\n",
       "      <td>holmgard_2</td>\n",
       "      <td>0</td>\n",
       "      <td>3</td>\n",
       "      <td>2</td>\n",
       "      <td>8</td>\n",
       "      <td>40</td>\n",
       "      <td>[[1, 1, 1, 3, 1, 0, 0, 0, 0, 0, 0, 0], [2, 0, ...</td>\n",
       "      <td>[[1, 1, 1, 3, 1, 0, 0, 0, 0, 0, 0, 0], [2, 0, ...</td>\n",
       "      <td>switch</td>\n",
       "      <td>...</td>\n",
       "      <td>12</td>\n",
       "      <td>12</td>\n",
       "      <td>1</td>\n",
       "      <td>10</td>\n",
       "      <td>1000</td>\n",
       "      <td>6</td>\n",
       "      <td>1000</td>\n",
       "      <td>18</td>\n",
       "      <td>1000</td>\n",
       "      <td>40</td>\n",
       "    </tr>\n",
       "    <tr>\n",
       "      <th>4</th>\n",
       "      <td>switch-holmgard_2_switch_switch_switch_analysi...</td>\n",
       "      <td>holmgard_2</td>\n",
       "      <td>0</td>\n",
       "      <td>4</td>\n",
       "      <td>3</td>\n",
       "      <td>8</td>\n",
       "      <td>30</td>\n",
       "      <td>[[1, 1, 1, 3, 1, 0, 0, 0, 0, 0, 0, 0], [2, 0, ...</td>\n",
       "      <td>[[1, 1, 1, 3, 1, 0, 0, 0, 0, 0, 0, 0], [2, 0, ...</td>\n",
       "      <td>switch</td>\n",
       "      <td>...</td>\n",
       "      <td>12</td>\n",
       "      <td>12</td>\n",
       "      <td>0</td>\n",
       "      <td>9</td>\n",
       "      <td>9</td>\n",
       "      <td>5</td>\n",
       "      <td>5</td>\n",
       "      <td>17</td>\n",
       "      <td>19</td>\n",
       "      <td>30</td>\n",
       "    </tr>\n",
       "  </tbody>\n",
       "</table>\n",
       "<p>5 rows × 26 columns</p>\n",
       "</div>"
      ],
      "text/plain": [
       "                                          experiment       level  run  step  \\\n",
       "0  switch-holmgard_2_switch_switch_switch_analysi...  holmgard_2    0     0   \n",
       "1  switch-holmgard_2_switch_switch_switch_analysi...  holmgard_2    0     1   \n",
       "2  switch-holmgard_2_switch_switch_switch_analysi...  holmgard_2    0     2   \n",
       "3  switch-holmgard_2_switch_switch_switch_analysi...  holmgard_2    0     3   \n",
       "4  switch-holmgard_2_switch_switch_switch_analysi...  holmgard_2    0     4   \n",
       "\n",
       "   x   y  hp                                          curr_grid  \\\n",
       "0  1  10  40  [[1, 1, 1, 3, 1, 0, 0, 0, 0, 0, 0, 0], [2, 0, ...   \n",
       "1  2  10  40  [[1, 1, 1, 3, 1, 0, 0, 0, 0, 0, 0, 0], [2, 0, ...   \n",
       "2  2   9  40  [[1, 1, 1, 3, 1, 0, 0, 0, 0, 0, 0, 0], [2, 0, ...   \n",
       "3  2   8  40  [[1, 1, 1, 3, 1, 0, 0, 0, 0, 0, 0, 0], [2, 0, ...   \n",
       "4  3   8  30  [[1, 1, 1, 3, 1, 0, 0, 0, 0, 0, 0, 0], [2, 0, ...   \n",
       "\n",
       "                                                grid play_style  ...  \\\n",
       "0  [[1, 1, 1, 3, 1, 0, 0, 0, 0, 0, 0, 0], [2, 0, ...     switch  ...   \n",
       "1  [[1, 1, 1, 3, 1, 0, 0, 0, 0, 0, 0, 0], [2, 0, ...     switch  ...   \n",
       "2  [[1, 1, 1, 3, 1, 0, 0, 0, 0, 0, 0, 0], [2, 0, ...     switch  ...   \n",
       "3  [[1, 1, 1, 3, 1, 0, 0, 0, 0, 0, 0, 0], [2, 0, ...     switch  ...   \n",
       "4  [[1, 1, 1, 3, 1, 0, 0, 0, 0, 0, 0, 0], [2, 0, ...     switch  ...   \n",
       "\n",
       "  grid_rows grid_columns DM  DT   SDT DP   SDP  DE   SDE  HP  \n",
       "0        12           12  4  13  1000  9  1000  21  1000  40  \n",
       "1        12           12  3  12  1000  8  1000  20  1000  40  \n",
       "2        12           12  2  11  1000  7  1000  19  1000  40  \n",
       "3        12           12  1  10  1000  6  1000  18  1000  40  \n",
       "4        12           12  0   9     9  5     5  17    19  30  \n",
       "\n",
       "[5 rows x 26 columns]"
      ]
     },
     "execution_count": 9,
     "metadata": {},
     "output_type": "execute_result"
    }
   ],
   "source": [
    "# df_shapley\n",
    "# pred_explain\n",
    "# internal\n",
    "# timing\n",
    "df.head()"
   ]
  },
  {
   "cell_type": "code",
   "execution_count": 5,
   "metadata": {},
   "outputs": [
    {
     "data": {
      "application/vnd.plotly.v1+json": {
       "config": {
        "plotlyServerURL": "https://plot.ly"
       },
       "data": [
        {
         "hovertemplate": "variable=DM<br>index=%{x}<br>value=%{y}<extra></extra>",
         "legendgroup": "DM",
         "line": {
          "color": "#636efa",
          "dash": "solid"
         },
         "marker": {
          "symbol": "circle"
         },
         "mode": "lines",
         "name": "DM",
         "showlegend": true,
         "type": "scattergl",
         "x": [
          0,
          1,
          2,
          3,
          4,
          5,
          6,
          7,
          8,
          9,
          10,
          11,
          12,
          13,
          14,
          15,
          16,
          17,
          18,
          19,
          20,
          21,
          22,
          23,
          24,
          25,
          26,
          27,
          28,
          29,
          30,
          31,
          32,
          33,
          34,
          35,
          36,
          37,
          38,
          39,
          40,
          41,
          42,
          43,
          44,
          45,
          46,
          47,
          48,
          49,
          50,
          51,
          52,
          53,
          54,
          55,
          56,
          57,
          58,
          59,
          60,
          61,
          62,
          63,
          64,
          65,
          66,
          67,
          68,
          69,
          70,
          71,
          72,
          73,
          74,
          75,
          76,
          77,
          78,
          79,
          80,
          81,
          82,
          83,
          84,
          85,
          86,
          87,
          88,
          89,
          90,
          91,
          92,
          93,
          94,
          95,
          96,
          97,
          98,
          99,
          100,
          101,
          102,
          103,
          104,
          105,
          106,
          107,
          108,
          109,
          110,
          111,
          112,
          113,
          114,
          115,
          116,
          117,
          118,
          119,
          120,
          121,
          122,
          123,
          124,
          125,
          126,
          127,
          128,
          129,
          130,
          131,
          132,
          133,
          134,
          135,
          136,
          137,
          138,
          139,
          140,
          141,
          142,
          143,
          144,
          145,
          146,
          147,
          148,
          149,
          150,
          151,
          152,
          153,
          154,
          155,
          156,
          157,
          158,
          159
         ],
         "xaxis": "x",
         "y": [
          12,
          11,
          10,
          9,
          8,
          7,
          6,
          5,
          4,
          3,
          2,
          1,
          0,
          1000,
          1000,
          1000,
          1000,
          1000,
          1000,
          1000,
          1000,
          1000,
          1000,
          1000,
          1000,
          1000,
          1000,
          1000,
          1000,
          1000,
          1000,
          1000,
          1000,
          11,
          10,
          9,
          8,
          7,
          6,
          5,
          4,
          3,
          2,
          1,
          0,
          1000,
          1000,
          1000,
          1000,
          1000,
          1000,
          1000,
          1000,
          1000,
          1000,
          1000,
          1000,
          1000,
          1000,
          1000,
          1000,
          1000,
          1000,
          1000,
          1000,
          11,
          10,
          9,
          8,
          7,
          6,
          5,
          4,
          3,
          2,
          1,
          0,
          1000,
          1000,
          1000,
          1000,
          1000,
          1000,
          1000,
          1000,
          1000,
          1000,
          1000,
          1000,
          1000,
          1000,
          1000,
          1000,
          1000,
          1000,
          1000,
          1000,
          11,
          10,
          9,
          8,
          7,
          6,
          5,
          4,
          3,
          2,
          1,
          0,
          1000,
          1000,
          1000,
          1000,
          1000,
          1000,
          1000,
          1000,
          1000,
          1000,
          1000,
          1000,
          1000,
          1000,
          1000,
          1000,
          1000,
          1000,
          1000,
          1000,
          11,
          10,
          9,
          8,
          7,
          6,
          5,
          4,
          3,
          2,
          1,
          0,
          1000,
          1000,
          1000,
          1000,
          1000,
          1000,
          1000,
          1000,
          1000,
          1000,
          1000,
          1000,
          1000,
          1000,
          1000,
          1000,
          1000,
          1000,
          1000
         ],
         "yaxis": "y"
        },
        {
         "hovertemplate": "variable=DT<br>index=%{x}<br>value=%{y}<extra></extra>",
         "legendgroup": "DT",
         "line": {
          "color": "#EF553B",
          "dash": "solid"
         },
         "marker": {
          "symbol": "circle"
         },
         "mode": "lines",
         "name": "DT",
         "showlegend": true,
         "type": "scattergl",
         "x": [
          0,
          1,
          2,
          3,
          4,
          5,
          6,
          7,
          8,
          9,
          10,
          11,
          12,
          13,
          14,
          15,
          16,
          17,
          18,
          19,
          20,
          21,
          22,
          23,
          24,
          25,
          26,
          27,
          28,
          29,
          30,
          31,
          32,
          33,
          34,
          35,
          36,
          37,
          38,
          39,
          40,
          41,
          42,
          43,
          44,
          45,
          46,
          47,
          48,
          49,
          50,
          51,
          52,
          53,
          54,
          55,
          56,
          57,
          58,
          59,
          60,
          61,
          62,
          63,
          64,
          65,
          66,
          67,
          68,
          69,
          70,
          71,
          72,
          73,
          74,
          75,
          76,
          77,
          78,
          79,
          80,
          81,
          82,
          83,
          84,
          85,
          86,
          87,
          88,
          89,
          90,
          91,
          92,
          93,
          94,
          95,
          96,
          97,
          98,
          99,
          100,
          101,
          102,
          103,
          104,
          105,
          106,
          107,
          108,
          109,
          110,
          111,
          112,
          113,
          114,
          115,
          116,
          117,
          118,
          119,
          120,
          121,
          122,
          123,
          124,
          125,
          126,
          127,
          128,
          129,
          130,
          131,
          132,
          133,
          134,
          135,
          136,
          137,
          138,
          139,
          140,
          141,
          142,
          143,
          144,
          145,
          146,
          147,
          148,
          149,
          150,
          151,
          152,
          153,
          154,
          155,
          156,
          157,
          158,
          159
         ],
         "xaxis": "x",
         "y": [
          4,
          3,
          2,
          1,
          0,
          1000,
          1000,
          1000,
          1000,
          1000,
          1000,
          1000,
          1000,
          1000,
          1000,
          1000,
          1000,
          1000,
          1000,
          1000,
          1000,
          1000,
          1000,
          1000,
          1000,
          1000,
          1000,
          1000,
          1000,
          1000,
          1000,
          1000,
          1000,
          3,
          2,
          1,
          0,
          1000,
          1000,
          1000,
          1000,
          1000,
          1000,
          1000,
          1000,
          1000,
          1000,
          1000,
          1000,
          1000,
          1000,
          1000,
          1000,
          1000,
          1000,
          1000,
          1000,
          1000,
          1000,
          1000,
          1000,
          1000,
          1000,
          1000,
          1000,
          3,
          2,
          1,
          0,
          1000,
          1000,
          1000,
          1000,
          1000,
          1000,
          1000,
          1000,
          1000,
          1000,
          1000,
          1000,
          1000,
          1000,
          1000,
          1000,
          1000,
          1000,
          1000,
          1000,
          1000,
          1000,
          1000,
          1000,
          1000,
          1000,
          1000,
          1000,
          3,
          2,
          1,
          0,
          1000,
          1000,
          1000,
          1000,
          1000,
          1000,
          1000,
          1000,
          1000,
          1000,
          1000,
          1000,
          1000,
          1000,
          1000,
          1000,
          1000,
          1000,
          1000,
          1000,
          1000,
          1000,
          1000,
          1000,
          1000,
          1000,
          1000,
          1000,
          3,
          2,
          1,
          0,
          1000,
          1000,
          1000,
          1000,
          1000,
          1000,
          1000,
          1000,
          1000,
          1000,
          1000,
          1000,
          1000,
          1000,
          1000,
          1000,
          1000,
          1000,
          1000,
          1000,
          1000,
          1000,
          1000,
          1000,
          1000,
          1000,
          1000
         ],
         "yaxis": "y"
        },
        {
         "hovertemplate": "variable=SDT<br>index=%{x}<br>value=%{y}<extra></extra>",
         "legendgroup": "SDT",
         "line": {
          "color": "#00cc96",
          "dash": "solid"
         },
         "marker": {
          "symbol": "circle"
         },
         "mode": "lines",
         "name": "SDT",
         "showlegend": true,
         "type": "scattergl",
         "x": [
          0,
          1,
          2,
          3,
          4,
          5,
          6,
          7,
          8,
          9,
          10,
          11,
          12,
          13,
          14,
          15,
          16,
          17,
          18,
          19,
          20,
          21,
          22,
          23,
          24,
          25,
          26,
          27,
          28,
          29,
          30,
          31,
          32,
          33,
          34,
          35,
          36,
          37,
          38,
          39,
          40,
          41,
          42,
          43,
          44,
          45,
          46,
          47,
          48,
          49,
          50,
          51,
          52,
          53,
          54,
          55,
          56,
          57,
          58,
          59,
          60,
          61,
          62,
          63,
          64,
          65,
          66,
          67,
          68,
          69,
          70,
          71,
          72,
          73,
          74,
          75,
          76,
          77,
          78,
          79,
          80,
          81,
          82,
          83,
          84,
          85,
          86,
          87,
          88,
          89,
          90,
          91,
          92,
          93,
          94,
          95,
          96,
          97,
          98,
          99,
          100,
          101,
          102,
          103,
          104,
          105,
          106,
          107,
          108,
          109,
          110,
          111,
          112,
          113,
          114,
          115,
          116,
          117,
          118,
          119,
          120,
          121,
          122,
          123,
          124,
          125,
          126,
          127,
          128,
          129,
          130,
          131,
          132,
          133,
          134,
          135,
          136,
          137,
          138,
          139,
          140,
          141,
          142,
          143,
          144,
          145,
          146,
          147,
          148,
          149,
          150,
          151,
          152,
          153,
          154,
          155,
          156,
          157,
          158,
          159
         ],
         "xaxis": "x",
         "y": [
          4,
          3,
          2,
          1,
          0,
          1000,
          1000,
          1000,
          1000,
          1000,
          1000,
          1000,
          1000,
          1000,
          1000,
          1000,
          1000,
          1000,
          1000,
          1000,
          1000,
          1000,
          1000,
          1000,
          1000,
          1000,
          1000,
          1000,
          1000,
          1000,
          1000,
          1000,
          1000,
          3,
          2,
          1,
          0,
          1000,
          1000,
          1000,
          1000,
          1000,
          1000,
          1000,
          1000,
          1000,
          1000,
          1000,
          1000,
          1000,
          1000,
          1000,
          1000,
          1000,
          1000,
          1000,
          1000,
          1000,
          1000,
          1000,
          1000,
          1000,
          1000,
          1000,
          1000,
          3,
          2,
          1,
          0,
          1000,
          1000,
          1000,
          1000,
          1000,
          1000,
          1000,
          1000,
          1000,
          1000,
          1000,
          1000,
          1000,
          1000,
          1000,
          1000,
          1000,
          1000,
          1000,
          1000,
          1000,
          1000,
          1000,
          1000,
          1000,
          1000,
          1000,
          1000,
          3,
          2,
          1,
          0,
          1000,
          1000,
          1000,
          1000,
          1000,
          1000,
          1000,
          1000,
          1000,
          1000,
          1000,
          1000,
          1000,
          1000,
          1000,
          1000,
          1000,
          1000,
          1000,
          1000,
          1000,
          1000,
          1000,
          1000,
          1000,
          1000,
          1000,
          1000,
          3,
          2,
          1,
          0,
          1000,
          1000,
          1000,
          1000,
          1000,
          1000,
          1000,
          1000,
          1000,
          1000,
          1000,
          1000,
          1000,
          1000,
          1000,
          1000,
          1000,
          1000,
          1000,
          1000,
          1000,
          1000,
          1000,
          1000,
          1000,
          1000,
          1000
         ],
         "yaxis": "y"
        },
        {
         "hovertemplate": "variable=DP<br>index=%{x}<br>value=%{y}<extra></extra>",
         "legendgroup": "DP",
         "line": {
          "color": "#ab63fa",
          "dash": "solid"
         },
         "marker": {
          "symbol": "circle"
         },
         "mode": "lines",
         "name": "DP",
         "showlegend": true,
         "type": "scattergl",
         "x": [
          0,
          1,
          2,
          3,
          4,
          5,
          6,
          7,
          8,
          9,
          10,
          11,
          12,
          13,
          14,
          15,
          16,
          17,
          18,
          19,
          20,
          21,
          22,
          23,
          24,
          25,
          26,
          27,
          28,
          29,
          30,
          31,
          32,
          33,
          34,
          35,
          36,
          37,
          38,
          39,
          40,
          41,
          42,
          43,
          44,
          45,
          46,
          47,
          48,
          49,
          50,
          51,
          52,
          53,
          54,
          55,
          56,
          57,
          58,
          59,
          60,
          61,
          62,
          63,
          64,
          65,
          66,
          67,
          68,
          69,
          70,
          71,
          72,
          73,
          74,
          75,
          76,
          77,
          78,
          79,
          80,
          81,
          82,
          83,
          84,
          85,
          86,
          87,
          88,
          89,
          90,
          91,
          92,
          93,
          94,
          95,
          96,
          97,
          98,
          99,
          100,
          101,
          102,
          103,
          104,
          105,
          106,
          107,
          108,
          109,
          110,
          111,
          112,
          113,
          114,
          115,
          116,
          117,
          118,
          119,
          120,
          121,
          122,
          123,
          124,
          125,
          126,
          127,
          128,
          129,
          130,
          131,
          132,
          133,
          134,
          135,
          136,
          137,
          138,
          139,
          140,
          141,
          142,
          143,
          144,
          145,
          146,
          147,
          148,
          149,
          150,
          151,
          152,
          153,
          154,
          155,
          156,
          157,
          158,
          159
         ],
         "xaxis": "x",
         "y": [
          20,
          19,
          18,
          17,
          16,
          15,
          14,
          13,
          12,
          11,
          10,
          9,
          8,
          7,
          6,
          5,
          4,
          3,
          2,
          1,
          0,
          1000,
          1000,
          1000,
          1000,
          1000,
          1000,
          1000,
          1000,
          1000,
          1000,
          1000,
          1000,
          19,
          18,
          17,
          16,
          15,
          14,
          13,
          12,
          11,
          10,
          9,
          8,
          7,
          6,
          5,
          4,
          3,
          2,
          1,
          0,
          1000,
          1000,
          1000,
          1000,
          1000,
          1000,
          1000,
          1000,
          1000,
          1000,
          1000,
          1000,
          19,
          18,
          17,
          16,
          15,
          14,
          13,
          12,
          11,
          10,
          9,
          8,
          7,
          6,
          5,
          4,
          3,
          2,
          1,
          0,
          1000,
          1000,
          1000,
          1000,
          1000,
          1000,
          1000,
          1000,
          1000,
          1000,
          1000,
          1000,
          19,
          18,
          17,
          16,
          15,
          14,
          13,
          12,
          11,
          10,
          9,
          8,
          7,
          6,
          5,
          4,
          3,
          2,
          1,
          0,
          1000,
          1000,
          1000,
          1000,
          1000,
          1000,
          1000,
          1000,
          1000,
          1000,
          1000,
          1000,
          19,
          18,
          17,
          16,
          15,
          14,
          13,
          12,
          11,
          10,
          9,
          8,
          7,
          6,
          5,
          4,
          3,
          2,
          1,
          0,
          1000,
          1000,
          1000,
          1000,
          1000,
          1000,
          1000,
          1000,
          1000,
          1000,
          1000
         ],
         "yaxis": "y"
        },
        {
         "hovertemplate": "variable=SDP<br>index=%{x}<br>value=%{y}<extra></extra>",
         "legendgroup": "SDP",
         "line": {
          "color": "#FFA15A",
          "dash": "solid"
         },
         "marker": {
          "symbol": "circle"
         },
         "mode": "lines",
         "name": "SDP",
         "showlegend": true,
         "type": "scattergl",
         "x": [
          0,
          1,
          2,
          3,
          4,
          5,
          6,
          7,
          8,
          9,
          10,
          11,
          12,
          13,
          14,
          15,
          16,
          17,
          18,
          19,
          20,
          21,
          22,
          23,
          24,
          25,
          26,
          27,
          28,
          29,
          30,
          31,
          32,
          33,
          34,
          35,
          36,
          37,
          38,
          39,
          40,
          41,
          42,
          43,
          44,
          45,
          46,
          47,
          48,
          49,
          50,
          51,
          52,
          53,
          54,
          55,
          56,
          57,
          58,
          59,
          60,
          61,
          62,
          63,
          64,
          65,
          66,
          67,
          68,
          69,
          70,
          71,
          72,
          73,
          74,
          75,
          76,
          77,
          78,
          79,
          80,
          81,
          82,
          83,
          84,
          85,
          86,
          87,
          88,
          89,
          90,
          91,
          92,
          93,
          94,
          95,
          96,
          97,
          98,
          99,
          100,
          101,
          102,
          103,
          104,
          105,
          106,
          107,
          108,
          109,
          110,
          111,
          112,
          113,
          114,
          115,
          116,
          117,
          118,
          119,
          120,
          121,
          122,
          123,
          124,
          125,
          126,
          127,
          128,
          129,
          130,
          131,
          132,
          133,
          134,
          135,
          136,
          137,
          138,
          139,
          140,
          141,
          142,
          143,
          144,
          145,
          146,
          147,
          148,
          149,
          150,
          151,
          152,
          153,
          154,
          155,
          156,
          157,
          158,
          159
         ],
         "xaxis": "x",
         "y": [
          20,
          19,
          18,
          17,
          16,
          15,
          14,
          13,
          12,
          11,
          12,
          13,
          8,
          7,
          6,
          5,
          4,
          3,
          2,
          1,
          0,
          1000,
          1000,
          1000,
          1000,
          1000,
          1000,
          1000,
          1000,
          1000,
          1000,
          1000,
          1000,
          19,
          18,
          17,
          16,
          15,
          14,
          13,
          12,
          11,
          12,
          13,
          8,
          7,
          6,
          5,
          4,
          3,
          2,
          1,
          0,
          1000,
          1000,
          1000,
          1000,
          1000,
          1000,
          1000,
          1000,
          1000,
          1000,
          1000,
          1000,
          19,
          18,
          17,
          16,
          15,
          14,
          13,
          12,
          11,
          12,
          13,
          8,
          7,
          6,
          5,
          4,
          3,
          2,
          1,
          0,
          1000,
          1000,
          1000,
          1000,
          1000,
          1000,
          1000,
          1000,
          1000,
          1000,
          1000,
          1000,
          19,
          18,
          17,
          16,
          15,
          14,
          13,
          12,
          11,
          12,
          13,
          8,
          7,
          6,
          5,
          4,
          3,
          2,
          1,
          0,
          1000,
          1000,
          1000,
          1000,
          1000,
          1000,
          1000,
          1000,
          1000,
          1000,
          1000,
          1000,
          19,
          18,
          17,
          16,
          15,
          14,
          13,
          12,
          11,
          12,
          13,
          8,
          7,
          6,
          5,
          4,
          3,
          2,
          1,
          0,
          1000,
          1000,
          1000,
          1000,
          1000,
          1000,
          1000,
          1000,
          1000,
          1000,
          1000
         ],
         "yaxis": "y"
        },
        {
         "hovertemplate": "variable=DE<br>index=%{x}<br>value=%{y}<extra></extra>",
         "legendgroup": "DE",
         "line": {
          "color": "#19d3f3",
          "dash": "solid"
         },
         "marker": {
          "symbol": "circle"
         },
         "mode": "lines",
         "name": "DE",
         "showlegend": true,
         "type": "scattergl",
         "x": [
          0,
          1,
          2,
          3,
          4,
          5,
          6,
          7,
          8,
          9,
          10,
          11,
          12,
          13,
          14,
          15,
          16,
          17,
          18,
          19,
          20,
          21,
          22,
          23,
          24,
          25,
          26,
          27,
          28,
          29,
          30,
          31,
          32,
          33,
          34,
          35,
          36,
          37,
          38,
          39,
          40,
          41,
          42,
          43,
          44,
          45,
          46,
          47,
          48,
          49,
          50,
          51,
          52,
          53,
          54,
          55,
          56,
          57,
          58,
          59,
          60,
          61,
          62,
          63,
          64,
          65,
          66,
          67,
          68,
          69,
          70,
          71,
          72,
          73,
          74,
          75,
          76,
          77,
          78,
          79,
          80,
          81,
          82,
          83,
          84,
          85,
          86,
          87,
          88,
          89,
          90,
          91,
          92,
          93,
          94,
          95,
          96,
          97,
          98,
          99,
          100,
          101,
          102,
          103,
          104,
          105,
          106,
          107,
          108,
          109,
          110,
          111,
          112,
          113,
          114,
          115,
          116,
          117,
          118,
          119,
          120,
          121,
          122,
          123,
          124,
          125,
          126,
          127,
          128,
          129,
          130,
          131,
          132,
          133,
          134,
          135,
          136,
          137,
          138,
          139,
          140,
          141,
          142,
          143,
          144,
          145,
          146,
          147,
          148,
          149,
          150,
          151,
          152,
          153,
          154,
          155,
          156,
          157,
          158,
          159
         ],
         "xaxis": "x",
         "y": [
          32,
          31,
          30,
          29,
          28,
          27,
          26,
          25,
          24,
          23,
          22,
          21,
          20,
          19,
          18,
          17,
          16,
          15,
          14,
          13,
          12,
          11,
          10,
          9,
          8,
          7,
          6,
          5,
          4,
          3,
          2,
          1,
          1,
          31,
          30,
          29,
          28,
          27,
          26,
          25,
          24,
          23,
          22,
          21,
          20,
          19,
          18,
          17,
          16,
          15,
          14,
          13,
          12,
          11,
          10,
          9,
          8,
          7,
          6,
          5,
          4,
          3,
          2,
          1,
          1,
          31,
          30,
          29,
          28,
          27,
          26,
          25,
          24,
          23,
          22,
          21,
          20,
          19,
          18,
          17,
          16,
          15,
          14,
          13,
          12,
          11,
          10,
          9,
          8,
          7,
          6,
          5,
          4,
          3,
          2,
          1,
          1,
          31,
          30,
          29,
          28,
          27,
          26,
          25,
          24,
          23,
          22,
          21,
          20,
          19,
          18,
          17,
          16,
          15,
          14,
          13,
          12,
          11,
          10,
          9,
          8,
          7,
          6,
          5,
          4,
          3,
          2,
          1,
          1,
          31,
          30,
          29,
          28,
          27,
          26,
          25,
          24,
          23,
          22,
          21,
          20,
          19,
          18,
          17,
          16,
          15,
          14,
          13,
          12,
          11,
          10,
          9,
          8,
          7,
          6,
          5,
          4,
          3,
          2,
          1
         ],
         "yaxis": "y"
        },
        {
         "hovertemplate": "variable=SDE<br>index=%{x}<br>value=%{y}<extra></extra>",
         "legendgroup": "SDE",
         "line": {
          "color": "#FF6692",
          "dash": "solid"
         },
         "marker": {
          "symbol": "circle"
         },
         "mode": "lines",
         "name": "SDE",
         "showlegend": true,
         "type": "scattergl",
         "x": [
          0,
          1,
          2,
          3,
          4,
          5,
          6,
          7,
          8,
          9,
          10,
          11,
          12,
          13,
          14,
          15,
          16,
          17,
          18,
          19,
          20,
          21,
          22,
          23,
          24,
          25,
          26,
          27,
          28,
          29,
          30,
          31,
          32,
          33,
          34,
          35,
          36,
          37,
          38,
          39,
          40,
          41,
          42,
          43,
          44,
          45,
          46,
          47,
          48,
          49,
          50,
          51,
          52,
          53,
          54,
          55,
          56,
          57,
          58,
          59,
          60,
          61,
          62,
          63,
          64,
          65,
          66,
          67,
          68,
          69,
          70,
          71,
          72,
          73,
          74,
          75,
          76,
          77,
          78,
          79,
          80,
          81,
          82,
          83,
          84,
          85,
          86,
          87,
          88,
          89,
          90,
          91,
          92,
          93,
          94,
          95,
          96,
          97,
          98,
          99,
          100,
          101,
          102,
          103,
          104,
          105,
          106,
          107,
          108,
          109,
          110,
          111,
          112,
          113,
          114,
          115,
          116,
          117,
          118,
          119,
          120,
          121,
          122,
          123,
          124,
          125,
          126,
          127,
          128,
          129,
          130,
          131,
          132,
          133,
          134,
          135,
          136,
          137,
          138,
          139,
          140,
          141,
          142,
          143,
          144,
          145,
          146,
          147,
          148,
          149,
          150,
          151,
          152,
          153,
          154,
          155,
          156,
          157,
          158,
          159
         ],
         "xaxis": "x",
         "y": [
          32,
          31,
          30,
          29,
          28,
          27,
          26,
          25,
          24,
          23,
          24,
          25,
          20,
          19,
          18,
          17,
          16,
          15,
          14,
          13,
          12,
          11,
          10,
          9,
          8,
          7,
          6,
          5,
          4,
          3,
          2,
          1,
          1,
          31,
          30,
          29,
          28,
          27,
          26,
          25,
          24,
          23,
          24,
          25,
          20,
          19,
          18,
          17,
          16,
          15,
          14,
          13,
          12,
          11,
          10,
          9,
          8,
          7,
          6,
          5,
          4,
          3,
          2,
          1,
          1,
          31,
          30,
          29,
          28,
          27,
          26,
          25,
          24,
          23,
          24,
          25,
          20,
          19,
          18,
          17,
          16,
          15,
          14,
          13,
          12,
          11,
          10,
          9,
          8,
          7,
          6,
          5,
          4,
          3,
          2,
          1,
          1,
          31,
          30,
          29,
          28,
          27,
          26,
          25,
          24,
          23,
          24,
          25,
          20,
          19,
          18,
          17,
          16,
          15,
          14,
          13,
          12,
          11,
          10,
          9,
          8,
          7,
          6,
          5,
          4,
          3,
          2,
          1,
          1,
          31,
          30,
          29,
          28,
          27,
          26,
          25,
          24,
          23,
          24,
          25,
          20,
          19,
          18,
          17,
          16,
          15,
          14,
          13,
          12,
          11,
          10,
          9,
          8,
          7,
          6,
          5,
          4,
          3,
          2,
          1
         ],
         "yaxis": "y"
        },
        {
         "hovertemplate": "variable=HP<br>index=%{x}<br>value=%{y}<extra></extra>",
         "legendgroup": "HP",
         "line": {
          "color": "#B6E880",
          "dash": "solid"
         },
         "marker": {
          "symbol": "circle"
         },
         "mode": "lines",
         "name": "HP",
         "showlegend": true,
         "type": "scattergl",
         "x": [
          0,
          1,
          2,
          3,
          4,
          5,
          6,
          7,
          8,
          9,
          10,
          11,
          12,
          13,
          14,
          15,
          16,
          17,
          18,
          19,
          20,
          21,
          22,
          23,
          24,
          25,
          26,
          27,
          28,
          29,
          30,
          31,
          32,
          33,
          34,
          35,
          36,
          37,
          38,
          39,
          40,
          41,
          42,
          43,
          44,
          45,
          46,
          47,
          48,
          49,
          50,
          51,
          52,
          53,
          54,
          55,
          56,
          57,
          58,
          59,
          60,
          61,
          62,
          63,
          64,
          65,
          66,
          67,
          68,
          69,
          70,
          71,
          72,
          73,
          74,
          75,
          76,
          77,
          78,
          79,
          80,
          81,
          82,
          83,
          84,
          85,
          86,
          87,
          88,
          89,
          90,
          91,
          92,
          93,
          94,
          95,
          96,
          97,
          98,
          99,
          100,
          101,
          102,
          103,
          104,
          105,
          106,
          107,
          108,
          109,
          110,
          111,
          112,
          113,
          114,
          115,
          116,
          117,
          118,
          119,
          120,
          121,
          122,
          123,
          124,
          125,
          126,
          127,
          128,
          129,
          130,
          131,
          132,
          133,
          134,
          135,
          136,
          137,
          138,
          139,
          140,
          141,
          142,
          143,
          144,
          145,
          146,
          147,
          148,
          149,
          150,
          151,
          152,
          153,
          154,
          155,
          156,
          157,
          158,
          159
         ],
         "xaxis": "x",
         "y": [
          30,
          30,
          30,
          30,
          30,
          30,
          30,
          30,
          30,
          30,
          30,
          30,
          20,
          20,
          20,
          20,
          20,
          20,
          20,
          20,
          30,
          30,
          30,
          30,
          30,
          30,
          30,
          30,
          30,
          30,
          30,
          30,
          30,
          30,
          30,
          30,
          30,
          30,
          30,
          30,
          30,
          30,
          30,
          30,
          20,
          20,
          20,
          20,
          20,
          20,
          20,
          20,
          30,
          30,
          30,
          30,
          30,
          30,
          30,
          30,
          30,
          30,
          30,
          30,
          30,
          30,
          30,
          30,
          30,
          30,
          30,
          30,
          30,
          30,
          30,
          30,
          20,
          20,
          20,
          20,
          20,
          20,
          20,
          20,
          30,
          30,
          30,
          30,
          30,
          30,
          30,
          30,
          30,
          30,
          30,
          30,
          30,
          30,
          30,
          30,
          30,
          30,
          30,
          30,
          30,
          30,
          30,
          30,
          20,
          20,
          20,
          20,
          20,
          20,
          20,
          20,
          30,
          30,
          30,
          30,
          30,
          30,
          30,
          30,
          30,
          30,
          30,
          30,
          30,
          30,
          30,
          30,
          30,
          30,
          30,
          30,
          30,
          30,
          30,
          30,
          20,
          20,
          20,
          20,
          20,
          20,
          20,
          20,
          30,
          30,
          30,
          30,
          30,
          30,
          30,
          30,
          30,
          30,
          30,
          30
         ],
         "yaxis": "y"
        }
       ],
       "layout": {
        "legend": {
         "title": {
          "text": "variable"
         },
         "tracegroupgap": 0
        },
        "margin": {
         "t": 60
        },
        "template": {
         "data": {
          "bar": [
           {
            "error_x": {
             "color": "#2a3f5f"
            },
            "error_y": {
             "color": "#2a3f5f"
            },
            "marker": {
             "line": {
              "color": "#E5ECF6",
              "width": 0.5
             },
             "pattern": {
              "fillmode": "overlay",
              "size": 10,
              "solidity": 0.2
             }
            },
            "type": "bar"
           }
          ],
          "barpolar": [
           {
            "marker": {
             "line": {
              "color": "#E5ECF6",
              "width": 0.5
             },
             "pattern": {
              "fillmode": "overlay",
              "size": 10,
              "solidity": 0.2
             }
            },
            "type": "barpolar"
           }
          ],
          "carpet": [
           {
            "aaxis": {
             "endlinecolor": "#2a3f5f",
             "gridcolor": "white",
             "linecolor": "white",
             "minorgridcolor": "white",
             "startlinecolor": "#2a3f5f"
            },
            "baxis": {
             "endlinecolor": "#2a3f5f",
             "gridcolor": "white",
             "linecolor": "white",
             "minorgridcolor": "white",
             "startlinecolor": "#2a3f5f"
            },
            "type": "carpet"
           }
          ],
          "choropleth": [
           {
            "colorbar": {
             "outlinewidth": 0,
             "ticks": ""
            },
            "type": "choropleth"
           }
          ],
          "contour": [
           {
            "colorbar": {
             "outlinewidth": 0,
             "ticks": ""
            },
            "colorscale": [
             [
              0,
              "#0d0887"
             ],
             [
              0.1111111111111111,
              "#46039f"
             ],
             [
              0.2222222222222222,
              "#7201a8"
             ],
             [
              0.3333333333333333,
              "#9c179e"
             ],
             [
              0.4444444444444444,
              "#bd3786"
             ],
             [
              0.5555555555555556,
              "#d8576b"
             ],
             [
              0.6666666666666666,
              "#ed7953"
             ],
             [
              0.7777777777777778,
              "#fb9f3a"
             ],
             [
              0.8888888888888888,
              "#fdca26"
             ],
             [
              1,
              "#f0f921"
             ]
            ],
            "type": "contour"
           }
          ],
          "contourcarpet": [
           {
            "colorbar": {
             "outlinewidth": 0,
             "ticks": ""
            },
            "type": "contourcarpet"
           }
          ],
          "heatmap": [
           {
            "colorbar": {
             "outlinewidth": 0,
             "ticks": ""
            },
            "colorscale": [
             [
              0,
              "#0d0887"
             ],
             [
              0.1111111111111111,
              "#46039f"
             ],
             [
              0.2222222222222222,
              "#7201a8"
             ],
             [
              0.3333333333333333,
              "#9c179e"
             ],
             [
              0.4444444444444444,
              "#bd3786"
             ],
             [
              0.5555555555555556,
              "#d8576b"
             ],
             [
              0.6666666666666666,
              "#ed7953"
             ],
             [
              0.7777777777777778,
              "#fb9f3a"
             ],
             [
              0.8888888888888888,
              "#fdca26"
             ],
             [
              1,
              "#f0f921"
             ]
            ],
            "type": "heatmap"
           }
          ],
          "heatmapgl": [
           {
            "colorbar": {
             "outlinewidth": 0,
             "ticks": ""
            },
            "colorscale": [
             [
              0,
              "#0d0887"
             ],
             [
              0.1111111111111111,
              "#46039f"
             ],
             [
              0.2222222222222222,
              "#7201a8"
             ],
             [
              0.3333333333333333,
              "#9c179e"
             ],
             [
              0.4444444444444444,
              "#bd3786"
             ],
             [
              0.5555555555555556,
              "#d8576b"
             ],
             [
              0.6666666666666666,
              "#ed7953"
             ],
             [
              0.7777777777777778,
              "#fb9f3a"
             ],
             [
              0.8888888888888888,
              "#fdca26"
             ],
             [
              1,
              "#f0f921"
             ]
            ],
            "type": "heatmapgl"
           }
          ],
          "histogram": [
           {
            "marker": {
             "pattern": {
              "fillmode": "overlay",
              "size": 10,
              "solidity": 0.2
             }
            },
            "type": "histogram"
           }
          ],
          "histogram2d": [
           {
            "colorbar": {
             "outlinewidth": 0,
             "ticks": ""
            },
            "colorscale": [
             [
              0,
              "#0d0887"
             ],
             [
              0.1111111111111111,
              "#46039f"
             ],
             [
              0.2222222222222222,
              "#7201a8"
             ],
             [
              0.3333333333333333,
              "#9c179e"
             ],
             [
              0.4444444444444444,
              "#bd3786"
             ],
             [
              0.5555555555555556,
              "#d8576b"
             ],
             [
              0.6666666666666666,
              "#ed7953"
             ],
             [
              0.7777777777777778,
              "#fb9f3a"
             ],
             [
              0.8888888888888888,
              "#fdca26"
             ],
             [
              1,
              "#f0f921"
             ]
            ],
            "type": "histogram2d"
           }
          ],
          "histogram2dcontour": [
           {
            "colorbar": {
             "outlinewidth": 0,
             "ticks": ""
            },
            "colorscale": [
             [
              0,
              "#0d0887"
             ],
             [
              0.1111111111111111,
              "#46039f"
             ],
             [
              0.2222222222222222,
              "#7201a8"
             ],
             [
              0.3333333333333333,
              "#9c179e"
             ],
             [
              0.4444444444444444,
              "#bd3786"
             ],
             [
              0.5555555555555556,
              "#d8576b"
             ],
             [
              0.6666666666666666,
              "#ed7953"
             ],
             [
              0.7777777777777778,
              "#fb9f3a"
             ],
             [
              0.8888888888888888,
              "#fdca26"
             ],
             [
              1,
              "#f0f921"
             ]
            ],
            "type": "histogram2dcontour"
           }
          ],
          "mesh3d": [
           {
            "colorbar": {
             "outlinewidth": 0,
             "ticks": ""
            },
            "type": "mesh3d"
           }
          ],
          "parcoords": [
           {
            "line": {
             "colorbar": {
              "outlinewidth": 0,
              "ticks": ""
             }
            },
            "type": "parcoords"
           }
          ],
          "pie": [
           {
            "automargin": true,
            "type": "pie"
           }
          ],
          "scatter": [
           {
            "fillpattern": {
             "fillmode": "overlay",
             "size": 10,
             "solidity": 0.2
            },
            "type": "scatter"
           }
          ],
          "scatter3d": [
           {
            "line": {
             "colorbar": {
              "outlinewidth": 0,
              "ticks": ""
             }
            },
            "marker": {
             "colorbar": {
              "outlinewidth": 0,
              "ticks": ""
             }
            },
            "type": "scatter3d"
           }
          ],
          "scattercarpet": [
           {
            "marker": {
             "colorbar": {
              "outlinewidth": 0,
              "ticks": ""
             }
            },
            "type": "scattercarpet"
           }
          ],
          "scattergeo": [
           {
            "marker": {
             "colorbar": {
              "outlinewidth": 0,
              "ticks": ""
             }
            },
            "type": "scattergeo"
           }
          ],
          "scattergl": [
           {
            "marker": {
             "colorbar": {
              "outlinewidth": 0,
              "ticks": ""
             }
            },
            "type": "scattergl"
           }
          ],
          "scattermapbox": [
           {
            "marker": {
             "colorbar": {
              "outlinewidth": 0,
              "ticks": ""
             }
            },
            "type": "scattermapbox"
           }
          ],
          "scatterpolar": [
           {
            "marker": {
             "colorbar": {
              "outlinewidth": 0,
              "ticks": ""
             }
            },
            "type": "scatterpolar"
           }
          ],
          "scatterpolargl": [
           {
            "marker": {
             "colorbar": {
              "outlinewidth": 0,
              "ticks": ""
             }
            },
            "type": "scatterpolargl"
           }
          ],
          "scatterternary": [
           {
            "marker": {
             "colorbar": {
              "outlinewidth": 0,
              "ticks": ""
             }
            },
            "type": "scatterternary"
           }
          ],
          "surface": [
           {
            "colorbar": {
             "outlinewidth": 0,
             "ticks": ""
            },
            "colorscale": [
             [
              0,
              "#0d0887"
             ],
             [
              0.1111111111111111,
              "#46039f"
             ],
             [
              0.2222222222222222,
              "#7201a8"
             ],
             [
              0.3333333333333333,
              "#9c179e"
             ],
             [
              0.4444444444444444,
              "#bd3786"
             ],
             [
              0.5555555555555556,
              "#d8576b"
             ],
             [
              0.6666666666666666,
              "#ed7953"
             ],
             [
              0.7777777777777778,
              "#fb9f3a"
             ],
             [
              0.8888888888888888,
              "#fdca26"
             ],
             [
              1,
              "#f0f921"
             ]
            ],
            "type": "surface"
           }
          ],
          "table": [
           {
            "cells": {
             "fill": {
              "color": "#EBF0F8"
             },
             "line": {
              "color": "white"
             }
            },
            "header": {
             "fill": {
              "color": "#C8D4E3"
             },
             "line": {
              "color": "white"
             }
            },
            "type": "table"
           }
          ]
         },
         "layout": {
          "annotationdefaults": {
           "arrowcolor": "#2a3f5f",
           "arrowhead": 0,
           "arrowwidth": 1
          },
          "autotypenumbers": "strict",
          "coloraxis": {
           "colorbar": {
            "outlinewidth": 0,
            "ticks": ""
           }
          },
          "colorscale": {
           "diverging": [
            [
             0,
             "#8e0152"
            ],
            [
             0.1,
             "#c51b7d"
            ],
            [
             0.2,
             "#de77ae"
            ],
            [
             0.3,
             "#f1b6da"
            ],
            [
             0.4,
             "#fde0ef"
            ],
            [
             0.5,
             "#f7f7f7"
            ],
            [
             0.6,
             "#e6f5d0"
            ],
            [
             0.7,
             "#b8e186"
            ],
            [
             0.8,
             "#7fbc41"
            ],
            [
             0.9,
             "#4d9221"
            ],
            [
             1,
             "#276419"
            ]
           ],
           "sequential": [
            [
             0,
             "#0d0887"
            ],
            [
             0.1111111111111111,
             "#46039f"
            ],
            [
             0.2222222222222222,
             "#7201a8"
            ],
            [
             0.3333333333333333,
             "#9c179e"
            ],
            [
             0.4444444444444444,
             "#bd3786"
            ],
            [
             0.5555555555555556,
             "#d8576b"
            ],
            [
             0.6666666666666666,
             "#ed7953"
            ],
            [
             0.7777777777777778,
             "#fb9f3a"
            ],
            [
             0.8888888888888888,
             "#fdca26"
            ],
            [
             1,
             "#f0f921"
            ]
           ],
           "sequentialminus": [
            [
             0,
             "#0d0887"
            ],
            [
             0.1111111111111111,
             "#46039f"
            ],
            [
             0.2222222222222222,
             "#7201a8"
            ],
            [
             0.3333333333333333,
             "#9c179e"
            ],
            [
             0.4444444444444444,
             "#bd3786"
            ],
            [
             0.5555555555555556,
             "#d8576b"
            ],
            [
             0.6666666666666666,
             "#ed7953"
            ],
            [
             0.7777777777777778,
             "#fb9f3a"
            ],
            [
             0.8888888888888888,
             "#fdca26"
            ],
            [
             1,
             "#f0f921"
            ]
           ]
          },
          "colorway": [
           "#636efa",
           "#EF553B",
           "#00cc96",
           "#ab63fa",
           "#FFA15A",
           "#19d3f3",
           "#FF6692",
           "#B6E880",
           "#FF97FF",
           "#FECB52"
          ],
          "font": {
           "color": "#2a3f5f"
          },
          "geo": {
           "bgcolor": "white",
           "lakecolor": "white",
           "landcolor": "#E5ECF6",
           "showlakes": true,
           "showland": true,
           "subunitcolor": "white"
          },
          "hoverlabel": {
           "align": "left"
          },
          "hovermode": "closest",
          "mapbox": {
           "style": "light"
          },
          "paper_bgcolor": "white",
          "plot_bgcolor": "#E5ECF6",
          "polar": {
           "angularaxis": {
            "gridcolor": "white",
            "linecolor": "white",
            "ticks": ""
           },
           "bgcolor": "#E5ECF6",
           "radialaxis": {
            "gridcolor": "white",
            "linecolor": "white",
            "ticks": ""
           }
          },
          "scene": {
           "xaxis": {
            "backgroundcolor": "#E5ECF6",
            "gridcolor": "white",
            "gridwidth": 2,
            "linecolor": "white",
            "showbackground": true,
            "ticks": "",
            "zerolinecolor": "white"
           },
           "yaxis": {
            "backgroundcolor": "#E5ECF6",
            "gridcolor": "white",
            "gridwidth": 2,
            "linecolor": "white",
            "showbackground": true,
            "ticks": "",
            "zerolinecolor": "white"
           },
           "zaxis": {
            "backgroundcolor": "#E5ECF6",
            "gridcolor": "white",
            "gridwidth": 2,
            "linecolor": "white",
            "showbackground": true,
            "ticks": "",
            "zerolinecolor": "white"
           }
          },
          "shapedefaults": {
           "line": {
            "color": "#2a3f5f"
           }
          },
          "ternary": {
           "aaxis": {
            "gridcolor": "white",
            "linecolor": "white",
            "ticks": ""
           },
           "baxis": {
            "gridcolor": "white",
            "linecolor": "white",
            "ticks": ""
           },
           "bgcolor": "#E5ECF6",
           "caxis": {
            "gridcolor": "white",
            "linecolor": "white",
            "ticks": ""
           }
          },
          "title": {
           "x": 0.05
          },
          "xaxis": {
           "automargin": true,
           "gridcolor": "white",
           "linecolor": "white",
           "ticks": "",
           "title": {
            "standoff": 15
           },
           "zerolinecolor": "white",
           "zerolinewidth": 2
          },
          "yaxis": {
           "automargin": true,
           "gridcolor": "white",
           "linecolor": "white",
           "ticks": "",
           "title": {
            "standoff": 15
           },
           "zerolinecolor": "white",
           "zerolinewidth": 2
          }
         }
        },
        "xaxis": {
         "anchor": "y",
         "domain": [
          0,
          1
         ],
         "title": {
          "text": "Step"
         }
        },
        "yaxis": {
         "anchor": "x",
         "domain": [
          0,
          1
         ],
         "title": {
          "text": "Shap Value"
         }
        }
       }
      }
     },
     "metadata": {},
     "output_type": "display_data"
    }
   ],
   "source": [
    "# print(df[['curr_obs','action']])\n",
    "# print(df['action'].unique())\n",
    "# sns.lineplot(data=df_shapley[[\"DM\",\"DT\",\"SDT\",\"DP\",\"SDP\",\"DE\",\"SDE\",\"HP\"]], linewidth=2.5, palette=\"tab10\")\n",
    "fig =px.line(data_frame=df[[\"DM\",\"DT\",\"SDT\",\"DP\",\"SDP\",\"DE\",\"SDE\",\"HP\"]],x= df[[\"DM\",\"DT\",\"SDT\",\"DP\",\"SDP\",\"DE\",\"SDE\",\"HP\"]].index ,y = df[[\"DM\",\"DT\",\"SDT\",\"DP\",\"SDP\",\"DE\",\"SDE\",\"HP\"]].columns).update_layout(xaxis_title=\"Step\", yaxis_title=\"Shap Value\")\n",
    "fig.show()\n"
   ]
  },
  {
   "cell_type": "code",
   "execution_count": 39,
   "metadata": {},
   "outputs": [],
   "source": [
    "base_config_policy_2={\n",
    "    'lvl': 'policy_2',\n",
    "    'obs_type': \"distance\",\n",
    "    'learning_algo': \"PPO\",\n",
    "    'exp_type': \"switch_exitLessBetter\",\n",
    "    'action_type': 'switch',\n",
    "    'action_space_type': 'discrete',\n",
    "    'play_style': 'switch',\n",
    "    'reward_scheme': 'switch',\n",
    "    'learning_algo': 'PPO',\n",
    "    'exp_path': 'switching',\n",
    "    'base_path': 'play_style_models/base/',\n",
    "    'which_model': 'best_model',\n",
    "    # 'which_model': 'latest_model_500000_steps',\n",
    "}\n",
    "base_config={\n",
    "    'lvl': 'policy_8',\n",
    "    'obs_type': \"distance\",\n",
    "    'learning_algo': \"PPO\",\n",
    "    'exp_type': \"groupShap_policy_test_256\",\n",
    "    'action_type': 'switch',\n",
    "    'action_space_type': 'discrete',\n",
    "    'play_style': 'switch',\n",
    "    'reward_scheme': 'switch',\n",
    "    'learning_algo': 'PPO',\n",
    "    # 'exp_path': 'switching_analysis_new_hp',\n",
    "    'exp_path': 'groupShap_test',\n",
    "    'base_path': 'play_style_models/base/',\n",
    "    'which_model': 'best_model',\n",
    "    # 'which_model': 'latest_model_1000000_steps',\n",
    "}\n",
    "# df_shapley, pred_explain, internal, timing,MSEv,df = group_shap_single_exp(base_config)\n",
    "# print(df['action'].unique())\n",
    "# fig =px.line(data_frame=df_shapley[[\"DM\",\"DT\",\"SDT\",\"DP\",\"SDP\",\"DE\",\"SDE\",\"HP\"]].abs(),\n",
    "#              x= df_shapley[[\"DM\",\"DT\",\"SDT\",\"DP\",\"SDP\",\"DE\",\"SDE\",\"HP\"]].index ,\n",
    "#              y = df_shapley[[\"DM\",\"DT\",\"SDT\",\"DP\",\"SDP\",\"DE\",\"SDE\",\"HP\"]].columns,\n",
    "#              title =f\"{base_config[\"lvl\"]} | switching agent | independence | no group |  ( MSEv = {MSEv[\"MSEv\"]['MSEv'].iloc[0]} | time(sec) = {timing[\"total_time_secs\"]})\"\n",
    "#              ).update_layout(xaxis_title=\"Step\", yaxis_title=\"Shap Value (abs)\")\n",
    "# fig.show()\n",
    "# MSEv[\"MSEv\"]\n",
    "# img =gen_action_map(df,f=f'./README/resources/md_stages_screenshots/md-{base_config['lvl']}-v0_step0.jpg')\n",
    "# plt.imshow(img)\n",
    "# # timing\n",
    "# df_summary= groupShap_quant_results(df_shapley,df,MSEv,timing,approach='independence',grouping= None)\n",
    "# group_shap_resluts_to_csv(df_shapley,df,timing,MSEv,approach='independence',grouping= None,csv=\"groupShap_analysis/data/level_groupShap_summary.csv\")\n",
    "\n",
    "# df_summary"
   ]
  },
  {
   "cell_type": "markdown",
   "metadata": {},
   "source": [
    "#### independece"
   ]
  },
  {
   "cell_type": "code",
   "execution_count": 40,
   "metadata": {},
   "outputs": [
    {
     "name": "stdout",
     "output_type": "stream",
     "text": [
      "----------Generating Data----------\n",
      "{'lvl': 'policy_8', 'obs_type': 'distance', 'learning_algo': 'PPO', 'exp_type': 'groupShap_policy_test_256', 'action_type': 'switch', 'action_space_type': 'discrete', 'play_style': 'switch', 'reward_scheme': 'switch', 'exp_path': 'groupShap_test', 'base_path': 'play_style_models/base/', 'which_model': 'best_model'}\n",
      "switch-policy_8_switch_switch_groupShap_policy_test_256_PPO\n"
     ]
    },
    {
     "name": "stderr",
     "output_type": "stream",
     "text": [
      "R[write to console]: Note: You passed a model to explain() which is not natively supported, and did not supply a 'get_model_specs' function to explain().\n",
      "Consistency checks between model and data is therefore disabled.\n",
      "\n",
      "\n",
      "R[write to console]: Setting parameter 'n_batches' to 3 as a fair trade-off between memory consumption and computation time.\n",
      "Reducing 'n_batches' typically reduces the computation time at the cost of increased memory consumption.\n",
      "\n",
      "\n"
     ]
    },
    {
     "name": "stdout",
     "output_type": "stream",
     "text": [
      "0     [3.4390152]\n",
      "1     [4.3898497]\n",
      "2     [4.5002565]\n",
      "3      [4.350561]\n",
      "4     [3.9559822]\n",
      "5     [4.9885883]\n",
      "6      [5.270291]\n",
      "7      [5.270291]\n",
      "8      [4.546127]\n",
      "9       [5.33661]\n",
      "10    [5.5010586]\n",
      "11    [5.5010586]\n",
      "12     [4.546127]\n",
      "13      [5.33661]\n",
      "14    [5.5010586]\n",
      "15    [5.5010586]\n",
      "16     [4.546127]\n",
      "17      [5.33661]\n",
      "18    [5.5010586]\n",
      "19    [5.5010586]\n",
      "20     [4.546127]\n",
      "21      [5.33661]\n",
      "22    [5.5010586]\n",
      "Name: curr_obs, dtype: object\n",
      "['TREASURE' 'RUNNER']\n"
     ]
    },
    {
     "data": {
      "application/vnd.plotly.v1+json": {
       "config": {
        "plotlyServerURL": "https://plot.ly"
       },
       "data": [
        {
         "hovertemplate": "variable=DM<br>index=%{x}<br>value=%{y}<extra></extra>",
         "legendgroup": "DM",
         "line": {
          "color": "#636efa",
          "dash": "solid"
         },
         "marker": {
          "symbol": "circle"
         },
         "mode": "lines",
         "name": "DM",
         "orientation": "v",
         "showlegend": true,
         "type": "scatter",
         "x": [
          "1",
          "2",
          "3",
          "4",
          "5",
          "6",
          "7"
         ],
         "xaxis": "x",
         "y": [
          0.17814325700711056,
          0.03838937560410762,
          0.0416377364752237,
          0.1321049833504788,
          0.1663461109975665,
          0.11430904962272329,
          0.0401109486701593
         ],
         "yaxis": "y"
        },
        {
         "hovertemplate": "variable=DT<br>index=%{x}<br>value=%{y}<extra></extra>",
         "legendgroup": "DT",
         "line": {
          "color": "#EF553B",
          "dash": "solid"
         },
         "marker": {
          "symbol": "circle"
         },
         "mode": "lines",
         "name": "DT",
         "orientation": "v",
         "showlegend": true,
         "type": "scatter",
         "x": [
          "1",
          "2",
          "3",
          "4",
          "5",
          "6",
          "7"
         ],
         "xaxis": "x",
         "y": [
          0.3888291856740266,
          0.18588544031012164,
          0.07228823110868655,
          0.09310750717662174,
          0.16952640399973476,
          0.08857558213568024,
          0.09169615738319159
         ],
         "yaxis": "y"
        },
        {
         "hovertemplate": "variable=SDT<br>index=%{x}<br>value=%{y}<extra></extra>",
         "legendgroup": "SDT",
         "line": {
          "color": "#00cc96",
          "dash": "solid"
         },
         "marker": {
          "symbol": "circle"
         },
         "mode": "lines",
         "name": "SDT",
         "orientation": "v",
         "showlegend": true,
         "type": "scatter",
         "x": [
          "1",
          "2",
          "3",
          "4",
          "5",
          "6",
          "7"
         ],
         "xaxis": "x",
         "y": [
          0.32866797116941826,
          0.14126112427222853,
          0.09999107064644139,
          0.09040284716246111,
          0.16964552701894636,
          0.10358553863113204,
          0.08869496354015727
         ],
         "yaxis": "y"
        },
        {
         "hovertemplate": "variable=DP<br>index=%{x}<br>value=%{y}<extra></extra>",
         "legendgroup": "DP",
         "line": {
          "color": "#ab63fa",
          "dash": "solid"
         },
         "marker": {
          "symbol": "circle"
         },
         "mode": "lines",
         "name": "DP",
         "orientation": "v",
         "showlegend": true,
         "type": "scatter",
         "x": [
          "1",
          "2",
          "3",
          "4",
          "5",
          "6",
          "7"
         ],
         "xaxis": "x",
         "y": [
          0.14582938848582647,
          0.03855472385585897,
          0.042255961425750575,
          0.12213504359325862,
          0.1666657742404733,
          0.12291860463220675,
          0.04060419739506271
         ],
         "yaxis": "y"
        },
        {
         "hovertemplate": "variable=SDP<br>index=%{x}<br>value=%{y}<extra></extra>",
         "legendgroup": "SDP",
         "line": {
          "color": "#FFA15A",
          "dash": "solid"
         },
         "marker": {
          "symbol": "circle"
         },
         "mode": "lines",
         "name": "SDP",
         "orientation": "v",
         "showlegend": true,
         "type": "scatter",
         "x": [
          "1",
          "2",
          "3",
          "4",
          "5",
          "6",
          "7"
         ],
         "xaxis": "x",
         "y": [
          0.0983032893396044,
          0.039516915118250937,
          0.04342722411243633,
          0.10573688960956591,
          0.16699192646003244,
          0.13344237590270905,
          0.037853360322680496
         ],
         "yaxis": "y"
        },
        {
         "hovertemplate": "variable=DE<br>index=%{x}<br>value=%{y}<extra></extra>",
         "legendgroup": "DE",
         "line": {
          "color": "#19d3f3",
          "dash": "solid"
         },
         "marker": {
          "symbol": "circle"
         },
         "mode": "lines",
         "name": "DE",
         "orientation": "v",
         "showlegend": true,
         "type": "scatter",
         "x": [
          "1",
          "2",
          "3",
          "4",
          "5",
          "6",
          "7"
         ],
         "xaxis": "x",
         "y": [
          0.20509461733978918,
          0.05421262335633725,
          0.07116919023579352,
          0.20262358347944937,
          0.08424969855725394,
          0.10043456694204392,
          0.13015449479261632
         ],
         "yaxis": "y"
        },
        {
         "hovertemplate": "variable=SDE<br>index=%{x}<br>value=%{y}<extra></extra>",
         "legendgroup": "SDE",
         "line": {
          "color": "#FF6692",
          "dash": "solid"
         },
         "marker": {
          "symbol": "circle"
         },
         "mode": "lines",
         "name": "SDE",
         "orientation": "v",
         "showlegend": true,
         "type": "scatter",
         "x": [
          "1",
          "2",
          "3",
          "4",
          "5",
          "6",
          "7"
         ],
         "xaxis": "x",
         "y": [
          0.1754993580705016,
          0.054189759588606126,
          0.07114195631323937,
          0.1967169597514195,
          0.08434065818191126,
          0.10492244742016738,
          0.127843458436931
         ],
         "yaxis": "y"
        },
        {
         "hovertemplate": "variable=HP<br>index=%{x}<br>value=%{y}<extra></extra>",
         "legendgroup": "HP",
         "line": {
          "color": "#B6E880",
          "dash": "solid"
         },
         "marker": {
          "symbol": "circle"
         },
         "mode": "lines",
         "name": "HP",
         "orientation": "v",
         "showlegend": true,
         "type": "scatter",
         "x": [
          "1",
          "2",
          "3",
          "4",
          "5",
          "6",
          "7"
         ],
         "xaxis": "x",
         "y": [
          0.005974055897287384,
          0.023496669845821428,
          0.02318839072452646,
          0.0389879996196488,
          0.0016079188901730657,
          0.0036160761969587186,
          0.014886074094792149
         ],
         "yaxis": "y"
        }
       ],
       "layout": {
        "legend": {
         "title": {
          "text": "variable"
         },
         "tracegroupgap": 0
        },
        "template": {
         "data": {
          "bar": [
           {
            "error_x": {
             "color": "#2a3f5f"
            },
            "error_y": {
             "color": "#2a3f5f"
            },
            "marker": {
             "line": {
              "color": "#E5ECF6",
              "width": 0.5
             },
             "pattern": {
              "fillmode": "overlay",
              "size": 10,
              "solidity": 0.2
             }
            },
            "type": "bar"
           }
          ],
          "barpolar": [
           {
            "marker": {
             "line": {
              "color": "#E5ECF6",
              "width": 0.5
             },
             "pattern": {
              "fillmode": "overlay",
              "size": 10,
              "solidity": 0.2
             }
            },
            "type": "barpolar"
           }
          ],
          "carpet": [
           {
            "aaxis": {
             "endlinecolor": "#2a3f5f",
             "gridcolor": "white",
             "linecolor": "white",
             "minorgridcolor": "white",
             "startlinecolor": "#2a3f5f"
            },
            "baxis": {
             "endlinecolor": "#2a3f5f",
             "gridcolor": "white",
             "linecolor": "white",
             "minorgridcolor": "white",
             "startlinecolor": "#2a3f5f"
            },
            "type": "carpet"
           }
          ],
          "choropleth": [
           {
            "colorbar": {
             "outlinewidth": 0,
             "ticks": ""
            },
            "type": "choropleth"
           }
          ],
          "contour": [
           {
            "colorbar": {
             "outlinewidth": 0,
             "ticks": ""
            },
            "colorscale": [
             [
              0,
              "#0d0887"
             ],
             [
              0.1111111111111111,
              "#46039f"
             ],
             [
              0.2222222222222222,
              "#7201a8"
             ],
             [
              0.3333333333333333,
              "#9c179e"
             ],
             [
              0.4444444444444444,
              "#bd3786"
             ],
             [
              0.5555555555555556,
              "#d8576b"
             ],
             [
              0.6666666666666666,
              "#ed7953"
             ],
             [
              0.7777777777777778,
              "#fb9f3a"
             ],
             [
              0.8888888888888888,
              "#fdca26"
             ],
             [
              1,
              "#f0f921"
             ]
            ],
            "type": "contour"
           }
          ],
          "contourcarpet": [
           {
            "colorbar": {
             "outlinewidth": 0,
             "ticks": ""
            },
            "type": "contourcarpet"
           }
          ],
          "heatmap": [
           {
            "colorbar": {
             "outlinewidth": 0,
             "ticks": ""
            },
            "colorscale": [
             [
              0,
              "#0d0887"
             ],
             [
              0.1111111111111111,
              "#46039f"
             ],
             [
              0.2222222222222222,
              "#7201a8"
             ],
             [
              0.3333333333333333,
              "#9c179e"
             ],
             [
              0.4444444444444444,
              "#bd3786"
             ],
             [
              0.5555555555555556,
              "#d8576b"
             ],
             [
              0.6666666666666666,
              "#ed7953"
             ],
             [
              0.7777777777777778,
              "#fb9f3a"
             ],
             [
              0.8888888888888888,
              "#fdca26"
             ],
             [
              1,
              "#f0f921"
             ]
            ],
            "type": "heatmap"
           }
          ],
          "heatmapgl": [
           {
            "colorbar": {
             "outlinewidth": 0,
             "ticks": ""
            },
            "colorscale": [
             [
              0,
              "#0d0887"
             ],
             [
              0.1111111111111111,
              "#46039f"
             ],
             [
              0.2222222222222222,
              "#7201a8"
             ],
             [
              0.3333333333333333,
              "#9c179e"
             ],
             [
              0.4444444444444444,
              "#bd3786"
             ],
             [
              0.5555555555555556,
              "#d8576b"
             ],
             [
              0.6666666666666666,
              "#ed7953"
             ],
             [
              0.7777777777777778,
              "#fb9f3a"
             ],
             [
              0.8888888888888888,
              "#fdca26"
             ],
             [
              1,
              "#f0f921"
             ]
            ],
            "type": "heatmapgl"
           }
          ],
          "histogram": [
           {
            "marker": {
             "pattern": {
              "fillmode": "overlay",
              "size": 10,
              "solidity": 0.2
             }
            },
            "type": "histogram"
           }
          ],
          "histogram2d": [
           {
            "colorbar": {
             "outlinewidth": 0,
             "ticks": ""
            },
            "colorscale": [
             [
              0,
              "#0d0887"
             ],
             [
              0.1111111111111111,
              "#46039f"
             ],
             [
              0.2222222222222222,
              "#7201a8"
             ],
             [
              0.3333333333333333,
              "#9c179e"
             ],
             [
              0.4444444444444444,
              "#bd3786"
             ],
             [
              0.5555555555555556,
              "#d8576b"
             ],
             [
              0.6666666666666666,
              "#ed7953"
             ],
             [
              0.7777777777777778,
              "#fb9f3a"
             ],
             [
              0.8888888888888888,
              "#fdca26"
             ],
             [
              1,
              "#f0f921"
             ]
            ],
            "type": "histogram2d"
           }
          ],
          "histogram2dcontour": [
           {
            "colorbar": {
             "outlinewidth": 0,
             "ticks": ""
            },
            "colorscale": [
             [
              0,
              "#0d0887"
             ],
             [
              0.1111111111111111,
              "#46039f"
             ],
             [
              0.2222222222222222,
              "#7201a8"
             ],
             [
              0.3333333333333333,
              "#9c179e"
             ],
             [
              0.4444444444444444,
              "#bd3786"
             ],
             [
              0.5555555555555556,
              "#d8576b"
             ],
             [
              0.6666666666666666,
              "#ed7953"
             ],
             [
              0.7777777777777778,
              "#fb9f3a"
             ],
             [
              0.8888888888888888,
              "#fdca26"
             ],
             [
              1,
              "#f0f921"
             ]
            ],
            "type": "histogram2dcontour"
           }
          ],
          "mesh3d": [
           {
            "colorbar": {
             "outlinewidth": 0,
             "ticks": ""
            },
            "type": "mesh3d"
           }
          ],
          "parcoords": [
           {
            "line": {
             "colorbar": {
              "outlinewidth": 0,
              "ticks": ""
             }
            },
            "type": "parcoords"
           }
          ],
          "pie": [
           {
            "automargin": true,
            "type": "pie"
           }
          ],
          "scatter": [
           {
            "fillpattern": {
             "fillmode": "overlay",
             "size": 10,
             "solidity": 0.2
            },
            "type": "scatter"
           }
          ],
          "scatter3d": [
           {
            "line": {
             "colorbar": {
              "outlinewidth": 0,
              "ticks": ""
             }
            },
            "marker": {
             "colorbar": {
              "outlinewidth": 0,
              "ticks": ""
             }
            },
            "type": "scatter3d"
           }
          ],
          "scattercarpet": [
           {
            "marker": {
             "colorbar": {
              "outlinewidth": 0,
              "ticks": ""
             }
            },
            "type": "scattercarpet"
           }
          ],
          "scattergeo": [
           {
            "marker": {
             "colorbar": {
              "outlinewidth": 0,
              "ticks": ""
             }
            },
            "type": "scattergeo"
           }
          ],
          "scattergl": [
           {
            "marker": {
             "colorbar": {
              "outlinewidth": 0,
              "ticks": ""
             }
            },
            "type": "scattergl"
           }
          ],
          "scattermapbox": [
           {
            "marker": {
             "colorbar": {
              "outlinewidth": 0,
              "ticks": ""
             }
            },
            "type": "scattermapbox"
           }
          ],
          "scatterpolar": [
           {
            "marker": {
             "colorbar": {
              "outlinewidth": 0,
              "ticks": ""
             }
            },
            "type": "scatterpolar"
           }
          ],
          "scatterpolargl": [
           {
            "marker": {
             "colorbar": {
              "outlinewidth": 0,
              "ticks": ""
             }
            },
            "type": "scatterpolargl"
           }
          ],
          "scatterternary": [
           {
            "marker": {
             "colorbar": {
              "outlinewidth": 0,
              "ticks": ""
             }
            },
            "type": "scatterternary"
           }
          ],
          "surface": [
           {
            "colorbar": {
             "outlinewidth": 0,
             "ticks": ""
            },
            "colorscale": [
             [
              0,
              "#0d0887"
             ],
             [
              0.1111111111111111,
              "#46039f"
             ],
             [
              0.2222222222222222,
              "#7201a8"
             ],
             [
              0.3333333333333333,
              "#9c179e"
             ],
             [
              0.4444444444444444,
              "#bd3786"
             ],
             [
              0.5555555555555556,
              "#d8576b"
             ],
             [
              0.6666666666666666,
              "#ed7953"
             ],
             [
              0.7777777777777778,
              "#fb9f3a"
             ],
             [
              0.8888888888888888,
              "#fdca26"
             ],
             [
              1,
              "#f0f921"
             ]
            ],
            "type": "surface"
           }
          ],
          "table": [
           {
            "cells": {
             "fill": {
              "color": "#EBF0F8"
             },
             "line": {
              "color": "white"
             }
            },
            "header": {
             "fill": {
              "color": "#C8D4E3"
             },
             "line": {
              "color": "white"
             }
            },
            "type": "table"
           }
          ]
         },
         "layout": {
          "annotationdefaults": {
           "arrowcolor": "#2a3f5f",
           "arrowhead": 0,
           "arrowwidth": 1
          },
          "autotypenumbers": "strict",
          "coloraxis": {
           "colorbar": {
            "outlinewidth": 0,
            "ticks": ""
           }
          },
          "colorscale": {
           "diverging": [
            [
             0,
             "#8e0152"
            ],
            [
             0.1,
             "#c51b7d"
            ],
            [
             0.2,
             "#de77ae"
            ],
            [
             0.3,
             "#f1b6da"
            ],
            [
             0.4,
             "#fde0ef"
            ],
            [
             0.5,
             "#f7f7f7"
            ],
            [
             0.6,
             "#e6f5d0"
            ],
            [
             0.7,
             "#b8e186"
            ],
            [
             0.8,
             "#7fbc41"
            ],
            [
             0.9,
             "#4d9221"
            ],
            [
             1,
             "#276419"
            ]
           ],
           "sequential": [
            [
             0,
             "#0d0887"
            ],
            [
             0.1111111111111111,
             "#46039f"
            ],
            [
             0.2222222222222222,
             "#7201a8"
            ],
            [
             0.3333333333333333,
             "#9c179e"
            ],
            [
             0.4444444444444444,
             "#bd3786"
            ],
            [
             0.5555555555555556,
             "#d8576b"
            ],
            [
             0.6666666666666666,
             "#ed7953"
            ],
            [
             0.7777777777777778,
             "#fb9f3a"
            ],
            [
             0.8888888888888888,
             "#fdca26"
            ],
            [
             1,
             "#f0f921"
            ]
           ],
           "sequentialminus": [
            [
             0,
             "#0d0887"
            ],
            [
             0.1111111111111111,
             "#46039f"
            ],
            [
             0.2222222222222222,
             "#7201a8"
            ],
            [
             0.3333333333333333,
             "#9c179e"
            ],
            [
             0.4444444444444444,
             "#bd3786"
            ],
            [
             0.5555555555555556,
             "#d8576b"
            ],
            [
             0.6666666666666666,
             "#ed7953"
            ],
            [
             0.7777777777777778,
             "#fb9f3a"
            ],
            [
             0.8888888888888888,
             "#fdca26"
            ],
            [
             1,
             "#f0f921"
            ]
           ]
          },
          "colorway": [
           "#636efa",
           "#EF553B",
           "#00cc96",
           "#ab63fa",
           "#FFA15A",
           "#19d3f3",
           "#FF6692",
           "#B6E880",
           "#FF97FF",
           "#FECB52"
          ],
          "font": {
           "color": "#2a3f5f"
          },
          "geo": {
           "bgcolor": "white",
           "lakecolor": "white",
           "landcolor": "#E5ECF6",
           "showlakes": true,
           "showland": true,
           "subunitcolor": "white"
          },
          "hoverlabel": {
           "align": "left"
          },
          "hovermode": "closest",
          "mapbox": {
           "style": "light"
          },
          "paper_bgcolor": "white",
          "plot_bgcolor": "#E5ECF6",
          "polar": {
           "angularaxis": {
            "gridcolor": "white",
            "linecolor": "white",
            "ticks": ""
           },
           "bgcolor": "#E5ECF6",
           "radialaxis": {
            "gridcolor": "white",
            "linecolor": "white",
            "ticks": ""
           }
          },
          "scene": {
           "xaxis": {
            "backgroundcolor": "#E5ECF6",
            "gridcolor": "white",
            "gridwidth": 2,
            "linecolor": "white",
            "showbackground": true,
            "ticks": "",
            "zerolinecolor": "white"
           },
           "yaxis": {
            "backgroundcolor": "#E5ECF6",
            "gridcolor": "white",
            "gridwidth": 2,
            "linecolor": "white",
            "showbackground": true,
            "ticks": "",
            "zerolinecolor": "white"
           },
           "zaxis": {
            "backgroundcolor": "#E5ECF6",
            "gridcolor": "white",
            "gridwidth": 2,
            "linecolor": "white",
            "showbackground": true,
            "ticks": "",
            "zerolinecolor": "white"
           }
          },
          "shapedefaults": {
           "line": {
            "color": "#2a3f5f"
           }
          },
          "ternary": {
           "aaxis": {
            "gridcolor": "white",
            "linecolor": "white",
            "ticks": ""
           },
           "baxis": {
            "gridcolor": "white",
            "linecolor": "white",
            "ticks": ""
           },
           "bgcolor": "#E5ECF6",
           "caxis": {
            "gridcolor": "white",
            "linecolor": "white",
            "ticks": ""
           }
          },
          "title": {
           "x": 0.05
          },
          "xaxis": {
           "automargin": true,
           "gridcolor": "white",
           "linecolor": "white",
           "ticks": "",
           "title": {
            "standoff": 15
           },
           "zerolinecolor": "white",
           "zerolinewidth": 2
          },
          "yaxis": {
           "automargin": true,
           "gridcolor": "white",
           "linecolor": "white",
           "ticks": "",
           "title": {
            "standoff": 15
           },
           "zerolinecolor": "white",
           "zerolinewidth": 2
          }
         }
        },
        "title": {
         "text": "policy_8 | switching agent | independence | no group |  ( MSEv = 0.03537999055226382 | time(sec) = 1.385342)"
        },
        "xaxis": {
         "anchor": "y",
         "domain": [
          0,
          1
         ],
         "title": {
          "text": "Step"
         }
        },
        "yaxis": {
         "anchor": "x",
         "domain": [
          0,
          1
         ],
         "title": {
          "text": "Shap Value (abs)"
         }
        }
       }
      }
     },
     "metadata": {},
     "output_type": "display_data"
    },
    {
     "name": "stdout",
     "output_type": "stream",
     "text": [
      "switch-policy_8_switch_switch_groupShap_policy_test_256_PPO policy_8\n"
     ]
    },
    {
     "data": {
      "text/html": [
       "<div>\n",
       "<style scoped>\n",
       "    .dataframe tbody tr th:only-of-type {\n",
       "        vertical-align: middle;\n",
       "    }\n",
       "\n",
       "    .dataframe tbody tr th {\n",
       "        vertical-align: top;\n",
       "    }\n",
       "\n",
       "    .dataframe thead th {\n",
       "        text-align: right;\n",
       "    }\n",
       "</style>\n",
       "<table border=\"1\" class=\"dataframe\">\n",
       "  <thead>\n",
       "    <tr style=\"text-align: right;\">\n",
       "      <th></th>\n",
       "      <th>exp_id</th>\n",
       "      <th>level</th>\n",
       "      <th>approach</th>\n",
       "      <th>grouping</th>\n",
       "      <th>MSEv</th>\n",
       "      <th>MSEv_std</th>\n",
       "      <th>total_time_secs</th>\n",
       "      <th>setup</th>\n",
       "      <th>test_prediction</th>\n",
       "      <th>compute_vS</th>\n",
       "      <th>shapley_computation</th>\n",
       "      <th>match_avg</th>\n",
       "      <th>match_abs_avg</th>\n",
       "      <th>match_obj_avg</th>\n",
       "      <th>match_obj_abs_avg</th>\n",
       "    </tr>\n",
       "  </thead>\n",
       "  <tbody>\n",
       "    <tr>\n",
       "      <th>0</th>\n",
       "      <td>switch-policy_8_switch_switch_groupShap_policy...</td>\n",
       "      <td>policy_8</td>\n",
       "      <td>independence</td>\n",
       "      <td>None</td>\n",
       "      <td>0.03538</td>\n",
       "      <td>0.012359</td>\n",
       "      <td>1.385342</td>\n",
       "      <td>0.019076</td>\n",
       "      <td>0.001348</td>\n",
       "      <td>1.348355</td>\n",
       "      <td>0.016563</td>\n",
       "      <td>0.428571</td>\n",
       "      <td>0.714286</td>\n",
       "      <td>0.0</td>\n",
       "      <td>1.0</td>\n",
       "    </tr>\n",
       "  </tbody>\n",
       "</table>\n",
       "</div>"
      ],
      "text/plain": [
       "                                              exp_id     level      approach  \\\n",
       "0  switch-policy_8_switch_switch_groupShap_policy...  policy_8  independence   \n",
       "\n",
       "  grouping     MSEv  MSEv_std  total_time_secs     setup  test_prediction  \\\n",
       "0     None  0.03538  0.012359         1.385342  0.019076         0.001348   \n",
       "\n",
       "   compute_vS  shapley_computation  match_avg  match_abs_avg  match_obj_avg  \\\n",
       "0    1.348355             0.016563   0.428571       0.714286            0.0   \n",
       "\n",
       "   match_obj_abs_avg  \n",
       "0                1.0  "
      ]
     },
     "execution_count": 40,
     "metadata": {},
     "output_type": "execute_result"
    },
    {
     "data": {
      "image/png": "[encoded data removed]",
      "text/plain": [
       "<Figure size 640x480 with 1 Axes>"
      ]
     },
     "metadata": {},
     "output_type": "display_data"
    }
   ],
   "source": [
    "df_shapley, pred_explain, internal, timing,MSEv,df = group_shap_single_exp(base_config,approach='empirical')\n",
    "print(df['action'].unique())\n",
    "fig =px.line(data_frame=df_shapley[[\"DM\",\"DT\",\"SDT\",\"DP\",\"SDP\",\"DE\",\"SDE\",\"HP\"]].abs(),\n",
    "             x= df_shapley[[\"DM\",\"DT\",\"SDT\",\"DP\",\"SDP\",\"DE\",\"SDE\",\"HP\"]].index ,\n",
    "             y = df_shapley[[\"DM\",\"DT\",\"SDT\",\"DP\",\"SDP\",\"DE\",\"SDE\",\"HP\"]].columns,\n",
    "             title =f\"{base_config[\"lvl\"]} | switching agent | independence | no group |  ( MSEv = {MSEv[\"MSEv\"]['MSEv'].iloc[0]} | time(sec) = {timing[\"total_time_secs\"]})\"\n",
    "             ).update_layout(xaxis_title=\"Step\", yaxis_title=\"Shap Value (abs)\")\n",
    "fig.show()\n",
    "MSEv[\"MSEv\"]\n",
    "img =gen_action_map(df.loc[(df['run']==0)],f=f'./README/resources/md_stages_screenshots/md-{base_config['lvl']}-v0_step0.png')\n",
    "# img =gen_action_map(df.loc[(df['run']==0)],f=f'./README/resources/md_stages_screenshots/md-{base_config['lvl']}-v0_step0.jpg')\n",
    "\n",
    "plt.imshow(img)\n",
    "# timing\n",
    "df_summary= groupShap_quant_results(df_shapley,df,MSEv,timing,approach='independence',grouping= None)\n",
    "# group_shap_resluts_to_csv(df_shapley,df,timing,MSEv,approach='independence',grouping= None,csv=\"groupShap_analysis/data/level_groupShap_summary_new.csv\")\n",
    "\n",
    "df_summary"
   ]
  },
  {
   "cell_type": "markdown",
   "metadata": {},
   "source": [
    "#### Empirical | No group"
   ]
  },
  {
   "cell_type": "code",
   "execution_count": 12,
   "metadata": {},
   "outputs": [
    {
     "name": "stdout",
     "output_type": "stream",
     "text": [
      "----------Generating Data----------\n",
      "{'lvl': 'policy_6', 'obs_type': 'distance', 'learning_algo': 'PPO', 'exp_type': 'groupShap_test_1', 'action_type': 'switch', 'action_space_type': 'discrete', 'play_style': 'switch', 'reward_scheme': 'switch', 'exp_path': 'groupShap_test', 'base_path': 'play_style_models/base/', 'which_model': 'best_model'}\n",
      "switch-policy_6_switch_switch_groupShap_test_1_PPO\n"
     ]
    },
    {
     "name": "stderr",
     "output_type": "stream",
     "text": [
      "R[write to console]: Note: You passed a model to explain() which is not natively supported, and did not supply a 'get_model_specs' function to explain().\n",
      "Consistency checks between model and data is therefore disabled.\n",
      "\n",
      "\n",
      "R[write to console]: Setting parameter 'n_batches' to 3 as a fair trade-off between memory consumption and computation time.\n",
      "Reducing 'n_batches' typically reduces the computation time at the cost of increased memory consumption.\n",
      "\n",
      "\n"
     ]
    },
    {
     "name": "stdout",
     "output_type": "stream",
     "text": [
      "0       [3.6348264]\n",
      "1        [3.572431]\n",
      "2       [3.4087949]\n",
      "3       [3.0513945]\n",
      "4       [2.6039398]\n",
      "           ...     \n",
      "135     [0.6846249]\n",
      "136    [0.71788216]\n",
      "137    [0.77279633]\n",
      "138     [0.9457787]\n",
      "139     [1.1224713]\n",
      "Name: curr_obs, Length: 140, dtype: object\n",
      "['TREASURE' 'KILLER' 'POTION' 'RUNNER']\n"
     ]
    },
    {
     "data": {
      "application/vnd.plotly.v1+json": {
       "config": {
        "plotlyServerURL": "https://plot.ly"
       },
       "data": [
        {
         "hovertemplate": "variable=DM<br>index=%{x}<br>value=%{y}<extra></extra>",
         "legendgroup": "DM",
         "line": {
          "color": "#636efa",
          "dash": "solid"
         },
         "marker": {
          "symbol": "circle"
         },
         "mode": "lines",
         "name": "DM",
         "orientation": "v",
         "showlegend": true,
         "type": "scatter",
         "x": [
          "1",
          "2",
          "3",
          "4",
          "5",
          "6",
          "7",
          "8",
          "9",
          "10",
          "11",
          "12",
          "13",
          "14",
          "15",
          "16",
          "17",
          "18",
          "19",
          "20",
          "21",
          "22",
          "23",
          "24",
          "25",
          "26",
          "27",
          "28"
         ],
         "xaxis": "x",
         "y": [
          0.3031057835854048,
          0.28794267550926955,
          0.2504882103071722,
          0.11467709283379024,
          0.08650950011621744,
          0.2532066068760005,
          0.1250827697120404,
          0.00039468248529189444,
          0.1782570732014521,
          0.37085384137912597,
          0.25131104802955856,
          0.2933051722456155,
          0.522860458122569,
          0.1835379841051839,
          0.04126356835725123,
          0.03282248340084261,
          0.0716525771484875,
          0.100590226443332,
          0.10496194423205915,
          0.00959685374548779,
          0.15733235680585464,
          0.22138334213320635,
          0.23736708252239133,
          0.25774517541455694,
          0.2597919695493078,
          0.24211079959542536,
          0.18565878617300569,
          0.1604481955902198
         ],
         "yaxis": "y"
        },
        {
         "hovertemplate": "variable=DT<br>index=%{x}<br>value=%{y}<extra></extra>",
         "legendgroup": "DT",
         "line": {
          "color": "#EF553B",
          "dash": "solid"
         },
         "marker": {
          "symbol": "circle"
         },
         "mode": "lines",
         "name": "DT",
         "orientation": "v",
         "showlegend": true,
         "type": "scatter",
         "x": [
          "1",
          "2",
          "3",
          "4",
          "5",
          "6",
          "7",
          "8",
          "9",
          "10",
          "11",
          "12",
          "13",
          "14",
          "15",
          "16",
          "17",
          "18",
          "19",
          "20",
          "21",
          "22",
          "23",
          "24",
          "25",
          "26",
          "27",
          "28"
         ],
         "xaxis": "x",
         "y": [
          0.16988161750396308,
          0.17866180843239654,
          0.1729391808135535,
          0.18604490884356667,
          0.26136791387576225,
          0.10746590753703643,
          0.015042956197150455,
          0.01924678209728307,
          0.07896405262776877,
          0.15852352545781043,
          0.214595419159819,
          0.24705477042330648,
          0.11843211991360697,
          0.13622952392426857,
          0.06570765919267821,
          0.03300719428490993,
          0.0352535797972888,
          0.032475614117173965,
          0.009646234767156349,
          0.0718385354075863,
          0.0786299045733565,
          0.18640533193946698,
          0.2216906379588485,
          0.24960036069090485,
          0.25169152160664743,
          0.23323000787368384,
          0.20126205866773603,
          0.17800691728194773
         ],
         "yaxis": "y"
        },
        {
         "hovertemplate": "variable=SDT<br>index=%{x}<br>value=%{y}<extra></extra>",
         "legendgroup": "SDT",
         "line": {
          "color": "#00cc96",
          "dash": "solid"
         },
         "marker": {
          "symbol": "circle"
         },
         "mode": "lines",
         "name": "SDT",
         "orientation": "v",
         "showlegend": true,
         "type": "scatter",
         "x": [
          "1",
          "2",
          "3",
          "4",
          "5",
          "6",
          "7",
          "8",
          "9",
          "10",
          "11",
          "12",
          "13",
          "14",
          "15",
          "16",
          "17",
          "18",
          "19",
          "20",
          "21",
          "22",
          "23",
          "24",
          "25",
          "26",
          "27",
          "28"
         ],
         "xaxis": "x",
         "y": [
          0.1763839221336548,
          0.181839551996752,
          0.1720434623701535,
          0.18433697471015098,
          0.26205853953443525,
          0.014678205855937767,
          0.10534286596446532,
          0.11860677919244707,
          0.10888257539867736,
          0.07602890993867942,
          0.1469568721068743,
          0.14711851006725063,
          0.014595437481397286,
          0.001212024146945862,
          0.032721723047049164,
          0.04048627530784944,
          0.0489926904574496,
          0.046718821261010894,
          0.01610301441727426,
          0.0146740762941905,
          0.04233167388007816,
          0.1522067780017719,
          0.2107194485321291,
          0.24813852055781813,
          0.25297875177446266,
          0.23814869140127023,
          0.20110515281311006,
          0.1850544271178235
         ],
         "yaxis": "y"
        },
        {
         "hovertemplate": "variable=DP<br>index=%{x}<br>value=%{y}<extra></extra>",
         "legendgroup": "DP",
         "line": {
          "color": "#ab63fa",
          "dash": "solid"
         },
         "marker": {
          "symbol": "circle"
         },
         "mode": "lines",
         "name": "DP",
         "orientation": "v",
         "showlegend": true,
         "type": "scatter",
         "x": [
          "1",
          "2",
          "3",
          "4",
          "5",
          "6",
          "7",
          "8",
          "9",
          "10",
          "11",
          "12",
          "13",
          "14",
          "15",
          "16",
          "17",
          "18",
          "19",
          "20",
          "21",
          "22",
          "23",
          "24",
          "25",
          "26",
          "27",
          "28"
         ],
         "xaxis": "x",
         "y": [
          0.2556398613045513,
          0.24017596842367844,
          0.20894097179984164,
          0.12606510126723178,
          0.01831420261732205,
          0.1724226660311083,
          0.1665230783373085,
          0.14223590876500175,
          0.08504268284302875,
          0.0014978577927385577,
          0.09061749761915212,
          0.11182203178046506,
          0.019967064163956702,
          0.08355413936400344,
          0.043210936732758214,
          0.024348862761603873,
          0.07728797593557181,
          0.10690787248127033,
          0.12143419489869561,
          0.09832830123750821,
          0.033782181074912154,
          0.16255201780117473,
          0.13000821259454834,
          0.1012367850402674,
          0.06806638871398031,
          0.03367505992852532,
          0.016156605981709975,
          0.018680159895824514
         ],
         "yaxis": "y"
        },
        {
         "hovertemplate": "variable=SDP<br>index=%{x}<br>value=%{y}<extra></extra>",
         "legendgroup": "SDP",
         "line": {
          "color": "#FFA15A",
          "dash": "solid"
         },
         "marker": {
          "symbol": "circle"
         },
         "mode": "lines",
         "name": "SDP",
         "orientation": "v",
         "showlegend": true,
         "type": "scatter",
         "x": [
          "1",
          "2",
          "3",
          "4",
          "5",
          "6",
          "7",
          "8",
          "9",
          "10",
          "11",
          "12",
          "13",
          "14",
          "15",
          "16",
          "17",
          "18",
          "19",
          "20",
          "21",
          "22",
          "23",
          "24",
          "25",
          "26",
          "27",
          "28"
         ],
         "xaxis": "x",
         "y": [
          0.2892539021004506,
          0.26587911030767697,
          0.22702020864763484,
          0.12673261554786533,
          0.06713628474768245,
          0.15708620667539486,
          0.11851310312826048,
          0.005865544515360043,
          0.042992343756408084,
          0.003071732712268991,
          0.04920084949177796,
          0.05212547942408505,
          0.01711440586502484,
          0.09548935453836546,
          0.04517546072222006,
          0.02544832062567078,
          0.0784538071793735,
          0.10570857068450476,
          0.12477415524968889,
          0.1328833738330645,
          0.018456060972829175,
          0.16889033395618552,
          0.1099436010393352,
          0.0007478189817201588,
          0.015190527101004716,
          0.031550240572490375,
          0.13803634971185216,
          0.11386351514332957
         ],
         "yaxis": "y"
        },
        {
         "hovertemplate": "variable=DE<br>index=%{x}<br>value=%{y}<extra></extra>",
         "legendgroup": "DE",
         "line": {
          "color": "#19d3f3",
          "dash": "solid"
         },
         "marker": {
          "symbol": "circle"
         },
         "mode": "lines",
         "name": "DE",
         "orientation": "v",
         "showlegend": true,
         "type": "scatter",
         "x": [
          "1",
          "2",
          "3",
          "4",
          "5",
          "6",
          "7",
          "8",
          "9",
          "10",
          "11",
          "12",
          "13",
          "14",
          "15",
          "16",
          "17",
          "18",
          "19",
          "20",
          "21",
          "22",
          "23",
          "24",
          "25",
          "26",
          "27",
          "28"
         ],
         "xaxis": "x",
         "y": [
          0.19587190377596897,
          0.18169224945103857,
          0.15928363986234556,
          0.1362180511868858,
          0.11575187521737339,
          0.08761941888674435,
          0.011470523883980673,
          0.0034801220584608755,
          0.04370689653593137,
          0.10810960487968006,
          0.2251241552879639,
          0.27404711287029876,
          0.08080441620312769,
          0.04141664361753213,
          0.016826434124362452,
          0.03067763805431406,
          0.05583095053998086,
          0.07104644761608124,
          0.0556701129055102,
          0.010347944687514144,
          0.09851082466425082,
          0.26114047131336976,
          0.24438103251215396,
          0.2563020319220095,
          0.26241783230760585,
          0.26133249444906653,
          0.19922202318168789,
          0.14292757524983196
         ],
         "yaxis": "y"
        },
        {
         "hovertemplate": "variable=SDE<br>index=%{x}<br>value=%{y}<extra></extra>",
         "legendgroup": "SDE",
         "line": {
          "color": "#FF6692",
          "dash": "solid"
         },
         "marker": {
          "symbol": "circle"
         },
         "mode": "lines",
         "name": "SDE",
         "orientation": "v",
         "showlegend": true,
         "type": "scatter",
         "x": [
          "1",
          "2",
          "3",
          "4",
          "5",
          "6",
          "7",
          "8",
          "9",
          "10",
          "11",
          "12",
          "13",
          "14",
          "15",
          "16",
          "17",
          "18",
          "19",
          "20",
          "21",
          "22",
          "23",
          "24",
          "25",
          "26",
          "27",
          "28"
         ],
         "xaxis": "x",
         "y": [
          0.2086705899514172,
          0.19996028236721844,
          0.17965356462653093,
          0.13039499204566324,
          0.07819734067621113,
          0.10711245960077728,
          0.09599709225820098,
          0.12226358094959885,
          0.1141181301942606,
          0.07924724688725011,
          0.16582205713584383,
          0.1611489013203462,
          0.028777185987447433,
          0.04008461471838935,
          0.018005650969456576,
          0.031527826367345274,
          0.05557408548432278,
          0.07137503010882942,
          0.05471153197641513,
          0.02635137559174762,
          0.09779763032713482,
          0.24890937430597432,
          0.2449611380101845,
          0.25822615502574375,
          0.26114666171778755,
          0.24743265123055921,
          0.1952264697710852,
          0.15488206582167777
         ],
         "yaxis": "y"
        },
        {
         "hovertemplate": "variable=HP<br>index=%{x}<br>value=%{y}<extra></extra>",
         "legendgroup": "HP",
         "line": {
          "color": "#B6E880",
          "dash": "solid"
         },
         "marker": {
          "symbol": "circle"
         },
         "mode": "lines",
         "name": "HP",
         "orientation": "v",
         "showlegend": true,
         "type": "scatter",
         "x": [
          "1",
          "2",
          "3",
          "4",
          "5",
          "6",
          "7",
          "8",
          "9",
          "10",
          "11",
          "12",
          "13",
          "14",
          "15",
          "16",
          "17",
          "18",
          "19",
          "20",
          "21",
          "22",
          "23",
          "24",
          "25",
          "26",
          "27",
          "28"
         ],
         "xaxis": "x",
         "y": [
          0.040596939002913786,
          0.04033633043168175,
          0.0381901070661515,
          0.029690975612354915,
          0.01809152934713332,
          0.015493679982407206,
          0.0028028696941215384,
          0.01995796963121519,
          0.02720157725813014,
          0.03278903314722911,
          0.0381196442495318,
          0.024929509991103806,
          0.021401839762744165,
          0.06472356536048868,
          0.06671193807247097,
          0.056560089980073634,
          0.04685892203496255,
          0.05829957414513714,
          0.15723319308507763,
          0.4524264474432013,
          0.6412686614443001,
          0.04794236368912259,
          0.021248534363358253,
          0.01999366782603391,
          0.0178306831472866,
          0.01633916709721308,
          0.02648248211563263,
          0.03764158146377321
         ],
         "yaxis": "y"
        }
       ],
       "layout": {
        "legend": {
         "title": {
          "text": "variable"
         },
         "tracegroupgap": 0
        },
        "template": {
         "data": {
          "bar": [
           {
            "error_x": {
             "color": "#2a3f5f"
            },
            "error_y": {
             "color": "#2a3f5f"
            },
            "marker": {
             "line": {
              "color": "#E5ECF6",
              "width": 0.5
             },
             "pattern": {
              "fillmode": "overlay",
              "size": 10,
              "solidity": 0.2
             }
            },
            "type": "bar"
           }
          ],
          "barpolar": [
           {
            "marker": {
             "line": {
              "color": "#E5ECF6",
              "width": 0.5
             },
             "pattern": {
              "fillmode": "overlay",
              "size": 10,
              "solidity": 0.2
             }
            },
            "type": "barpolar"
           }
          ],
          "carpet": [
           {
            "aaxis": {
             "endlinecolor": "#2a3f5f",
             "gridcolor": "white",
             "linecolor": "white",
             "minorgridcolor": "white",
             "startlinecolor": "#2a3f5f"
            },
            "baxis": {
             "endlinecolor": "#2a3f5f",
             "gridcolor": "white",
             "linecolor": "white",
             "minorgridcolor": "white",
             "startlinecolor": "#2a3f5f"
            },
            "type": "carpet"
           }
          ],
          "choropleth": [
           {
            "colorbar": {
             "outlinewidth": 0,
             "ticks": ""
            },
            "type": "choropleth"
           }
          ],
          "contour": [
           {
            "colorbar": {
             "outlinewidth": 0,
             "ticks": ""
            },
            "colorscale": [
             [
              0,
              "#0d0887"
             ],
             [
              0.1111111111111111,
              "#46039f"
             ],
             [
              0.2222222222222222,
              "#7201a8"
             ],
             [
              0.3333333333333333,
              "#9c179e"
             ],
             [
              0.4444444444444444,
              "#bd3786"
             ],
             [
              0.5555555555555556,
              "#d8576b"
             ],
             [
              0.6666666666666666,
              "#ed7953"
             ],
             [
              0.7777777777777778,
              "#fb9f3a"
             ],
             [
              0.8888888888888888,
              "#fdca26"
             ],
             [
              1,
              "#f0f921"
             ]
            ],
            "type": "contour"
           }
          ],
          "contourcarpet": [
           {
            "colorbar": {
             "outlinewidth": 0,
             "ticks": ""
            },
            "type": "contourcarpet"
           }
          ],
          "heatmap": [
           {
            "colorbar": {
             "outlinewidth": 0,
             "ticks": ""
            },
            "colorscale": [
             [
              0,
              "#0d0887"
             ],
             [
              0.1111111111111111,
              "#46039f"
             ],
             [
              0.2222222222222222,
              "#7201a8"
             ],
             [
              0.3333333333333333,
              "#9c179e"
             ],
             [
              0.4444444444444444,
              "#bd3786"
             ],
             [
              0.5555555555555556,
              "#d8576b"
             ],
             [
              0.6666666666666666,
              "#ed7953"
             ],
             [
              0.7777777777777778,
              "#fb9f3a"
             ],
             [
              0.8888888888888888,
              "#fdca26"
             ],
             [
              1,
              "#f0f921"
             ]
            ],
            "type": "heatmap"
           }
          ],
          "heatmapgl": [
           {
            "colorbar": {
             "outlinewidth": 0,
             "ticks": ""
            },
            "colorscale": [
             [
              0,
              "#0d0887"
             ],
             [
              0.1111111111111111,
              "#46039f"
             ],
             [
              0.2222222222222222,
              "#7201a8"
             ],
             [
              0.3333333333333333,
              "#9c179e"
             ],
             [
              0.4444444444444444,
              "#bd3786"
             ],
             [
              0.5555555555555556,
              "#d8576b"
             ],
             [
              0.6666666666666666,
              "#ed7953"
             ],
             [
              0.7777777777777778,
              "#fb9f3a"
             ],
             [
              0.8888888888888888,
              "#fdca26"
             ],
             [
              1,
              "#f0f921"
             ]
            ],
            "type": "heatmapgl"
           }
          ],
          "histogram": [
           {
            "marker": {
             "pattern": {
              "fillmode": "overlay",
              "size": 10,
              "solidity": 0.2
             }
            },
            "type": "histogram"
           }
          ],
          "histogram2d": [
           {
            "colorbar": {
             "outlinewidth": 0,
             "ticks": ""
            },
            "colorscale": [
             [
              0,
              "#0d0887"
             ],
             [
              0.1111111111111111,
              "#46039f"
             ],
             [
              0.2222222222222222,
              "#7201a8"
             ],
             [
              0.3333333333333333,
              "#9c179e"
             ],
             [
              0.4444444444444444,
              "#bd3786"
             ],
             [
              0.5555555555555556,
              "#d8576b"
             ],
             [
              0.6666666666666666,
              "#ed7953"
             ],
             [
              0.7777777777777778,
              "#fb9f3a"
             ],
             [
              0.8888888888888888,
              "#fdca26"
             ],
             [
              1,
              "#f0f921"
             ]
            ],
            "type": "histogram2d"
           }
          ],
          "histogram2dcontour": [
           {
            "colorbar": {
             "outlinewidth": 0,
             "ticks": ""
            },
            "colorscale": [
             [
              0,
              "#0d0887"
             ],
             [
              0.1111111111111111,
              "#46039f"
             ],
             [
              0.2222222222222222,
              "#7201a8"
             ],
             [
              0.3333333333333333,
              "#9c179e"
             ],
             [
              0.4444444444444444,
              "#bd3786"
             ],
             [
              0.5555555555555556,
              "#d8576b"
             ],
             [
              0.6666666666666666,
              "#ed7953"
             ],
             [
              0.7777777777777778,
              "#fb9f3a"
             ],
             [
              0.8888888888888888,
              "#fdca26"
             ],
             [
              1,
              "#f0f921"
             ]
            ],
            "type": "histogram2dcontour"
           }
          ],
          "mesh3d": [
           {
            "colorbar": {
             "outlinewidth": 0,
             "ticks": ""
            },
            "type": "mesh3d"
           }
          ],
          "parcoords": [
           {
            "line": {
             "colorbar": {
              "outlinewidth": 0,
              "ticks": ""
             }
            },
            "type": "parcoords"
           }
          ],
          "pie": [
           {
            "automargin": true,
            "type": "pie"
           }
          ],
          "scatter": [
           {
            "fillpattern": {
             "fillmode": "overlay",
             "size": 10,
             "solidity": 0.2
            },
            "type": "scatter"
           }
          ],
          "scatter3d": [
           {
            "line": {
             "colorbar": {
              "outlinewidth": 0,
              "ticks": ""
             }
            },
            "marker": {
             "colorbar": {
              "outlinewidth": 0,
              "ticks": ""
             }
            },
            "type": "scatter3d"
           }
          ],
          "scattercarpet": [
           {
            "marker": {
             "colorbar": {
              "outlinewidth": 0,
              "ticks": ""
             }
            },
            "type": "scattercarpet"
           }
          ],
          "scattergeo": [
           {
            "marker": {
             "colorbar": {
              "outlinewidth": 0,
              "ticks": ""
             }
            },
            "type": "scattergeo"
           }
          ],
          "scattergl": [
           {
            "marker": {
             "colorbar": {
              "outlinewidth": 0,
              "ticks": ""
             }
            },
            "type": "scattergl"
           }
          ],
          "scattermapbox": [
           {
            "marker": {
             "colorbar": {
              "outlinewidth": 0,
              "ticks": ""
             }
            },
            "type": "scattermapbox"
           }
          ],
          "scatterpolar": [
           {
            "marker": {
             "colorbar": {
              "outlinewidth": 0,
              "ticks": ""
             }
            },
            "type": "scatterpolar"
           }
          ],
          "scatterpolargl": [
           {
            "marker": {
             "colorbar": {
              "outlinewidth": 0,
              "ticks": ""
             }
            },
            "type": "scatterpolargl"
           }
          ],
          "scatterternary": [
           {
            "marker": {
             "colorbar": {
              "outlinewidth": 0,
              "ticks": ""
             }
            },
            "type": "scatterternary"
           }
          ],
          "surface": [
           {
            "colorbar": {
             "outlinewidth": 0,
             "ticks": ""
            },
            "colorscale": [
             [
              0,
              "#0d0887"
             ],
             [
              0.1111111111111111,
              "#46039f"
             ],
             [
              0.2222222222222222,
              "#7201a8"
             ],
             [
              0.3333333333333333,
              "#9c179e"
             ],
             [
              0.4444444444444444,
              "#bd3786"
             ],
             [
              0.5555555555555556,
              "#d8576b"
             ],
             [
              0.6666666666666666,
              "#ed7953"
             ],
             [
              0.7777777777777778,
              "#fb9f3a"
             ],
             [
              0.8888888888888888,
              "#fdca26"
             ],
             [
              1,
              "#f0f921"
             ]
            ],
            "type": "surface"
           }
          ],
          "table": [
           {
            "cells": {
             "fill": {
              "color": "#EBF0F8"
             },
             "line": {
              "color": "white"
             }
            },
            "header": {
             "fill": {
              "color": "#C8D4E3"
             },
             "line": {
              "color": "white"
             }
            },
            "type": "table"
           }
          ]
         },
         "layout": {
          "annotationdefaults": {
           "arrowcolor": "#2a3f5f",
           "arrowhead": 0,
           "arrowwidth": 1
          },
          "autotypenumbers": "strict",
          "coloraxis": {
           "colorbar": {
            "outlinewidth": 0,
            "ticks": ""
           }
          },
          "colorscale": {
           "diverging": [
            [
             0,
             "#8e0152"
            ],
            [
             0.1,
             "#c51b7d"
            ],
            [
             0.2,
             "#de77ae"
            ],
            [
             0.3,
             "#f1b6da"
            ],
            [
             0.4,
             "#fde0ef"
            ],
            [
             0.5,
             "#f7f7f7"
            ],
            [
             0.6,
             "#e6f5d0"
            ],
            [
             0.7,
             "#b8e186"
            ],
            [
             0.8,
             "#7fbc41"
            ],
            [
             0.9,
             "#4d9221"
            ],
            [
             1,
             "#276419"
            ]
           ],
           "sequential": [
            [
             0,
             "#0d0887"
            ],
            [
             0.1111111111111111,
             "#46039f"
            ],
            [
             0.2222222222222222,
             "#7201a8"
            ],
            [
             0.3333333333333333,
             "#9c179e"
            ],
            [
             0.4444444444444444,
             "#bd3786"
            ],
            [
             0.5555555555555556,
             "#d8576b"
            ],
            [
             0.6666666666666666,
             "#ed7953"
            ],
            [
             0.7777777777777778,
             "#fb9f3a"
            ],
            [
             0.8888888888888888,
             "#fdca26"
            ],
            [
             1,
             "#f0f921"
            ]
           ],
           "sequentialminus": [
            [
             0,
             "#0d0887"
            ],
            [
             0.1111111111111111,
             "#46039f"
            ],
            [
             0.2222222222222222,
             "#7201a8"
            ],
            [
             0.3333333333333333,
             "#9c179e"
            ],
            [
             0.4444444444444444,
             "#bd3786"
            ],
            [
             0.5555555555555556,
             "#d8576b"
            ],
            [
             0.6666666666666666,
             "#ed7953"
            ],
            [
             0.7777777777777778,
             "#fb9f3a"
            ],
            [
             0.8888888888888888,
             "#fdca26"
            ],
            [
             1,
             "#f0f921"
            ]
           ]
          },
          "colorway": [
           "#636efa",
           "#EF553B",
           "#00cc96",
           "#ab63fa",
           "#FFA15A",
           "#19d3f3",
           "#FF6692",
           "#B6E880",
           "#FF97FF",
           "#FECB52"
          ],
          "font": {
           "color": "#2a3f5f"
          },
          "geo": {
           "bgcolor": "white",
           "lakecolor": "white",
           "landcolor": "#E5ECF6",
           "showlakes": true,
           "showland": true,
           "subunitcolor": "white"
          },
          "hoverlabel": {
           "align": "left"
          },
          "hovermode": "closest",
          "mapbox": {
           "style": "light"
          },
          "paper_bgcolor": "white",
          "plot_bgcolor": "#E5ECF6",
          "polar": {
           "angularaxis": {
            "gridcolor": "white",
            "linecolor": "white",
            "ticks": ""
           },
           "bgcolor": "#E5ECF6",
           "radialaxis": {
            "gridcolor": "white",
            "linecolor": "white",
            "ticks": ""
           }
          },
          "scene": {
           "xaxis": {
            "backgroundcolor": "#E5ECF6",
            "gridcolor": "white",
            "gridwidth": 2,
            "linecolor": "white",
            "showbackground": true,
            "ticks": "",
            "zerolinecolor": "white"
           },
           "yaxis": {
            "backgroundcolor": "#E5ECF6",
            "gridcolor": "white",
            "gridwidth": 2,
            "linecolor": "white",
            "showbackground": true,
            "ticks": "",
            "zerolinecolor": "white"
           },
           "zaxis": {
            "backgroundcolor": "#E5ECF6",
            "gridcolor": "white",
            "gridwidth": 2,
            "linecolor": "white",
            "showbackground": true,
            "ticks": "",
            "zerolinecolor": "white"
           }
          },
          "shapedefaults": {
           "line": {
            "color": "#2a3f5f"
           }
          },
          "ternary": {
           "aaxis": {
            "gridcolor": "white",
            "linecolor": "white",
            "ticks": ""
           },
           "baxis": {
            "gridcolor": "white",
            "linecolor": "white",
            "ticks": ""
           },
           "bgcolor": "#E5ECF6",
           "caxis": {
            "gridcolor": "white",
            "linecolor": "white",
            "ticks": ""
           }
          },
          "title": {
           "x": 0.05
          },
          "xaxis": {
           "automargin": true,
           "gridcolor": "white",
           "linecolor": "white",
           "ticks": "",
           "title": {
            "standoff": 15
           },
           "zerolinecolor": "white",
           "zerolinewidth": 2
          },
          "yaxis": {
           "automargin": true,
           "gridcolor": "white",
           "linecolor": "white",
           "ticks": "",
           "title": {
            "standoff": 15
           },
           "zerolinecolor": "white",
           "zerolinewidth": 2
          }
         }
        },
        "title": {
         "text": "policy_6 | switching agent | empirical | no group |  ( MSEv = 0.04241640641833383 | time(sec) = 4.1650339999999995)"
        },
        "xaxis": {
         "anchor": "y",
         "domain": [
          0,
          1
         ],
         "title": {
          "text": "Step"
         }
        },
        "yaxis": {
         "anchor": "x",
         "domain": [
          0,
          1
         ],
         "title": {
          "text": "Shap Value (abs)"
         }
        }
       }
      },
      "text/html": [
       "<div>                            <div id=\"93062a73-7642-4496-a7c9-94e3a86e00a2\" class=\"plotly-graph-div\" style=\"height:525px; width:100%;\"></div>            <script type=\"text/javascript\">                require([\"plotly\"], function(Plotly) {                    window.PLOTLYENV=window.PLOTLYENV || {};                                    if (document.getElementById(\"93062a73-7642-4496-a7c9-94e3a86e00a2\")) {                    Plotly.newPlot(                        \"93062a73-7642-4496-a7c9-94e3a86e00a2\",                        [{\"hovertemplate\":\"variable=DM\\u003cbr\\u003eindex=%{x}\\u003cbr\\u003evalue=%{y}\\u003cextra\\u003e\\u003c\\u002fextra\\u003e\",\"legendgroup\":\"DM\",\"line\":{\"color\":\"#636efa\",\"dash\":\"solid\"},\"marker\":{\"symbol\":\"circle\"},\"mode\":\"lines\",\"name\":\"DM\",\"orientation\":\"v\",\"showlegend\":true,\"x\":[\"1\",\"2\",\"3\",\"4\",\"5\",\"6\",\"7\",\"8\",\"9\",\"10\",\"11\",\"12\",\"13\",\"14\",\"15\",\"16\",\"17\",\"18\",\"19\",\"20\",\"21\",\"22\",\"23\",\"24\",\"25\",\"26\",\"27\",\"28\"],\"xaxis\":\"x\",\"y\":[0.3031057835854048,0.28794267550926955,0.2504882103071722,0.11467709283379024,0.08650950011621744,0.2532066068760005,0.1250827697120404,0.00039468248529189444,0.1782570732014521,0.37085384137912597,0.25131104802955856,0.2933051722456155,0.522860458122569,0.1835379841051839,0.04126356835725123,0.03282248340084261,0.0716525771484875,0.100590226443332,0.10496194423205915,0.00959685374548779,0.15733235680585464,0.22138334213320635,0.23736708252239133,0.25774517541455694,0.2597919695493078,0.24211079959542536,0.18565878617300569,0.1604481955902198],\"yaxis\":\"y\",\"type\":\"scatter\"},{\"hovertemplate\":\"variable=DT\\u003cbr\\u003eindex=%{x}\\u003cbr\\u003evalue=%{y}\\u003cextra\\u003e\\u003c\\u002fextra\\u003e\",\"legendgroup\":\"DT\",\"line\":{\"color\":\"#EF553B\",\"dash\":\"solid\"},\"marker\":{\"symbol\":\"circle\"},\"mode\":\"lines\",\"name\":\"DT\",\"orientation\":\"v\",\"showlegend\":true,\"x\":[\"1\",\"2\",\"3\",\"4\",\"5\",\"6\",\"7\",\"8\",\"9\",\"10\",\"11\",\"12\",\"13\",\"14\",\"15\",\"16\",\"17\",\"18\",\"19\",\"20\",\"21\",\"22\",\"23\",\"24\",\"25\",\"26\",\"27\",\"28\"],\"xaxis\":\"x\",\"y\":[0.16988161750396308,0.17866180843239654,0.1729391808135535,0.18604490884356667,0.26136791387576225,0.10746590753703643,0.015042956197150455,0.01924678209728307,0.07896405262776877,0.15852352545781043,0.214595419159819,0.24705477042330648,0.11843211991360697,0.13622952392426857,0.06570765919267821,0.03300719428490993,0.0352535797972888,0.032475614117173965,0.009646234767156349,0.0718385354075863,0.0786299045733565,0.18640533193946698,0.2216906379588485,0.24960036069090485,0.25169152160664743,0.23323000787368384,0.20126205866773603,0.17800691728194773],\"yaxis\":\"y\",\"type\":\"scatter\"},{\"hovertemplate\":\"variable=SDT\\u003cbr\\u003eindex=%{x}\\u003cbr\\u003evalue=%{y}\\u003cextra\\u003e\\u003c\\u002fextra\\u003e\",\"legendgroup\":\"SDT\",\"line\":{\"color\":\"#00cc96\",\"dash\":\"solid\"},\"marker\":{\"symbol\":\"circle\"},\"mode\":\"lines\",\"name\":\"SDT\",\"orientation\":\"v\",\"showlegend\":true,\"x\":[\"1\",\"2\",\"3\",\"4\",\"5\",\"6\",\"7\",\"8\",\"9\",\"10\",\"11\",\"12\",\"13\",\"14\",\"15\",\"16\",\"17\",\"18\",\"19\",\"20\",\"21\",\"22\",\"23\",\"24\",\"25\",\"26\",\"27\",\"28\"],\"xaxis\":\"x\",\"y\":[0.1763839221336548,0.181839551996752,0.1720434623701535,0.18433697471015098,0.26205853953443525,0.014678205855937767,0.10534286596446532,0.11860677919244707,0.10888257539867736,0.07602890993867942,0.1469568721068743,0.14711851006725063,0.014595437481397286,0.001212024146945862,0.032721723047049164,0.04048627530784944,0.0489926904574496,0.046718821261010894,0.01610301441727426,0.0146740762941905,0.04233167388007816,0.1522067780017719,0.2107194485321291,0.24813852055781813,0.25297875177446266,0.23814869140127023,0.20110515281311006,0.1850544271178235],\"yaxis\":\"y\",\"type\":\"scatter\"},{\"hovertemplate\":\"variable=DP\\u003cbr\\u003eindex=%{x}\\u003cbr\\u003evalue=%{y}\\u003cextra\\u003e\\u003c\\u002fextra\\u003e\",\"legendgroup\":\"DP\",\"line\":{\"color\":\"#ab63fa\",\"dash\":\"solid\"},\"marker\":{\"symbol\":\"circle\"},\"mode\":\"lines\",\"name\":\"DP\",\"orientation\":\"v\",\"showlegend\":true,\"x\":[\"1\",\"2\",\"3\",\"4\",\"5\",\"6\",\"7\",\"8\",\"9\",\"10\",\"11\",\"12\",\"13\",\"14\",\"15\",\"16\",\"17\",\"18\",\"19\",\"20\",\"21\",\"22\",\"23\",\"24\",\"25\",\"26\",\"27\",\"28\"],\"xaxis\":\"x\",\"y\":[0.2556398613045513,0.24017596842367844,0.20894097179984164,0.12606510126723178,0.01831420261732205,0.1724226660311083,0.1665230783373085,0.14223590876500175,0.08504268284302875,0.0014978577927385577,0.09061749761915212,0.11182203178046506,0.019967064163956702,0.08355413936400344,0.043210936732758214,0.024348862761603873,0.07728797593557181,0.10690787248127033,0.12143419489869561,0.09832830123750821,0.033782181074912154,0.16255201780117473,0.13000821259454834,0.1012367850402674,0.06806638871398031,0.03367505992852532,0.016156605981709975,0.018680159895824514],\"yaxis\":\"y\",\"type\":\"scatter\"},{\"hovertemplate\":\"variable=SDP\\u003cbr\\u003eindex=%{x}\\u003cbr\\u003evalue=%{y}\\u003cextra\\u003e\\u003c\\u002fextra\\u003e\",\"legendgroup\":\"SDP\",\"line\":{\"color\":\"#FFA15A\",\"dash\":\"solid\"},\"marker\":{\"symbol\":\"circle\"},\"mode\":\"lines\",\"name\":\"SDP\",\"orientation\":\"v\",\"showlegend\":true,\"x\":[\"1\",\"2\",\"3\",\"4\",\"5\",\"6\",\"7\",\"8\",\"9\",\"10\",\"11\",\"12\",\"13\",\"14\",\"15\",\"16\",\"17\",\"18\",\"19\",\"20\",\"21\",\"22\",\"23\",\"24\",\"25\",\"26\",\"27\",\"28\"],\"xaxis\":\"x\",\"y\":[0.2892539021004506,0.26587911030767697,0.22702020864763484,0.12673261554786533,0.06713628474768245,0.15708620667539486,0.11851310312826048,0.005865544515360043,0.042992343756408084,0.003071732712268991,0.04920084949177796,0.05212547942408505,0.01711440586502484,0.09548935453836546,0.04517546072222006,0.02544832062567078,0.0784538071793735,0.10570857068450476,0.12477415524968889,0.1328833738330645,0.018456060972829175,0.16889033395618552,0.1099436010393352,0.0007478189817201588,0.015190527101004716,0.031550240572490375,0.13803634971185216,0.11386351514332957],\"yaxis\":\"y\",\"type\":\"scatter\"},{\"hovertemplate\":\"variable=DE\\u003cbr\\u003eindex=%{x}\\u003cbr\\u003evalue=%{y}\\u003cextra\\u003e\\u003c\\u002fextra\\u003e\",\"legendgroup\":\"DE\",\"line\":{\"color\":\"#19d3f3\",\"dash\":\"solid\"},\"marker\":{\"symbol\":\"circle\"},\"mode\":\"lines\",\"name\":\"DE\",\"orientation\":\"v\",\"showlegend\":true,\"x\":[\"1\",\"2\",\"3\",\"4\",\"5\",\"6\",\"7\",\"8\",\"9\",\"10\",\"11\",\"12\",\"13\",\"14\",\"15\",\"16\",\"17\",\"18\",\"19\",\"20\",\"21\",\"22\",\"23\",\"24\",\"25\",\"26\",\"27\",\"28\"],\"xaxis\":\"x\",\"y\":[0.19587190377596897,0.18169224945103857,0.15928363986234556,0.1362180511868858,0.11575187521737339,0.08761941888674435,0.011470523883980673,0.0034801220584608755,0.04370689653593137,0.10810960487968006,0.2251241552879639,0.27404711287029876,0.08080441620312769,0.04141664361753213,0.016826434124362452,0.03067763805431406,0.05583095053998086,0.07104644761608124,0.0556701129055102,0.010347944687514144,0.09851082466425082,0.26114047131336976,0.24438103251215396,0.2563020319220095,0.26241783230760585,0.26133249444906653,0.19922202318168789,0.14292757524983196],\"yaxis\":\"y\",\"type\":\"scatter\"},{\"hovertemplate\":\"variable=SDE\\u003cbr\\u003eindex=%{x}\\u003cbr\\u003evalue=%{y}\\u003cextra\\u003e\\u003c\\u002fextra\\u003e\",\"legendgroup\":\"SDE\",\"line\":{\"color\":\"#FF6692\",\"dash\":\"solid\"},\"marker\":{\"symbol\":\"circle\"},\"mode\":\"lines\",\"name\":\"SDE\",\"orientation\":\"v\",\"showlegend\":true,\"x\":[\"1\",\"2\",\"3\",\"4\",\"5\",\"6\",\"7\",\"8\",\"9\",\"10\",\"11\",\"12\",\"13\",\"14\",\"15\",\"16\",\"17\",\"18\",\"19\",\"20\",\"21\",\"22\",\"23\",\"24\",\"25\",\"26\",\"27\",\"28\"],\"xaxis\":\"x\",\"y\":[0.2086705899514172,0.19996028236721844,0.17965356462653093,0.13039499204566324,0.07819734067621113,0.10711245960077728,0.09599709225820098,0.12226358094959885,0.1141181301942606,0.07924724688725011,0.16582205713584383,0.1611489013203462,0.028777185987447433,0.04008461471838935,0.018005650969456576,0.031527826367345274,0.05557408548432278,0.07137503010882942,0.05471153197641513,0.02635137559174762,0.09779763032713482,0.24890937430597432,0.2449611380101845,0.25822615502574375,0.26114666171778755,0.24743265123055921,0.1952264697710852,0.15488206582167777],\"yaxis\":\"y\",\"type\":\"scatter\"},{\"hovertemplate\":\"variable=HP\\u003cbr\\u003eindex=%{x}\\u003cbr\\u003evalue=%{y}\\u003cextra\\u003e\\u003c\\u002fextra\\u003e\",\"legendgroup\":\"HP\",\"line\":{\"color\":\"#B6E880\",\"dash\":\"solid\"},\"marker\":{\"symbol\":\"circle\"},\"mode\":\"lines\",\"name\":\"HP\",\"orientation\":\"v\",\"showlegend\":true,\"x\":[\"1\",\"2\",\"3\",\"4\",\"5\",\"6\",\"7\",\"8\",\"9\",\"10\",\"11\",\"12\",\"13\",\"14\",\"15\",\"16\",\"17\",\"18\",\"19\",\"20\",\"21\",\"22\",\"23\",\"24\",\"25\",\"26\",\"27\",\"28\"],\"xaxis\":\"x\",\"y\":[0.040596939002913786,0.04033633043168175,0.0381901070661515,0.029690975612354915,0.01809152934713332,0.015493679982407206,0.0028028696941215384,0.01995796963121519,0.02720157725813014,0.03278903314722911,0.0381196442495318,0.024929509991103806,0.021401839762744165,0.06472356536048868,0.06671193807247097,0.056560089980073634,0.04685892203496255,0.05829957414513714,0.15723319308507763,0.4524264474432013,0.6412686614443001,0.04794236368912259,0.021248534363358253,0.01999366782603391,0.0178306831472866,0.01633916709721308,0.02648248211563263,0.03764158146377321],\"yaxis\":\"y\",\"type\":\"scatter\"}],                        {\"template\":{\"data\":{\"histogram2dcontour\":[{\"type\":\"histogram2dcontour\",\"colorbar\":{\"outlinewidth\":0,\"ticks\":\"\"},\"colorscale\":[[0.0,\"#0d0887\"],[0.1111111111111111,\"#46039f\"],[0.2222222222222222,\"#7201a8\"],[0.3333333333333333,\"#9c179e\"],[0.4444444444444444,\"#bd3786\"],[0.5555555555555556,\"#d8576b\"],[0.6666666666666666,\"#ed7953\"],[0.7777777777777778,\"#fb9f3a\"],[0.8888888888888888,\"#fdca26\"],[1.0,\"#f0f921\"]]}],\"choropleth\":[{\"type\":\"choropleth\",\"colorbar\":{\"outlinewidth\":0,\"ticks\":\"\"}}],\"histogram2d\":[{\"type\":\"histogram2d\",\"colorbar\":{\"outlinewidth\":0,\"ticks\":\"\"},\"colorscale\":[[0.0,\"#0d0887\"],[0.1111111111111111,\"#46039f\"],[0.2222222222222222,\"#7201a8\"],[0.3333333333333333,\"#9c179e\"],[0.4444444444444444,\"#bd3786\"],[0.5555555555555556,\"#d8576b\"],[0.6666666666666666,\"#ed7953\"],[0.7777777777777778,\"#fb9f3a\"],[0.8888888888888888,\"#fdca26\"],[1.0,\"#f0f921\"]]}],\"heatmap\":[{\"type\":\"heatmap\",\"colorbar\":{\"outlinewidth\":0,\"ticks\":\"\"},\"colorscale\":[[0.0,\"#0d0887\"],[0.1111111111111111,\"#46039f\"],[0.2222222222222222,\"#7201a8\"],[0.3333333333333333,\"#9c179e\"],[0.4444444444444444,\"#bd3786\"],[0.5555555555555556,\"#d8576b\"],[0.6666666666666666,\"#ed7953\"],[0.7777777777777778,\"#fb9f3a\"],[0.8888888888888888,\"#fdca26\"],[1.0,\"#f0f921\"]]}],\"heatmapgl\":[{\"type\":\"heatmapgl\",\"colorbar\":{\"outlinewidth\":0,\"ticks\":\"\"},\"colorscale\":[[0.0,\"#0d0887\"],[0.1111111111111111,\"#46039f\"],[0.2222222222222222,\"#7201a8\"],[0.3333333333333333,\"#9c179e\"],[0.4444444444444444,\"#bd3786\"],[0.5555555555555556,\"#d8576b\"],[0.6666666666666666,\"#ed7953\"],[0.7777777777777778,\"#fb9f3a\"],[0.8888888888888888,\"#fdca26\"],[1.0,\"#f0f921\"]]}],\"contourcarpet\":[{\"type\":\"contourcarpet\",\"colorbar\":{\"outlinewidth\":0,\"ticks\":\"\"}}],\"contour\":[{\"type\":\"contour\",\"colorbar\":{\"outlinewidth\":0,\"ticks\":\"\"},\"colorscale\":[[0.0,\"#0d0887\"],[0.1111111111111111,\"#46039f\"],[0.2222222222222222,\"#7201a8\"],[0.3333333333333333,\"#9c179e\"],[0.4444444444444444,\"#bd3786\"],[0.5555555555555556,\"#d8576b\"],[0.6666666666666666,\"#ed7953\"],[0.7777777777777778,\"#fb9f3a\"],[0.8888888888888888,\"#fdca26\"],[1.0,\"#f0f921\"]]}],\"surface\":[{\"type\":\"surface\",\"colorbar\":{\"outlinewidth\":0,\"ticks\":\"\"},\"colorscale\":[[0.0,\"#0d0887\"],[0.1111111111111111,\"#46039f\"],[0.2222222222222222,\"#7201a8\"],[0.3333333333333333,\"#9c179e\"],[0.4444444444444444,\"#bd3786\"],[0.5555555555555556,\"#d8576b\"],[0.6666666666666666,\"#ed7953\"],[0.7777777777777778,\"#fb9f3a\"],[0.8888888888888888,\"#fdca26\"],[1.0,\"#f0f921\"]]}],\"mesh3d\":[{\"type\":\"mesh3d\",\"colorbar\":{\"outlinewidth\":0,\"ticks\":\"\"}}],\"scatter\":[{\"fillpattern\":{\"fillmode\":\"overlay\",\"size\":10,\"solidity\":0.2},\"type\":\"scatter\"}],\"parcoords\":[{\"type\":\"parcoords\",\"line\":{\"colorbar\":{\"outlinewidth\":0,\"ticks\":\"\"}}}],\"scatterpolargl\":[{\"type\":\"scatterpolargl\",\"marker\":{\"colorbar\":{\"outlinewidth\":0,\"ticks\":\"\"}}}],\"bar\":[{\"error_x\":{\"color\":\"#2a3f5f\"},\"error_y\":{\"color\":\"#2a3f5f\"},\"marker\":{\"line\":{\"color\":\"#E5ECF6\",\"width\":0.5},\"pattern\":{\"fillmode\":\"overlay\",\"size\":10,\"solidity\":0.2}},\"type\":\"bar\"}],\"scattergeo\":[{\"type\":\"scattergeo\",\"marker\":{\"colorbar\":{\"outlinewidth\":0,\"ticks\":\"\"}}}],\"scatterpolar\":[{\"type\":\"scatterpolar\",\"marker\":{\"colorbar\":{\"outlinewidth\":0,\"ticks\":\"\"}}}],\"histogram\":[{\"marker\":{\"pattern\":{\"fillmode\":\"overlay\",\"size\":10,\"solidity\":0.2}},\"type\":\"histogram\"}],\"scattergl\":[{\"type\":\"scattergl\",\"marker\":{\"colorbar\":{\"outlinewidth\":0,\"ticks\":\"\"}}}],\"scatter3d\":[{\"type\":\"scatter3d\",\"line\":{\"colorbar\":{\"outlinewidth\":0,\"ticks\":\"\"}},\"marker\":{\"colorbar\":{\"outlinewidth\":0,\"ticks\":\"\"}}}],\"scattermapbox\":[{\"type\":\"scattermapbox\",\"marker\":{\"colorbar\":{\"outlinewidth\":0,\"ticks\":\"\"}}}],\"scatterternary\":[{\"type\":\"scatterternary\",\"marker\":{\"colorbar\":{\"outlinewidth\":0,\"ticks\":\"\"}}}],\"scattercarpet\":[{\"type\":\"scattercarpet\",\"marker\":{\"colorbar\":{\"outlinewidth\":0,\"ticks\":\"\"}}}],\"carpet\":[{\"aaxis\":{\"endlinecolor\":\"#2a3f5f\",\"gridcolor\":\"white\",\"linecolor\":\"white\",\"minorgridcolor\":\"white\",\"startlinecolor\":\"#2a3f5f\"},\"baxis\":{\"endlinecolor\":\"#2a3f5f\",\"gridcolor\":\"white\",\"linecolor\":\"white\",\"minorgridcolor\":\"white\",\"startlinecolor\":\"#2a3f5f\"},\"type\":\"carpet\"}],\"table\":[{\"cells\":{\"fill\":{\"color\":\"#EBF0F8\"},\"line\":{\"color\":\"white\"}},\"header\":{\"fill\":{\"color\":\"#C8D4E3\"},\"line\":{\"color\":\"white\"}},\"type\":\"table\"}],\"barpolar\":[{\"marker\":{\"line\":{\"color\":\"#E5ECF6\",\"width\":0.5},\"pattern\":{\"fillmode\":\"overlay\",\"size\":10,\"solidity\":0.2}},\"type\":\"barpolar\"}],\"pie\":[{\"automargin\":true,\"type\":\"pie\"}]},\"layout\":{\"autotypenumbers\":\"strict\",\"colorway\":[\"#636efa\",\"#EF553B\",\"#00cc96\",\"#ab63fa\",\"#FFA15A\",\"#19d3f3\",\"#FF6692\",\"#B6E880\",\"#FF97FF\",\"#FECB52\"],\"font\":{\"color\":\"#2a3f5f\"},\"hovermode\":\"closest\",\"hoverlabel\":{\"align\":\"left\"},\"paper_bgcolor\":\"white\",\"plot_bgcolor\":\"#E5ECF6\",\"polar\":{\"bgcolor\":\"#E5ECF6\",\"angularaxis\":{\"gridcolor\":\"white\",\"linecolor\":\"white\",\"ticks\":\"\"},\"radialaxis\":{\"gridcolor\":\"white\",\"linecolor\":\"white\",\"ticks\":\"\"}},\"ternary\":{\"bgcolor\":\"#E5ECF6\",\"aaxis\":{\"gridcolor\":\"white\",\"linecolor\":\"white\",\"ticks\":\"\"},\"baxis\":{\"gridcolor\":\"white\",\"linecolor\":\"white\",\"ticks\":\"\"},\"caxis\":{\"gridcolor\":\"white\",\"linecolor\":\"white\",\"ticks\":\"\"}},\"coloraxis\":{\"colorbar\":{\"outlinewidth\":0,\"ticks\":\"\"}},\"colorscale\":{\"sequential\":[[0.0,\"#0d0887\"],[0.1111111111111111,\"#46039f\"],[0.2222222222222222,\"#7201a8\"],[0.3333333333333333,\"#9c179e\"],[0.4444444444444444,\"#bd3786\"],[0.5555555555555556,\"#d8576b\"],[0.6666666666666666,\"#ed7953\"],[0.7777777777777778,\"#fb9f3a\"],[0.8888888888888888,\"#fdca26\"],[1.0,\"#f0f921\"]],\"sequentialminus\":[[0.0,\"#0d0887\"],[0.1111111111111111,\"#46039f\"],[0.2222222222222222,\"#7201a8\"],[0.3333333333333333,\"#9c179e\"],[0.4444444444444444,\"#bd3786\"],[0.5555555555555556,\"#d8576b\"],[0.6666666666666666,\"#ed7953\"],[0.7777777777777778,\"#fb9f3a\"],[0.8888888888888888,\"#fdca26\"],[1.0,\"#f0f921\"]],\"diverging\":[[0,\"#8e0152\"],[0.1,\"#c51b7d\"],[0.2,\"#de77ae\"],[0.3,\"#f1b6da\"],[0.4,\"#fde0ef\"],[0.5,\"#f7f7f7\"],[0.6,\"#e6f5d0\"],[0.7,\"#b8e186\"],[0.8,\"#7fbc41\"],[0.9,\"#4d9221\"],[1,\"#276419\"]]},\"xaxis\":{\"gridcolor\":\"white\",\"linecolor\":\"white\",\"ticks\":\"\",\"title\":{\"standoff\":15},\"zerolinecolor\":\"white\",\"automargin\":true,\"zerolinewidth\":2},\"yaxis\":{\"gridcolor\":\"white\",\"linecolor\":\"white\",\"ticks\":\"\",\"title\":{\"standoff\":15},\"zerolinecolor\":\"white\",\"automargin\":true,\"zerolinewidth\":2},\"scene\":{\"xaxis\":{\"backgroundcolor\":\"#E5ECF6\",\"gridcolor\":\"white\",\"linecolor\":\"white\",\"showbackground\":true,\"ticks\":\"\",\"zerolinecolor\":\"white\",\"gridwidth\":2},\"yaxis\":{\"backgroundcolor\":\"#E5ECF6\",\"gridcolor\":\"white\",\"linecolor\":\"white\",\"showbackground\":true,\"ticks\":\"\",\"zerolinecolor\":\"white\",\"gridwidth\":2},\"zaxis\":{\"backgroundcolor\":\"#E5ECF6\",\"gridcolor\":\"white\",\"linecolor\":\"white\",\"showbackground\":true,\"ticks\":\"\",\"zerolinecolor\":\"white\",\"gridwidth\":2}},\"shapedefaults\":{\"line\":{\"color\":\"#2a3f5f\"}},\"annotationdefaults\":{\"arrowcolor\":\"#2a3f5f\",\"arrowhead\":0,\"arrowwidth\":1},\"geo\":{\"bgcolor\":\"white\",\"landcolor\":\"#E5ECF6\",\"subunitcolor\":\"white\",\"showland\":true,\"showlakes\":true,\"lakecolor\":\"white\"},\"title\":{\"x\":0.05},\"mapbox\":{\"style\":\"light\"}}},\"xaxis\":{\"anchor\":\"y\",\"domain\":[0.0,1.0],\"title\":{\"text\":\"Step\"}},\"yaxis\":{\"anchor\":\"x\",\"domain\":[0.0,1.0],\"title\":{\"text\":\"Shap Value (abs)\"}},\"legend\":{\"title\":{\"text\":\"variable\"},\"tracegroupgap\":0},\"title\":{\"text\":\"policy_6 | switching agent | empirical | no group |  ( MSEv = 0.04241640641833383 | time(sec) = 4.1650339999999995)\"}},                        {\"responsive\": true}                    ).then(function(){\n",
       "                            \n",
       "var gd = document.getElementById('93062a73-7642-4496-a7c9-94e3a86e00a2');\n",
       "var x = new MutationObserver(function (mutations, observer) {{\n",
       "        var display = window.getComputedStyle(gd).display;\n",
       "        if (!display || display === 'none') {{\n",
       "            console.log([gd, 'removed!']);\n",
       "            Plotly.purge(gd);\n",
       "            observer.disconnect();\n",
       "        }}\n",
       "}});\n",
       "\n",
       "// Listen for the removal of the full notebook cells\n",
       "var notebookContainer = gd.closest('#notebook-container');\n",
       "if (notebookContainer) {{\n",
       "    x.observe(notebookContainer, {childList: true});\n",
       "}}\n",
       "\n",
       "// Listen for the clearing of the current output cell\n",
       "var outputEl = gd.closest('.output');\n",
       "if (outputEl) {{\n",
       "    x.observe(outputEl, {childList: true});\n",
       "}}\n",
       "\n",
       "                        })                };                });            </script>        </div>"
      ]
     },
     "metadata": {},
     "output_type": "display_data"
    },
    {
     "name": "stderr",
     "output_type": "stream",
     "text": [
      "[ WARN:0@402.171] global loadsave.cpp:248 findDecoder imread_('./README/resources/md_stages_screenshots/md-policy_6-v0_step0.jpg'): can't open/read file: check file path/integrity\n"
     ]
    },
    {
     "ename": "error",
     "evalue": "OpenCV(4.9.0) /io/opencv/modules/imgproc/src/color.cpp:196: error: (-215:Assertion failed) !_src.empty() in function 'cvtColor'\n",
     "output_type": "error",
     "traceback": [
      "\u001b[0;31m---------------------------------------------------------------------------\u001b[0m",
      "\u001b[0;31merror\u001b[0m                                     Traceback (most recent call last)",
      "Cell \u001b[0;32mIn[12], line 10\u001b[0m\n\u001b[1;32m      8\u001b[0m fig\u001b[38;5;241m.\u001b[39mshow()\n\u001b[1;32m      9\u001b[0m MSEv[\u001b[38;5;124m\"\u001b[39m\u001b[38;5;124mMSEv\u001b[39m\u001b[38;5;124m\"\u001b[39m]\n\u001b[0;32m---> 10\u001b[0m img \u001b[38;5;241m=\u001b[39m\u001b[43mgen_action_map\u001b[49m\u001b[43m(\u001b[49m\u001b[43mdf\u001b[49m\u001b[43m,\u001b[49m\u001b[43mf\u001b[49m\u001b[38;5;241;43m=\u001b[39;49m\u001b[38;5;124;43mf\u001b[39;49m\u001b[38;5;124;43m'\u001b[39;49m\u001b[38;5;124;43m./README/resources/md_stages_screenshots/md-\u001b[39;49m\u001b[38;5;132;43;01m{\u001b[39;49;00m\u001b[43mbase_config\u001b[49m\u001b[43m[\u001b[49m\u001b[38;5;124;43m'\u001b[39;49m\u001b[38;5;124;43mlvl\u001b[39;49m\u001b[38;5;124;43m'\u001b[39;49m\u001b[43m]\u001b[49m\u001b[38;5;132;43;01m}\u001b[39;49;00m\u001b[38;5;124;43m-v0_step0.jpg\u001b[39;49m\u001b[38;5;124;43m'\u001b[39;49m\u001b[43m)\u001b[49m\n\u001b[1;32m     11\u001b[0m plt\u001b[38;5;241m.\u001b[39mimshow(img)\n\u001b[1;32m     13\u001b[0m df_summary\u001b[38;5;241m=\u001b[39m groupShap_quant_results(df_shapley,df,MSEv,timing,approach\u001b[38;5;241m=\u001b[39m\u001b[38;5;124m'\u001b[39m\u001b[38;5;124mempirical\u001b[39m\u001b[38;5;124m'\u001b[39m,grouping\u001b[38;5;241m=\u001b[39m \u001b[38;5;28;01mNone\u001b[39;00m)\n",
      "File \u001b[0;32m~/Masters/gym-md/md_shap.py:293\u001b[0m, in \u001b[0;36mgen_action_map\u001b[0;34m(df, f)\u001b[0m\n\u001b[1;32m    291\u001b[0m \u001b[38;5;66;03m# heat =\u001b[39;00m\n\u001b[1;32m    292\u001b[0m my_image \u001b[38;5;241m=\u001b[39m cv2\u001b[38;5;241m.\u001b[39mimread(f)\n\u001b[0;32m--> 293\u001b[0m my_image \u001b[38;5;241m=\u001b[39m \u001b[43mcv2\u001b[49m\u001b[38;5;241;43m.\u001b[39;49m\u001b[43mcvtColor\u001b[49m\u001b[43m(\u001b[49m\u001b[43mmy_image\u001b[49m\u001b[43m,\u001b[49m\u001b[43m \u001b[49m\u001b[43mcv2\u001b[49m\u001b[38;5;241;43m.\u001b[39;49m\u001b[43mCOLOR_BGR2RGB\u001b[49m\u001b[43m)\u001b[49m\n\u001b[1;32m    294\u001b[0m \u001b[38;5;66;03m# plt.imshow(my_image)\u001b[39;00m\n\u001b[1;32m    295\u001b[0m plt\u001b[38;5;241m.\u001b[39mtitle(df[\u001b[38;5;124m'\u001b[39m\u001b[38;5;124mexperiment\u001b[39m\u001b[38;5;124m'\u001b[39m][\u001b[38;5;241m0\u001b[39m])\n",
      "\u001b[0;31merror\u001b[0m: OpenCV(4.9.0) /io/opencv/modules/imgproc/src/color.cpp:196: error: (-215:Assertion failed) !_src.empty() in function 'cvtColor'\n"
     ]
    },
    {
     "data": {
      "image/png": "[encoded data removed]",
      "text/plain": [
       "<Figure size 640x480 with 1 Axes>"
      ]
     },
     "metadata": {},
     "output_type": "display_data"
    }
   ],
   "source": [
    "df_shapley, pred_explain, internal, timing,MSEv,df = group_shap_single_exp(base_config,approach='empirical')\n",
    "print(df['action'].unique())\n",
    "fig =px.line(data_frame=df_shapley[[\"DM\",\"DT\",\"SDT\",\"DP\",\"SDP\",\"DE\",\"SDE\",\"HP\"]].abs(),\n",
    "             x= df_shapley[[\"DM\",\"DT\",\"SDT\",\"DP\",\"SDP\",\"DE\",\"SDE\",\"HP\"]].index ,\n",
    "             y = df_shapley[[\"DM\",\"DT\",\"SDT\",\"DP\",\"SDP\",\"DE\",\"SDE\",\"HP\"]].columns,\n",
    "             title =f\"{base_config[\"lvl\"]} | switching agent | empirical | no group |  ( MSEv = {MSEv[\"MSEv\"]['MSEv'].iloc[0]} | time(sec) = {timing[\"total_time_secs\"]})\"\n",
    "             ).update_layout(xaxis_title=\"Step\", yaxis_title=\"Shap Value (abs)\")\n",
    "fig.show()\n",
    "MSEv[\"MSEv\"]\n",
    "img =gen_action_map(df,f=f'./README/resources/md_stages_screenshots/md-{base_config['lvl']}-v0_step0.jpg')\n",
    "plt.imshow(img)\n",
    "\n",
    "df_summary= groupShap_quant_results(df_shapley,df,MSEv,timing,approach='empirical',grouping= None)\n",
    "# group_shap_resluts_to_csv(df_shapley,df,timing,MSEv,approach='empirical',grouping= None,csv=\"groupShap_analysis/data/level_groupShap_summary.csv\")\n",
    "# df.loc[(df['run']==0)]\n",
    "# df['action'].loc[(df['run']==0)]\n",
    "\n",
    "# df_shapley.reset_index()\n",
    "\n",
    "#TODO add stat stuff\n",
    "# df_shapley\n",
    "df_summary"
   ]
  },
  {
   "cell_type": "markdown",
   "metadata": {},
   "source": [
    "#### Emirical | group = play-style"
   ]
  },
  {
   "cell_type": "code",
   "execution_count": 38,
   "metadata": {},
   "outputs": [
    {
     "name": "stdout",
     "output_type": "stream",
     "text": [
      "----------Generating Data----------\n",
      "{'lvl': 'strand_2', 'obs_type': 'distance', 'learning_algo': 'PPO', 'exp_type': 'switch_analysis_new', 'action_type': 'switch', 'action_space_type': 'discrete', 'play_style': 'switch', 'reward_scheme': 'switch', 'exp_path': 'switching_analysis_new_hp', 'base_path': 'play_style_models/base/', 'which_model': 'latest_model_500000_steps'}\n",
      "switch-strand_2_switch_switch_switch_analysis_new_PPO\n"
     ]
    },
    {
     "name": "stderr",
     "output_type": "stream",
     "text": [
      "R[write to console]: Note: You passed a model to explain() which is not natively supported, and did not supply a 'get_model_specs' function to explain().\n",
      "Consistency checks between model and data is therefore disabled.\n",
      "\n",
      "\n",
      "R[write to console]: Error in check_groups(feature_names, group) : \n",
      "  The data feature(s) HP do not\n",
      "belong to one of the groups. Add to a group.\n",
      "\n"
     ]
    },
    {
     "name": "stdout",
     "output_type": "stream",
     "text": [
      "0        [4.374073]\n",
      "1        [4.459479]\n",
      "2       [4.4202547]\n",
      "3       [4.4394565]\n",
      "4       [4.4886518]\n",
      "           ...     \n",
      "455     [2.7829485]\n",
      "456      [2.542296]\n",
      "457     [1.8365356]\n",
      "458    [0.93481016]\n",
      "459     [1.1645132]\n",
      "Name: curr_obs, Length: 460, dtype: object\n"
     ]
    },
    {
     "ename": "RRuntimeError",
     "evalue": "Error in check_groups(feature_names, group) : \n  The data feature(s) HP do not\nbelong to one of the groups. Add to a group.\n",
     "output_type": "error",
     "traceback": [
      "\u001b[0;31m---------------------------------------------------------------------------\u001b[0m",
      "\u001b[0;31mRRuntimeError\u001b[0m                             Traceback (most recent call last)",
      "Cell \u001b[0;32mIn[38], line 27\u001b[0m\n\u001b[1;32m     14\u001b[0m basic_group \u001b[38;5;241m=\u001b[39m {\n\u001b[1;32m     15\u001b[0m     \u001b[38;5;124m'\u001b[39m\u001b[38;5;124mTreasure\u001b[39m\u001b[38;5;124m'\u001b[39m:[\u001b[38;5;124m'\u001b[39m\u001b[38;5;124mDT\u001b[39m\u001b[38;5;124m'\u001b[39m,\u001b[38;5;124m'\u001b[39m\u001b[38;5;124mSDT\u001b[39m\u001b[38;5;124m'\u001b[39m],\n\u001b[1;32m     16\u001b[0m     \u001b[38;5;124m'\u001b[39m\u001b[38;5;124mExit\u001b[39m\u001b[38;5;124m'\u001b[39m: [\u001b[38;5;124m'\u001b[39m\u001b[38;5;124mDE\u001b[39m\u001b[38;5;124m'\u001b[39m,\u001b[38;5;124m'\u001b[39m\u001b[38;5;124mSDE\u001b[39m\u001b[38;5;124m'\u001b[39m],\n\u001b[1;32m     17\u001b[0m     \u001b[38;5;124m'\u001b[39m\u001b[38;5;124mHealth\u001b[39m\u001b[38;5;124m'\u001b[39m: [\u001b[38;5;124m'\u001b[39m\u001b[38;5;124mDP\u001b[39m\u001b[38;5;124m'\u001b[39m,\u001b[38;5;124m'\u001b[39m\u001b[38;5;124mSDP\u001b[39m\u001b[38;5;124m'\u001b[39m,\u001b[38;5;124m'\u001b[39m\u001b[38;5;124mHP\u001b[39m\u001b[38;5;124m'\u001b[39m,\u001b[38;5;124m'\u001b[39m\u001b[38;5;124mDM\u001b[39m\u001b[38;5;124m'\u001b[39m],\n\u001b[1;32m     18\u001b[0m     \u001b[38;5;66;03m# 'Monster':['DM']\u001b[39;00m\n\u001b[1;32m     19\u001b[0m }\n\u001b[1;32m     20\u001b[0m safety_group \u001b[38;5;241m=\u001b[39m {\n\u001b[1;32m     21\u001b[0m     \u001b[38;5;124m'\u001b[39m\u001b[38;5;124mTreasure\u001b[39m\u001b[38;5;124m'\u001b[39m:[\u001b[38;5;124m'\u001b[39m\u001b[38;5;124mDT\u001b[39m\u001b[38;5;124m'\u001b[39m],\n\u001b[1;32m     22\u001b[0m     \u001b[38;5;124m'\u001b[39m\u001b[38;5;124mExit\u001b[39m\u001b[38;5;124m'\u001b[39m: [\u001b[38;5;124m'\u001b[39m\u001b[38;5;124mDE\u001b[39m\u001b[38;5;124m'\u001b[39m],\n\u001b[0;32m   (...)\u001b[0m\n\u001b[1;32m     25\u001b[0m     \u001b[38;5;124m'\u001b[39m\u001b[38;5;124mMonster\u001b[39m\u001b[38;5;124m'\u001b[39m:[\u001b[38;5;124m'\u001b[39m\u001b[38;5;124mDM\u001b[39m\u001b[38;5;124m'\u001b[39m]\n\u001b[1;32m     26\u001b[0m }\n\u001b[0;32m---> 27\u001b[0m df_shapley, pred_explain, internal, timing,MSEv,df \u001b[38;5;241m=\u001b[39m \u001b[43mgroup_shap_single_exp\u001b[49m\u001b[43m(\u001b[49m\u001b[43mbase_config\u001b[49m\u001b[43m,\u001b[49m\u001b[43mapproach\u001b[49m\u001b[38;5;241;43m=\u001b[39;49m\u001b[38;5;124;43m'\u001b[39;49m\u001b[38;5;124;43mempirical\u001b[39;49m\u001b[38;5;124;43m'\u001b[39;49m\u001b[43m,\u001b[49m\u001b[43mgroup\u001b[49m\u001b[38;5;241;43m=\u001b[39;49m\u001b[43m \u001b[49m\u001b[43mgroup\u001b[49m\u001b[43m)\u001b[49m\n\u001b[1;32m     28\u001b[0m \u001b[38;5;28mprint\u001b[39m(df[\u001b[38;5;124m'\u001b[39m\u001b[38;5;124maction\u001b[39m\u001b[38;5;124m'\u001b[39m]\u001b[38;5;241m.\u001b[39munique())\n\u001b[1;32m     29\u001b[0m \u001b[38;5;66;03m#TODO look how to exclude non column\u001b[39;00m\n",
      "Cell \u001b[0;32mIn[31], line 400\u001b[0m, in \u001b[0;36mgroup_shap_single_exp\u001b[0;34m(config, approach, group)\u001b[0m\n\u001b[1;32m    397\u001b[0m \u001b[38;5;28mprint\u001b[39m(dfy_train)\n\u001b[1;32m    399\u001b[0m \u001b[38;5;66;03m# generate groupshap data\u001b[39;00m\n\u001b[0;32m--> 400\u001b[0m df_shapley, pred_explain, internal, timing, MSEv \u001b[38;5;241m=\u001b[39m \u001b[43mexplain\u001b[49m\u001b[43m(\u001b[49m\n\u001b[1;32m    401\u001b[0m \u001b[43m    \u001b[49m\u001b[43mmodel\u001b[49m\u001b[38;5;241;43m=\u001b[39;49m\u001b[43mmodel\u001b[49m\u001b[43m,\u001b[49m\n\u001b[1;32m    402\u001b[0m \u001b[43m    \u001b[49m\u001b[43mx_train\u001b[49m\u001b[38;5;241;43m=\u001b[39;49m\u001b[43mdf_train\u001b[49m\u001b[43m,\u001b[49m\n\u001b[1;32m    403\u001b[0m \u001b[43m    \u001b[49m\u001b[43mx_explain\u001b[49m\u001b[38;5;241;43m=\u001b[39;49m\u001b[43mdf_test\u001b[49m\u001b[43m,\u001b[49m\n\u001b[1;32m    404\u001b[0m \u001b[43m    \u001b[49m\u001b[43mapproach\u001b[49m\u001b[38;5;241;43m=\u001b[39;49m\u001b[43mapproach\u001b[49m\u001b[43m,\u001b[49m\n\u001b[1;32m    405\u001b[0m \u001b[43m    \u001b[49m\u001b[43mpredict_model\u001b[49m\u001b[38;5;241;43m=\u001b[39;49m\u001b[43m \u001b[49m\u001b[38;5;28;43;01mlambda\u001b[39;49;00m\u001b[43m \u001b[49m\u001b[43mm\u001b[49m\u001b[43m,\u001b[49m\u001b[43mx\u001b[49m\u001b[43m:\u001b[49m\u001b[43m \u001b[49m\u001b[43mnp\u001b[49m\u001b[38;5;241;43m.\u001b[39;49m\u001b[43mmax\u001b[49m\u001b[43m(\u001b[49m\u001b[43mm\u001b[49m\u001b[43m(\u001b[49m\u001b[43mtorch\u001b[49m\u001b[38;5;241;43m.\u001b[39;49m\u001b[43mfrom_numpy\u001b[49m\u001b[43m(\u001b[49m\u001b[43mx\u001b[49m\u001b[38;5;241;43m.\u001b[39;49m\u001b[43mto_numpy\u001b[49m\u001b[43m(\u001b[49m\u001b[43m)\u001b[49m\u001b[43m)\u001b[49m\u001b[38;5;241;43m.\u001b[39;49m\u001b[43mto\u001b[49m\u001b[43m(\u001b[49m\u001b[43mfloat32\u001b[49m\u001b[43m)\u001b[49m\u001b[43m)\u001b[49m\u001b[38;5;241;43m.\u001b[39;49m\u001b[43mdetach\u001b[49m\u001b[43m(\u001b[49m\u001b[43m)\u001b[49m\u001b[38;5;241;43m.\u001b[39;49m\u001b[43mnumpy\u001b[49m\u001b[43m(\u001b[49m\u001b[43m)\u001b[49m\u001b[43m,\u001b[49m\u001b[43mkeepdims\u001b[49m\u001b[38;5;241;43m=\u001b[39;49m\u001b[38;5;28;43;01mFalse\u001b[39;49;00m\u001b[43m,\u001b[49m\u001b[43maxis\u001b[49m\u001b[38;5;241;43m=\u001b[39;49m\u001b[38;5;241;43m1\u001b[39;49m\u001b[43m)\u001b[49m\u001b[43m,\u001b[49m\u001b[43m \u001b[49m\u001b[38;5;66;43;03m#requires model and x as param\u001b[39;49;00m\n\u001b[1;32m    406\u001b[0m \u001b[43m    \u001b[49m\u001b[43mprediction_zero\u001b[49m\u001b[38;5;241;43m=\u001b[39;49m\u001b[43mdfy_train\u001b[49m\u001b[38;5;241;43m.\u001b[39;49m\u001b[43mmean\u001b[49m\u001b[43m(\u001b[49m\u001b[43m)\u001b[49m\u001b[38;5;241;43m.\u001b[39;49m\u001b[43mitem\u001b[49m\u001b[43m(\u001b[49m\u001b[43m)\u001b[49m\u001b[43m,\u001b[49m\n\u001b[1;32m    407\u001b[0m \u001b[43m    \u001b[49m\u001b[38;5;66;43;03m# MSEv_uniform_comb_weights=False,\u001b[39;49;00m\n\u001b[1;32m    408\u001b[0m \u001b[43m    \u001b[49m\u001b[43mgroup\u001b[49m\u001b[38;5;241;43m=\u001b[39;49m\u001b[43mgroup\u001b[49m\u001b[43m,\u001b[49m\n\u001b[1;32m    409\u001b[0m \u001b[43m\u001b[49m\u001b[43m)\u001b[49m\n\u001b[1;32m    410\u001b[0m \u001b[38;5;28;01mreturn\u001b[39;00m df_shapley, pred_explain, internal, timing, MSEv, df\n",
      "File \u001b[0;32m~/Masters/gym-md/shapr/python/shaprpy/explain.py:127\u001b[0m, in \u001b[0;36mexplain\u001b[0;34m(model, x_explain, x_train, approach, prediction_zero, n_combinations, group, n_samples, n_batches, seed, keep_samp_for_vS, predict_model, get_model_specs, MSEv_uniform_comb_weights, timing, verbose)\u001b[0m\n\u001b[1;32m    124\u001b[0m \u001b[38;5;28;01melse\u001b[39;00m:\n\u001b[1;32m    125\u001b[0m   r_group \u001b[38;5;241m=\u001b[39m ListVector({key: StrVector(value) \u001b[38;5;28;01mfor\u001b[39;00m key, value \u001b[38;5;129;01min\u001b[39;00m group\u001b[38;5;241m.\u001b[39mitems()})\n\u001b[0;32m--> 127\u001b[0m rinternal \u001b[38;5;241m=\u001b[39m \u001b[43mshapr\u001b[49m\u001b[38;5;241;43m.\u001b[39;49m\u001b[43msetup\u001b[49m\u001b[43m(\u001b[49m\n\u001b[1;32m    128\u001b[0m \u001b[43m    \u001b[49m\u001b[43mx_train\u001b[49m\u001b[43m \u001b[49m\u001b[38;5;241;43m=\u001b[39;49m\u001b[43m \u001b[49m\u001b[43mpy2r\u001b[49m\u001b[43m(\u001b[49m\u001b[43mx_train\u001b[49m\u001b[43m)\u001b[49m\u001b[43m,\u001b[49m\n\u001b[1;32m    129\u001b[0m \u001b[43m    \u001b[49m\u001b[43mx_explain\u001b[49m\u001b[43m \u001b[49m\u001b[38;5;241;43m=\u001b[39;49m\u001b[43m \u001b[49m\u001b[43mpy2r\u001b[49m\u001b[43m(\u001b[49m\u001b[43mx_explain\u001b[49m\u001b[43m)\u001b[49m\u001b[43m,\u001b[49m\n\u001b[1;32m    130\u001b[0m \u001b[43m    \u001b[49m\u001b[43mapproach\u001b[49m\u001b[43m \u001b[49m\u001b[38;5;241;43m=\u001b[39;49m\u001b[43m \u001b[49m\u001b[43mapproach\u001b[49m\u001b[43m,\u001b[49m\n\u001b[1;32m    131\u001b[0m \u001b[43m    \u001b[49m\u001b[43mprediction_zero\u001b[49m\u001b[43m \u001b[49m\u001b[38;5;241;43m=\u001b[39;49m\u001b[43m \u001b[49m\u001b[43mprediction_zero\u001b[49m\u001b[43m,\u001b[49m\n\u001b[1;32m    132\u001b[0m \u001b[43m    \u001b[49m\u001b[43mn_combinations\u001b[49m\u001b[43m \u001b[49m\u001b[38;5;241;43m=\u001b[39;49m\u001b[43m \u001b[49m\u001b[43mmaybe_null\u001b[49m\u001b[43m(\u001b[49m\u001b[43mn_combinations\u001b[49m\u001b[43m)\u001b[49m\u001b[43m,\u001b[49m\n\u001b[1;32m    133\u001b[0m \u001b[43m    \u001b[49m\u001b[43mgroup\u001b[49m\u001b[43m \u001b[49m\u001b[38;5;241;43m=\u001b[39;49m\u001b[43m \u001b[49m\u001b[43mr_group\u001b[49m\u001b[43m,\u001b[49m\n\u001b[1;32m    134\u001b[0m \u001b[43m    \u001b[49m\u001b[43mn_samples\u001b[49m\u001b[43m \u001b[49m\u001b[38;5;241;43m=\u001b[39;49m\u001b[43m \u001b[49m\u001b[43mn_samples\u001b[49m\u001b[43m,\u001b[49m\n\u001b[1;32m    135\u001b[0m \u001b[43m    \u001b[49m\u001b[43mn_batches\u001b[49m\u001b[43m \u001b[49m\u001b[38;5;241;43m=\u001b[39;49m\u001b[43m \u001b[49m\u001b[43mmaybe_null\u001b[49m\u001b[43m(\u001b[49m\u001b[43mn_batches\u001b[49m\u001b[43m)\u001b[49m\u001b[43m,\u001b[49m\n\u001b[1;32m    136\u001b[0m \u001b[43m    \u001b[49m\u001b[43mseed\u001b[49m\u001b[43m \u001b[49m\u001b[38;5;241;43m=\u001b[39;49m\u001b[43m \u001b[49m\u001b[43mseed\u001b[49m\u001b[43m,\u001b[49m\n\u001b[1;32m    137\u001b[0m \u001b[43m    \u001b[49m\u001b[43mkeep_samp_for_vS\u001b[49m\u001b[43m \u001b[49m\u001b[38;5;241;43m=\u001b[39;49m\u001b[43m \u001b[49m\u001b[43mkeep_samp_for_vS\u001b[49m\u001b[43m,\u001b[49m\n\u001b[1;32m    138\u001b[0m \u001b[43m    \u001b[49m\u001b[43mfeature_specs\u001b[49m\u001b[43m \u001b[49m\u001b[38;5;241;43m=\u001b[39;49m\u001b[43m \u001b[49m\u001b[43mrfeature_specs\u001b[49m\u001b[43m,\u001b[49m\n\u001b[1;32m    139\u001b[0m \u001b[43m    \u001b[49m\u001b[43mMSEv_uniform_comb_weights\u001b[49m\u001b[43m \u001b[49m\u001b[38;5;241;43m=\u001b[39;49m\u001b[43m \u001b[49m\u001b[43mMSEv_uniform_comb_weights\u001b[49m\u001b[43m,\u001b[49m\n\u001b[1;32m    140\u001b[0m \u001b[43m    \u001b[49m\u001b[43mtiming\u001b[49m\u001b[43m \u001b[49m\u001b[38;5;241;43m=\u001b[39;49m\u001b[43m \u001b[49m\u001b[43mtiming\u001b[49m\u001b[43m,\u001b[49m\n\u001b[1;32m    141\u001b[0m \u001b[43m    \u001b[49m\u001b[43mverbose\u001b[49m\u001b[43m \u001b[49m\u001b[38;5;241;43m=\u001b[39;49m\u001b[43m \u001b[49m\u001b[43mverbose\u001b[49m\u001b[43m,\u001b[49m\n\u001b[1;32m    142\u001b[0m \u001b[43m    \u001b[49m\u001b[43mis_python\u001b[49m\u001b[38;5;241;43m=\u001b[39;49m\u001b[38;5;28;43;01mTrue\u001b[39;49;00m\u001b[43m,\u001b[49m\n\u001b[1;32m    143\u001b[0m \u001b[43m\u001b[49m\u001b[43m)\u001b[49m\n\u001b[1;32m    145\u001b[0m timing_list[\u001b[38;5;124m\"\u001b[39m\u001b[38;5;124msetup\u001b[39m\u001b[38;5;124m\"\u001b[39m] \u001b[38;5;241m=\u001b[39m datetime\u001b[38;5;241m.\u001b[39mnow()\n\u001b[1;32m    147\u001b[0m predict_model \u001b[38;5;241m=\u001b[39m get_predict_model(\n\u001b[1;32m    148\u001b[0m   x_test \u001b[38;5;241m=\u001b[39m x_train\u001b[38;5;241m.\u001b[39mhead(\u001b[38;5;241m2\u001b[39m),\n\u001b[1;32m    149\u001b[0m   predict_model \u001b[38;5;241m=\u001b[39m predict_model,\n\u001b[1;32m    150\u001b[0m   model \u001b[38;5;241m=\u001b[39m model,\n\u001b[1;32m    151\u001b[0m )\n",
      "File \u001b[0;32m~/anaconda3/envs/groupshap/lib/python3.12/site-packages/rpy2/robjects/functions.py:208\u001b[0m, in \u001b[0;36mSignatureTranslatedFunction.__call__\u001b[0;34m(self, *args, **kwargs)\u001b[0m\n\u001b[1;32m    206\u001b[0m         v \u001b[38;5;241m=\u001b[39m kwargs\u001b[38;5;241m.\u001b[39mpop(k)\n\u001b[1;32m    207\u001b[0m         kwargs[r_k] \u001b[38;5;241m=\u001b[39m v\n\u001b[0;32m--> 208\u001b[0m \u001b[38;5;28;01mreturn\u001b[39;00m (\u001b[38;5;28;43msuper\u001b[39;49m\u001b[43m(\u001b[49m\u001b[43mSignatureTranslatedFunction\u001b[49m\u001b[43m,\u001b[49m\u001b[43m \u001b[49m\u001b[38;5;28;43mself\u001b[39;49m\u001b[43m)\u001b[49m\n\u001b[1;32m    209\u001b[0m \u001b[43m        \u001b[49m\u001b[38;5;241;43m.\u001b[39;49m\u001b[38;5;21;43m__call__\u001b[39;49m\u001b[43m(\u001b[49m\u001b[38;5;241;43m*\u001b[39;49m\u001b[43margs\u001b[49m\u001b[43m,\u001b[49m\u001b[43m \u001b[49m\u001b[38;5;241;43m*\u001b[39;49m\u001b[38;5;241;43m*\u001b[39;49m\u001b[43mkwargs\u001b[49m\u001b[43m)\u001b[49m)\n",
      "File \u001b[0;32m~/anaconda3/envs/groupshap/lib/python3.12/site-packages/rpy2/robjects/functions.py:131\u001b[0m, in \u001b[0;36mFunction.__call__\u001b[0;34m(self, *args, **kwargs)\u001b[0m\n\u001b[1;32m    129\u001b[0m     \u001b[38;5;28;01melse\u001b[39;00m:\n\u001b[1;32m    130\u001b[0m         new_kwargs[k] \u001b[38;5;241m=\u001b[39m cv\u001b[38;5;241m.\u001b[39mpy2rpy(v)\n\u001b[0;32m--> 131\u001b[0m res \u001b[38;5;241m=\u001b[39m \u001b[38;5;28;43msuper\u001b[39;49m\u001b[43m(\u001b[49m\u001b[43mFunction\u001b[49m\u001b[43m,\u001b[49m\u001b[43m \u001b[49m\u001b[38;5;28;43mself\u001b[39;49m\u001b[43m)\u001b[49m\u001b[38;5;241;43m.\u001b[39;49m\u001b[38;5;21;43m__call__\u001b[39;49m\u001b[43m(\u001b[49m\u001b[38;5;241;43m*\u001b[39;49m\u001b[43mnew_args\u001b[49m\u001b[43m,\u001b[49m\u001b[43m \u001b[49m\u001b[38;5;241;43m*\u001b[39;49m\u001b[38;5;241;43m*\u001b[39;49m\u001b[43mnew_kwargs\u001b[49m\u001b[43m)\u001b[49m\n\u001b[1;32m    132\u001b[0m res \u001b[38;5;241m=\u001b[39m cv\u001b[38;5;241m.\u001b[39mrpy2py(res)\n\u001b[1;32m    133\u001b[0m \u001b[38;5;28;01mreturn\u001b[39;00m res\n",
      "File \u001b[0;32m~/anaconda3/envs/groupshap/lib/python3.12/site-packages/rpy2/rinterface_lib/conversion.py:45\u001b[0m, in \u001b[0;36m_cdata_res_to_rinterface.<locals>._\u001b[0;34m(*args, **kwargs)\u001b[0m\n\u001b[1;32m     44\u001b[0m \u001b[38;5;28;01mdef\u001b[39;00m \u001b[38;5;21m_\u001b[39m(\u001b[38;5;241m*\u001b[39margs, \u001b[38;5;241m*\u001b[39m\u001b[38;5;241m*\u001b[39mkwargs):\n\u001b[0;32m---> 45\u001b[0m     cdata \u001b[38;5;241m=\u001b[39m \u001b[43mfunction\u001b[49m\u001b[43m(\u001b[49m\u001b[38;5;241;43m*\u001b[39;49m\u001b[43margs\u001b[49m\u001b[43m,\u001b[49m\u001b[43m \u001b[49m\u001b[38;5;241;43m*\u001b[39;49m\u001b[38;5;241;43m*\u001b[39;49m\u001b[43mkwargs\u001b[49m\u001b[43m)\u001b[49m\n\u001b[1;32m     46\u001b[0m     \u001b[38;5;66;03m# TODO: test cdata is of the expected CType\u001b[39;00m\n\u001b[1;32m     47\u001b[0m     \u001b[38;5;28;01mreturn\u001b[39;00m _cdata_to_rinterface(cdata)\n",
      "File \u001b[0;32m~/anaconda3/envs/groupshap/lib/python3.12/site-packages/rpy2/rinterface.py:873\u001b[0m, in \u001b[0;36mSexpClosure.__call__\u001b[0;34m(self, *args, **kwargs)\u001b[0m\n\u001b[1;32m    866\u001b[0m     res \u001b[38;5;241m=\u001b[39m rmemory\u001b[38;5;241m.\u001b[39mprotect(\n\u001b[1;32m    867\u001b[0m         openrlib\u001b[38;5;241m.\u001b[39mrlib\u001b[38;5;241m.\u001b[39mR_tryEval(\n\u001b[1;32m    868\u001b[0m             call_r,\n\u001b[1;32m    869\u001b[0m             call_context\u001b[38;5;241m.\u001b[39m__sexp__\u001b[38;5;241m.\u001b[39m_cdata,\n\u001b[1;32m    870\u001b[0m             error_occured)\n\u001b[1;32m    871\u001b[0m     )\n\u001b[1;32m    872\u001b[0m     \u001b[38;5;28;01mif\u001b[39;00m error_occured[\u001b[38;5;241m0\u001b[39m]:\n\u001b[0;32m--> 873\u001b[0m         \u001b[38;5;28;01mraise\u001b[39;00m embedded\u001b[38;5;241m.\u001b[39mRRuntimeError(_rinterface\u001b[38;5;241m.\u001b[39m_geterrmessage())\n\u001b[1;32m    874\u001b[0m \u001b[38;5;28;01mreturn\u001b[39;00m res\n",
      "\u001b[0;31mRRuntimeError\u001b[0m: Error in check_groups(feature_names, group) : \n  The data feature(s) HP do not\nbelong to one of the groups. Add to a group.\n"
     ]
    }
   ],
   "source": [
    "object_group = {\n",
    "    'Treasure':['DT','SDT'],\n",
    "    'Exit': ['DE','SDE'],\n",
    "    'Potion': ['DP','SDP'],\n",
    "    'Monster': ['DM'],\n",
    "    'HP': ['HP']\n",
    "}\n",
    "group = {\n",
    "    'Treasure':['DT','SDT'],\n",
    "    'Exit': ['DE','SDE'],\n",
    "    'Health': ['DP','SDP'],\n",
    "    'Monster':['DM']\n",
    "}\n",
    "basic_group = {\n",
    "    'Treasure':['DT','SDT'],\n",
    "    'Exit': ['DE','SDE'],\n",
    "    'Health': ['DP','SDP','HP','DM'],\n",
    "    # 'Monster':['DM']\n",
    "}\n",
    "safety_group = {\n",
    "    'Treasure':['DT'],\n",
    "    'Exit': ['DE'],\n",
    "    'Potion': ['DP'],\n",
    "    'Safe': ['SDT','SDP','SDE','HP'],\n",
    "    'Monster':['DM']\n",
    "}\n",
    "df_shapley, pred_explain, internal, timing,MSEv,df = group_shap_single_exp(base_config,approach='empirical',group= group)\n",
    "print(df['action'].unique())\n",
    "#TODO look how to exclude non column\n",
    "df_shapley.drop(columns = 'none',inplace=True)\n",
    "fig =px.line(data_frame=df_shapley,\n",
    "             x= df_shapley.index ,\n",
    "             y = df_shapley.columns,\n",
    "             title =f\"{base_config[\"lvl\"]} | switching agent | empirical | play-style group |  ( MSEv = {MSEv[\"MSEv\"]['MSEv'].iloc[0]} | time(sec) = {timing[\"total_time_secs\"]})\"\n",
    "             ).update_layout(xaxis_title=\"Step\", yaxis_title=\"Shap Value (abs)\")\n",
    "fig.show()\n",
    "MSEv['MSEv']\n",
    "img =gen_action_map(df,f=f'./README/resources/md_stages_screenshots/md-{base_config['lvl']}-v0_step0.jpg')\n",
    "plt.imshow(img)\n",
    "\n",
    "df_summary= groupShap_quant_results(df_shapley,df,MSEv,timing,approach='empirical',grouping= 'play-style')\n",
    "# group_shap_resluts_to_csv(df_shapley,df,timing,MSEv,approach='empirical',grouping= \"play-style\",csv=\"groupShap_analysis/data/level_groupShap_summary.csv\")\n",
    "\n",
    "df_summary"
   ]
  },
  {
   "cell_type": "code",
   "execution_count": 10,
   "metadata": {},
   "outputs": [
    {
     "data": {
      "text/html": [
       "<div>\n",
       "<style scoped>\n",
       "    .dataframe tbody tr th:only-of-type {\n",
       "        vertical-align: middle;\n",
       "    }\n",
       "\n",
       "    .dataframe tbody tr th {\n",
       "        vertical-align: top;\n",
       "    }\n",
       "\n",
       "    .dataframe thead th {\n",
       "        text-align: right;\n",
       "    }\n",
       "</style>\n",
       "<table border=\"1\" class=\"dataframe\">\n",
       "  <thead>\n",
       "    <tr style=\"text-align: right;\">\n",
       "      <th></th>\n",
       "      <th>MSEv</th>\n",
       "      <th>MSEv_std</th>\n",
       "      <th>total_time_secs</th>\n",
       "      <th>setup</th>\n",
       "      <th>test_prediction</th>\n",
       "      <th>compute_vS</th>\n",
       "      <th>shapley_computation</th>\n",
       "      <th>match_avg</th>\n",
       "      <th>match_abs_avg</th>\n",
       "      <th>match_obj_avg</th>\n",
       "      <th>match_obj_abs_avg</th>\n",
       "    </tr>\n",
       "  </thead>\n",
       "  <tbody>\n",
       "    <tr>\n",
       "      <th>count</th>\n",
       "      <td>20.000000</td>\n",
       "      <td>20.000000</td>\n",
       "      <td>20.000000</td>\n",
       "      <td>20.000000</td>\n",
       "      <td>20.000000</td>\n",
       "      <td>20.000000</td>\n",
       "      <td>20.000000</td>\n",
       "      <td>20.000000</td>\n",
       "      <td>20.000000</td>\n",
       "      <td>20.000000</td>\n",
       "      <td>20.000000</td>\n",
       "    </tr>\n",
       "    <tr>\n",
       "      <th>mean</th>\n",
       "      <td>0.305134</td>\n",
       "      <td>0.040310</td>\n",
       "      <td>2.987389</td>\n",
       "      <td>0.024999</td>\n",
       "      <td>0.001175</td>\n",
       "      <td>2.951977</td>\n",
       "      <td>0.009239</td>\n",
       "      <td>0.473950</td>\n",
       "      <td>0.470615</td>\n",
       "      <td>0.612831</td>\n",
       "      <td>0.604726</td>\n",
       "    </tr>\n",
       "    <tr>\n",
       "      <th>std</th>\n",
       "      <td>0.182549</td>\n",
       "      <td>0.018722</td>\n",
       "      <td>1.573976</td>\n",
       "      <td>0.003841</td>\n",
       "      <td>0.000214</td>\n",
       "      <td>1.577824</td>\n",
       "      <td>0.004911</td>\n",
       "      <td>0.239307</td>\n",
       "      <td>0.161220</td>\n",
       "      <td>0.273432</td>\n",
       "      <td>0.256071</td>\n",
       "    </tr>\n",
       "    <tr>\n",
       "      <th>min</th>\n",
       "      <td>0.031710</td>\n",
       "      <td>0.005464</td>\n",
       "      <td>1.018637</td>\n",
       "      <td>0.019861</td>\n",
       "      <td>0.000894</td>\n",
       "      <td>0.973270</td>\n",
       "      <td>0.004815</td>\n",
       "      <td>0.000000</td>\n",
       "      <td>0.000000</td>\n",
       "      <td>0.000000</td>\n",
       "      <td>0.000000</td>\n",
       "    </tr>\n",
       "    <tr>\n",
       "      <th>25%</th>\n",
       "      <td>0.164248</td>\n",
       "      <td>0.023949</td>\n",
       "      <td>1.865850</td>\n",
       "      <td>0.023219</td>\n",
       "      <td>0.000942</td>\n",
       "      <td>1.826596</td>\n",
       "      <td>0.006227</td>\n",
       "      <td>0.326923</td>\n",
       "      <td>0.391850</td>\n",
       "      <td>0.439746</td>\n",
       "      <td>0.445560</td>\n",
       "    </tr>\n",
       "    <tr>\n",
       "      <th>50%</th>\n",
       "      <td>0.332360</td>\n",
       "      <td>0.047560</td>\n",
       "      <td>2.420844</td>\n",
       "      <td>0.023666</td>\n",
       "      <td>0.001225</td>\n",
       "      <td>2.384842</td>\n",
       "      <td>0.006775</td>\n",
       "      <td>0.428750</td>\n",
       "      <td>0.484266</td>\n",
       "      <td>0.662879</td>\n",
       "      <td>0.550505</td>\n",
       "    </tr>\n",
       "    <tr>\n",
       "      <th>75%</th>\n",
       "      <td>0.420774</td>\n",
       "      <td>0.055062</td>\n",
       "      <td>4.641144</td>\n",
       "      <td>0.027037</td>\n",
       "      <td>0.001335</td>\n",
       "      <td>4.610112</td>\n",
       "      <td>0.012487</td>\n",
       "      <td>0.625000</td>\n",
       "      <td>0.586890</td>\n",
       "      <td>0.800000</td>\n",
       "      <td>0.800000</td>\n",
       "    </tr>\n",
       "    <tr>\n",
       "      <th>max</th>\n",
       "      <td>0.581377</td>\n",
       "      <td>0.063273</td>\n",
       "      <td>5.377284</td>\n",
       "      <td>0.033353</td>\n",
       "      <td>0.001496</td>\n",
       "      <td>5.347304</td>\n",
       "      <td>0.019847</td>\n",
       "      <td>0.899281</td>\n",
       "      <td>0.666667</td>\n",
       "      <td>0.977273</td>\n",
       "      <td>1.000000</td>\n",
       "    </tr>\n",
       "  </tbody>\n",
       "</table>\n",
       "</div>"
      ],
      "text/plain": [
       "            MSEv   MSEv_std  total_time_secs      setup  test_prediction  \\\n",
       "count  20.000000  20.000000        20.000000  20.000000        20.000000   \n",
       "mean    0.305134   0.040310         2.987389   0.024999         0.001175   \n",
       "std     0.182549   0.018722         1.573976   0.003841         0.000214   \n",
       "min     0.031710   0.005464         1.018637   0.019861         0.000894   \n",
       "25%     0.164248   0.023949         1.865850   0.023219         0.000942   \n",
       "50%     0.332360   0.047560         2.420844   0.023666         0.001225   \n",
       "75%     0.420774   0.055062         4.641144   0.027037         0.001335   \n",
       "max     0.581377   0.063273         5.377284   0.033353         0.001496   \n",
       "\n",
       "       compute_vS  shapley_computation  match_avg  match_abs_avg  \\\n",
       "count   20.000000            20.000000  20.000000      20.000000   \n",
       "mean     2.951977             0.009239   0.473950       0.470615   \n",
       "std      1.577824             0.004911   0.239307       0.161220   \n",
       "min      0.973270             0.004815   0.000000       0.000000   \n",
       "25%      1.826596             0.006227   0.326923       0.391850   \n",
       "50%      2.384842             0.006775   0.428750       0.484266   \n",
       "75%      4.610112             0.012487   0.625000       0.586890   \n",
       "max      5.347304             0.019847   0.899281       0.666667   \n",
       "\n",
       "       match_obj_avg  match_obj_abs_avg  \n",
       "count      20.000000          20.000000  \n",
       "mean        0.612831           0.604726  \n",
       "std         0.273432           0.256071  \n",
       "min         0.000000           0.000000  \n",
       "25%         0.439746           0.445560  \n",
       "50%         0.662879           0.550505  \n",
       "75%         0.800000           0.800000  \n",
       "max         0.977273           1.000000  "
      ]
     },
     "execution_count": 10,
     "metadata": {},
     "output_type": "execute_result"
    }
   ],
   "source": [
    "groupShap_summary_df = pd.read_csv(\"groupShap_analysis/data/level_groupShap_summary.csv\",nrows=39)\n",
    "\n",
    "groupShap_summary_df[['level','approach','grouping','MSEv','match_avg', 'match_abs_avg', 'match_obj_avg','match_obj_abs_avg']].describe()\n",
    "\n",
    "#independence df\n",
    "gshap_ind = groupShap_summary_df.loc[(groupShap_summary_df['approach'] == 'independence')]\n",
    "gshap_ind.describe()\n",
    "\n",
    "# # emp no group df\n",
    "gshap_emp = groupShap_summary_df.loc[(groupShap_summary_df['approach'] == 'empirical') & (groupShap_summary_df['grouping'] != 'play-style')]\n",
    "gshap_emp.describe()\n",
    "\n",
    "gshap_empg = groupShap_summary_df.loc[(groupShap_summary_df['approach'] == 'empirical') & (groupShap_summary_df['grouping'] == 'play-style')]\n",
    "gshap_empg.describe()"
   ]
  },
  {
   "cell_type": "code",
   "execution_count": 16,
   "metadata": {},
   "outputs": [
    {
     "data": {
      "text/plain": [
       "Text(0.5, 1.0, 'Average Compute Time')"
      ]
     },
     "execution_count": 16,
     "metadata": {},
     "output_type": "execute_result"
    },
    {
     "data": {
      "image/png": "[encoded data removed]",
      "text/plain": [
       "<Figure size 640x480 with 1 Axes>"
      ]
     },
     "metadata": {},
     "output_type": "display_data"
    }
   ],
   "source": [
    "comp_df = pd.DataFrame(data=[['independence',60.926654,0.766432],['empirical_no_group',20.44129,0.185153],['empirical_grouped',3.02114,0.305134]],\n",
    "                       columns=['approach','time(s)','MSEv'])\n",
    "sns.barplot(comp_df, x='approach',y='time(s)').set_title('Average Compute Time')\n",
    "# comp_df"
   ]
  },
  {
   "cell_type": "code",
   "execution_count": 24,
   "metadata": {},
   "outputs": [
    {
     "data": {
      "text/plain": [
       "Text(0.5, 1.0, 'Average of occurences the Shapley Value Matched\\nwith Chosen Behaviour per Object Collection')"
      ]
     },
     "execution_count": 24,
     "metadata": {},
     "output_type": "execute_result"
    },
    {
     "data": {
      "image/png": "[encoded data removed]",
      "text/plain": [
       "<Figure size 640x480 with 1 Axes>"
      ]
     },
     "metadata": {},
     "output_type": "display_data"
    }
   ],
   "source": [
    "match_df = pd.DataFrame(data=[['independence',0.3,0.35],['empirical_no_group',0.47,0.66],['empirical_grouped',0.65,0.85]],\n",
    "                       columns=['approach','avg_match_per_state','avg_match_per_object'])\n",
    "sns.barplot(match_df, x='approach',y='avg_match_per_object').set_title('Average of occurences the Shapley Value Matched\\nwith Chosen Behaviour per Object Collection')"
   ]
  },
  {
   "cell_type": "code",
   "execution_count": 13,
   "metadata": {},
   "outputs": [
    {
     "name": "stdout",
     "output_type": "stream",
     "text": [
      "MSEv stuff\n",
      "0.3323598465376189\n",
      "0.05506205494044094\n",
      "\n",
      "timing stuff\n",
      "2.0510099999999998\n",
      "0.023012\n",
      "0.000914\n",
      "2.008488\n",
      "0.018596\n"
     ]
    },
    {
     "ename": "KeyError",
     "evalue": "\"None of [Index(['DM', 'DT', 'SDT', 'DP', 'SDP', 'DE', 'SDE', 'HP'], dtype='object')] are in the [columns]\"",
     "output_type": "error",
     "traceback": [
      "\u001b[0;31m---------------------------------------------------------------------------\u001b[0m",
      "\u001b[0;31mKeyError\u001b[0m                                  Traceback (most recent call last)",
      "Cell \u001b[0;32mIn[13], line 93\u001b[0m\n\u001b[1;32m     89\u001b[0m     \u001b[38;5;28;01melse\u001b[39;00m:\n\u001b[1;32m     90\u001b[0m         df_summary\u001b[38;5;241m.\u001b[39mto_csv(csv,index\u001b[38;5;241m=\u001b[39m\u001b[38;5;28;01mFalse\u001b[39;00m)\n\u001b[0;32m---> 93\u001b[0m df_summary\u001b[38;5;241m=\u001b[39m \u001b[43mgroupShap_quant_results\u001b[49m\u001b[43m(\u001b[49m\u001b[43mdf_shapley\u001b[49m\u001b[43m,\u001b[49m\u001b[43mdf\u001b[49m\u001b[43m,\u001b[49m\u001b[43mMSEv\u001b[49m\u001b[43m,\u001b[49m\u001b[43mtiming\u001b[49m\u001b[43m,\u001b[49m\u001b[43mapproach\u001b[49m\u001b[38;5;241;43m=\u001b[39;49m\u001b[38;5;124;43m'\u001b[39;49m\u001b[38;5;124;43mempirical\u001b[39;49m\u001b[38;5;124;43m'\u001b[39;49m\u001b[43m,\u001b[49m\u001b[43mgrouping\u001b[49m\u001b[38;5;241;43m=\u001b[39;49m\u001b[43m \u001b[49m\u001b[38;5;28;43;01mNone\u001b[39;49;00m\u001b[43m)\u001b[49m\n\u001b[1;32m     94\u001b[0m group_shap_resluts_to_csv(df_shapley,df,timing,MSEv,approach\u001b[38;5;241m=\u001b[39m\u001b[38;5;124m'\u001b[39m\u001b[38;5;124mempirical\u001b[39m\u001b[38;5;124m'\u001b[39m,grouping\u001b[38;5;241m=\u001b[39m \u001b[38;5;28;01mNone\u001b[39;00m,csv\u001b[38;5;241m=\u001b[39m\u001b[38;5;124m\"\u001b[39m\u001b[38;5;124mgroupShap_analysis/data/level_groupShap_summary.csv\u001b[39m\u001b[38;5;124m\"\u001b[39m)\n\u001b[1;32m     95\u001b[0m \u001b[38;5;66;03m# df.loc[(df['run']==0)]\u001b[39;00m\n\u001b[1;32m     96\u001b[0m \u001b[38;5;66;03m# df['action'].loc[(df['run']==0)]\u001b[39;00m\n\u001b[1;32m     97\u001b[0m \n\u001b[0;32m   (...)\u001b[0m\n\u001b[1;32m    100\u001b[0m \u001b[38;5;66;03m#TODO add stat stuff\u001b[39;00m\n\u001b[1;32m    101\u001b[0m \u001b[38;5;66;03m# df_shapley\u001b[39;00m\n",
      "Cell \u001b[0;32mIn[13], line 54\u001b[0m, in \u001b[0;36mgroupShap_quant_results\u001b[0;34m(df_shapley, df, MSEv, timing, approach, grouping)\u001b[0m\n\u001b[1;32m     51\u001b[0m \u001b[38;5;28;01mdef\u001b[39;00m \u001b[38;5;21mgroupShap_quant_results\u001b[39m(df_shapley, df, MSEv,timing, approach, grouping):\n\u001b[1;32m     53\u001b[0m     temp \u001b[38;5;241m=\u001b[39mdf[\u001b[38;5;124m'\u001b[39m\u001b[38;5;124maction\u001b[39m\u001b[38;5;124m'\u001b[39m]\u001b[38;5;241m.\u001b[39mloc[(df[\u001b[38;5;124m'\u001b[39m\u001b[38;5;124mrun\u001b[39m\u001b[38;5;124m'\u001b[39m]\u001b[38;5;241m==\u001b[39m\u001b[38;5;241m0\u001b[39m)]\n\u001b[0;32m---> 54\u001b[0m     df_shapley[\u001b[38;5;124m'\u001b[39m\u001b[38;5;124mMax\u001b[39m\u001b[38;5;124m'\u001b[39m] \u001b[38;5;241m=\u001b[39m \u001b[43mdf_shapley\u001b[49m\u001b[43m[\u001b[49m\u001b[43m[\u001b[49m\u001b[38;5;124;43m\"\u001b[39;49m\u001b[38;5;124;43mDM\u001b[39;49m\u001b[38;5;124;43m\"\u001b[39;49m\u001b[43m,\u001b[49m\u001b[38;5;124;43m\"\u001b[39;49m\u001b[38;5;124;43mDT\u001b[39;49m\u001b[38;5;124;43m\"\u001b[39;49m\u001b[43m,\u001b[49m\u001b[38;5;124;43m\"\u001b[39;49m\u001b[38;5;124;43mSDT\u001b[39;49m\u001b[38;5;124;43m\"\u001b[39;49m\u001b[43m,\u001b[49m\u001b[38;5;124;43m\"\u001b[39;49m\u001b[38;5;124;43mDP\u001b[39;49m\u001b[38;5;124;43m\"\u001b[39;49m\u001b[43m,\u001b[49m\u001b[38;5;124;43m\"\u001b[39;49m\u001b[38;5;124;43mSDP\u001b[39;49m\u001b[38;5;124;43m\"\u001b[39;49m\u001b[43m,\u001b[49m\u001b[38;5;124;43m\"\u001b[39;49m\u001b[38;5;124;43mDE\u001b[39;49m\u001b[38;5;124;43m\"\u001b[39;49m\u001b[43m,\u001b[49m\u001b[38;5;124;43m\"\u001b[39;49m\u001b[38;5;124;43mSDE\u001b[39;49m\u001b[38;5;124;43m\"\u001b[39;49m\u001b[43m,\u001b[49m\u001b[38;5;124;43m\"\u001b[39;49m\u001b[38;5;124;43mHP\u001b[39;49m\u001b[38;5;124;43m\"\u001b[39;49m\u001b[43m]\u001b[49m\u001b[43m]\u001b[49m\u001b[38;5;241m.\u001b[39midxmax(axis\u001b[38;5;241m=\u001b[39m\u001b[38;5;241m1\u001b[39m)\n\u001b[1;32m     55\u001b[0m     df_shapley[\u001b[38;5;124m'\u001b[39m\u001b[38;5;124mMax_abs\u001b[39m\u001b[38;5;124m'\u001b[39m] \u001b[38;5;241m=\u001b[39m df_shapley[[\u001b[38;5;124m\"\u001b[39m\u001b[38;5;124mDM\u001b[39m\u001b[38;5;124m\"\u001b[39m,\u001b[38;5;124m\"\u001b[39m\u001b[38;5;124mDT\u001b[39m\u001b[38;5;124m\"\u001b[39m,\u001b[38;5;124m\"\u001b[39m\u001b[38;5;124mSDT\u001b[39m\u001b[38;5;124m\"\u001b[39m,\u001b[38;5;124m\"\u001b[39m\u001b[38;5;124mDP\u001b[39m\u001b[38;5;124m\"\u001b[39m,\u001b[38;5;124m\"\u001b[39m\u001b[38;5;124mSDP\u001b[39m\u001b[38;5;124m\"\u001b[39m,\u001b[38;5;124m\"\u001b[39m\u001b[38;5;124mDE\u001b[39m\u001b[38;5;124m\"\u001b[39m,\u001b[38;5;124m\"\u001b[39m\u001b[38;5;124mSDE\u001b[39m\u001b[38;5;124m\"\u001b[39m,\u001b[38;5;124m\"\u001b[39m\u001b[38;5;124mHP\u001b[39m\u001b[38;5;124m\"\u001b[39m]]\u001b[38;5;241m.\u001b[39mabs()\u001b[38;5;241m.\u001b[39midxmax(axis\u001b[38;5;241m=\u001b[39m\u001b[38;5;241m1\u001b[39m)\n\u001b[1;32m     56\u001b[0m     df_shapley \u001b[38;5;241m=\u001b[39m pd\u001b[38;5;241m.\u001b[39mconcat([df_shapley\u001b[38;5;241m.\u001b[39mreset_index(),temp],axis \u001b[38;5;241m=\u001b[39m\u001b[38;5;241m1\u001b[39m) \u001b[38;5;66;03m#append all actions to the shap \u001b[39;00m\n",
      "File \u001b[0;32m~/anaconda3/envs/groupshap/lib/python3.12/site-packages/pandas/core/frame.py:4096\u001b[0m, in \u001b[0;36mDataFrame.__getitem__\u001b[0;34m(self, key)\u001b[0m\n\u001b[1;32m   4094\u001b[0m     \u001b[38;5;28;01mif\u001b[39;00m is_iterator(key):\n\u001b[1;32m   4095\u001b[0m         key \u001b[38;5;241m=\u001b[39m \u001b[38;5;28mlist\u001b[39m(key)\n\u001b[0;32m-> 4096\u001b[0m     indexer \u001b[38;5;241m=\u001b[39m \u001b[38;5;28;43mself\u001b[39;49m\u001b[38;5;241;43m.\u001b[39;49m\u001b[43mcolumns\u001b[49m\u001b[38;5;241;43m.\u001b[39;49m\u001b[43m_get_indexer_strict\u001b[49m\u001b[43m(\u001b[49m\u001b[43mkey\u001b[49m\u001b[43m,\u001b[49m\u001b[43m \u001b[49m\u001b[38;5;124;43m\"\u001b[39;49m\u001b[38;5;124;43mcolumns\u001b[39;49m\u001b[38;5;124;43m\"\u001b[39;49m\u001b[43m)\u001b[49m[\u001b[38;5;241m1\u001b[39m]\n\u001b[1;32m   4098\u001b[0m \u001b[38;5;66;03m# take() does not accept boolean indexers\u001b[39;00m\n\u001b[1;32m   4099\u001b[0m \u001b[38;5;28;01mif\u001b[39;00m \u001b[38;5;28mgetattr\u001b[39m(indexer, \u001b[38;5;124m\"\u001b[39m\u001b[38;5;124mdtype\u001b[39m\u001b[38;5;124m\"\u001b[39m, \u001b[38;5;28;01mNone\u001b[39;00m) \u001b[38;5;241m==\u001b[39m \u001b[38;5;28mbool\u001b[39m:\n",
      "File \u001b[0;32m~/anaconda3/envs/groupshap/lib/python3.12/site-packages/pandas/core/indexes/base.py:6200\u001b[0m, in \u001b[0;36mIndex._get_indexer_strict\u001b[0;34m(self, key, axis_name)\u001b[0m\n\u001b[1;32m   6197\u001b[0m \u001b[38;5;28;01melse\u001b[39;00m:\n\u001b[1;32m   6198\u001b[0m     keyarr, indexer, new_indexer \u001b[38;5;241m=\u001b[39m \u001b[38;5;28mself\u001b[39m\u001b[38;5;241m.\u001b[39m_reindex_non_unique(keyarr)\n\u001b[0;32m-> 6200\u001b[0m \u001b[38;5;28;43mself\u001b[39;49m\u001b[38;5;241;43m.\u001b[39;49m\u001b[43m_raise_if_missing\u001b[49m\u001b[43m(\u001b[49m\u001b[43mkeyarr\u001b[49m\u001b[43m,\u001b[49m\u001b[43m \u001b[49m\u001b[43mindexer\u001b[49m\u001b[43m,\u001b[49m\u001b[43m \u001b[49m\u001b[43maxis_name\u001b[49m\u001b[43m)\u001b[49m\n\u001b[1;32m   6202\u001b[0m keyarr \u001b[38;5;241m=\u001b[39m \u001b[38;5;28mself\u001b[39m\u001b[38;5;241m.\u001b[39mtake(indexer)\n\u001b[1;32m   6203\u001b[0m \u001b[38;5;28;01mif\u001b[39;00m \u001b[38;5;28misinstance\u001b[39m(key, Index):\n\u001b[1;32m   6204\u001b[0m     \u001b[38;5;66;03m# GH 42790 - Preserve name from an Index\u001b[39;00m\n",
      "File \u001b[0;32m~/anaconda3/envs/groupshap/lib/python3.12/site-packages/pandas/core/indexes/base.py:6249\u001b[0m, in \u001b[0;36mIndex._raise_if_missing\u001b[0;34m(self, key, indexer, axis_name)\u001b[0m\n\u001b[1;32m   6247\u001b[0m \u001b[38;5;28;01mif\u001b[39;00m nmissing:\n\u001b[1;32m   6248\u001b[0m     \u001b[38;5;28;01mif\u001b[39;00m nmissing \u001b[38;5;241m==\u001b[39m \u001b[38;5;28mlen\u001b[39m(indexer):\n\u001b[0;32m-> 6249\u001b[0m         \u001b[38;5;28;01mraise\u001b[39;00m \u001b[38;5;167;01mKeyError\u001b[39;00m(\u001b[38;5;124mf\u001b[39m\u001b[38;5;124m\"\u001b[39m\u001b[38;5;124mNone of [\u001b[39m\u001b[38;5;132;01m{\u001b[39;00mkey\u001b[38;5;132;01m}\u001b[39;00m\u001b[38;5;124m] are in the [\u001b[39m\u001b[38;5;132;01m{\u001b[39;00maxis_name\u001b[38;5;132;01m}\u001b[39;00m\u001b[38;5;124m]\u001b[39m\u001b[38;5;124m\"\u001b[39m)\n\u001b[1;32m   6251\u001b[0m     not_found \u001b[38;5;241m=\u001b[39m \u001b[38;5;28mlist\u001b[39m(ensure_index(key)[missing_mask\u001b[38;5;241m.\u001b[39mnonzero()[\u001b[38;5;241m0\u001b[39m]]\u001b[38;5;241m.\u001b[39munique())\n\u001b[1;32m   6252\u001b[0m     \u001b[38;5;28;01mraise\u001b[39;00m \u001b[38;5;167;01mKeyError\u001b[39;00m(\u001b[38;5;124mf\u001b[39m\u001b[38;5;124m\"\u001b[39m\u001b[38;5;132;01m{\u001b[39;00mnot_found\u001b[38;5;132;01m}\u001b[39;00m\u001b[38;5;124m not in index\u001b[39m\u001b[38;5;124m\"\u001b[39m)\n",
      "\u001b[0;31mKeyError\u001b[0m: \"None of [Index(['DM', 'DT', 'SDT', 'DP', 'SDP', 'DE', 'SDE', 'HP'], dtype='object')] are in the [columns]\""
     ]
    }
   ],
   "source": [
    "# checking how to isolate feature stuff\n",
    "# MSEv[\"MSEv\"]['MSEv'].iloc[0]\n",
    "MSEv[\"MSEv\"]\n",
    "print(\"MSEv stuff\")\n",
    "print(MSEv[\"MSEv\"]['MSEv'].iloc[0]) #MSEv\n",
    "print(MSEv[\"MSEv\"]['MSEv_sd'].iloc[0]) #MSEv_sd\n",
    "\n",
    "print(\"\\ntiming stuff\")\n",
    "print(timing[\"total_time_secs\"]) #total time\n",
    "print(timing[\"timing_secs\"]['setup'])\n",
    "print(timing[\"timing_secs\"]['test_prediction'])\n",
    "print(timing[\"timing_secs\"]['compute_vS'])\n",
    "print(timing[\"timing_secs\"]['shapley_computation'])\n",
    "\n",
    "# def melt_dict(dic):\n",
    "#     re = {}\n",
    "#     for k,v in dic.items():\n",
    "#         if isinstance(v,dict):\n",
    "#             re.update(v)\n",
    "#         else:\n",
    "#             re.update({k:v})\n",
    "#     return re\n",
    "\n",
    "# new_timing =melt_dict(timing)\n",
    "# test_df = pd.concat([df_shapley,pd.DataFrame.from_dict(new_timing)])\n",
    "# test_df\n",
    "def match_check(max, action):\n",
    "    if (max == ('DT'or max =='SDT')) and (action=='TREASURE'):\n",
    "        return 1\n",
    "    elif(max == 'DP' or max =='SDP' or max == 'HP') and (action=='POTION'):\n",
    "        return 1\n",
    "    elif(max == ('DE'or max =='SDE')) and (action=='RUNNER'):\n",
    "        return 1\n",
    "    elif(max == ('DM')) and (action=='KILLER'):\n",
    "        return 1\n",
    "    else:\n",
    "        return 0\n",
    "    \n",
    "def match_check_on_obj(max, action):\n",
    "    if (max == ('DT'or 'SDT')) and (action=='TREASURE'):\n",
    "        return 1\n",
    "    elif(max == ('DP'or'SDP')) and (action=='POTION'):\n",
    "        return 1\n",
    "    elif(max == ('DE'or 'SDE')) and (action=='RUNNER'):\n",
    "        return 1\n",
    "    elif(max == ('DM')) and (action=='KILLER'):\n",
    "        return 1\n",
    "    else:\n",
    "        return 0\n",
    "\n",
    "def groupShap_quant_results(df_shapley, df, MSEv,timing, approach, grouping):\n",
    "    \n",
    "    temp =df['action'].loc[(df['run']==0)]\n",
    "    df_shapley['Max'] = df_shapley[[\"DM\",\"DT\",\"SDT\",\"DP\",\"SDP\",\"DE\",\"SDE\",\"HP\"]].idxmax(axis=1)\n",
    "    df_shapley['Max_abs'] = df_shapley[[\"DM\",\"DT\",\"SDT\",\"DP\",\"SDP\",\"DE\",\"SDE\",\"HP\"]].abs().idxmax(axis=1)\n",
    "    df_shapley = pd.concat([df_shapley.reset_index(),temp],axis =1) #append all actions to the shap \n",
    "    # count matches for every state\n",
    "    df_shapley['match'] = df_shapley.apply(lambda row: match_check(row.Max,row.action),axis=1)\n",
    "    df_shapley['match_abs'] = df_shapley.apply(lambda row: match_check(row.Max_abs,row.action),axis=1)\n",
    "    # count matches when on object\n",
    "    temp =df['curr_obs'].loc[(df['run']==0)]\n",
    "    df_shapley = pd.concat([df_shapley.reset_index(),temp],axis =1)\n",
    "    df_obj_shapley = df_shapley[[0 in l for l in df_shapley['curr_obs']]]\n",
    "    # Create summary data frame for the level\n",
    "    print(df['experiment'].iloc[0],df['level'].iloc[0])\n",
    "    df_summary = pd.DataFrame(data =[[df['experiment'].iloc[0],df['level'].iloc[0], approach,grouping]],columns=['exp_id','level','approach','grouping'])\n",
    "    df_summary['MSEv'] = MSEv[\"MSEv\"]['MSEv'].iloc[0]\n",
    "    df_summary['MSEv_std'] = MSEv[\"MSEv\"]['MSEv_sd'].iloc[0]\n",
    "    df_summary['total_time_secs'] = timing[\"total_time_secs\"] #total time\n",
    "    df_summary['setup']= timing[\"timing_secs\"]['setup']\n",
    "    df_summary['test_prediction']= timing[\"timing_secs\"]['test_prediction']\n",
    "    df_summary['compute_vS'] = timing[\"timing_secs\"]['compute_vS']\n",
    "    df_summary['shapley_computation']= timing[\"timing_secs\"]['shapley_computation']\n",
    "    # Match calc\n",
    "    df_summary['match_avg'] = df_shapley['match'].sum()/df_shapley['match'].count()\n",
    "    df_summary['match_abs_avg'] = df_shapley['match_abs'].sum()/df_shapley['match_abs'].count()\n",
    "    df_summary['match_obj_avg'] = df_obj_shapley['match'].sum()/df_obj_shapley['match'].count()\n",
    "    df_summary['match_obj_abs_avg'] = df_obj_shapley['match_abs'].sum()/df_obj_shapley['match_abs'].count()\n",
    "    \n",
    "\n",
    "    return df_summary\n",
    "\n",
    "def group_shap_resluts_to_csv(df_shapley, df, timing, MSEv, approach,grouping,csv):\n",
    "    #gen exp id\n",
    "    #shapley_csv\n",
    "    df_summary= groupShap_quant_results(df_shapley,df,MSEv,timing,approach=approach,grouping= grouping)\n",
    "    if os.path.exists(csv):\n",
    "        df_summary.to_csv(csv,mode='a',header=False,index=False)\n",
    "    else:\n",
    "        df_summary.to_csv(csv,index=False)\n",
    "    \n",
    "\n",
    "df_summary= groupShap_quant_results(df_shapley,df,MSEv,timing,approach='empirical',grouping= None)\n",
    "group_shap_resluts_to_csv(df_shapley,df,timing,MSEv,approach='empirical',grouping= None,csv=\"groupShap_analysis/data/level_groupShap_summary.csv\")\n",
    "# df.loc[(df['run']==0)]\n",
    "# df['action'].loc[(df['run']==0)]\n",
    "\n",
    "# df_shapley.reset_index()\n",
    "\n",
    "#TODO add stat stuff\n",
    "# df_shapley\n",
    "df_summary"
   ]
  },
  {
   "cell_type": "code",
   "execution_count": 50,
   "metadata": {},
   "outputs": [
    {
     "name": "stdout",
     "output_type": "stream",
     "text": [
      "----------Generating Data----------\n",
      "{'lvl': 'strand_2', 'obs_type': 'distance', 'learning_algo': 'PPO', 'exp_type': 'switch_analysis_new', 'action_type': 'switch', 'action_space_type': 'discrete', 'play_style': 'switch', 'reward_scheme': 'switch', 'exp_path': 'switching_analysis_new_hp', 'base_path': 'play_style_models/base/', 'which_model': 'latest_model_500000_steps'}\n"
     ]
    },
    {
     "name": "stdout",
     "output_type": "stream",
     "text": [
      "switch-strand_2_switch_switch_switch_analysis_new_PPO\n"
     ]
    },
    {
     "name": "stderr",
     "output_type": "stream",
     "text": [
      "R[write to console]: Note: You passed a model to explain() which is not natively supported, and did not supply a 'get_model_specs' function to explain().\n",
      "Consistency checks between model and data is therefore disabled.\n",
      "\n",
      "\n",
      "R[write to console]: Setting parameter 'n_batches' to 2 as a fair trade-off between memory consumption and computation time.\n",
      "Reducing 'n_batches' typically reduces the computation time at the cost of increased memory consumption.\n",
      "\n",
      "\n"
     ]
    },
    {
     "name": "stdout",
     "output_type": "stream",
     "text": [
      "0       [4.374073]\n",
      "1       [4.459479]\n",
      "2      [4.4202547]\n",
      "3      [4.4394565]\n",
      "4      [4.4886518]\n",
      "          ...     \n",
      "517    [3.0636308]\n",
      "518    [2.9823682]\n",
      "519     [2.648913]\n",
      "520    [2.0887249]\n",
      "521    [2.2135286]\n",
      "Name: curr_obs, Length: 522, dtype: object\n",
      "['TREASURE' 'POTION' 'KILLER']\n"
     ]
    },
    {
     "data": {
      "application/vnd.plotly.v1+json": {
       "config": {
        "plotlyServerURL": "https://plot.ly"
       },
       "data": [
        {
         "hovertemplate": "variable=Treasure<br>index=%{x}<br>value=%{y}<extra></extra>",
         "legendgroup": "Treasure",
         "line": {
          "color": "#636efa",
          "dash": "solid"
         },
         "marker": {
          "symbol": "circle"
         },
         "mode": "lines",
         "name": "Treasure",
         "orientation": "v",
         "showlegend": true,
         "type": "scatter",
         "x": [
          "1",
          "2",
          "3",
          "4",
          "5",
          "6",
          "7",
          "8",
          "9",
          "10",
          "11",
          "12",
          "13",
          "14",
          "15",
          "16",
          "17",
          "18",
          "19",
          "20",
          "21",
          "22",
          "23",
          "24",
          "25",
          "26",
          "27",
          "28",
          "29",
          "30",
          "31",
          "32",
          "33",
          "34",
          "35",
          "36",
          "37",
          "38",
          "39",
          "40",
          "41",
          "42",
          "43",
          "44",
          "45",
          "46",
          "47",
          "48",
          "49",
          "50",
          "51",
          "52",
          "53",
          "54",
          "55",
          "56",
          "57",
          "58",
          "59",
          "60",
          "61",
          "62",
          "63",
          "64",
          "65",
          "66",
          "67",
          "68",
          "69",
          "70",
          "71",
          "72",
          "73",
          "74",
          "75",
          "76",
          "77",
          "78",
          "79",
          "80",
          "81",
          "82",
          "83",
          "84",
          "85",
          "86",
          "87",
          "88",
          "89",
          "90",
          "91",
          "92",
          "93",
          "94",
          "95",
          "96",
          "97",
          "98",
          "99",
          "100",
          "101",
          "102",
          "103",
          "104",
          "105",
          "106",
          "107",
          "108"
         ],
         "xaxis": "x",
         "y": [
          0.40756461745030237,
          0.3697411354849228,
          0.31743364832137544,
          0.3177837445064765,
          0.3448330053589373,
          0.3352268558164807,
          0.04387663778791683,
          0.16304413338227317,
          0.2547791114257047,
          0.3914768685381815,
          0.43937534194654543,
          0.49053698049193684,
          0.5601266926538058,
          0.5110308609700449,
          0.5186009630718119,
          0.29545618938825124,
          0.8011134064055053,
          0.8259421184788565,
          0.26866065562878944,
          0.3188019422723997,
          0.34823233757353056,
          0.06538658137591266,
          0.018631299652532265,
          0.057902724515072036,
          0.03430877745707045,
          0.1266390287550107,
          0.016145965212759104,
          0.08380578252959327,
          0.012440926268348997,
          -0.023420853813092984,
          0.08911672403993767,
          0.10165923420201377,
          -0.17586441717318424,
          -0.22047477237993413,
          -0.37191568061390856,
          -0.7820458284108852,
          -0.669780554896606,
          -0.6185168520718751,
          -0.3847694331330485,
          -0.0703715257765566,
          0.1135675155953897,
          0.13820217958743686,
          0.23784138677136785,
          0.3693610232006721,
          0.516984042557132,
          0.5210847897140549,
          0.4931470044979903,
          0.6937082482616983,
          0.48309592457174577,
          0.5206818788517494,
          0.46092243080303535,
          0.5044463659746666,
          0.46021116702233755,
          0.4500645074248506,
          0.5916213416895774,
          0.009463091708089863,
          0.47546535576588034,
          0.6130298070642128,
          0.6023738723696495,
          0.5691868754027519,
          0.5587167052151697,
          0.46518151341444686,
          0.5532762614382686,
          0.6219919411031806,
          0.5506602682113931,
          0.2364895686021953,
          0.33740531021687536,
          0.006000747109514448,
          0.06316390280207136,
          0.14201276100490953,
          0.311654057486626,
          0.47412199982903525,
          0.6798839254985188,
          0.7328913841822816,
          0.6776385256065163,
          0.5240984324219257,
          -1.8669036518834594,
          -1.9237626773210263,
          -2.003532841755829,
          -1.6545631202291424,
          -1.2810285793305083,
          -1.0090331758727504,
          -0.726296526370331,
          -0.6851364770060651,
          -0.5584609483084881,
          -0.33005880848291363,
          -0.606388726605526,
          -1.2208722979058684,
          -0.9664327343421232,
          -0.8301098166199968,
          -0.7036118220779646,
          -0.7722959137690919,
          0.6553314611222543,
          0.6412219382285937,
          -0.9392742594741578,
          -1.161155244658181,
          -1.1385561369170936,
          -1.4569079163632368,
          -1.5680038821241815,
          -0.6228557892536164,
          -0.464173064087412,
          -0.3655365295473355,
          -0.27121378756012915,
          -0.20975970400619215,
          -0.1368320871896764,
          -0.07713222262036672,
          -0.04952095522564405,
          -0.08780712591717611
         ],
         "yaxis": "y"
        },
        {
         "hovertemplate": "variable=Exit<br>index=%{x}<br>value=%{y}<extra></extra>",
         "legendgroup": "Exit",
         "line": {
          "color": "#EF553B",
          "dash": "solid"
         },
         "marker": {
          "symbol": "circle"
         },
         "mode": "lines",
         "name": "Exit",
         "orientation": "v",
         "showlegend": true,
         "type": "scatter",
         "x": [
          "1",
          "2",
          "3",
          "4",
          "5",
          "6",
          "7",
          "8",
          "9",
          "10",
          "11",
          "12",
          "13",
          "14",
          "15",
          "16",
          "17",
          "18",
          "19",
          "20",
          "21",
          "22",
          "23",
          "24",
          "25",
          "26",
          "27",
          "28",
          "29",
          "30",
          "31",
          "32",
          "33",
          "34",
          "35",
          "36",
          "37",
          "38",
          "39",
          "40",
          "41",
          "42",
          "43",
          "44",
          "45",
          "46",
          "47",
          "48",
          "49",
          "50",
          "51",
          "52",
          "53",
          "54",
          "55",
          "56",
          "57",
          "58",
          "59",
          "60",
          "61",
          "62",
          "63",
          "64",
          "65",
          "66",
          "67",
          "68",
          "69",
          "70",
          "71",
          "72",
          "73",
          "74",
          "75",
          "76",
          "77",
          "78",
          "79",
          "80",
          "81",
          "82",
          "83",
          "84",
          "85",
          "86",
          "87",
          "88",
          "89",
          "90",
          "91",
          "92",
          "93",
          "94",
          "95",
          "96",
          "97",
          "98",
          "99",
          "100",
          "101",
          "102",
          "103",
          "104",
          "105",
          "106",
          "107",
          "108"
         ],
         "xaxis": "x",
         "y": [
          0.23150640259904862,
          0.4556008429941437,
          0.5152771695501088,
          0.48278327414958416,
          0.42533541333588243,
          0.42575399122923413,
          0.5963692453576763,
          0.39226052852228327,
          0.24632511318139386,
          0.28845735913280807,
          0.22216970130470431,
          0.17831611445592185,
          0.1822061436351264,
          0.2798940206244997,
          0.4079706727127398,
          0.4804538370017648,
          -0.0023867947695847915,
          0.005289444215247128,
          -0.1234082677030684,
          -0.17660062631142576,
          -0.2579958324602918,
          -0.9775106971488209,
          -1.447148727737134,
          -0.7633185265818884,
          -0.616955359660561,
          -0.6400563628278784,
          -0.6737458317790654,
          -0.4220209747880128,
          -0.35339020016000655,
          -0.1792944754468315,
          -0.13928545226674172,
          -0.06024987259082012,
          -0.14611976577250013,
          -0.10035759454764798,
          -0.02256317766865094,
          -0.2950060870851197,
          -0.159861288542597,
          -0.08605606465814314,
          -0.04396514716656996,
          0.08394252866874237,
          -0.027379779109544616,
          -0.04974685601466173,
          -0.1043056410772047,
          -0.2039337293175557,
          -0.23507135677529153,
          -0.4078291509708833,
          -0.794907266999035,
          -0.4262780543453946,
          -0.14896252717513683,
          0.11567432842636562,
          0.3190874054528817,
          0.00896928551689443,
          0.0026449441781380904,
          0.017054009132985864,
          0.01672028068910933,
          0.02625218366552157,
          -0.09698543130321877,
          -0.042920629679741897,
          0.03377200900676008,
          0.04047642087397756,
          0.09762668407898346,
          0.178702238327465,
          0.20456323288047992,
          0.28825177272334934,
          0.5113278407892501,
          1.2010393421101075,
          0.5137051059478877,
          0.7015897307195469,
          0.5771807254150485,
          0.48136322516027663,
          0.43437883183325193,
          0.2771866440054957,
          0.1869516247186318,
          0.23142646438919381,
          0.24684457370240812,
          0.23687707469174824,
          0.21362138277641357,
          0.03350688045184166,
          -0.04181343884397983,
          -0.03228898143649256,
          -0.09688827677573712,
          0.00008584157020248501,
          0.12517220891737138,
          0.039794069279071594,
          0.042273631887576095,
          0.0520685142607076,
          0.07490517128201832,
          0.12730375573080674,
          0.09803063942541915,
          0.16949906034276987,
          0.11276269736841377,
          0.005069318496986766,
          -0.0814650222627106,
          -0.22962021907653735,
          -0.10876891273487418,
          -0.060465563086437836,
          -0.1110485286946353,
          -0.23007031775467093,
          -0.0038661533657194055,
          -0.05600307756175084,
          -0.06479714664485059,
          -0.07911995039539677,
          -0.07576043294874683,
          -0.14864006280874023,
          -0.2832787288498412,
          -0.38015775235985033,
          -0.4482353265900518,
          -0.510779059418001
         ],
         "yaxis": "y"
        },
        {
         "hovertemplate": "variable=Health<br>index=%{x}<br>value=%{y}<extra></extra>",
         "legendgroup": "Health",
         "line": {
          "color": "#00cc96",
          "dash": "solid"
         },
         "marker": {
          "symbol": "circle"
         },
         "mode": "lines",
         "name": "Health",
         "orientation": "v",
         "showlegend": true,
         "type": "scatter",
         "x": [
          "1",
          "2",
          "3",
          "4",
          "5",
          "6",
          "7",
          "8",
          "9",
          "10",
          "11",
          "12",
          "13",
          "14",
          "15",
          "16",
          "17",
          "18",
          "19",
          "20",
          "21",
          "22",
          "23",
          "24",
          "25",
          "26",
          "27",
          "28",
          "29",
          "30",
          "31",
          "32",
          "33",
          "34",
          "35",
          "36",
          "37",
          "38",
          "39",
          "40",
          "41",
          "42",
          "43",
          "44",
          "45",
          "46",
          "47",
          "48",
          "49",
          "50",
          "51",
          "52",
          "53",
          "54",
          "55",
          "56",
          "57",
          "58",
          "59",
          "60",
          "61",
          "62",
          "63",
          "64",
          "65",
          "66",
          "67",
          "68",
          "69",
          "70",
          "71",
          "72",
          "73",
          "74",
          "75",
          "76",
          "77",
          "78",
          "79",
          "80",
          "81",
          "82",
          "83",
          "84",
          "85",
          "86",
          "87",
          "88",
          "89",
          "90",
          "91",
          "92",
          "93",
          "94",
          "95",
          "96",
          "97",
          "98",
          "99",
          "100",
          "101",
          "102",
          "103",
          "104",
          "105",
          "106",
          "107",
          "108"
         ],
         "xaxis": "x",
         "y": [
          0.09559103938682889,
          0.02766477083096752,
          -0.05441231935698754,
          0.03639706606604951,
          0.09046247901596441,
          0.0647675317623526,
          0.11217729719062855,
          0.12504168772758495,
          0.10995448567315971,
          0.14616724496665112,
          0.15380567657887168,
          0.14142981086280967,
          0.06940828195374638,
          -0.006548074778470372,
          -0.19147384745097226,
          -0.3649785157404259,
          0.20044549436268175,
          0.1758436619250939,
          0.24155812788427938,
          0.1190463524025964,
          -0.09019991386813572,
          -0.5680486062699137,
          -0.4624383114738374,
          -0.26260676582952425,
          -0.31907222660170803,
          -0.20579642016093166,
          -0.22527083482584254,
          -0.088821601318428,
          0.05856129554708866,
          0.0008633169833058343,
          -0.06681005853931182,
          -0.14241281089925348,
          -0.053246445463466845,
          0.10531665129570356,
          0.0949467112300079,
          -0.00964340874960226,
          0.07892204795033633,
          -0.04196509549587451,
          0.16588554913561332,
          0.1476002796403964,
          0.1728938898872935,
          0.14310581023158503,
          0.10085085030375167,
          0.1261475282975205,
          0.11797324224972129,
          0.1710168835560554,
          0.154003921844043,
          0.045564299928032535,
          -0.09000675221399453,
          -0.23680954758570708,
          -0.30751090570915757,
          0.17402254441775805,
          0.20909107115021985,
          0.1730298574305939,
          0.008096803630675666,
          0.18744195113915238,
          0.08396607274385617,
          -0.005863045245838226,
          0.05155364161473918,
          0.10345964862963088,
          0.10155953619316167,
          0.1390474356487753,
          0.02118852542557713,
          -0.16270836044221645,
          -0.36794733547532477,
          -0.3720815072752522,
          0.12247316675569574,
          0.21261368917549406,
          0.25271279673868513,
          0.24848211724805672,
          0.21872443125277952,
          0.2662748678056063,
          0.23036804903144956,
          0.1274198596681796,
          0.11678477899887228,
          0.2729062661823217,
          0.05155189702171898,
          0.047493168861930876,
          0.17322271749707077,
          0.11026285484665517,
          -0.04326359673462324,
          -0.13406302666557626,
          -0.04482800642215007,
          0.16461330419054226,
          -0.007583875994616247,
          -0.3820770018368749,
          0.08305939355991229,
          0.05305753935593159,
          -0.07713426771438375,
          -0.24217068469382513,
          -0.11020336714747643,
          0.07104651105779242,
          0.10232543655258629,
          0.04622748207460006,
          0.053874766101169765,
          0.05795163348768496,
          0.05714337719764579,
          0.041301129009183986,
          -0.06590842208043428,
          -0.02458997294744762,
          -0.07892401695335773,
          -0.06639816197098748,
          -0.07101061073136093,
          0.019714169540165256,
          0.04429658656388272,
          -0.061233207855871656,
          -0.23476064671338526,
          -0.17869385384136177
         ],
         "yaxis": "y"
        },
        {
         "hovertemplate": "variable=Monster<br>index=%{x}<br>value=%{y}<extra></extra>",
         "legendgroup": "Monster",
         "line": {
          "color": "#ab63fa",
          "dash": "solid"
         },
         "marker": {
          "symbol": "circle"
         },
         "mode": "lines",
         "name": "Monster",
         "orientation": "v",
         "showlegend": true,
         "type": "scatter",
         "x": [
          "1",
          "2",
          "3",
          "4",
          "5",
          "6",
          "7",
          "8",
          "9",
          "10",
          "11",
          "12",
          "13",
          "14",
          "15",
          "16",
          "17",
          "18",
          "19",
          "20",
          "21",
          "22",
          "23",
          "24",
          "25",
          "26",
          "27",
          "28",
          "29",
          "30",
          "31",
          "32",
          "33",
          "34",
          "35",
          "36",
          "37",
          "38",
          "39",
          "40",
          "41",
          "42",
          "43",
          "44",
          "45",
          "46",
          "47",
          "48",
          "49",
          "50",
          "51",
          "52",
          "53",
          "54",
          "55",
          "56",
          "57",
          "58",
          "59",
          "60",
          "61",
          "62",
          "63",
          "64",
          "65",
          "66",
          "67",
          "68",
          "69",
          "70",
          "71",
          "72",
          "73",
          "74",
          "75",
          "76",
          "77",
          "78",
          "79",
          "80",
          "81",
          "82",
          "83",
          "84",
          "85",
          "86",
          "87",
          "88",
          "89",
          "90",
          "91",
          "92",
          "93",
          "94",
          "95",
          "96",
          "97",
          "98",
          "99",
          "100",
          "101",
          "102",
          "103",
          "104",
          "105",
          "106",
          "107",
          "108"
         ],
         "xaxis": "x",
         "y": [
          0.10185241725130054,
          0.06891353101430976,
          0.10439764091489866,
          0.06493380421876828,
          0.09046228648709106,
          0.13567548552021433,
          0.06493433948439081,
          0.056664129196065297,
          -0.015726094717427704,
          0.011494466305126589,
          0.11843998147616652,
          0.14554529380648396,
          0.13798022131044105,
          0.1211875039803824,
          0.08891545818284503,
          -0.25739636213791245,
          -0.1832217099153922,
          -0.09350575235995295,
          -0.20649908980080223,
          -0.3891218276397023,
          -0.5717643701253844,
          -0.8909018055843126,
          -0.8295971462044034,
          -0.5882374356087239,
          -0.5353206058745779,
          -0.5046200648534436,
          -0.3902907233275517,
          0.41169337178090076,
          0.24701381781935403,
          0.1945365955067825,
          -0.12328993389054868,
          -0.016220535197144236,
          -0.2870871468469033,
          -0.05702391452392918,
          0.15058628650828218,
          -0.2894336145180722,
          0.13518829051521475,
          -0.08153743450089383,
          0.3604208569193729,
          0.23256890365308627,
          0.29917499378988127,
          0.2187162127138318,
          0.13460764914485143,
          0.049468642283677554,
          0.24280806114245349,
          0.3712912957959032,
          0.469407300340816,
          0.32639069606914667,
          0.3382145200481717,
          0.32470271257958955,
          0.17583795031912008,
          0.12938481407305674,
          0.1526883052556814,
          0.13166597957084628,
          0.14237305143998139,
          0.11870760194838648,
          0.14204094294064715,
          0.2078581276820676,
          0.24181536481452534,
          0.24665488581204362,
          0.20688265376034332,
          0.1763350068229317,
          0.18345872195181082,
          0.21575054586073458,
          0.2685045990548588,
          -0.11056625642336548,
          -0.006879684463961402,
          0.030519524211319263,
          0.057404009247891505,
          0.07719906164145544,
          -0.01925022202095131,
          -0.06274470726844703,
          -0.1385601300949762,
          -0.12597554088357343,
          -0.07454441202222195,
          -0.07391416770774925,
          -0.045239073399539066,
          -0.2509870030476124,
          -0.2798150988432895,
          -0.3166405757289191,
          -0.3064104541112832,
          -0.13233640811171882,
          0.041649407125266845,
          -0.1120941459321846,
          -0.1248527507363883,
          -0.062251346431005106,
          0.17793587701192853,
          0.19765960431354895,
          0.2545447172928654,
          0.26757093858941833,
          0.25219255521240763,
          0.23953079832876467,
          -0.03561406560755568,
          0.20881207479104286,
          0.4781218947857994,
          -0.24723450604387,
          -0.100121689433052,
          0.2865736944128803,
          -1.0727904509714348,
          -0.7679602696904767,
          -0.8635146552875783,
          -0.9603542413178308,
          -1.0534228352785977,
          -1.1327201407715572,
          -1.095586955225,
          -0.9528703708476788,
          -0.7388596802465389,
          -0.6941282845695644
         ],
         "yaxis": "y"
        }
       ],
       "layout": {
        "legend": {
         "title": {
          "text": "variable"
         },
         "tracegroupgap": 0
        },
        "template": {
         "data": {
          "bar": [
           {
            "error_x": {
             "color": "#2a3f5f"
            },
            "error_y": {
             "color": "#2a3f5f"
            },
            "marker": {
             "line": {
              "color": "#E5ECF6",
              "width": 0.5
             },
             "pattern": {
              "fillmode": "overlay",
              "size": 10,
              "solidity": 0.2
             }
            },
            "type": "bar"
           }
          ],
          "barpolar": [
           {
            "marker": {
             "line": {
              "color": "#E5ECF6",
              "width": 0.5
             },
             "pattern": {
              "fillmode": "overlay",
              "size": 10,
              "solidity": 0.2
             }
            },
            "type": "barpolar"
           }
          ],
          "carpet": [
           {
            "aaxis": {
             "endlinecolor": "#2a3f5f",
             "gridcolor": "white",
             "linecolor": "white",
             "minorgridcolor": "white",
             "startlinecolor": "#2a3f5f"
            },
            "baxis": {
             "endlinecolor": "#2a3f5f",
             "gridcolor": "white",
             "linecolor": "white",
             "minorgridcolor": "white",
             "startlinecolor": "#2a3f5f"
            },
            "type": "carpet"
           }
          ],
          "choropleth": [
           {
            "colorbar": {
             "outlinewidth": 0,
             "ticks": ""
            },
            "type": "choropleth"
           }
          ],
          "contour": [
           {
            "colorbar": {
             "outlinewidth": 0,
             "ticks": ""
            },
            "colorscale": [
             [
              0,
              "#0d0887"
             ],
             [
              0.1111111111111111,
              "#46039f"
             ],
             [
              0.2222222222222222,
              "#7201a8"
             ],
             [
              0.3333333333333333,
              "#9c179e"
             ],
             [
              0.4444444444444444,
              "#bd3786"
             ],
             [
              0.5555555555555556,
              "#d8576b"
             ],
             [
              0.6666666666666666,
              "#ed7953"
             ],
             [
              0.7777777777777778,
              "#fb9f3a"
             ],
             [
              0.8888888888888888,
              "#fdca26"
             ],
             [
              1,
              "#f0f921"
             ]
            ],
            "type": "contour"
           }
          ],
          "contourcarpet": [
           {
            "colorbar": {
             "outlinewidth": 0,
             "ticks": ""
            },
            "type": "contourcarpet"
           }
          ],
          "heatmap": [
           {
            "colorbar": {
             "outlinewidth": 0,
             "ticks": ""
            },
            "colorscale": [
             [
              0,
              "#0d0887"
             ],
             [
              0.1111111111111111,
              "#46039f"
             ],
             [
              0.2222222222222222,
              "#7201a8"
             ],
             [
              0.3333333333333333,
              "#9c179e"
             ],
             [
              0.4444444444444444,
              "#bd3786"
             ],
             [
              0.5555555555555556,
              "#d8576b"
             ],
             [
              0.6666666666666666,
              "#ed7953"
             ],
             [
              0.7777777777777778,
              "#fb9f3a"
             ],
             [
              0.8888888888888888,
              "#fdca26"
             ],
             [
              1,
              "#f0f921"
             ]
            ],
            "type": "heatmap"
           }
          ],
          "heatmapgl": [
           {
            "colorbar": {
             "outlinewidth": 0,
             "ticks": ""
            },
            "colorscale": [
             [
              0,
              "#0d0887"
             ],
             [
              0.1111111111111111,
              "#46039f"
             ],
             [
              0.2222222222222222,
              "#7201a8"
             ],
             [
              0.3333333333333333,
              "#9c179e"
             ],
             [
              0.4444444444444444,
              "#bd3786"
             ],
             [
              0.5555555555555556,
              "#d8576b"
             ],
             [
              0.6666666666666666,
              "#ed7953"
             ],
             [
              0.7777777777777778,
              "#fb9f3a"
             ],
             [
              0.8888888888888888,
              "#fdca26"
             ],
             [
              1,
              "#f0f921"
             ]
            ],
            "type": "heatmapgl"
           }
          ],
          "histogram": [
           {
            "marker": {
             "pattern": {
              "fillmode": "overlay",
              "size": 10,
              "solidity": 0.2
             }
            },
            "type": "histogram"
           }
          ],
          "histogram2d": [
           {
            "colorbar": {
             "outlinewidth": 0,
             "ticks": ""
            },
            "colorscale": [
             [
              0,
              "#0d0887"
             ],
             [
              0.1111111111111111,
              "#46039f"
             ],
             [
              0.2222222222222222,
              "#7201a8"
             ],
             [
              0.3333333333333333,
              "#9c179e"
             ],
             [
              0.4444444444444444,
              "#bd3786"
             ],
             [
              0.5555555555555556,
              "#d8576b"
             ],
             [
              0.6666666666666666,
              "#ed7953"
             ],
             [
              0.7777777777777778,
              "#fb9f3a"
             ],
             [
              0.8888888888888888,
              "#fdca26"
             ],
             [
              1,
              "#f0f921"
             ]
            ],
            "type": "histogram2d"
           }
          ],
          "histogram2dcontour": [
           {
            "colorbar": {
             "outlinewidth": 0,
             "ticks": ""
            },
            "colorscale": [
             [
              0,
              "#0d0887"
             ],
             [
              0.1111111111111111,
              "#46039f"
             ],
             [
              0.2222222222222222,
              "#7201a8"
             ],
             [
              0.3333333333333333,
              "#9c179e"
             ],
             [
              0.4444444444444444,
              "#bd3786"
             ],
             [
              0.5555555555555556,
              "#d8576b"
             ],
             [
              0.6666666666666666,
              "#ed7953"
             ],
             [
              0.7777777777777778,
              "#fb9f3a"
             ],
             [
              0.8888888888888888,
              "#fdca26"
             ],
             [
              1,
              "#f0f921"
             ]
            ],
            "type": "histogram2dcontour"
           }
          ],
          "mesh3d": [
           {
            "colorbar": {
             "outlinewidth": 0,
             "ticks": ""
            },
            "type": "mesh3d"
           }
          ],
          "parcoords": [
           {
            "line": {
             "colorbar": {
              "outlinewidth": 0,
              "ticks": ""
             }
            },
            "type": "parcoords"
           }
          ],
          "pie": [
           {
            "automargin": true,
            "type": "pie"
           }
          ],
          "scatter": [
           {
            "fillpattern": {
             "fillmode": "overlay",
             "size": 10,
             "solidity": 0.2
            },
            "type": "scatter"
           }
          ],
          "scatter3d": [
           {
            "line": {
             "colorbar": {
              "outlinewidth": 0,
              "ticks": ""
             }
            },
            "marker": {
             "colorbar": {
              "outlinewidth": 0,
              "ticks": ""
             }
            },
            "type": "scatter3d"
           }
          ],
          "scattercarpet": [
           {
            "marker": {
             "colorbar": {
              "outlinewidth": 0,
              "ticks": ""
             }
            },
            "type": "scattercarpet"
           }
          ],
          "scattergeo": [
           {
            "marker": {
             "colorbar": {
              "outlinewidth": 0,
              "ticks": ""
             }
            },
            "type": "scattergeo"
           }
          ],
          "scattergl": [
           {
            "marker": {
             "colorbar": {
              "outlinewidth": 0,
              "ticks": ""
             }
            },
            "type": "scattergl"
           }
          ],
          "scattermapbox": [
           {
            "marker": {
             "colorbar": {
              "outlinewidth": 0,
              "ticks": ""
             }
            },
            "type": "scattermapbox"
           }
          ],
          "scatterpolar": [
           {
            "marker": {
             "colorbar": {
              "outlinewidth": 0,
              "ticks": ""
             }
            },
            "type": "scatterpolar"
           }
          ],
          "scatterpolargl": [
           {
            "marker": {
             "colorbar": {
              "outlinewidth": 0,
              "ticks": ""
             }
            },
            "type": "scatterpolargl"
           }
          ],
          "scatterternary": [
           {
            "marker": {
             "colorbar": {
              "outlinewidth": 0,
              "ticks": ""
             }
            },
            "type": "scatterternary"
           }
          ],
          "surface": [
           {
            "colorbar": {
             "outlinewidth": 0,
             "ticks": ""
            },
            "colorscale": [
             [
              0,
              "#0d0887"
             ],
             [
              0.1111111111111111,
              "#46039f"
             ],
             [
              0.2222222222222222,
              "#7201a8"
             ],
             [
              0.3333333333333333,
              "#9c179e"
             ],
             [
              0.4444444444444444,
              "#bd3786"
             ],
             [
              0.5555555555555556,
              "#d8576b"
             ],
             [
              0.6666666666666666,
              "#ed7953"
             ],
             [
              0.7777777777777778,
              "#fb9f3a"
             ],
             [
              0.8888888888888888,
              "#fdca26"
             ],
             [
              1,
              "#f0f921"
             ]
            ],
            "type": "surface"
           }
          ],
          "table": [
           {
            "cells": {
             "fill": {
              "color": "#EBF0F8"
             },
             "line": {
              "color": "white"
             }
            },
            "header": {
             "fill": {
              "color": "#C8D4E3"
             },
             "line": {
              "color": "white"
             }
            },
            "type": "table"
           }
          ]
         },
         "layout": {
          "annotationdefaults": {
           "arrowcolor": "#2a3f5f",
           "arrowhead": 0,
           "arrowwidth": 1
          },
          "autotypenumbers": "strict",
          "coloraxis": {
           "colorbar": {
            "outlinewidth": 0,
            "ticks": ""
           }
          },
          "colorscale": {
           "diverging": [
            [
             0,
             "#8e0152"
            ],
            [
             0.1,
             "#c51b7d"
            ],
            [
             0.2,
             "#de77ae"
            ],
            [
             0.3,
             "#f1b6da"
            ],
            [
             0.4,
             "#fde0ef"
            ],
            [
             0.5,
             "#f7f7f7"
            ],
            [
             0.6,
             "#e6f5d0"
            ],
            [
             0.7,
             "#b8e186"
            ],
            [
             0.8,
             "#7fbc41"
            ],
            [
             0.9,
             "#4d9221"
            ],
            [
             1,
             "#276419"
            ]
           ],
           "sequential": [
            [
             0,
             "#0d0887"
            ],
            [
             0.1111111111111111,
             "#46039f"
            ],
            [
             0.2222222222222222,
             "#7201a8"
            ],
            [
             0.3333333333333333,
             "#9c179e"
            ],
            [
             0.4444444444444444,
             "#bd3786"
            ],
            [
             0.5555555555555556,
             "#d8576b"
            ],
            [
             0.6666666666666666,
             "#ed7953"
            ],
            [
             0.7777777777777778,
             "#fb9f3a"
            ],
            [
             0.8888888888888888,
             "#fdca26"
            ],
            [
             1,
             "#f0f921"
            ]
           ],
           "sequentialminus": [
            [
             0,
             "#0d0887"
            ],
            [
             0.1111111111111111,
             "#46039f"
            ],
            [
             0.2222222222222222,
             "#7201a8"
            ],
            [
             0.3333333333333333,
             "#9c179e"
            ],
            [
             0.4444444444444444,
             "#bd3786"
            ],
            [
             0.5555555555555556,
             "#d8576b"
            ],
            [
             0.6666666666666666,
             "#ed7953"
            ],
            [
             0.7777777777777778,
             "#fb9f3a"
            ],
            [
             0.8888888888888888,
             "#fdca26"
            ],
            [
             1,
             "#f0f921"
            ]
           ]
          },
          "colorway": [
           "#636efa",
           "#EF553B",
           "#00cc96",
           "#ab63fa",
           "#FFA15A",
           "#19d3f3",
           "#FF6692",
           "#B6E880",
           "#FF97FF",
           "#FECB52"
          ],
          "font": {
           "color": "#2a3f5f"
          },
          "geo": {
           "bgcolor": "white",
           "lakecolor": "white",
           "landcolor": "#E5ECF6",
           "showlakes": true,
           "showland": true,
           "subunitcolor": "white"
          },
          "hoverlabel": {
           "align": "left"
          },
          "hovermode": "closest",
          "mapbox": {
           "style": "light"
          },
          "paper_bgcolor": "white",
          "plot_bgcolor": "#E5ECF6",
          "polar": {
           "angularaxis": {
            "gridcolor": "white",
            "linecolor": "white",
            "ticks": ""
           },
           "bgcolor": "#E5ECF6",
           "radialaxis": {
            "gridcolor": "white",
            "linecolor": "white",
            "ticks": ""
           }
          },
          "scene": {
           "xaxis": {
            "backgroundcolor": "#E5ECF6",
            "gridcolor": "white",
            "gridwidth": 2,
            "linecolor": "white",
            "showbackground": true,
            "ticks": "",
            "zerolinecolor": "white"
           },
           "yaxis": {
            "backgroundcolor": "#E5ECF6",
            "gridcolor": "white",
            "gridwidth": 2,
            "linecolor": "white",
            "showbackground": true,
            "ticks": "",
            "zerolinecolor": "white"
           },
           "zaxis": {
            "backgroundcolor": "#E5ECF6",
            "gridcolor": "white",
            "gridwidth": 2,
            "linecolor": "white",
            "showbackground": true,
            "ticks": "",
            "zerolinecolor": "white"
           }
          },
          "shapedefaults": {
           "line": {
            "color": "#2a3f5f"
           }
          },
          "ternary": {
           "aaxis": {
            "gridcolor": "white",
            "linecolor": "white",
            "ticks": ""
           },
           "baxis": {
            "gridcolor": "white",
            "linecolor": "white",
            "ticks": ""
           },
           "bgcolor": "#E5ECF6",
           "caxis": {
            "gridcolor": "white",
            "linecolor": "white",
            "ticks": ""
           }
          },
          "title": {
           "x": 0.05
          },
          "xaxis": {
           "automargin": true,
           "gridcolor": "white",
           "linecolor": "white",
           "ticks": "",
           "title": {
            "standoff": 15
           },
           "zerolinecolor": "white",
           "zerolinewidth": 2
          },
          "yaxis": {
           "automargin": true,
           "gridcolor": "white",
           "linecolor": "white",
           "ticks": "",
           "title": {
            "standoff": 15
           },
           "zerolinecolor": "white",
           "zerolinewidth": 2
          }
         }
        },
        "title": {
         "text": "strand_2 | switching agent | empirical | play-style group |  ( MSEv = 0.45430321708363147 | time(sec) = 3.452856)"
        },
        "xaxis": {
         "anchor": "y",
         "domain": [
          0,
          1
         ],
         "title": {
          "text": "Step"
         }
        },
        "yaxis": {
         "anchor": "x",
         "domain": [
          0,
          1
         ],
         "title": {
          "text": "Shap Value (abs)"
         }
        }
       }
      }
     },
     "metadata": {},
     "output_type": "display_data"
    },
    {
     "data": {
      "text/plain": [
       "<matplotlib.image.AxesImage at 0x7f400c237f50>"
      ]
     },
     "execution_count": 50,
     "metadata": {},
     "output_type": "execute_result"
    },
    {
     "data": {
      "image/png": "[encoded data removed]",
      "text/plain": [
       "<Figure size 640x480 with 1 Axes>"
      ]
     },
     "metadata": {},
     "output_type": "display_data"
    }
   ],
   "source": [
    "object_group = {\n",
    "    'Treasure':['DT','SDT'],\n",
    "    'Exit': ['DE','SDE'],\n",
    "    'Potion': ['DP','SDP'],\n",
    "    'Monster': ['DM'],\n",
    "    'HP': ['HP']\n",
    "}\n",
    "group = {\n",
    "    'Treasure':['DT','SDT'],\n",
    "    'Exit': ['DE','SDE'],\n",
    "    'Health': ['DP','SDP'],\n",
    "    'Monster':['DM','HP']\n",
    "}\n",
    "basic_group = {\n",
    "    'Treasure':['DT','SDT'],\n",
    "    'Exit': ['DE','SDE'],\n",
    "    'Health': ['DP','SDP','HP','DM'],\n",
    "    # 'Monster':['DM']\n",
    "}\n",
    "safety_group = {\n",
    "    'Treasure':['DT'],\n",
    "    'Exit': ['DE'],\n",
    "    'Potion': ['DP'],\n",
    "    'Safe': ['SDT','SDP','SDE','HP'],\n",
    "    'Monster':['DM']\n",
    "}\n",
    "df_shapley, pred_explain, internal, timing,MSEv,df = group_shap_single_exp(base_config,approach='empirical',group= group)\n",
    "print(df['action'].unique())\n",
    "#TODO look how to exclude non column\n",
    "df_shapley.drop(columns = 'none',inplace=True)\n",
    "fig =px.line(data_frame=df_shapley,\n",
    "             x= df_shapley.index ,\n",
    "             y = df_shapley.columns,\n",
    "             title =f\"{base_config[\"lvl\"]} | switching agent | empirical | play-style group |  ( MSEv = {MSEv[\"MSEv\"]['MSEv'].iloc[0]} | time(sec) = {timing[\"total_time_secs\"]})\"\n",
    "             ).update_layout(xaxis_title=\"Step\", yaxis_title=\"Shap Value (abs)\")\n",
    "fig.show()\n",
    "MSEv['MSEv']\n",
    "img =gen_action_map(df,f=f'./README/resources/md_stages_screenshots/md-{base_config['lvl']}-v0_step0.jpg')\n",
    "plt.imshow(img)"
   ]
  },
  {
   "cell_type": "code",
   "execution_count": 17,
   "metadata": {},
   "outputs": [
    {
     "name": "stdout",
     "output_type": "stream",
     "text": [
      "----------Generating Data----------\n",
      "{'lvl': 'policy_2', 'obs_type': 'distance', 'learning_algo': 'PPO', 'exp_type': 'switch_exitLessBetter', 'action_type': 'switch', 'action_space_type': 'discrete', 'play_style': 'switch', 'reward_scheme': 'switch', 'exp_path': 'switching', 'base_path': 'play_style_models/base/', 'which_model': 'best_model'}\n",
      "switch-policy_2_switch_switch_switch_exitLessBetter_PPO\n"
     ]
    },
    {
     "name": "stderr",
     "output_type": "stream",
     "text": [
      "R[write to console]: Note: You passed a model to explain() which is not natively supported, and did not supply a 'get_model_specs' function to explain().\n",
      "Consistency checks between model and data is therefore disabled.\n",
      "\n",
      "\n",
      "R[write to console]: Setting parameter 'n_batches' to 2 as a fair trade-off between memory consumption and computation time.\n",
      "Reducing 'n_batches' typically reduces the computation time at the cost of increased memory consumption.\n",
      "\n",
      "\n"
     ]
    },
    {
     "name": "stdout",
     "output_type": "stream",
     "text": [
      "0      [3.1140745]\n",
      "1      [3.1140451]\n",
      "2       [3.113708]\n",
      "3      [3.1117535]\n",
      "4      [3.0976179]\n",
      "          ...     \n",
      "115     [2.678426]\n",
      "116    [2.6784258]\n",
      "117    [1.1655737]\n",
      "118    [1.1655735]\n",
      "119    [1.1655732]\n",
      "Name: curr_obs, Length: 120, dtype: object\n",
      "['TREASURE' 'KILLER' 'POTION']\n"
     ]
    },
    {
     "data": {
      "application/vnd.plotly.v1+json": {
       "config": {
        "plotlyServerURL": "https://plot.ly"
       },
       "data": [
        {
         "hovertemplate": "variable=Treasure<br>index=%{x}<br>value=%{y}<extra></extra>",
         "legendgroup": "Treasure",
         "line": {
          "color": "#636efa",
          "dash": "solid"
         },
         "marker": {
          "symbol": "circle"
         },
         "mode": "lines",
         "name": "Treasure",
         "orientation": "v",
         "showlegend": true,
         "type": "scatter",
         "x": [
          "1",
          "2",
          "3",
          "4",
          "5",
          "6",
          "7",
          "8",
          "9",
          "10",
          "11",
          "12",
          "13",
          "14",
          "15",
          "16",
          "17",
          "18",
          "19",
          "20",
          "21",
          "22",
          "23",
          "24"
         ],
         "xaxis": "x",
         "y": [
          0.3498618288843824,
          0.35203341008103695,
          0.3615272094472995,
          0.4178370212468426,
          0.5305520204220756,
          0.30790339926903937,
          0.18522358752630635,
          0.13113270486891743,
          0.12123272322855597,
          0.11314413144522431,
          0.06496652436074599,
          0.06220285439177289,
          0.04374413147105912,
          0.03216082537456317,
          0.033972089457961215,
          0.03507887437759844,
          0.0317384628765271,
          0.03188603423492004,
          0.03605131821214353,
          0.04072811524874915,
          0.0644961423920195,
          0.03640578243042766,
          0.02907305527062866,
          0.03304134416670479
         ],
         "yaxis": "y"
        },
        {
         "hovertemplate": "variable=Exit<br>index=%{x}<br>value=%{y}<extra></extra>",
         "legendgroup": "Exit",
         "line": {
          "color": "#EF553B",
          "dash": "solid"
         },
         "marker": {
          "symbol": "circle"
         },
         "mode": "lines",
         "name": "Exit",
         "orientation": "v",
         "showlegend": true,
         "type": "scatter",
         "x": [
          "1",
          "2",
          "3",
          "4",
          "5",
          "6",
          "7",
          "8",
          "9",
          "10",
          "11",
          "12",
          "13",
          "14",
          "15",
          "16",
          "17",
          "18",
          "19",
          "20",
          "21",
          "22",
          "23",
          "24"
         ],
         "xaxis": "x",
         "y": [
          0.3542009196184704,
          0.35166995674748336,
          0.34132078714798947,
          0.2864950114552641,
          0.16395569102198423,
          0.004394890106850269,
          0.1085837839496849,
          0.15143151278622743,
          0.15354106699283057,
          0.14498537647488977,
          0.06729953089191283,
          0.06453586092352977,
          0.011524066231532532,
          0.08921624109253726,
          0.1274551778203519,
          0.15440487386914323,
          0.16416814488106782,
          0.1643729394453797,
          0.1580146356741006,
          0.11269195027797177,
          0.0212418018126885,
          0.2452323070439805,
          0.39671283885689435,
          0.44942187335216705
         ],
         "yaxis": "y"
        },
        {
         "hovertemplate": "variable=Potion<br>index=%{x}<br>value=%{y}<extra></extra>",
         "legendgroup": "Potion",
         "line": {
          "color": "#00cc96",
          "dash": "solid"
         },
         "marker": {
          "symbol": "circle"
         },
         "mode": "lines",
         "name": "Potion",
         "orientation": "v",
         "showlegend": true,
         "type": "scatter",
         "x": [
          "1",
          "2",
          "3",
          "4",
          "5",
          "6",
          "7",
          "8",
          "9",
          "10",
          "11",
          "12",
          "13",
          "14",
          "15",
          "16",
          "17",
          "18",
          "19",
          "20",
          "21",
          "22",
          "23",
          "24"
         ],
         "xaxis": "x",
         "y": [
          0.07791191143985936,
          0.0762359799361604,
          0.07301016970663206,
          0.06775530269260377,
          0.07105723955227519,
          0.10243317081324643,
          0.10623841514510735,
          0.10113437333819081,
          0.09649695026564095,
          0.09475232753466542,
          0.06729951502137096,
          0.06453586094890026,
          0.05061035089414371,
          0.09088865473261343,
          0.08768882928696797,
          0.08440436821436204,
          0.0845067398903826,
          0.08398103925544897,
          0.08647150473872356,
          0.10749977778963082,
          0.5804689210767326,
          0.6650787744194402,
          0.5197145266670047,
          0.4773889209918536
         ],
         "yaxis": "y"
        },
        {
         "hovertemplate": "variable=Monster<br>index=%{x}<br>value=%{y}<extra></extra>",
         "legendgroup": "Monster",
         "line": {
          "color": "#ab63fa",
          "dash": "solid"
         },
         "marker": {
          "symbol": "circle"
         },
         "mode": "lines",
         "name": "Monster",
         "orientation": "v",
         "showlegend": true,
         "type": "scatter",
         "x": [
          "1",
          "2",
          "3",
          "4",
          "5",
          "6",
          "7",
          "8",
          "9",
          "10",
          "11",
          "12",
          "13",
          "14",
          "15",
          "16",
          "17",
          "18",
          "19",
          "20",
          "21",
          "22",
          "23",
          "24"
         ],
         "xaxis": "x",
         "y": [
          0.043012088701679746,
          0.04387900687801986,
          0.050684050968723166,
          0.05735520677875109,
          0.047660998082472185,
          0.01914009950929363,
          0.005461022924863223,
          0.001473040774305378,
          0.0003708091892685261,
          0.012570456883273249,
          0.01219216778699044,
          0.00408062085595289,
          0.3151478996947412,
          0.08161399225985859,
          0.05045526580835423,
          0.026801285253761173,
          0.010467758893721908,
          0.010700619889961667,
          0.014715798808856135,
          0.02121085134649041,
          0.014402925804879722,
          0.07408360227997775,
          0.09253810273040376,
          0.0831489356439225
         ],
         "yaxis": "y"
        },
        {
         "hovertemplate": "variable=HP<br>index=%{x}<br>value=%{y}<extra></extra>",
         "legendgroup": "HP",
         "line": {
          "color": "#FFA15A",
          "dash": "solid"
         },
         "marker": {
          "symbol": "circle"
         },
         "mode": "lines",
         "name": "HP",
         "orientation": "v",
         "showlegend": true,
         "type": "scatter",
         "x": [
          "1",
          "2",
          "3",
          "4",
          "5",
          "6",
          "7",
          "8",
          "9",
          "10",
          "11",
          "12",
          "13",
          "14",
          "15",
          "16",
          "17",
          "18",
          "19",
          "20",
          "21",
          "22",
          "23",
          "24"
         ],
         "xaxis": "x",
         "y": [
          0.027517620059780812,
          0.026378550429775854,
          0.029439537747760897,
          0.0342944188326588,
          0.032213424896975054,
          0.049422349298581976,
          0.04924965386260178,
          0.05140078217337014,
          0.05270969707908506,
          0.055409707876175204,
          0.043983921262625555,
          0.044163367057921496,
          0.08844839188993621,
          0.13226263966674012,
          0.13019351811006108,
          0.13128904864246776,
          0.1344165224032191,
          0.13465213919519237,
          0.13867008346980558,
          0.1611462461446509,
          0.18979703417208735,
          0.13023113461102012,
          0.11299331421064278,
          0.10803099950753747
         ],
         "yaxis": "y"
        }
       ],
       "layout": {
        "legend": {
         "title": {
          "text": "variable"
         },
         "tracegroupgap": 0
        },
        "margin": {
         "t": 60
        },
        "template": {
         "data": {
          "bar": [
           {
            "error_x": {
             "color": "#2a3f5f"
            },
            "error_y": {
             "color": "#2a3f5f"
            },
            "marker": {
             "line": {
              "color": "#E5ECF6",
              "width": 0.5
             },
             "pattern": {
              "fillmode": "overlay",
              "size": 10,
              "solidity": 0.2
             }
            },
            "type": "bar"
           }
          ],
          "barpolar": [
           {
            "marker": {
             "line": {
              "color": "#E5ECF6",
              "width": 0.5
             },
             "pattern": {
              "fillmode": "overlay",
              "size": 10,
              "solidity": 0.2
             }
            },
            "type": "barpolar"
           }
          ],
          "carpet": [
           {
            "aaxis": {
             "endlinecolor": "#2a3f5f",
             "gridcolor": "white",
             "linecolor": "white",
             "minorgridcolor": "white",
             "startlinecolor": "#2a3f5f"
            },
            "baxis": {
             "endlinecolor": "#2a3f5f",
             "gridcolor": "white",
             "linecolor": "white",
             "minorgridcolor": "white",
             "startlinecolor": "#2a3f5f"
            },
            "type": "carpet"
           }
          ],
          "choropleth": [
           {
            "colorbar": {
             "outlinewidth": 0,
             "ticks": ""
            },
            "type": "choropleth"
           }
          ],
          "contour": [
           {
            "colorbar": {
             "outlinewidth": 0,
             "ticks": ""
            },
            "colorscale": [
             [
              0,
              "#0d0887"
             ],
             [
              0.1111111111111111,
              "#46039f"
             ],
             [
              0.2222222222222222,
              "#7201a8"
             ],
             [
              0.3333333333333333,
              "#9c179e"
             ],
             [
              0.4444444444444444,
              "#bd3786"
             ],
             [
              0.5555555555555556,
              "#d8576b"
             ],
             [
              0.6666666666666666,
              "#ed7953"
             ],
             [
              0.7777777777777778,
              "#fb9f3a"
             ],
             [
              0.8888888888888888,
              "#fdca26"
             ],
             [
              1,
              "#f0f921"
             ]
            ],
            "type": "contour"
           }
          ],
          "contourcarpet": [
           {
            "colorbar": {
             "outlinewidth": 0,
             "ticks": ""
            },
            "type": "contourcarpet"
           }
          ],
          "heatmap": [
           {
            "colorbar": {
             "outlinewidth": 0,
             "ticks": ""
            },
            "colorscale": [
             [
              0,
              "#0d0887"
             ],
             [
              0.1111111111111111,
              "#46039f"
             ],
             [
              0.2222222222222222,
              "#7201a8"
             ],
             [
              0.3333333333333333,
              "#9c179e"
             ],
             [
              0.4444444444444444,
              "#bd3786"
             ],
             [
              0.5555555555555556,
              "#d8576b"
             ],
             [
              0.6666666666666666,
              "#ed7953"
             ],
             [
              0.7777777777777778,
              "#fb9f3a"
             ],
             [
              0.8888888888888888,
              "#fdca26"
             ],
             [
              1,
              "#f0f921"
             ]
            ],
            "type": "heatmap"
           }
          ],
          "heatmapgl": [
           {
            "colorbar": {
             "outlinewidth": 0,
             "ticks": ""
            },
            "colorscale": [
             [
              0,
              "#0d0887"
             ],
             [
              0.1111111111111111,
              "#46039f"
             ],
             [
              0.2222222222222222,
              "#7201a8"
             ],
             [
              0.3333333333333333,
              "#9c179e"
             ],
             [
              0.4444444444444444,
              "#bd3786"
             ],
             [
              0.5555555555555556,
              "#d8576b"
             ],
             [
              0.6666666666666666,
              "#ed7953"
             ],
             [
              0.7777777777777778,
              "#fb9f3a"
             ],
             [
              0.8888888888888888,
              "#fdca26"
             ],
             [
              1,
              "#f0f921"
             ]
            ],
            "type": "heatmapgl"
           }
          ],
          "histogram": [
           {
            "marker": {
             "pattern": {
              "fillmode": "overlay",
              "size": 10,
              "solidity": 0.2
             }
            },
            "type": "histogram"
           }
          ],
          "histogram2d": [
           {
            "colorbar": {
             "outlinewidth": 0,
             "ticks": ""
            },
            "colorscale": [
             [
              0,
              "#0d0887"
             ],
             [
              0.1111111111111111,
              "#46039f"
             ],
             [
              0.2222222222222222,
              "#7201a8"
             ],
             [
              0.3333333333333333,
              "#9c179e"
             ],
             [
              0.4444444444444444,
              "#bd3786"
             ],
             [
              0.5555555555555556,
              "#d8576b"
             ],
             [
              0.6666666666666666,
              "#ed7953"
             ],
             [
              0.7777777777777778,
              "#fb9f3a"
             ],
             [
              0.8888888888888888,
              "#fdca26"
             ],
             [
              1,
              "#f0f921"
             ]
            ],
            "type": "histogram2d"
           }
          ],
          "histogram2dcontour": [
           {
            "colorbar": {
             "outlinewidth": 0,
             "ticks": ""
            },
            "colorscale": [
             [
              0,
              "#0d0887"
             ],
             [
              0.1111111111111111,
              "#46039f"
             ],
             [
              0.2222222222222222,
              "#7201a8"
             ],
             [
              0.3333333333333333,
              "#9c179e"
             ],
             [
              0.4444444444444444,
              "#bd3786"
             ],
             [
              0.5555555555555556,
              "#d8576b"
             ],
             [
              0.6666666666666666,
              "#ed7953"
             ],
             [
              0.7777777777777778,
              "#fb9f3a"
             ],
             [
              0.8888888888888888,
              "#fdca26"
             ],
             [
              1,
              "#f0f921"
             ]
            ],
            "type": "histogram2dcontour"
           }
          ],
          "mesh3d": [
           {
            "colorbar": {
             "outlinewidth": 0,
             "ticks": ""
            },
            "type": "mesh3d"
           }
          ],
          "parcoords": [
           {
            "line": {
             "colorbar": {
              "outlinewidth": 0,
              "ticks": ""
             }
            },
            "type": "parcoords"
           }
          ],
          "pie": [
           {
            "automargin": true,
            "type": "pie"
           }
          ],
          "scatter": [
           {
            "fillpattern": {
             "fillmode": "overlay",
             "size": 10,
             "solidity": 0.2
            },
            "type": "scatter"
           }
          ],
          "scatter3d": [
           {
            "line": {
             "colorbar": {
              "outlinewidth": 0,
              "ticks": ""
             }
            },
            "marker": {
             "colorbar": {
              "outlinewidth": 0,
              "ticks": ""
             }
            },
            "type": "scatter3d"
           }
          ],
          "scattercarpet": [
           {
            "marker": {
             "colorbar": {
              "outlinewidth": 0,
              "ticks": ""
             }
            },
            "type": "scattercarpet"
           }
          ],
          "scattergeo": [
           {
            "marker": {
             "colorbar": {
              "outlinewidth": 0,
              "ticks": ""
             }
            },
            "type": "scattergeo"
           }
          ],
          "scattergl": [
           {
            "marker": {
             "colorbar": {
              "outlinewidth": 0,
              "ticks": ""
             }
            },
            "type": "scattergl"
           }
          ],
          "scattermapbox": [
           {
            "marker": {
             "colorbar": {
              "outlinewidth": 0,
              "ticks": ""
             }
            },
            "type": "scattermapbox"
           }
          ],
          "scatterpolar": [
           {
            "marker": {
             "colorbar": {
              "outlinewidth": 0,
              "ticks": ""
             }
            },
            "type": "scatterpolar"
           }
          ],
          "scatterpolargl": [
           {
            "marker": {
             "colorbar": {
              "outlinewidth": 0,
              "ticks": ""
             }
            },
            "type": "scatterpolargl"
           }
          ],
          "scatterternary": [
           {
            "marker": {
             "colorbar": {
              "outlinewidth": 0,
              "ticks": ""
             }
            },
            "type": "scatterternary"
           }
          ],
          "surface": [
           {
            "colorbar": {
             "outlinewidth": 0,
             "ticks": ""
            },
            "colorscale": [
             [
              0,
              "#0d0887"
             ],
             [
              0.1111111111111111,
              "#46039f"
             ],
             [
              0.2222222222222222,
              "#7201a8"
             ],
             [
              0.3333333333333333,
              "#9c179e"
             ],
             [
              0.4444444444444444,
              "#bd3786"
             ],
             [
              0.5555555555555556,
              "#d8576b"
             ],
             [
              0.6666666666666666,
              "#ed7953"
             ],
             [
              0.7777777777777778,
              "#fb9f3a"
             ],
             [
              0.8888888888888888,
              "#fdca26"
             ],
             [
              1,
              "#f0f921"
             ]
            ],
            "type": "surface"
           }
          ],
          "table": [
           {
            "cells": {
             "fill": {
              "color": "#EBF0F8"
             },
             "line": {
              "color": "white"
             }
            },
            "header": {
             "fill": {
              "color": "#C8D4E3"
             },
             "line": {
              "color": "white"
             }
            },
            "type": "table"
           }
          ]
         },
         "layout": {
          "annotationdefaults": {
           "arrowcolor": "#2a3f5f",
           "arrowhead": 0,
           "arrowwidth": 1
          },
          "autotypenumbers": "strict",
          "coloraxis": {
           "colorbar": {
            "outlinewidth": 0,
            "ticks": ""
           }
          },
          "colorscale": {
           "diverging": [
            [
             0,
             "#8e0152"
            ],
            [
             0.1,
             "#c51b7d"
            ],
            [
             0.2,
             "#de77ae"
            ],
            [
             0.3,
             "#f1b6da"
            ],
            [
             0.4,
             "#fde0ef"
            ],
            [
             0.5,
             "#f7f7f7"
            ],
            [
             0.6,
             "#e6f5d0"
            ],
            [
             0.7,
             "#b8e186"
            ],
            [
             0.8,
             "#7fbc41"
            ],
            [
             0.9,
             "#4d9221"
            ],
            [
             1,
             "#276419"
            ]
           ],
           "sequential": [
            [
             0,
             "#0d0887"
            ],
            [
             0.1111111111111111,
             "#46039f"
            ],
            [
             0.2222222222222222,
             "#7201a8"
            ],
            [
             0.3333333333333333,
             "#9c179e"
            ],
            [
             0.4444444444444444,
             "#bd3786"
            ],
            [
             0.5555555555555556,
             "#d8576b"
            ],
            [
             0.6666666666666666,
             "#ed7953"
            ],
            [
             0.7777777777777778,
             "#fb9f3a"
            ],
            [
             0.8888888888888888,
             "#fdca26"
            ],
            [
             1,
             "#f0f921"
            ]
           ],
           "sequentialminus": [
            [
             0,
             "#0d0887"
            ],
            [
             0.1111111111111111,
             "#46039f"
            ],
            [
             0.2222222222222222,
             "#7201a8"
            ],
            [
             0.3333333333333333,
             "#9c179e"
            ],
            [
             0.4444444444444444,
             "#bd3786"
            ],
            [
             0.5555555555555556,
             "#d8576b"
            ],
            [
             0.6666666666666666,
             "#ed7953"
            ],
            [
             0.7777777777777778,
             "#fb9f3a"
            ],
            [
             0.8888888888888888,
             "#fdca26"
            ],
            [
             1,
             "#f0f921"
            ]
           ]
          },
          "colorway": [
           "#636efa",
           "#EF553B",
           "#00cc96",
           "#ab63fa",
           "#FFA15A",
           "#19d3f3",
           "#FF6692",
           "#B6E880",
           "#FF97FF",
           "#FECB52"
          ],
          "font": {
           "color": "#2a3f5f"
          },
          "geo": {
           "bgcolor": "white",
           "lakecolor": "white",
           "landcolor": "#E5ECF6",
           "showlakes": true,
           "showland": true,
           "subunitcolor": "white"
          },
          "hoverlabel": {
           "align": "left"
          },
          "hovermode": "closest",
          "mapbox": {
           "style": "light"
          },
          "paper_bgcolor": "white",
          "plot_bgcolor": "#E5ECF6",
          "polar": {
           "angularaxis": {
            "gridcolor": "white",
            "linecolor": "white",
            "ticks": ""
           },
           "bgcolor": "#E5ECF6",
           "radialaxis": {
            "gridcolor": "white",
            "linecolor": "white",
            "ticks": ""
           }
          },
          "scene": {
           "xaxis": {
            "backgroundcolor": "#E5ECF6",
            "gridcolor": "white",
            "gridwidth": 2,
            "linecolor": "white",
            "showbackground": true,
            "ticks": "",
            "zerolinecolor": "white"
           },
           "yaxis": {
            "backgroundcolor": "#E5ECF6",
            "gridcolor": "white",
            "gridwidth": 2,
            "linecolor": "white",
            "showbackground": true,
            "ticks": "",
            "zerolinecolor": "white"
           },
           "zaxis": {
            "backgroundcolor": "#E5ECF6",
            "gridcolor": "white",
            "gridwidth": 2,
            "linecolor": "white",
            "showbackground": true,
            "ticks": "",
            "zerolinecolor": "white"
           }
          },
          "shapedefaults": {
           "line": {
            "color": "#2a3f5f"
           }
          },
          "ternary": {
           "aaxis": {
            "gridcolor": "white",
            "linecolor": "white",
            "ticks": ""
           },
           "baxis": {
            "gridcolor": "white",
            "linecolor": "white",
            "ticks": ""
           },
           "bgcolor": "#E5ECF6",
           "caxis": {
            "gridcolor": "white",
            "linecolor": "white",
            "ticks": ""
           }
          },
          "title": {
           "x": 0.05
          },
          "xaxis": {
           "automargin": true,
           "gridcolor": "white",
           "linecolor": "white",
           "ticks": "",
           "title": {
            "standoff": 15
           },
           "zerolinecolor": "white",
           "zerolinewidth": 2
          },
          "yaxis": {
           "automargin": true,
           "gridcolor": "white",
           "linecolor": "white",
           "ticks": "",
           "title": {
            "standoff": 15
           },
           "zerolinecolor": "white",
           "zerolinewidth": 2
          }
         }
        },
        "xaxis": {
         "anchor": "y",
         "domain": [
          0,
          1
         ],
         "title": {
          "text": "Step"
         }
        },
        "yaxis": {
         "anchor": "x",
         "domain": [
          0,
          1
         ],
         "title": {
          "text": "Shap Value"
         }
        }
       }
      }
     },
     "metadata": {},
     "output_type": "display_data"
    }
   ],
   "source": [
    "df_shapley, pred_explain, internal, timing,df = group_shap_single_exp(base_config,approach='empirical',group= object_group)\n",
    "print(df['action'].unique())\n",
    "#TODO look how to exclude non column\n",
    "df_shapley.drop(columns = 'none',inplace=True)\n",
    "fig =px.line(data_frame=df_shapley.abs(),x= df_shapley.index ,y = df_shapley.columns).update_layout(xaxis_title=\"Step\", yaxis_title=\"Shap Value\")\n",
    "fig.show()"
   ]
  },
  {
   "cell_type": "markdown",
   "metadata": {},
   "source": [
    "### using list of levels"
   ]
  },
  {
   "cell_type": "code",
   "execution_count": 7,
   "metadata": {},
   "outputs": [],
   "source": [
    "def group_shap_lvl_analysis(lvl, base_config,approach='independence', grouping =None):\n",
    "    df_gshap_list, pred_explain_list, internal_list, timing_list, df_list = [],[],[],[],[]\n",
    "    configs =gen_config(lvl=lvl,algo=base_config['algo'],obs_type=base_config['obs_type'],exp_type=base_config['exp_type'],base_path= base_config['base_path'],which_model=base_config['which_model'])\n",
    "    for config in configs:\n",
    "        df_shapley, pred_explain, internal, timing, df = group_shap_single_exp(config=config,approach=approach, group=group)"
   ]
  },
  {
   "cell_type": "code",
   "execution_count": 74,
   "metadata": {},
   "outputs": [
    {
     "name": "stdout",
     "output_type": "stream",
     "text": [
      "     step                            curr_obs    action  reward\n",
      "0       0     [12, 4, 4, 20, 20, 24, 24, 100]  TREASURE    -1.0\n",
      "1       1     [11, 3, 3, 19, 19, 23, 23, 100]  TREASURE    -1.0\n",
      "2       2     [10, 2, 2, 18, 18, 22, 22, 100]  TREASURE    -1.0\n",
      "3       3      [9, 1, 1, 17, 17, 21, 21, 100]  TREASURE     4.0\n",
      "4       4      [8, 0, 0, 16, 16, 20, 20, 100]  TREASURE    -1.0\n",
      "..    ...                                 ...       ...     ...\n",
      "115    19  [1000, 1000, 1000, 5, 5, 5, 5, 95]  TREASURE    -1.0\n",
      "116    20  [1000, 1000, 1000, 6, 6, 4, 4, 95]  TREASURE    -1.0\n",
      "117    21  [1000, 1000, 1000, 5, 5, 3, 3, 95]  TREASURE    -1.0\n",
      "118    22  [1000, 1000, 1000, 4, 4, 2, 2, 95]  TREASURE    -1.0\n",
      "119    23  [1000, 1000, 1000, 3, 3, 1, 1, 95]  TREASURE    19.0\n",
      "\n",
      "[120 rows x 4 columns]\n"
     ]
    }
   ],
   "source": [
    "print(df[['step','curr_obs','action','reward']])"
   ]
  },
  {
   "cell_type": "code",
   "execution_count": 96,
   "metadata": {},
   "outputs": [
    {
     "ename": "KeyboardInterrupt",
     "evalue": "",
     "output_type": "error",
     "traceback": [
      "\u001b[0;31m---------------------------------------------------------------------------\u001b[0m",
      "\u001b[0;31mKeyboardInterrupt\u001b[0m                         Traceback (most recent call last)",
      "Cell \u001b[0;32mIn[96], line 6\u001b[0m\n\u001b[1;32m      2\u001b[0m simp_data[obs_names] \u001b[38;5;241m=\u001b[39msimp_data[obs_names]\u001b[38;5;241m.\u001b[39mreplace(\u001b[38;5;241m1000\u001b[39m,\u001b[38;5;241m-\u001b[39m\u001b[38;5;241m1\u001b[39m)\n\u001b[1;32m      3\u001b[0m \u001b[38;5;66;03m# simp_data[obs_names] =simp_data[obs_names].replace(1000,-1)\u001b[39;00m\n\u001b[1;32m      4\u001b[0m \n\u001b[1;32m      5\u001b[0m \u001b[38;5;66;03m# print(simp_data)\u001b[39;00m\n\u001b[0;32m----> 6\u001b[0m \u001b[43msns\u001b[49m\u001b[38;5;241;43m.\u001b[39;49m\u001b[43mpairplot\u001b[49m\u001b[43m(\u001b[49m\u001b[43msimp_data\u001b[49m\u001b[43m[\u001b[49m\u001b[43m[\u001b[49m\u001b[38;5;124;43m'\u001b[39;49m\u001b[38;5;124;43mDM\u001b[39;49m\u001b[38;5;124;43m'\u001b[39;49m\u001b[43m,\u001b[49m\u001b[43m \u001b[49m\u001b[38;5;124;43m'\u001b[39;49m\u001b[38;5;124;43mDT\u001b[39;49m\u001b[38;5;124;43m'\u001b[39;49m\u001b[43m,\u001b[49m\u001b[43m \u001b[49m\u001b[38;5;124;43m'\u001b[39;49m\u001b[38;5;124;43mSDT\u001b[39;49m\u001b[38;5;124;43m'\u001b[39;49m\u001b[43m,\u001b[49m\u001b[43m \u001b[49m\u001b[38;5;124;43m'\u001b[39;49m\u001b[38;5;124;43mDP\u001b[39;49m\u001b[38;5;124;43m'\u001b[39;49m\u001b[43m,\u001b[49m\u001b[43m \u001b[49m\u001b[38;5;124;43m'\u001b[39;49m\u001b[38;5;124;43mSDP\u001b[39;49m\u001b[38;5;124;43m'\u001b[39;49m\u001b[43m,\u001b[49m\u001b[43m \u001b[49m\u001b[38;5;124;43m'\u001b[39;49m\u001b[38;5;124;43mDE\u001b[39;49m\u001b[38;5;124;43m'\u001b[39;49m\u001b[43m,\u001b[49m\u001b[43m \u001b[49m\u001b[38;5;124;43m'\u001b[39;49m\u001b[38;5;124;43mSDE\u001b[39;49m\u001b[38;5;124;43m'\u001b[39;49m\u001b[43m,\u001b[49m\u001b[43m \u001b[49m\u001b[38;5;124;43m'\u001b[39;49m\u001b[38;5;124;43mHP\u001b[39;49m\u001b[38;5;124;43m'\u001b[39;49m\u001b[43m,\u001b[49m\u001b[38;5;124;43m'\u001b[39;49m\u001b[38;5;124;43maction\u001b[39;49m\u001b[38;5;124;43m'\u001b[39;49m\u001b[43m]\u001b[49m\u001b[43m]\u001b[49m\u001b[43m,\u001b[49m\u001b[43mhue\u001b[49m\u001b[38;5;241;43m=\u001b[39;49m\u001b[38;5;124;43m'\u001b[39;49m\u001b[38;5;124;43maction\u001b[39;49m\u001b[38;5;124;43m'\u001b[39;49m\u001b[43m)\u001b[49m\n",
      "File \u001b[0;32m~/anaconda3/envs/groupshap/lib/python3.12/site-packages/seaborn/axisgrid.py:2174\u001b[0m, in \u001b[0;36mpairplot\u001b[0;34m(data, hue, hue_order, palette, vars, x_vars, y_vars, kind, diag_kind, markers, height, aspect, corner, dropna, plot_kws, diag_kws, grid_kws, size)\u001b[0m\n\u001b[1;32m   2171\u001b[0m \u001b[38;5;28;01mif\u001b[39;00m hue \u001b[38;5;129;01mis\u001b[39;00m \u001b[38;5;129;01mnot\u001b[39;00m \u001b[38;5;28;01mNone\u001b[39;00m:\n\u001b[1;32m   2172\u001b[0m     grid\u001b[38;5;241m.\u001b[39madd_legend()\n\u001b[0;32m-> 2174\u001b[0m \u001b[43mgrid\u001b[49m\u001b[38;5;241;43m.\u001b[39;49m\u001b[43mtight_layout\u001b[49m\u001b[43m(\u001b[49m\u001b[43m)\u001b[49m\n\u001b[1;32m   2176\u001b[0m \u001b[38;5;28;01mreturn\u001b[39;00m grid\n",
      "File \u001b[0;32m~/anaconda3/envs/groupshap/lib/python3.12/site-packages/seaborn/axisgrid.py:118\u001b[0m, in \u001b[0;36mGrid.tight_layout\u001b[0;34m(self, *args, **kwargs)\u001b[0m\n\u001b[1;32m    116\u001b[0m \u001b[38;5;28;01mif\u001b[39;00m \u001b[38;5;28mself\u001b[39m\u001b[38;5;241m.\u001b[39m_tight_layout_pad \u001b[38;5;129;01mis\u001b[39;00m \u001b[38;5;129;01mnot\u001b[39;00m \u001b[38;5;28;01mNone\u001b[39;00m:\n\u001b[1;32m    117\u001b[0m     kwargs\u001b[38;5;241m.\u001b[39msetdefault(\u001b[38;5;124m\"\u001b[39m\u001b[38;5;124mpad\u001b[39m\u001b[38;5;124m\"\u001b[39m, \u001b[38;5;28mself\u001b[39m\u001b[38;5;241m.\u001b[39m_tight_layout_pad)\n\u001b[0;32m--> 118\u001b[0m \u001b[38;5;28;43mself\u001b[39;49m\u001b[38;5;241;43m.\u001b[39;49m\u001b[43m_figure\u001b[49m\u001b[38;5;241;43m.\u001b[39;49m\u001b[43mtight_layout\u001b[49m\u001b[43m(\u001b[49m\u001b[38;5;241;43m*\u001b[39;49m\u001b[43margs\u001b[49m\u001b[43m,\u001b[49m\u001b[43m \u001b[49m\u001b[38;5;241;43m*\u001b[39;49m\u001b[38;5;241;43m*\u001b[39;49m\u001b[43mkwargs\u001b[49m\u001b[43m)\u001b[49m\n\u001b[1;32m    119\u001b[0m \u001b[38;5;28;01mreturn\u001b[39;00m \u001b[38;5;28mself\u001b[39m\n",
      "File \u001b[0;32m~/anaconda3/envs/groupshap/lib/python3.12/site-packages/matplotlib/figure.py:3540\u001b[0m, in \u001b[0;36mFigure.tight_layout\u001b[0;34m(self, pad, h_pad, w_pad, rect)\u001b[0m\n\u001b[1;32m   3538\u001b[0m previous_engine \u001b[38;5;241m=\u001b[39m \u001b[38;5;28mself\u001b[39m\u001b[38;5;241m.\u001b[39mget_layout_engine()\n\u001b[1;32m   3539\u001b[0m \u001b[38;5;28mself\u001b[39m\u001b[38;5;241m.\u001b[39mset_layout_engine(engine)\n\u001b[0;32m-> 3540\u001b[0m \u001b[43mengine\u001b[49m\u001b[38;5;241;43m.\u001b[39;49m\u001b[43mexecute\u001b[49m\u001b[43m(\u001b[49m\u001b[38;5;28;43mself\u001b[39;49m\u001b[43m)\u001b[49m\n\u001b[1;32m   3541\u001b[0m \u001b[38;5;28;01mif\u001b[39;00m previous_engine \u001b[38;5;129;01mis\u001b[39;00m \u001b[38;5;129;01mnot\u001b[39;00m \u001b[38;5;28;01mNone\u001b[39;00m \u001b[38;5;129;01mand\u001b[39;00m \u001b[38;5;129;01mnot\u001b[39;00m \u001b[38;5;28misinstance\u001b[39m(\n\u001b[1;32m   3542\u001b[0m     previous_engine, (TightLayoutEngine, PlaceHolderLayoutEngine)\n\u001b[1;32m   3543\u001b[0m ):\n\u001b[1;32m   3544\u001b[0m     _api\u001b[38;5;241m.\u001b[39mwarn_external(\u001b[38;5;124m'\u001b[39m\u001b[38;5;124mThe figure layout has changed to tight\u001b[39m\u001b[38;5;124m'\u001b[39m)\n",
      "File \u001b[0;32m~/anaconda3/envs/groupshap/lib/python3.12/site-packages/matplotlib/layout_engine.py:183\u001b[0m, in \u001b[0;36mTightLayoutEngine.execute\u001b[0;34m(self, fig)\u001b[0m\n\u001b[1;32m    181\u001b[0m renderer \u001b[38;5;241m=\u001b[39m fig\u001b[38;5;241m.\u001b[39m_get_renderer()\n\u001b[1;32m    182\u001b[0m \u001b[38;5;28;01mwith\u001b[39;00m \u001b[38;5;28mgetattr\u001b[39m(renderer, \u001b[38;5;124m\"\u001b[39m\u001b[38;5;124m_draw_disabled\u001b[39m\u001b[38;5;124m\"\u001b[39m, nullcontext)():\n\u001b[0;32m--> 183\u001b[0m     kwargs \u001b[38;5;241m=\u001b[39m \u001b[43mget_tight_layout_figure\u001b[49m\u001b[43m(\u001b[49m\n\u001b[1;32m    184\u001b[0m \u001b[43m        \u001b[49m\u001b[43mfig\u001b[49m\u001b[43m,\u001b[49m\u001b[43m \u001b[49m\u001b[43mfig\u001b[49m\u001b[38;5;241;43m.\u001b[39;49m\u001b[43maxes\u001b[49m\u001b[43m,\u001b[49m\u001b[43m \u001b[49m\u001b[43mget_subplotspec_list\u001b[49m\u001b[43m(\u001b[49m\u001b[43mfig\u001b[49m\u001b[38;5;241;43m.\u001b[39;49m\u001b[43maxes\u001b[49m\u001b[43m)\u001b[49m\u001b[43m,\u001b[49m\u001b[43m \u001b[49m\u001b[43mrenderer\u001b[49m\u001b[43m,\u001b[49m\n\u001b[1;32m    185\u001b[0m \u001b[43m        \u001b[49m\u001b[43mpad\u001b[49m\u001b[38;5;241;43m=\u001b[39;49m\u001b[43minfo\u001b[49m\u001b[43m[\u001b[49m\u001b[38;5;124;43m'\u001b[39;49m\u001b[38;5;124;43mpad\u001b[39;49m\u001b[38;5;124;43m'\u001b[39;49m\u001b[43m]\u001b[49m\u001b[43m,\u001b[49m\u001b[43m \u001b[49m\u001b[43mh_pad\u001b[49m\u001b[38;5;241;43m=\u001b[39;49m\u001b[43minfo\u001b[49m\u001b[43m[\u001b[49m\u001b[38;5;124;43m'\u001b[39;49m\u001b[38;5;124;43mh_pad\u001b[39;49m\u001b[38;5;124;43m'\u001b[39;49m\u001b[43m]\u001b[49m\u001b[43m,\u001b[49m\u001b[43m \u001b[49m\u001b[43mw_pad\u001b[49m\u001b[38;5;241;43m=\u001b[39;49m\u001b[43minfo\u001b[49m\u001b[43m[\u001b[49m\u001b[38;5;124;43m'\u001b[39;49m\u001b[38;5;124;43mw_pad\u001b[39;49m\u001b[38;5;124;43m'\u001b[39;49m\u001b[43m]\u001b[49m\u001b[43m,\u001b[49m\n\u001b[1;32m    186\u001b[0m \u001b[43m        \u001b[49m\u001b[43mrect\u001b[49m\u001b[38;5;241;43m=\u001b[39;49m\u001b[43minfo\u001b[49m\u001b[43m[\u001b[49m\u001b[38;5;124;43m'\u001b[39;49m\u001b[38;5;124;43mrect\u001b[39;49m\u001b[38;5;124;43m'\u001b[39;49m\u001b[43m]\u001b[49m\u001b[43m)\u001b[49m\n\u001b[1;32m    187\u001b[0m \u001b[38;5;28;01mif\u001b[39;00m kwargs:\n\u001b[1;32m    188\u001b[0m     fig\u001b[38;5;241m.\u001b[39msubplots_adjust(\u001b[38;5;241m*\u001b[39m\u001b[38;5;241m*\u001b[39mkwargs)\n",
      "File \u001b[0;32m~/anaconda3/envs/groupshap/lib/python3.12/site-packages/matplotlib/_tight_layout.py:293\u001b[0m, in \u001b[0;36mget_tight_layout_figure\u001b[0;34m(fig, axes_list, subplotspec_list, renderer, pad, h_pad, w_pad, rect)\u001b[0m\n\u001b[1;32m    290\u001b[0m     \u001b[38;5;28;01mif\u001b[39;00m top \u001b[38;5;129;01mis\u001b[39;00m \u001b[38;5;129;01mnot\u001b[39;00m \u001b[38;5;28;01mNone\u001b[39;00m:\n\u001b[1;32m    291\u001b[0m         top \u001b[38;5;241m-\u001b[39m\u001b[38;5;241m=\u001b[39m (\u001b[38;5;241m1\u001b[39m \u001b[38;5;241m-\u001b[39m kwargs[\u001b[38;5;124m\"\u001b[39m\u001b[38;5;124mtop\u001b[39m\u001b[38;5;124m\"\u001b[39m])\n\u001b[0;32m--> 293\u001b[0m     kwargs \u001b[38;5;241m=\u001b[39m \u001b[43m_auto_adjust_subplotpars\u001b[49m\u001b[43m(\u001b[49m\u001b[43mfig\u001b[49m\u001b[43m,\u001b[49m\u001b[43m \u001b[49m\u001b[43mrenderer\u001b[49m\u001b[43m,\u001b[49m\n\u001b[1;32m    294\u001b[0m \u001b[43m                                      \u001b[49m\u001b[43mshape\u001b[49m\u001b[38;5;241;43m=\u001b[39;49m\u001b[43m(\u001b[49m\u001b[43mmax_nrows\u001b[49m\u001b[43m,\u001b[49m\u001b[43m \u001b[49m\u001b[43mmax_ncols\u001b[49m\u001b[43m)\u001b[49m\u001b[43m,\u001b[49m\n\u001b[1;32m    295\u001b[0m \u001b[43m                                      \u001b[49m\u001b[43mspan_pairs\u001b[49m\u001b[38;5;241;43m=\u001b[39;49m\u001b[43mspan_pairs\u001b[49m\u001b[43m,\u001b[49m\n\u001b[1;32m    296\u001b[0m \u001b[43m                                      \u001b[49m\u001b[43msubplot_list\u001b[49m\u001b[38;5;241;43m=\u001b[39;49m\u001b[43msubplot_list\u001b[49m\u001b[43m,\u001b[49m\n\u001b[1;32m    297\u001b[0m \u001b[43m                                      \u001b[49m\u001b[43max_bbox_list\u001b[49m\u001b[38;5;241;43m=\u001b[39;49m\u001b[43max_bbox_list\u001b[49m\u001b[43m,\u001b[49m\n\u001b[1;32m    298\u001b[0m \u001b[43m                                      \u001b[49m\u001b[43mpad\u001b[49m\u001b[38;5;241;43m=\u001b[39;49m\u001b[43mpad\u001b[49m\u001b[43m,\u001b[49m\u001b[43m \u001b[49m\u001b[43mh_pad\u001b[49m\u001b[38;5;241;43m=\u001b[39;49m\u001b[43mh_pad\u001b[49m\u001b[43m,\u001b[49m\u001b[43m \u001b[49m\u001b[43mw_pad\u001b[49m\u001b[38;5;241;43m=\u001b[39;49m\u001b[43mw_pad\u001b[49m\u001b[43m,\u001b[49m\n\u001b[1;32m    299\u001b[0m \u001b[43m                                      \u001b[49m\u001b[43mrect\u001b[49m\u001b[38;5;241;43m=\u001b[39;49m\u001b[43m(\u001b[49m\u001b[43mleft\u001b[49m\u001b[43m,\u001b[49m\u001b[43m \u001b[49m\u001b[43mbottom\u001b[49m\u001b[43m,\u001b[49m\u001b[43m \u001b[49m\u001b[43mright\u001b[49m\u001b[43m,\u001b[49m\u001b[43m \u001b[49m\u001b[43mtop\u001b[49m\u001b[43m)\u001b[49m\u001b[43m)\u001b[49m\n\u001b[1;32m    301\u001b[0m \u001b[38;5;28;01mreturn\u001b[39;00m kwargs\n",
      "File \u001b[0;32m~/anaconda3/envs/groupshap/lib/python3.12/site-packages/matplotlib/_tight_layout.py:82\u001b[0m, in \u001b[0;36m_auto_adjust_subplotpars\u001b[0;34m(fig, renderer, shape, span_pairs, subplot_list, ax_bbox_list, pad, h_pad, w_pad, rect)\u001b[0m\n\u001b[1;32m     80\u001b[0m \u001b[38;5;28;01mfor\u001b[39;00m ax \u001b[38;5;129;01min\u001b[39;00m subplots:\n\u001b[1;32m     81\u001b[0m     \u001b[38;5;28;01mif\u001b[39;00m ax\u001b[38;5;241m.\u001b[39mget_visible():\n\u001b[0;32m---> 82\u001b[0m         bb \u001b[38;5;241m+\u001b[39m\u001b[38;5;241m=\u001b[39m [\u001b[43mmartist\u001b[49m\u001b[38;5;241;43m.\u001b[39;49m\u001b[43m_get_tightbbox_for_layout_only\u001b[49m\u001b[43m(\u001b[49m\u001b[43max\u001b[49m\u001b[43m,\u001b[49m\u001b[43m \u001b[49m\u001b[43mrenderer\u001b[49m\u001b[43m)\u001b[49m]\n\u001b[1;32m     84\u001b[0m tight_bbox_raw \u001b[38;5;241m=\u001b[39m Bbox\u001b[38;5;241m.\u001b[39munion(bb)\n\u001b[1;32m     85\u001b[0m tight_bbox \u001b[38;5;241m=\u001b[39m fig\u001b[38;5;241m.\u001b[39mtransFigure\u001b[38;5;241m.\u001b[39minverted()\u001b[38;5;241m.\u001b[39mtransform_bbox(tight_bbox_raw)\n",
      "File \u001b[0;32m~/anaconda3/envs/groupshap/lib/python3.12/site-packages/matplotlib/artist.py:1411\u001b[0m, in \u001b[0;36m_get_tightbbox_for_layout_only\u001b[0;34m(obj, *args, **kwargs)\u001b[0m\n\u001b[1;32m   1405\u001b[0m \u001b[38;5;250m\u001b[39m\u001b[38;5;124;03m\"\"\"\u001b[39;00m\n\u001b[1;32m   1406\u001b[0m \u001b[38;5;124;03mMatplotlib's `.Axes.get_tightbbox` and `.Axis.get_tightbbox` support a\u001b[39;00m\n\u001b[1;32m   1407\u001b[0m \u001b[38;5;124;03m*for_layout_only* kwarg; this helper tries to use the kwarg but skips it\u001b[39;00m\n\u001b[1;32m   1408\u001b[0m \u001b[38;5;124;03mwhen encountering third-party subclasses that do not support it.\u001b[39;00m\n\u001b[1;32m   1409\u001b[0m \u001b[38;5;124;03m\"\"\"\u001b[39;00m\n\u001b[1;32m   1410\u001b[0m \u001b[38;5;28;01mtry\u001b[39;00m:\n\u001b[0;32m-> 1411\u001b[0m     \u001b[38;5;28;01mreturn\u001b[39;00m \u001b[43mobj\u001b[49m\u001b[38;5;241;43m.\u001b[39;49m\u001b[43mget_tightbbox\u001b[49m\u001b[43m(\u001b[49m\u001b[38;5;241;43m*\u001b[39;49m\u001b[43margs\u001b[49m\u001b[43m,\u001b[49m\u001b[43m \u001b[49m\u001b[38;5;241;43m*\u001b[39;49m\u001b[38;5;241;43m*\u001b[39;49m\u001b[43m{\u001b[49m\u001b[38;5;241;43m*\u001b[39;49m\u001b[38;5;241;43m*\u001b[39;49m\u001b[43mkwargs\u001b[49m\u001b[43m,\u001b[49m\u001b[43m \u001b[49m\u001b[38;5;124;43m\"\u001b[39;49m\u001b[38;5;124;43mfor_layout_only\u001b[39;49m\u001b[38;5;124;43m\"\u001b[39;49m\u001b[43m:\u001b[49m\u001b[43m \u001b[49m\u001b[38;5;28;43;01mTrue\u001b[39;49;00m\u001b[43m}\u001b[49m\u001b[43m)\u001b[49m\n\u001b[1;32m   1412\u001b[0m \u001b[38;5;28;01mexcept\u001b[39;00m \u001b[38;5;167;01mTypeError\u001b[39;00m:\n\u001b[1;32m   1413\u001b[0m     \u001b[38;5;28;01mreturn\u001b[39;00m obj\u001b[38;5;241m.\u001b[39mget_tightbbox(\u001b[38;5;241m*\u001b[39margs, \u001b[38;5;241m*\u001b[39m\u001b[38;5;241m*\u001b[39mkwargs)\n",
      "File \u001b[0;32m~/anaconda3/envs/groupshap/lib/python3.12/site-packages/matplotlib/_api/deprecation.py:454\u001b[0m, in \u001b[0;36mmake_keyword_only.<locals>.wrapper\u001b[0;34m(*args, **kwargs)\u001b[0m\n\u001b[1;32m    448\u001b[0m \u001b[38;5;28;01mif\u001b[39;00m \u001b[38;5;28mlen\u001b[39m(args) \u001b[38;5;241m>\u001b[39m name_idx:\n\u001b[1;32m    449\u001b[0m     warn_deprecated(\n\u001b[1;32m    450\u001b[0m         since, message\u001b[38;5;241m=\u001b[39m\u001b[38;5;124m\"\u001b[39m\u001b[38;5;124mPassing the \u001b[39m\u001b[38;5;132;01m%(name)s\u001b[39;00m\u001b[38;5;124m \u001b[39m\u001b[38;5;132;01m%(obj_type)s\u001b[39;00m\u001b[38;5;124m \u001b[39m\u001b[38;5;124m\"\u001b[39m\n\u001b[1;32m    451\u001b[0m         \u001b[38;5;124m\"\u001b[39m\u001b[38;5;124mpositionally is deprecated since Matplotlib \u001b[39m\u001b[38;5;132;01m%(since)s\u001b[39;00m\u001b[38;5;124m; the \u001b[39m\u001b[38;5;124m\"\u001b[39m\n\u001b[1;32m    452\u001b[0m         \u001b[38;5;124m\"\u001b[39m\u001b[38;5;124mparameter will become keyword-only \u001b[39m\u001b[38;5;132;01m%(removal)s\u001b[39;00m\u001b[38;5;124m.\u001b[39m\u001b[38;5;124m\"\u001b[39m,\n\u001b[1;32m    453\u001b[0m         name\u001b[38;5;241m=\u001b[39mname, obj_type\u001b[38;5;241m=\u001b[39m\u001b[38;5;124mf\u001b[39m\u001b[38;5;124m\"\u001b[39m\u001b[38;5;124mparameter of \u001b[39m\u001b[38;5;132;01m{\u001b[39;00mfunc\u001b[38;5;241m.\u001b[39m\u001b[38;5;18m__name__\u001b[39m\u001b[38;5;132;01m}\u001b[39;00m\u001b[38;5;124m()\u001b[39m\u001b[38;5;124m\"\u001b[39m)\n\u001b[0;32m--> 454\u001b[0m \u001b[38;5;28;01mreturn\u001b[39;00m \u001b[43mfunc\u001b[49m\u001b[43m(\u001b[49m\u001b[38;5;241;43m*\u001b[39;49m\u001b[43margs\u001b[49m\u001b[43m,\u001b[49m\u001b[43m \u001b[49m\u001b[38;5;241;43m*\u001b[39;49m\u001b[38;5;241;43m*\u001b[39;49m\u001b[43mkwargs\u001b[49m\u001b[43m)\u001b[49m\n",
      "File \u001b[0;32m~/anaconda3/envs/groupshap/lib/python3.12/site-packages/matplotlib/axes/_base.py:4395\u001b[0m, in \u001b[0;36m_AxesBase.get_tightbbox\u001b[0;34m(self, renderer, call_axes_locator, bbox_extra_artists, for_layout_only)\u001b[0m\n\u001b[1;32m   4393\u001b[0m \u001b[38;5;28;01mfor\u001b[39;00m axis \u001b[38;5;129;01min\u001b[39;00m \u001b[38;5;28mself\u001b[39m\u001b[38;5;241m.\u001b[39m_axis_map\u001b[38;5;241m.\u001b[39mvalues():\n\u001b[1;32m   4394\u001b[0m     \u001b[38;5;28;01mif\u001b[39;00m \u001b[38;5;28mself\u001b[39m\u001b[38;5;241m.\u001b[39maxison \u001b[38;5;129;01mand\u001b[39;00m axis\u001b[38;5;241m.\u001b[39mget_visible():\n\u001b[0;32m-> 4395\u001b[0m         ba \u001b[38;5;241m=\u001b[39m \u001b[43mmartist\u001b[49m\u001b[38;5;241;43m.\u001b[39;49m\u001b[43m_get_tightbbox_for_layout_only\u001b[49m\u001b[43m(\u001b[49m\u001b[43maxis\u001b[49m\u001b[43m,\u001b[49m\u001b[43m \u001b[49m\u001b[43mrenderer\u001b[49m\u001b[43m)\u001b[49m\n\u001b[1;32m   4396\u001b[0m         \u001b[38;5;28;01mif\u001b[39;00m ba:\n\u001b[1;32m   4397\u001b[0m             bb\u001b[38;5;241m.\u001b[39mappend(ba)\n",
      "File \u001b[0;32m~/anaconda3/envs/groupshap/lib/python3.12/site-packages/matplotlib/artist.py:1411\u001b[0m, in \u001b[0;36m_get_tightbbox_for_layout_only\u001b[0;34m(obj, *args, **kwargs)\u001b[0m\n\u001b[1;32m   1405\u001b[0m \u001b[38;5;250m\u001b[39m\u001b[38;5;124;03m\"\"\"\u001b[39;00m\n\u001b[1;32m   1406\u001b[0m \u001b[38;5;124;03mMatplotlib's `.Axes.get_tightbbox` and `.Axis.get_tightbbox` support a\u001b[39;00m\n\u001b[1;32m   1407\u001b[0m \u001b[38;5;124;03m*for_layout_only* kwarg; this helper tries to use the kwarg but skips it\u001b[39;00m\n\u001b[1;32m   1408\u001b[0m \u001b[38;5;124;03mwhen encountering third-party subclasses that do not support it.\u001b[39;00m\n\u001b[1;32m   1409\u001b[0m \u001b[38;5;124;03m\"\"\"\u001b[39;00m\n\u001b[1;32m   1410\u001b[0m \u001b[38;5;28;01mtry\u001b[39;00m:\n\u001b[0;32m-> 1411\u001b[0m     \u001b[38;5;28;01mreturn\u001b[39;00m \u001b[43mobj\u001b[49m\u001b[38;5;241;43m.\u001b[39;49m\u001b[43mget_tightbbox\u001b[49m\u001b[43m(\u001b[49m\u001b[38;5;241;43m*\u001b[39;49m\u001b[43margs\u001b[49m\u001b[43m,\u001b[49m\u001b[43m \u001b[49m\u001b[38;5;241;43m*\u001b[39;49m\u001b[38;5;241;43m*\u001b[39;49m\u001b[43m{\u001b[49m\u001b[38;5;241;43m*\u001b[39;49m\u001b[38;5;241;43m*\u001b[39;49m\u001b[43mkwargs\u001b[49m\u001b[43m,\u001b[49m\u001b[43m \u001b[49m\u001b[38;5;124;43m\"\u001b[39;49m\u001b[38;5;124;43mfor_layout_only\u001b[39;49m\u001b[38;5;124;43m\"\u001b[39;49m\u001b[43m:\u001b[49m\u001b[43m \u001b[49m\u001b[38;5;28;43;01mTrue\u001b[39;49;00m\u001b[43m}\u001b[49m\u001b[43m)\u001b[49m\n\u001b[1;32m   1412\u001b[0m \u001b[38;5;28;01mexcept\u001b[39;00m \u001b[38;5;167;01mTypeError\u001b[39;00m:\n\u001b[1;32m   1413\u001b[0m     \u001b[38;5;28;01mreturn\u001b[39;00m obj\u001b[38;5;241m.\u001b[39mget_tightbbox(\u001b[38;5;241m*\u001b[39margs, \u001b[38;5;241m*\u001b[39m\u001b[38;5;241m*\u001b[39mkwargs)\n",
      "File \u001b[0;32m~/anaconda3/envs/groupshap/lib/python3.12/site-packages/matplotlib/axis.py:1336\u001b[0m, in \u001b[0;36mAxis.get_tightbbox\u001b[0;34m(self, renderer, for_layout_only)\u001b[0m\n\u001b[1;32m   1333\u001b[0m     renderer \u001b[38;5;241m=\u001b[39m \u001b[38;5;28mself\u001b[39m\u001b[38;5;241m.\u001b[39mfigure\u001b[38;5;241m.\u001b[39m_get_renderer()\n\u001b[1;32m   1334\u001b[0m ticks_to_draw \u001b[38;5;241m=\u001b[39m \u001b[38;5;28mself\u001b[39m\u001b[38;5;241m.\u001b[39m_update_ticks()\n\u001b[0;32m-> 1336\u001b[0m \u001b[38;5;28;43mself\u001b[39;49m\u001b[38;5;241;43m.\u001b[39;49m\u001b[43m_update_label_position\u001b[49m\u001b[43m(\u001b[49m\u001b[43mrenderer\u001b[49m\u001b[43m)\u001b[49m\n\u001b[1;32m   1338\u001b[0m \u001b[38;5;66;03m# go back to just this axis's tick labels\u001b[39;00m\n\u001b[1;32m   1339\u001b[0m tlb1, tlb2 \u001b[38;5;241m=\u001b[39m \u001b[38;5;28mself\u001b[39m\u001b[38;5;241m.\u001b[39m_get_ticklabel_bboxes(ticks_to_draw, renderer)\n",
      "File \u001b[0;32m~/anaconda3/envs/groupshap/lib/python3.12/site-packages/matplotlib/axis.py:2609\u001b[0m, in \u001b[0;36mYAxis._update_label_position\u001b[0;34m(self, renderer)\u001b[0m\n\u001b[1;32m   2605\u001b[0m     \u001b[38;5;28;01mreturn\u001b[39;00m\n\u001b[1;32m   2607\u001b[0m \u001b[38;5;66;03m# get bounding boxes for this axis and any siblings\u001b[39;00m\n\u001b[1;32m   2608\u001b[0m \u001b[38;5;66;03m# that have been set by `fig.align_ylabels()`\u001b[39;00m\n\u001b[0;32m-> 2609\u001b[0m bboxes, bboxes2 \u001b[38;5;241m=\u001b[39m \u001b[38;5;28;43mself\u001b[39;49m\u001b[38;5;241;43m.\u001b[39;49m\u001b[43m_get_tick_boxes_siblings\u001b[49m\u001b[43m(\u001b[49m\u001b[43mrenderer\u001b[49m\u001b[38;5;241;43m=\u001b[39;49m\u001b[43mrenderer\u001b[49m\u001b[43m)\u001b[49m\n\u001b[1;32m   2610\u001b[0m x, y \u001b[38;5;241m=\u001b[39m \u001b[38;5;28mself\u001b[39m\u001b[38;5;241m.\u001b[39mlabel\u001b[38;5;241m.\u001b[39mget_position()\n\u001b[1;32m   2611\u001b[0m \u001b[38;5;28;01mif\u001b[39;00m \u001b[38;5;28mself\u001b[39m\u001b[38;5;241m.\u001b[39mlabel_position \u001b[38;5;241m==\u001b[39m \u001b[38;5;124m'\u001b[39m\u001b[38;5;124mleft\u001b[39m\u001b[38;5;124m'\u001b[39m:\n",
      "File \u001b[0;32m~/anaconda3/envs/groupshap/lib/python3.12/site-packages/matplotlib/axis.py:2160\u001b[0m, in \u001b[0;36mAxis._get_tick_boxes_siblings\u001b[0;34m(self, renderer)\u001b[0m\n\u001b[1;32m   2158\u001b[0m \u001b[38;5;28;01mfor\u001b[39;00m ax \u001b[38;5;129;01min\u001b[39;00m grouper\u001b[38;5;241m.\u001b[39mget_siblings(\u001b[38;5;28mself\u001b[39m\u001b[38;5;241m.\u001b[39maxes):\n\u001b[1;32m   2159\u001b[0m     axis \u001b[38;5;241m=\u001b[39m ax\u001b[38;5;241m.\u001b[39m_axis_map[name]\n\u001b[0;32m-> 2160\u001b[0m     ticks_to_draw \u001b[38;5;241m=\u001b[39m \u001b[43maxis\u001b[49m\u001b[38;5;241;43m.\u001b[39;49m\u001b[43m_update_ticks\u001b[49m\u001b[43m(\u001b[49m\u001b[43m)\u001b[49m\n\u001b[1;32m   2161\u001b[0m     tlb, tlb2 \u001b[38;5;241m=\u001b[39m axis\u001b[38;5;241m.\u001b[39m_get_ticklabel_bboxes(ticks_to_draw, renderer)\n\u001b[1;32m   2162\u001b[0m     bboxes\u001b[38;5;241m.\u001b[39mextend(tlb)\n",
      "File \u001b[0;32m~/anaconda3/envs/groupshap/lib/python3.12/site-packages/matplotlib/axis.py:1282\u001b[0m, in \u001b[0;36mAxis._update_ticks\u001b[0;34m(self)\u001b[0m\n\u001b[1;32m   1280\u001b[0m     tick\u001b[38;5;241m.\u001b[39mlabel1\u001b[38;5;241m.\u001b[39mset_text(label)\n\u001b[1;32m   1281\u001b[0m     tick\u001b[38;5;241m.\u001b[39mlabel2\u001b[38;5;241m.\u001b[39mset_text(label)\n\u001b[0;32m-> 1282\u001b[0m minor_locs \u001b[38;5;241m=\u001b[39m \u001b[38;5;28;43mself\u001b[39;49m\u001b[38;5;241;43m.\u001b[39;49m\u001b[43mget_minorticklocs\u001b[49m\u001b[43m(\u001b[49m\u001b[43m)\u001b[49m\n\u001b[1;32m   1283\u001b[0m minor_labels \u001b[38;5;241m=\u001b[39m \u001b[38;5;28mself\u001b[39m\u001b[38;5;241m.\u001b[39mminor\u001b[38;5;241m.\u001b[39mformatter\u001b[38;5;241m.\u001b[39mformat_ticks(minor_locs)\n\u001b[1;32m   1284\u001b[0m minor_ticks \u001b[38;5;241m=\u001b[39m \u001b[38;5;28mself\u001b[39m\u001b[38;5;241m.\u001b[39mget_minor_ticks(\u001b[38;5;28mlen\u001b[39m(minor_locs))\n",
      "File \u001b[0;32m~/anaconda3/envs/groupshap/lib/python3.12/site-packages/matplotlib/axis.py:1502\u001b[0m, in \u001b[0;36mAxis.get_minorticklocs\u001b[0;34m(self)\u001b[0m\n\u001b[1;32m   1500\u001b[0m minor_locs \u001b[38;5;241m=\u001b[39m np\u001b[38;5;241m.\u001b[39masarray(\u001b[38;5;28mself\u001b[39m\u001b[38;5;241m.\u001b[39mminor\u001b[38;5;241m.\u001b[39mlocator())\n\u001b[1;32m   1501\u001b[0m \u001b[38;5;28;01mif\u001b[39;00m \u001b[38;5;28mself\u001b[39m\u001b[38;5;241m.\u001b[39mremove_overlapping_locs:\n\u001b[0;32m-> 1502\u001b[0m     major_locs \u001b[38;5;241m=\u001b[39m \u001b[38;5;28;43mself\u001b[39;49m\u001b[38;5;241;43m.\u001b[39;49m\u001b[43mmajor\u001b[49m\u001b[38;5;241;43m.\u001b[39;49m\u001b[43mlocator\u001b[49m\u001b[43m(\u001b[49m\u001b[43m)\u001b[49m\n\u001b[1;32m   1503\u001b[0m     transform \u001b[38;5;241m=\u001b[39m \u001b[38;5;28mself\u001b[39m\u001b[38;5;241m.\u001b[39m_scale\u001b[38;5;241m.\u001b[39mget_transform()\n\u001b[1;32m   1504\u001b[0m     tr_minor_locs \u001b[38;5;241m=\u001b[39m transform\u001b[38;5;241m.\u001b[39mtransform(minor_locs)\n",
      "File \u001b[0;32m~/anaconda3/envs/groupshap/lib/python3.12/site-packages/matplotlib/ticker.py:2142\u001b[0m, in \u001b[0;36mMaxNLocator.__call__\u001b[0;34m(self)\u001b[0m\n\u001b[1;32m   2140\u001b[0m \u001b[38;5;28;01mdef\u001b[39;00m \u001b[38;5;21m__call__\u001b[39m(\u001b[38;5;28mself\u001b[39m):\n\u001b[1;32m   2141\u001b[0m     vmin, vmax \u001b[38;5;241m=\u001b[39m \u001b[38;5;28mself\u001b[39m\u001b[38;5;241m.\u001b[39maxis\u001b[38;5;241m.\u001b[39mget_view_interval()\n\u001b[0;32m-> 2142\u001b[0m     \u001b[38;5;28;01mreturn\u001b[39;00m \u001b[38;5;28;43mself\u001b[39;49m\u001b[38;5;241;43m.\u001b[39;49m\u001b[43mtick_values\u001b[49m\u001b[43m(\u001b[49m\u001b[43mvmin\u001b[49m\u001b[43m,\u001b[49m\u001b[43m \u001b[49m\u001b[43mvmax\u001b[49m\u001b[43m)\u001b[49m\n",
      "File \u001b[0;32m~/anaconda3/envs/groupshap/lib/python3.12/site-packages/matplotlib/ticker.py:2150\u001b[0m, in \u001b[0;36mMaxNLocator.tick_values\u001b[0;34m(self, vmin, vmax)\u001b[0m\n\u001b[1;32m   2147\u001b[0m     vmin \u001b[38;5;241m=\u001b[39m \u001b[38;5;241m-\u001b[39mvmax\n\u001b[1;32m   2148\u001b[0m vmin, vmax \u001b[38;5;241m=\u001b[39m mtransforms\u001b[38;5;241m.\u001b[39mnonsingular(\n\u001b[1;32m   2149\u001b[0m     vmin, vmax, expander\u001b[38;5;241m=\u001b[39m\u001b[38;5;241m1e-13\u001b[39m, tiny\u001b[38;5;241m=\u001b[39m\u001b[38;5;241m1e-14\u001b[39m)\n\u001b[0;32m-> 2150\u001b[0m locs \u001b[38;5;241m=\u001b[39m \u001b[38;5;28;43mself\u001b[39;49m\u001b[38;5;241;43m.\u001b[39;49m\u001b[43m_raw_ticks\u001b[49m\u001b[43m(\u001b[49m\u001b[43mvmin\u001b[49m\u001b[43m,\u001b[49m\u001b[43m \u001b[49m\u001b[43mvmax\u001b[49m\u001b[43m)\u001b[49m\n\u001b[1;32m   2152\u001b[0m prune \u001b[38;5;241m=\u001b[39m \u001b[38;5;28mself\u001b[39m\u001b[38;5;241m.\u001b[39m_prune\n\u001b[1;32m   2153\u001b[0m \u001b[38;5;28;01mif\u001b[39;00m prune \u001b[38;5;241m==\u001b[39m \u001b[38;5;124m'\u001b[39m\u001b[38;5;124mlower\u001b[39m\u001b[38;5;124m'\u001b[39m:\n",
      "File \u001b[0;32m~/anaconda3/envs/groupshap/lib/python3.12/site-packages/matplotlib/ticker.py:2079\u001b[0m, in \u001b[0;36mMaxNLocator._raw_ticks\u001b[0;34m(self, vmin, vmax)\u001b[0m\n\u001b[1;32m   2076\u001b[0m     \u001b[38;5;28;01mif\u001b[39;00m kwargs:\n\u001b[1;32m   2077\u001b[0m         \u001b[38;5;28;01mraise\u001b[39;00m _api\u001b[38;5;241m.\u001b[39mkwarg_error(\u001b[38;5;124m\"\u001b[39m\u001b[38;5;124mset_params\u001b[39m\u001b[38;5;124m\"\u001b[39m, kwargs)\n\u001b[0;32m-> 2079\u001b[0m \u001b[38;5;28;01mdef\u001b[39;00m \u001b[38;5;21m_raw_ticks\u001b[39m(\u001b[38;5;28mself\u001b[39m, vmin, vmax):\n\u001b[1;32m   2080\u001b[0m \u001b[38;5;250m    \u001b[39m\u001b[38;5;124;03m\"\"\"\u001b[39;00m\n\u001b[1;32m   2081\u001b[0m \u001b[38;5;124;03m    Generate a list of tick locations including the range *vmin* to\u001b[39;00m\n\u001b[1;32m   2082\u001b[0m \u001b[38;5;124;03m    *vmax*.  In some applications, one or both of the end locations\u001b[39;00m\n\u001b[1;32m   2083\u001b[0m \u001b[38;5;124;03m    will not be needed, in which case they are trimmed off\u001b[39;00m\n\u001b[1;32m   2084\u001b[0m \u001b[38;5;124;03m    elsewhere.\u001b[39;00m\n\u001b[1;32m   2085\u001b[0m \u001b[38;5;124;03m    \"\"\"\u001b[39;00m\n\u001b[1;32m   2086\u001b[0m     \u001b[38;5;28;01mif\u001b[39;00m \u001b[38;5;28mself\u001b[39m\u001b[38;5;241m.\u001b[39m_nbins \u001b[38;5;241m==\u001b[39m \u001b[38;5;124m'\u001b[39m\u001b[38;5;124mauto\u001b[39m\u001b[38;5;124m'\u001b[39m:\n",
      "\u001b[0;31mKeyboardInterrupt\u001b[0m: "
     ]
    }
   ],
   "source": [
    "obs_names = ['DM', 'DT', 'SDT', 'DP', 'SDP', 'DE', 'SDE', 'HP']\n",
    "simp_data[obs_names] =simp_data[obs_names].replace(1000,-1)\n",
    "# simp_data[obs_names] =simp_data[obs_names].replace(1000,-1)\n",
    "\n",
    "# print(simp_data)\n",
    "sns.pairplot(simp_data[['DM', 'DT', 'SDT', 'DP', 'SDP', 'DE', 'SDE', 'HP','action']],hue='action')"
   ]
  },
  {
   "cell_type": "code",
   "execution_count": 5,
   "metadata": {},
   "outputs": [
    {
     "name": "stdout",
     "output_type": "stream",
     "text": [
      "switch\n",
      "[ 0.7375278 -1.5325549 -1.4994874  2.3702395]\n"
     ]
    },
    {
     "ename": "NotImplementedError",
     "evalue": "Conversion 'py2rpy' not defined for objects of type '<class 'numpy.ndarray'>'",
     "output_type": "error",
     "traceback": [
      "\u001b[0;31m---------------------------------------------------------------------------\u001b[0m",
      "\u001b[0;31mNotImplementedError\u001b[0m                       Traceback (most recent call last)",
      "Cell \u001b[0;32mIn[5], line 1\u001b[0m\n\u001b[0;32m----> 1\u001b[0m \u001b[43mgen_groupshap_data\u001b[49m\u001b[43m(\u001b[49m\u001b[43mlvl_list\u001b[49m\u001b[43m,\u001b[49m\u001b[43mdf_data\u001b[49m\u001b[43m,\u001b[49m\u001b[38;5;124;43m\"\u001b[39;49m\u001b[38;5;124;43mkernel\u001b[39;49m\u001b[38;5;124;43m\"\u001b[39;49m\u001b[43m)\u001b[49m\n",
      "Cell \u001b[0;32mIn[3], line 168\u001b[0m, in \u001b[0;36mgen_groupshap_data\u001b[0;34m(lvl_list, df, explainer_type)\u001b[0m\n\u001b[1;32m    166\u001b[0m \u001b[38;5;28mprint\u001b[39m(dfy_train\u001b[38;5;241m.\u001b[39mmean())\n\u001b[1;32m    167\u001b[0m \u001b[38;5;28;01mif\u001b[39;00m explainer_type \u001b[38;5;241m==\u001b[39m \u001b[38;5;124m\"\u001b[39m\u001b[38;5;124mkernel\u001b[39m\u001b[38;5;124m\"\u001b[39m:\n\u001b[0;32m--> 168\u001b[0m     df_shapley, pred_explain, internal, timing \u001b[38;5;241m=\u001b[39m \u001b[43mexplain\u001b[49m\u001b[43m(\u001b[49m\n\u001b[1;32m    169\u001b[0m \u001b[43m        \u001b[49m\u001b[43mmodel\u001b[49m\u001b[38;5;241;43m=\u001b[39;49m\u001b[43mmodel\u001b[49m\u001b[43m,\u001b[49m\n\u001b[1;32m    170\u001b[0m \u001b[43m        \u001b[49m\u001b[43mx_train\u001b[49m\u001b[38;5;241;43m=\u001b[39;49m\u001b[43mdf_train\u001b[49m\u001b[43m,\u001b[49m\n\u001b[1;32m    171\u001b[0m \u001b[43m        \u001b[49m\u001b[43mx_explain\u001b[49m\u001b[38;5;241;43m=\u001b[39;49m\u001b[43mdf_train\u001b[49m\u001b[43m,\u001b[49m\n\u001b[1;32m    172\u001b[0m \u001b[43m        \u001b[49m\u001b[43mapproach\u001b[49m\u001b[38;5;241;43m=\u001b[39;49m\u001b[38;5;124;43m'\u001b[39;49m\u001b[38;5;124;43memperical\u001b[39;49m\u001b[38;5;124;43m'\u001b[39;49m\u001b[43m,\u001b[49m\n\u001b[1;32m    173\u001b[0m \u001b[43m        \u001b[49m\u001b[43mpredict_model\u001b[49m\u001b[38;5;241;43m=\u001b[39;49m\u001b[43m \u001b[49m\u001b[38;5;28;43;01mlambda\u001b[39;49;00m\u001b[43m \u001b[49m\u001b[43mx\u001b[49m\u001b[43m:\u001b[49m\u001b[43m \u001b[49m\u001b[43mmodel\u001b[49m\u001b[38;5;241;43m.\u001b[39;49m\u001b[43mforward\u001b[49m\u001b[43m(\u001b[49m\u001b[43mVariable\u001b[49m\u001b[43m(\u001b[49m\u001b[43mtorch\u001b[49m\u001b[38;5;241;43m.\u001b[39;49m\u001b[43mfrom_numpy\u001b[49m\u001b[43m(\u001b[49m\u001b[43mx\u001b[49m\u001b[38;5;241;43m.\u001b[39;49m\u001b[43mvalues\u001b[49m\u001b[43m)\u001b[49m\u001b[43m,\u001b[49m\u001b[43mrequires_grad\u001b[49m\u001b[38;5;241;43m=\u001b[39;49m\u001b[38;5;28;43;01mFalse\u001b[39;49;00m\u001b[43m)\u001b[49m\u001b[38;5;241;43m.\u001b[39;49m\u001b[43mto\u001b[49m\u001b[43m(\u001b[49m\u001b[43mfloat32\u001b[49m\u001b[43m)\u001b[49m\u001b[43m)\u001b[49m\u001b[38;5;241;43m.\u001b[39;49m\u001b[43mdetach\u001b[49m\u001b[43m(\u001b[49m\u001b[43m)\u001b[49m\u001b[38;5;241;43m.\u001b[39;49m\u001b[43mcpu\u001b[49m\u001b[43m(\u001b[49m\u001b[43m)\u001b[49m\u001b[38;5;241;43m.\u001b[39;49m\u001b[43mnumpy\u001b[49m\u001b[43m(\u001b[49m\u001b[43m)\u001b[49m\u001b[43m,\u001b[49m\n\u001b[1;32m    174\u001b[0m \u001b[43m        \u001b[49m\u001b[43mprediction_zero\u001b[49m\u001b[38;5;241;43m=\u001b[39;49m\u001b[43mdfy_train\u001b[49m\u001b[38;5;241;43m.\u001b[39;49m\u001b[43mmean\u001b[49m\u001b[43m(\u001b[49m\u001b[43m)\u001b[49m\u001b[43m,\u001b[49m\n\u001b[1;32m    175\u001b[0m \u001b[43m        \u001b[49m\u001b[43moutput_size\u001b[49m\u001b[38;5;241;43m=\u001b[39;49m\u001b[38;5;241;43m4\u001b[39;49m\n\u001b[1;32m    176\u001b[0m \u001b[43m    \u001b[49m\u001b[43m)\u001b[49m\n\u001b[1;32m    177\u001b[0m     f \u001b[38;5;241m=\u001b[39m \u001b[38;5;28;01mlambda\u001b[39;00m x: model\u001b[38;5;241m.\u001b[39mforward(Variable(torch\u001b[38;5;241m.\u001b[39mfrom_numpy(x),requires_grad\u001b[38;5;241m=\u001b[39m\u001b[38;5;28;01mFalse\u001b[39;00m)\u001b[38;5;241m.\u001b[39mto(float32)\u001b[38;5;241m.\u001b[39mcuda())\u001b[38;5;241m.\u001b[39mdetach()\u001b[38;5;241m.\u001b[39mcpu()\u001b[38;5;241m.\u001b[39mnumpy()\n\u001b[1;32m    178\u001b[0m \u001b[38;5;28;01melse\u001b[39;00m:\n",
      "File \u001b[0;32m~/Masters/gym-md/shapr/python/shaprpy/explain.py:119\u001b[0m, in \u001b[0;36mexplain\u001b[0;34m(model, x_explain, x_train, approach, prediction_zero, n_combinations, group, n_samples, n_batches, seed, keep_samp_for_vS, predict_model, get_model_specs, timing, output_size)\u001b[0m\n\u001b[1;32m    116\u001b[0m \u001b[38;5;28;01melse\u001b[39;00m:\n\u001b[1;32m    117\u001b[0m   r_group \u001b[38;5;241m=\u001b[39m ListVector({key: StrVector(value) \u001b[38;5;28;01mfor\u001b[39;00m key, value \u001b[38;5;129;01min\u001b[39;00m group\u001b[38;5;241m.\u001b[39mitems()})\n\u001b[0;32m--> 119\u001b[0m rinternal \u001b[38;5;241m=\u001b[39m \u001b[43mshapr\u001b[49m\u001b[38;5;241;43m.\u001b[39;49m\u001b[43msetup\u001b[49m\u001b[43m(\u001b[49m\n\u001b[1;32m    120\u001b[0m \u001b[43m    \u001b[49m\u001b[43mx_train\u001b[49m\u001b[43m \u001b[49m\u001b[38;5;241;43m=\u001b[39;49m\u001b[43m \u001b[49m\u001b[43mpy2r\u001b[49m\u001b[43m(\u001b[49m\u001b[43mx_train\u001b[49m\u001b[43m)\u001b[49m\u001b[43m,\u001b[49m\n\u001b[1;32m    121\u001b[0m \u001b[43m    \u001b[49m\u001b[43mx_explain\u001b[49m\u001b[43m \u001b[49m\u001b[38;5;241;43m=\u001b[39;49m\u001b[43m \u001b[49m\u001b[43mpy2r\u001b[49m\u001b[43m(\u001b[49m\u001b[43mx_explain\u001b[49m\u001b[43m)\u001b[49m\u001b[43m,\u001b[49m\n\u001b[1;32m    122\u001b[0m \u001b[43m    \u001b[49m\u001b[43mapproach\u001b[49m\u001b[43m \u001b[49m\u001b[38;5;241;43m=\u001b[39;49m\u001b[43m \u001b[49m\u001b[43mapproach\u001b[49m\u001b[43m,\u001b[49m\n\u001b[1;32m    123\u001b[0m \u001b[43m    \u001b[49m\u001b[43mprediction_zero\u001b[49m\u001b[43m \u001b[49m\u001b[38;5;241;43m=\u001b[39;49m\u001b[43m \u001b[49m\u001b[43mprediction_zero\u001b[49m\u001b[43m,\u001b[49m\n\u001b[1;32m    124\u001b[0m \u001b[43m    \u001b[49m\u001b[43mn_combinations\u001b[49m\u001b[43m \u001b[49m\u001b[38;5;241;43m=\u001b[39;49m\u001b[43m \u001b[49m\u001b[43mmaybe_null\u001b[49m\u001b[43m(\u001b[49m\u001b[43mn_combinations\u001b[49m\u001b[43m)\u001b[49m\u001b[43m,\u001b[49m\n\u001b[1;32m    125\u001b[0m \u001b[43m    \u001b[49m\u001b[43mgroup\u001b[49m\u001b[43m \u001b[49m\u001b[38;5;241;43m=\u001b[39;49m\u001b[43m \u001b[49m\u001b[43mr_group\u001b[49m\u001b[43m,\u001b[49m\n\u001b[1;32m    126\u001b[0m \u001b[43m    \u001b[49m\u001b[43mn_samples\u001b[49m\u001b[43m \u001b[49m\u001b[38;5;241;43m=\u001b[39;49m\u001b[43m \u001b[49m\u001b[43mn_samples\u001b[49m\u001b[43m,\u001b[49m\n\u001b[1;32m    127\u001b[0m \u001b[43m    \u001b[49m\u001b[43mn_batches\u001b[49m\u001b[43m \u001b[49m\u001b[38;5;241;43m=\u001b[39;49m\u001b[43m \u001b[49m\u001b[43mmaybe_null\u001b[49m\u001b[43m(\u001b[49m\u001b[43mn_batches\u001b[49m\u001b[43m)\u001b[49m\u001b[43m,\u001b[49m\n\u001b[1;32m    128\u001b[0m \u001b[43m    \u001b[49m\u001b[43mseed\u001b[49m\u001b[43m \u001b[49m\u001b[38;5;241;43m=\u001b[39;49m\u001b[43m \u001b[49m\u001b[43mseed\u001b[49m\u001b[43m,\u001b[49m\n\u001b[1;32m    129\u001b[0m \u001b[43m    \u001b[49m\u001b[43mkeep_samp_for_vS\u001b[49m\u001b[43m \u001b[49m\u001b[38;5;241;43m=\u001b[39;49m\u001b[43m \u001b[49m\u001b[43mkeep_samp_for_vS\u001b[49m\u001b[43m,\u001b[49m\n\u001b[1;32m    130\u001b[0m \u001b[43m    \u001b[49m\u001b[43mfeature_specs\u001b[49m\u001b[43m \u001b[49m\u001b[38;5;241;43m=\u001b[39;49m\u001b[43m \u001b[49m\u001b[43mrfeature_specs\u001b[49m\u001b[43m,\u001b[49m\n\u001b[1;32m    131\u001b[0m \u001b[43m    \u001b[49m\u001b[43mtiming\u001b[49m\u001b[43m \u001b[49m\u001b[38;5;241;43m=\u001b[39;49m\u001b[43m \u001b[49m\u001b[43mtiming\u001b[49m\u001b[43m,\u001b[49m\n\u001b[1;32m    132\u001b[0m \u001b[43m    \u001b[49m\u001b[43mis_python\u001b[49m\u001b[38;5;241;43m=\u001b[39;49m\u001b[38;5;28;43;01mTrue\u001b[39;49;00m\u001b[43m,\u001b[49m\n\u001b[1;32m    133\u001b[0m \u001b[43m    \u001b[49m\u001b[43mverbose\u001b[49m\u001b[43m \u001b[49m\u001b[38;5;241;43m=\u001b[39;49m\u001b[43m \u001b[49m\u001b[38;5;241;43m0\u001b[39;49m\u001b[43m,\u001b[49m\n\u001b[1;32m    134\u001b[0m \u001b[43m    \u001b[49m\u001b[43moutput_size\u001b[49m\u001b[38;5;241;43m=\u001b[39;49m\u001b[43moutput_size\u001b[49m\n\u001b[1;32m    135\u001b[0m \u001b[43m\u001b[49m\u001b[43m)\u001b[49m\n\u001b[1;32m    137\u001b[0m timing_list[\u001b[38;5;124m\"\u001b[39m\u001b[38;5;124msetup\u001b[39m\u001b[38;5;124m\"\u001b[39m] \u001b[38;5;241m=\u001b[39m datetime\u001b[38;5;241m.\u001b[39mnow()\n\u001b[1;32m    139\u001b[0m predict_model \u001b[38;5;241m=\u001b[39m get_predict_model(\n\u001b[1;32m    140\u001b[0m   x_test \u001b[38;5;241m=\u001b[39m x_train\u001b[38;5;241m.\u001b[39mhead(\u001b[38;5;241m2\u001b[39m),\n\u001b[1;32m    141\u001b[0m   predict_model \u001b[38;5;241m=\u001b[39m predict_model,\n\u001b[1;32m    142\u001b[0m   model \u001b[38;5;241m=\u001b[39m model,\n\u001b[1;32m    143\u001b[0m )\n",
      "File \u001b[0;32m~/anaconda3/envs/groupshap/lib/python3.12/site-packages/rpy2/robjects/functions.py:208\u001b[0m, in \u001b[0;36mSignatureTranslatedFunction.__call__\u001b[0;34m(self, *args, **kwargs)\u001b[0m\n\u001b[1;32m    206\u001b[0m         v \u001b[38;5;241m=\u001b[39m kwargs\u001b[38;5;241m.\u001b[39mpop(k)\n\u001b[1;32m    207\u001b[0m         kwargs[r_k] \u001b[38;5;241m=\u001b[39m v\n\u001b[0;32m--> 208\u001b[0m \u001b[38;5;28;01mreturn\u001b[39;00m (\u001b[38;5;28;43msuper\u001b[39;49m\u001b[43m(\u001b[49m\u001b[43mSignatureTranslatedFunction\u001b[49m\u001b[43m,\u001b[49m\u001b[43m \u001b[49m\u001b[38;5;28;43mself\u001b[39;49m\u001b[43m)\u001b[49m\n\u001b[1;32m    209\u001b[0m \u001b[43m        \u001b[49m\u001b[38;5;241;43m.\u001b[39;49m\u001b[38;5;21;43m__call__\u001b[39;49m\u001b[43m(\u001b[49m\u001b[38;5;241;43m*\u001b[39;49m\u001b[43margs\u001b[49m\u001b[43m,\u001b[49m\u001b[43m \u001b[49m\u001b[38;5;241;43m*\u001b[39;49m\u001b[38;5;241;43m*\u001b[39;49m\u001b[43mkwargs\u001b[49m\u001b[43m)\u001b[49m)\n",
      "File \u001b[0;32m~/anaconda3/envs/groupshap/lib/python3.12/site-packages/rpy2/robjects/functions.py:130\u001b[0m, in \u001b[0;36mFunction.__call__\u001b[0;34m(self, *args, **kwargs)\u001b[0m\n\u001b[1;32m    128\u001b[0m         new_kwargs[k] \u001b[38;5;241m=\u001b[39m v\n\u001b[1;32m    129\u001b[0m     \u001b[38;5;28;01melse\u001b[39;00m:\n\u001b[0;32m--> 130\u001b[0m         new_kwargs[k] \u001b[38;5;241m=\u001b[39m \u001b[43mcv\u001b[49m\u001b[38;5;241;43m.\u001b[39;49m\u001b[43mpy2rpy\u001b[49m\u001b[43m(\u001b[49m\u001b[43mv\u001b[49m\u001b[43m)\u001b[49m\n\u001b[1;32m    131\u001b[0m res \u001b[38;5;241m=\u001b[39m \u001b[38;5;28msuper\u001b[39m(Function, \u001b[38;5;28mself\u001b[39m)\u001b[38;5;241m.\u001b[39m\u001b[38;5;21m__call__\u001b[39m(\u001b[38;5;241m*\u001b[39mnew_args, \u001b[38;5;241m*\u001b[39m\u001b[38;5;241m*\u001b[39mnew_kwargs)\n\u001b[1;32m    132\u001b[0m res \u001b[38;5;241m=\u001b[39m cv\u001b[38;5;241m.\u001b[39mrpy2py(res)\n",
      "File \u001b[0;32m~/anaconda3/envs/groupshap/lib/python3.12/functools.py:909\u001b[0m, in \u001b[0;36msingledispatch.<locals>.wrapper\u001b[0;34m(*args, **kw)\u001b[0m\n\u001b[1;32m    905\u001b[0m \u001b[38;5;28;01mif\u001b[39;00m \u001b[38;5;129;01mnot\u001b[39;00m args:\n\u001b[1;32m    906\u001b[0m     \u001b[38;5;28;01mraise\u001b[39;00m \u001b[38;5;167;01mTypeError\u001b[39;00m(\u001b[38;5;124mf\u001b[39m\u001b[38;5;124m'\u001b[39m\u001b[38;5;132;01m{\u001b[39;00mfuncname\u001b[38;5;132;01m}\u001b[39;00m\u001b[38;5;124m requires at least \u001b[39m\u001b[38;5;124m'\u001b[39m\n\u001b[1;32m    907\u001b[0m                     \u001b[38;5;124m'\u001b[39m\u001b[38;5;124m1 positional argument\u001b[39m\u001b[38;5;124m'\u001b[39m)\n\u001b[0;32m--> 909\u001b[0m \u001b[38;5;28;01mreturn\u001b[39;00m \u001b[43mdispatch\u001b[49m\u001b[43m(\u001b[49m\u001b[43margs\u001b[49m\u001b[43m[\u001b[49m\u001b[38;5;241;43m0\u001b[39;49m\u001b[43m]\u001b[49m\u001b[38;5;241;43m.\u001b[39;49m\u001b[38;5;18;43m__class__\u001b[39;49m\u001b[43m)\u001b[49m\u001b[43m(\u001b[49m\u001b[38;5;241;43m*\u001b[39;49m\u001b[43margs\u001b[49m\u001b[43m,\u001b[49m\u001b[43m \u001b[49m\u001b[38;5;241;43m*\u001b[39;49m\u001b[38;5;241;43m*\u001b[39;49m\u001b[43mkw\u001b[49m\u001b[43m)\u001b[49m\n",
      "File \u001b[0;32m~/anaconda3/envs/groupshap/lib/python3.12/site-packages/rpy2/robjects/conversion.py:240\u001b[0m, in \u001b[0;36m_py2rpy\u001b[0;34m(obj)\u001b[0m\n\u001b[1;32m    238\u001b[0m \u001b[38;5;28;01mif\u001b[39;00m \u001b[38;5;28misinstance\u001b[39m(obj, _rinterface_capi\u001b[38;5;241m.\u001b[39mSupportsSEXP):\n\u001b[1;32m    239\u001b[0m     \u001b[38;5;28;01mreturn\u001b[39;00m obj\n\u001b[0;32m--> 240\u001b[0m \u001b[38;5;28;01mraise\u001b[39;00m \u001b[38;5;167;01mNotImplementedError\u001b[39;00m(\n\u001b[1;32m    241\u001b[0m     \u001b[38;5;124m\"\u001b[39m\u001b[38;5;124mConversion \u001b[39m\u001b[38;5;124m'\u001b[39m\u001b[38;5;124mpy2rpy\u001b[39m\u001b[38;5;124m'\u001b[39m\u001b[38;5;124m not defined for objects of type \u001b[39m\u001b[38;5;124m'\u001b[39m\u001b[38;5;132;01m%s\u001b[39;00m\u001b[38;5;124m'\u001b[39m\u001b[38;5;124m\"\u001b[39m \u001b[38;5;241m%\u001b[39m\n\u001b[1;32m    242\u001b[0m     \u001b[38;5;28mstr\u001b[39m(\u001b[38;5;28mtype\u001b[39m(obj))\n\u001b[1;32m    243\u001b[0m )\n",
      "\u001b[0;31mNotImplementedError\u001b[0m: Conversion 'py2rpy' not defined for objects of type '<class 'numpy.ndarray'>'"
     ]
    }
   ],
   "source": [
    "gen_groupshap_data(lvl_list,df_data,\"kernel\")"
   ]
  },
  {
   "cell_type": "code",
   "execution_count": 72,
   "metadata": {},
   "outputs": [
    {
     "name": "stdout",
     "output_type": "stream",
     "text": [
      "False\n"
     ]
    }
   ],
   "source": [
    "df_train.describe()\n",
    "print(torch.cuda.is_available())"
   ]
  },
  {
   "cell_type": "code",
   "execution_count": 32,
   "metadata": {},
   "outputs": [
    {
     "name": "stdout",
     "output_type": "stream",
     "text": [
      "OrderedDict({'mlp_extractor.policy_net.0.weight': tensor([[-2.8711e-02,  2.3895e-01,  7.1839e-02, -8.0047e-03,  1.6270e-01,\n",
      "          3.6994e-02, -1.9117e-02, -2.9320e-01],\n",
      "        [-1.5817e-01, -5.7575e-02, -2.0278e-01, -4.5236e-02, -3.0052e-01,\n",
      "         -8.4830e-02,  7.5421e-02,  1.9323e-02],\n",
      "        [ 2.4805e-01,  3.0252e-01,  2.6052e-01,  1.0057e-01, -1.5738e-01,\n",
      "         -1.9299e-01,  4.6540e-03,  3.1289e-01],\n",
      "        [-2.3671e-01, -2.5660e-01, -1.3034e-01,  6.7191e-03,  5.6608e-02,\n",
      "         -1.4447e-01,  8.4548e-02,  2.6592e-01],\n",
      "        [-5.3237e-03,  1.6518e-01, -2.9941e-01, -2.3138e-01, -8.2819e-02,\n",
      "          2.9298e-01, -3.9536e-01,  4.6884e-02],\n",
      "        [-8.7504e-02, -2.0512e-01,  1.0577e-01, -8.8037e-02,  1.8560e-02,\n",
      "         -1.6988e-01, -1.6097e-01, -3.1531e-02],\n",
      "        [-9.4181e-02, -9.7177e-02,  1.1550e-01,  1.1941e-01,  3.4195e-02,\n",
      "         -1.9690e-01,  9.2885e-02, -5.4432e-03],\n",
      "        [ 2.1120e-01, -2.1161e-01, -1.8274e-02,  4.4049e-02,  1.3864e-01,\n",
      "          6.7146e-02, -1.7700e-01, -4.2174e-02],\n",
      "        [-1.2714e-01, -1.1637e-01, -6.8238e-02, -8.2356e-02, -1.3830e-01,\n",
      "         -1.9724e-01, -1.0631e-02,  1.0166e-01],\n",
      "        [-2.1574e-01, -1.1133e-02, -2.2141e-01,  9.9420e-03, -2.1039e-01,\n",
      "          1.6326e-02,  6.6766e-03, -6.5331e-01],\n",
      "        [ 1.6277e-02, -4.4637e-02, -1.1046e-01,  1.3835e-01, -3.5934e-02,\n",
      "         -5.6687e-02,  1.0259e-01,  6.0698e-02],\n",
      "        [-4.2622e-03, -1.2973e-02,  1.6287e-01,  3.4823e-01,  1.0359e-01,\n",
      "         -3.0532e-02, -1.8215e-01, -1.5903e-01],\n",
      "        [ 2.8193e-01,  1.8110e-01,  9.8420e-02, -2.1642e-01, -1.7889e-01,\n",
      "          4.1506e-01,  1.0802e-01, -7.1475e-04],\n",
      "        [ 1.6843e-01,  2.7934e-01,  1.0304e-01,  1.4908e-02,  1.1701e-01,\n",
      "         -6.2574e-02, -3.1345e-01,  1.8619e-01],\n",
      "        [ 1.3774e-01,  1.3181e-01,  1.6100e-01, -1.9066e-01,  2.1447e-01,\n",
      "          1.5477e-01,  9.1812e-02,  7.0328e-02],\n",
      "        [-1.1217e-01, -1.0822e-01, -2.0116e-01, -4.1443e-01,  2.7617e-01,\n",
      "          8.4125e-02,  6.8850e-02, -7.8333e-02],\n",
      "        [-3.3301e-01, -1.0361e-01, -6.5351e-02,  1.1520e-01,  1.6874e-01,\n",
      "         -8.1517e-02,  4.5850e-02,  2.3664e-01],\n",
      "        [ 9.5171e-02, -1.9175e-03, -2.5711e-01,  1.7430e-02,  1.5401e-02,\n",
      "          2.9799e-02,  3.4202e-01,  3.1319e-02],\n",
      "        [-3.4591e-01,  5.6472e-02,  4.9059e-01, -3.4631e-01,  4.4463e-02,\n",
      "         -3.9935e-02, -1.7562e-01,  3.1510e-01],\n",
      "        [ 1.4902e-01,  1.7649e-01, -1.7277e-01, -6.6963e-04, -2.1366e-03,\n",
      "         -4.2579e-01,  2.2142e-01,  9.4709e-02],\n",
      "        [-2.4767e-01,  2.8862e-01, -1.4846e-02,  8.4207e-02, -6.0209e-02,\n",
      "         -5.1506e-02,  7.4104e-02, -7.2646e-02],\n",
      "        [-1.5946e-01,  2.9532e-01,  3.1110e-01,  4.0426e-01, -1.6445e-01,\n",
      "         -3.8312e-02, -4.9186e-02, -1.7278e-01],\n",
      "        [-9.7462e-02, -2.3522e-01, -1.0737e-01, -1.1841e-01, -1.1012e-01,\n",
      "          1.9991e-01,  1.1477e-01,  1.4138e-01],\n",
      "        [ 1.4729e-01,  1.0250e-01,  5.9526e-03,  7.5415e-02,  1.3026e-01,\n",
      "          1.7711e-01,  3.7007e-01, -1.9082e-01],\n",
      "        [ 1.3846e-01, -3.5868e-02, -2.0647e-01, -6.9467e-02, -2.4811e-01,\n",
      "         -1.1093e-01,  1.1668e-01, -2.1052e-01],\n",
      "        [ 2.5860e-01, -1.8776e-01,  7.1972e-02,  1.2128e-02, -3.3251e-01,\n",
      "          2.1748e-01, -2.2140e-01, -1.0330e-02],\n",
      "        [-3.3193e-01, -5.2756e-02,  4.0008e-02,  1.0126e-01,  1.4982e-02,\n",
      "          1.1981e-01,  2.1149e-01,  2.3421e-01],\n",
      "        [-4.4445e-01,  4.1769e-01,  2.0335e-01, -2.6167e-01,  2.9004e-02,\n",
      "          1.0395e-02,  1.6641e-01, -9.7834e-02],\n",
      "        [-1.1848e-01, -2.9151e-01,  1.7701e-01, -2.3158e-01,  1.1175e-01,\n",
      "          2.5506e-01, -2.1156e-01, -6.7255e-02],\n",
      "        [-2.3398e-01,  2.8024e-01, -1.4561e-01,  2.8763e-01,  2.5518e-02,\n",
      "          1.3502e-01,  5.6535e-03,  1.0384e-01],\n",
      "        [ 5.9835e-06, -9.6024e-02, -1.9796e-01,  1.0414e-03,  2.1545e-01,\n",
      "          6.3979e-02, -1.6546e-01, -2.1249e-01],\n",
      "        [-1.0343e-01, -7.6122e-02, -2.2857e-02, -2.9029e-01, -4.0237e-01,\n",
      "          1.0154e-02,  5.5931e-02, -1.2861e-01],\n",
      "        [-1.5079e-01, -5.6258e-02, -7.6425e-03, -1.5921e-01,  4.5852e-02,\n",
      "          1.8233e-01, -1.7277e-01, -6.8055e-02],\n",
      "        [ 1.4008e-01,  7.8505e-02,  2.8110e-01, -1.1601e-01, -2.3503e-02,\n",
      "         -1.2637e-01,  2.5232e-01, -1.7412e-01],\n",
      "        [ 1.9803e-01, -3.3012e-01,  3.5376e-03,  1.0718e-01,  3.4463e-01,\n",
      "         -7.9031e-02, -2.0878e-01, -1.3842e-01],\n",
      "        [-1.0646e-01, -2.6702e-01,  3.3513e-02,  2.8358e-01, -3.6587e-02,\n",
      "         -4.6202e-02,  2.0136e-01,  6.1622e-02],\n",
      "        [-1.8505e-01,  2.1219e-01,  6.9715e-02, -2.4734e-01, -1.7888e-01,\n",
      "         -2.0216e-01, -2.6127e-01,  1.4016e-01],\n",
      "        [ 2.7180e-01,  2.0832e-01, -2.0849e-01, -2.9970e-01,  1.3879e-01,\n",
      "         -3.1561e-01, -6.5534e-03, -1.0881e-01],\n",
      "        [ 2.6782e-02,  4.7055e-04, -2.0815e-01, -1.7528e-01,  2.1397e-02,\n",
      "          1.0562e-01,  9.3475e-02,  1.8304e-01],\n",
      "        [ 5.4701e-02,  7.3784e-02,  2.0549e-01,  1.7813e-01, -5.5810e-03,\n",
      "          6.0618e-02,  1.3894e-01,  2.4740e-01],\n",
      "        [ 7.1824e-02,  3.1176e-02,  1.1457e-01,  1.0307e-01,  2.9704e-03,\n",
      "         -1.0477e-01, -1.6121e-01, -1.9001e-01],\n",
      "        [ 1.5019e-01, -2.4491e-02, -5.2801e-02,  7.4640e-02, -1.8382e-01,\n",
      "         -3.9439e-02, -5.2849e-02, -7.7947e-03],\n",
      "        [-3.5849e-02,  6.7097e-02, -1.1062e-01, -9.3298e-02,  5.4395e-02,\n",
      "          4.5550e-02,  9.1913e-02, -3.1605e-01],\n",
      "        [-7.0996e-02,  3.3307e-01, -3.3102e-01, -1.1364e-01,  8.7454e-02,\n",
      "          7.5447e-02, -1.1388e-01,  2.0327e-01],\n",
      "        [-1.1455e-01, -7.8874e-02,  5.6073e-02,  9.9381e-02,  2.9377e-01,\n",
      "          2.1528e-01,  2.1413e-01,  2.1099e-01],\n",
      "        [ 7.2142e-02, -1.3680e-01, -2.2486e-02,  2.1984e-01, -1.5361e-01,\n",
      "          2.2496e-01, -1.8548e-01, -3.6749e-02],\n",
      "        [-1.5145e-01,  2.8775e-02,  8.7752e-02,  1.4753e-01, -9.4370e-02,\n",
      "          6.3801e-02, -1.8253e-01,  1.6627e-02],\n",
      "        [-1.5798e-01,  3.5329e-02,  7.7903e-02, -8.0469e-03,  1.2294e-01,\n",
      "          2.9000e-01,  1.2991e-01, -2.3490e-02],\n",
      "        [-8.9091e-02, -1.7369e-02, -2.1311e-01, -1.4076e-01, -2.6690e-01,\n",
      "         -4.1410e-01, -3.1459e-01,  6.6179e-02],\n",
      "        [-3.2472e-02,  1.4922e-01, -1.1103e-01, -1.4836e-01,  1.6353e-01,\n",
      "          2.1945e-01, -3.1581e-01, -2.6561e-02],\n",
      "        [-2.4116e-01,  1.2172e-01, -2.7980e-01,  1.2118e-01,  2.8941e-01,\n",
      "         -2.4785e-02, -1.3929e-01,  9.6282e-02],\n",
      "        [-1.6771e-01,  4.8895e-02,  9.6285e-02, -7.8655e-02,  1.2573e-02,\n",
      "         -1.2905e-01,  1.4185e-02, -4.0735e-01],\n",
      "        [-4.0507e-02,  2.1440e-01, -8.6975e-02,  2.5035e-01, -6.1184e-02,\n",
      "         -1.7721e-01,  4.8085e-02, -6.5640e-02],\n",
      "        [ 5.5627e-02,  1.9608e-01, -4.6932e-01,  5.6088e-02,  7.8417e-02,\n",
      "         -3.5313e-02,  1.4988e-01,  2.1906e-01],\n",
      "        [ 1.4468e-01, -9.7142e-02,  3.5314e-01, -1.4047e-01,  1.5702e-01,\n",
      "         -2.8358e-01, -1.3530e-01, -6.3297e-02],\n",
      "        [ 1.7180e-01, -1.2417e-03, -1.1093e-01,  1.9870e-01,  3.3848e-01,\n",
      "          8.4113e-02, -2.1089e-01,  7.5196e-02],\n",
      "        [-1.8813e-01,  3.9774e-03, -7.2885e-02,  1.0435e-01, -1.6588e-01,\n",
      "         -1.1262e-01, -4.2366e-01,  9.9548e-04],\n",
      "        [-1.0426e-01,  1.0012e-01, -7.2042e-02,  1.6795e-01, -3.9948e-01,\n",
      "          3.0819e-01, -3.9275e-02,  5.2324e-02],\n",
      "        [-1.5019e-01, -3.4803e-02,  1.8223e-02,  2.1690e-01, -2.2794e-01,\n",
      "          3.4198e-01, -8.0818e-02, -1.2955e-01],\n",
      "        [ 7.1834e-02,  2.8507e-01, -6.3646e-02,  2.5827e-01,  2.1392e-01,\n",
      "         -1.4047e-02, -1.9461e-01, -7.8874e-02],\n",
      "        [-2.0188e-01,  1.5683e-01,  1.2320e-01, -9.5227e-02,  2.7152e-01,\n",
      "          2.8269e-02,  1.2520e-01, -3.0133e-01],\n",
      "        [ 9.6984e-03,  8.0173e-02, -1.0053e-01,  2.1301e-01,  4.6264e-02,\n",
      "         -1.3312e-02, -1.2199e-01, -3.3983e-02],\n",
      "        [ 3.2840e-01,  3.8021e-01,  6.0705e-02, -1.0581e-01, -8.1725e-02,\n",
      "          2.3925e-01, -6.6804e-02,  1.7117e-02],\n",
      "        [-2.4049e-01,  4.2957e-03, -1.0284e-01,  9.4166e-02,  2.1778e-01,\n",
      "         -3.8247e-02, -1.8401e-01, -1.9561e-01]]), 'mlp_extractor.policy_net.0.bias': tensor([-4.2934e-11,  4.1901e-05,  1.9685e-10,  4.4149e-09, -9.7765e-04,\n",
      "        -2.3537e-06,  1.3195e-04, -1.3436e-04,  2.4940e-05,  0.0000e+00,\n",
      "         4.2903e-04, -6.4183e-05,  9.4276e-05, -1.8112e-05,  6.6968e-09,\n",
      "         1.6057e-05,  2.8399e-09,  3.1047e-04, -1.8984e-07,  2.2217e-03,\n",
      "        -3.9417e-05, -3.6607e-06, -4.2706e-06,  4.2676e-04,  4.3921e-12,\n",
      "        -1.9422e-04,  0.0000e+00, -7.7407e-04, -2.6739e-04,  8.5592e-08,\n",
      "        -3.7839e-09, -1.0832e-08, -9.6964e-06,  5.4557e-06,  1.3920e-09,\n",
      "        -1.5400e-06,  1.1401e-03, -1.8538e-09,  1.0765e-08,  0.0000e+00,\n",
      "         9.3021e-10, -3.1596e-03, -1.1142e-10, -6.2262e-08,  0.0000e+00,\n",
      "         2.4242e-04, -3.0886e-04,  8.4479e-05, -1.1376e-06, -6.1600e-04,\n",
      "         6.1558e-04, -2.6549e-05,  1.0789e-06,  2.8173e-08, -3.0066e-04,\n",
      "        -1.2353e-05, -4.6994e-07,  6.2288e-06, -4.0463e-04, -2.9935e-04,\n",
      "        -4.8574e-08, -3.4294e-04,  6.2864e-06, -9.6212e-10]), 'mlp_extractor.policy_net.2.weight': tensor([[ 0.2041,  0.0677, -0.2045,  ...,  0.1488, -0.1769,  0.2294],\n",
      "        [-0.0245,  0.0074,  0.2525,  ..., -0.1688, -0.0563,  0.0011],\n",
      "        [-0.2666, -0.1579, -0.4254,  ..., -0.0530,  0.0444, -0.0562],\n",
      "        ...,\n",
      "        [-0.0205,  0.1544,  0.1452,  ...,  0.3244, -0.3123, -0.0193],\n",
      "        [ 0.1858,  0.3873, -0.2406,  ..., -0.0878,  0.0535, -0.0928],\n",
      "        [-0.1374,  0.3013, -0.1493,  ...,  0.2019, -0.4736,  0.1231]]), 'mlp_extractor.policy_net.2.bias': tensor([-1.1612e-02,  4.5445e-03,  1.1450e-02,  1.0969e-02,  4.9514e-04,\n",
      "         8.9587e-03,  7.7753e-03,  1.9250e-02,  5.4949e-04,  1.2038e-02,\n",
      "         1.2997e-02,  8.2291e-03, -6.3914e-03, -4.8184e-03, -1.7426e-02,\n",
      "        -7.4767e-03,  1.2553e-02,  8.3778e-03,  1.9105e-02,  6.9935e-03,\n",
      "        -1.4835e-02, -2.1066e-02, -8.8460e-03, -4.6710e-03,  1.3602e-02,\n",
      "         8.4981e-04,  1.5479e-02, -3.1832e-03, -1.2085e-02, -1.9372e-02,\n",
      "         1.1551e-02, -4.2804e-04, -1.1118e-02, -1.5217e-02,  1.0622e-02,\n",
      "         1.6852e-02, -1.5428e-02,  1.6425e-04, -8.4084e-04, -1.8348e-02,\n",
      "         5.2406e-03,  3.6301e-05, -1.3864e-02, -6.2693e-03, -1.2580e-02,\n",
      "         1.0294e-03,  1.9496e-02,  1.1016e-02, -1.0128e-02,  1.5682e-03,\n",
      "         8.7474e-03, -1.2372e-02, -3.7301e-03,  1.0880e-02,  1.5458e-02,\n",
      "         1.9939e-02,  6.7967e-03,  7.5253e-03,  1.9354e-02,  1.4787e-02,\n",
      "        -2.0570e-02,  1.1841e-02, -1.9183e-02, -7.6638e-03]), 'mlp_extractor.value_net.0.weight': tensor([[ 1.0973e-01,  9.3629e-02,  1.3246e-01,  1.9826e-01,  5.8637e-02,\n",
      "         -1.3491e-01, -4.6568e-01, -2.2747e-01],\n",
      "        [-1.0943e-01,  1.1074e-01, -1.6203e-01,  1.5335e-01,  2.0637e-01,\n",
      "         -2.4953e-01,  1.4734e-01,  1.2629e-01],\n",
      "        [-2.1115e-01, -6.8854e-02,  1.8678e-01,  1.7027e-01,  3.6603e-01,\n",
      "         -2.7165e-02, -1.8577e-01,  3.2742e-02],\n",
      "        [ 2.2463e-01, -2.9820e-01, -6.0011e-02, -1.7237e-01, -2.0073e-01,\n",
      "         -3.9195e-01,  6.8293e-02, -1.5588e-01],\n",
      "        [-4.9227e-01,  1.5354e-01, -2.2558e-01, -1.3170e-01,  2.1968e-01,\n",
      "          3.6509e-01, -9.0024e-03, -6.5571e-02],\n",
      "        [-1.3711e-01,  7.3639e-03,  4.0734e-02,  2.2758e-01, -2.7420e-01,\n",
      "          6.8948e-02, -9.7573e-02, -5.2799e-03],\n",
      "        [ 2.5820e-01,  9.6820e-02,  1.1577e-01, -5.7214e-02, -5.2340e-02,\n",
      "          1.6318e-01,  1.1678e-01,  8.2850e-02],\n",
      "        [-3.4518e-02,  1.4550e-01, -2.1940e-01, -6.4492e-02,  1.8964e-01,\n",
      "         -8.7269e-02,  4.9303e-02, -1.7684e-01],\n",
      "        [-1.1365e-01, -1.8943e-01,  4.1163e-02, -2.1103e-02,  2.2689e-01,\n",
      "         -3.1874e-02, -3.7417e-01, -2.2226e-01],\n",
      "        [-1.2870e-01, -1.7587e-01, -1.6682e-02,  8.1504e-02,  1.7685e-01,\n",
      "         -1.0765e-01,  9.4376e-02, -2.7445e-01],\n",
      "        [ 1.0393e-01,  1.8213e-02, -5.2781e-02,  4.6630e-02,  1.8410e-01,\n",
      "          1.0733e-01, -1.6242e-01, -2.7251e-02],\n",
      "        [-5.3587e-01,  6.1997e-02, -5.2929e-01,  1.6367e-01,  3.2634e-02,\n",
      "          1.1018e-01, -2.8406e-02,  2.3384e-02],\n",
      "        [-9.9117e-02, -9.2934e-02,  1.3940e-01,  1.4913e-01, -1.6327e-01,\n",
      "         -4.1450e-02,  2.6788e-01, -9.6886e-03],\n",
      "        [-1.6290e-02,  3.3253e-01, -3.9049e-01,  1.5607e-01,  1.8686e-01,\n",
      "          2.4146e-03,  3.5438e-01, -5.1867e-01],\n",
      "        [ 4.3849e-02,  8.2723e-04, -9.3757e-02, -8.6825e-03, -1.0638e-01,\n",
      "          3.0444e-01,  3.5879e-02,  1.1457e-01],\n",
      "        [-1.9685e-01, -2.0063e-02,  2.0713e-02,  8.0945e-02,  9.7249e-02,\n",
      "         -8.1832e-02,  5.7764e-03,  4.8355e-02],\n",
      "        [ 2.3692e-02,  2.1847e-01,  6.5349e-02, -8.9029e-02, -4.2249e-02,\n",
      "          3.7081e-01,  1.0696e-01, -2.4167e-02],\n",
      "        [-1.1253e-01,  2.0277e-02,  1.4381e-01, -1.5883e-02, -2.2513e-01,\n",
      "         -6.4589e-02, -2.5336e-02, -2.5615e-01],\n",
      "        [-2.7107e-01, -1.9116e-01, -6.3712e-02, -8.3898e-02, -4.7804e-02,\n",
      "         -3.0776e-01,  1.0699e-01,  1.1614e-01],\n",
      "        [-2.2595e-01,  7.2322e-02,  1.0773e-01, -1.2308e-02,  2.1479e-01,\n",
      "          1.2488e-01,  3.2641e-01, -3.0574e-02],\n",
      "        [ 2.9072e-01, -1.2617e-01,  3.0078e-02, -8.3650e-02, -3.9443e-01,\n",
      "         -5.9382e-03, -2.0289e-01, -5.0576e-01],\n",
      "        [-2.3211e-01,  8.5739e-02, -7.7736e-02,  1.1597e-01,  2.3867e-02,\n",
      "          1.4221e-01, -1.0394e-02, -4.1456e-02],\n",
      "        [-2.3002e-01, -7.8508e-02, -2.8123e-01,  5.6237e-01,  2.3200e-01,\n",
      "          3.5013e-01, -1.1158e-01, -8.0542e-02],\n",
      "        [ 7.3595e-02, -2.4740e-01,  2.0254e-02,  4.2157e-02,  3.4410e-02,\n",
      "         -1.4048e-02,  3.8787e-02, -6.6139e-02],\n",
      "        [-1.2333e-03, -1.5924e-01, -1.4452e-01, -1.4518e-01, -8.0723e-02,\n",
      "          6.4966e-02, -1.9292e-01, -2.9078e-01],\n",
      "        [ 3.9148e-01, -3.1989e-01, -2.7851e-01,  8.5072e-02, -9.4009e-02,\n",
      "         -1.5567e-01,  4.7500e-02,  1.4702e-02],\n",
      "        [ 5.8279e-02,  2.8662e-03,  3.2091e-02, -2.5142e-01,  3.3962e-01,\n",
      "         -1.9827e-01,  1.4144e-02,  4.2095e-02],\n",
      "        [-8.7159e-02,  2.7262e-01, -9.9791e-02, -3.5114e-01,  8.3894e-02,\n",
      "         -4.8346e-01,  1.0806e-01, -2.1947e-01],\n",
      "        [ 2.0171e-01,  1.6203e-01,  3.3581e-01,  2.8823e-01, -1.9331e-01,\n",
      "          9.1033e-02,  2.3787e-01, -4.7233e-01],\n",
      "        [-6.5150e-02,  5.9446e-02, -5.5230e-02,  1.3047e-01, -1.8531e-01,\n",
      "         -2.2183e-01, -1.0712e-02,  1.3863e-01],\n",
      "        [ 1.9293e-01, -1.5838e-01,  5.6490e-02, -2.0993e-01, -4.2357e-01,\n",
      "         -3.2176e-01,  1.0080e-02,  1.2750e-01],\n",
      "        [-1.2794e-01,  8.1160e-03, -2.6649e-01,  2.3248e-01,  8.3454e-02,\n",
      "         -7.4357e-02, -4.4513e-02,  4.8991e-02],\n",
      "        [-2.9262e-01,  8.3963e-02,  2.9134e-01,  9.9549e-02, -2.2465e-01,\n",
      "         -3.6607e-01, -1.0037e-02,  6.8592e-03],\n",
      "        [-1.6794e-02,  7.7976e-03,  1.4852e-01, -2.7479e-01, -1.9667e-01,\n",
      "         -2.3993e-01,  2.0897e-01,  2.8007e-02],\n",
      "        [-1.0569e-01,  1.5124e-02,  5.5996e-02, -9.2511e-02, -1.5639e-01,\n",
      "          1.2463e-02, -1.5504e-01,  3.3358e-01],\n",
      "        [-2.9260e-02,  1.4706e-02, -3.5622e-02, -1.7700e-01,  9.7226e-02,\n",
      "          1.3616e-01,  1.0339e-01, -3.0765e-01],\n",
      "        [-1.0750e-01, -4.2882e-01, -1.9511e-01,  2.6710e-02, -2.6427e-01,\n",
      "          6.2057e-02,  3.0976e-01, -1.0746e-01],\n",
      "        [-2.9718e-02, -5.9780e-01, -3.3312e-02, -1.9511e-02,  1.1989e-01,\n",
      "          8.1875e-02, -2.0385e-01, -2.1232e-01],\n",
      "        [-4.2507e-02, -1.8268e-02,  4.5645e-02, -1.4122e-01, -2.3149e-01,\n",
      "          4.5238e-02,  3.2770e-03,  3.4396e-02],\n",
      "        [ 2.3093e-01,  3.6512e-01, -9.8466e-02,  4.3919e-02, -1.8181e-01,\n",
      "         -2.9129e-02, -6.1637e-02,  2.1523e-01],\n",
      "        [-1.6084e-01, -1.2688e-01,  2.6896e-02,  1.5492e-01, -9.4196e-02,\n",
      "          4.3299e-01,  7.6773e-02,  1.6628e-02],\n",
      "        [ 1.5530e-01, -1.1621e-01,  2.8900e-01,  1.8769e-01,  1.4321e-01,\n",
      "          4.3321e-02, -3.1143e-02,  1.4886e-01],\n",
      "        [-9.7320e-02,  4.1336e-02,  2.5558e-02,  1.1326e-01,  1.4476e-01,\n",
      "         -6.3007e-02,  1.9203e-01, -1.2382e-01],\n",
      "        [ 1.5415e-01,  1.3080e-01,  3.5100e-01,  2.5865e-02,  3.7387e-02,\n",
      "         -5.0779e-02,  4.1052e-02, -5.4625e-02],\n",
      "        [-3.4371e-01,  4.7957e-02, -3.2711e-01,  4.9559e-02,  1.1005e-02,\n",
      "         -2.2040e-01, -3.0952e-01, -2.5784e-01],\n",
      "        [-1.1190e-01,  3.4984e-02, -1.9562e-01,  3.1918e-01, -9.9536e-02,\n",
      "          1.7307e-02, -9.8686e-02,  2.7867e-01],\n",
      "        [-9.3341e-02, -5.8107e-02,  9.3898e-02, -3.7455e-01, -7.9369e-02,\n",
      "          9.3210e-02, -8.0159e-02, -7.3262e-02],\n",
      "        [-1.3239e-02, -3.3785e-01,  4.2291e-02, -1.9474e-01,  2.5626e-02,\n",
      "         -2.1175e-01, -2.5249e-02, -2.8861e-02],\n",
      "        [-1.3411e-01,  1.4945e-01,  2.8574e-01,  1.8454e-01, -1.8225e-01,\n",
      "         -1.1702e-01, -1.8208e-01,  9.7335e-02],\n",
      "        [ 8.0631e-02, -3.4141e-02,  1.8115e-01,  3.8206e-02, -2.1061e-02,\n",
      "         -1.8070e-01,  1.6906e-01, -1.5393e-02],\n",
      "        [ 1.4748e-01,  3.9884e-02,  4.9732e-02, -3.5576e-01,  9.6274e-02,\n",
      "         -9.8083e-02, -1.8867e-01,  1.6651e-02],\n",
      "        [ 2.4623e-01,  1.0178e-01, -3.7629e-01, -3.3470e-01,  2.5731e-02,\n",
      "          1.2611e-01, -3.0623e-02,  1.9036e-01],\n",
      "        [ 3.7102e-01,  2.2280e-01, -2.3565e-01,  1.0400e-01,  2.6710e-02,\n",
      "         -6.7369e-02,  1.2621e-01, -6.5786e-02],\n",
      "        [ 1.4934e-01, -2.0395e-01, -2.2760e-01, -1.2139e-01,  3.2607e-01,\n",
      "          1.7297e-01, -1.0525e-01,  1.4098e-02],\n",
      "        [ 1.7344e-01,  1.2317e-01, -1.8914e-01, -2.0303e-02, -3.6447e-01,\n",
      "         -3.3593e-02, -1.8965e-01, -1.3970e-01],\n",
      "        [ 2.4193e-01,  3.9834e-02, -1.5662e-01, -1.1277e-01, -5.4065e-02,\n",
      "         -4.3244e-02, -2.1510e-01, -1.7547e-02],\n",
      "        [-8.3868e-02,  1.8908e-02, -5.0708e-01,  2.7901e-01, -7.9604e-02,\n",
      "         -1.6273e-01,  1.0179e-01, -1.0366e-01],\n",
      "        [ 2.4405e-02, -1.2099e-01,  4.7731e-02,  5.7416e-02,  7.3225e-03,\n",
      "          1.3106e-01,  6.4244e-02, -2.3708e-01],\n",
      "        [-1.7640e-01,  2.5314e-02, -6.5694e-02, -5.4892e-03,  2.2970e-01,\n",
      "          8.9417e-02, -8.0952e-03, -2.7729e-02],\n",
      "        [-2.4569e-01,  2.1072e-01,  8.5854e-02, -1.0644e-01, -2.2512e-01,\n",
      "          1.1533e-01, -8.0099e-02, -2.2564e-01],\n",
      "        [ 3.3247e-01,  1.2077e-01,  3.8296e-01, -1.0201e-01,  2.3342e-01,\n",
      "         -1.9862e-01,  1.1639e-01, -5.2533e-02],\n",
      "        [-1.7467e-01, -2.6359e-01, -5.1487e-02, -1.0466e-01, -3.8237e-02,\n",
      "          1.9900e-01,  3.7479e-01,  7.3434e-02],\n",
      "        [ 5.0001e-02,  1.0459e-02, -2.4532e-01,  2.9401e-01,  7.0858e-02,\n",
      "          1.8482e-01, -2.6941e-01,  1.7592e-02],\n",
      "        [-2.0826e-01,  8.6642e-02, -2.8293e-02, -2.0473e-01,  9.3489e-02,\n",
      "          3.4968e-01,  5.1403e-02, -4.0753e-04]]), 'mlp_extractor.value_net.0.bias': tensor([-1.5813e-07, -1.3820e-03,  3.4622e-02,  0.0000e+00,  1.4632e-01,\n",
      "        -2.3970e-03, -6.0825e-04, -1.0118e-03,  0.0000e+00, -2.8120e-06,\n",
      "         3.8366e-02,  2.1520e-01,  8.0167e-03, -1.6399e-05, -1.0394e-04,\n",
      "        -6.4411e-02,  1.5451e-02,  5.3721e-07, -3.7671e-02,  2.3549e-02,\n",
      "         0.0000e+00,  9.2986e-02,  2.0465e-01, -1.4887e-02,  0.0000e+00,\n",
      "        -5.6362e-02, -4.2006e-02, -8.2199e-09,  5.2199e-04,  4.7663e-02,\n",
      "        -1.8346e-01, -9.5462e-03, -1.3738e-02, -1.1679e-01,  7.9533e-06,\n",
      "        -4.9434e-04, -2.0804e-02,  8.9400e-07, -7.3300e-02,  3.4864e-04,\n",
      "         1.7583e-02,  1.2121e-04, -3.3954e-02, -6.1176e-02,  0.0000e+00,\n",
      "         2.5228e-06, -1.9564e-02, -3.6190e-03,  6.1727e-02, -4.8894e-02,\n",
      "        -2.7467e-02,  2.1789e-03, -1.8016e-02,  4.0540e-02,  1.0073e-05,\n",
      "        -2.3406e-02, -1.0343e-02, -2.5332e-02,  6.6063e-02,  2.3402e-05,\n",
      "        -3.5477e-02,  1.5163e-02,  3.9325e-02,  6.3605e-02]), 'mlp_extractor.value_net.2.weight': tensor([[ 0.0848,  0.1509,  0.0249,  ...,  0.3593,  0.0032, -0.3147],\n",
      "        [ 0.0376,  0.1874, -0.0123,  ...,  0.2598, -0.0678,  0.0409],\n",
      "        [-0.0604,  0.2989, -0.0599,  ..., -0.0907, -0.1306,  0.0391],\n",
      "        ...,\n",
      "        [ 0.0477, -0.2003,  0.0207,  ..., -0.0524, -0.1953, -0.1457],\n",
      "        [ 0.0871, -0.0673, -0.0703,  ..., -0.1552,  0.3789, -0.2519],\n",
      "        [ 0.1412,  0.1385, -0.2271,  ...,  0.0306, -0.3803,  0.1126]]), 'mlp_extractor.value_net.2.bias': tensor([ 0.1115,  0.0911,  0.0988, -0.1123,  0.0922, -0.0239, -0.0573,  0.0601,\n",
      "         0.0144, -0.0742, -0.0274, -0.0674,  0.0490,  0.0625,  0.0274,  0.0890,\n",
      "         0.1136,  0.1009, -0.0827, -0.0664,  0.0574, -0.0496, -0.0618,  0.0256,\n",
      "         0.0142, -0.0245, -0.1155, -0.1206, -0.0233, -0.0238, -0.0677,  0.0606,\n",
      "        -0.1154, -0.0703, -0.1024,  0.0890,  0.0271, -0.0347, -0.0239,  0.0883,\n",
      "        -0.0431,  0.0773, -0.0368, -0.0496,  0.0883, -0.0303,  0.0653, -0.0823,\n",
      "         0.1430,  0.1106,  0.0966,  0.0255,  0.0526,  0.0819, -0.0476, -0.0601,\n",
      "         0.0282,  0.0832,  0.0803, -0.0739,  0.0887, -0.0263, -0.0097,  0.1112]), 'action_net.weight': tensor([[-8.6843e-02,  8.5849e-02,  5.6041e-02,  8.2470e-02,  2.0736e-02,\n",
      "          9.2299e-02,  6.5929e-02,  8.7936e-02,  1.3404e-02,  7.1464e-02,\n",
      "          5.2273e-02,  8.9037e-02, -6.8057e-02, -6.5222e-02, -6.1710e-02,\n",
      "         -5.7443e-02,  4.1360e-02,  8.2818e-02,  7.2141e-02,  6.7755e-02,\n",
      "         -5.4222e-02, -9.8226e-02, -6.6739e-02, -6.5949e-02,  9.3401e-02,\n",
      "         -1.2403e-02,  7.8509e-02, -3.6616e-02, -8.7893e-02, -8.7830e-02,\n",
      "          3.4423e-02,  8.8795e-03, -5.6294e-02, -8.2065e-02,  8.4700e-02,\n",
      "          8.3610e-02, -7.5929e-02,  1.1737e-02, -8.4915e-02, -7.6382e-02,\n",
      "          7.4957e-04, -2.3724e-02, -6.6846e-02, -1.6895e-02, -8.5930e-02,\n",
      "         -1.8085e-02,  9.0170e-02,  9.1074e-02, -8.7783e-02,  5.9769e-02,\n",
      "          8.0589e-02, -7.7014e-02, -8.3975e-02,  7.8854e-02,  9.4100e-02,\n",
      "          8.8813e-02,  9.0355e-02,  9.0379e-02,  7.5960e-02,  6.5239e-02,\n",
      "         -8.8042e-02,  9.3497e-02, -7.9360e-02, -6.8276e-02],\n",
      "        [ 6.2780e-02, -5.7371e-02, -7.2314e-03, -5.3220e-02,  1.4265e-02,\n",
      "         -6.4920e-02, -2.3791e-02, -5.8465e-02, -1.4052e-02, -3.0656e-02,\n",
      "         -5.0654e-02, -6.8718e-02,  2.7315e-02,  2.1347e-02,  3.7884e-02,\n",
      "          1.7380e-02, -3.2318e-02, -5.9907e-02, -4.2607e-02, -2.9479e-02,\n",
      "          2.4525e-02,  6.4408e-02,  1.9446e-02,  2.0085e-02, -6.8520e-02,\n",
      "         -1.2175e-02, -4.3159e-02,  6.9400e-03,  6.8384e-02,  5.5071e-02,\n",
      "         -3.7796e-02, -2.9984e-03,  3.7141e-02,  5.2959e-02, -6.3963e-02,\n",
      "         -5.5611e-02,  4.3672e-02, -4.3608e-03,  5.7640e-02,  3.5748e-02,\n",
      "          2.3342e-02, -3.4870e-03,  1.7751e-02,  2.8004e-02,  5.7555e-02,\n",
      "         -1.2454e-02, -6.0496e-02, -6.5512e-02,  6.1884e-02, -2.0401e-02,\n",
      "         -5.0936e-02,  4.3148e-02,  5.4701e-02, -3.8791e-02, -6.8859e-02,\n",
      "         -5.0818e-02, -6.3011e-02, -6.3886e-02, -4.0204e-02, -5.4582e-02,\n",
      "          5.2046e-02, -6.6043e-02,  5.8466e-02,  2.8580e-02],\n",
      "        [ 7.6847e-03, -2.5976e-02, -6.3953e-02, -3.6818e-02, -2.6285e-02,\n",
      "          1.0980e-03, -5.5032e-02, -3.9901e-02,  1.9421e-02, -5.1846e-02,\n",
      "          7.9922e-05, -1.5143e-02,  5.1630e-02,  5.6656e-02,  2.7007e-02,\n",
      "          5.2533e-02, -1.4165e-02,  3.5718e-03, -3.5908e-02, -5.4010e-02,\n",
      "          3.3293e-02,  2.1290e-02,  5.2219e-02,  5.4520e-02,  1.8042e-02,\n",
      "          1.9171e-02, -4.3996e-02,  2.1474e-02,  6.5881e-03,  4.4444e-02,\n",
      "          5.9233e-03,  1.3707e-02, -1.3972e-02,  3.8562e-02,  8.9844e-03,\n",
      "         -1.1184e-02,  4.8775e-02,  1.0537e-02,  2.5519e-02,  5.0278e-02,\n",
      "         -4.7817e-02,  1.4146e-02,  6.2139e-02, -5.3240e-03,  3.4530e-02,\n",
      "          2.1359e-02, -2.0640e-02, -1.0875e-02, -2.0981e-02, -5.6475e-02,\n",
      "         -3.7742e-02,  4.3534e-02,  2.8903e-02, -1.9274e-02, -9.8704e-03,\n",
      "         -4.3540e-02, -6.3312e-03,  4.9435e-03, -4.0292e-02, -1.3266e-02,\n",
      "          4.8023e-02, -6.5509e-03,  1.8794e-02,  5.6881e-02],\n",
      "        [ 6.2130e-02, -6.0364e-02,  7.6807e-03, -5.6282e-02, -8.8814e-03,\n",
      "         -5.8237e-02, -2.7391e-02, -4.7402e-02, -2.7416e-02, -2.8754e-02,\n",
      "         -2.4754e-02, -6.4518e-02,  3.7025e-02,  3.0599e-02,  1.4514e-02,\n",
      "          1.7484e-02, -1.5520e-02, -5.4883e-02, -2.3557e-02, -2.9303e-02,\n",
      "         -4.6880e-03,  5.9372e-02,  2.3440e-02,  2.1329e-02, -6.0460e-02,\n",
      "          4.1070e-03, -5.1849e-02,  8.9813e-03,  5.7601e-02,  4.9759e-02,\n",
      "         -1.1583e-02, -2.7521e-02,  4.1064e-02,  6.0018e-02, -5.6652e-02,\n",
      "         -4.8136e-02,  4.6872e-02, -2.8040e-02,  6.0852e-02,  3.8838e-02,\n",
      "          4.0155e-02,  1.9212e-02,  1.3867e-02,  2.4055e-04,  6.1023e-02,\n",
      "          1.3134e-02, -5.4616e-02, -6.2619e-02,  5.7226e-02, -2.5970e-02,\n",
      "         -5.7473e-02,  4.9713e-02,  6.1431e-02, -4.4176e-02, -5.6054e-02,\n",
      "         -5.2678e-02, -6.2292e-02, -5.8443e-02, -3.0133e-02, -3.4902e-02,\n",
      "          5.1851e-02, -6.2007e-02,  4.5272e-02,  2.2127e-02]]), 'action_net.bias': tensor([ 0.0864, -0.0591, -0.0252, -0.0626]), 'value_net.weight': tensor([[ 0.3846,  0.4675,  0.5150, -0.3971,  0.4725, -0.4255, -0.4419,  0.5433,\n",
      "         -0.5255, -0.4054, -0.5432, -0.4522,  0.4933,  0.3959,  0.4643,  0.5178,\n",
      "          0.5365,  0.4569, -0.5266, -0.6169,  0.6129, -0.4489, -0.5452,  0.4191,\n",
      "          0.4414, -0.5583, -0.4060, -0.4204, -0.6645, -0.4571, -0.5279,  0.5790,\n",
      "         -0.5198, -0.5078, -0.5713,  0.3887,  0.4380, -0.6223, -0.5687,  0.4528,\n",
      "         -0.4580,  0.4271, -0.3637, -0.4484,  0.4972, -0.3944,  0.4962, -0.6191,\n",
      "          0.4656,  0.6446,  0.5592, -0.5399,  0.4651,  0.4073, -0.4213, -0.5558,\n",
      "          0.4781,  0.5331,  0.5813, -0.5397,  0.4238, -0.4147, -0.4120,  0.4184]]), 'value_net.bias': tensor([0.3645])})\n"
     ]
    }
   ],
   "source": [
    "model_path = 'logs/switching_analysis_1/switch-hard_killer_killer_switch_analysis_PPO/killer/best_model.zip'\n",
    "model_path = 'logs/switching_analysis_1/switch-hard_treasure_treasure_switch_analysis_PPO/treasure/best_model.zip'\n",
    "model_path = 'logs/switching_analysis_1/switch-hard_switch_switch_switch_analysis_PPO/switch/best_model.zip'\n",
    "model_path = 'logs/switching_analysis_new/switch-hard_killer_killer_switch_analysis_killer_PPO/killer/latest_model_260000_steps.zip'\n",
    "\n",
    "\n",
    "model = PPO.load(model_path, device='cpu')\n",
    "print(model.policy.state_dict())"
   ]
  },
  {
   "cell_type": "code",
   "execution_count": 51,
   "metadata": {},
   "outputs": [
    {
     "name": "stdout",
     "output_type": "stream",
     "text": [
      "----------Generating Data----------\n",
      "{'action_type': 'switch', 'action_space_type': 'discrete', 'obs_type': 'distance', 'lvl': 'hard', 'play_style': 'switch', 'reward_scheme': 'switch', 'exp_type': 'switch_analysis', 'learning_algo': 'PPO', 'exp_path': 'switching_analysis/', 'base_path': './play_style_models/base/'}\n",
      "switch-hard_switch_switch_switch_analysis_PPO\n",
      "----------Generating Data----------\n",
      "{'action_type': 'switch', 'action_space_type': 'discrete', 'obs_type': 'distance', 'lvl': 'hard', 'play_style': 'hard', 'reward_scheme': 'hard', 'exp_type': 'switch_analysis', 'learning_algo': 'PPO', 'exp_path': 'switching_analysis/', 'base_path': './play_style_models/base/'}\n",
      "switch-hard_hard_hard_switch_analysis_PPO\n",
      "----------Generating Data----------\n",
      "{'action_type': 'switch', 'action_space_type': 'discrete', 'obs_type': 'distance', 'lvl': 'hard', 'play_style': 'treasure', 'reward_scheme': 'treasure', 'exp_type': 'switch_analysis', 'learning_algo': 'PPO', 'exp_path': 'switching_analysis/', 'base_path': './play_style_models/base/'}\n",
      "switch-hard_treasure_treasure_switch_analysis_PPO\n",
      "----------Generating Data----------\n",
      "{'action_type': 'switch', 'action_space_type': 'discrete', 'obs_type': 'distance', 'lvl': 'hard', 'play_style': 'killer', 'reward_scheme': 'killer', 'exp_type': 'switch_analysis', 'learning_algo': 'PPO', 'exp_path': 'switching_analysis/', 'base_path': './play_style_models/base/'}\n",
      "switch-hard_killer_killer_switch_analysis_PPO\n",
      "----------Generating Data----------\n",
      "{'action_type': 'switch', 'action_space_type': 'discrete', 'obs_type': 'distance', 'lvl': 'hard', 'play_style': 'potion', 'reward_scheme': 'potion', 'exp_type': 'switch_analysis', 'learning_algo': 'PPO', 'exp_path': 'switching_analysis/', 'base_path': './play_style_models/base/'}\n",
      "switch-hard_potion_potion_switch_analysis_PPO\n",
      "----------Generating Data----------\n",
      "{'action_type': 'switch', 'action_space_type': 'discrete', 'obs_type': 'distance', 'lvl': 'hard', 'play_style': 'runner', 'reward_scheme': 'runner', 'exp_type': 'switch_analysis', 'learning_algo': 'PPO', 'exp_path': 'switching_analysis/', 'base_path': './play_style_models/base/'}\n",
      "switch-hard_runner_runner_switch_analysis_PPO\n",
      "killer\n",
      "---------------------Groupshapley for hard-killer-----------------\n",
      "2.8101859092712402\n"
     ]
    },
    {
     "name": "stderr",
     "output_type": "stream",
     "text": [
      "R[write to console]: Note: You passed a model to explain() which is not natively supported, and did not supply a 'get_model_specs' function to explain().\n",
      "Consistency checks between model and data is therefore disabled.\n",
      "\n",
      "\n",
      "R[write to console]: Setting parameter 'n_batches' to 3 as a fair trade-off between memory consumption and computation time.\n",
      "Reducing 'n_batches' typically reduces the computation time at the cost of increased memory consumption.\n",
      "\n",
      "\n"
     ]
    },
    {
     "name": "stdout",
     "output_type": "stream",
     "text": [
      "<rpy2.rinterface.FloatSexpVector object at 0x7f918a3f5cd0> [14]\n",
      "2\n"
     ]
    }
   ],
   "source": [
    "lvl ='hard'\n",
    "lvl_list = ['hard']\n",
    "game_data, df, df_train, df_test, simp_data =gen_analysis_data(lvl_list)\n",
    "configs = gen_config(lvl =lvl,algo =\"PPO\",obs_type=\"distance\", exp_type=\"switch_analysis_killer\",switch_path=\"switching_analysis_new/\",base_path=\"./play_style_models/base/\")\n",
    "config = configs[3]\n",
    "algo =config['learning_algo']\n",
    "path = config['exp_path']\n",
    "#seperate dataframe based on config\n",
    "print(config['play_style'])\n",
    "df_curr = df.loc[(df['level']== lvl) & (df['play_style']== config['play_style'])]\n",
    "print(f\"---------------------Groupshapley for {lvl}-{config['play_style']}-----------------\")\n",
    "# format data\n",
    "df_train, df_test ,simp_data= prep_data(df_curr)#TODO need convert back to dataframe alos check why they are not same type as input shap\n",
    "\n",
    "#create correct model\n",
    "if config['action_type'] == \"switch\":\n",
    "    exp = f\"{config['action_type']}-{lvl}_{config['play_style']}_{config['reward_scheme']}_{config['exp_type']}_{algo}\"\n",
    "    model_path = f\"logs/{path}/{exp}/{config['play_style']}/latest_model_500000_steps.zip\"\n",
    "else:\n",
    "    exp = f\"{lvl}_{config['play_style']}_{config['reward_scheme']}_{config['exp_type']}\"\n",
    "    model_path = f\"logs/{path}/{exp}/best_model/best_model\"\n",
    "\n",
    "if algo ==\"PPO\":\n",
    "    model = PPO.load(model_path, device='cpu')\n",
    "elif config.algo =='DQN':\n",
    "    model = DQN.load(model_path, device='cuda')\n",
    "state_log = np.array(df_curr['curr_obs'].values.tolist())\n",
    "data =torch.FloatTensor(state_log).to('cpu')\n",
    "\n",
    "\n",
    "if config['obs_type']== 'grid':\n",
    "    model = grid_sb3Wrapper(model)\n",
    "elif algo =='PPO':\n",
    "    model = sb3Wrapper(model)\n",
    "elif algo == 'DQN':\n",
    "    model = sb3_DQN_wrapper(model)\n",
    "\n",
    "\n",
    "#tensor\n",
    "dfy_train = df_curr['curr_obs'].apply(lambda x: np.max(model.forward(Variable(torch.from_numpy(x),requires_grad=False).to(float32)).detach().numpy(),keepdims=True))\n",
    "\n",
    "print(dfy_train.mean().item())\n",
    "df_shapley, pred_explain, internal, timing = explain(\n",
    "    model=model,\n",
    "    x_train=df_train,\n",
    "    x_explain=df_train.head(),\n",
    "    approach='independence',\n",
    "    predict_model= lambda m,x: np.max(m(torch.from_numpy(x.to_numpy()).to(float32)).detach().numpy(),keepdims=False,axis=1), #requires model and x as param\n",
    "    prediction_zero=dfy_train.mean().item(),\n",
    ")\n",
    "\n",
    "# make agent model\n",
    "# extract correspoding dataframe\n",
    "# gen groupshap values for that config\n",
    "# add to dataframe"
   ]
  },
  {
   "cell_type": "code",
   "execution_count": 52,
   "metadata": {},
   "outputs": [
    {
     "data": {
      "text/html": [
       "<div>\n",
       "<style scoped>\n",
       "    .dataframe tbody tr th:only-of-type {\n",
       "        vertical-align: middle;\n",
       "    }\n",
       "\n",
       "    .dataframe tbody tr th {\n",
       "        vertical-align: top;\n",
       "    }\n",
       "\n",
       "    .dataframe thead th {\n",
       "        text-align: right;\n",
       "    }\n",
       "</style>\n",
       "<table border=\"1\" class=\"dataframe\">\n",
       "  <thead>\n",
       "    <tr style=\"text-align: right;\">\n",
       "      <th></th>\n",
       "      <th>none</th>\n",
       "      <th>DM</th>\n",
       "      <th>DT</th>\n",
       "      <th>SDT</th>\n",
       "      <th>DP</th>\n",
       "      <th>SDP</th>\n",
       "      <th>DE</th>\n",
       "      <th>SDE</th>\n",
       "      <th>HP</th>\n",
       "    </tr>\n",
       "  </thead>\n",
       "  <tbody>\n",
       "    <tr>\n",
       "      <th>1</th>\n",
       "      <td>2.810186</td>\n",
       "      <td>0.003321</td>\n",
       "      <td>0.000729</td>\n",
       "      <td>0.001564</td>\n",
       "      <td>-0.002194</td>\n",
       "      <td>0.001378</td>\n",
       "      <td>-0.007106</td>\n",
       "      <td>-0.269511</td>\n",
       "      <td>-0.004172</td>\n",
       "    </tr>\n",
       "    <tr>\n",
       "      <th>2</th>\n",
       "      <td>2.810186</td>\n",
       "      <td>0.000602</td>\n",
       "      <td>-0.000510</td>\n",
       "      <td>-0.000835</td>\n",
       "      <td>-0.000982</td>\n",
       "      <td>0.001456</td>\n",
       "      <td>0.001551</td>\n",
       "      <td>0.082965</td>\n",
       "      <td>0.000679</td>\n",
       "    </tr>\n",
       "    <tr>\n",
       "      <th>3</th>\n",
       "      <td>2.810186</td>\n",
       "      <td>0.005503</td>\n",
       "      <td>-0.000269</td>\n",
       "      <td>-0.000333</td>\n",
       "      <td>0.000374</td>\n",
       "      <td>-0.001496</td>\n",
       "      <td>0.000117</td>\n",
       "      <td>0.080891</td>\n",
       "      <td>0.000140</td>\n",
       "    </tr>\n",
       "    <tr>\n",
       "      <th>4</th>\n",
       "      <td>2.810186</td>\n",
       "      <td>-0.000535</td>\n",
       "      <td>-0.000187</td>\n",
       "      <td>-0.000156</td>\n",
       "      <td>-0.000513</td>\n",
       "      <td>0.000519</td>\n",
       "      <td>0.001385</td>\n",
       "      <td>0.083394</td>\n",
       "      <td>0.001019</td>\n",
       "    </tr>\n",
       "    <tr>\n",
       "      <th>5</th>\n",
       "      <td>2.810186</td>\n",
       "      <td>0.002916</td>\n",
       "      <td>-0.000482</td>\n",
       "      <td>-0.000783</td>\n",
       "      <td>-0.000144</td>\n",
       "      <td>-0.000049</td>\n",
       "      <td>0.000975</td>\n",
       "      <td>0.081943</td>\n",
       "      <td>0.000549</td>\n",
       "    </tr>\n",
       "  </tbody>\n",
       "</table>\n",
       "</div>"
      ],
      "text/plain": [
       "       none        DM        DT       SDT        DP       SDP        DE  \\\n",
       "1  2.810186  0.003321  0.000729  0.001564 -0.002194  0.001378 -0.007106   \n",
       "2  2.810186  0.000602 -0.000510 -0.000835 -0.000982  0.001456  0.001551   \n",
       "3  2.810186  0.005503 -0.000269 -0.000333  0.000374 -0.001496  0.000117   \n",
       "4  2.810186 -0.000535 -0.000187 -0.000156 -0.000513  0.000519  0.001385   \n",
       "5  2.810186  0.002916 -0.000482 -0.000783 -0.000144 -0.000049  0.000975   \n",
       "\n",
       "        SDE        HP  \n",
       "1 -0.269511 -0.004172  \n",
       "2  0.082965  0.000679  \n",
       "3  0.080891  0.000140  \n",
       "4  0.083394  0.001019  \n",
       "5  0.081943  0.000549  "
      ]
     },
     "execution_count": 52,
     "metadata": {},
     "output_type": "execute_result"
    }
   ],
   "source": [
    "df_shapley"
   ]
  },
  {
   "cell_type": "code",
   "execution_count": null,
   "metadata": {},
   "outputs": [],
   "source": []
  }
 ],
 "metadata": {
  "kernelspec": {
   "display_name": "groupshap",
   "language": "python",
   "name": "python3"
  },
  "language_info": {
   "codemirror_mode": {
    "name": "ipython",
    "version": 3
   },
   "file_extension": ".py",
   "mimetype": "text/x-python",
   "name": "python",
   "nbconvert_exporter": "python",
   "pygments_lexer": "ipython3",
   "version": "3.1.undefined"
  }
 },
 "nbformat": 4,
 "nbformat_minor": 2
}
