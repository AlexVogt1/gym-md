{
 "cells": [
  {
   "cell_type": "code",
   "execution_count": 1,
   "metadata": {},
   "outputs": [],
   "source": [
    "from sklearn.ensemble import RandomForestRegressor\n",
    "from sklearn.model_selection import train_test_split\n",
    "import torch\n",
    "import torch.nn as nn\n",
    "import torch.nn.functional as F\n",
    "from torch.optim import Adam\n",
    "from torch.utils.data import TensorDataset, DataLoader\n",
    "from shaprpy import explain\n",
    "from shaprpy.datasets import load_california_housing\n",
    "import gym\n",
    "import gym_md\n",
    "import shap\n",
    "import numpy as np\n",
    "import pandas as pd\n",
    "import matplotlib.pyplot as plt\n",
    "import seaborn as sns\n",
    "from stable_baselines3 import PPO, DQN\n",
    "from md_shap import gen_config, sb3Wrapper,sb3_DQN_wrapper,grid_sb3Wrapper\n",
    "from torch.autograd import Variable\n",
    "from torch import float32\n",
    "from stable_baselines3.common.policies import obs_as_tensor\n",
    "import plotly.express as px\n",
    "# !pip install nbformat"
   ]
  },
  {
   "cell_type": "markdown",
   "metadata": {},
   "source": [
    "### testing baseline group shaply stuff"
   ]
  },
  {
   "cell_type": "code",
   "execution_count": 2,
   "metadata": {},
   "outputs": [
    {
     "name": "stderr",
     "output_type": "stream",
     "text": [
      "R[write to console]: Note: Feature classes extracted from the model contains NA.\n",
      "Assuming feature classes from the data are correct.\n",
      "\n",
      "\n",
      "R[write to console]: Setting parameter 'n_batches' to 3 as a fair trade-off between memory consumption and computation time.\n",
      "Reducing 'n_batches' typically reduces the computation time at the cost of increased memory consumption.\n",
      "\n",
      "\n"
     ]
    },
    {
     "name": "stdout",
     "output_type": "stream",
     "text": [
      "<rpy2.rinterface.FloatSexpVector object at 0x7f791935ec10> [14]\n",
      "2\n"
     ]
    },
    {
     "name": "stderr",
     "output_type": "stream",
     "text": [
      "R[write to console]: Note: Feature classes extracted from the model contains NA.\n",
      "Assuming feature classes from the data are correct.\n",
      "\n",
      "\n",
      "R[write to console]: Setting parameter 'n_batches' to 2 as a fair trade-off between memory consumption and computation time.\n",
      "Reducing 'n_batches' typically reduces the computation time at the cost of increased memory consumption.\n",
      "\n",
      "\n"
     ]
    },
    {
     "name": "stdout",
     "output_type": "stream",
     "text": [
      "       none    MedInc  HouseAge  AveRooms  AveBedrms  Population  AveOccup  \\\n",
      "1  2.205938 -0.638997  0.059535 -0.126200   0.122853   -0.035189 -0.245537   \n",
      "2  2.205938 -0.492719  0.054243 -0.443464  -0.176448    0.005353  0.155610   \n",
      "3  2.205938  0.371507  0.457132 -0.068178  -0.153671    0.042983  0.882926   \n",
      "4  2.205938  0.250331 -0.057482  0.002069   0.118682   -0.163212 -0.144880   \n",
      "5  2.205938 -0.295431 -0.115986 -0.118234   0.170859    0.117183  0.017243   \n",
      "\n",
      "   Latitude  Longitude  \n",
      "1 -0.445366  -0.200767  \n",
      "2 -0.204744  -0.077479  \n",
      "3  0.114630   0.263610  \n",
      "4  0.122455   0.192450  \n",
      "5  0.071937   0.343202  \n",
      "<rpy2.rinterface.FloatSexpVector object at 0x7f79193a67d0> [14]\n",
      "2\n",
      "       none         A         B         C\n",
      "1  2.205937 -0.601485 -0.219854 -0.688328\n",
      "2  2.205938 -1.210752 -0.225443  0.256548\n",
      "3  2.205938  0.858072  0.612793  0.440074\n",
      "4  2.205938  0.105657 -0.033735  0.248491\n",
      "5  2.205938 -0.458672  0.046151  0.603293\n"
     ]
    },
    {
     "data": {
      "text/html": [
       "<div>\n",
       "<style scoped>\n",
       "    .dataframe tbody tr th:only-of-type {\n",
       "        vertical-align: middle;\n",
       "    }\n",
       "\n",
       "    .dataframe tbody tr th {\n",
       "        vertical-align: top;\n",
       "    }\n",
       "\n",
       "    .dataframe thead th {\n",
       "        text-align: right;\n",
       "    }\n",
       "</style>\n",
       "<table border=\"1\" class=\"dataframe\">\n",
       "  <thead>\n",
       "    <tr style=\"text-align: right;\">\n",
       "      <th></th>\n",
       "      <th>target</th>\n",
       "    </tr>\n",
       "  </thead>\n",
       "  <tbody>\n",
       "    <tr>\n",
       "      <th>20046</th>\n",
       "      <td>0.47700</td>\n",
       "    </tr>\n",
       "    <tr>\n",
       "      <th>3024</th>\n",
       "      <td>0.45800</td>\n",
       "    </tr>\n",
       "    <tr>\n",
       "      <th>15663</th>\n",
       "      <td>5.00001</td>\n",
       "    </tr>\n",
       "    <tr>\n",
       "      <th>20484</th>\n",
       "      <td>2.18600</td>\n",
       "    </tr>\n",
       "    <tr>\n",
       "      <th>9814</th>\n",
       "      <td>2.78000</td>\n",
       "    </tr>\n",
       "  </tbody>\n",
       "</table>\n",
       "</div>"
      ],
      "text/plain": [
       "        target\n",
       "20046  0.47700\n",
       "3024   0.45800\n",
       "15663  5.00001\n",
       "20484  2.18600\n",
       "9814   2.78000"
      ]
     },
     "execution_count": 2,
     "metadata": {},
     "output_type": "execute_result"
    }
   ],
   "source": [
    "from sklearn.ensemble import RandomForestRegressor\n",
    "from shaprpy import explain\n",
    "from shaprpy.datasets import load_california_housing\n",
    "\n",
    "dfx_train, dfx_test, dfy_train, dfy_test = load_california_housing()\n",
    "\n",
    "dfx_train\n",
    "\n",
    "## Fit model\n",
    "model = RandomForestRegressor(verbose=0)\n",
    "model.fit(dfx_train, dfy_train.values.flatten())\n",
    "\n",
    "## Shapr\n",
    "df_shapley, pred_explain, internal, timing = explain(\n",
    "    model = model,\n",
    "    x_train = dfx_train,\n",
    "    x_explain = dfx_test,\n",
    "    approach = 'empirical',\n",
    "    prediction_zero = dfy_train.mean().item(),\n",
    ")\n",
    "print(df_shapley)\n",
    "\n",
    "group = {'A': ['MedInc','HouseAge','AveRooms'],\n",
    "         'B': ['AveBedrms','Population','AveOccup'],\n",
    "         'C': ['Latitude','Longitude']}\n",
    "\n",
    "df_shapley_g, pred_explain_g, internal_g, timing_g = explain(\n",
    "    model = model,\n",
    "    x_train = dfx_train,\n",
    "    x_explain = dfx_test,\n",
    "    approach = 'empirical',\n",
    "    prediction_zero = dfy_train.mean().item(),\n",
    "    group = group\n",
    ")\n",
    "print(df_shapley_g)\n",
    "dfy_test"
   ]
  },
  {
   "cell_type": "code",
   "execution_count": 42,
   "metadata": {},
   "outputs": [
    {
     "name": "stderr",
     "output_type": "stream",
     "text": [
      "R[write to console]: Note: You passed a model to explain() which is not natively supported, and did not supply a 'get_model_specs' function to explain().\n",
      "Consistency checks between model and data is therefore disabled.\n",
      "\n",
      "\n",
      "R[write to console]: Setting parameter 'n_batches' to 3 as a fair trade-off between memory consumption and computation time.\n",
      "Reducing 'n_batches' typically reduces the computation time at the cost of increased memory consumption.\n",
      "\n",
      "\n"
     ]
    },
    {
     "name": "stdout",
     "output_type": "stream",
     "text": [
      "MyNeuralNet(\n",
      "  (lin0): Linear(in_features=8, out_features=128, bias=True)\n",
      "  (lin1): Linear(in_features=128, out_features=1, bias=True)\n",
      ")\n",
      "Training, epoch 1...\n",
      "Training, epoch 2...\n",
      "Training, epoch 3...\n",
      "Training, epoch 4...\n",
      "Training, epoch 5...\n",
      "<rpy2.rinterface.FloatSexpVector object at 0x7f91ad86f9d0> [14]\n",
      "2\n",
      "<class 'pandas.core.frame.DataFrame'>\n",
      "Index: 206 entries, 18343 to 15795\n",
      "Data columns (total 8 columns):\n",
      " #   Column      Non-Null Count  Dtype  \n",
      "---  ------      --------------  -----  \n",
      " 0   MedInc      206 non-null    float64\n",
      " 1   HouseAge    206 non-null    float64\n",
      " 2   AveRooms    206 non-null    float64\n",
      " 3   AveBedrms   206 non-null    float64\n",
      " 4   Population  206 non-null    float64\n",
      " 5   AveOccup    206 non-null    float64\n",
      " 6   Latitude    206 non-null    float64\n",
      " 7   Longitude   206 non-null    float64\n",
      "dtypes: float64(8)\n",
      "memory usage: 22.6 KB\n",
      "None\n",
      "       target\n",
      "18343   4.763\n",
      "19360   1.341\n",
      "8680    2.833\n",
      "18227   2.667\n",
      "1734    1.138\n",
      "...       ...\n",
      "11284   2.292\n",
      "11964   0.978\n",
      "5390    2.221\n",
      "860     2.835\n",
      "15795   3.250\n",
      "\n",
      "[206 rows x 1 columns]\n",
      "<class 'pandas.core.frame.DataFrame'>\n",
      "Index: 206 entries, 18343 to 15795\n",
      "Data columns (total 1 columns):\n",
      " #   Column  Non-Null Count  Dtype  \n",
      "---  ------  --------------  -----  \n",
      " 0   target  206 non-null    float64\n",
      "dtypes: float64(1)\n",
      "memory usage: 3.2 KB\n",
      "None\n",
      "<function <lambda> at 0x7f9189f52fc0>\n"
     ]
    },
    {
     "data": {
      "text/html": [
       "<div>\n",
       "<style scoped>\n",
       "    .dataframe tbody tr th:only-of-type {\n",
       "        vertical-align: middle;\n",
       "    }\n",
       "\n",
       "    .dataframe tbody tr th {\n",
       "        vertical-align: top;\n",
       "    }\n",
       "\n",
       "    .dataframe thead th {\n",
       "        text-align: right;\n",
       "    }\n",
       "</style>\n",
       "<table border=\"1\" class=\"dataframe\">\n",
       "  <thead>\n",
       "    <tr style=\"text-align: right;\">\n",
       "      <th></th>\n",
       "      <th>none</th>\n",
       "      <th>MedInc</th>\n",
       "      <th>HouseAge</th>\n",
       "      <th>AveRooms</th>\n",
       "      <th>AveBedrms</th>\n",
       "      <th>Population</th>\n",
       "      <th>AveOccup</th>\n",
       "      <th>Latitude</th>\n",
       "      <th>Longitude</th>\n",
       "    </tr>\n",
       "  </thead>\n",
       "  <tbody>\n",
       "    <tr>\n",
       "      <th>1</th>\n",
       "      <td>2.205950</td>\n",
       "      <td>4.036109</td>\n",
       "      <td>5.345496</td>\n",
       "      <td>5.743704</td>\n",
       "      <td>4.958375</td>\n",
       "      <td>3.382227</td>\n",
       "      <td>4.545994</td>\n",
       "      <td>3.026637</td>\n",
       "      <td>4.122832</td>\n",
       "    </tr>\n",
       "    <tr>\n",
       "      <th>2</th>\n",
       "      <td>2.205950</td>\n",
       "      <td>5.252039</td>\n",
       "      <td>5.702241</td>\n",
       "      <td>4.083750</td>\n",
       "      <td>4.238449</td>\n",
       "      <td>3.199204</td>\n",
       "      <td>5.879998</td>\n",
       "      <td>5.487187</td>\n",
       "      <td>3.703654</td>\n",
       "    </tr>\n",
       "    <tr>\n",
       "      <th>3</th>\n",
       "      <td>2.205949</td>\n",
       "      <td>4.840082</td>\n",
       "      <td>4.311369</td>\n",
       "      <td>5.691991</td>\n",
       "      <td>3.347365</td>\n",
       "      <td>3.563894</td>\n",
       "      <td>4.592269</td>\n",
       "      <td>4.825642</td>\n",
       "      <td>4.563850</td>\n",
       "    </tr>\n",
       "    <tr>\n",
       "      <th>4</th>\n",
       "      <td>2.205950</td>\n",
       "      <td>4.876310</td>\n",
       "      <td>6.888369</td>\n",
       "      <td>3.091987</td>\n",
       "      <td>4.684311</td>\n",
       "      <td>4.776395</td>\n",
       "      <td>4.889423</td>\n",
       "      <td>4.458900</td>\n",
       "      <td>4.743738</td>\n",
       "    </tr>\n",
       "    <tr>\n",
       "      <th>5</th>\n",
       "      <td>2.205950</td>\n",
       "      <td>4.763316</td>\n",
       "      <td>3.401271</td>\n",
       "      <td>3.082360</td>\n",
       "      <td>5.493106</td>\n",
       "      <td>-0.138213</td>\n",
       "      <td>5.627370</td>\n",
       "      <td>3.987965</td>\n",
       "      <td>4.986667</td>\n",
       "    </tr>\n",
       "  </tbody>\n",
       "</table>\n",
       "</div>"
      ],
      "text/plain": [
       "       none    MedInc  HouseAge  AveRooms  AveBedrms  Population  AveOccup  \\\n",
       "1  2.205950  4.036109  5.345496  5.743704   4.958375    3.382227  4.545994   \n",
       "2  2.205950  5.252039  5.702241  4.083750   4.238449    3.199204  5.879998   \n",
       "3  2.205949  4.840082  4.311369  5.691991   3.347365    3.563894  4.592269   \n",
       "4  2.205950  4.876310  6.888369  3.091987   4.684311    4.776395  4.889423   \n",
       "5  2.205950  4.763316  3.401271  3.082360   5.493106   -0.138213  5.627370   \n",
       "\n",
       "   Latitude  Longitude  \n",
       "1  3.026637   4.122832  \n",
       "2  5.487187   3.703654  \n",
       "3  4.825642   4.563850  \n",
       "4  4.458900   4.743738  \n",
       "5  3.987965   4.986667  "
      ]
     },
     "execution_count": 42,
     "metadata": {},
     "output_type": "execute_result"
    }
   ],
   "source": [
    "dfx_train, dfx_test, dfy_train, dfy_test = load_california_housing()\n",
    "\n",
    "## Fit model\n",
    "class MyNeuralNet(nn.Module):\n",
    "\n",
    "    def __init__(self, in_dim, hidden_dim):\n",
    "        super().__init__()\n",
    "        self.lin0 = nn.Linear(in_dim, hidden_dim)\n",
    "        self.lin1 = nn.Linear(hidden_dim, 1)\n",
    "\n",
    "    def forward(self, x):\n",
    "        x = self.lin0(x)\n",
    "        x = F.relu(x)\n",
    "        return self.lin1(x).squeeze(-1)\n",
    "\n",
    "data = TensorDataset(torch.from_numpy(dfx_train.values).float(), torch.from_numpy(dfy_train.values.flatten()).float())\n",
    "data_loader = DataLoader(data, batch_size=128, shuffle=True)\n",
    "model = MyNeuralNet(dfx_train.shape[-1], hidden_dim=128)\n",
    "print(model)\n",
    "optim = Adam(model.parameters(), lr=1e-3)\n",
    "\n",
    "for epoch in range(5):\n",
    "    print(f'Training, epoch {epoch+1}...')\n",
    "    for x, y in data_loader:\n",
    "        p = model(x)\n",
    "        loss = F.mse_loss(p, y)\n",
    "        loss.backward()\n",
    "        optim.step()\n",
    "        optim.zero_grad()\n",
    "\n",
    "## Shapr\n",
    "df_shapley, pred_explain, internal, timing = explain(\n",
    "    model = model,\n",
    "    x_train = dfx_train,\n",
    "    x_explain = dfx_test,\n",
    "    approach = 'empirical',\n",
    "    predict_model = lambda m, x: m(torch.from_numpy(x.values).float()).cpu().detach().numpy(),\n",
    "    prediction_zero = dfy_train.mean().item(),\n",
    ")\n",
    "# print(df_shapley)\n",
    "print(dfx_train.info())\n",
    "print(dfy_train)\n",
    "print(dfy_train.info())\n",
    "m = model\n",
    "x = dfx_train.iloc[0]\n",
    "print(lambda m, x: m(torch.from_numpy(x.values).float()).cpu().detach().numpy())\n",
    "df_shapley"
   ]
  },
  {
   "cell_type": "markdown",
   "metadata": {},
   "source": [
    "## My groupShap stuff"
   ]
  },
  {
   "cell_type": "markdown",
   "metadata": {},
   "source": [
    "### Functions"
   ]
  },
  {
   "cell_type": "markdown",
   "metadata": {},
   "source": [
    "##### Old Model stuff"
   ]
  },
  {
   "cell_type": "code",
   "execution_count": 2,
   "metadata": {},
   "outputs": [],
   "source": [
    "\n",
    "class sb3Wrapper(nn.Module):\n",
    "    def __init__(self, model):\n",
    "        super(sb3Wrapper,self).__init__()\n",
    "        self.extractor = model.policy.mlp_extractor\n",
    "        self.policy_net = model.policy.mlp_extractor.policy_net\n",
    "        self.action_net = model.policy.action_net\n",
    "\n",
    "    def forward(self,x):\n",
    "        x = self.policy_net(x)\n",
    "        x = self.action_net(x)\n",
    "        return x\n",
    "    \n",
    "def gen_data(config):   \n",
    "    print('----------Generating Data----------')\n",
    "    \n",
    "    # set variables\n",
    "    data =[]\n",
    "    action_type = config['action_type']\n",
    "    exp_type =config['exp_type']\n",
    "    lvl = config['lvl']\n",
    "    play_style= config['play_style']\n",
    "    reward_scheme=config['reward_scheme']\n",
    "    algo= config['learning_algo']\n",
    "    path = config['exp_path']\n",
    "\n",
    "    if action_type == 'switch':\n",
    "        exp = f\"{action_type}-{lvl}_{play_style}_{reward_scheme}_{exp_type}_{algo}\"\n",
    "        env = gym.make(f\"md-switch-{lvl}-v0\",config=config)\n",
    "    elif config['obs_type'] =='grid':\n",
    "        exp = f\"{action_type}-{lvl}_{play_style}_{reward_scheme}_{exp_type}_{algo}\"\n",
    "        env = gym.make(f\"md-switch-{lvl}-v0\",config=config)\n",
    "    else:\n",
    "        env = gym.make(f\"md-{lvl}-v0\")\n",
    "        exp = f\"{lvl}_{play_style}_{reward_scheme}_{exp_type}\"\n",
    "\n",
    "\n",
    "    env.setting.IS_ENEMY_POWER_RANDOM =False\n",
    "    if play_style=='killer':\n",
    "        env.setting.PLAYER_MAX_HP = 10000\n",
    "\n",
    "    print(exp)\n",
    "    if action_type =='base':\n",
    "        model = PPO.load(f\"{path}/{play_style}.zip\")  # loading the model from ppo_cartpole.zip \n",
    "    elif action_type == 'path':\n",
    "        model = PPO.load(f\"logs/{path}/{exp}/best_model/best_model\") \n",
    "    elif algo == 'DQN':\n",
    "        model = DQN.load(f\"logs/{path}/{exp}/{play_style}/best_model\")  # loading the model from ppo_cartpole.zip \n",
    "    else:\n",
    "        model = PPO.load(f\"logs/{path}/{exp}/{play_style}/best_model\")  # loading the model from ppo_cartpole.zip \n",
    "                                                                                     \n",
    "    curr_obs = env.reset()  \n",
    "    curr_grid = np.array(env.grid.g)\n",
    "    # data.append([exp, lvl, 0, -1, env.agent.x, env.agent.y, env.agent.hp, start_grid, play_style, \"NO_ACTION\",curr_obs, curr_obs, False, 0, dict(env.info),start_grid.shape[0],start_grid.shape[1]])\n",
    "\n",
    "    for ep in range(5):                                                                    \n",
    "        for i in range(1000): \n",
    "            agent_x = env.agent.x\n",
    "            agent_y = env.agent.y\n",
    "            agent_hp = env.agent.hp                                                                  \n",
    "            action, _state = model.predict(curr_obs, deterministic=True) \n",
    "            action = action.tolist()                  \n",
    "            obs, reward, done, info = env.step(action) \n",
    "            grid= np.array(env.grid.g)  \n",
    "            data.append([exp, lvl, ep,i, agent_x, agent_y, agent_hp, curr_grid,grid, play_style, info['action_taken'],curr_obs, obs, done, reward, dict(info),grid.shape[0],grid.shape[1]])\n",
    "                                                \n",
    "            # env.render(mode='human')                                                                        \n",
    "            if done:                                                                            \n",
    "                obs = env.reset()\n",
    "                break\n",
    "\n",
    "            curr_obs= obs\n",
    "            curr_grid = grid\n",
    "                \n",
    "    return data\n",
    "\n",
    "def merge_data(data_list, type:str):\n",
    "    data = None\n",
    "    if type == 'array':\n",
    "        # print(data_list[0])\n",
    "        data = np.asarray(data_list[0],dtype=\"object\")\n",
    "        for i in range(1,len(data_list)):\n",
    "            data = np.concatenate((data,np.asarray(data_list[i],dtype=\"object\")))\n",
    "    elif type == 'dataframe':\n",
    "        data = pd.concat(data_list,ignore_index=True)\n",
    "    else:\n",
    "        assert(\"data needs to be array or dataframe\")\n",
    "    return data\n",
    "\n",
    "def prep_data(df):\n",
    "    obs_names = ['DM', 'DT', 'SDT', 'DP', 'SDP', 'DE', 'SDE', 'HP']\n",
    "    # need train and test data, train will be used in the train param and test will be used in explain param\n",
    "    # first get data into right format\n",
    "    data = df[['curr_obs','action']]\n",
    "    data[obs_names] = pd.DataFrame(data.curr_obs.tolist(), index= data.index)\n",
    "    # Split data \n",
    "    dfx_train, dfx_test,dfy_train,dfy_test = train_test_split(data[obs_names],data['action'], random_state=42, test_size=5)\n",
    "    return dfx_train, dfx_test, data\n",
    "\n",
    "def gen_analysis_data(lvl_list):\n",
    "    #take in list of levels and the loothrough them\n",
    "    df_list = []\n",
    "    df_data_list = []\n",
    "    df_shap_list= []\n",
    "    data_list = []\n",
    "    for lvl in lvl_list:\n",
    "        configs = gen_config(lvl =lvl,algo =\"PPO\",obs_type=\"distance\", exp_type=\"switch_analysis\",switch_path=\"switching_analysis/\",base_path=\"./play_style_models/base/\")\n",
    "        for config in configs[0:6]:\n",
    "            data =gen_data(config)\n",
    "            df = pd.DataFrame(data, columns=['experiment','level','run','step','x','y','hp','curr_grid','grid','play_style','action','curr_obs','observation','done','reward','info','grid_rows','grid_columns'])\n",
    "            data_list.append(data)\n",
    "            df_list.append(df)\n",
    "    \n",
    "    #TODO add code to merge the data list and df list into one data array and one df\n",
    "    # merge data \n",
    "    game_data = merge_data(data_list, type =\"array\")\n",
    "    df_data = merge_data(df_list,type=\"dataframe\")\n",
    "\n",
    "    # format data\n",
    "    df_train, df_test ,simp_data= prep_data(df_data)\n",
    "\n",
    "    #TODO remember to unshuffle data when merging shap to orig data\n",
    "    return game_data, df_data, df_train, df_test, simp_data\n",
    "\n",
    "def gen_groupshap_data(lvl_list,df,explainer_type:str):\n",
    "    # take in data and level list\n",
    "    # for each level gen config\n",
    "    df_data = []\n",
    "    for lvl in lvl_list:\n",
    "        configs = gen_config(lvl =lvl,algo =\"PPO\",obs_type=\"distance\", exp_type=\"switch_analysis\",switch_path=\"switching_analysis/\",base_path=\"./play_style_models/base/\")\n",
    "        for config in configs[0:6]:\n",
    "            algo =config['learning_algo']\n",
    "            path = config['exp_path']\n",
    "            #seperate dataframe based on config\n",
    "            print(config['play_style'])\n",
    "            df_curr = df.loc[(df['level']== lvl) & (df['play_style']== config['play_style'])]\n",
    "\n",
    "            # format data\n",
    "            df_train, df_test ,simp_data= prep_data(df_curr)#TODO need convert back to dataframe alos check why they are not same type as input shap\n",
    "\n",
    "            #create correct model\n",
    "            if config['action_type'] == \"switch\":\n",
    "                exp = f\"{config['action_type']}-{lvl}_{config['play_style']}_{config['reward_scheme']}_{config['exp_type']}_{algo}\"\n",
    "                model_path = f\"logs/{path}/{exp}/{config['play_style']}/best_model\"\n",
    "            else:\n",
    "                exp = f\"{lvl}_{config['play_style']}_{config['reward_scheme']}_{config['exp_type']}\"\n",
    "                model_path = f\"logs/{path}/{exp}/best_model/best_model\"\n",
    "\n",
    "            if algo ==\"PPO\":\n",
    "                model = PPO.load(model_path, device='cuda')\n",
    "            elif config.algo =='DQN':\n",
    "                model = DQN.load(model_path, device='cuda')\n",
    "            state_log = np.array(df_curr['curr_obs'].values.tolist())\n",
    "            # data =torch.FloatTensor(state_log).to('cuda')\n",
    "            # print(model.policy)\n",
    "            # print(model.policy.q_net.q_net)\n",
    "            if config['obs_type']== 'grid':\n",
    "                model = grid_sb3Wrapper(model)\n",
    "            elif algo =='PPO':\n",
    "                model = sb3Wrapper(model)\n",
    "            elif algo == 'DQN':\n",
    "                model = sb3_DQN_wrapper(model)\n",
    "            \n",
    "            #generate the y data\n",
    "            f = lambda x: model.forward(Variable(torch.from_numpy(x),requires_grad=False).to(float32).cuda()).detach().cpu().numpy()\n",
    "            dfy_train = df_curr['curr_obs'].apply(lambda x: model.forward(Variable(torch.from_numpy(x),requires_grad=False).to(float32)).detach().cpu().numpy())\n",
    "            print(dfy_train)\n",
    "            print(dfy_train.mean())\n",
    "            if explainer_type == \"kernel\":\n",
    "                df_shapley, pred_explain, internal, timing = explain(\n",
    "                    model=model,\n",
    "                    x_train=df_train,\n",
    "                    x_explain=df_train,\n",
    "                    approach='emperical',\n",
    "                    predict_model= lambda x: model.forward(Variable(torch.from_numpy(x.values),requires_grad=False).to(float32)).detach().cpu().numpy(),\n",
    "                    prediction_zero=dfy_train.mean(),\n",
    "                    output_size=4\n",
    "                )\n",
    "                f = lambda x: model.forward(Variable(torch.from_numpy(x),requires_grad=False).to(float32).cuda()).detach().cpu().numpy()\n",
    "            else:\n",
    "                explainer = shap.DeepExplainer(model, data)\n",
    "                shap_vals= explainer.shap_values(data,check_additivity=True)\n",
    "            # make agent model\n",
    "            # extract correspoding dataframe\n",
    "            # gen groupshap values for that config\n",
    "            # add to dataframe"
   ]
  },
  {
   "cell_type": "code",
   "execution_count": 4,
   "metadata": {},
   "outputs": [
    {
     "name": "stdout",
     "output_type": "stream",
     "text": [
      "----------Generating Data----------\n",
      "{'action_type': 'switch', 'action_space_type': 'discrete', 'obs_type': 'distance', 'lvl': 'hard', 'play_style': 'switch', 'reward_scheme': 'switch', 'exp_type': 'switch_analysis', 'learning_algo': 'PPO', 'exp_path': 'switching_analysis/', 'base_path': './play_style_models/base/'}\n",
      "switch-hard_switch_switch_switch_analysis_PPO\n",
      "----------Generating Data----------\n",
      "{'action_type': 'switch', 'action_space_type': 'discrete', 'obs_type': 'distance', 'lvl': 'hard', 'play_style': 'hard', 'reward_scheme': 'hard', 'exp_type': 'switch_analysis', 'learning_algo': 'PPO', 'exp_path': 'switching_analysis/', 'base_path': './play_style_models/base/'}\n",
      "switch-hard_hard_hard_switch_analysis_PPO\n",
      "----------Generating Data----------\n",
      "{'action_type': 'switch', 'action_space_type': 'discrete', 'obs_type': 'distance', 'lvl': 'hard', 'play_style': 'treasure', 'reward_scheme': 'treasure', 'exp_type': 'switch_analysis', 'learning_algo': 'PPO', 'exp_path': 'switching_analysis/', 'base_path': './play_style_models/base/'}\n",
      "switch-hard_treasure_treasure_switch_analysis_PPO\n",
      "----------Generating Data----------\n",
      "{'action_type': 'switch', 'action_space_type': 'discrete', 'obs_type': 'distance', 'lvl': 'hard', 'play_style': 'killer', 'reward_scheme': 'killer', 'exp_type': 'switch_analysis', 'learning_algo': 'PPO', 'exp_path': 'switching_analysis/', 'base_path': './play_style_models/base/'}\n",
      "switch-hard_killer_killer_switch_analysis_PPO\n",
      "----------Generating Data----------\n",
      "{'action_type': 'switch', 'action_space_type': 'discrete', 'obs_type': 'distance', 'lvl': 'hard', 'play_style': 'potion', 'reward_scheme': 'potion', 'exp_type': 'switch_analysis', 'learning_algo': 'PPO', 'exp_path': 'switching_analysis/', 'base_path': './play_style_models/base/'}\n",
      "switch-hard_potion_potion_switch_analysis_PPO\n",
      "----------Generating Data----------\n",
      "{'action_type': 'switch', 'action_space_type': 'discrete', 'obs_type': 'distance', 'lvl': 'hard', 'play_style': 'runner', 'reward_scheme': 'runner', 'exp_type': 'switch_analysis', 'learning_algo': 'PPO', 'exp_path': 'switching_analysis/', 'base_path': './play_style_models/base/'}\n",
      "switch-hard_runner_runner_switch_analysis_PPO\n"
     ]
    }
   ],
   "source": [
    "lvl_list =[\n",
    "    \"hard\",\n",
    "    # \"check_1\",\n",
    "    # \"holmgard_0\",\n",
    "    # \"holmgard_1\",\n",
    "    # \"holmgard_2\",\n",
    "    # \"holmgard_3\",\n",
    "    # \"holmgard_4\",\n",
    "    # \"holmgard_5\",\n",
    "    # \"holmgard_6\",\n",
    "    # \"holmgard_7\",\n",
    "    # # # \"holmgard_8\",\n",
    "    # \"holmgard_9\",\n",
    "]\n",
    "\n",
    "game_data, df_data, df_train, df_test, simp_data =gen_analysis_data(lvl_list)"
   ]
  },
  {
   "cell_type": "code",
   "execution_count": 5,
   "metadata": {},
   "outputs": [
    {
     "name": "stdout",
     "output_type": "stream",
     "text": [
      "switch\n",
      "0       [-1.4176838, -1.3527068, -2.507051, 4.5917835]\n",
      "1      [-1.4181141, -1.3475486, -2.5040288, 4.5851736]\n",
      "2       [-1.3892903, -1.4377325, -2.5450811, 4.675839]\n",
      "3       [-1.3904492, -1.4365312, -2.5449631, 4.675533]\n",
      "4       [-1.3923558, -1.434432, -2.5446928, 4.6748605]\n",
      "                            ...                       \n",
      "405    [3.080767, -1.3820097, 0.27153894, -0.96458954]\n",
      "406     [3.080767, -1.3820099, 0.2715389, -0.96458954]\n",
      "407     [3.080767, -1.3820099, 0.2715389, -0.96458954]\n",
      "408    [3.080767, -1.3820099, 0.27153888, -0.96458954]\n",
      "409     [3.080767, -1.3820099, 0.2715389, -0.96458954]\n",
      "Name: curr_obs, Length: 410, dtype: object\n",
      "[ 0.7375278 -1.5325549 -1.4994874  2.3702395]\n"
     ]
    },
    {
     "ename": "NotImplementedError",
     "evalue": "Conversion 'py2rpy' not defined for objects of type '<class 'numpy.ndarray'>'",
     "output_type": "error",
     "traceback": [
      "\u001b[0;31m---------------------------------------------------------------------------\u001b[0m",
      "\u001b[0;31mNotImplementedError\u001b[0m                       Traceback (most recent call last)",
      "Cell \u001b[0;32mIn[5], line 1\u001b[0m\n\u001b[0;32m----> 1\u001b[0m \u001b[43mgen_groupshap_data\u001b[49m\u001b[43m(\u001b[49m\u001b[43mlvl_list\u001b[49m\u001b[43m,\u001b[49m\u001b[43mdf_data\u001b[49m\u001b[43m,\u001b[49m\u001b[38;5;124;43m\"\u001b[39;49m\u001b[38;5;124;43mkernel\u001b[39;49m\u001b[38;5;124;43m\"\u001b[39;49m\u001b[43m)\u001b[49m\n",
      "Cell \u001b[0;32mIn[3], line 169\u001b[0m, in \u001b[0;36mgen_groupshap_data\u001b[0;34m(lvl_list, df, explainer_type)\u001b[0m\n\u001b[1;32m    167\u001b[0m \u001b[38;5;28mprint\u001b[39m(dfy_train\u001b[38;5;241m.\u001b[39mmean())\n\u001b[1;32m    168\u001b[0m \u001b[38;5;28;01mif\u001b[39;00m explainer_type \u001b[38;5;241m==\u001b[39m \u001b[38;5;124m\"\u001b[39m\u001b[38;5;124mkernel\u001b[39m\u001b[38;5;124m\"\u001b[39m:\n\u001b[0;32m--> 169\u001b[0m     df_shapley, pred_explain, internal, timing \u001b[38;5;241m=\u001b[39m \u001b[43mexplain\u001b[49m\u001b[43m(\u001b[49m\n\u001b[1;32m    170\u001b[0m \u001b[43m        \u001b[49m\u001b[43mmodel\u001b[49m\u001b[38;5;241;43m=\u001b[39;49m\u001b[43mmodel\u001b[49m\u001b[43m,\u001b[49m\n\u001b[1;32m    171\u001b[0m \u001b[43m        \u001b[49m\u001b[43mx_train\u001b[49m\u001b[38;5;241;43m=\u001b[39;49m\u001b[43mdf_train\u001b[49m\u001b[43m,\u001b[49m\n\u001b[1;32m    172\u001b[0m \u001b[43m        \u001b[49m\u001b[43mx_explain\u001b[49m\u001b[38;5;241;43m=\u001b[39;49m\u001b[43mdf_train\u001b[49m\u001b[43m,\u001b[49m\n\u001b[1;32m    173\u001b[0m \u001b[43m        \u001b[49m\u001b[43mapproach\u001b[49m\u001b[38;5;241;43m=\u001b[39;49m\u001b[38;5;124;43m'\u001b[39;49m\u001b[38;5;124;43memperical\u001b[39;49m\u001b[38;5;124;43m'\u001b[39;49m\u001b[43m,\u001b[49m\n\u001b[1;32m    174\u001b[0m \u001b[43m        \u001b[49m\u001b[43mpredict_model\u001b[49m\u001b[38;5;241;43m=\u001b[39;49m\u001b[43m \u001b[49m\u001b[38;5;28;43;01mlambda\u001b[39;49;00m\u001b[43m \u001b[49m\u001b[43mx\u001b[49m\u001b[43m:\u001b[49m\u001b[43m \u001b[49m\u001b[43mmodel\u001b[49m\u001b[38;5;241;43m.\u001b[39;49m\u001b[43mforward\u001b[49m\u001b[43m(\u001b[49m\u001b[43mVariable\u001b[49m\u001b[43m(\u001b[49m\u001b[43mtorch\u001b[49m\u001b[38;5;241;43m.\u001b[39;49m\u001b[43mfrom_numpy\u001b[49m\u001b[43m(\u001b[49m\u001b[43mx\u001b[49m\u001b[38;5;241;43m.\u001b[39;49m\u001b[43mvalues\u001b[49m\u001b[43m)\u001b[49m\u001b[43m,\u001b[49m\u001b[43mrequires_grad\u001b[49m\u001b[38;5;241;43m=\u001b[39;49m\u001b[38;5;28;43;01mFalse\u001b[39;49;00m\u001b[43m)\u001b[49m\u001b[38;5;241;43m.\u001b[39;49m\u001b[43mto\u001b[49m\u001b[43m(\u001b[49m\u001b[43mfloat32\u001b[49m\u001b[43m)\u001b[49m\u001b[43m)\u001b[49m\u001b[38;5;241;43m.\u001b[39;49m\u001b[43mdetach\u001b[49m\u001b[43m(\u001b[49m\u001b[43m)\u001b[49m\u001b[38;5;241;43m.\u001b[39;49m\u001b[43mcpu\u001b[49m\u001b[43m(\u001b[49m\u001b[43m)\u001b[49m\u001b[38;5;241;43m.\u001b[39;49m\u001b[43mnumpy\u001b[49m\u001b[43m(\u001b[49m\u001b[43m)\u001b[49m\u001b[43m,\u001b[49m\n\u001b[1;32m    175\u001b[0m \u001b[43m        \u001b[49m\u001b[43mprediction_zero\u001b[49m\u001b[38;5;241;43m=\u001b[39;49m\u001b[43mdfy_train\u001b[49m\u001b[38;5;241;43m.\u001b[39;49m\u001b[43mmean\u001b[49m\u001b[43m(\u001b[49m\u001b[43m)\u001b[49m\u001b[43m,\u001b[49m\n\u001b[1;32m    176\u001b[0m \u001b[43m        \u001b[49m\u001b[43moutput_size\u001b[49m\u001b[38;5;241;43m=\u001b[39;49m\u001b[38;5;241;43m4\u001b[39;49m\n\u001b[1;32m    177\u001b[0m \u001b[43m    \u001b[49m\u001b[43m)\u001b[49m\n\u001b[1;32m    178\u001b[0m     f \u001b[38;5;241m=\u001b[39m \u001b[38;5;28;01mlambda\u001b[39;00m x: model\u001b[38;5;241m.\u001b[39mforward(Variable(torch\u001b[38;5;241m.\u001b[39mfrom_numpy(x),requires_grad\u001b[38;5;241m=\u001b[39m\u001b[38;5;28;01mFalse\u001b[39;00m)\u001b[38;5;241m.\u001b[39mto(float32)\u001b[38;5;241m.\u001b[39mcuda())\u001b[38;5;241m.\u001b[39mdetach()\u001b[38;5;241m.\u001b[39mcpu()\u001b[38;5;241m.\u001b[39mnumpy()\n\u001b[1;32m    179\u001b[0m \u001b[38;5;28;01melse\u001b[39;00m:\n",
      "File \u001b[0;32m~/Masters/gym-md/shapr/python/shaprpy/explain.py:120\u001b[0m, in \u001b[0;36mexplain\u001b[0;34m(model, x_explain, x_train, approach, prediction_zero, n_combinations, group, n_samples, n_batches, seed, keep_samp_for_vS, predict_model, get_model_specs, timing, output_size, verbose)\u001b[0m\n\u001b[1;32m    117\u001b[0m \u001b[38;5;28;01melse\u001b[39;00m:\n\u001b[1;32m    118\u001b[0m   r_group \u001b[38;5;241m=\u001b[39m ListVector({key: StrVector(value) \u001b[38;5;28;01mfor\u001b[39;00m key, value \u001b[38;5;129;01min\u001b[39;00m group\u001b[38;5;241m.\u001b[39mitems()})\n\u001b[0;32m--> 120\u001b[0m rinternal \u001b[38;5;241m=\u001b[39m \u001b[43mshapr\u001b[49m\u001b[38;5;241;43m.\u001b[39;49m\u001b[43msetup\u001b[49m\u001b[43m(\u001b[49m\n\u001b[1;32m    121\u001b[0m \u001b[43m    \u001b[49m\u001b[43mx_train\u001b[49m\u001b[43m \u001b[49m\u001b[38;5;241;43m=\u001b[39;49m\u001b[43m \u001b[49m\u001b[43mpy2r\u001b[49m\u001b[43m(\u001b[49m\u001b[43mx_train\u001b[49m\u001b[43m)\u001b[49m\u001b[43m,\u001b[49m\n\u001b[1;32m    122\u001b[0m \u001b[43m    \u001b[49m\u001b[43mx_explain\u001b[49m\u001b[43m \u001b[49m\u001b[38;5;241;43m=\u001b[39;49m\u001b[43m \u001b[49m\u001b[43mpy2r\u001b[49m\u001b[43m(\u001b[49m\u001b[43mx_explain\u001b[49m\u001b[43m)\u001b[49m\u001b[43m,\u001b[49m\n\u001b[1;32m    123\u001b[0m \u001b[43m    \u001b[49m\u001b[43mapproach\u001b[49m\u001b[43m \u001b[49m\u001b[38;5;241;43m=\u001b[39;49m\u001b[43m \u001b[49m\u001b[43mapproach\u001b[49m\u001b[43m,\u001b[49m\n\u001b[1;32m    124\u001b[0m \u001b[43m    \u001b[49m\u001b[43mprediction_zero\u001b[49m\u001b[43m \u001b[49m\u001b[38;5;241;43m=\u001b[39;49m\u001b[43m \u001b[49m\u001b[43mprediction_zero\u001b[49m\u001b[43m,\u001b[49m\n\u001b[1;32m    125\u001b[0m \u001b[43m    \u001b[49m\u001b[43mn_combinations\u001b[49m\u001b[43m \u001b[49m\u001b[38;5;241;43m=\u001b[39;49m\u001b[43m \u001b[49m\u001b[43mmaybe_null\u001b[49m\u001b[43m(\u001b[49m\u001b[43mn_combinations\u001b[49m\u001b[43m)\u001b[49m\u001b[43m,\u001b[49m\n\u001b[1;32m    126\u001b[0m \u001b[43m    \u001b[49m\u001b[43mgroup\u001b[49m\u001b[43m \u001b[49m\u001b[38;5;241;43m=\u001b[39;49m\u001b[43m \u001b[49m\u001b[43mr_group\u001b[49m\u001b[43m,\u001b[49m\n\u001b[1;32m    127\u001b[0m \u001b[43m    \u001b[49m\u001b[43mn_samples\u001b[49m\u001b[43m \u001b[49m\u001b[38;5;241;43m=\u001b[39;49m\u001b[43m \u001b[49m\u001b[43mn_samples\u001b[49m\u001b[43m,\u001b[49m\n\u001b[1;32m    128\u001b[0m \u001b[43m    \u001b[49m\u001b[43mn_batches\u001b[49m\u001b[43m \u001b[49m\u001b[38;5;241;43m=\u001b[39;49m\u001b[43m \u001b[49m\u001b[43mmaybe_null\u001b[49m\u001b[43m(\u001b[49m\u001b[43mn_batches\u001b[49m\u001b[43m)\u001b[49m\u001b[43m,\u001b[49m\n\u001b[1;32m    129\u001b[0m \u001b[43m    \u001b[49m\u001b[43mseed\u001b[49m\u001b[43m \u001b[49m\u001b[38;5;241;43m=\u001b[39;49m\u001b[43m \u001b[49m\u001b[43mseed\u001b[49m\u001b[43m,\u001b[49m\n\u001b[1;32m    130\u001b[0m \u001b[43m    \u001b[49m\u001b[43mkeep_samp_for_vS\u001b[49m\u001b[43m \u001b[49m\u001b[38;5;241;43m=\u001b[39;49m\u001b[43m \u001b[49m\u001b[43mkeep_samp_for_vS\u001b[49m\u001b[43m,\u001b[49m\n\u001b[1;32m    131\u001b[0m \u001b[43m    \u001b[49m\u001b[43mfeature_specs\u001b[49m\u001b[43m \u001b[49m\u001b[38;5;241;43m=\u001b[39;49m\u001b[43m \u001b[49m\u001b[43mrfeature_specs\u001b[49m\u001b[43m,\u001b[49m\n\u001b[1;32m    132\u001b[0m \u001b[43m    \u001b[49m\u001b[43mtiming\u001b[49m\u001b[43m \u001b[49m\u001b[38;5;241;43m=\u001b[39;49m\u001b[43m \u001b[49m\u001b[43mtiming\u001b[49m\u001b[43m,\u001b[49m\n\u001b[1;32m    133\u001b[0m \u001b[43m    \u001b[49m\u001b[43mis_python\u001b[49m\u001b[38;5;241;43m=\u001b[39;49m\u001b[38;5;28;43;01mTrue\u001b[39;49;00m\u001b[43m,\u001b[49m\n\u001b[1;32m    134\u001b[0m \u001b[43m    \u001b[49m\u001b[43mverbose\u001b[49m\u001b[43m \u001b[49m\u001b[38;5;241;43m=\u001b[39;49m\u001b[43m \u001b[49m\u001b[38;5;241;43m1\u001b[39;49m\u001b[43m,\u001b[49m\n\u001b[1;32m    135\u001b[0m \u001b[43m    \u001b[49m\u001b[43moutput_size\u001b[49m\u001b[38;5;241;43m=\u001b[39;49m\u001b[43moutput_size\u001b[49m\n\u001b[1;32m    136\u001b[0m \u001b[43m\u001b[49m\u001b[43m)\u001b[49m\n\u001b[1;32m    138\u001b[0m timing_list[\u001b[38;5;124m\"\u001b[39m\u001b[38;5;124msetup\u001b[39m\u001b[38;5;124m\"\u001b[39m] \u001b[38;5;241m=\u001b[39m datetime\u001b[38;5;241m.\u001b[39mnow()\n\u001b[1;32m    140\u001b[0m predict_model \u001b[38;5;241m=\u001b[39m get_predict_model(\n\u001b[1;32m    141\u001b[0m   x_test \u001b[38;5;241m=\u001b[39m x_train\u001b[38;5;241m.\u001b[39mhead(\u001b[38;5;241m2\u001b[39m),\n\u001b[1;32m    142\u001b[0m   predict_model \u001b[38;5;241m=\u001b[39m predict_model,\n\u001b[1;32m    143\u001b[0m   model \u001b[38;5;241m=\u001b[39m model,\n\u001b[1;32m    144\u001b[0m )\n",
      "File \u001b[0;32m~/anaconda3/envs/groupshap/lib/python3.12/site-packages/rpy2/robjects/functions.py:208\u001b[0m, in \u001b[0;36mSignatureTranslatedFunction.__call__\u001b[0;34m(self, *args, **kwargs)\u001b[0m\n\u001b[1;32m    206\u001b[0m         v \u001b[38;5;241m=\u001b[39m kwargs\u001b[38;5;241m.\u001b[39mpop(k)\n\u001b[1;32m    207\u001b[0m         kwargs[r_k] \u001b[38;5;241m=\u001b[39m v\n\u001b[0;32m--> 208\u001b[0m \u001b[38;5;28;01mreturn\u001b[39;00m (\u001b[38;5;28;43msuper\u001b[39;49m\u001b[43m(\u001b[49m\u001b[43mSignatureTranslatedFunction\u001b[49m\u001b[43m,\u001b[49m\u001b[43m \u001b[49m\u001b[38;5;28;43mself\u001b[39;49m\u001b[43m)\u001b[49m\n\u001b[1;32m    209\u001b[0m \u001b[43m        \u001b[49m\u001b[38;5;241;43m.\u001b[39;49m\u001b[38;5;21;43m__call__\u001b[39;49m\u001b[43m(\u001b[49m\u001b[38;5;241;43m*\u001b[39;49m\u001b[43margs\u001b[49m\u001b[43m,\u001b[49m\u001b[43m \u001b[49m\u001b[38;5;241;43m*\u001b[39;49m\u001b[38;5;241;43m*\u001b[39;49m\u001b[43mkwargs\u001b[49m\u001b[43m)\u001b[49m)\n",
      "File \u001b[0;32m~/anaconda3/envs/groupshap/lib/python3.12/site-packages/rpy2/robjects/functions.py:130\u001b[0m, in \u001b[0;36mFunction.__call__\u001b[0;34m(self, *args, **kwargs)\u001b[0m\n\u001b[1;32m    128\u001b[0m         new_kwargs[k] \u001b[38;5;241m=\u001b[39m v\n\u001b[1;32m    129\u001b[0m     \u001b[38;5;28;01melse\u001b[39;00m:\n\u001b[0;32m--> 130\u001b[0m         new_kwargs[k] \u001b[38;5;241m=\u001b[39m \u001b[43mcv\u001b[49m\u001b[38;5;241;43m.\u001b[39;49m\u001b[43mpy2rpy\u001b[49m\u001b[43m(\u001b[49m\u001b[43mv\u001b[49m\u001b[43m)\u001b[49m\n\u001b[1;32m    131\u001b[0m res \u001b[38;5;241m=\u001b[39m \u001b[38;5;28msuper\u001b[39m(Function, \u001b[38;5;28mself\u001b[39m)\u001b[38;5;241m.\u001b[39m\u001b[38;5;21m__call__\u001b[39m(\u001b[38;5;241m*\u001b[39mnew_args, \u001b[38;5;241m*\u001b[39m\u001b[38;5;241m*\u001b[39mnew_kwargs)\n\u001b[1;32m    132\u001b[0m res \u001b[38;5;241m=\u001b[39m cv\u001b[38;5;241m.\u001b[39mrpy2py(res)\n",
      "File \u001b[0;32m~/anaconda3/envs/groupshap/lib/python3.12/functools.py:909\u001b[0m, in \u001b[0;36msingledispatch.<locals>.wrapper\u001b[0;34m(*args, **kw)\u001b[0m\n\u001b[1;32m    905\u001b[0m \u001b[38;5;28;01mif\u001b[39;00m \u001b[38;5;129;01mnot\u001b[39;00m args:\n\u001b[1;32m    906\u001b[0m     \u001b[38;5;28;01mraise\u001b[39;00m \u001b[38;5;167;01mTypeError\u001b[39;00m(\u001b[38;5;124mf\u001b[39m\u001b[38;5;124m'\u001b[39m\u001b[38;5;132;01m{\u001b[39;00mfuncname\u001b[38;5;132;01m}\u001b[39;00m\u001b[38;5;124m requires at least \u001b[39m\u001b[38;5;124m'\u001b[39m\n\u001b[1;32m    907\u001b[0m                     \u001b[38;5;124m'\u001b[39m\u001b[38;5;124m1 positional argument\u001b[39m\u001b[38;5;124m'\u001b[39m)\n\u001b[0;32m--> 909\u001b[0m \u001b[38;5;28;01mreturn\u001b[39;00m \u001b[43mdispatch\u001b[49m\u001b[43m(\u001b[49m\u001b[43margs\u001b[49m\u001b[43m[\u001b[49m\u001b[38;5;241;43m0\u001b[39;49m\u001b[43m]\u001b[49m\u001b[38;5;241;43m.\u001b[39;49m\u001b[38;5;18;43m__class__\u001b[39;49m\u001b[43m)\u001b[49m\u001b[43m(\u001b[49m\u001b[38;5;241;43m*\u001b[39;49m\u001b[43margs\u001b[49m\u001b[43m,\u001b[49m\u001b[43m \u001b[49m\u001b[38;5;241;43m*\u001b[39;49m\u001b[38;5;241;43m*\u001b[39;49m\u001b[43mkw\u001b[49m\u001b[43m)\u001b[49m\n",
      "File \u001b[0;32m~/anaconda3/envs/groupshap/lib/python3.12/site-packages/rpy2/robjects/conversion.py:240\u001b[0m, in \u001b[0;36m_py2rpy\u001b[0;34m(obj)\u001b[0m\n\u001b[1;32m    238\u001b[0m \u001b[38;5;28;01mif\u001b[39;00m \u001b[38;5;28misinstance\u001b[39m(obj, _rinterface_capi\u001b[38;5;241m.\u001b[39mSupportsSEXP):\n\u001b[1;32m    239\u001b[0m     \u001b[38;5;28;01mreturn\u001b[39;00m obj\n\u001b[0;32m--> 240\u001b[0m \u001b[38;5;28;01mraise\u001b[39;00m \u001b[38;5;167;01mNotImplementedError\u001b[39;00m(\n\u001b[1;32m    241\u001b[0m     \u001b[38;5;124m\"\u001b[39m\u001b[38;5;124mConversion \u001b[39m\u001b[38;5;124m'\u001b[39m\u001b[38;5;124mpy2rpy\u001b[39m\u001b[38;5;124m'\u001b[39m\u001b[38;5;124m not defined for objects of type \u001b[39m\u001b[38;5;124m'\u001b[39m\u001b[38;5;132;01m%s\u001b[39;00m\u001b[38;5;124m'\u001b[39m\u001b[38;5;124m\"\u001b[39m \u001b[38;5;241m%\u001b[39m\n\u001b[1;32m    242\u001b[0m     \u001b[38;5;28mstr\u001b[39m(\u001b[38;5;28mtype\u001b[39m(obj))\n\u001b[1;32m    243\u001b[0m )\n",
      "\u001b[0;31mNotImplementedError\u001b[0m: Conversion 'py2rpy' not defined for objects of type '<class 'numpy.ndarray'>'"
     ]
    }
   ],
   "source": [
    "gen_groupshap_data(lvl_list,df_data,\"kernel\")"
   ]
  },
  {
   "cell_type": "markdown",
   "metadata": {},
   "source": [
    "##### New model"
   ]
  },
  {
   "cell_type": "code",
   "execution_count": 49,
   "metadata": {},
   "outputs": [],
   "source": [
    "class sb3Wrapper(nn.Module):\n",
    "    def __init__(self, model):\n",
    "        super(sb3Wrapper,self).__init__()\n",
    "        self.extractor = model.policy.mlp_extractor\n",
    "        self.policy_net = model.policy.mlp_extractor.policy_net\n",
    "        self.action_net = model.policy.action_net\n",
    "\n",
    "    def forward(self,x):\n",
    "        x = self.policy_net(x)\n",
    "        x = self.action_net(x)\n",
    "        return x\n",
    "    \n",
    "def gen_data(config):   \n",
    "    print('----------Generating Data----------')\n",
    "    \n",
    "    # set variables\n",
    "    data =[]\n",
    "    action_type = config['action_type']\n",
    "    exp_type =config['exp_type']\n",
    "    lvl = config['lvl']\n",
    "    play_style= config['play_style']\n",
    "    reward_scheme=config['reward_scheme']\n",
    "    algo= config['learning_algo']\n",
    "    path = config['exp_path']\n",
    "\n",
    "    if action_type == 'switch':\n",
    "        exp = f\"{action_type}-{lvl}_{play_style}_{reward_scheme}_{exp_type}_{algo}\"\n",
    "        env = gym.make(f\"md-switch-{lvl}-v0\",config=config)\n",
    "    elif config['obs_type'] =='grid':\n",
    "        exp = f\"{action_type}-{lvl}_{play_style}_{reward_scheme}_{exp_type}_{algo}\"\n",
    "        env = gym.make(f\"md-switch-{lvl}-v0\",config=config)\n",
    "    else:\n",
    "        env = gym.make(f\"md-{lvl}-v0\")\n",
    "        exp = f\"{lvl}_{play_style}_{reward_scheme}_{exp_type}\"\n",
    "\n",
    "\n",
    "    env.setting.IS_ENEMY_POWER_RANDOM =False\n",
    "    if play_style=='killer':\n",
    "        env.setting.PLAYER_MAX_HP = 10000\n",
    "\n",
    "    print(exp)\n",
    "    if action_type =='base':\n",
    "        model = PPO.load(f\"{path}/{play_style}.zip\")  # loading the model from ppo_cartpole.zip \n",
    "    elif action_type == 'path':\n",
    "        model = PPO.load(f\"logs/{path}/{exp}/best_model/best_model\") \n",
    "    elif algo == 'DQN':\n",
    "        model = DQN.load(f\"logs/{path}/{exp}/{play_style}/best_model\")  # loading the model from ppo_cartpole.zip \n",
    "    else:\n",
    "        model = PPO.load(f\"logs/{path}/{exp}/{play_style}/best_model\")  # loading the model from ppo_cartpole.zip \n",
    "                                                                                     \n",
    "    curr_obs = env.reset()  \n",
    "    curr_grid = np.array(env.grid.g)\n",
    "    # data.append([exp, lvl, 0, -1, env.agent.x, env.agent.y, env.agent.hp, start_grid, play_style, \"NO_ACTION\",curr_obs, curr_obs, False, 0, dict(env.info),start_grid.shape[0],start_grid.shape[1]])\n",
    "\n",
    "    for ep in range(5):                                                                    \n",
    "        for i in range(1000): \n",
    "            agent_x = env.agent.x\n",
    "            agent_y = env.agent.y\n",
    "            agent_hp = env.agent.hp                                                                  \n",
    "            action, _state = model.predict(curr_obs, deterministic=True) \n",
    "            action = action.tolist()                  \n",
    "            obs, reward, done, info = env.step(action) \n",
    "            grid= np.array(env.grid.g)  \n",
    "            data.append([exp, lvl, ep,i, agent_x, agent_y, agent_hp, curr_grid,grid, play_style, info['action_taken'],curr_obs, obs, done, reward, dict(info),grid.shape[0],grid.shape[1]])\n",
    "                                                \n",
    "            # env.render(mode='human')                                                                        \n",
    "            if done:                                                                            \n",
    "                obs = env.reset()\n",
    "                break\n",
    "\n",
    "            curr_obs= obs\n",
    "            curr_grid = grid\n",
    "                \n",
    "    return data\n",
    "\n",
    "def merge_data(data_list, type:str):\n",
    "    data = None\n",
    "    if type == 'array':\n",
    "        # print(data_list[0])\n",
    "        data = np.asarray(data_list[0],dtype=\"object\")\n",
    "        for i in range(1,len(data_list)):\n",
    "            data = np.concatenate((data,np.asarray(data_list[i],dtype=\"object\")))\n",
    "    elif type == 'dataframe':\n",
    "        data = pd.concat(data_list,ignore_index=True)\n",
    "    else:\n",
    "        assert(\"data needs to be array or dataframe\")\n",
    "    return data\n",
    "\n",
    "def prep_data(df):\n",
    "    obs_names = ['DM', 'DT', 'SDT', 'DP', 'SDP', 'DE', 'SDE', 'HP']\n",
    "    # need train and test data, train will be used in the train param and test will be used in explain param\n",
    "    # first get data into right format\n",
    "    data = df[['curr_obs','action']]\n",
    "    data[obs_names] = pd.DataFrame(data.curr_obs.tolist(), index= data.index)\n",
    "    # Split data \n",
    "    dfx_train, dfx_test,dfy_train,dfy_test = train_test_split(data[obs_names],data['action'], random_state=42, test_size=5)\n",
    "    # make dfx_test data\n",
    "    return dfx_train, dfx_test, data\n",
    "\n",
    "def gen_analysis_data(lvl_list):\n",
    "    #take in list of levels and the loothrough them\n",
    "    df_list = []\n",
    "    df_data_list = []\n",
    "    df_shap_list= []\n",
    "    data_list = []\n",
    "    for lvl in lvl_list:\n",
    "        configs = gen_config(lvl =lvl,algo =\"PPO\",obs_type=\"distance\", exp_type=\"switch_analysis\",switch_path=\"switching_analysis/\",base_path=\"./play_style_models/base/\")\n",
    "        for config in configs[0:6]:\n",
    "            data =gen_data(config)\n",
    "            df = pd.DataFrame(data, columns=['experiment','level','run','step','x','y','hp','curr_grid','grid','play_style','action','curr_obs','observation','done','reward','info','grid_rows','grid_columns'])\n",
    "            data_list.append(data)\n",
    "            df_list.append(df)\n",
    "    \n",
    "    #TODO add code to merge the data list and df list into one data array and one df\n",
    "    # merge data \n",
    "    game_data = merge_data(data_list, type =\"array\")\n",
    "    df_data = merge_data(df_list,type=\"dataframe\")\n",
    "\n",
    "    # format data\n",
    "    df_train, df_test ,simp_data= prep_data(df_data)\n",
    "\n",
    "    #TODO remember to unshuffle data when merging shap to orig data\n",
    "    return game_data, df_data, df_train, df_test, simp_data\n",
    "\n",
    "def gen_groupshap_data(lvl_list,df,explainer_type:str):\n",
    "    # take in data and level list\n",
    "    # for each level gen config\n",
    "    df_shapley_list,pred_explain_list, internal_list, timing_list = [],[],[],[]\n",
    "    for lvl in lvl_list:\n",
    "        configs = gen_config(lvl =lvl,algo =\"PPO\",obs_type=\"distance\", exp_type=\"switch_analysis\",switch_path=\"switching_analysis_new_longer/\",base_path=\"./play_style_models/base/\")\n",
    "        for config in configs[0:6]:\n",
    "            algo =config['learning_algo']\n",
    "            path = config['exp_path']\n",
    "            #seperate dataframe based on config\n",
    "            print(config['play_style'])\n",
    "            #create temp df for thhe current level and playstyle config from the df parameter\n",
    "            df_curr = df.loc[(df['level']== lvl) & (df['play_style']== config['play_style'])]\n",
    "            print(f\"---------------------Groupshapley for {lvl}-{config['play_style']}-----------------\")\n",
    "            # format data\n",
    "            df_train, df_test ,simp_data= prep_data(df_curr)#TODO need convert back to dataframe alos check why they are not same type as input shap\n",
    "\n",
    "            #create correct model\n",
    "            if config['action_type'] == \"switch\":\n",
    "                exp = f\"{config['action_type']}-{lvl}_{config['play_style']}_{config['reward_scheme']}_{config['exp_type']}_{algo}\"\n",
    "                model_path = f\"logs/{path}/{exp}/{config['play_style']}/best_model\"\n",
    "            else:\n",
    "                exp = f\"{lvl}_{config['play_style']}_{config['reward_scheme']}_{config['exp_type']}\"\n",
    "                model_path = f\"logs/{path}/{exp}/best_model/best_model\"\n",
    "\n",
    "            if algo ==\"PPO\":\n",
    "                model = PPO.load(model_path, device='cpu')\n",
    "            elif config.algo =='DQN':\n",
    "                model = DQN.load(model_path, device='cuda')\n",
    "            state_log = np.array(df_curr['curr_obs'].values.tolist())\n",
    "            data =torch.FloatTensor(state_log).to('cpu')\n",
    "\n",
    "            \n",
    "            if config['obs_type']== 'grid':\n",
    "                model = grid_sb3Wrapper(model)\n",
    "            elif algo =='PPO':\n",
    "                model = sb3Wrapper(model)\n",
    "            elif algo == 'DQN':\n",
    "                model = sb3_DQN_wrapper(model)\n",
    "\n",
    "\n",
    "            #tensor\n",
    "            dfy_train = df_curr['curr_obs'].apply(lambda x: np.max(model.forward(Variable(torch.from_numpy(x),requires_grad=False).to(float32)).detach().numpy(),keepdims=True))\n",
    "\n",
    "            if explainer_type == \"kernel\":\n",
    "                df_shapley, pred_explain, internal, timing = explain(\n",
    "                    model=model,\n",
    "                    x_train=df_train,\n",
    "                    x_explain=df_test,\n",
    "                    approach='independence',\n",
    "                    predict_model= lambda m,x: np.max(m(torch.from_numpy(x.to_numpy()).to(float32)).detach().numpy(),keepdims=False,axis=1), #requires model and x as param\n",
    "                    prediction_zero=dfy_train.mean().item(),\n",
    "                )\n",
    "                df_shapley_list.append(df_shapley)\n",
    "                pred_explain_list.append(pred_explain)\n",
    "                internal_list.append(internal)\n",
    "                timing_list.append(timing)\n",
    "            else:\n",
    "                explainer = shap.DeepExplainer(model, data)\n",
    "                shap_vals= explainer.shap_values(data,check_additivity=True)\n",
    "            # make agent model\n",
    "            # extract correspoding dataframe\n",
    "            # gen groupshap values for that config\n",
    "            # add to dataframe\n",
    "    return df_shapley_list, pred_explain_list,internal_list,timing_list    "
   ]
  },
  {
   "cell_type": "code",
   "execution_count": 50,
   "metadata": {},
   "outputs": [
    {
     "name": "stdout",
     "output_type": "stream",
     "text": [
      "----------Generating Data----------\n",
      "{'action_type': 'switch', 'action_space_type': 'discrete', 'obs_type': 'distance', 'lvl': 'hard', 'play_style': 'switch', 'reward_scheme': 'switch', 'exp_type': 'switch_analysis', 'learning_algo': 'PPO', 'exp_path': 'switching_analysis/', 'base_path': './play_style_models/base/'}\n",
      "switch-hard_switch_switch_switch_analysis_PPO\n",
      "----------Generating Data----------\n",
      "{'action_type': 'switch', 'action_space_type': 'discrete', 'obs_type': 'distance', 'lvl': 'hard', 'play_style': 'hard', 'reward_scheme': 'hard', 'exp_type': 'switch_analysis', 'learning_algo': 'PPO', 'exp_path': 'switching_analysis/', 'base_path': './play_style_models/base/'}\n",
      "switch-hard_hard_hard_switch_analysis_PPO\n",
      "----------Generating Data----------\n",
      "{'action_type': 'switch', 'action_space_type': 'discrete', 'obs_type': 'distance', 'lvl': 'hard', 'play_style': 'treasure', 'reward_scheme': 'treasure', 'exp_type': 'switch_analysis', 'learning_algo': 'PPO', 'exp_path': 'switching_analysis/', 'base_path': './play_style_models/base/'}\n",
      "switch-hard_treasure_treasure_switch_analysis_PPO\n",
      "----------Generating Data----------\n",
      "{'action_type': 'switch', 'action_space_type': 'discrete', 'obs_type': 'distance', 'lvl': 'hard', 'play_style': 'killer', 'reward_scheme': 'killer', 'exp_type': 'switch_analysis', 'learning_algo': 'PPO', 'exp_path': 'switching_analysis/', 'base_path': './play_style_models/base/'}\n",
      "switch-hard_killer_killer_switch_analysis_PPO\n",
      "----------Generating Data----------\n",
      "{'action_type': 'switch', 'action_space_type': 'discrete', 'obs_type': 'distance', 'lvl': 'hard', 'play_style': 'potion', 'reward_scheme': 'potion', 'exp_type': 'switch_analysis', 'learning_algo': 'PPO', 'exp_path': 'switching_analysis/', 'base_path': './play_style_models/base/'}\n",
      "switch-hard_potion_potion_switch_analysis_PPO\n",
      "----------Generating Data----------\n",
      "{'action_type': 'switch', 'action_space_type': 'discrete', 'obs_type': 'distance', 'lvl': 'hard', 'play_style': 'runner', 'reward_scheme': 'runner', 'exp_type': 'switch_analysis', 'learning_algo': 'PPO', 'exp_path': 'switching_analysis/', 'base_path': './play_style_models/base/'}\n",
      "switch-hard_runner_runner_switch_analysis_PPO\n"
     ]
    }
   ],
   "source": [
    "lvl_list =[\n",
    "    \"hard\",\n",
    "    # \"check_1\",\n",
    "    # \"holmgard_0\",\n",
    "    # \"holmgard_1\",\n",
    "    # \"holmgard_2\",\n",
    "    # \"holmgard_3\",\n",
    "    # \"holmgard_4\",\n",
    "    # \"holmgard_5\",\n",
    "    # \"holmgard_6\",\n",
    "    # \"holmgard_7\",\n",
    "    # # # \"holmgard_8\",\n",
    "    # \"holmgard_9\",\n",
    "]\n",
    "\n",
    "game_data, df_data, df_train, df_test, simp_data =gen_analysis_data(lvl_list)"
   ]
  },
  {
   "cell_type": "code",
   "execution_count": 30,
   "metadata": {},
   "outputs": [
    {
     "name": "stderr",
     "output_type": "stream",
     "text": [
      "R[write to console]: Note: You passed a model to explain() which is not natively supported, and did not supply a 'get_model_specs' function to explain().\n",
      "Consistency checks between model and data is therefore disabled.\n",
      "\n",
      "\n",
      "R[write to console]: Setting parameter 'n_batches' to 3 as a fair trade-off between memory consumption and computation time.\n",
      "Reducing 'n_batches' typically reduces the computation time at the cost of increased memory consumption.\n",
      "\n",
      "\n"
     ]
    },
    {
     "name": "stdout",
     "output_type": "stream",
     "text": [
      "switch\n",
      "---------------------Groupshapley for hard-switch-----------------\n",
      "<rpy2.rinterface.FloatSexpVector object at 0x7f9190addf50> [14]\n",
      "2\n"
     ]
    },
    {
     "name": "stderr",
     "output_type": "stream",
     "text": [
      "R[write to console]: Note: You passed a model to explain() which is not natively supported, and did not supply a 'get_model_specs' function to explain().\n",
      "Consistency checks between model and data is therefore disabled.\n",
      "\n",
      "\n",
      "R[write to console]: Setting parameter 'n_batches' to 3 as a fair trade-off between memory consumption and computation time.\n",
      "Reducing 'n_batches' typically reduces the computation time at the cost of increased memory consumption.\n",
      "\n",
      "\n"
     ]
    },
    {
     "name": "stdout",
     "output_type": "stream",
     "text": [
      "hard\n",
      "---------------------Groupshapley for hard-hard-----------------\n",
      "<rpy2.rinterface.FloatSexpVector object at 0x7f918a9d25d0> [14]\n",
      "2\n"
     ]
    },
    {
     "name": "stderr",
     "output_type": "stream",
     "text": [
      "R[write to console]: Note: You passed a model to explain() which is not natively supported, and did not supply a 'get_model_specs' function to explain().\n",
      "Consistency checks between model and data is therefore disabled.\n",
      "\n",
      "\n",
      "R[write to console]: Setting parameter 'n_batches' to 3 as a fair trade-off between memory consumption and computation time.\n",
      "Reducing 'n_batches' typically reduces the computation time at the cost of increased memory consumption.\n",
      "\n",
      "\n"
     ]
    },
    {
     "name": "stdout",
     "output_type": "stream",
     "text": [
      "treasure\n",
      "---------------------Groupshapley for hard-treasure-----------------\n",
      "<rpy2.rinterface.FloatSexpVector object at 0x7f918a65fad0> [14]\n",
      "2\n"
     ]
    },
    {
     "name": "stderr",
     "output_type": "stream",
     "text": [
      "R[write to console]: Note: You passed a model to explain() which is not natively supported, and did not supply a 'get_model_specs' function to explain().\n",
      "Consistency checks between model and data is therefore disabled.\n",
      "\n",
      "\n",
      "R[write to console]: Setting parameter 'n_batches' to 3 as a fair trade-off between memory consumption and computation time.\n",
      "Reducing 'n_batches' typically reduces the computation time at the cost of increased memory consumption.\n",
      "\n",
      "\n"
     ]
    },
    {
     "name": "stdout",
     "output_type": "stream",
     "text": [
      "killer\n",
      "---------------------Groupshapley for hard-killer-----------------\n",
      "<rpy2.rinterface.FloatSexpVector object at 0x7f918aad2650> [14]\n",
      "2\n"
     ]
    },
    {
     "name": "stderr",
     "output_type": "stream",
     "text": [
      "R[write to console]: Note: You passed a model to explain() which is not natively supported, and did not supply a 'get_model_specs' function to explain().\n",
      "Consistency checks between model and data is therefore disabled.\n",
      "\n",
      "\n",
      "R[write to console]: Setting parameter 'n_batches' to 3 as a fair trade-off between memory consumption and computation time.\n",
      "Reducing 'n_batches' typically reduces the computation time at the cost of increased memory consumption.\n",
      "\n",
      "\n"
     ]
    },
    {
     "name": "stdout",
     "output_type": "stream",
     "text": [
      "potion\n",
      "---------------------Groupshapley for hard-potion-----------------\n",
      "<rpy2.rinterface.FloatSexpVector object at 0x7f91908949d0> [14]\n",
      "2\n"
     ]
    },
    {
     "name": "stderr",
     "output_type": "stream",
     "text": [
      "R[write to console]: Note: You passed a model to explain() which is not natively supported, and did not supply a 'get_model_specs' function to explain().\n",
      "Consistency checks between model and data is therefore disabled.\n",
      "\n",
      "\n",
      "R[write to console]: Setting parameter 'n_batches' to 3 as a fair trade-off between memory consumption and computation time.\n",
      "Reducing 'n_batches' typically reduces the computation time at the cost of increased memory consumption.\n",
      "\n",
      "\n"
     ]
    },
    {
     "name": "stdout",
     "output_type": "stream",
     "text": [
      "runner\n",
      "---------------------Groupshapley for hard-runner-----------------\n",
      "<rpy2.rinterface.FloatSexpVector object at 0x7f918a5452d0> [14]\n",
      "2\n"
     ]
    }
   ],
   "source": [
    "shap_df, pred_data, internal_data, timing_data=gen_groupshap_data(lvl_list,df_data,\"kernel\")\n"
   ]
  },
  {
   "cell_type": "code",
   "execution_count": 31,
   "metadata": {},
   "outputs": [
    {
     "name": "stdout",
     "output_type": "stream",
     "text": [
      "[       none        DM        DT       SDT        DP       SDP        DE  \\\n",
      "1  3.942597  0.064681 -0.013864 -0.009783  0.400184  0.133294 -0.009003   \n",
      "2  3.942597  0.049591  0.003206  0.003931 -0.530615 -0.077961 -0.003376   \n",
      "3  3.942597  0.066020 -0.016319 -0.011995  0.400738  0.134778 -0.006258   \n",
      "4  3.942597  0.070015  0.009359  0.004085  0.384841  0.184723  0.000266   \n",
      "5  3.942597  0.049566  0.006950  0.004851 -0.532674 -0.099066  0.000809   \n",
      "\n",
      "        SDE        HP  \n",
      "1  0.076358 -0.002763  \n",
      "2 -0.030317 -0.013304  \n",
      "3  0.077391 -0.001852  \n",
      "4  0.068673  0.010682  \n",
      "5 -0.030317  0.001036  ,        none        DM        DT       SDT        DP       SDP        DE  \\\n",
      "1  3.656324 -0.000412 -0.000365  0.325063 -0.000430 -0.004837 -0.004732   \n",
      "2  3.656324 -0.000412 -0.000365  0.325063 -0.000430 -0.004837 -0.004732   \n",
      "3  3.656324 -0.000216 -0.000216 -0.807359 -0.000216 -0.000216 -0.000216   \n",
      "4  3.656324 -0.000593  0.003576  0.271608  0.001022  0.006971  0.008290   \n",
      "5  3.656324 -0.001071 -0.003393  0.321827 -0.000829 -0.007251 -0.004610   \n",
      "\n",
      "        SDE        HP  \n",
      "1  0.322095  0.002989  \n",
      "2  0.322095  0.002989  \n",
      "3 -0.009315 -0.000216  \n",
      "4 -1.046520 -0.008554  \n",
      "5  0.331644  0.003054  ,        none        DM        DT       SDT            DP       SDP        DE  \\\n",
      "1  3.124172  0.002684  0.243633  0.955934  2.049832e-04 -0.000256 -0.003424   \n",
      "2  3.124172  0.000722 -0.599659 -0.576643  7.945156e-04 -0.000914  0.002009   \n",
      "3  3.124172 -0.002323 -0.071150 -1.177316 -3.777055e-04 -0.005728 -0.000078   \n",
      "4  3.124172  0.001766  0.223601  1.005965  2.431716e-04 -0.004485 -0.001710   \n",
      "5  3.124172  0.004485  0.240792  0.970900  9.017825e-07  0.000483 -0.005791   \n",
      "\n",
      "        SDE        HP  \n",
      "1  0.137876 -0.017932  \n",
      "2 -0.007176  0.031065  \n",
      "3  0.047703  0.098662  \n",
      "4  0.120851 -0.027511  \n",
      "5  0.130256 -0.022404  ,        none        DM        DT       SDT        DP       SDP        DE  \\\n",
      "1  3.344561  0.009908 -0.000074 -0.000074 -0.000074 -0.000074 -0.000074   \n",
      "2  3.344561  0.009908 -0.000074 -0.000074 -0.000074 -0.000074 -0.000074   \n",
      "3  3.344561  0.009908 -0.000074 -0.000074 -0.000074 -0.000074 -0.000074   \n",
      "4  3.344561  0.009908 -0.000074 -0.000074 -0.000074 -0.000074 -0.000074   \n",
      "5  3.344561  0.009908 -0.000074 -0.000074 -0.000074 -0.000074 -0.000074   \n",
      "\n",
      "        SDE        HP  \n",
      "1  0.020399 -0.000074  \n",
      "2  0.020399 -0.000074  \n",
      "3  0.020399 -0.000074  \n",
      "4  0.020399 -0.000074  \n",
      "5  0.020399 -0.000074  ,        none        DM        DT       SDT        DP       SDP        DE  \\\n",
      "1  3.536422 -0.000152 -0.000848 -0.002217  0.263157  0.387118 -0.000502   \n",
      "2  3.536422  0.000988 -0.001086 -0.001761  0.257295  0.382540  0.000688   \n",
      "3  3.536422  0.000407 -0.000570 -0.002041  0.249385  0.408217 -0.001223   \n",
      "4  3.536422 -0.002123  0.000400 -0.001612  0.258008  0.379083 -0.000039   \n",
      "5  3.536422  0.003427 -0.000927 -0.001705  0.262187  0.386236 -0.001307   \n",
      "\n",
      "        SDE        HP  \n",
      "1  0.266716 -0.002202  \n",
      "2  0.275333 -0.002928  \n",
      "3  0.273977 -0.017084  \n",
      "4  0.277563 -0.000211  \n",
      "5  0.265793 -0.002636  ,        none        DM        DT       SDT        DP       SDP        DE  \\\n",
      "1  3.676162  0.000037 -0.001885 -0.000582  0.167555  0.318162 -0.001117   \n",
      "2  3.676162  0.000705 -0.002407 -0.001136  0.168458  0.319187  0.000748   \n",
      "3  3.676162  0.000766 -0.001070 -0.001089  0.169943  0.320839  0.000603   \n",
      "4  3.676162 -0.001217 -0.002118 -0.000659  0.166434  0.317087 -0.000177   \n",
      "5  3.676162  0.001086 -0.002452 -0.001453  0.168213  0.318888  0.000170   \n",
      "\n",
      "        SDE        HP  \n",
      "1  0.204833 -0.001314  \n",
      "2  0.201452 -0.001319  \n",
      "3  0.196132 -0.000435  \n",
      "4  0.208664 -0.002327  \n",
      "5  0.202556 -0.001319  ]\n"
     ]
    }
   ],
   "source": [
    "print(shap_df)\n",
    "df_shap = pd.concat(shap_df)"
   ]
  },
  {
   "cell_type": "markdown",
   "metadata": {},
   "source": [
    "### New and improved groupshap stuff"
   ]
  },
  {
   "cell_type": "code",
   "execution_count": 3,
   "metadata": {},
   "outputs": [],
   "source": [
    "class sb3Wrapper(nn.Module):\n",
    "    def __init__(self, model):\n",
    "        super(sb3Wrapper,self).__init__()\n",
    "        self.extractor = model.policy.mlp_extractor\n",
    "        self.policy_net = model.policy.mlp_extractor.policy_net\n",
    "        self.action_net = model.policy.action_net\n",
    "\n",
    "    def forward(self,x):\n",
    "        x = self.policy_net(x)\n",
    "        x = self.action_net(x)\n",
    "        return x\n",
    "\n",
    "def gen_config(lvl:str, algo:str, obs_type:str, exp_type:str,switch_path:str, base_path:str ='play_style_models/base/', which_model='best'):\n",
    "    model = None\n",
    "    if which_model =='latest':\n",
    "        model = 'best_model'\n",
    "    else:\n",
    "        model = 'latest_model_500000_steps'\n",
    "    config_switch ={\n",
    "        'action_type': 'switch',\n",
    "        'action_space_type': 'discrete',\n",
    "        'obs_type': f'{obs_type}',\n",
    "        'lvl': f'{lvl}',\n",
    "        'play_style': 'switch',\n",
    "        'reward_scheme': 'switch',\n",
    "        'exp_type': f'{exp_type}',\n",
    "        'learning_algo': f'{algo}',\n",
    "        'exp_path': f'{switch_path}',\n",
    "        'base_path': f'{base_path}',\n",
    "        'which_model': f'{model}',\n",
    "    }\n",
    "    config_hard ={\n",
    "        'action_type': 'switch',\n",
    "        'action_space_type': 'discrete',\n",
    "        'obs_type': f'{obs_type}',\n",
    "        'lvl': f'{lvl}',\n",
    "        'play_style': 'hard',\n",
    "        'reward_scheme': 'hard',\n",
    "        'exp_type': f'{exp_type}',\n",
    "        'learning_algo': f'{algo}',\n",
    "        'exp_path': f'{switch_path}',\n",
    "        'base_path': f'{base_path}',\n",
    "        'which_model': f'{model}',\n",
    "    }\n",
    "    config_treasure ={\n",
    "        'action_type': 'switch',\n",
    "        'action_space_type': 'discrete',\n",
    "        'obs_type': f'{obs_type}',\n",
    "        'lvl': f'{lvl}',\n",
    "        'play_style': 'treasure',\n",
    "        'reward_scheme': 'treasure',\n",
    "        'exp_type': f'{exp_type}',\n",
    "        'learning_algo': f'{algo}',\n",
    "        'exp_path': f'{switch_path}',\n",
    "        'base_path': f'{base_path}',\n",
    "        'which_model': f'{model}',\n",
    "    }\n",
    "    config_killer ={\n",
    "        'action_type': 'switch',\n",
    "        'action_space_type': 'discrete',\n",
    "        'obs_type': f'{obs_type}',\n",
    "        'lvl': f'{lvl}',\n",
    "        'play_style': 'killer',\n",
    "        'reward_scheme': 'killer',\n",
    "        'exp_type': f'{exp_type}',\n",
    "        'learning_algo': f'{algo}',\n",
    "        'exp_path': f'{switch_path}',\n",
    "        'base_path': f'{base_path}',\n",
    "        'which_model': f'{model}',\n",
    "    }\n",
    "    config_potion ={\n",
    "        'action_type': 'switch',\n",
    "        'action_space_type': 'discrete',\n",
    "        'obs_type': f'{obs_type}',\n",
    "        'lvl': f'{lvl}',\n",
    "        'play_style': 'potion',\n",
    "        'reward_scheme': 'potion',\n",
    "        'exp_type': f'{exp_type}',\n",
    "        'learning_algo': f'{algo}',\n",
    "        'exp_path': f'{switch_path}',\n",
    "        'base_path': f'{base_path}',\n",
    "        'which_model': f'{model}',\n",
    "    }\n",
    "    config_runner ={\n",
    "        'action_type': 'switch',\n",
    "        'action_space_type': 'discrete',\n",
    "        'obs_type': f'{obs_type}',\n",
    "        'lvl': f'{lvl}',\n",
    "        'play_style': 'runner',\n",
    "        'reward_scheme': 'runner',\n",
    "        'exp_type': f'{exp_type}',\n",
    "        'learning_algo': f'{algo}',\n",
    "        'exp_path': f'{switch_path}',\n",
    "        'base_path': f'{base_path}',\n",
    "        'which_model': f'{model}',\n",
    "    }\n",
    "    config_base_treasure={\n",
    "        'action_type': 'base',\n",
    "        'action_space_type': 'box',\n",
    "        'obs_type': f'{obs_type}',\n",
    "        'lvl': f'{lvl}',\n",
    "        'play_style': 'treasure',\n",
    "        'reward_scheme': 'fiftytwoFifty',\n",
    "        'exp_type': 'treasure',\n",
    "        'learning_algo': f'{algo}',\n",
    "        'exp_path': f'{base_path}',\n",
    "        'base_path': f'{base_path}',\n",
    "    }\n",
    "    config_base_killer={\n",
    "        'action_type': 'base',\n",
    "        'action_space_type': 'box',\n",
    "        'obs_type': f'{obs_type}',\n",
    "        'lvl': f'{lvl}',\n",
    "        'play_style': 'killer',\n",
    "        'reward_scheme': 'fiftytwoFifty',\n",
    "        'exp_type': 'killer',\n",
    "        'learning_algo':f'{algo}',\n",
    "        'exp_path': f'{base_path}',\n",
    "        'base_path': f'{base_path}',\n",
    "    }\n",
    "    config_base_potion={\n",
    "        'action_type': 'base',\n",
    "        'action_space_type': 'box',\n",
    "        'obs_type': f'{obs_type}',\n",
    "        'lvl': f'{lvl}',\n",
    "        'play_style': 'potion',\n",
    "        'reward_scheme': 'fiftytwoFifty',\n",
    "        'exp_type': 'potion',\n",
    "        'learning_algo': f'{algo}',\n",
    "        'exp_path': f'{base_path}',\n",
    "        'base_path': f'{base_path}',\n",
    "    }\n",
    "    config_base_runner={\n",
    "        'action_type': 'base',\n",
    "        'action_space_type': 'box',\n",
    "        'obs_type': f'{obs_type}',\n",
    "        'lvl': f'{lvl}',\n",
    "        'play_style': 'runner',\n",
    "        'reward_scheme': 'fiftytwoFifty',\n",
    "        'exp_type': 'runner',\n",
    "        'learning_algo': f'{algo}',\n",
    "        'exp_path': f'{base_path}',\n",
    "        'base_path': f'{base_path}',\n",
    "    }\n",
    "\n",
    "    return [config_switch, config_hard,config_treasure,config_killer, config_potion, config_runner, config_base_treasure, config_base_killer, config_base_potion, config_base_runner]\n",
    "\n",
    "def gen_data(config):   \n",
    "    print('----------Generating Data----------')\n",
    "    \n",
    "    # set variables\n",
    "    data =[]\n",
    "    action_type = config['action_type']\n",
    "    exp_type =config['exp_type']\n",
    "    lvl = config['lvl']\n",
    "    play_style= config['play_style']\n",
    "    reward_scheme=config['reward_scheme']\n",
    "    algo= config['learning_algo']\n",
    "    path = config['exp_path']\n",
    "    which_model = config['which_model'] #TODO added which model\n",
    "\n",
    "    if action_type == 'switch':\n",
    "        exp = f\"{action_type}-{lvl}_{play_style}_{reward_scheme}_{exp_type}_{algo}\"\n",
    "        env = gym.make(f\"md-switch-{lvl}-v0\",config=config)\n",
    "    elif config['obs_type'] =='grid':\n",
    "        exp = f\"{action_type}-{lvl}_{play_style}_{reward_scheme}_{exp_type}_{algo}\"\n",
    "        env = gym.make(f\"md-switch-{lvl}-v0\",config=config)\n",
    "    else:\n",
    "        env = gym.make(f\"md-{lvl}-v0\")\n",
    "        exp = f\"{lvl}_{play_style}_{reward_scheme}_{exp_type}\"\n",
    "\n",
    "\n",
    "    env.setting.IS_ENEMY_POWER_RANDOM =False\n",
    "    if play_style=='killer':\n",
    "        print('setting player HP')\n",
    "        env.setting.PLAYER_MAX_HP = 100\n",
    "\n",
    "    print(exp)\n",
    "    if action_type =='base':\n",
    "        model = PPO.load(f\"{path}/{play_style}.zip\")  # loading the model from ppo_cartpole.zip \n",
    "    elif action_type == 'path':\n",
    "        model = PPO.load(f\"logs/{path}/{exp}/best_model/best_model\") \n",
    "    elif algo == 'DQN':\n",
    "        model = DQN.load(f\"logs/{path}/{exp}/{play_style}/best_model\")  # loading the model from ppo_cartpole.zip \n",
    "    else:\n",
    "        model = PPO.load(f\"logs/{path}/{exp}/{play_style}/{which_model}\")  # loading the model from ppo_cartpole.zip  #TODO added which model\n",
    "                                                                                     \n",
    "    curr_obs = env.reset()  \n",
    "    curr_grid = np.array(env.grid.g)\n",
    "    # data.append([exp, lvl, 0, -1, env.agent.x, env.agent.y, env.agent.hp, start_grid, play_style, \"NO_ACTION\",curr_obs, curr_obs, False, 0, dict(env.info),start_grid.shape[0],start_grid.shape[1]])\n",
    "\n",
    "    for ep in range(5):                                                                    \n",
    "        for i in range(1000): \n",
    "            agent_x = env.agent.x\n",
    "            agent_y = env.agent.y\n",
    "            agent_hp = env.agent.hp\n",
    "            action, _state = model.predict(curr_obs, deterministic=True) \n",
    "            action = action.tolist()                  \n",
    "            obs, reward, done, info = env.step(action) \n",
    "            grid= np.array(env.grid.g)  \n",
    "            data.append([exp, lvl, ep,i, agent_x, agent_y, agent_hp, curr_grid,grid, play_style, info['action_taken'],curr_obs, obs, done, reward, dict(info),grid.shape[0],grid.shape[1]])\n",
    "                                                \n",
    "            # env.render(mode='human')                                                                        \n",
    "            if done:                                                                            \n",
    "                obs = env.reset()\n",
    "                break\n",
    "\n",
    "            curr_obs= obs\n",
    "            curr_grid = grid\n",
    "                \n",
    "    return data, model #TODO added model\n",
    "\n",
    "def merge_data(data_list, type:str):\n",
    "    data = None\n",
    "    if type == 'array':\n",
    "        # print(data_list[0])\n",
    "        data = np.asarray(data_list[0],dtype=\"object\")\n",
    "        for i in range(1,len(data_list)):\n",
    "            data = np.concatenate((data,np.asarray(data_list[i],dtype=\"object\")))\n",
    "    elif type == 'dataframe':\n",
    "        data = pd.concat(data_list,ignore_index=True)\n",
    "    else:\n",
    "        assert(\"data needs to be array or dataframe\")\n",
    "    return data\n",
    "\n",
    "def prep_data(df):\n",
    "    obs_names = ['DM', 'DT', 'SDT', 'DP', 'SDP', 'DE', 'SDE', 'HP']\n",
    "    # need train and test data, train will be used in the train param and test will be used in explain param\n",
    "    # first get data into right format\n",
    "    # print(df.tail())\n",
    "    # df_curr = df.loc[(df['run']==1)]\n",
    "    # print(df.head())\n",
    "    # data = df_cu[['curr_obs','action']]\n",
    "    \n",
    "    df[obs_names] = pd.DataFrame(df.curr_obs.tolist(), index= df.index)\n",
    "    # Split data \n",
    "    data = df\n",
    "    dfx_train, dfx_test,dfy_train,dfy_test = train_test_split(data[obs_names],data['action'], random_state=42, test_size=5,shuffle=False)\n",
    "    dfx_test = dfx_train.loc[(df['run']==0)]\n",
    "    # data = df_curr[['curr_obs','action']]\n",
    "    # df_curr = df.loc[(df['run']==1)]\n",
    "    # make dfx_test data  only 1 run \n",
    "    \n",
    "    return dfx_train[obs_names], dfx_test[obs_names], data\n",
    "\n",
    "def gen_analysis_data(lvl_list, config):#TODO added config param\n",
    "    #take in list of levels and the loothrough them\n",
    "    df_list = []\n",
    "    df_data_list = []\n",
    "    df_shap_list= []\n",
    "    data_list = []\n",
    "    for lvl in lvl_list:\n",
    "        configs = gen_config(lvl =lvl,algo =\"PPO\",obs_type=\"distance\", exp_type=\"switch_analysis\",switch_path=\"switching_analysis/\",base_path=\"./play_style_models/base/\")\n",
    "        for config in configs[0:6]:\n",
    "            data, model =gen_data(config) #TODO added model\n",
    "            df = pd.DataFrame(data, columns=['experiment','level','run','step','x','y','hp','curr_grid','grid','play_style','action','curr_obs','observation','done','reward','info','grid_rows','grid_columns'])\n",
    "            data_list.append(data)\n",
    "            df_list.append(df)\n",
    "    \n",
    "    #TODO add code to merge the data list and df list into one data array and one df\n",
    "    # merge data \n",
    "    game_data = merge_data(data_list, type =\"array\")\n",
    "    df_data = merge_data(df_list,type=\"dataframe\")\n",
    "\n",
    "    # format data\n",
    "    df_train, df_test ,simp_data= prep_data(df_data)\n",
    "\n",
    "    #TODO remember to unshuffle data when merging shap to orig data\n",
    "    return game_data, df_data, df_train, df_test, simp_data\n",
    "\n",
    "def gen_groupshap_data(lvl_list,df,explainer_type:str): #TODO fix this shit\n",
    "    # take in data and level list\n",
    "    # for each level gen config\n",
    "    df_shapley_list,pred_explain_list, internal_list, timing_list = [],[],[],[]\n",
    "    for lvl in lvl_list:\n",
    "        configs = gen_config(lvl =lvl,algo =\"PPO\",obs_type=\"distance\", exp_type=\"switch_analysis\",switch_path=\"switching_analysis_new_longer/\",base_path=\"./play_style_models/base/\")\n",
    "        for config in configs[0:6]:\n",
    "            algo =config['learning_algo']\n",
    "            path = config['exp_path']\n",
    "            #seperate dataframe based on config\n",
    "            print(config['play_style'])\n",
    "            #create temp df for thhe current level and playstyle config from the df parameter\n",
    "            df_curr = df.loc[(df['level']== lvl) & (df['play_style']== config['play_style'])]\n",
    "            print(f\"---------------------Groupshapley for {lvl}-{config['play_style']}-----------------\")\n",
    "            # format data\n",
    "            df_train, df_test ,simp_data= prep_data(df_curr)#TODO need convert back to dataframe alos check why they are not same type as input shap\n",
    "\n",
    "            #create correct model\n",
    "            if config['action_type'] == \"switch\":\n",
    "                exp = f\"{config['action_type']}-{lvl}_{config['play_style']}_{config['reward_scheme']}_{config['exp_type']}_{algo}\"\n",
    "                model_path = f\"logs/{path}/{exp}/{config['play_style']}/best_model\"\n",
    "            else:\n",
    "                exp = f\"{lvl}_{config['play_style']}_{config['reward_scheme']}_{config['exp_type']}\"\n",
    "                model_path = f\"logs/{path}/{exp}/best_model/best_model\"\n",
    "\n",
    "            if algo ==\"PPO\":\n",
    "                model = PPO.load(model_path, device='cpu')\n",
    "            elif config.algo =='DQN':\n",
    "                model = DQN.load(model_path, device='cuda')\n",
    "            state_log = np.array(df_curr['curr_obs'].values.tolist())\n",
    "            data =torch.FloatTensor(state_log).to('cpu')\n",
    "\n",
    "            \n",
    "            if config['obs_type']== 'grid':\n",
    "                model = grid_sb3Wrapper(model)\n",
    "            elif algo =='PPO':\n",
    "                model = sb3Wrapper(model)\n",
    "            elif algo == 'DQN':\n",
    "                model = sb3_DQN_wrapper(model)\n",
    "\n",
    "\n",
    "            #tensor\n",
    "            dfy_train = df_curr['curr_obs'].apply(lambda x: np.max(model.forward(Variable(torch.from_numpy(x),requires_grad=False).to(float32)).detach().numpy(),keepdims=True))\n",
    "            print(dfy_train)\n",
    "            if explainer_type == \"kernel\":\n",
    "                df_shapley, pred_explain, internal, timing = explain(\n",
    "                    model=model,\n",
    "                    x_train=df_train,\n",
    "                    x_explain=df_test,\n",
    "                    approach='independence',\n",
    "                    predict_model= lambda m,x: np.max(m(torch.from_numpy(x.to_numpy()).to(float32)).detach().numpy(),keepdims=False,axis=1), #requires model and x as param\n",
    "                    prediction_zero=dfy_train.mean().item(),\n",
    "                )\n",
    "                df_shapley_list.append(df_shapley)\n",
    "                pred_explain_list.append(pred_explain)\n",
    "                internal_list.append(internal)\n",
    "                timing_list.append(timing)\n",
    "            else:\n",
    "                explainer = shap.DeepExplainer(model, data)\n",
    "                shap_vals= explainer.shap_values(data,check_additivity=True)\n",
    "            # make agent model\n",
    "            # extract correspoding dataframe\n",
    "            # gen groupshap values for that config\n",
    "            # add to dataframe\n",
    "    return df_shapley_list, pred_explain_list,internal_list,timing_list\n",
    "\n",
    "def groupShap(lvl_list,base_config,approach= 'independence', group= None):\n",
    "    # init lists\n",
    "    df_shapley_list,pred_explain_list, internal_list, timing_list = [],[],[],[]\n",
    "    for lvl in lvl_list:\n",
    "        #gen configs\n",
    "        configs = gen_config(lvl=lvl,algo=base_config['algo'],obs_type=base_config['obs_type'],exp_type=base_config['exp_type'],base_path= base_config['base_path'],which_model=base_config['which_model'])\n",
    "        for config in configs[0:6]:\n",
    "            data, model = gen_data(config)\n",
    "            algo =config['learning_algo']\n",
    "            # prep data\n",
    "            df = pd.DataFrame(data, columns=['experiment','level','run','step','x','y','hp','curr_grid','grid','play_style','action','curr_obs','observation','done','reward','info','grid_rows','grid_columns'])\n",
    "            #TODO remember to do the todo in prep data\n",
    "            df_train, df_test ,simp_data= prep_data(df)#TODO need convert back to dataframe alos check why they are not same type as input shap\n",
    "            # wrap model\n",
    "            if config['obs_type']== 'grid':\n",
    "                model = grid_sb3Wrapper(model)\n",
    "            elif algo =='PPO':\n",
    "                model = sb3Wrapper(model)\n",
    "            elif algo == 'DQN':\n",
    "                model = sb3_DQN_wrapper(model)\n",
    "            \n",
    "            dfy_train = df['curr_obs'].apply(lambda x: np.max(model.forward(Variable(torch.from_numpy(x),requires_grad=False).to(float32)).detach().numpy(),keepdims=True))\n",
    "            print(dfy_train)\n",
    "            \n",
    "            # generate groupshap data\n",
    "            df_shapley, pred_explain, internal, timing = explain(\n",
    "                model=model,\n",
    "                x_train=df_train,\n",
    "                x_explain=df_test,\n",
    "                approach=approach,\n",
    "                predict_model= lambda m,x: np.max(m(torch.from_numpy(x.to_numpy()).to(float32)).detach().numpy(),keepdims=False,axis=1), #requires model and x as param\n",
    "                prediction_zero=dfy_train.mean().item(),\n",
    "                group=group,\n",
    "            )\n",
    "            # add all data list\n",
    "            df_shapley_list.append(df_shapley)\n",
    "            pred_explain_list.append(pred_explain)\n",
    "            internal_list.append(internal)\n",
    "            timing_list.append(timing)\n",
    "            \n",
    "\n",
    "    return df_shapley_list, pred_explain_list,internal_list,timing_list\n",
    "\n",
    "def group_shap_single_exp(config,approach= 'independence', group= None):\n",
    "    #TODO look into generating on a per action basis - definetly do this\n",
    "    data, model = gen_data(config)\n",
    "    algo =config['learning_algo']\n",
    "    # prep data\n",
    "    df = pd.DataFrame(data, columns=['experiment','level','run','step','x','y','hp','curr_grid','grid','play_style','action','curr_obs','observation','done','reward','info','grid_rows','grid_columns'])\n",
    "    #TODO remember to do the todo in prep data\n",
    "    df_train, df_test ,simp_data= prep_data(df)#TODO need convert back to dataframe alos check why they are not same type as input shap\n",
    "    # wrap model\n",
    "    if config['obs_type']== 'grid':\n",
    "        model = grid_sb3Wrapper(model)\n",
    "    elif algo =='PPO':\n",
    "        model = sb3Wrapper(model)\n",
    "    elif algo == 'DQN':\n",
    "        model = sb3_DQN_wrapper(model)\n",
    "    \n",
    "    dfy_train = df['curr_obs'].apply(lambda x: np.max(model.forward(Variable(torch.from_numpy(x),requires_grad=False).to(float32)).detach().numpy(),keepdims=True))\n",
    "    print(dfy_train)\n",
    "    \n",
    "    # generate groupshap data\n",
    "    df_shapley, pred_explain, internal, timing = explain(\n",
    "        model=model,\n",
    "        x_train=df_train,\n",
    "        x_explain=df_test,\n",
    "        approach=approach,\n",
    "        predict_model= lambda m,x: np.max(m(torch.from_numpy(x.to_numpy()).to(float32)).detach().numpy(),keepdims=False,axis=1), #requires model and x as param\n",
    "        prediction_zero=dfy_train.mean().item(),\n",
    "        # prediction_zero=0,\n",
    "        group=group,\n",
    "    )\n",
    "    return df_shapley, pred_explain, internal, timing, df\n",
    "\n",
    "def group_shap_single_exp_better(config,approach= 'independence', grouping= None):\n",
    "    #TODO look into generating on a per action basis - definetly do this\n",
    "    data, model = gen_data(config)\n",
    "    algo =config['learning_algo']\n",
    "\n",
    "    # wrap model\n",
    "    if config['obs_type']== 'grid':\n",
    "        model = grid_sb3Wrapper(model)\n",
    "    elif algo =='PPO':\n",
    "        model = sb3Wrapper(model)\n",
    "    elif algo == 'DQN':\n",
    "        model = sb3_DQN_wrapper(model)\n",
    "        \n",
    "    # prep data\n",
    "    df = pd.DataFrame(data, columns=['experiment','level','run','step','x','y','hp','curr_grid','grid','play_style','action','curr_obs','observation','done','reward','info','grid_rows','grid_columns'])\n",
    "    #TODO remember to do the todo in prep data\n",
    "\n",
    "    # Separate DataFrame by 'action' column and apply the custom function\n",
    "    dfs =[]\n",
    "    pred_explain = [],\n",
    "    for action, group in df.groupby('action'):\n",
    "        # print(group.info())\n",
    "        # dfs[action] = groupshap(group)\n",
    "        # print(group)\n",
    "        df_train, df_test ,simp_data= prep_data(group)#TODO need convert back to dataframe alos check why they are not same type as input shap\n",
    "        \n",
    "        dfy_train = group['curr_obs'].apply(lambda x: np.max(model.forward(Variable(torch.from_numpy(x),requires_grad=False).to(float32)).detach().numpy(),keepdims=True))\n",
    "\n",
    "        print(dfy_train)\n",
    "        # print(len(df_test))\n",
    "\n",
    "        \n",
    "        # generate groupshap data\n",
    "        df_shapley, pred_explain, internal, timing = explain(\n",
    "            model=model,\n",
    "            x_train=df_train,\n",
    "            x_explain=df_test,\n",
    "            approach=approach,\n",
    "            predict_model= lambda m,x: np.max(m(torch.from_numpy(x.to_numpy()).to(float32)).detach().numpy(),keepdims=False,axis=1), #requires model and x as param\n",
    "            prediction_zero=dfy_train.mean().item(),\n",
    "            group=grouping,\n",
    "        )\n",
    "        df_shapley.index =df_test.index\n",
    "        dfs.append(df_shapley)\n",
    "        # Merge updated DataFrames back together without ignoring indexes\n",
    "    # print(dfs)\n",
    "    merged_df = pd.concat(dfs,join='outer')\n",
    "    merged_df.sort_index(inplace=True)\n",
    "\n",
    "    return df_shapley, pred_explain, internal, timing, merged_df"
   ]
  },
  {
   "cell_type": "markdown",
   "metadata": {},
   "source": [
    "### Single exp"
   ]
  },
  {
   "cell_type": "code",
   "execution_count": 119,
   "metadata": {},
   "outputs": [
    {
     "name": "stdout",
     "output_type": "stream",
     "text": [
      "----------Generating Data----------\n",
      "{'lvl': 'policy_3', 'obs_type': 'distance', 'learning_algo': 'PPO', 'exp_type': 'switch_analysis_new', 'action_type': 'switch', 'action_space_type': 'discrete', 'play_style': 'switch', 'reward_scheme': 'switch', 'exp_path': 'switching_analysis_new_hp', 'base_path': 'play_style_models/base/', 'which_model': 'latest_model_500000_steps'}\n",
      "switch-policy_3_switch_switch_switch_analysis_new_PPO\n"
     ]
    },
    {
     "name": "stderr",
     "output_type": "stream",
     "text": [
      "R[write to console]: Note: You passed a model to explain() which is not natively supported, and did not supply a 'get_model_specs' function to explain().\n",
      "Consistency checks between model and data is therefore disabled.\n",
      "\n",
      "\n",
      "R[write to console]: Setting parameter 'n_batches' to 3 as a fair trade-off between memory consumption and computation time.\n",
      "Reducing 'n_batches' typically reduces the computation time at the cost of increased memory consumption.\n",
      "\n",
      "\n",
      "R[write to console]: Note: You passed a model to explain() which is not natively supported, and did not supply a 'get_model_specs' function to explain().\n",
      "Consistency checks between model and data is therefore disabled.\n",
      "\n",
      "\n",
      "R[write to console]: Setting parameter 'n_batches' to 3 as a fair trade-off between memory consumption and computation time.\n",
      "Reducing 'n_batches' typically reduces the computation time at the cost of increased memory consumption.\n",
      "\n",
      "\n"
     ]
    }
   ],
   "source": [
    "base_config={\n",
    "    'lvl': 'policy_3',\n",
    "    'obs_type': \"distance\",\n",
    "    'learning_algo': \"PPO\",\n",
    "    'exp_type': \"switch_analysis_new\",\n",
    "    'action_type': 'switch',\n",
    "    'action_space_type': 'discrete',\n",
    "    'play_style': 'switch',\n",
    "    'reward_scheme': 'switch',\n",
    "    'learning_algo': 'PPO',\n",
    "    'exp_path': 'switching_analysis_new_hp',\n",
    "    'base_path': 'play_style_models/base/',\n",
    "    # 'which_model': 'best_model',\n",
    "    'which_model': 'latest_model_500000_steps',\n",
    "}\n",
    "df_shapley, pred_explain, internal, timing, df = group_shap_single_exp_better(base_config)"
   ]
  },
  {
   "cell_type": "code",
   "execution_count": 120,
   "metadata": {},
   "outputs": [
    {
     "data": {
      "text/html": [
       "<div>\n",
       "<style scoped>\n",
       "    .dataframe tbody tr th:only-of-type {\n",
       "        vertical-align: middle;\n",
       "    }\n",
       "\n",
       "    .dataframe tbody tr th {\n",
       "        vertical-align: top;\n",
       "    }\n",
       "\n",
       "    .dataframe thead th {\n",
       "        text-align: right;\n",
       "    }\n",
       "</style>\n",
       "<table border=\"1\" class=\"dataframe\">\n",
       "  <thead>\n",
       "    <tr style=\"text-align: right;\">\n",
       "      <th></th>\n",
       "      <th>none</th>\n",
       "      <th>DM</th>\n",
       "      <th>DT</th>\n",
       "      <th>SDT</th>\n",
       "      <th>DP</th>\n",
       "      <th>SDP</th>\n",
       "      <th>DE</th>\n",
       "      <th>SDE</th>\n",
       "      <th>HP</th>\n",
       "    </tr>\n",
       "  </thead>\n",
       "  <tbody>\n",
       "    <tr>\n",
       "      <th>0</th>\n",
       "      <td>4.516351</td>\n",
       "      <td>0.006068</td>\n",
       "      <td>0.009777</td>\n",
       "      <td>-0.020031</td>\n",
       "      <td>0.008265</td>\n",
       "      <td>-0.007103</td>\n",
       "      <td>0.000468</td>\n",
       "      <td>0.015219</td>\n",
       "      <td>0.000223</td>\n",
       "    </tr>\n",
       "    <tr>\n",
       "      <th>1</th>\n",
       "      <td>4.516351</td>\n",
       "      <td>0.002329</td>\n",
       "      <td>0.010497</td>\n",
       "      <td>-0.010672</td>\n",
       "      <td>0.005654</td>\n",
       "      <td>-0.003800</td>\n",
       "      <td>-0.000337</td>\n",
       "      <td>0.010259</td>\n",
       "      <td>0.000223</td>\n",
       "    </tr>\n",
       "    <tr>\n",
       "      <th>2</th>\n",
       "      <td>4.516351</td>\n",
       "      <td>0.000440</td>\n",
       "      <td>0.007264</td>\n",
       "      <td>-0.003837</td>\n",
       "      <td>0.003298</td>\n",
       "      <td>-0.001430</td>\n",
       "      <td>-0.000360</td>\n",
       "      <td>0.005076</td>\n",
       "      <td>0.000223</td>\n",
       "    </tr>\n",
       "    <tr>\n",
       "      <th>3</th>\n",
       "      <td>4.516351</td>\n",
       "      <td>-0.001270</td>\n",
       "      <td>-0.003050</td>\n",
       "      <td>0.005228</td>\n",
       "      <td>-0.001245</td>\n",
       "      <td>0.002160</td>\n",
       "      <td>0.000721</td>\n",
       "      <td>-0.004204</td>\n",
       "      <td>0.000223</td>\n",
       "    </tr>\n",
       "    <tr>\n",
       "      <th>4</th>\n",
       "      <td>4.516351</td>\n",
       "      <td>-0.002831</td>\n",
       "      <td>-0.021685</td>\n",
       "      <td>0.020241</td>\n",
       "      <td>-0.011841</td>\n",
       "      <td>0.007649</td>\n",
       "      <td>0.001001</td>\n",
       "      <td>-0.018726</td>\n",
       "      <td>0.000223</td>\n",
       "    </tr>\n",
       "    <tr>\n",
       "      <th>5</th>\n",
       "      <td>3.919383</td>\n",
       "      <td>0.078296</td>\n",
       "      <td>0.004228</td>\n",
       "      <td>0.004228</td>\n",
       "      <td>0.349553</td>\n",
       "      <td>0.313792</td>\n",
       "      <td>-0.001958</td>\n",
       "      <td>0.007496</td>\n",
       "      <td>0.004822</td>\n",
       "    </tr>\n",
       "    <tr>\n",
       "      <th>6</th>\n",
       "      <td>3.919383</td>\n",
       "      <td>0.076977</td>\n",
       "      <td>0.004228</td>\n",
       "      <td>0.004228</td>\n",
       "      <td>0.350704</td>\n",
       "      <td>0.313768</td>\n",
       "      <td>-0.000726</td>\n",
       "      <td>0.006697</td>\n",
       "      <td>0.004582</td>\n",
       "    </tr>\n",
       "    <tr>\n",
       "      <th>7</th>\n",
       "      <td>3.919383</td>\n",
       "      <td>0.075886</td>\n",
       "      <td>0.004228</td>\n",
       "      <td>0.004228</td>\n",
       "      <td>0.351569</td>\n",
       "      <td>0.313770</td>\n",
       "      <td>0.000339</td>\n",
       "      <td>0.006030</td>\n",
       "      <td>0.004409</td>\n",
       "    </tr>\n",
       "    <tr>\n",
       "      <th>8</th>\n",
       "      <td>3.919383</td>\n",
       "      <td>0.075066</td>\n",
       "      <td>0.004228</td>\n",
       "      <td>0.004228</td>\n",
       "      <td>0.352137</td>\n",
       "      <td>0.313756</td>\n",
       "      <td>0.001191</td>\n",
       "      <td>0.005543</td>\n",
       "      <td>0.004310</td>\n",
       "    </tr>\n",
       "    <tr>\n",
       "      <th>9</th>\n",
       "      <td>3.919383</td>\n",
       "      <td>0.074471</td>\n",
       "      <td>0.004228</td>\n",
       "      <td>0.004228</td>\n",
       "      <td>0.352475</td>\n",
       "      <td>0.313730</td>\n",
       "      <td>0.001855</td>\n",
       "      <td>0.005207</td>\n",
       "      <td>0.004263</td>\n",
       "    </tr>\n",
       "    <tr>\n",
       "      <th>10</th>\n",
       "      <td>3.919383</td>\n",
       "      <td>0.074109</td>\n",
       "      <td>0.004228</td>\n",
       "      <td>0.004228</td>\n",
       "      <td>0.352658</td>\n",
       "      <td>0.313708</td>\n",
       "      <td>0.002306</td>\n",
       "      <td>0.004977</td>\n",
       "      <td>0.004245</td>\n",
       "    </tr>\n",
       "    <tr>\n",
       "      <th>11</th>\n",
       "      <td>3.919383</td>\n",
       "      <td>0.073843</td>\n",
       "      <td>0.004228</td>\n",
       "      <td>0.004228</td>\n",
       "      <td>0.352757</td>\n",
       "      <td>0.313716</td>\n",
       "      <td>0.002649</td>\n",
       "      <td>0.004801</td>\n",
       "      <td>0.004237</td>\n",
       "    </tr>\n",
       "    <tr>\n",
       "      <th>12</th>\n",
       "      <td>3.919383</td>\n",
       "      <td>0.074646</td>\n",
       "      <td>0.004228</td>\n",
       "      <td>0.004228</td>\n",
       "      <td>0.352150</td>\n",
       "      <td>0.313920</td>\n",
       "      <td>0.002069</td>\n",
       "      <td>0.005641</td>\n",
       "      <td>0.003578</td>\n",
       "    </tr>\n",
       "    <tr>\n",
       "      <th>13</th>\n",
       "      <td>3.919383</td>\n",
       "      <td>-0.050768</td>\n",
       "      <td>0.004228</td>\n",
       "      <td>0.004228</td>\n",
       "      <td>0.252127</td>\n",
       "      <td>0.354361</td>\n",
       "      <td>0.002422</td>\n",
       "      <td>0.006953</td>\n",
       "      <td>0.002886</td>\n",
       "    </tr>\n",
       "    <tr>\n",
       "      <th>14</th>\n",
       "      <td>3.919383</td>\n",
       "      <td>-0.050793</td>\n",
       "      <td>0.004228</td>\n",
       "      <td>0.004228</td>\n",
       "      <td>0.252702</td>\n",
       "      <td>0.354060</td>\n",
       "      <td>0.003000</td>\n",
       "      <td>0.005737</td>\n",
       "      <td>0.003282</td>\n",
       "    </tr>\n",
       "    <tr>\n",
       "      <th>15</th>\n",
       "      <td>3.919383</td>\n",
       "      <td>-0.050825</td>\n",
       "      <td>0.004228</td>\n",
       "      <td>0.004228</td>\n",
       "      <td>0.253116</td>\n",
       "      <td>0.353745</td>\n",
       "      <td>0.003419</td>\n",
       "      <td>0.005000</td>\n",
       "      <td>0.003540</td>\n",
       "    </tr>\n",
       "    <tr>\n",
       "      <th>16</th>\n",
       "      <td>3.919383</td>\n",
       "      <td>-0.050867</td>\n",
       "      <td>0.004228</td>\n",
       "      <td>0.004228</td>\n",
       "      <td>0.253423</td>\n",
       "      <td>0.353470</td>\n",
       "      <td>0.003732</td>\n",
       "      <td>0.004544</td>\n",
       "      <td>0.003696</td>\n",
       "    </tr>\n",
       "    <tr>\n",
       "      <th>17</th>\n",
       "      <td>3.919383</td>\n",
       "      <td>-0.050916</td>\n",
       "      <td>0.004228</td>\n",
       "      <td>0.004228</td>\n",
       "      <td>0.253660</td>\n",
       "      <td>0.353260</td>\n",
       "      <td>0.003978</td>\n",
       "      <td>0.004239</td>\n",
       "      <td>0.003781</td>\n",
       "    </tr>\n",
       "    <tr>\n",
       "      <th>18</th>\n",
       "      <td>3.919383</td>\n",
       "      <td>-0.050974</td>\n",
       "      <td>0.004228</td>\n",
       "      <td>0.004228</td>\n",
       "      <td>0.253850</td>\n",
       "      <td>0.353112</td>\n",
       "      <td>0.004180</td>\n",
       "      <td>0.004020</td>\n",
       "      <td>0.003814</td>\n",
       "    </tr>\n",
       "    <tr>\n",
       "      <th>19</th>\n",
       "      <td>3.919383</td>\n",
       "      <td>-0.051039</td>\n",
       "      <td>0.004228</td>\n",
       "      <td>0.004228</td>\n",
       "      <td>0.254009</td>\n",
       "      <td>0.353015</td>\n",
       "      <td>0.004354</td>\n",
       "      <td>0.003855</td>\n",
       "      <td>0.003809</td>\n",
       "    </tr>\n",
       "    <tr>\n",
       "      <th>20</th>\n",
       "      <td>3.919383</td>\n",
       "      <td>-0.050709</td>\n",
       "      <td>0.004228</td>\n",
       "      <td>0.004228</td>\n",
       "      <td>0.253629</td>\n",
       "      <td>0.352764</td>\n",
       "      <td>0.004026</td>\n",
       "      <td>0.004062</td>\n",
       "      <td>0.004232</td>\n",
       "    </tr>\n",
       "    <tr>\n",
       "      <th>21</th>\n",
       "      <td>3.919383</td>\n",
       "      <td>-0.006441</td>\n",
       "      <td>0.004228</td>\n",
       "      <td>0.004228</td>\n",
       "      <td>-0.438615</td>\n",
       "      <td>-0.482859</td>\n",
       "      <td>0.004958</td>\n",
       "      <td>0.003794</td>\n",
       "      <td>0.004330</td>\n",
       "    </tr>\n",
       "    <tr>\n",
       "      <th>22</th>\n",
       "      <td>3.919383</td>\n",
       "      <td>-0.006602</td>\n",
       "      <td>0.004228</td>\n",
       "      <td>0.004228</td>\n",
       "      <td>-0.438581</td>\n",
       "      <td>-0.482848</td>\n",
       "      <td>0.005207</td>\n",
       "      <td>0.003640</td>\n",
       "      <td>0.004351</td>\n",
       "    </tr>\n",
       "    <tr>\n",
       "      <th>23</th>\n",
       "      <td>3.919383</td>\n",
       "      <td>-0.006796</td>\n",
       "      <td>0.004228</td>\n",
       "      <td>0.004228</td>\n",
       "      <td>-0.438527</td>\n",
       "      <td>-0.482853</td>\n",
       "      <td>0.005507</td>\n",
       "      <td>0.003457</td>\n",
       "      <td>0.004379</td>\n",
       "    </tr>\n",
       "    <tr>\n",
       "      <th>24</th>\n",
       "      <td>3.919383</td>\n",
       "      <td>-0.007023</td>\n",
       "      <td>0.004228</td>\n",
       "      <td>0.004228</td>\n",
       "      <td>-0.438442</td>\n",
       "      <td>-0.482891</td>\n",
       "      <td>0.005860</td>\n",
       "      <td>0.003248</td>\n",
       "      <td>0.004415</td>\n",
       "    </tr>\n",
       "    <tr>\n",
       "      <th>25</th>\n",
       "      <td>3.919383</td>\n",
       "      <td>-0.007281</td>\n",
       "      <td>0.004228</td>\n",
       "      <td>0.004228</td>\n",
       "      <td>-0.438317</td>\n",
       "      <td>-0.482982</td>\n",
       "      <td>0.006269</td>\n",
       "      <td>0.003017</td>\n",
       "      <td>0.004461</td>\n",
       "    </tr>\n",
       "    <tr>\n",
       "      <th>26</th>\n",
       "      <td>3.919383</td>\n",
       "      <td>-0.007567</td>\n",
       "      <td>0.004228</td>\n",
       "      <td>0.004228</td>\n",
       "      <td>-0.438132</td>\n",
       "      <td>-0.483156</td>\n",
       "      <td>0.006734</td>\n",
       "      <td>0.002769</td>\n",
       "      <td>0.004519</td>\n",
       "    </tr>\n",
       "    <tr>\n",
       "      <th>27</th>\n",
       "      <td>3.919383</td>\n",
       "      <td>-0.007870</td>\n",
       "      <td>0.004228</td>\n",
       "      <td>0.004228</td>\n",
       "      <td>-0.437870</td>\n",
       "      <td>-0.483449</td>\n",
       "      <td>0.007252</td>\n",
       "      <td>0.002510</td>\n",
       "      <td>0.004595</td>\n",
       "    </tr>\n",
       "    <tr>\n",
       "      <th>28</th>\n",
       "      <td>3.919383</td>\n",
       "      <td>-0.008184</td>\n",
       "      <td>0.004228</td>\n",
       "      <td>0.004228</td>\n",
       "      <td>-0.437513</td>\n",
       "      <td>-0.483893</td>\n",
       "      <td>0.007826</td>\n",
       "      <td>0.002241</td>\n",
       "      <td>0.004689</td>\n",
       "    </tr>\n",
       "    <tr>\n",
       "      <th>29</th>\n",
       "      <td>3.919383</td>\n",
       "      <td>-0.008503</td>\n",
       "      <td>0.004228</td>\n",
       "      <td>0.004228</td>\n",
       "      <td>-0.437056</td>\n",
       "      <td>-0.484491</td>\n",
       "      <td>0.008460</td>\n",
       "      <td>0.001952</td>\n",
       "      <td>0.004804</td>\n",
       "    </tr>\n",
       "    <tr>\n",
       "      <th>30</th>\n",
       "      <td>3.919383</td>\n",
       "      <td>-0.008832</td>\n",
       "      <td>0.004228</td>\n",
       "      <td>0.004228</td>\n",
       "      <td>-0.436509</td>\n",
       "      <td>-0.485196</td>\n",
       "      <td>0.009149</td>\n",
       "      <td>0.001617</td>\n",
       "      <td>0.004937</td>\n",
       "    </tr>\n",
       "    <tr>\n",
       "      <th>31</th>\n",
       "      <td>3.919383</td>\n",
       "      <td>-0.009176</td>\n",
       "      <td>0.004228</td>\n",
       "      <td>0.004228</td>\n",
       "      <td>-0.435904</td>\n",
       "      <td>-0.485897</td>\n",
       "      <td>0.009862</td>\n",
       "      <td>0.001197</td>\n",
       "      <td>0.005086</td>\n",
       "    </tr>\n",
       "  </tbody>\n",
       "</table>\n",
       "</div>"
      ],
      "text/plain": [
       "        none        DM        DT       SDT        DP       SDP        DE  \\\n",
       "0   4.516351  0.006068  0.009777 -0.020031  0.008265 -0.007103  0.000468   \n",
       "1   4.516351  0.002329  0.010497 -0.010672  0.005654 -0.003800 -0.000337   \n",
       "2   4.516351  0.000440  0.007264 -0.003837  0.003298 -0.001430 -0.000360   \n",
       "3   4.516351 -0.001270 -0.003050  0.005228 -0.001245  0.002160  0.000721   \n",
       "4   4.516351 -0.002831 -0.021685  0.020241 -0.011841  0.007649  0.001001   \n",
       "5   3.919383  0.078296  0.004228  0.004228  0.349553  0.313792 -0.001958   \n",
       "6   3.919383  0.076977  0.004228  0.004228  0.350704  0.313768 -0.000726   \n",
       "7   3.919383  0.075886  0.004228  0.004228  0.351569  0.313770  0.000339   \n",
       "8   3.919383  0.075066  0.004228  0.004228  0.352137  0.313756  0.001191   \n",
       "9   3.919383  0.074471  0.004228  0.004228  0.352475  0.313730  0.001855   \n",
       "10  3.919383  0.074109  0.004228  0.004228  0.352658  0.313708  0.002306   \n",
       "11  3.919383  0.073843  0.004228  0.004228  0.352757  0.313716  0.002649   \n",
       "12  3.919383  0.074646  0.004228  0.004228  0.352150  0.313920  0.002069   \n",
       "13  3.919383 -0.050768  0.004228  0.004228  0.252127  0.354361  0.002422   \n",
       "14  3.919383 -0.050793  0.004228  0.004228  0.252702  0.354060  0.003000   \n",
       "15  3.919383 -0.050825  0.004228  0.004228  0.253116  0.353745  0.003419   \n",
       "16  3.919383 -0.050867  0.004228  0.004228  0.253423  0.353470  0.003732   \n",
       "17  3.919383 -0.050916  0.004228  0.004228  0.253660  0.353260  0.003978   \n",
       "18  3.919383 -0.050974  0.004228  0.004228  0.253850  0.353112  0.004180   \n",
       "19  3.919383 -0.051039  0.004228  0.004228  0.254009  0.353015  0.004354   \n",
       "20  3.919383 -0.050709  0.004228  0.004228  0.253629  0.352764  0.004026   \n",
       "21  3.919383 -0.006441  0.004228  0.004228 -0.438615 -0.482859  0.004958   \n",
       "22  3.919383 -0.006602  0.004228  0.004228 -0.438581 -0.482848  0.005207   \n",
       "23  3.919383 -0.006796  0.004228  0.004228 -0.438527 -0.482853  0.005507   \n",
       "24  3.919383 -0.007023  0.004228  0.004228 -0.438442 -0.482891  0.005860   \n",
       "25  3.919383 -0.007281  0.004228  0.004228 -0.438317 -0.482982  0.006269   \n",
       "26  3.919383 -0.007567  0.004228  0.004228 -0.438132 -0.483156  0.006734   \n",
       "27  3.919383 -0.007870  0.004228  0.004228 -0.437870 -0.483449  0.007252   \n",
       "28  3.919383 -0.008184  0.004228  0.004228 -0.437513 -0.483893  0.007826   \n",
       "29  3.919383 -0.008503  0.004228  0.004228 -0.437056 -0.484491  0.008460   \n",
       "30  3.919383 -0.008832  0.004228  0.004228 -0.436509 -0.485196  0.009149   \n",
       "31  3.919383 -0.009176  0.004228  0.004228 -0.435904 -0.485897  0.009862   \n",
       "\n",
       "         SDE        HP  \n",
       "0   0.015219  0.000223  \n",
       "1   0.010259  0.000223  \n",
       "2   0.005076  0.000223  \n",
       "3  -0.004204  0.000223  \n",
       "4  -0.018726  0.000223  \n",
       "5   0.007496  0.004822  \n",
       "6   0.006697  0.004582  \n",
       "7   0.006030  0.004409  \n",
       "8   0.005543  0.004310  \n",
       "9   0.005207  0.004263  \n",
       "10  0.004977  0.004245  \n",
       "11  0.004801  0.004237  \n",
       "12  0.005641  0.003578  \n",
       "13  0.006953  0.002886  \n",
       "14  0.005737  0.003282  \n",
       "15  0.005000  0.003540  \n",
       "16  0.004544  0.003696  \n",
       "17  0.004239  0.003781  \n",
       "18  0.004020  0.003814  \n",
       "19  0.003855  0.003809  \n",
       "20  0.004062  0.004232  \n",
       "21  0.003794  0.004330  \n",
       "22  0.003640  0.004351  \n",
       "23  0.003457  0.004379  \n",
       "24  0.003248  0.004415  \n",
       "25  0.003017  0.004461  \n",
       "26  0.002769  0.004519  \n",
       "27  0.002510  0.004595  \n",
       "28  0.002241  0.004689  \n",
       "29  0.001952  0.004804  \n",
       "30  0.001617  0.004937  \n",
       "31  0.001197  0.005086  "
      ]
     },
     "execution_count": 120,
     "metadata": {},
     "output_type": "execute_result"
    }
   ],
   "source": [
    "# df_shapley\n",
    "# pred_explain\n",
    "# internal\n",
    "# timing\n",
    "df"
   ]
  },
  {
   "cell_type": "code",
   "execution_count": 121,
   "metadata": {},
   "outputs": [
    {
     "data": {
      "application/vnd.plotly.v1+json": {
       "config": {
        "plotlyServerURL": "https://plot.ly"
       },
       "data": [
        {
         "hovertemplate": "variable=DM<br>index=%{x}<br>value=%{y}<extra></extra>",
         "legendgroup": "DM",
         "line": {
          "color": "#636efa",
          "dash": "solid"
         },
         "marker": {
          "symbol": "circle"
         },
         "mode": "lines",
         "name": "DM",
         "orientation": "v",
         "showlegend": true,
         "type": "scatter",
         "x": [
          0,
          1,
          2,
          3,
          4,
          5,
          6,
          7,
          8,
          9,
          10,
          11,
          12,
          13,
          14,
          15,
          16,
          17,
          18,
          19,
          20,
          21,
          22,
          23,
          24,
          25,
          26,
          27,
          28,
          29,
          30,
          31
         ],
         "xaxis": "x",
         "y": [
          0.006068343694030017,
          0.0023289206525764746,
          0.0004399854765971842,
          -0.0012704586060290437,
          -0.0028311054040137673,
          0.07829622108078395,
          0.07697650247479834,
          0.07588619094618347,
          0.07506584186994018,
          0.07447142502598485,
          0.0741087322726242,
          0.0738432600330328,
          0.07464567041781049,
          -0.05076839683668536,
          -0.05079258651958328,
          -0.050825149921631785,
          -0.050866518505744814,
          -0.05091631299438423,
          -0.050974041425794925,
          -0.0510387465666987,
          -0.05070871980574502,
          -0.00644146732335735,
          -0.006602309525902325,
          -0.0067962022284181215,
          -0.007022927346235083,
          -0.007281333337946424,
          -0.007566675311027646,
          -0.007870197577538348,
          -0.008183591825455335,
          -0.008503217568452267,
          -0.00883156738485122,
          -0.009176243535397866
         ],
         "yaxis": "y"
        },
        {
         "hovertemplate": "variable=DT<br>index=%{x}<br>value=%{y}<extra></extra>",
         "legendgroup": "DT",
         "line": {
          "color": "#EF553B",
          "dash": "solid"
         },
         "marker": {
          "symbol": "circle"
         },
         "mode": "lines",
         "name": "DT",
         "orientation": "v",
         "showlegend": true,
         "type": "scatter",
         "x": [
          0,
          1,
          2,
          3,
          4,
          5,
          6,
          7,
          8,
          9,
          10,
          11,
          12,
          13,
          14,
          15,
          16,
          17,
          18,
          19,
          20,
          21,
          22,
          23,
          24,
          25,
          26,
          27,
          28,
          29,
          30,
          31
         ],
         "xaxis": "x",
         "y": [
          0.009776803200430223,
          0.01049740953442988,
          0.007263987358727523,
          -0.003049785757371161,
          -0.021684808260335697,
          0.004227596398152253,
          0.004227596479592989,
          0.004227596391897242,
          0.0042275963318287365,
          0.004227596386267079,
          0.004227596384070059,
          0.004227596382264725,
          0.004227596377080317,
          0.004227597195091977,
          0.004227597211898744,
          0.004227597220880575,
          0.00422759722555712,
          0.004227597228124248,
          0.004227597229599055,
          0.0042275972304489234,
          0.004227597368580625,
          0.004227598070260727,
          0.004227597989178086,
          0.004227597976073957,
          0.004227597988883544,
          0.00422759800049731,
          0.00422759799244625,
          0.0042275979972364736,
          0.004227598002833496,
          0.004227598015852582,
          0.004227598029325916,
          0.0042275980435823035
         ],
         "yaxis": "y"
        },
        {
         "hovertemplate": "variable=SDT<br>index=%{x}<br>value=%{y}<extra></extra>",
         "legendgroup": "SDT",
         "line": {
          "color": "#00cc96",
          "dash": "solid"
         },
         "marker": {
          "symbol": "circle"
         },
         "mode": "lines",
         "name": "SDT",
         "orientation": "v",
         "showlegend": true,
         "type": "scatter",
         "x": [
          0,
          1,
          2,
          3,
          4,
          5,
          6,
          7,
          8,
          9,
          10,
          11,
          12,
          13,
          14,
          15,
          16,
          17,
          18,
          19,
          20,
          21,
          22,
          23,
          24,
          25,
          26,
          27,
          28,
          29,
          30,
          31
         ],
         "xaxis": "x",
         "y": [
          -0.020030598779185803,
          -0.010671517248788832,
          -0.003837040183405113,
          0.005227647501929758,
          0.02024102011041773,
          0.004227596501273612,
          0.004227596582840199,
          0.0042275964952574255,
          0.00422759650306407,
          0.0042275964897969046,
          0.004227596487649067,
          0.004227596485880926,
          0.00422759648037755,
          0.004227597289336015,
          0.004227597306267038,
          0.004227597315332463,
          0.004227597320063627,
          0.004227597322663774,
          0.0042275973241565805,
          0.004227597325014839,
          0.004227597463224619,
          0.004227597934486187,
          0.004227597853434466,
          0.00422759787425842,
          0.004227597853223135,
          0.004227597822526523,
          0.004227597856899139,
          0.004227597861757641,
          0.004227597901320883,
          0.004227597880532623,
          0.004227597894095274,
          0.004227597908449843
         ],
         "yaxis": "y"
        },
        {
         "hovertemplate": "variable=DP<br>index=%{x}<br>value=%{y}<extra></extra>",
         "legendgroup": "DP",
         "line": {
          "color": "#ab63fa",
          "dash": "solid"
         },
         "marker": {
          "symbol": "circle"
         },
         "mode": "lines",
         "name": "DP",
         "orientation": "v",
         "showlegend": true,
         "type": "scatter",
         "x": [
          0,
          1,
          2,
          3,
          4,
          5,
          6,
          7,
          8,
          9,
          10,
          11,
          12,
          13,
          14,
          15,
          16,
          17,
          18,
          19,
          20,
          21,
          22,
          23,
          24,
          25,
          26,
          27,
          28,
          29,
          30,
          31
         ],
         "xaxis": "x",
         "y": [
          0.00826538567863821,
          0.005654391884004096,
          0.003297532005425062,
          -0.0012452527050505588,
          -0.011841080015104005,
          0.34955309229781967,
          0.35070437938826304,
          0.35156877820772453,
          0.3521368739608751,
          0.3524751633496339,
          0.35265753060816224,
          0.3527572066531179,
          0.35214959176883315,
          0.252126897102353,
          0.25270173169738097,
          0.25311603712770897,
          0.2534226995009806,
          0.25365983951856885,
          0.25385013150006874,
          0.2540092459222183,
          0.2536292571641099,
          -0.43861539063950805,
          -0.4385809078280487,
          -0.4385265242370828,
          -0.43844243274597217,
          -0.43831653353302946,
          -0.4381323130376238,
          -0.437869955923621,
          -0.4375128555949589,
          -0.4370555367208363,
          -0.4365089274195122,
          -0.43590431731203194
         ],
         "yaxis": "y"
        },
        {
         "hovertemplate": "variable=SDP<br>index=%{x}<br>value=%{y}<extra></extra>",
         "legendgroup": "SDP",
         "line": {
          "color": "#FFA15A",
          "dash": "solid"
         },
         "marker": {
          "symbol": "circle"
         },
         "mode": "lines",
         "name": "SDP",
         "orientation": "v",
         "showlegend": true,
         "type": "scatter",
         "x": [
          0,
          1,
          2,
          3,
          4,
          5,
          6,
          7,
          8,
          9,
          10,
          11,
          12,
          13,
          14,
          15,
          16,
          17,
          18,
          19,
          20,
          21,
          22,
          23,
          24,
          25,
          26,
          27,
          28,
          29,
          30,
          31
         ],
         "xaxis": "x",
         "y": [
          -0.007103076638110592,
          -0.003799530837853675,
          -0.001429527312851789,
          0.002160327148397899,
          0.007648946417689206,
          0.31379241532096586,
          0.31376764731673445,
          0.3137698182442712,
          0.31375588826082307,
          0.3137302997658088,
          0.313707677754748,
          0.3137155427785487,
          0.31392003171927035,
          0.35436091475277715,
          0.35406022724804315,
          0.3537454886965568,
          0.35347036614543,
          0.35325986534667897,
          0.353112067773125,
          0.3530145444630719,
          0.35276370414347274,
          -0.4828587573750538,
          -0.48284773118992064,
          -0.4828532019308134,
          -0.48289102773725157,
          -0.4829819288121857,
          -0.48315569355906574,
          -0.4834491794115794,
          -0.48389303192559097,
          -0.484490729192842,
          -0.485195569672108,
          -0.4858973280566776
         ],
         "yaxis": "y"
        },
        {
         "hovertemplate": "variable=DE<br>index=%{x}<br>value=%{y}<extra></extra>",
         "legendgroup": "DE",
         "line": {
          "color": "#19d3f3",
          "dash": "solid"
         },
         "marker": {
          "symbol": "circle"
         },
         "mode": "lines",
         "name": "DE",
         "orientation": "v",
         "showlegend": true,
         "type": "scatter",
         "x": [
          0,
          1,
          2,
          3,
          4,
          5,
          6,
          7,
          8,
          9,
          10,
          11,
          12,
          13,
          14,
          15,
          16,
          17,
          18,
          19,
          20,
          21,
          22,
          23,
          24,
          25,
          26,
          27,
          28,
          29,
          30,
          31
         ],
         "xaxis": "x",
         "y": [
          0.0004684362538707619,
          -0.00033720359778817996,
          -0.00035983979112677307,
          0.0007213343569980305,
          0.0010010781692584292,
          -0.0019578433177936463,
          -0.000725663341819751,
          0.0003388160689809101,
          0.0011912036562412714,
          0.0018552415533926864,
          0.002306389136932166,
          0.0026487721816148696,
          0.002069092274079712,
          0.0024218352602528984,
          0.0029997102850646902,
          0.00341886089087433,
          0.003732149313755684,
          0.00397797515140745,
          0.004179646282239886,
          0.00435391407319129,
          0.004026304225411979,
          0.004958454924906323,
          0.00520689278570519,
          0.005506732044426425,
          0.005859996446394348,
          0.006268975507269351,
          0.006733558565086065,
          0.007251862620051289,
          0.007825870067411204,
          0.008460300699312032,
          0.009148960323764003,
          0.009861886008104337
         ],
         "yaxis": "y"
        },
        {
         "hovertemplate": "variable=SDE<br>index=%{x}<br>value=%{y}<extra></extra>",
         "legendgroup": "SDE",
         "line": {
          "color": "#FF6692",
          "dash": "solid"
         },
         "marker": {
          "symbol": "circle"
         },
         "mode": "lines",
         "name": "SDE",
         "orientation": "v",
         "showlegend": true,
         "type": "scatter",
         "x": [
          0,
          1,
          2,
          3,
          4,
          5,
          6,
          7,
          8,
          9,
          10,
          11,
          12,
          13,
          14,
          15,
          16,
          17,
          18,
          19,
          20,
          21,
          22,
          23,
          24,
          25,
          26,
          27,
          28,
          29,
          30,
          31
         ],
         "xaxis": "x",
         "y": [
          0.01521913401116406,
          0.010259389885169312,
          0.005075851042209352,
          -0.004203574289700486,
          -0.018725654630755484,
          0.0074955532157725295,
          0.006697181610618463,
          0.006030000193313859,
          0.005543132262960174,
          0.0052073712788691245,
          0.004977369585028216,
          0.004801354279660844,
          0.0056407898540693086,
          0.006953014256701389,
          0.005737475817012551,
          0.0050003980276778085,
          0.004543659085957371,
          0.00423856141606759,
          0.004020479587387357,
          0.0038546978387972945,
          0.0040621447331302026,
          0.0037944645260284144,
          0.003639762368648188,
          0.0034568351076164367,
          0.0032481565901668914,
          0.003016916379036923,
          0.0027687467981505638,
          0.002509955593444276,
          0.0022413278015517586,
          0.0019521873560604272,
          0.0016172067452650282,
          0.0011968838490217237
         ],
         "yaxis": "y"
        },
        {
         "hovertemplate": "variable=HP<br>index=%{x}<br>value=%{y}<extra></extra>",
         "legendgroup": "HP",
         "line": {
          "color": "#B6E880",
          "dash": "solid"
         },
         "marker": {
          "symbol": "circle"
         },
         "mode": "lines",
         "name": "HP",
         "orientation": "v",
         "showlegend": true,
         "type": "scatter",
         "x": [
          0,
          1,
          2,
          3,
          4,
          5,
          6,
          7,
          8,
          9,
          10,
          11,
          12,
          13,
          14,
          15,
          16,
          17,
          18,
          19,
          20,
          21,
          22,
          23,
          24,
          25,
          26,
          27,
          28,
          29,
          30,
          31
         ],
         "xaxis": "x",
         "y": [
          0.00022305134596549832,
          0.00022305093814048413,
          0.00022305096203072155,
          0.00022305150240133656,
          0.0002230508675319457,
          0.004822395335355238,
          0.004582263129752589,
          0.00440918390465341,
          0.004309847582228873,
          0.004263286555363696,
          0.004245088157848983,
          0.004236651578163794,
          0.003577611437261227,
          0.002885624201669634,
          0.003281913379878669,
          0.003539512861391636,
          0.0036961300307499258,
          0.0037814181712871476,
          0.003814016575732957,
          0.0038091214042640597,
          0.004231993786510765,
          0.004329706956393548,
          0.004351304616207791,
          0.0043793724599599905,
          0.004415246017492752,
          0.004460915048595787,
          0.0045193877901182735,
          0.004594525973506497,
          0.004689292767885306,
          0.0048040068126641135,
          0.004936908874231466,
          0.005086130599373001
         ],
         "yaxis": "y"
        }
       ],
       "layout": {
        "legend": {
         "title": {
          "text": "variable"
         },
         "tracegroupgap": 0
        },
        "margin": {
         "t": 60
        },
        "template": {
         "data": {
          "bar": [
           {
            "error_x": {
             "color": "#2a3f5f"
            },
            "error_y": {
             "color": "#2a3f5f"
            },
            "marker": {
             "line": {
              "color": "#E5ECF6",
              "width": 0.5
             },
             "pattern": {
              "fillmode": "overlay",
              "size": 10,
              "solidity": 0.2
             }
            },
            "type": "bar"
           }
          ],
          "barpolar": [
           {
            "marker": {
             "line": {
              "color": "#E5ECF6",
              "width": 0.5
             },
             "pattern": {
              "fillmode": "overlay",
              "size": 10,
              "solidity": 0.2
             }
            },
            "type": "barpolar"
           }
          ],
          "carpet": [
           {
            "aaxis": {
             "endlinecolor": "#2a3f5f",
             "gridcolor": "white",
             "linecolor": "white",
             "minorgridcolor": "white",
             "startlinecolor": "#2a3f5f"
            },
            "baxis": {
             "endlinecolor": "#2a3f5f",
             "gridcolor": "white",
             "linecolor": "white",
             "minorgridcolor": "white",
             "startlinecolor": "#2a3f5f"
            },
            "type": "carpet"
           }
          ],
          "choropleth": [
           {
            "colorbar": {
             "outlinewidth": 0,
             "ticks": ""
            },
            "type": "choropleth"
           }
          ],
          "contour": [
           {
            "colorbar": {
             "outlinewidth": 0,
             "ticks": ""
            },
            "colorscale": [
             [
              0,
              "#0d0887"
             ],
             [
              0.1111111111111111,
              "#46039f"
             ],
             [
              0.2222222222222222,
              "#7201a8"
             ],
             [
              0.3333333333333333,
              "#9c179e"
             ],
             [
              0.4444444444444444,
              "#bd3786"
             ],
             [
              0.5555555555555556,
              "#d8576b"
             ],
             [
              0.6666666666666666,
              "#ed7953"
             ],
             [
              0.7777777777777778,
              "#fb9f3a"
             ],
             [
              0.8888888888888888,
              "#fdca26"
             ],
             [
              1,
              "#f0f921"
             ]
            ],
            "type": "contour"
           }
          ],
          "contourcarpet": [
           {
            "colorbar": {
             "outlinewidth": 0,
             "ticks": ""
            },
            "type": "contourcarpet"
           }
          ],
          "heatmap": [
           {
            "colorbar": {
             "outlinewidth": 0,
             "ticks": ""
            },
            "colorscale": [
             [
              0,
              "#0d0887"
             ],
             [
              0.1111111111111111,
              "#46039f"
             ],
             [
              0.2222222222222222,
              "#7201a8"
             ],
             [
              0.3333333333333333,
              "#9c179e"
             ],
             [
              0.4444444444444444,
              "#bd3786"
             ],
             [
              0.5555555555555556,
              "#d8576b"
             ],
             [
              0.6666666666666666,
              "#ed7953"
             ],
             [
              0.7777777777777778,
              "#fb9f3a"
             ],
             [
              0.8888888888888888,
              "#fdca26"
             ],
             [
              1,
              "#f0f921"
             ]
            ],
            "type": "heatmap"
           }
          ],
          "heatmapgl": [
           {
            "colorbar": {
             "outlinewidth": 0,
             "ticks": ""
            },
            "colorscale": [
             [
              0,
              "#0d0887"
             ],
             [
              0.1111111111111111,
              "#46039f"
             ],
             [
              0.2222222222222222,
              "#7201a8"
             ],
             [
              0.3333333333333333,
              "#9c179e"
             ],
             [
              0.4444444444444444,
              "#bd3786"
             ],
             [
              0.5555555555555556,
              "#d8576b"
             ],
             [
              0.6666666666666666,
              "#ed7953"
             ],
             [
              0.7777777777777778,
              "#fb9f3a"
             ],
             [
              0.8888888888888888,
              "#fdca26"
             ],
             [
              1,
              "#f0f921"
             ]
            ],
            "type": "heatmapgl"
           }
          ],
          "histogram": [
           {
            "marker": {
             "pattern": {
              "fillmode": "overlay",
              "size": 10,
              "solidity": 0.2
             }
            },
            "type": "histogram"
           }
          ],
          "histogram2d": [
           {
            "colorbar": {
             "outlinewidth": 0,
             "ticks": ""
            },
            "colorscale": [
             [
              0,
              "#0d0887"
             ],
             [
              0.1111111111111111,
              "#46039f"
             ],
             [
              0.2222222222222222,
              "#7201a8"
             ],
             [
              0.3333333333333333,
              "#9c179e"
             ],
             [
              0.4444444444444444,
              "#bd3786"
             ],
             [
              0.5555555555555556,
              "#d8576b"
             ],
             [
              0.6666666666666666,
              "#ed7953"
             ],
             [
              0.7777777777777778,
              "#fb9f3a"
             ],
             [
              0.8888888888888888,
              "#fdca26"
             ],
             [
              1,
              "#f0f921"
             ]
            ],
            "type": "histogram2d"
           }
          ],
          "histogram2dcontour": [
           {
            "colorbar": {
             "outlinewidth": 0,
             "ticks": ""
            },
            "colorscale": [
             [
              0,
              "#0d0887"
             ],
             [
              0.1111111111111111,
              "#46039f"
             ],
             [
              0.2222222222222222,
              "#7201a8"
             ],
             [
              0.3333333333333333,
              "#9c179e"
             ],
             [
              0.4444444444444444,
              "#bd3786"
             ],
             [
              0.5555555555555556,
              "#d8576b"
             ],
             [
              0.6666666666666666,
              "#ed7953"
             ],
             [
              0.7777777777777778,
              "#fb9f3a"
             ],
             [
              0.8888888888888888,
              "#fdca26"
             ],
             [
              1,
              "#f0f921"
             ]
            ],
            "type": "histogram2dcontour"
           }
          ],
          "mesh3d": [
           {
            "colorbar": {
             "outlinewidth": 0,
             "ticks": ""
            },
            "type": "mesh3d"
           }
          ],
          "parcoords": [
           {
            "line": {
             "colorbar": {
              "outlinewidth": 0,
              "ticks": ""
             }
            },
            "type": "parcoords"
           }
          ],
          "pie": [
           {
            "automargin": true,
            "type": "pie"
           }
          ],
          "scatter": [
           {
            "fillpattern": {
             "fillmode": "overlay",
             "size": 10,
             "solidity": 0.2
            },
            "type": "scatter"
           }
          ],
          "scatter3d": [
           {
            "line": {
             "colorbar": {
              "outlinewidth": 0,
              "ticks": ""
             }
            },
            "marker": {
             "colorbar": {
              "outlinewidth": 0,
              "ticks": ""
             }
            },
            "type": "scatter3d"
           }
          ],
          "scattercarpet": [
           {
            "marker": {
             "colorbar": {
              "outlinewidth": 0,
              "ticks": ""
             }
            },
            "type": "scattercarpet"
           }
          ],
          "scattergeo": [
           {
            "marker": {
             "colorbar": {
              "outlinewidth": 0,
              "ticks": ""
             }
            },
            "type": "scattergeo"
           }
          ],
          "scattergl": [
           {
            "marker": {
             "colorbar": {
              "outlinewidth": 0,
              "ticks": ""
             }
            },
            "type": "scattergl"
           }
          ],
          "scattermapbox": [
           {
            "marker": {
             "colorbar": {
              "outlinewidth": 0,
              "ticks": ""
             }
            },
            "type": "scattermapbox"
           }
          ],
          "scatterpolar": [
           {
            "marker": {
             "colorbar": {
              "outlinewidth": 0,
              "ticks": ""
             }
            },
            "type": "scatterpolar"
           }
          ],
          "scatterpolargl": [
           {
            "marker": {
             "colorbar": {
              "outlinewidth": 0,
              "ticks": ""
             }
            },
            "type": "scatterpolargl"
           }
          ],
          "scatterternary": [
           {
            "marker": {
             "colorbar": {
              "outlinewidth": 0,
              "ticks": ""
             }
            },
            "type": "scatterternary"
           }
          ],
          "surface": [
           {
            "colorbar": {
             "outlinewidth": 0,
             "ticks": ""
            },
            "colorscale": [
             [
              0,
              "#0d0887"
             ],
             [
              0.1111111111111111,
              "#46039f"
             ],
             [
              0.2222222222222222,
              "#7201a8"
             ],
             [
              0.3333333333333333,
              "#9c179e"
             ],
             [
              0.4444444444444444,
              "#bd3786"
             ],
             [
              0.5555555555555556,
              "#d8576b"
             ],
             [
              0.6666666666666666,
              "#ed7953"
             ],
             [
              0.7777777777777778,
              "#fb9f3a"
             ],
             [
              0.8888888888888888,
              "#fdca26"
             ],
             [
              1,
              "#f0f921"
             ]
            ],
            "type": "surface"
           }
          ],
          "table": [
           {
            "cells": {
             "fill": {
              "color": "#EBF0F8"
             },
             "line": {
              "color": "white"
             }
            },
            "header": {
             "fill": {
              "color": "#C8D4E3"
             },
             "line": {
              "color": "white"
             }
            },
            "type": "table"
           }
          ]
         },
         "layout": {
          "annotationdefaults": {
           "arrowcolor": "#2a3f5f",
           "arrowhead": 0,
           "arrowwidth": 1
          },
          "autotypenumbers": "strict",
          "coloraxis": {
           "colorbar": {
            "outlinewidth": 0,
            "ticks": ""
           }
          },
          "colorscale": {
           "diverging": [
            [
             0,
             "#8e0152"
            ],
            [
             0.1,
             "#c51b7d"
            ],
            [
             0.2,
             "#de77ae"
            ],
            [
             0.3,
             "#f1b6da"
            ],
            [
             0.4,
             "#fde0ef"
            ],
            [
             0.5,
             "#f7f7f7"
            ],
            [
             0.6,
             "#e6f5d0"
            ],
            [
             0.7,
             "#b8e186"
            ],
            [
             0.8,
             "#7fbc41"
            ],
            [
             0.9,
             "#4d9221"
            ],
            [
             1,
             "#276419"
            ]
           ],
           "sequential": [
            [
             0,
             "#0d0887"
            ],
            [
             0.1111111111111111,
             "#46039f"
            ],
            [
             0.2222222222222222,
             "#7201a8"
            ],
            [
             0.3333333333333333,
             "#9c179e"
            ],
            [
             0.4444444444444444,
             "#bd3786"
            ],
            [
             0.5555555555555556,
             "#d8576b"
            ],
            [
             0.6666666666666666,
             "#ed7953"
            ],
            [
             0.7777777777777778,
             "#fb9f3a"
            ],
            [
             0.8888888888888888,
             "#fdca26"
            ],
            [
             1,
             "#f0f921"
            ]
           ],
           "sequentialminus": [
            [
             0,
             "#0d0887"
            ],
            [
             0.1111111111111111,
             "#46039f"
            ],
            [
             0.2222222222222222,
             "#7201a8"
            ],
            [
             0.3333333333333333,
             "#9c179e"
            ],
            [
             0.4444444444444444,
             "#bd3786"
            ],
            [
             0.5555555555555556,
             "#d8576b"
            ],
            [
             0.6666666666666666,
             "#ed7953"
            ],
            [
             0.7777777777777778,
             "#fb9f3a"
            ],
            [
             0.8888888888888888,
             "#fdca26"
            ],
            [
             1,
             "#f0f921"
            ]
           ]
          },
          "colorway": [
           "#636efa",
           "#EF553B",
           "#00cc96",
           "#ab63fa",
           "#FFA15A",
           "#19d3f3",
           "#FF6692",
           "#B6E880",
           "#FF97FF",
           "#FECB52"
          ],
          "font": {
           "color": "#2a3f5f"
          },
          "geo": {
           "bgcolor": "white",
           "lakecolor": "white",
           "landcolor": "#E5ECF6",
           "showlakes": true,
           "showland": true,
           "subunitcolor": "white"
          },
          "hoverlabel": {
           "align": "left"
          },
          "hovermode": "closest",
          "mapbox": {
           "style": "light"
          },
          "paper_bgcolor": "white",
          "plot_bgcolor": "#E5ECF6",
          "polar": {
           "angularaxis": {
            "gridcolor": "white",
            "linecolor": "white",
            "ticks": ""
           },
           "bgcolor": "#E5ECF6",
           "radialaxis": {
            "gridcolor": "white",
            "linecolor": "white",
            "ticks": ""
           }
          },
          "scene": {
           "xaxis": {
            "backgroundcolor": "#E5ECF6",
            "gridcolor": "white",
            "gridwidth": 2,
            "linecolor": "white",
            "showbackground": true,
            "ticks": "",
            "zerolinecolor": "white"
           },
           "yaxis": {
            "backgroundcolor": "#E5ECF6",
            "gridcolor": "white",
            "gridwidth": 2,
            "linecolor": "white",
            "showbackground": true,
            "ticks": "",
            "zerolinecolor": "white"
           },
           "zaxis": {
            "backgroundcolor": "#E5ECF6",
            "gridcolor": "white",
            "gridwidth": 2,
            "linecolor": "white",
            "showbackground": true,
            "ticks": "",
            "zerolinecolor": "white"
           }
          },
          "shapedefaults": {
           "line": {
            "color": "#2a3f5f"
           }
          },
          "ternary": {
           "aaxis": {
            "gridcolor": "white",
            "linecolor": "white",
            "ticks": ""
           },
           "baxis": {
            "gridcolor": "white",
            "linecolor": "white",
            "ticks": ""
           },
           "bgcolor": "#E5ECF6",
           "caxis": {
            "gridcolor": "white",
            "linecolor": "white",
            "ticks": ""
           }
          },
          "title": {
           "x": 0.05
          },
          "xaxis": {
           "automargin": true,
           "gridcolor": "white",
           "linecolor": "white",
           "ticks": "",
           "title": {
            "standoff": 15
           },
           "zerolinecolor": "white",
           "zerolinewidth": 2
          },
          "yaxis": {
           "automargin": true,
           "gridcolor": "white",
           "linecolor": "white",
           "ticks": "",
           "title": {
            "standoff": 15
           },
           "zerolinecolor": "white",
           "zerolinewidth": 2
          }
         }
        },
        "xaxis": {
         "anchor": "y",
         "domain": [
          0,
          1
         ],
         "title": {
          "text": "Step"
         }
        },
        "yaxis": {
         "anchor": "x",
         "domain": [
          0,
          1
         ],
         "title": {
          "text": "Shap Value"
         }
        }
       }
      },
      "text/html": [
       "<div>                            <div id=\"2f5f36e4-752a-4472-81bc-8fc6b98a57b5\" class=\"plotly-graph-div\" style=\"height:525px; width:100%;\"></div>            <script type=\"text/javascript\">                require([\"plotly\"], function(Plotly) {                    window.PLOTLYENV=window.PLOTLYENV || {};                                    if (document.getElementById(\"2f5f36e4-752a-4472-81bc-8fc6b98a57b5\")) {                    Plotly.newPlot(                        \"2f5f36e4-752a-4472-81bc-8fc6b98a57b5\",                        [{\"hovertemplate\":\"variable=DM\\u003cbr\\u003eindex=%{x}\\u003cbr\\u003evalue=%{y}\\u003cextra\\u003e\\u003c\\u002fextra\\u003e\",\"legendgroup\":\"DM\",\"line\":{\"color\":\"#636efa\",\"dash\":\"solid\"},\"marker\":{\"symbol\":\"circle\"},\"mode\":\"lines\",\"name\":\"DM\",\"orientation\":\"v\",\"showlegend\":true,\"x\":[0,1,2,3,4,5,6,7,8,9,10,11,12,13,14,15,16,17,18,19,20,21,22,23,24,25,26,27,28,29,30,31],\"xaxis\":\"x\",\"y\":[0.006068343694030017,0.0023289206525764746,0.0004399854765971842,-0.0012704586060290437,-0.0028311054040137673,0.07829622108078395,0.07697650247479834,0.07588619094618347,0.07506584186994018,0.07447142502598485,0.0741087322726242,0.0738432600330328,0.07464567041781049,-0.05076839683668536,-0.05079258651958328,-0.050825149921631785,-0.050866518505744814,-0.05091631299438423,-0.050974041425794925,-0.0510387465666987,-0.05070871980574502,-0.00644146732335735,-0.006602309525902325,-0.0067962022284181215,-0.007022927346235083,-0.007281333337946424,-0.007566675311027646,-0.007870197577538348,-0.008183591825455335,-0.008503217568452267,-0.00883156738485122,-0.009176243535397866],\"yaxis\":\"y\",\"type\":\"scatter\"},{\"hovertemplate\":\"variable=DT\\u003cbr\\u003eindex=%{x}\\u003cbr\\u003evalue=%{y}\\u003cextra\\u003e\\u003c\\u002fextra\\u003e\",\"legendgroup\":\"DT\",\"line\":{\"color\":\"#EF553B\",\"dash\":\"solid\"},\"marker\":{\"symbol\":\"circle\"},\"mode\":\"lines\",\"name\":\"DT\",\"orientation\":\"v\",\"showlegend\":true,\"x\":[0,1,2,3,4,5,6,7,8,9,10,11,12,13,14,15,16,17,18,19,20,21,22,23,24,25,26,27,28,29,30,31],\"xaxis\":\"x\",\"y\":[0.009776803200430223,0.01049740953442988,0.007263987358727523,-0.003049785757371161,-0.021684808260335697,0.004227596398152253,0.004227596479592989,0.004227596391897242,0.0042275963318287365,0.004227596386267079,0.004227596384070059,0.004227596382264725,0.004227596377080317,0.004227597195091977,0.004227597211898744,0.004227597220880575,0.00422759722555712,0.004227597228124248,0.004227597229599055,0.0042275972304489234,0.004227597368580625,0.004227598070260727,0.004227597989178086,0.004227597976073957,0.004227597988883544,0.00422759800049731,0.00422759799244625,0.0042275979972364736,0.004227598002833496,0.004227598015852582,0.004227598029325916,0.0042275980435823035],\"yaxis\":\"y\",\"type\":\"scatter\"},{\"hovertemplate\":\"variable=SDT\\u003cbr\\u003eindex=%{x}\\u003cbr\\u003evalue=%{y}\\u003cextra\\u003e\\u003c\\u002fextra\\u003e\",\"legendgroup\":\"SDT\",\"line\":{\"color\":\"#00cc96\",\"dash\":\"solid\"},\"marker\":{\"symbol\":\"circle\"},\"mode\":\"lines\",\"name\":\"SDT\",\"orientation\":\"v\",\"showlegend\":true,\"x\":[0,1,2,3,4,5,6,7,8,9,10,11,12,13,14,15,16,17,18,19,20,21,22,23,24,25,26,27,28,29,30,31],\"xaxis\":\"x\",\"y\":[-0.020030598779185803,-0.010671517248788832,-0.003837040183405113,0.005227647501929758,0.02024102011041773,0.004227596501273612,0.004227596582840199,0.0042275964952574255,0.00422759650306407,0.0042275964897969046,0.004227596487649067,0.004227596485880926,0.00422759648037755,0.004227597289336015,0.004227597306267038,0.004227597315332463,0.004227597320063627,0.004227597322663774,0.0042275973241565805,0.004227597325014839,0.004227597463224619,0.004227597934486187,0.004227597853434466,0.00422759787425842,0.004227597853223135,0.004227597822526523,0.004227597856899139,0.004227597861757641,0.004227597901320883,0.004227597880532623,0.004227597894095274,0.004227597908449843],\"yaxis\":\"y\",\"type\":\"scatter\"},{\"hovertemplate\":\"variable=DP\\u003cbr\\u003eindex=%{x}\\u003cbr\\u003evalue=%{y}\\u003cextra\\u003e\\u003c\\u002fextra\\u003e\",\"legendgroup\":\"DP\",\"line\":{\"color\":\"#ab63fa\",\"dash\":\"solid\"},\"marker\":{\"symbol\":\"circle\"},\"mode\":\"lines\",\"name\":\"DP\",\"orientation\":\"v\",\"showlegend\":true,\"x\":[0,1,2,3,4,5,6,7,8,9,10,11,12,13,14,15,16,17,18,19,20,21,22,23,24,25,26,27,28,29,30,31],\"xaxis\":\"x\",\"y\":[0.00826538567863821,0.005654391884004096,0.003297532005425062,-0.0012452527050505588,-0.011841080015104005,0.34955309229781967,0.35070437938826304,0.35156877820772453,0.3521368739608751,0.3524751633496339,0.35265753060816224,0.3527572066531179,0.35214959176883315,0.252126897102353,0.25270173169738097,0.25311603712770897,0.2534226995009806,0.25365983951856885,0.25385013150006874,0.2540092459222183,0.2536292571641099,-0.43861539063950805,-0.4385809078280487,-0.4385265242370828,-0.43844243274597217,-0.43831653353302946,-0.4381323130376238,-0.437869955923621,-0.4375128555949589,-0.4370555367208363,-0.4365089274195122,-0.43590431731203194],\"yaxis\":\"y\",\"type\":\"scatter\"},{\"hovertemplate\":\"variable=SDP\\u003cbr\\u003eindex=%{x}\\u003cbr\\u003evalue=%{y}\\u003cextra\\u003e\\u003c\\u002fextra\\u003e\",\"legendgroup\":\"SDP\",\"line\":{\"color\":\"#FFA15A\",\"dash\":\"solid\"},\"marker\":{\"symbol\":\"circle\"},\"mode\":\"lines\",\"name\":\"SDP\",\"orientation\":\"v\",\"showlegend\":true,\"x\":[0,1,2,3,4,5,6,7,8,9,10,11,12,13,14,15,16,17,18,19,20,21,22,23,24,25,26,27,28,29,30,31],\"xaxis\":\"x\",\"y\":[-0.007103076638110592,-0.003799530837853675,-0.001429527312851789,0.002160327148397899,0.007648946417689206,0.31379241532096586,0.31376764731673445,0.3137698182442712,0.31375588826082307,0.3137302997658088,0.313707677754748,0.3137155427785487,0.31392003171927035,0.35436091475277715,0.35406022724804315,0.3537454886965568,0.35347036614543,0.35325986534667897,0.353112067773125,0.3530145444630719,0.35276370414347274,-0.4828587573750538,-0.48284773118992064,-0.4828532019308134,-0.48289102773725157,-0.4829819288121857,-0.48315569355906574,-0.4834491794115794,-0.48389303192559097,-0.484490729192842,-0.485195569672108,-0.4858973280566776],\"yaxis\":\"y\",\"type\":\"scatter\"},{\"hovertemplate\":\"variable=DE\\u003cbr\\u003eindex=%{x}\\u003cbr\\u003evalue=%{y}\\u003cextra\\u003e\\u003c\\u002fextra\\u003e\",\"legendgroup\":\"DE\",\"line\":{\"color\":\"#19d3f3\",\"dash\":\"solid\"},\"marker\":{\"symbol\":\"circle\"},\"mode\":\"lines\",\"name\":\"DE\",\"orientation\":\"v\",\"showlegend\":true,\"x\":[0,1,2,3,4,5,6,7,8,9,10,11,12,13,14,15,16,17,18,19,20,21,22,23,24,25,26,27,28,29,30,31],\"xaxis\":\"x\",\"y\":[0.0004684362538707619,-0.00033720359778817996,-0.00035983979112677307,0.0007213343569980305,0.0010010781692584292,-0.0019578433177936463,-0.000725663341819751,0.0003388160689809101,0.0011912036562412714,0.0018552415533926864,0.002306389136932166,0.0026487721816148696,0.002069092274079712,0.0024218352602528984,0.0029997102850646902,0.00341886089087433,0.003732149313755684,0.00397797515140745,0.004179646282239886,0.00435391407319129,0.004026304225411979,0.004958454924906323,0.00520689278570519,0.005506732044426425,0.005859996446394348,0.006268975507269351,0.006733558565086065,0.007251862620051289,0.007825870067411204,0.008460300699312032,0.009148960323764003,0.009861886008104337],\"yaxis\":\"y\",\"type\":\"scatter\"},{\"hovertemplate\":\"variable=SDE\\u003cbr\\u003eindex=%{x}\\u003cbr\\u003evalue=%{y}\\u003cextra\\u003e\\u003c\\u002fextra\\u003e\",\"legendgroup\":\"SDE\",\"line\":{\"color\":\"#FF6692\",\"dash\":\"solid\"},\"marker\":{\"symbol\":\"circle\"},\"mode\":\"lines\",\"name\":\"SDE\",\"orientation\":\"v\",\"showlegend\":true,\"x\":[0,1,2,3,4,5,6,7,8,9,10,11,12,13,14,15,16,17,18,19,20,21,22,23,24,25,26,27,28,29,30,31],\"xaxis\":\"x\",\"y\":[0.01521913401116406,0.010259389885169312,0.005075851042209352,-0.004203574289700486,-0.018725654630755484,0.0074955532157725295,0.006697181610618463,0.006030000193313859,0.005543132262960174,0.0052073712788691245,0.004977369585028216,0.004801354279660844,0.0056407898540693086,0.006953014256701389,0.005737475817012551,0.0050003980276778085,0.004543659085957371,0.00423856141606759,0.004020479587387357,0.0038546978387972945,0.0040621447331302026,0.0037944645260284144,0.003639762368648188,0.0034568351076164367,0.0032481565901668914,0.003016916379036923,0.0027687467981505638,0.002509955593444276,0.0022413278015517586,0.0019521873560604272,0.0016172067452650282,0.0011968838490217237],\"yaxis\":\"y\",\"type\":\"scatter\"},{\"hovertemplate\":\"variable=HP\\u003cbr\\u003eindex=%{x}\\u003cbr\\u003evalue=%{y}\\u003cextra\\u003e\\u003c\\u002fextra\\u003e\",\"legendgroup\":\"HP\",\"line\":{\"color\":\"#B6E880\",\"dash\":\"solid\"},\"marker\":{\"symbol\":\"circle\"},\"mode\":\"lines\",\"name\":\"HP\",\"orientation\":\"v\",\"showlegend\":true,\"x\":[0,1,2,3,4,5,6,7,8,9,10,11,12,13,14,15,16,17,18,19,20,21,22,23,24,25,26,27,28,29,30,31],\"xaxis\":\"x\",\"y\":[0.00022305134596549832,0.00022305093814048413,0.00022305096203072155,0.00022305150240133656,0.0002230508675319457,0.004822395335355238,0.004582263129752589,0.00440918390465341,0.004309847582228873,0.004263286555363696,0.004245088157848983,0.004236651578163794,0.003577611437261227,0.002885624201669634,0.003281913379878669,0.003539512861391636,0.0036961300307499258,0.0037814181712871476,0.003814016575732957,0.0038091214042640597,0.004231993786510765,0.004329706956393548,0.004351304616207791,0.0043793724599599905,0.004415246017492752,0.004460915048595787,0.0045193877901182735,0.004594525973506497,0.004689292767885306,0.0048040068126641135,0.004936908874231466,0.005086130599373001],\"yaxis\":\"y\",\"type\":\"scatter\"}],                        {\"template\":{\"data\":{\"histogram2dcontour\":[{\"type\":\"histogram2dcontour\",\"colorbar\":{\"outlinewidth\":0,\"ticks\":\"\"},\"colorscale\":[[0.0,\"#0d0887\"],[0.1111111111111111,\"#46039f\"],[0.2222222222222222,\"#7201a8\"],[0.3333333333333333,\"#9c179e\"],[0.4444444444444444,\"#bd3786\"],[0.5555555555555556,\"#d8576b\"],[0.6666666666666666,\"#ed7953\"],[0.7777777777777778,\"#fb9f3a\"],[0.8888888888888888,\"#fdca26\"],[1.0,\"#f0f921\"]]}],\"choropleth\":[{\"type\":\"choropleth\",\"colorbar\":{\"outlinewidth\":0,\"ticks\":\"\"}}],\"histogram2d\":[{\"type\":\"histogram2d\",\"colorbar\":{\"outlinewidth\":0,\"ticks\":\"\"},\"colorscale\":[[0.0,\"#0d0887\"],[0.1111111111111111,\"#46039f\"],[0.2222222222222222,\"#7201a8\"],[0.3333333333333333,\"#9c179e\"],[0.4444444444444444,\"#bd3786\"],[0.5555555555555556,\"#d8576b\"],[0.6666666666666666,\"#ed7953\"],[0.7777777777777778,\"#fb9f3a\"],[0.8888888888888888,\"#fdca26\"],[1.0,\"#f0f921\"]]}],\"heatmap\":[{\"type\":\"heatmap\",\"colorbar\":{\"outlinewidth\":0,\"ticks\":\"\"},\"colorscale\":[[0.0,\"#0d0887\"],[0.1111111111111111,\"#46039f\"],[0.2222222222222222,\"#7201a8\"],[0.3333333333333333,\"#9c179e\"],[0.4444444444444444,\"#bd3786\"],[0.5555555555555556,\"#d8576b\"],[0.6666666666666666,\"#ed7953\"],[0.7777777777777778,\"#fb9f3a\"],[0.8888888888888888,\"#fdca26\"],[1.0,\"#f0f921\"]]}],\"heatmapgl\":[{\"type\":\"heatmapgl\",\"colorbar\":{\"outlinewidth\":0,\"ticks\":\"\"},\"colorscale\":[[0.0,\"#0d0887\"],[0.1111111111111111,\"#46039f\"],[0.2222222222222222,\"#7201a8\"],[0.3333333333333333,\"#9c179e\"],[0.4444444444444444,\"#bd3786\"],[0.5555555555555556,\"#d8576b\"],[0.6666666666666666,\"#ed7953\"],[0.7777777777777778,\"#fb9f3a\"],[0.8888888888888888,\"#fdca26\"],[1.0,\"#f0f921\"]]}],\"contourcarpet\":[{\"type\":\"contourcarpet\",\"colorbar\":{\"outlinewidth\":0,\"ticks\":\"\"}}],\"contour\":[{\"type\":\"contour\",\"colorbar\":{\"outlinewidth\":0,\"ticks\":\"\"},\"colorscale\":[[0.0,\"#0d0887\"],[0.1111111111111111,\"#46039f\"],[0.2222222222222222,\"#7201a8\"],[0.3333333333333333,\"#9c179e\"],[0.4444444444444444,\"#bd3786\"],[0.5555555555555556,\"#d8576b\"],[0.6666666666666666,\"#ed7953\"],[0.7777777777777778,\"#fb9f3a\"],[0.8888888888888888,\"#fdca26\"],[1.0,\"#f0f921\"]]}],\"surface\":[{\"type\":\"surface\",\"colorbar\":{\"outlinewidth\":0,\"ticks\":\"\"},\"colorscale\":[[0.0,\"#0d0887\"],[0.1111111111111111,\"#46039f\"],[0.2222222222222222,\"#7201a8\"],[0.3333333333333333,\"#9c179e\"],[0.4444444444444444,\"#bd3786\"],[0.5555555555555556,\"#d8576b\"],[0.6666666666666666,\"#ed7953\"],[0.7777777777777778,\"#fb9f3a\"],[0.8888888888888888,\"#fdca26\"],[1.0,\"#f0f921\"]]}],\"mesh3d\":[{\"type\":\"mesh3d\",\"colorbar\":{\"outlinewidth\":0,\"ticks\":\"\"}}],\"scatter\":[{\"fillpattern\":{\"fillmode\":\"overlay\",\"size\":10,\"solidity\":0.2},\"type\":\"scatter\"}],\"parcoords\":[{\"type\":\"parcoords\",\"line\":{\"colorbar\":{\"outlinewidth\":0,\"ticks\":\"\"}}}],\"scatterpolargl\":[{\"type\":\"scatterpolargl\",\"marker\":{\"colorbar\":{\"outlinewidth\":0,\"ticks\":\"\"}}}],\"bar\":[{\"error_x\":{\"color\":\"#2a3f5f\"},\"error_y\":{\"color\":\"#2a3f5f\"},\"marker\":{\"line\":{\"color\":\"#E5ECF6\",\"width\":0.5},\"pattern\":{\"fillmode\":\"overlay\",\"size\":10,\"solidity\":0.2}},\"type\":\"bar\"}],\"scattergeo\":[{\"type\":\"scattergeo\",\"marker\":{\"colorbar\":{\"outlinewidth\":0,\"ticks\":\"\"}}}],\"scatterpolar\":[{\"type\":\"scatterpolar\",\"marker\":{\"colorbar\":{\"outlinewidth\":0,\"ticks\":\"\"}}}],\"histogram\":[{\"marker\":{\"pattern\":{\"fillmode\":\"overlay\",\"size\":10,\"solidity\":0.2}},\"type\":\"histogram\"}],\"scattergl\":[{\"type\":\"scattergl\",\"marker\":{\"colorbar\":{\"outlinewidth\":0,\"ticks\":\"\"}}}],\"scatter3d\":[{\"type\":\"scatter3d\",\"line\":{\"colorbar\":{\"outlinewidth\":0,\"ticks\":\"\"}},\"marker\":{\"colorbar\":{\"outlinewidth\":0,\"ticks\":\"\"}}}],\"scattermapbox\":[{\"type\":\"scattermapbox\",\"marker\":{\"colorbar\":{\"outlinewidth\":0,\"ticks\":\"\"}}}],\"scatterternary\":[{\"type\":\"scatterternary\",\"marker\":{\"colorbar\":{\"outlinewidth\":0,\"ticks\":\"\"}}}],\"scattercarpet\":[{\"type\":\"scattercarpet\",\"marker\":{\"colorbar\":{\"outlinewidth\":0,\"ticks\":\"\"}}}],\"carpet\":[{\"aaxis\":{\"endlinecolor\":\"#2a3f5f\",\"gridcolor\":\"white\",\"linecolor\":\"white\",\"minorgridcolor\":\"white\",\"startlinecolor\":\"#2a3f5f\"},\"baxis\":{\"endlinecolor\":\"#2a3f5f\",\"gridcolor\":\"white\",\"linecolor\":\"white\",\"minorgridcolor\":\"white\",\"startlinecolor\":\"#2a3f5f\"},\"type\":\"carpet\"}],\"table\":[{\"cells\":{\"fill\":{\"color\":\"#EBF0F8\"},\"line\":{\"color\":\"white\"}},\"header\":{\"fill\":{\"color\":\"#C8D4E3\"},\"line\":{\"color\":\"white\"}},\"type\":\"table\"}],\"barpolar\":[{\"marker\":{\"line\":{\"color\":\"#E5ECF6\",\"width\":0.5},\"pattern\":{\"fillmode\":\"overlay\",\"size\":10,\"solidity\":0.2}},\"type\":\"barpolar\"}],\"pie\":[{\"automargin\":true,\"type\":\"pie\"}]},\"layout\":{\"autotypenumbers\":\"strict\",\"colorway\":[\"#636efa\",\"#EF553B\",\"#00cc96\",\"#ab63fa\",\"#FFA15A\",\"#19d3f3\",\"#FF6692\",\"#B6E880\",\"#FF97FF\",\"#FECB52\"],\"font\":{\"color\":\"#2a3f5f\"},\"hovermode\":\"closest\",\"hoverlabel\":{\"align\":\"left\"},\"paper_bgcolor\":\"white\",\"plot_bgcolor\":\"#E5ECF6\",\"polar\":{\"bgcolor\":\"#E5ECF6\",\"angularaxis\":{\"gridcolor\":\"white\",\"linecolor\":\"white\",\"ticks\":\"\"},\"radialaxis\":{\"gridcolor\":\"white\",\"linecolor\":\"white\",\"ticks\":\"\"}},\"ternary\":{\"bgcolor\":\"#E5ECF6\",\"aaxis\":{\"gridcolor\":\"white\",\"linecolor\":\"white\",\"ticks\":\"\"},\"baxis\":{\"gridcolor\":\"white\",\"linecolor\":\"white\",\"ticks\":\"\"},\"caxis\":{\"gridcolor\":\"white\",\"linecolor\":\"white\",\"ticks\":\"\"}},\"coloraxis\":{\"colorbar\":{\"outlinewidth\":0,\"ticks\":\"\"}},\"colorscale\":{\"sequential\":[[0.0,\"#0d0887\"],[0.1111111111111111,\"#46039f\"],[0.2222222222222222,\"#7201a8\"],[0.3333333333333333,\"#9c179e\"],[0.4444444444444444,\"#bd3786\"],[0.5555555555555556,\"#d8576b\"],[0.6666666666666666,\"#ed7953\"],[0.7777777777777778,\"#fb9f3a\"],[0.8888888888888888,\"#fdca26\"],[1.0,\"#f0f921\"]],\"sequentialminus\":[[0.0,\"#0d0887\"],[0.1111111111111111,\"#46039f\"],[0.2222222222222222,\"#7201a8\"],[0.3333333333333333,\"#9c179e\"],[0.4444444444444444,\"#bd3786\"],[0.5555555555555556,\"#d8576b\"],[0.6666666666666666,\"#ed7953\"],[0.7777777777777778,\"#fb9f3a\"],[0.8888888888888888,\"#fdca26\"],[1.0,\"#f0f921\"]],\"diverging\":[[0,\"#8e0152\"],[0.1,\"#c51b7d\"],[0.2,\"#de77ae\"],[0.3,\"#f1b6da\"],[0.4,\"#fde0ef\"],[0.5,\"#f7f7f7\"],[0.6,\"#e6f5d0\"],[0.7,\"#b8e186\"],[0.8,\"#7fbc41\"],[0.9,\"#4d9221\"],[1,\"#276419\"]]},\"xaxis\":{\"gridcolor\":\"white\",\"linecolor\":\"white\",\"ticks\":\"\",\"title\":{\"standoff\":15},\"zerolinecolor\":\"white\",\"automargin\":true,\"zerolinewidth\":2},\"yaxis\":{\"gridcolor\":\"white\",\"linecolor\":\"white\",\"ticks\":\"\",\"title\":{\"standoff\":15},\"zerolinecolor\":\"white\",\"automargin\":true,\"zerolinewidth\":2},\"scene\":{\"xaxis\":{\"backgroundcolor\":\"#E5ECF6\",\"gridcolor\":\"white\",\"linecolor\":\"white\",\"showbackground\":true,\"ticks\":\"\",\"zerolinecolor\":\"white\",\"gridwidth\":2},\"yaxis\":{\"backgroundcolor\":\"#E5ECF6\",\"gridcolor\":\"white\",\"linecolor\":\"white\",\"showbackground\":true,\"ticks\":\"\",\"zerolinecolor\":\"white\",\"gridwidth\":2},\"zaxis\":{\"backgroundcolor\":\"#E5ECF6\",\"gridcolor\":\"white\",\"linecolor\":\"white\",\"showbackground\":true,\"ticks\":\"\",\"zerolinecolor\":\"white\",\"gridwidth\":2}},\"shapedefaults\":{\"line\":{\"color\":\"#2a3f5f\"}},\"annotationdefaults\":{\"arrowcolor\":\"#2a3f5f\",\"arrowhead\":0,\"arrowwidth\":1},\"geo\":{\"bgcolor\":\"white\",\"landcolor\":\"#E5ECF6\",\"subunitcolor\":\"white\",\"showland\":true,\"showlakes\":true,\"lakecolor\":\"white\"},\"title\":{\"x\":0.05},\"mapbox\":{\"style\":\"light\"}}},\"xaxis\":{\"anchor\":\"y\",\"domain\":[0.0,1.0],\"title\":{\"text\":\"Step\"}},\"yaxis\":{\"anchor\":\"x\",\"domain\":[0.0,1.0],\"title\":{\"text\":\"Shap Value\"}},\"legend\":{\"title\":{\"text\":\"variable\"},\"tracegroupgap\":0},\"margin\":{\"t\":60}},                        {\"responsive\": true}                    ).then(function(){\n",
       "                            \n",
       "var gd = document.getElementById('2f5f36e4-752a-4472-81bc-8fc6b98a57b5');\n",
       "var x = new MutationObserver(function (mutations, observer) {{\n",
       "        var display = window.getComputedStyle(gd).display;\n",
       "        if (!display || display === 'none') {{\n",
       "            console.log([gd, 'removed!']);\n",
       "            Plotly.purge(gd);\n",
       "            observer.disconnect();\n",
       "        }}\n",
       "}});\n",
       "\n",
       "// Listen for the removal of the full notebook cells\n",
       "var notebookContainer = gd.closest('#notebook-container');\n",
       "if (notebookContainer) {{\n",
       "    x.observe(notebookContainer, {childList: true});\n",
       "}}\n",
       "\n",
       "// Listen for the clearing of the current output cell\n",
       "var outputEl = gd.closest('.output');\n",
       "if (outputEl) {{\n",
       "    x.observe(outputEl, {childList: true});\n",
       "}}\n",
       "\n",
       "                        })                };                });            </script>        </div>"
      ]
     },
     "metadata": {},
     "output_type": "display_data"
    }
   ],
   "source": [
    "# print(df[['curr_obs','action']])\n",
    "# print(df['action'].unique())\n",
    "# sns.lineplot(data=df_shapley[[\"DM\",\"DT\",\"SDT\",\"DP\",\"SDP\",\"DE\",\"SDE\",\"HP\"]], linewidth=2.5, palette=\"tab10\")\n",
    "fig =px.line(data_frame=df[[\"DM\",\"DT\",\"SDT\",\"DP\",\"SDP\",\"DE\",\"SDE\",\"HP\"]],x= df[[\"DM\",\"DT\",\"SDT\",\"DP\",\"SDP\",\"DE\",\"SDE\",\"HP\"]].index ,y = df[[\"DM\",\"DT\",\"SDT\",\"DP\",\"SDP\",\"DE\",\"SDE\",\"HP\"]].columns).update_layout(xaxis_title=\"Step\", yaxis_title=\"Shap Value\")\n",
    "fig.show()\n"
   ]
  },
  {
   "cell_type": "code",
   "execution_count": 19,
   "metadata": {},
   "outputs": [
    {
     "name": "stdout",
     "output_type": "stream",
     "text": [
      "----------Generating Data----------\n",
      "{'lvl': 'policy_2', 'obs_type': 'distance', 'learning_algo': 'PPO', 'exp_type': 'switch_exitLessBetter', 'action_type': 'switch', 'action_space_type': 'discrete', 'play_style': 'switch', 'reward_scheme': 'switch', 'exp_path': 'switching', 'base_path': 'play_style_models/base/', 'which_model': 'best_model'}\n",
      "switch-policy_2_switch_switch_switch_exitLessBetter_PPO\n"
     ]
    },
    {
     "name": "stderr",
     "output_type": "stream",
     "text": [
      "R[write to console]: Note: You passed a model to explain() which is not natively supported, and did not supply a 'get_model_specs' function to explain().\n",
      "Consistency checks between model and data is therefore disabled.\n",
      "\n",
      "\n",
      "R[write to console]: Setting parameter 'n_batches' to 3 as a fair trade-off between memory consumption and computation time.\n",
      "Reducing 'n_batches' typically reduces the computation time at the cost of increased memory consumption.\n",
      "\n",
      "\n"
     ]
    },
    {
     "name": "stdout",
     "output_type": "stream",
     "text": [
      "0      [3.1140745]\n",
      "1      [3.1140451]\n",
      "2       [3.113708]\n",
      "3      [3.1117535]\n",
      "4      [3.0976179]\n",
      "          ...     \n",
      "115     [2.678426]\n",
      "116    [2.6784258]\n",
      "117    [1.1655737]\n",
      "118    [1.1655735]\n",
      "119    [1.1655732]\n",
      "Name: curr_obs, Length: 120, dtype: object\n",
      "['TREASURE' 'KILLER' 'POTION']\n"
     ]
    },
    {
     "data": {
      "application/vnd.plotly.v1+json": {
       "config": {
        "plotlyServerURL": "https://plot.ly"
       },
       "data": [
        {
         "hovertemplate": "variable=DM<br>index=%{x}<br>value=%{y}<extra></extra>",
         "legendgroup": "DM",
         "line": {
          "color": "#636efa",
          "dash": "solid"
         },
         "marker": {
          "symbol": "circle"
         },
         "mode": "lines",
         "name": "DM",
         "orientation": "v",
         "showlegend": true,
         "type": "scatter",
         "x": [
          "1",
          "2",
          "3",
          "4",
          "5",
          "6",
          "7",
          "8",
          "9",
          "10",
          "11",
          "12",
          "13",
          "14",
          "15",
          "16",
          "17",
          "18",
          "19",
          "20",
          "21",
          "22",
          "23",
          "24"
         ],
         "xaxis": "x",
         "y": [
          0.20478004567813488,
          0.20803616932917343,
          0.21172571105466176,
          0.21493370218430555,
          0.21742481482845885,
          0.23644963728630294,
          0.23824488589544826,
          0.24184512511447423,
          0.24711536177283008,
          0.25298429597326433,
          0.25874556350710254,
          0.26447383874377717,
          0.2658285291228991,
          0.31085263746606856,
          0.3133764671096551,
          0.3158300540343793,
          0.3182829388998114,
          0.3207406214922694,
          0.32318606361227536,
          0.32561374613671973,
          0.3284432342969037,
          0.16937347121636118,
          0.16931008027412295,
          0.16908531091319745
         ],
         "yaxis": "y"
        },
        {
         "hovertemplate": "variable=DT<br>index=%{x}<br>value=%{y}<extra></extra>",
         "legendgroup": "DT",
         "line": {
          "color": "#EF553B",
          "dash": "solid"
         },
         "marker": {
          "symbol": "circle"
         },
         "mode": "lines",
         "name": "DT",
         "orientation": "v",
         "showlegend": true,
         "type": "scatter",
         "x": [
          "1",
          "2",
          "3",
          "4",
          "5",
          "6",
          "7",
          "8",
          "9",
          "10",
          "11",
          "12",
          "13",
          "14",
          "15",
          "16",
          "17",
          "18",
          "19",
          "20",
          "21",
          "22",
          "23",
          "24"
         ],
         "xaxis": "x",
         "y": [
          0.29130137251119,
          0.29233106386918695,
          0.2915038722053181,
          0.2881251868061537,
          0.27998593261384247,
          0.11060496344137374,
          0.1082391023010599,
          0.10340882717505082,
          0.09640449853294134,
          0.08853632004242276,
          0.0865528646314769,
          0.08429444374413583,
          0.06917045397300944,
          0.04863926015847083,
          0.046076036566307786,
          0.04358688352056663,
          0.04110203285211458,
          0.0386156725573585,
          0.036144495881602755,
          0.03369354595981829,
          0.03081090386470138,
          0.028911729198115816,
          0.027996246177903875,
          0.02716654686789384
         ],
         "yaxis": "y"
        },
        {
         "hovertemplate": "variable=SDT<br>index=%{x}<br>value=%{y}<extra></extra>",
         "legendgroup": "SDT",
         "line": {
          "color": "#00cc96",
          "dash": "solid"
         },
         "marker": {
          "symbol": "circle"
         },
         "mode": "lines",
         "name": "SDT",
         "orientation": "v",
         "showlegend": true,
         "type": "scatter",
         "x": [
          "1",
          "2",
          "3",
          "4",
          "5",
          "6",
          "7",
          "8",
          "9",
          "10",
          "11",
          "12",
          "13",
          "14",
          "15",
          "16",
          "17",
          "18",
          "19",
          "20",
          "21",
          "22",
          "23",
          "24"
         ],
         "xaxis": "x",
         "y": [
          0.28759787201739967,
          0.287845340657975,
          0.2862567655116606,
          0.28220785844875945,
          0.2736890333251981,
          0.06833199486277276,
          0.06598072012467578,
          0.06117631178152883,
          0.05421442875841324,
          0.046410397427322926,
          0.04441669801385415,
          0.04215705645282212,
          0.028361423615438842,
          0.08395723240127345,
          0.08158073040521557,
          0.07927419450936657,
          0.07696909283380693,
          0.07466062563951947,
          0.07236563109500432,
          0.07008828849980164,
          0.06682654789722496,
          0.04169810975309691,
          0.04077944387129385,
          0.039946289185165136
         ],
         "yaxis": "y"
        },
        {
         "hovertemplate": "variable=DP<br>index=%{x}<br>value=%{y}<extra></extra>",
         "legendgroup": "DP",
         "line": {
          "color": "#ab63fa",
          "dash": "solid"
         },
         "marker": {
          "symbol": "circle"
         },
         "mode": "lines",
         "name": "DP",
         "orientation": "v",
         "showlegend": true,
         "type": "scatter",
         "x": [
          "1",
          "2",
          "3",
          "4",
          "5",
          "6",
          "7",
          "8",
          "9",
          "10",
          "11",
          "12",
          "13",
          "14",
          "15",
          "16",
          "17",
          "18",
          "19",
          "20",
          "21",
          "22",
          "23",
          "24"
         ],
         "xaxis": "x",
         "y": [
          0.12856542265672855,
          0.12860294746807205,
          0.1290476222878575,
          0.13094862318883843,
          0.13414181137780476,
          0.09378300827773906,
          0.09385111350787553,
          0.09370060960348126,
          0.09325861614230219,
          0.09236854562742428,
          0.09153035844561824,
          0.09028178811721535,
          0.0870496651084604,
          0.1521387440495971,
          0.15096891388733394,
          0.15006232925903806,
          0.14943645584178936,
          0.1490039245441618,
          0.14864776845071284,
          0.14844939944213312,
          0.15212041463491333,
          0.7429414806229027,
          0.7375867634426967,
          0.732709447974726
         ],
         "yaxis": "y"
        },
        {
         "hovertemplate": "variable=SDP<br>index=%{x}<br>value=%{y}<extra></extra>",
         "legendgroup": "SDP",
         "line": {
          "color": "#FFA15A",
          "dash": "solid"
         },
         "marker": {
          "symbol": "circle"
         },
         "mode": "lines",
         "name": "SDP",
         "orientation": "v",
         "showlegend": true,
         "type": "scatter",
         "x": [
          "1",
          "2",
          "3",
          "4",
          "5",
          "6",
          "7",
          "8",
          "9",
          "10",
          "11",
          "12",
          "13",
          "14",
          "15",
          "16",
          "17",
          "18",
          "19",
          "20",
          "21",
          "22",
          "23",
          "24"
         ],
         "xaxis": "x",
         "y": [
          0.14335867635995203,
          0.1432574617887528,
          0.1433589595878477,
          0.14358053377233473,
          0.14480480484654681,
          0.07825026822461591,
          0.07750705224099187,
          0.07628943658576252,
          0.0747193617798328,
          0.07291932103388235,
          0.07414391213772167,
          0.07522064020338645,
          0.06862489746204506,
          0.04724210179527274,
          0.046189774575230845,
          0.04527616572746409,
          0.04437522482338215,
          0.04341055895334408,
          0.04236216062057609,
          0.04111749065358713,
          0.03205143471604603,
          0.45496889306644156,
          0.4560858281862577,
          0.4572885408163066
         ],
         "yaxis": "y"
        },
        {
         "hovertemplate": "variable=DE<br>index=%{x}<br>value=%{y}<extra></extra>",
         "legendgroup": "DE",
         "line": {
          "color": "#19d3f3",
          "dash": "solid"
         },
         "marker": {
          "symbol": "circle"
         },
         "mode": "lines",
         "name": "DE",
         "orientation": "v",
         "showlegend": true,
         "type": "scatter",
         "x": [
          "1",
          "2",
          "3",
          "4",
          "5",
          "6",
          "7",
          "8",
          "9",
          "10",
          "11",
          "12",
          "13",
          "14",
          "15",
          "16",
          "17",
          "18",
          "19",
          "20",
          "21",
          "22",
          "23",
          "24"
         ],
         "xaxis": "x",
         "y": [
          0.06063708593659475,
          0.06034420359520635,
          0.059929970479640125,
          0.05943950422897811,
          0.057097470523594436,
          0.004791911489566809,
          0.003912314433913207,
          0.0021815438607485876,
          0.0002039734084365435,
          0.002770454379239297,
          0.0041618001577148475,
          0.005466434010081857,
          0.009289929344823656,
          0.005216646101425817,
          0.006963472656430505,
          0.008801551972830238,
          0.010645059616901167,
          0.012373678544571623,
          0.013970559089862902,
          0.015515337146103494,
          0.01676152900238659,
          0.024018946209503445,
          0.026394389312015022,
          0.028484091324605332
         ],
         "yaxis": "y"
        },
        {
         "hovertemplate": "variable=SDE<br>index=%{x}<br>value=%{y}<extra></extra>",
         "legendgroup": "SDE",
         "line": {
          "color": "#FF6692",
          "dash": "solid"
         },
         "marker": {
          "symbol": "circle"
         },
         "mode": "lines",
         "name": "SDE",
         "orientation": "v",
         "showlegend": true,
         "type": "scatter",
         "x": [
          "1",
          "2",
          "3",
          "4",
          "5",
          "6",
          "7",
          "8",
          "9",
          "10",
          "11",
          "12",
          "13",
          "14",
          "15",
          "16",
          "17",
          "18",
          "19",
          "20",
          "21",
          "22",
          "23",
          "24"
         ],
         "xaxis": "x",
         "y": [
          0.08965375395335642,
          0.0923105781041266,
          0.0984324624243919,
          0.1060853524061921,
          0.10979984974208747,
          0.004237464065463348,
          0.0028701472106557268,
          0.00006548395952374881,
          0.004363691911745719,
          0.00891040025805621,
          0.0061213521102630826,
          0.0034346646642510565,
          0.018766226065424923,
          0.012234119738798645,
          0.015602434217244245,
          0.01907074046915216,
          0.022826073217942635,
          0.026840857899671135,
          0.030938986151602368,
          0.034981585969095924,
          0.03936228048504594,
          0.038621926453920964,
          0.04165690308993453,
          0.04409959425489965
         ],
         "yaxis": "y"
        },
        {
         "hovertemplate": "variable=HP<br>index=%{x}<br>value=%{y}<extra></extra>",
         "legendgroup": "HP",
         "line": {
          "color": "#B6E880",
          "dash": "solid"
         },
         "marker": {
          "symbol": "circle"
         },
         "mode": "lines",
         "name": "HP",
         "orientation": "v",
         "showlegend": true,
         "type": "scatter",
         "x": [
          "1",
          "2",
          "3",
          "4",
          "5",
          "6",
          "7",
          "8",
          "9",
          "10",
          "11",
          "12",
          "13",
          "14",
          "15",
          "16",
          "17",
          "18",
          "19",
          "20",
          "21",
          "22",
          "23",
          "24"
         ],
         "xaxis": "x",
         "y": [
          0.0011349364304096515,
          0.0007843224519138783,
          0.0002986821797910717,
          0.00030529083685896217,
          0.0010816236970970635,
          0.002966365068625602,
          0.0029665026328695426,
          0.002966579972314835,
          0.002966637377023406,
          0.002966663130511137,
          0.002966670150924721,
          0.0029666723804411257,
          0.004384664848014474,
          0.0016344821003384858,
          0.001508226181064698,
          0.0013855303300050804,
          0.0012683489052397801,
          0.00115644079828362,
          0.0010443920000106411,
          0.0009188351721534983,
          0.0029666553013084677,
          0.01075603618006011,
          0.01015767778574498,
          0.009577145389710084
         ],
         "yaxis": "y"
        }
       ],
       "layout": {
        "legend": {
         "title": {
          "text": "variable"
         },
         "tracegroupgap": 0
        },
        "margin": {
         "t": 60
        },
        "template": {
         "data": {
          "bar": [
           {
            "error_x": {
             "color": "#2a3f5f"
            },
            "error_y": {
             "color": "#2a3f5f"
            },
            "marker": {
             "line": {
              "color": "#E5ECF6",
              "width": 0.5
             },
             "pattern": {
              "fillmode": "overlay",
              "size": 10,
              "solidity": 0.2
             }
            },
            "type": "bar"
           }
          ],
          "barpolar": [
           {
            "marker": {
             "line": {
              "color": "#E5ECF6",
              "width": 0.5
             },
             "pattern": {
              "fillmode": "overlay",
              "size": 10,
              "solidity": 0.2
             }
            },
            "type": "barpolar"
           }
          ],
          "carpet": [
           {
            "aaxis": {
             "endlinecolor": "#2a3f5f",
             "gridcolor": "white",
             "linecolor": "white",
             "minorgridcolor": "white",
             "startlinecolor": "#2a3f5f"
            },
            "baxis": {
             "endlinecolor": "#2a3f5f",
             "gridcolor": "white",
             "linecolor": "white",
             "minorgridcolor": "white",
             "startlinecolor": "#2a3f5f"
            },
            "type": "carpet"
           }
          ],
          "choropleth": [
           {
            "colorbar": {
             "outlinewidth": 0,
             "ticks": ""
            },
            "type": "choropleth"
           }
          ],
          "contour": [
           {
            "colorbar": {
             "outlinewidth": 0,
             "ticks": ""
            },
            "colorscale": [
             [
              0,
              "#0d0887"
             ],
             [
              0.1111111111111111,
              "#46039f"
             ],
             [
              0.2222222222222222,
              "#7201a8"
             ],
             [
              0.3333333333333333,
              "#9c179e"
             ],
             [
              0.4444444444444444,
              "#bd3786"
             ],
             [
              0.5555555555555556,
              "#d8576b"
             ],
             [
              0.6666666666666666,
              "#ed7953"
             ],
             [
              0.7777777777777778,
              "#fb9f3a"
             ],
             [
              0.8888888888888888,
              "#fdca26"
             ],
             [
              1,
              "#f0f921"
             ]
            ],
            "type": "contour"
           }
          ],
          "contourcarpet": [
           {
            "colorbar": {
             "outlinewidth": 0,
             "ticks": ""
            },
            "type": "contourcarpet"
           }
          ],
          "heatmap": [
           {
            "colorbar": {
             "outlinewidth": 0,
             "ticks": ""
            },
            "colorscale": [
             [
              0,
              "#0d0887"
             ],
             [
              0.1111111111111111,
              "#46039f"
             ],
             [
              0.2222222222222222,
              "#7201a8"
             ],
             [
              0.3333333333333333,
              "#9c179e"
             ],
             [
              0.4444444444444444,
              "#bd3786"
             ],
             [
              0.5555555555555556,
              "#d8576b"
             ],
             [
              0.6666666666666666,
              "#ed7953"
             ],
             [
              0.7777777777777778,
              "#fb9f3a"
             ],
             [
              0.8888888888888888,
              "#fdca26"
             ],
             [
              1,
              "#f0f921"
             ]
            ],
            "type": "heatmap"
           }
          ],
          "heatmapgl": [
           {
            "colorbar": {
             "outlinewidth": 0,
             "ticks": ""
            },
            "colorscale": [
             [
              0,
              "#0d0887"
             ],
             [
              0.1111111111111111,
              "#46039f"
             ],
             [
              0.2222222222222222,
              "#7201a8"
             ],
             [
              0.3333333333333333,
              "#9c179e"
             ],
             [
              0.4444444444444444,
              "#bd3786"
             ],
             [
              0.5555555555555556,
              "#d8576b"
             ],
             [
              0.6666666666666666,
              "#ed7953"
             ],
             [
              0.7777777777777778,
              "#fb9f3a"
             ],
             [
              0.8888888888888888,
              "#fdca26"
             ],
             [
              1,
              "#f0f921"
             ]
            ],
            "type": "heatmapgl"
           }
          ],
          "histogram": [
           {
            "marker": {
             "pattern": {
              "fillmode": "overlay",
              "size": 10,
              "solidity": 0.2
             }
            },
            "type": "histogram"
           }
          ],
          "histogram2d": [
           {
            "colorbar": {
             "outlinewidth": 0,
             "ticks": ""
            },
            "colorscale": [
             [
              0,
              "#0d0887"
             ],
             [
              0.1111111111111111,
              "#46039f"
             ],
             [
              0.2222222222222222,
              "#7201a8"
             ],
             [
              0.3333333333333333,
              "#9c179e"
             ],
             [
              0.4444444444444444,
              "#bd3786"
             ],
             [
              0.5555555555555556,
              "#d8576b"
             ],
             [
              0.6666666666666666,
              "#ed7953"
             ],
             [
              0.7777777777777778,
              "#fb9f3a"
             ],
             [
              0.8888888888888888,
              "#fdca26"
             ],
             [
              1,
              "#f0f921"
             ]
            ],
            "type": "histogram2d"
           }
          ],
          "histogram2dcontour": [
           {
            "colorbar": {
             "outlinewidth": 0,
             "ticks": ""
            },
            "colorscale": [
             [
              0,
              "#0d0887"
             ],
             [
              0.1111111111111111,
              "#46039f"
             ],
             [
              0.2222222222222222,
              "#7201a8"
             ],
             [
              0.3333333333333333,
              "#9c179e"
             ],
             [
              0.4444444444444444,
              "#bd3786"
             ],
             [
              0.5555555555555556,
              "#d8576b"
             ],
             [
              0.6666666666666666,
              "#ed7953"
             ],
             [
              0.7777777777777778,
              "#fb9f3a"
             ],
             [
              0.8888888888888888,
              "#fdca26"
             ],
             [
              1,
              "#f0f921"
             ]
            ],
            "type": "histogram2dcontour"
           }
          ],
          "mesh3d": [
           {
            "colorbar": {
             "outlinewidth": 0,
             "ticks": ""
            },
            "type": "mesh3d"
           }
          ],
          "parcoords": [
           {
            "line": {
             "colorbar": {
              "outlinewidth": 0,
              "ticks": ""
             }
            },
            "type": "parcoords"
           }
          ],
          "pie": [
           {
            "automargin": true,
            "type": "pie"
           }
          ],
          "scatter": [
           {
            "fillpattern": {
             "fillmode": "overlay",
             "size": 10,
             "solidity": 0.2
            },
            "type": "scatter"
           }
          ],
          "scatter3d": [
           {
            "line": {
             "colorbar": {
              "outlinewidth": 0,
              "ticks": ""
             }
            },
            "marker": {
             "colorbar": {
              "outlinewidth": 0,
              "ticks": ""
             }
            },
            "type": "scatter3d"
           }
          ],
          "scattercarpet": [
           {
            "marker": {
             "colorbar": {
              "outlinewidth": 0,
              "ticks": ""
             }
            },
            "type": "scattercarpet"
           }
          ],
          "scattergeo": [
           {
            "marker": {
             "colorbar": {
              "outlinewidth": 0,
              "ticks": ""
             }
            },
            "type": "scattergeo"
           }
          ],
          "scattergl": [
           {
            "marker": {
             "colorbar": {
              "outlinewidth": 0,
              "ticks": ""
             }
            },
            "type": "scattergl"
           }
          ],
          "scattermapbox": [
           {
            "marker": {
             "colorbar": {
              "outlinewidth": 0,
              "ticks": ""
             }
            },
            "type": "scattermapbox"
           }
          ],
          "scatterpolar": [
           {
            "marker": {
             "colorbar": {
              "outlinewidth": 0,
              "ticks": ""
             }
            },
            "type": "scatterpolar"
           }
          ],
          "scatterpolargl": [
           {
            "marker": {
             "colorbar": {
              "outlinewidth": 0,
              "ticks": ""
             }
            },
            "type": "scatterpolargl"
           }
          ],
          "scatterternary": [
           {
            "marker": {
             "colorbar": {
              "outlinewidth": 0,
              "ticks": ""
             }
            },
            "type": "scatterternary"
           }
          ],
          "surface": [
           {
            "colorbar": {
             "outlinewidth": 0,
             "ticks": ""
            },
            "colorscale": [
             [
              0,
              "#0d0887"
             ],
             [
              0.1111111111111111,
              "#46039f"
             ],
             [
              0.2222222222222222,
              "#7201a8"
             ],
             [
              0.3333333333333333,
              "#9c179e"
             ],
             [
              0.4444444444444444,
              "#bd3786"
             ],
             [
              0.5555555555555556,
              "#d8576b"
             ],
             [
              0.6666666666666666,
              "#ed7953"
             ],
             [
              0.7777777777777778,
              "#fb9f3a"
             ],
             [
              0.8888888888888888,
              "#fdca26"
             ],
             [
              1,
              "#f0f921"
             ]
            ],
            "type": "surface"
           }
          ],
          "table": [
           {
            "cells": {
             "fill": {
              "color": "#EBF0F8"
             },
             "line": {
              "color": "white"
             }
            },
            "header": {
             "fill": {
              "color": "#C8D4E3"
             },
             "line": {
              "color": "white"
             }
            },
            "type": "table"
           }
          ]
         },
         "layout": {
          "annotationdefaults": {
           "arrowcolor": "#2a3f5f",
           "arrowhead": 0,
           "arrowwidth": 1
          },
          "autotypenumbers": "strict",
          "coloraxis": {
           "colorbar": {
            "outlinewidth": 0,
            "ticks": ""
           }
          },
          "colorscale": {
           "diverging": [
            [
             0,
             "#8e0152"
            ],
            [
             0.1,
             "#c51b7d"
            ],
            [
             0.2,
             "#de77ae"
            ],
            [
             0.3,
             "#f1b6da"
            ],
            [
             0.4,
             "#fde0ef"
            ],
            [
             0.5,
             "#f7f7f7"
            ],
            [
             0.6,
             "#e6f5d0"
            ],
            [
             0.7,
             "#b8e186"
            ],
            [
             0.8,
             "#7fbc41"
            ],
            [
             0.9,
             "#4d9221"
            ],
            [
             1,
             "#276419"
            ]
           ],
           "sequential": [
            [
             0,
             "#0d0887"
            ],
            [
             0.1111111111111111,
             "#46039f"
            ],
            [
             0.2222222222222222,
             "#7201a8"
            ],
            [
             0.3333333333333333,
             "#9c179e"
            ],
            [
             0.4444444444444444,
             "#bd3786"
            ],
            [
             0.5555555555555556,
             "#d8576b"
            ],
            [
             0.6666666666666666,
             "#ed7953"
            ],
            [
             0.7777777777777778,
             "#fb9f3a"
            ],
            [
             0.8888888888888888,
             "#fdca26"
            ],
            [
             1,
             "#f0f921"
            ]
           ],
           "sequentialminus": [
            [
             0,
             "#0d0887"
            ],
            [
             0.1111111111111111,
             "#46039f"
            ],
            [
             0.2222222222222222,
             "#7201a8"
            ],
            [
             0.3333333333333333,
             "#9c179e"
            ],
            [
             0.4444444444444444,
             "#bd3786"
            ],
            [
             0.5555555555555556,
             "#d8576b"
            ],
            [
             0.6666666666666666,
             "#ed7953"
            ],
            [
             0.7777777777777778,
             "#fb9f3a"
            ],
            [
             0.8888888888888888,
             "#fdca26"
            ],
            [
             1,
             "#f0f921"
            ]
           ]
          },
          "colorway": [
           "#636efa",
           "#EF553B",
           "#00cc96",
           "#ab63fa",
           "#FFA15A",
           "#19d3f3",
           "#FF6692",
           "#B6E880",
           "#FF97FF",
           "#FECB52"
          ],
          "font": {
           "color": "#2a3f5f"
          },
          "geo": {
           "bgcolor": "white",
           "lakecolor": "white",
           "landcolor": "#E5ECF6",
           "showlakes": true,
           "showland": true,
           "subunitcolor": "white"
          },
          "hoverlabel": {
           "align": "left"
          },
          "hovermode": "closest",
          "mapbox": {
           "style": "light"
          },
          "paper_bgcolor": "white",
          "plot_bgcolor": "#E5ECF6",
          "polar": {
           "angularaxis": {
            "gridcolor": "white",
            "linecolor": "white",
            "ticks": ""
           },
           "bgcolor": "#E5ECF6",
           "radialaxis": {
            "gridcolor": "white",
            "linecolor": "white",
            "ticks": ""
           }
          },
          "scene": {
           "xaxis": {
            "backgroundcolor": "#E5ECF6",
            "gridcolor": "white",
            "gridwidth": 2,
            "linecolor": "white",
            "showbackground": true,
            "ticks": "",
            "zerolinecolor": "white"
           },
           "yaxis": {
            "backgroundcolor": "#E5ECF6",
            "gridcolor": "white",
            "gridwidth": 2,
            "linecolor": "white",
            "showbackground": true,
            "ticks": "",
            "zerolinecolor": "white"
           },
           "zaxis": {
            "backgroundcolor": "#E5ECF6",
            "gridcolor": "white",
            "gridwidth": 2,
            "linecolor": "white",
            "showbackground": true,
            "ticks": "",
            "zerolinecolor": "white"
           }
          },
          "shapedefaults": {
           "line": {
            "color": "#2a3f5f"
           }
          },
          "ternary": {
           "aaxis": {
            "gridcolor": "white",
            "linecolor": "white",
            "ticks": ""
           },
           "baxis": {
            "gridcolor": "white",
            "linecolor": "white",
            "ticks": ""
           },
           "bgcolor": "#E5ECF6",
           "caxis": {
            "gridcolor": "white",
            "linecolor": "white",
            "ticks": ""
           }
          },
          "title": {
           "x": 0.05
          },
          "xaxis": {
           "automargin": true,
           "gridcolor": "white",
           "linecolor": "white",
           "ticks": "",
           "title": {
            "standoff": 15
           },
           "zerolinecolor": "white",
           "zerolinewidth": 2
          },
          "yaxis": {
           "automargin": true,
           "gridcolor": "white",
           "linecolor": "white",
           "ticks": "",
           "title": {
            "standoff": 15
           },
           "zerolinecolor": "white",
           "zerolinewidth": 2
          }
         }
        },
        "xaxis": {
         "anchor": "y",
         "domain": [
          0,
          1
         ],
         "title": {
          "text": "Step"
         }
        },
        "yaxis": {
         "anchor": "x",
         "domain": [
          0,
          1
         ],
         "title": {
          "text": "Shap Value"
         }
        }
       }
      }
     },
     "metadata": {},
     "output_type": "display_data"
    }
   ],
   "source": [
    "base_config={\n",
    "    'lvl': 'policy_2',\n",
    "    'obs_type': \"distance\",\n",
    "    'learning_algo': \"PPO\",\n",
    "    'exp_type': \"switch_exitLessBetter\",\n",
    "    'action_type': 'switch',\n",
    "    'action_space_type': 'discrete',\n",
    "    'play_style': 'switch',\n",
    "    'reward_scheme': 'switch',\n",
    "    'learning_algo': 'PPO',\n",
    "    'exp_path': 'switching',\n",
    "    'base_path': 'play_style_models/base/',\n",
    "    'which_model': 'best_model',\n",
    "    # 'which_model': 'latest_model_500000_steps',\n",
    "}\n",
    "df_shapley, pred_explain, internal, timing,df = group_shap_single_exp(base_config)\n",
    "print(df['action'].unique())\n",
    "fig =px.line(data_frame=df_shapley[[\"DM\",\"DT\",\"SDT\",\"DP\",\"SDP\",\"DE\",\"SDE\",\"HP\"]].abs(),x= df_shapley[[\"DM\",\"DT\",\"SDT\",\"DP\",\"SDP\",\"DE\",\"SDE\",\"HP\"]].index ,y = df_shapley[[\"DM\",\"DT\",\"SDT\",\"DP\",\"SDP\",\"DE\",\"SDE\",\"HP\"]].columns).update_layout(xaxis_title=\"Step\", yaxis_title=\"Shap Value\")\n",
    "fig.show()"
   ]
  },
  {
   "cell_type": "code",
   "execution_count": 131,
   "metadata": {},
   "outputs": [
    {
     "name": "stdout",
     "output_type": "stream",
     "text": [
      "----------Generating Data----------\n",
      "{'lvl': 'policy_2', 'obs_type': 'distance', 'learning_algo': 'PPO', 'exp_type': 'switch_exitLessBetter', 'action_type': 'switch', 'action_space_type': 'discrete', 'play_style': 'switch', 'reward_scheme': 'switch', 'exp_path': 'switching', 'base_path': 'play_style_models/base/', 'which_model': 'best_model'}\n",
      "switch-policy_2_switch_switch_switch_exitLessBetter_PPO\n"
     ]
    },
    {
     "name": "stderr",
     "output_type": "stream",
     "text": [
      "R[write to console]: Note: You passed a model to explain() which is not natively supported, and did not supply a 'get_model_specs' function to explain().\n",
      "Consistency checks between model and data is therefore disabled.\n",
      "\n",
      "\n",
      "R[write to console]: Setting parameter 'n_batches' to 3 as a fair trade-off between memory consumption and computation time.\n",
      "Reducing 'n_batches' typically reduces the computation time at the cost of increased memory consumption.\n",
      "\n",
      "\n"
     ]
    },
    {
     "name": "stdout",
     "output_type": "stream",
     "text": [
      "0      [3.1140745]\n",
      "1      [3.1140451]\n",
      "2       [3.113708]\n",
      "3      [3.1117535]\n",
      "4      [3.0976179]\n",
      "          ...     \n",
      "115     [2.678426]\n",
      "116    [2.6784258]\n",
      "117    [1.1655737]\n",
      "118    [1.1655735]\n",
      "119    [1.1655732]\n",
      "Name: curr_obs, Length: 120, dtype: object\n",
      "['TREASURE' 'KILLER' 'POTION']\n"
     ]
    },
    {
     "data": {
      "application/vnd.plotly.v1+json": {
       "config": {
        "plotlyServerURL": "https://plot.ly"
       },
       "data": [
        {
         "hovertemplate": "variable=DM<br>index=%{x}<br>value=%{y}<extra></extra>",
         "legendgroup": "DM",
         "line": {
          "color": "#636efa",
          "dash": "solid"
         },
         "marker": {
          "symbol": "circle"
         },
         "mode": "lines",
         "name": "DM",
         "orientation": "v",
         "showlegend": true,
         "type": "scatter",
         "x": [
          "1",
          "2",
          "3",
          "4",
          "5",
          "6",
          "7",
          "8",
          "9",
          "10",
          "11",
          "12",
          "13",
          "14",
          "15",
          "16",
          "17",
          "18",
          "19",
          "20",
          "21",
          "22",
          "23",
          "24"
         ],
         "xaxis": "x",
         "y": [
          0.02149777669203547,
          0.02153974573979524,
          0.022715805461414704,
          0.026735966593984566,
          0.02281197471460313,
          0.0005538513236996024,
          0.004518310840209497,
          0.008239981022639245,
          0.011128755581664297,
          0.0172154689459764,
          0.015672646895155108,
          0.023332792023237438,
          0.289296292925344,
          0.11564352974968965,
          0.0574989740281666,
          0.02559758915441095,
          0.014694051824432884,
          0.01485636674393752,
          0.016076992129914248,
          0.02020296045413843,
          0.032319867986212676,
          0.033348548153590556,
          0.040197865772834386,
          0.03353056658024835
         ],
         "yaxis": "y"
        },
        {
         "hovertemplate": "variable=DT<br>index=%{x}<br>value=%{y}<extra></extra>",
         "legendgroup": "DT",
         "line": {
          "color": "#EF553B",
          "dash": "solid"
         },
         "marker": {
          "symbol": "circle"
         },
         "mode": "lines",
         "name": "DT",
         "orientation": "v",
         "showlegend": true,
         "type": "scatter",
         "x": [
          "1",
          "2",
          "3",
          "4",
          "5",
          "6",
          "7",
          "8",
          "9",
          "10",
          "11",
          "12",
          "13",
          "14",
          "15",
          "16",
          "17",
          "18",
          "19",
          "20",
          "21",
          "22",
          "23",
          "24"
         ],
         "xaxis": "x",
         "y": [
          0.18150924864228904,
          0.18185183751605385,
          0.18315000791014596,
          0.19993589502668274,
          0.2576881416176314,
          0.12891630094158477,
          0.06892081322301932,
          0.05264779390707361,
          0.050648956991627275,
          0.048682651167903906,
          0.04277796192106462,
          0.03978734671858522,
          0.02039430623522412,
          0.023589269862664203,
          0.025392846794887475,
          0.023152247563251366,
          0.02111231273913668,
          0.02080283193948697,
          0.021290784300587413,
          0.025575563106824423,
          0.04055951613965865,
          0.016793173551698643,
          0.01778894197678367,
          0.021723965814925097
         ],
         "yaxis": "y"
        },
        {
         "hovertemplate": "variable=SDT<br>index=%{x}<br>value=%{y}<extra></extra>",
         "legendgroup": "SDT",
         "line": {
          "color": "#00cc96",
          "dash": "solid"
         },
         "marker": {
          "symbol": "circle"
         },
         "mode": "lines",
         "name": "SDT",
         "orientation": "v",
         "showlegend": true,
         "type": "scatter",
         "x": [
          "1",
          "2",
          "3",
          "4",
          "5",
          "6",
          "7",
          "8",
          "9",
          "10",
          "11",
          "12",
          "13",
          "14",
          "15",
          "16",
          "17",
          "18",
          "19",
          "20",
          "21",
          "22",
          "23",
          "24"
         ],
         "xaxis": "x",
         "y": [
          0.18078757075729793,
          0.18138973393484006,
          0.18275831626661584,
          0.19965729124413564,
          0.2584739368021421,
          0.12891630094840206,
          0.06892081324813305,
          0.052647793937634864,
          0.05064895702235903,
          0.04868265119864449,
          0.042777961952771594,
          0.039787346750675946,
          0.02039430619657382,
          0.023589269792958174,
          0.025392846716354174,
          0.023152247479636796,
          0.021112312654124894,
          0.020802831854542854,
          0.02129078421531045,
          0.02557556301847725,
          0.04055951611501577,
          0.016793173733500817,
          0.01778894229689602,
          0.02172396599411981
         ],
         "yaxis": "y"
        },
        {
         "hovertemplate": "variable=DP<br>index=%{x}<br>value=%{y}<extra></extra>",
         "legendgroup": "DP",
         "line": {
          "color": "#ab63fa",
          "dash": "solid"
         },
         "marker": {
          "symbol": "circle"
         },
         "mode": "lines",
         "name": "DP",
         "orientation": "v",
         "showlegend": true,
         "type": "scatter",
         "x": [
          "1",
          "2",
          "3",
          "4",
          "5",
          "6",
          "7",
          "8",
          "9",
          "10",
          "11",
          "12",
          "13",
          "14",
          "15",
          "16",
          "17",
          "18",
          "19",
          "20",
          "21",
          "22",
          "23",
          "24"
         ],
         "xaxis": "x",
         "y": [
          0.03322681785641556,
          0.033188323518122724,
          0.03266627996068199,
          0.02833353110282521,
          0.02666768190417793,
          0.05250324017860927,
          0.05062088822673888,
          0.04619413233549774,
          0.045236252905214824,
          0.044731554218416014,
          0.02340665379494339,
          0.020746724769630576,
          0.03468393192417191,
          0.04297252090935901,
          0.041074233413570325,
          0.042322566525359116,
          0.04293642447466552,
          0.04242126355293715,
          0.04253345815930933,
          0.049354584419084434,
          0.21753158447205667,
          0.3495140416039535,
          0.269409199098266,
          0.25661432853788807
         ],
         "yaxis": "y"
        },
        {
         "hovertemplate": "variable=SDP<br>index=%{x}<br>value=%{y}<extra></extra>",
         "legendgroup": "SDP",
         "line": {
          "color": "#FFA15A",
          "dash": "solid"
         },
         "marker": {
          "symbol": "circle"
         },
         "mode": "lines",
         "name": "SDP",
         "orientation": "v",
         "showlegend": true,
         "type": "scatter",
         "x": [
          "1",
          "2",
          "3",
          "4",
          "5",
          "6",
          "7",
          "8",
          "9",
          "10",
          "11",
          "12",
          "13",
          "14",
          "15",
          "16",
          "17",
          "18",
          "19",
          "20",
          "21",
          "22",
          "23",
          "24"
         ],
         "xaxis": "x",
         "y": [
          0.033286106232523295,
          0.03319444520186908,
          0.032653320161309105,
          0.028214913301463584,
          0.02617092845946666,
          0.051775466353480924,
          0.050060707157245414,
          0.04600613057582919,
          0.045262683884656284,
          0.04505068169782497,
          0.025662349752436774,
          0.026450650914188877,
          0.03648971393634858,
          0.04524000545006459,
          0.04325300941466883,
          0.04425602932183589,
          0.04442158832357448,
          0.04334233646962834,
          0.042864862852204165,
          0.04901830047598251,
          0.21596436928218438,
          0.34951404169336076,
          0.26940919935409646,
          0.25661432866182926
         ],
         "yaxis": "y"
        },
        {
         "hovertemplate": "variable=DE<br>index=%{x}<br>value=%{y}<extra></extra>",
         "legendgroup": "DE",
         "line": {
          "color": "#19d3f3",
          "dash": "solid"
         },
         "marker": {
          "symbol": "circle"
         },
         "mode": "lines",
         "name": "DE",
         "orientation": "v",
         "showlegend": true,
         "type": "scatter",
         "x": [
          "1",
          "2",
          "3",
          "4",
          "5",
          "6",
          "7",
          "8",
          "9",
          "10",
          "11",
          "12",
          "13",
          "14",
          "15",
          "16",
          "17",
          "18",
          "19",
          "20",
          "21",
          "22",
          "23",
          "24"
         ],
         "xaxis": "x",
         "y": [
          0.18307809427312033,
          0.18265309692813933,
          0.1811851802997457,
          0.16818242183889479,
          0.10788391934391257,
          0.019950277190657898,
          0.07455624177051512,
          0.08383881033439755,
          0.08353729761167174,
          0.08154861166020395,
          0.06947174844469035,
          0.0637356491468057,
          0.03487555471891919,
          0.05731150660615435,
          0.09390265964598908,
          0.10513092370117309,
          0.10750373861986985,
          0.10782710322218049,
          0.10730030378767531,
          0.09934376700953741,
          0.05101862139168483,
          0.1624335150551247,
          0.2419933565724501,
          0.2521858241040223
         ],
         "yaxis": "y"
        },
        {
         "hovertemplate": "variable=SDE<br>index=%{x}<br>value=%{y}<extra></extra>",
         "legendgroup": "SDE",
         "line": {
          "color": "#FF6692",
          "dash": "solid"
         },
         "marker": {
          "symbol": "circle"
         },
         "mode": "lines",
         "name": "SDE",
         "orientation": "v",
         "showlegend": true,
         "type": "scatter",
         "x": [
          "1",
          "2",
          "3",
          "4",
          "5",
          "6",
          "7",
          "8",
          "9",
          "10",
          "11",
          "12",
          "13",
          "14",
          "15",
          "16",
          "17",
          "18",
          "19",
          "20",
          "21",
          "22",
          "23",
          "24"
         ],
         "xaxis": "x",
         "y": [
          0.1834332590952693,
          0.18284822218272156,
          0.18129884754918515,
          0.16883950630875635,
          0.1078159030497572,
          0.022862937490671788,
          0.07641590703057263,
          0.0838408302171453,
          0.08353728974438616,
          0.08154841922550742,
          0.0697387037652291,
          0.069814819097535,
          0.016244236624125035,
          0.06356243406688458,
          0.09422333249981166,
          0.10504582983514874,
          0.10750373834036545,
          0.10782710291181088,
          0.10724974360693865,
          0.09872610808343887,
          0.04974764432370014,
          0.1623199552592673,
          0.2416550836170694,
          0.2519415427180207
         ],
         "yaxis": "y"
        },
        {
         "hovertemplate": "variable=HP<br>index=%{x}<br>value=%{y}<extra></extra>",
         "legendgroup": "HP",
         "line": {
          "color": "#B6E880",
          "dash": "solid"
         },
         "marker": {
          "symbol": "circle"
         },
         "mode": "lines",
         "name": "HP",
         "orientation": "v",
         "showlegend": true,
         "type": "scatter",
         "x": [
          "1",
          "2",
          "3",
          "4",
          "5",
          "6",
          "7",
          "8",
          "9",
          "10",
          "11",
          "12",
          "13",
          "14",
          "15",
          "16",
          "17",
          "18",
          "19",
          "20",
          "21",
          "22",
          "23",
          "24"
         ],
         "xaxis": "x",
         "y": [
          0.019349796628477554,
          0.019225653589052004,
          0.019325129932209188,
          0.02475145197477683,
          0.02649999714078559,
          0.03554433223262435,
          0.038707085639166666,
          0.04234262764507393,
          0.04235501494316407,
          0.043461767889034886,
          0.039987312123343055,
          0.042096752490825895,
          0.07867370840494595,
          0.08426923364937397,
          0.0826541695155755,
          0.08577224283816193,
          0.0869857713696468,
          0.08715217879608195,
          0.08837689634329304,
          0.096326095664931,
          0.12364256169802434,
          0.06031509500055728,
          0.05278917287156406,
          0.056697476538945184
         ],
         "yaxis": "y"
        }
       ],
       "layout": {
        "legend": {
         "title": {
          "text": "variable"
         },
         "tracegroupgap": 0
        },
        "margin": {
         "t": 60
        },
        "template": {
         "data": {
          "bar": [
           {
            "error_x": {
             "color": "#2a3f5f"
            },
            "error_y": {
             "color": "#2a3f5f"
            },
            "marker": {
             "line": {
              "color": "#E5ECF6",
              "width": 0.5
             },
             "pattern": {
              "fillmode": "overlay",
              "size": 10,
              "solidity": 0.2
             }
            },
            "type": "bar"
           }
          ],
          "barpolar": [
           {
            "marker": {
             "line": {
              "color": "#E5ECF6",
              "width": 0.5
             },
             "pattern": {
              "fillmode": "overlay",
              "size": 10,
              "solidity": 0.2
             }
            },
            "type": "barpolar"
           }
          ],
          "carpet": [
           {
            "aaxis": {
             "endlinecolor": "#2a3f5f",
             "gridcolor": "white",
             "linecolor": "white",
             "minorgridcolor": "white",
             "startlinecolor": "#2a3f5f"
            },
            "baxis": {
             "endlinecolor": "#2a3f5f",
             "gridcolor": "white",
             "linecolor": "white",
             "minorgridcolor": "white",
             "startlinecolor": "#2a3f5f"
            },
            "type": "carpet"
           }
          ],
          "choropleth": [
           {
            "colorbar": {
             "outlinewidth": 0,
             "ticks": ""
            },
            "type": "choropleth"
           }
          ],
          "contour": [
           {
            "colorbar": {
             "outlinewidth": 0,
             "ticks": ""
            },
            "colorscale": [
             [
              0,
              "#0d0887"
             ],
             [
              0.1111111111111111,
              "#46039f"
             ],
             [
              0.2222222222222222,
              "#7201a8"
             ],
             [
              0.3333333333333333,
              "#9c179e"
             ],
             [
              0.4444444444444444,
              "#bd3786"
             ],
             [
              0.5555555555555556,
              "#d8576b"
             ],
             [
              0.6666666666666666,
              "#ed7953"
             ],
             [
              0.7777777777777778,
              "#fb9f3a"
             ],
             [
              0.8888888888888888,
              "#fdca26"
             ],
             [
              1,
              "#f0f921"
             ]
            ],
            "type": "contour"
           }
          ],
          "contourcarpet": [
           {
            "colorbar": {
             "outlinewidth": 0,
             "ticks": ""
            },
            "type": "contourcarpet"
           }
          ],
          "heatmap": [
           {
            "colorbar": {
             "outlinewidth": 0,
             "ticks": ""
            },
            "colorscale": [
             [
              0,
              "#0d0887"
             ],
             [
              0.1111111111111111,
              "#46039f"
             ],
             [
              0.2222222222222222,
              "#7201a8"
             ],
             [
              0.3333333333333333,
              "#9c179e"
             ],
             [
              0.4444444444444444,
              "#bd3786"
             ],
             [
              0.5555555555555556,
              "#d8576b"
             ],
             [
              0.6666666666666666,
              "#ed7953"
             ],
             [
              0.7777777777777778,
              "#fb9f3a"
             ],
             [
              0.8888888888888888,
              "#fdca26"
             ],
             [
              1,
              "#f0f921"
             ]
            ],
            "type": "heatmap"
           }
          ],
          "heatmapgl": [
           {
            "colorbar": {
             "outlinewidth": 0,
             "ticks": ""
            },
            "colorscale": [
             [
              0,
              "#0d0887"
             ],
             [
              0.1111111111111111,
              "#46039f"
             ],
             [
              0.2222222222222222,
              "#7201a8"
             ],
             [
              0.3333333333333333,
              "#9c179e"
             ],
             [
              0.4444444444444444,
              "#bd3786"
             ],
             [
              0.5555555555555556,
              "#d8576b"
             ],
             [
              0.6666666666666666,
              "#ed7953"
             ],
             [
              0.7777777777777778,
              "#fb9f3a"
             ],
             [
              0.8888888888888888,
              "#fdca26"
             ],
             [
              1,
              "#f0f921"
             ]
            ],
            "type": "heatmapgl"
           }
          ],
          "histogram": [
           {
            "marker": {
             "pattern": {
              "fillmode": "overlay",
              "size": 10,
              "solidity": 0.2
             }
            },
            "type": "histogram"
           }
          ],
          "histogram2d": [
           {
            "colorbar": {
             "outlinewidth": 0,
             "ticks": ""
            },
            "colorscale": [
             [
              0,
              "#0d0887"
             ],
             [
              0.1111111111111111,
              "#46039f"
             ],
             [
              0.2222222222222222,
              "#7201a8"
             ],
             [
              0.3333333333333333,
              "#9c179e"
             ],
             [
              0.4444444444444444,
              "#bd3786"
             ],
             [
              0.5555555555555556,
              "#d8576b"
             ],
             [
              0.6666666666666666,
              "#ed7953"
             ],
             [
              0.7777777777777778,
              "#fb9f3a"
             ],
             [
              0.8888888888888888,
              "#fdca26"
             ],
             [
              1,
              "#f0f921"
             ]
            ],
            "type": "histogram2d"
           }
          ],
          "histogram2dcontour": [
           {
            "colorbar": {
             "outlinewidth": 0,
             "ticks": ""
            },
            "colorscale": [
             [
              0,
              "#0d0887"
             ],
             [
              0.1111111111111111,
              "#46039f"
             ],
             [
              0.2222222222222222,
              "#7201a8"
             ],
             [
              0.3333333333333333,
              "#9c179e"
             ],
             [
              0.4444444444444444,
              "#bd3786"
             ],
             [
              0.5555555555555556,
              "#d8576b"
             ],
             [
              0.6666666666666666,
              "#ed7953"
             ],
             [
              0.7777777777777778,
              "#fb9f3a"
             ],
             [
              0.8888888888888888,
              "#fdca26"
             ],
             [
              1,
              "#f0f921"
             ]
            ],
            "type": "histogram2dcontour"
           }
          ],
          "mesh3d": [
           {
            "colorbar": {
             "outlinewidth": 0,
             "ticks": ""
            },
            "type": "mesh3d"
           }
          ],
          "parcoords": [
           {
            "line": {
             "colorbar": {
              "outlinewidth": 0,
              "ticks": ""
             }
            },
            "type": "parcoords"
           }
          ],
          "pie": [
           {
            "automargin": true,
            "type": "pie"
           }
          ],
          "scatter": [
           {
            "fillpattern": {
             "fillmode": "overlay",
             "size": 10,
             "solidity": 0.2
            },
            "type": "scatter"
           }
          ],
          "scatter3d": [
           {
            "line": {
             "colorbar": {
              "outlinewidth": 0,
              "ticks": ""
             }
            },
            "marker": {
             "colorbar": {
              "outlinewidth": 0,
              "ticks": ""
             }
            },
            "type": "scatter3d"
           }
          ],
          "scattercarpet": [
           {
            "marker": {
             "colorbar": {
              "outlinewidth": 0,
              "ticks": ""
             }
            },
            "type": "scattercarpet"
           }
          ],
          "scattergeo": [
           {
            "marker": {
             "colorbar": {
              "outlinewidth": 0,
              "ticks": ""
             }
            },
            "type": "scattergeo"
           }
          ],
          "scattergl": [
           {
            "marker": {
             "colorbar": {
              "outlinewidth": 0,
              "ticks": ""
             }
            },
            "type": "scattergl"
           }
          ],
          "scattermapbox": [
           {
            "marker": {
             "colorbar": {
              "outlinewidth": 0,
              "ticks": ""
             }
            },
            "type": "scattermapbox"
           }
          ],
          "scatterpolar": [
           {
            "marker": {
             "colorbar": {
              "outlinewidth": 0,
              "ticks": ""
             }
            },
            "type": "scatterpolar"
           }
          ],
          "scatterpolargl": [
           {
            "marker": {
             "colorbar": {
              "outlinewidth": 0,
              "ticks": ""
             }
            },
            "type": "scatterpolargl"
           }
          ],
          "scatterternary": [
           {
            "marker": {
             "colorbar": {
              "outlinewidth": 0,
              "ticks": ""
             }
            },
            "type": "scatterternary"
           }
          ],
          "surface": [
           {
            "colorbar": {
             "outlinewidth": 0,
             "ticks": ""
            },
            "colorscale": [
             [
              0,
              "#0d0887"
             ],
             [
              0.1111111111111111,
              "#46039f"
             ],
             [
              0.2222222222222222,
              "#7201a8"
             ],
             [
              0.3333333333333333,
              "#9c179e"
             ],
             [
              0.4444444444444444,
              "#bd3786"
             ],
             [
              0.5555555555555556,
              "#d8576b"
             ],
             [
              0.6666666666666666,
              "#ed7953"
             ],
             [
              0.7777777777777778,
              "#fb9f3a"
             ],
             [
              0.8888888888888888,
              "#fdca26"
             ],
             [
              1,
              "#f0f921"
             ]
            ],
            "type": "surface"
           }
          ],
          "table": [
           {
            "cells": {
             "fill": {
              "color": "#EBF0F8"
             },
             "line": {
              "color": "white"
             }
            },
            "header": {
             "fill": {
              "color": "#C8D4E3"
             },
             "line": {
              "color": "white"
             }
            },
            "type": "table"
           }
          ]
         },
         "layout": {
          "annotationdefaults": {
           "arrowcolor": "#2a3f5f",
           "arrowhead": 0,
           "arrowwidth": 1
          },
          "autotypenumbers": "strict",
          "coloraxis": {
           "colorbar": {
            "outlinewidth": 0,
            "ticks": ""
           }
          },
          "colorscale": {
           "diverging": [
            [
             0,
             "#8e0152"
            ],
            [
             0.1,
             "#c51b7d"
            ],
            [
             0.2,
             "#de77ae"
            ],
            [
             0.3,
             "#f1b6da"
            ],
            [
             0.4,
             "#fde0ef"
            ],
            [
             0.5,
             "#f7f7f7"
            ],
            [
             0.6,
             "#e6f5d0"
            ],
            [
             0.7,
             "#b8e186"
            ],
            [
             0.8,
             "#7fbc41"
            ],
            [
             0.9,
             "#4d9221"
            ],
            [
             1,
             "#276419"
            ]
           ],
           "sequential": [
            [
             0,
             "#0d0887"
            ],
            [
             0.1111111111111111,
             "#46039f"
            ],
            [
             0.2222222222222222,
             "#7201a8"
            ],
            [
             0.3333333333333333,
             "#9c179e"
            ],
            [
             0.4444444444444444,
             "#bd3786"
            ],
            [
             0.5555555555555556,
             "#d8576b"
            ],
            [
             0.6666666666666666,
             "#ed7953"
            ],
            [
             0.7777777777777778,
             "#fb9f3a"
            ],
            [
             0.8888888888888888,
             "#fdca26"
            ],
            [
             1,
             "#f0f921"
            ]
           ],
           "sequentialminus": [
            [
             0,
             "#0d0887"
            ],
            [
             0.1111111111111111,
             "#46039f"
            ],
            [
             0.2222222222222222,
             "#7201a8"
            ],
            [
             0.3333333333333333,
             "#9c179e"
            ],
            [
             0.4444444444444444,
             "#bd3786"
            ],
            [
             0.5555555555555556,
             "#d8576b"
            ],
            [
             0.6666666666666666,
             "#ed7953"
            ],
            [
             0.7777777777777778,
             "#fb9f3a"
            ],
            [
             0.8888888888888888,
             "#fdca26"
            ],
            [
             1,
             "#f0f921"
            ]
           ]
          },
          "colorway": [
           "#636efa",
           "#EF553B",
           "#00cc96",
           "#ab63fa",
           "#FFA15A",
           "#19d3f3",
           "#FF6692",
           "#B6E880",
           "#FF97FF",
           "#FECB52"
          ],
          "font": {
           "color": "#2a3f5f"
          },
          "geo": {
           "bgcolor": "white",
           "lakecolor": "white",
           "landcolor": "#E5ECF6",
           "showlakes": true,
           "showland": true,
           "subunitcolor": "white"
          },
          "hoverlabel": {
           "align": "left"
          },
          "hovermode": "closest",
          "mapbox": {
           "style": "light"
          },
          "paper_bgcolor": "white",
          "plot_bgcolor": "#E5ECF6",
          "polar": {
           "angularaxis": {
            "gridcolor": "white",
            "linecolor": "white",
            "ticks": ""
           },
           "bgcolor": "#E5ECF6",
           "radialaxis": {
            "gridcolor": "white",
            "linecolor": "white",
            "ticks": ""
           }
          },
          "scene": {
           "xaxis": {
            "backgroundcolor": "#E5ECF6",
            "gridcolor": "white",
            "gridwidth": 2,
            "linecolor": "white",
            "showbackground": true,
            "ticks": "",
            "zerolinecolor": "white"
           },
           "yaxis": {
            "backgroundcolor": "#E5ECF6",
            "gridcolor": "white",
            "gridwidth": 2,
            "linecolor": "white",
            "showbackground": true,
            "ticks": "",
            "zerolinecolor": "white"
           },
           "zaxis": {
            "backgroundcolor": "#E5ECF6",
            "gridcolor": "white",
            "gridwidth": 2,
            "linecolor": "white",
            "showbackground": true,
            "ticks": "",
            "zerolinecolor": "white"
           }
          },
          "shapedefaults": {
           "line": {
            "color": "#2a3f5f"
           }
          },
          "ternary": {
           "aaxis": {
            "gridcolor": "white",
            "linecolor": "white",
            "ticks": ""
           },
           "baxis": {
            "gridcolor": "white",
            "linecolor": "white",
            "ticks": ""
           },
           "bgcolor": "#E5ECF6",
           "caxis": {
            "gridcolor": "white",
            "linecolor": "white",
            "ticks": ""
           }
          },
          "title": {
           "x": 0.05
          },
          "xaxis": {
           "automargin": true,
           "gridcolor": "white",
           "linecolor": "white",
           "ticks": "",
           "title": {
            "standoff": 15
           },
           "zerolinecolor": "white",
           "zerolinewidth": 2
          },
          "yaxis": {
           "automargin": true,
           "gridcolor": "white",
           "linecolor": "white",
           "ticks": "",
           "title": {
            "standoff": 15
           },
           "zerolinecolor": "white",
           "zerolinewidth": 2
          }
         }
        },
        "xaxis": {
         "anchor": "y",
         "domain": [
          0,
          1
         ],
         "title": {
          "text": "Step"
         }
        },
        "yaxis": {
         "anchor": "x",
         "domain": [
          0,
          1
         ],
         "title": {
          "text": "Shap Value"
         }
        }
       }
      },
      "text/html": [
       "<div>                            <div id=\"aecce70c-b982-41d9-8b57-3cc8aae6bbe8\" class=\"plotly-graph-div\" style=\"height:525px; width:100%;\"></div>            <script type=\"text/javascript\">                require([\"plotly\"], function(Plotly) {                    window.PLOTLYENV=window.PLOTLYENV || {};                                    if (document.getElementById(\"aecce70c-b982-41d9-8b57-3cc8aae6bbe8\")) {                    Plotly.newPlot(                        \"aecce70c-b982-41d9-8b57-3cc8aae6bbe8\",                        [{\"hovertemplate\":\"variable=DM\\u003cbr\\u003eindex=%{x}\\u003cbr\\u003evalue=%{y}\\u003cextra\\u003e\\u003c\\u002fextra\\u003e\",\"legendgroup\":\"DM\",\"line\":{\"color\":\"#636efa\",\"dash\":\"solid\"},\"marker\":{\"symbol\":\"circle\"},\"mode\":\"lines\",\"name\":\"DM\",\"orientation\":\"v\",\"showlegend\":true,\"x\":[\"1\",\"2\",\"3\",\"4\",\"5\",\"6\",\"7\",\"8\",\"9\",\"10\",\"11\",\"12\",\"13\",\"14\",\"15\",\"16\",\"17\",\"18\",\"19\",\"20\",\"21\",\"22\",\"23\",\"24\"],\"xaxis\":\"x\",\"y\":[0.02149777669203547,0.02153974573979524,0.022715805461414704,0.026735966593984566,0.02281197471460313,0.0005538513236996024,0.004518310840209497,0.008239981022639245,0.011128755581664297,0.0172154689459764,0.015672646895155108,0.023332792023237438,0.289296292925344,0.11564352974968965,0.0574989740281666,0.02559758915441095,0.014694051824432884,0.01485636674393752,0.016076992129914248,0.02020296045413843,0.032319867986212676,0.033348548153590556,0.040197865772834386,0.03353056658024835],\"yaxis\":\"y\",\"type\":\"scatter\"},{\"hovertemplate\":\"variable=DT\\u003cbr\\u003eindex=%{x}\\u003cbr\\u003evalue=%{y}\\u003cextra\\u003e\\u003c\\u002fextra\\u003e\",\"legendgroup\":\"DT\",\"line\":{\"color\":\"#EF553B\",\"dash\":\"solid\"},\"marker\":{\"symbol\":\"circle\"},\"mode\":\"lines\",\"name\":\"DT\",\"orientation\":\"v\",\"showlegend\":true,\"x\":[\"1\",\"2\",\"3\",\"4\",\"5\",\"6\",\"7\",\"8\",\"9\",\"10\",\"11\",\"12\",\"13\",\"14\",\"15\",\"16\",\"17\",\"18\",\"19\",\"20\",\"21\",\"22\",\"23\",\"24\"],\"xaxis\":\"x\",\"y\":[0.18150924864228904,0.18185183751605385,0.18315000791014596,0.19993589502668274,0.2576881416176314,0.12891630094158477,0.06892081322301932,0.05264779390707361,0.050648956991627275,0.048682651167903906,0.04277796192106462,0.03978734671858522,0.02039430623522412,0.023589269862664203,0.025392846794887475,0.023152247563251366,0.02111231273913668,0.02080283193948697,0.021290784300587413,0.025575563106824423,0.04055951613965865,0.016793173551698643,0.01778894197678367,0.021723965814925097],\"yaxis\":\"y\",\"type\":\"scatter\"},{\"hovertemplate\":\"variable=SDT\\u003cbr\\u003eindex=%{x}\\u003cbr\\u003evalue=%{y}\\u003cextra\\u003e\\u003c\\u002fextra\\u003e\",\"legendgroup\":\"SDT\",\"line\":{\"color\":\"#00cc96\",\"dash\":\"solid\"},\"marker\":{\"symbol\":\"circle\"},\"mode\":\"lines\",\"name\":\"SDT\",\"orientation\":\"v\",\"showlegend\":true,\"x\":[\"1\",\"2\",\"3\",\"4\",\"5\",\"6\",\"7\",\"8\",\"9\",\"10\",\"11\",\"12\",\"13\",\"14\",\"15\",\"16\",\"17\",\"18\",\"19\",\"20\",\"21\",\"22\",\"23\",\"24\"],\"xaxis\":\"x\",\"y\":[0.18078757075729793,0.18138973393484006,0.18275831626661584,0.19965729124413564,0.2584739368021421,0.12891630094840206,0.06892081324813305,0.052647793937634864,0.05064895702235903,0.04868265119864449,0.042777961952771594,0.039787346750675946,0.02039430619657382,0.023589269792958174,0.025392846716354174,0.023152247479636796,0.021112312654124894,0.020802831854542854,0.02129078421531045,0.02557556301847725,0.04055951611501577,0.016793173733500817,0.01778894229689602,0.02172396599411981],\"yaxis\":\"y\",\"type\":\"scatter\"},{\"hovertemplate\":\"variable=DP\\u003cbr\\u003eindex=%{x}\\u003cbr\\u003evalue=%{y}\\u003cextra\\u003e\\u003c\\u002fextra\\u003e\",\"legendgroup\":\"DP\",\"line\":{\"color\":\"#ab63fa\",\"dash\":\"solid\"},\"marker\":{\"symbol\":\"circle\"},\"mode\":\"lines\",\"name\":\"DP\",\"orientation\":\"v\",\"showlegend\":true,\"x\":[\"1\",\"2\",\"3\",\"4\",\"5\",\"6\",\"7\",\"8\",\"9\",\"10\",\"11\",\"12\",\"13\",\"14\",\"15\",\"16\",\"17\",\"18\",\"19\",\"20\",\"21\",\"22\",\"23\",\"24\"],\"xaxis\":\"x\",\"y\":[0.03322681785641556,0.033188323518122724,0.03266627996068199,0.02833353110282521,0.02666768190417793,0.05250324017860927,0.05062088822673888,0.04619413233549774,0.045236252905214824,0.044731554218416014,0.02340665379494339,0.020746724769630576,0.03468393192417191,0.04297252090935901,0.041074233413570325,0.042322566525359116,0.04293642447466552,0.04242126355293715,0.04253345815930933,0.049354584419084434,0.21753158447205667,0.3495140416039535,0.269409199098266,0.25661432853788807],\"yaxis\":\"y\",\"type\":\"scatter\"},{\"hovertemplate\":\"variable=SDP\\u003cbr\\u003eindex=%{x}\\u003cbr\\u003evalue=%{y}\\u003cextra\\u003e\\u003c\\u002fextra\\u003e\",\"legendgroup\":\"SDP\",\"line\":{\"color\":\"#FFA15A\",\"dash\":\"solid\"},\"marker\":{\"symbol\":\"circle\"},\"mode\":\"lines\",\"name\":\"SDP\",\"orientation\":\"v\",\"showlegend\":true,\"x\":[\"1\",\"2\",\"3\",\"4\",\"5\",\"6\",\"7\",\"8\",\"9\",\"10\",\"11\",\"12\",\"13\",\"14\",\"15\",\"16\",\"17\",\"18\",\"19\",\"20\",\"21\",\"22\",\"23\",\"24\"],\"xaxis\":\"x\",\"y\":[0.033286106232523295,0.03319444520186908,0.032653320161309105,0.028214913301463584,0.02617092845946666,0.051775466353480924,0.050060707157245414,0.04600613057582919,0.045262683884656284,0.04505068169782497,0.025662349752436774,0.026450650914188877,0.03648971393634858,0.04524000545006459,0.04325300941466883,0.04425602932183589,0.04442158832357448,0.04334233646962834,0.042864862852204165,0.04901830047598251,0.21596436928218438,0.34951404169336076,0.26940919935409646,0.25661432866182926],\"yaxis\":\"y\",\"type\":\"scatter\"},{\"hovertemplate\":\"variable=DE\\u003cbr\\u003eindex=%{x}\\u003cbr\\u003evalue=%{y}\\u003cextra\\u003e\\u003c\\u002fextra\\u003e\",\"legendgroup\":\"DE\",\"line\":{\"color\":\"#19d3f3\",\"dash\":\"solid\"},\"marker\":{\"symbol\":\"circle\"},\"mode\":\"lines\",\"name\":\"DE\",\"orientation\":\"v\",\"showlegend\":true,\"x\":[\"1\",\"2\",\"3\",\"4\",\"5\",\"6\",\"7\",\"8\",\"9\",\"10\",\"11\",\"12\",\"13\",\"14\",\"15\",\"16\",\"17\",\"18\",\"19\",\"20\",\"21\",\"22\",\"23\",\"24\"],\"xaxis\":\"x\",\"y\":[0.18307809427312033,0.18265309692813933,0.1811851802997457,0.16818242183889479,0.10788391934391257,0.019950277190657898,0.07455624177051512,0.08383881033439755,0.08353729761167174,0.08154861166020395,0.06947174844469035,0.0637356491468057,0.03487555471891919,0.05731150660615435,0.09390265964598908,0.10513092370117309,0.10750373861986985,0.10782710322218049,0.10730030378767531,0.09934376700953741,0.05101862139168483,0.1624335150551247,0.2419933565724501,0.2521858241040223],\"yaxis\":\"y\",\"type\":\"scatter\"},{\"hovertemplate\":\"variable=SDE\\u003cbr\\u003eindex=%{x}\\u003cbr\\u003evalue=%{y}\\u003cextra\\u003e\\u003c\\u002fextra\\u003e\",\"legendgroup\":\"SDE\",\"line\":{\"color\":\"#FF6692\",\"dash\":\"solid\"},\"marker\":{\"symbol\":\"circle\"},\"mode\":\"lines\",\"name\":\"SDE\",\"orientation\":\"v\",\"showlegend\":true,\"x\":[\"1\",\"2\",\"3\",\"4\",\"5\",\"6\",\"7\",\"8\",\"9\",\"10\",\"11\",\"12\",\"13\",\"14\",\"15\",\"16\",\"17\",\"18\",\"19\",\"20\",\"21\",\"22\",\"23\",\"24\"],\"xaxis\":\"x\",\"y\":[0.1834332590952693,0.18284822218272156,0.18129884754918515,0.16883950630875635,0.1078159030497572,0.022862937490671788,0.07641590703057263,0.0838408302171453,0.08353728974438616,0.08154841922550742,0.0697387037652291,0.069814819097535,0.016244236624125035,0.06356243406688458,0.09422333249981166,0.10504582983514874,0.10750373834036545,0.10782710291181088,0.10724974360693865,0.09872610808343887,0.04974764432370014,0.1623199552592673,0.2416550836170694,0.2519415427180207],\"yaxis\":\"y\",\"type\":\"scatter\"},{\"hovertemplate\":\"variable=HP\\u003cbr\\u003eindex=%{x}\\u003cbr\\u003evalue=%{y}\\u003cextra\\u003e\\u003c\\u002fextra\\u003e\",\"legendgroup\":\"HP\",\"line\":{\"color\":\"#B6E880\",\"dash\":\"solid\"},\"marker\":{\"symbol\":\"circle\"},\"mode\":\"lines\",\"name\":\"HP\",\"orientation\":\"v\",\"showlegend\":true,\"x\":[\"1\",\"2\",\"3\",\"4\",\"5\",\"6\",\"7\",\"8\",\"9\",\"10\",\"11\",\"12\",\"13\",\"14\",\"15\",\"16\",\"17\",\"18\",\"19\",\"20\",\"21\",\"22\",\"23\",\"24\"],\"xaxis\":\"x\",\"y\":[0.019349796628477554,0.019225653589052004,0.019325129932209188,0.02475145197477683,0.02649999714078559,0.03554433223262435,0.038707085639166666,0.04234262764507393,0.04235501494316407,0.043461767889034886,0.039987312123343055,0.042096752490825895,0.07867370840494595,0.08426923364937397,0.0826541695155755,0.08577224283816193,0.0869857713696468,0.08715217879608195,0.08837689634329304,0.096326095664931,0.12364256169802434,0.06031509500055728,0.05278917287156406,0.056697476538945184],\"yaxis\":\"y\",\"type\":\"scatter\"}],                        {\"template\":{\"data\":{\"histogram2dcontour\":[{\"type\":\"histogram2dcontour\",\"colorbar\":{\"outlinewidth\":0,\"ticks\":\"\"},\"colorscale\":[[0.0,\"#0d0887\"],[0.1111111111111111,\"#46039f\"],[0.2222222222222222,\"#7201a8\"],[0.3333333333333333,\"#9c179e\"],[0.4444444444444444,\"#bd3786\"],[0.5555555555555556,\"#d8576b\"],[0.6666666666666666,\"#ed7953\"],[0.7777777777777778,\"#fb9f3a\"],[0.8888888888888888,\"#fdca26\"],[1.0,\"#f0f921\"]]}],\"choropleth\":[{\"type\":\"choropleth\",\"colorbar\":{\"outlinewidth\":0,\"ticks\":\"\"}}],\"histogram2d\":[{\"type\":\"histogram2d\",\"colorbar\":{\"outlinewidth\":0,\"ticks\":\"\"},\"colorscale\":[[0.0,\"#0d0887\"],[0.1111111111111111,\"#46039f\"],[0.2222222222222222,\"#7201a8\"],[0.3333333333333333,\"#9c179e\"],[0.4444444444444444,\"#bd3786\"],[0.5555555555555556,\"#d8576b\"],[0.6666666666666666,\"#ed7953\"],[0.7777777777777778,\"#fb9f3a\"],[0.8888888888888888,\"#fdca26\"],[1.0,\"#f0f921\"]]}],\"heatmap\":[{\"type\":\"heatmap\",\"colorbar\":{\"outlinewidth\":0,\"ticks\":\"\"},\"colorscale\":[[0.0,\"#0d0887\"],[0.1111111111111111,\"#46039f\"],[0.2222222222222222,\"#7201a8\"],[0.3333333333333333,\"#9c179e\"],[0.4444444444444444,\"#bd3786\"],[0.5555555555555556,\"#d8576b\"],[0.6666666666666666,\"#ed7953\"],[0.7777777777777778,\"#fb9f3a\"],[0.8888888888888888,\"#fdca26\"],[1.0,\"#f0f921\"]]}],\"heatmapgl\":[{\"type\":\"heatmapgl\",\"colorbar\":{\"outlinewidth\":0,\"ticks\":\"\"},\"colorscale\":[[0.0,\"#0d0887\"],[0.1111111111111111,\"#46039f\"],[0.2222222222222222,\"#7201a8\"],[0.3333333333333333,\"#9c179e\"],[0.4444444444444444,\"#bd3786\"],[0.5555555555555556,\"#d8576b\"],[0.6666666666666666,\"#ed7953\"],[0.7777777777777778,\"#fb9f3a\"],[0.8888888888888888,\"#fdca26\"],[1.0,\"#f0f921\"]]}],\"contourcarpet\":[{\"type\":\"contourcarpet\",\"colorbar\":{\"outlinewidth\":0,\"ticks\":\"\"}}],\"contour\":[{\"type\":\"contour\",\"colorbar\":{\"outlinewidth\":0,\"ticks\":\"\"},\"colorscale\":[[0.0,\"#0d0887\"],[0.1111111111111111,\"#46039f\"],[0.2222222222222222,\"#7201a8\"],[0.3333333333333333,\"#9c179e\"],[0.4444444444444444,\"#bd3786\"],[0.5555555555555556,\"#d8576b\"],[0.6666666666666666,\"#ed7953\"],[0.7777777777777778,\"#fb9f3a\"],[0.8888888888888888,\"#fdca26\"],[1.0,\"#f0f921\"]]}],\"surface\":[{\"type\":\"surface\",\"colorbar\":{\"outlinewidth\":0,\"ticks\":\"\"},\"colorscale\":[[0.0,\"#0d0887\"],[0.1111111111111111,\"#46039f\"],[0.2222222222222222,\"#7201a8\"],[0.3333333333333333,\"#9c179e\"],[0.4444444444444444,\"#bd3786\"],[0.5555555555555556,\"#d8576b\"],[0.6666666666666666,\"#ed7953\"],[0.7777777777777778,\"#fb9f3a\"],[0.8888888888888888,\"#fdca26\"],[1.0,\"#f0f921\"]]}],\"mesh3d\":[{\"type\":\"mesh3d\",\"colorbar\":{\"outlinewidth\":0,\"ticks\":\"\"}}],\"scatter\":[{\"fillpattern\":{\"fillmode\":\"overlay\",\"size\":10,\"solidity\":0.2},\"type\":\"scatter\"}],\"parcoords\":[{\"type\":\"parcoords\",\"line\":{\"colorbar\":{\"outlinewidth\":0,\"ticks\":\"\"}}}],\"scatterpolargl\":[{\"type\":\"scatterpolargl\",\"marker\":{\"colorbar\":{\"outlinewidth\":0,\"ticks\":\"\"}}}],\"bar\":[{\"error_x\":{\"color\":\"#2a3f5f\"},\"error_y\":{\"color\":\"#2a3f5f\"},\"marker\":{\"line\":{\"color\":\"#E5ECF6\",\"width\":0.5},\"pattern\":{\"fillmode\":\"overlay\",\"size\":10,\"solidity\":0.2}},\"type\":\"bar\"}],\"scattergeo\":[{\"type\":\"scattergeo\",\"marker\":{\"colorbar\":{\"outlinewidth\":0,\"ticks\":\"\"}}}],\"scatterpolar\":[{\"type\":\"scatterpolar\",\"marker\":{\"colorbar\":{\"outlinewidth\":0,\"ticks\":\"\"}}}],\"histogram\":[{\"marker\":{\"pattern\":{\"fillmode\":\"overlay\",\"size\":10,\"solidity\":0.2}},\"type\":\"histogram\"}],\"scattergl\":[{\"type\":\"scattergl\",\"marker\":{\"colorbar\":{\"outlinewidth\":0,\"ticks\":\"\"}}}],\"scatter3d\":[{\"type\":\"scatter3d\",\"line\":{\"colorbar\":{\"outlinewidth\":0,\"ticks\":\"\"}},\"marker\":{\"colorbar\":{\"outlinewidth\":0,\"ticks\":\"\"}}}],\"scattermapbox\":[{\"type\":\"scattermapbox\",\"marker\":{\"colorbar\":{\"outlinewidth\":0,\"ticks\":\"\"}}}],\"scatterternary\":[{\"type\":\"scatterternary\",\"marker\":{\"colorbar\":{\"outlinewidth\":0,\"ticks\":\"\"}}}],\"scattercarpet\":[{\"type\":\"scattercarpet\",\"marker\":{\"colorbar\":{\"outlinewidth\":0,\"ticks\":\"\"}}}],\"carpet\":[{\"aaxis\":{\"endlinecolor\":\"#2a3f5f\",\"gridcolor\":\"white\",\"linecolor\":\"white\",\"minorgridcolor\":\"white\",\"startlinecolor\":\"#2a3f5f\"},\"baxis\":{\"endlinecolor\":\"#2a3f5f\",\"gridcolor\":\"white\",\"linecolor\":\"white\",\"minorgridcolor\":\"white\",\"startlinecolor\":\"#2a3f5f\"},\"type\":\"carpet\"}],\"table\":[{\"cells\":{\"fill\":{\"color\":\"#EBF0F8\"},\"line\":{\"color\":\"white\"}},\"header\":{\"fill\":{\"color\":\"#C8D4E3\"},\"line\":{\"color\":\"white\"}},\"type\":\"table\"}],\"barpolar\":[{\"marker\":{\"line\":{\"color\":\"#E5ECF6\",\"width\":0.5},\"pattern\":{\"fillmode\":\"overlay\",\"size\":10,\"solidity\":0.2}},\"type\":\"barpolar\"}],\"pie\":[{\"automargin\":true,\"type\":\"pie\"}]},\"layout\":{\"autotypenumbers\":\"strict\",\"colorway\":[\"#636efa\",\"#EF553B\",\"#00cc96\",\"#ab63fa\",\"#FFA15A\",\"#19d3f3\",\"#FF6692\",\"#B6E880\",\"#FF97FF\",\"#FECB52\"],\"font\":{\"color\":\"#2a3f5f\"},\"hovermode\":\"closest\",\"hoverlabel\":{\"align\":\"left\"},\"paper_bgcolor\":\"white\",\"plot_bgcolor\":\"#E5ECF6\",\"polar\":{\"bgcolor\":\"#E5ECF6\",\"angularaxis\":{\"gridcolor\":\"white\",\"linecolor\":\"white\",\"ticks\":\"\"},\"radialaxis\":{\"gridcolor\":\"white\",\"linecolor\":\"white\",\"ticks\":\"\"}},\"ternary\":{\"bgcolor\":\"#E5ECF6\",\"aaxis\":{\"gridcolor\":\"white\",\"linecolor\":\"white\",\"ticks\":\"\"},\"baxis\":{\"gridcolor\":\"white\",\"linecolor\":\"white\",\"ticks\":\"\"},\"caxis\":{\"gridcolor\":\"white\",\"linecolor\":\"white\",\"ticks\":\"\"}},\"coloraxis\":{\"colorbar\":{\"outlinewidth\":0,\"ticks\":\"\"}},\"colorscale\":{\"sequential\":[[0.0,\"#0d0887\"],[0.1111111111111111,\"#46039f\"],[0.2222222222222222,\"#7201a8\"],[0.3333333333333333,\"#9c179e\"],[0.4444444444444444,\"#bd3786\"],[0.5555555555555556,\"#d8576b\"],[0.6666666666666666,\"#ed7953\"],[0.7777777777777778,\"#fb9f3a\"],[0.8888888888888888,\"#fdca26\"],[1.0,\"#f0f921\"]],\"sequentialminus\":[[0.0,\"#0d0887\"],[0.1111111111111111,\"#46039f\"],[0.2222222222222222,\"#7201a8\"],[0.3333333333333333,\"#9c179e\"],[0.4444444444444444,\"#bd3786\"],[0.5555555555555556,\"#d8576b\"],[0.6666666666666666,\"#ed7953\"],[0.7777777777777778,\"#fb9f3a\"],[0.8888888888888888,\"#fdca26\"],[1.0,\"#f0f921\"]],\"diverging\":[[0,\"#8e0152\"],[0.1,\"#c51b7d\"],[0.2,\"#de77ae\"],[0.3,\"#f1b6da\"],[0.4,\"#fde0ef\"],[0.5,\"#f7f7f7\"],[0.6,\"#e6f5d0\"],[0.7,\"#b8e186\"],[0.8,\"#7fbc41\"],[0.9,\"#4d9221\"],[1,\"#276419\"]]},\"xaxis\":{\"gridcolor\":\"white\",\"linecolor\":\"white\",\"ticks\":\"\",\"title\":{\"standoff\":15},\"zerolinecolor\":\"white\",\"automargin\":true,\"zerolinewidth\":2},\"yaxis\":{\"gridcolor\":\"white\",\"linecolor\":\"white\",\"ticks\":\"\",\"title\":{\"standoff\":15},\"zerolinecolor\":\"white\",\"automargin\":true,\"zerolinewidth\":2},\"scene\":{\"xaxis\":{\"backgroundcolor\":\"#E5ECF6\",\"gridcolor\":\"white\",\"linecolor\":\"white\",\"showbackground\":true,\"ticks\":\"\",\"zerolinecolor\":\"white\",\"gridwidth\":2},\"yaxis\":{\"backgroundcolor\":\"#E5ECF6\",\"gridcolor\":\"white\",\"linecolor\":\"white\",\"showbackground\":true,\"ticks\":\"\",\"zerolinecolor\":\"white\",\"gridwidth\":2},\"zaxis\":{\"backgroundcolor\":\"#E5ECF6\",\"gridcolor\":\"white\",\"linecolor\":\"white\",\"showbackground\":true,\"ticks\":\"\",\"zerolinecolor\":\"white\",\"gridwidth\":2}},\"shapedefaults\":{\"line\":{\"color\":\"#2a3f5f\"}},\"annotationdefaults\":{\"arrowcolor\":\"#2a3f5f\",\"arrowhead\":0,\"arrowwidth\":1},\"geo\":{\"bgcolor\":\"white\",\"landcolor\":\"#E5ECF6\",\"subunitcolor\":\"white\",\"showland\":true,\"showlakes\":true,\"lakecolor\":\"white\"},\"title\":{\"x\":0.05},\"mapbox\":{\"style\":\"light\"}}},\"xaxis\":{\"anchor\":\"y\",\"domain\":[0.0,1.0],\"title\":{\"text\":\"Step\"}},\"yaxis\":{\"anchor\":\"x\",\"domain\":[0.0,1.0],\"title\":{\"text\":\"Shap Value\"}},\"legend\":{\"title\":{\"text\":\"variable\"},\"tracegroupgap\":0},\"margin\":{\"t\":60}},                        {\"responsive\": true}                    ).then(function(){\n",
       "                            \n",
       "var gd = document.getElementById('aecce70c-b982-41d9-8b57-3cc8aae6bbe8');\n",
       "var x = new MutationObserver(function (mutations, observer) {{\n",
       "        var display = window.getComputedStyle(gd).display;\n",
       "        if (!display || display === 'none') {{\n",
       "            console.log([gd, 'removed!']);\n",
       "            Plotly.purge(gd);\n",
       "            observer.disconnect();\n",
       "        }}\n",
       "}});\n",
       "\n",
       "// Listen for the removal of the full notebook cells\n",
       "var notebookContainer = gd.closest('#notebook-container');\n",
       "if (notebookContainer) {{\n",
       "    x.observe(notebookContainer, {childList: true});\n",
       "}}\n",
       "\n",
       "// Listen for the clearing of the current output cell\n",
       "var outputEl = gd.closest('.output');\n",
       "if (outputEl) {{\n",
       "    x.observe(outputEl, {childList: true});\n",
       "}}\n",
       "\n",
       "                        })                };                });            </script>        </div>"
      ]
     },
     "metadata": {},
     "output_type": "display_data"
    }
   ],
   "source": [
    "df_shapley, pred_explain, internal, timing,df = group_shap_single_exp(base_config,approach='empirical')\n",
    "print(df['action'].unique())\n",
    "fig =px.line(data_frame=df_shapley[[\"DM\",\"DT\",\"SDT\",\"DP\",\"SDP\",\"DE\",\"SDE\",\"HP\"]].abs(),x= df_shapley[[\"DM\",\"DT\",\"SDT\",\"DP\",\"SDP\",\"DE\",\"SDE\",\"HP\"]].index ,y = df_shapley[[\"DM\",\"DT\",\"SDT\",\"DP\",\"SDP\",\"DE\",\"SDE\",\"HP\"]].columns).update_layout(xaxis_title=\"Step\", yaxis_title=\"Shap Value\")\n",
    "fig.show()"
   ]
  },
  {
   "cell_type": "code",
   "execution_count": 15,
   "metadata": {},
   "outputs": [
    {
     "name": "stdout",
     "output_type": "stream",
     "text": [
      "----------Generating Data----------\n",
      "{'lvl': 'policy_2', 'obs_type': 'distance', 'learning_algo': 'PPO', 'exp_type': 'switch_exitLessBetter', 'action_type': 'switch', 'action_space_type': 'discrete', 'play_style': 'switch', 'reward_scheme': 'switch', 'exp_path': 'switching', 'base_path': 'play_style_models/base/', 'which_model': 'best_model'}\n",
      "switch-policy_2_switch_switch_switch_exitLessBetter_PPO\n"
     ]
    },
    {
     "name": "stderr",
     "output_type": "stream",
     "text": [
      "R[write to console]: Note: You passed a model to explain() which is not natively supported, and did not supply a 'get_model_specs' function to explain().\n",
      "Consistency checks between model and data is therefore disabled.\n",
      "\n",
      "\n",
      "R[write to console]: Setting parameter 'n_batches' to 2 as a fair trade-off between memory consumption and computation time.\n",
      "Reducing 'n_batches' typically reduces the computation time at the cost of increased memory consumption.\n",
      "\n",
      "\n"
     ]
    },
    {
     "name": "stdout",
     "output_type": "stream",
     "text": [
      "0      [3.1140745]\n",
      "1      [3.1140451]\n",
      "2       [3.113708]\n",
      "3      [3.1117535]\n",
      "4      [3.0976179]\n",
      "          ...     \n",
      "115     [2.678426]\n",
      "116    [2.6784258]\n",
      "117    [1.1655737]\n",
      "118    [1.1655735]\n",
      "119    [1.1655732]\n",
      "Name: curr_obs, Length: 120, dtype: object\n",
      "['TREASURE' 'KILLER' 'POTION']\n"
     ]
    },
    {
     "data": {
      "application/vnd.plotly.v1+json": {
       "config": {
        "plotlyServerURL": "https://plot.ly"
       },
       "data": [
        {
         "hovertemplate": "variable=Treasure<br>index=%{x}<br>value=%{y}<extra></extra>",
         "legendgroup": "Treasure",
         "line": {
          "color": "#636efa",
          "dash": "solid"
         },
         "marker": {
          "symbol": "circle"
         },
         "mode": "lines",
         "name": "Treasure",
         "orientation": "v",
         "showlegend": true,
         "type": "scatter",
         "x": [
          "1",
          "2",
          "3",
          "4",
          "5",
          "6",
          "7",
          "8",
          "9",
          "10",
          "11",
          "12",
          "13",
          "14",
          "15",
          "16",
          "17",
          "18",
          "19",
          "20",
          "21",
          "22",
          "23",
          "24"
         ],
         "xaxis": "x",
         "y": [
          0.3425222704853559,
          0.34355621855967017,
          0.34955549087609195,
          0.40370529024297436,
          0.5194589925683447,
          0.3068130727746992,
          0.1848611245067791,
          0.1307290287240092,
          0.12365791074226597,
          0.11581664118938252,
          0.05529944505285345,
          0.052655407671476036,
          0.04604619956200396,
          0.03473589749246334,
          0.038153296657944015,
          0.03995227379093195,
          0.03639053061189105,
          0.037595480399177185,
          0.045054071434121136,
          0.05573746500023128,
          0.06560552477171708,
          0.02221382732899544,
          0.013752994066224123,
          0.02439223053789653
         ],
         "yaxis": "y"
        },
        {
         "hovertemplate": "variable=Exit<br>index=%{x}<br>value=%{y}<extra></extra>",
         "legendgroup": "Exit",
         "line": {
          "color": "#EF553B",
          "dash": "solid"
         },
         "marker": {
          "symbol": "circle"
         },
         "mode": "lines",
         "name": "Exit",
         "orientation": "v",
         "showlegend": true,
         "type": "scatter",
         "x": [
          "1",
          "2",
          "3",
          "4",
          "5",
          "6",
          "7",
          "8",
          "9",
          "10",
          "11",
          "12",
          "13",
          "14",
          "15",
          "16",
          "17",
          "18",
          "19",
          "20",
          "21",
          "22",
          "23",
          "24"
         ],
         "xaxis": "x",
         "y": [
          0.3468647168512216,
          0.3460180568853569,
          0.3413044545679337,
          0.28805219039267405,
          0.16109442675609978,
          0.007877063286340958,
          0.12374825144445877,
          0.16561640122860755,
          0.1632056854647341,
          0.15536980214431237,
          0.08428451269958412,
          0.08164047619803202,
          0.0031992056439992503,
          0.14723763840739468,
          0.1870776801457693,
          0.216060512080346,
          0.22033670753164836,
          0.219130131204473,
          0.2087538903726892,
          0.1409550722342522,
          0.017934062304873905,
          0.30810588207707146,
          0.47682424659943934,
          0.5344955821926751
         ],
         "yaxis": "y"
        },
        {
         "hovertemplate": "variable=Health<br>index=%{x}<br>value=%{y}<extra></extra>",
         "legendgroup": "Health",
         "line": {
          "color": "#00cc96",
          "dash": "solid"
         },
         "marker": {
          "symbol": "circle"
         },
         "mode": "lines",
         "name": "Health",
         "orientation": "v",
         "showlegend": true,
         "type": "scatter",
         "x": [
          "1",
          "2",
          "3",
          "4",
          "5",
          "6",
          "7",
          "8",
          "9",
          "10",
          "11",
          "12",
          "13",
          "14",
          "15",
          "16",
          "17",
          "18",
          "19",
          "20",
          "21",
          "22",
          "23",
          "24"
         ],
         "xaxis": "x",
         "y": [
          0.0704678965760611,
          0.07050658097669714,
          0.06633828188115884,
          0.05559146649157447,
          0.05958112740111932,
          0.07249386067158156,
          0.07605382246055506,
          0.0683833413662516,
          0.06372580402953593,
          0.05919756661391434,
          0.08428451271756959,
          0.08164047621545284,
          0.10072956507127856,
          0.18537982738004166,
          0.1827733524142004,
          0.1826555365534861,
          0.1897079089353183,
          0.1909183767802638,
          0.19984050059044134,
          0.26665240876213336,
          0.3450334880551078,
          0.783772614364863,
          0.6090834191013605,
          0.5579120031454424
         ],
         "yaxis": "y"
        },
        {
         "hovertemplate": "variable=Monster<br>index=%{x}<br>value=%{y}<extra></extra>",
         "legendgroup": "Monster",
         "line": {
          "color": "#ab63fa",
          "dash": "solid"
         },
         "marker": {
          "symbol": "circle"
         },
         "mode": "lines",
         "name": "Monster",
         "orientation": "v",
         "showlegend": true,
         "type": "scatter",
         "x": [
          "1",
          "2",
          "3",
          "4",
          "5",
          "6",
          "7",
          "8",
          "9",
          "10",
          "11",
          "12",
          "13",
          "14",
          "15",
          "16",
          "17",
          "18",
          "19",
          "20",
          "21",
          "22",
          "23",
          "24"
         ],
         "xaxis": "x",
         "y": [
          0.037614237763554124,
          0.03735893974129803,
          0.03990444459467892,
          0.04779916869285928,
          0.040877970312446534,
          0.010838680072850328,
          0.0011979592762597089,
          0.00339550375046943,
          0.008219560872576522,
          0.019368475081093236,
          0.007488858966463172,
          0.015420967909307966,
          0.28923991784524633,
          0.06393914500980574,
          0.03012297575683815,
          0.0030569362901620768,
          0.011833373958011812,
          0.010632315689557187,
          0.0017196072364297707,
          0.009950696565582734,
          0.0644584607293554,
          0.036939278447035456,
          0.051371182497993745,
          0.034232263034942506
         ],
         "yaxis": "y"
        }
       ],
       "layout": {
        "legend": {
         "title": {
          "text": "variable"
         },
         "tracegroupgap": 0
        },
        "margin": {
         "t": 60
        },
        "template": {
         "data": {
          "bar": [
           {
            "error_x": {
             "color": "#2a3f5f"
            },
            "error_y": {
             "color": "#2a3f5f"
            },
            "marker": {
             "line": {
              "color": "#E5ECF6",
              "width": 0.5
             },
             "pattern": {
              "fillmode": "overlay",
              "size": 10,
              "solidity": 0.2
             }
            },
            "type": "bar"
           }
          ],
          "barpolar": [
           {
            "marker": {
             "line": {
              "color": "#E5ECF6",
              "width": 0.5
             },
             "pattern": {
              "fillmode": "overlay",
              "size": 10,
              "solidity": 0.2
             }
            },
            "type": "barpolar"
           }
          ],
          "carpet": [
           {
            "aaxis": {
             "endlinecolor": "#2a3f5f",
             "gridcolor": "white",
             "linecolor": "white",
             "minorgridcolor": "white",
             "startlinecolor": "#2a3f5f"
            },
            "baxis": {
             "endlinecolor": "#2a3f5f",
             "gridcolor": "white",
             "linecolor": "white",
             "minorgridcolor": "white",
             "startlinecolor": "#2a3f5f"
            },
            "type": "carpet"
           }
          ],
          "choropleth": [
           {
            "colorbar": {
             "outlinewidth": 0,
             "ticks": ""
            },
            "type": "choropleth"
           }
          ],
          "contour": [
           {
            "colorbar": {
             "outlinewidth": 0,
             "ticks": ""
            },
            "colorscale": [
             [
              0,
              "#0d0887"
             ],
             [
              0.1111111111111111,
              "#46039f"
             ],
             [
              0.2222222222222222,
              "#7201a8"
             ],
             [
              0.3333333333333333,
              "#9c179e"
             ],
             [
              0.4444444444444444,
              "#bd3786"
             ],
             [
              0.5555555555555556,
              "#d8576b"
             ],
             [
              0.6666666666666666,
              "#ed7953"
             ],
             [
              0.7777777777777778,
              "#fb9f3a"
             ],
             [
              0.8888888888888888,
              "#fdca26"
             ],
             [
              1,
              "#f0f921"
             ]
            ],
            "type": "contour"
           }
          ],
          "contourcarpet": [
           {
            "colorbar": {
             "outlinewidth": 0,
             "ticks": ""
            },
            "type": "contourcarpet"
           }
          ],
          "heatmap": [
           {
            "colorbar": {
             "outlinewidth": 0,
             "ticks": ""
            },
            "colorscale": [
             [
              0,
              "#0d0887"
             ],
             [
              0.1111111111111111,
              "#46039f"
             ],
             [
              0.2222222222222222,
              "#7201a8"
             ],
             [
              0.3333333333333333,
              "#9c179e"
             ],
             [
              0.4444444444444444,
              "#bd3786"
             ],
             [
              0.5555555555555556,
              "#d8576b"
             ],
             [
              0.6666666666666666,
              "#ed7953"
             ],
             [
              0.7777777777777778,
              "#fb9f3a"
             ],
             [
              0.8888888888888888,
              "#fdca26"
             ],
             [
              1,
              "#f0f921"
             ]
            ],
            "type": "heatmap"
           }
          ],
          "heatmapgl": [
           {
            "colorbar": {
             "outlinewidth": 0,
             "ticks": ""
            },
            "colorscale": [
             [
              0,
              "#0d0887"
             ],
             [
              0.1111111111111111,
              "#46039f"
             ],
             [
              0.2222222222222222,
              "#7201a8"
             ],
             [
              0.3333333333333333,
              "#9c179e"
             ],
             [
              0.4444444444444444,
              "#bd3786"
             ],
             [
              0.5555555555555556,
              "#d8576b"
             ],
             [
              0.6666666666666666,
              "#ed7953"
             ],
             [
              0.7777777777777778,
              "#fb9f3a"
             ],
             [
              0.8888888888888888,
              "#fdca26"
             ],
             [
              1,
              "#f0f921"
             ]
            ],
            "type": "heatmapgl"
           }
          ],
          "histogram": [
           {
            "marker": {
             "pattern": {
              "fillmode": "overlay",
              "size": 10,
              "solidity": 0.2
             }
            },
            "type": "histogram"
           }
          ],
          "histogram2d": [
           {
            "colorbar": {
             "outlinewidth": 0,
             "ticks": ""
            },
            "colorscale": [
             [
              0,
              "#0d0887"
             ],
             [
              0.1111111111111111,
              "#46039f"
             ],
             [
              0.2222222222222222,
              "#7201a8"
             ],
             [
              0.3333333333333333,
              "#9c179e"
             ],
             [
              0.4444444444444444,
              "#bd3786"
             ],
             [
              0.5555555555555556,
              "#d8576b"
             ],
             [
              0.6666666666666666,
              "#ed7953"
             ],
             [
              0.7777777777777778,
              "#fb9f3a"
             ],
             [
              0.8888888888888888,
              "#fdca26"
             ],
             [
              1,
              "#f0f921"
             ]
            ],
            "type": "histogram2d"
           }
          ],
          "histogram2dcontour": [
           {
            "colorbar": {
             "outlinewidth": 0,
             "ticks": ""
            },
            "colorscale": [
             [
              0,
              "#0d0887"
             ],
             [
              0.1111111111111111,
              "#46039f"
             ],
             [
              0.2222222222222222,
              "#7201a8"
             ],
             [
              0.3333333333333333,
              "#9c179e"
             ],
             [
              0.4444444444444444,
              "#bd3786"
             ],
             [
              0.5555555555555556,
              "#d8576b"
             ],
             [
              0.6666666666666666,
              "#ed7953"
             ],
             [
              0.7777777777777778,
              "#fb9f3a"
             ],
             [
              0.8888888888888888,
              "#fdca26"
             ],
             [
              1,
              "#f0f921"
             ]
            ],
            "type": "histogram2dcontour"
           }
          ],
          "mesh3d": [
           {
            "colorbar": {
             "outlinewidth": 0,
             "ticks": ""
            },
            "type": "mesh3d"
           }
          ],
          "parcoords": [
           {
            "line": {
             "colorbar": {
              "outlinewidth": 0,
              "ticks": ""
             }
            },
            "type": "parcoords"
           }
          ],
          "pie": [
           {
            "automargin": true,
            "type": "pie"
           }
          ],
          "scatter": [
           {
            "fillpattern": {
             "fillmode": "overlay",
             "size": 10,
             "solidity": 0.2
            },
            "type": "scatter"
           }
          ],
          "scatter3d": [
           {
            "line": {
             "colorbar": {
              "outlinewidth": 0,
              "ticks": ""
             }
            },
            "marker": {
             "colorbar": {
              "outlinewidth": 0,
              "ticks": ""
             }
            },
            "type": "scatter3d"
           }
          ],
          "scattercarpet": [
           {
            "marker": {
             "colorbar": {
              "outlinewidth": 0,
              "ticks": ""
             }
            },
            "type": "scattercarpet"
           }
          ],
          "scattergeo": [
           {
            "marker": {
             "colorbar": {
              "outlinewidth": 0,
              "ticks": ""
             }
            },
            "type": "scattergeo"
           }
          ],
          "scattergl": [
           {
            "marker": {
             "colorbar": {
              "outlinewidth": 0,
              "ticks": ""
             }
            },
            "type": "scattergl"
           }
          ],
          "scattermapbox": [
           {
            "marker": {
             "colorbar": {
              "outlinewidth": 0,
              "ticks": ""
             }
            },
            "type": "scattermapbox"
           }
          ],
          "scatterpolar": [
           {
            "marker": {
             "colorbar": {
              "outlinewidth": 0,
              "ticks": ""
             }
            },
            "type": "scatterpolar"
           }
          ],
          "scatterpolargl": [
           {
            "marker": {
             "colorbar": {
              "outlinewidth": 0,
              "ticks": ""
             }
            },
            "type": "scatterpolargl"
           }
          ],
          "scatterternary": [
           {
            "marker": {
             "colorbar": {
              "outlinewidth": 0,
              "ticks": ""
             }
            },
            "type": "scatterternary"
           }
          ],
          "surface": [
           {
            "colorbar": {
             "outlinewidth": 0,
             "ticks": ""
            },
            "colorscale": [
             [
              0,
              "#0d0887"
             ],
             [
              0.1111111111111111,
              "#46039f"
             ],
             [
              0.2222222222222222,
              "#7201a8"
             ],
             [
              0.3333333333333333,
              "#9c179e"
             ],
             [
              0.4444444444444444,
              "#bd3786"
             ],
             [
              0.5555555555555556,
              "#d8576b"
             ],
             [
              0.6666666666666666,
              "#ed7953"
             ],
             [
              0.7777777777777778,
              "#fb9f3a"
             ],
             [
              0.8888888888888888,
              "#fdca26"
             ],
             [
              1,
              "#f0f921"
             ]
            ],
            "type": "surface"
           }
          ],
          "table": [
           {
            "cells": {
             "fill": {
              "color": "#EBF0F8"
             },
             "line": {
              "color": "white"
             }
            },
            "header": {
             "fill": {
              "color": "#C8D4E3"
             },
             "line": {
              "color": "white"
             }
            },
            "type": "table"
           }
          ]
         },
         "layout": {
          "annotationdefaults": {
           "arrowcolor": "#2a3f5f",
           "arrowhead": 0,
           "arrowwidth": 1
          },
          "autotypenumbers": "strict",
          "coloraxis": {
           "colorbar": {
            "outlinewidth": 0,
            "ticks": ""
           }
          },
          "colorscale": {
           "diverging": [
            [
             0,
             "#8e0152"
            ],
            [
             0.1,
             "#c51b7d"
            ],
            [
             0.2,
             "#de77ae"
            ],
            [
             0.3,
             "#f1b6da"
            ],
            [
             0.4,
             "#fde0ef"
            ],
            [
             0.5,
             "#f7f7f7"
            ],
            [
             0.6,
             "#e6f5d0"
            ],
            [
             0.7,
             "#b8e186"
            ],
            [
             0.8,
             "#7fbc41"
            ],
            [
             0.9,
             "#4d9221"
            ],
            [
             1,
             "#276419"
            ]
           ],
           "sequential": [
            [
             0,
             "#0d0887"
            ],
            [
             0.1111111111111111,
             "#46039f"
            ],
            [
             0.2222222222222222,
             "#7201a8"
            ],
            [
             0.3333333333333333,
             "#9c179e"
            ],
            [
             0.4444444444444444,
             "#bd3786"
            ],
            [
             0.5555555555555556,
             "#d8576b"
            ],
            [
             0.6666666666666666,
             "#ed7953"
            ],
            [
             0.7777777777777778,
             "#fb9f3a"
            ],
            [
             0.8888888888888888,
             "#fdca26"
            ],
            [
             1,
             "#f0f921"
            ]
           ],
           "sequentialminus": [
            [
             0,
             "#0d0887"
            ],
            [
             0.1111111111111111,
             "#46039f"
            ],
            [
             0.2222222222222222,
             "#7201a8"
            ],
            [
             0.3333333333333333,
             "#9c179e"
            ],
            [
             0.4444444444444444,
             "#bd3786"
            ],
            [
             0.5555555555555556,
             "#d8576b"
            ],
            [
             0.6666666666666666,
             "#ed7953"
            ],
            [
             0.7777777777777778,
             "#fb9f3a"
            ],
            [
             0.8888888888888888,
             "#fdca26"
            ],
            [
             1,
             "#f0f921"
            ]
           ]
          },
          "colorway": [
           "#636efa",
           "#EF553B",
           "#00cc96",
           "#ab63fa",
           "#FFA15A",
           "#19d3f3",
           "#FF6692",
           "#B6E880",
           "#FF97FF",
           "#FECB52"
          ],
          "font": {
           "color": "#2a3f5f"
          },
          "geo": {
           "bgcolor": "white",
           "lakecolor": "white",
           "landcolor": "#E5ECF6",
           "showlakes": true,
           "showland": true,
           "subunitcolor": "white"
          },
          "hoverlabel": {
           "align": "left"
          },
          "hovermode": "closest",
          "mapbox": {
           "style": "light"
          },
          "paper_bgcolor": "white",
          "plot_bgcolor": "#E5ECF6",
          "polar": {
           "angularaxis": {
            "gridcolor": "white",
            "linecolor": "white",
            "ticks": ""
           },
           "bgcolor": "#E5ECF6",
           "radialaxis": {
            "gridcolor": "white",
            "linecolor": "white",
            "ticks": ""
           }
          },
          "scene": {
           "xaxis": {
            "backgroundcolor": "#E5ECF6",
            "gridcolor": "white",
            "gridwidth": 2,
            "linecolor": "white",
            "showbackground": true,
            "ticks": "",
            "zerolinecolor": "white"
           },
           "yaxis": {
            "backgroundcolor": "#E5ECF6",
            "gridcolor": "white",
            "gridwidth": 2,
            "linecolor": "white",
            "showbackground": true,
            "ticks": "",
            "zerolinecolor": "white"
           },
           "zaxis": {
            "backgroundcolor": "#E5ECF6",
            "gridcolor": "white",
            "gridwidth": 2,
            "linecolor": "white",
            "showbackground": true,
            "ticks": "",
            "zerolinecolor": "white"
           }
          },
          "shapedefaults": {
           "line": {
            "color": "#2a3f5f"
           }
          },
          "ternary": {
           "aaxis": {
            "gridcolor": "white",
            "linecolor": "white",
            "ticks": ""
           },
           "baxis": {
            "gridcolor": "white",
            "linecolor": "white",
            "ticks": ""
           },
           "bgcolor": "#E5ECF6",
           "caxis": {
            "gridcolor": "white",
            "linecolor": "white",
            "ticks": ""
           }
          },
          "title": {
           "x": 0.05
          },
          "xaxis": {
           "automargin": true,
           "gridcolor": "white",
           "linecolor": "white",
           "ticks": "",
           "title": {
            "standoff": 15
           },
           "zerolinecolor": "white",
           "zerolinewidth": 2
          },
          "yaxis": {
           "automargin": true,
           "gridcolor": "white",
           "linecolor": "white",
           "ticks": "",
           "title": {
            "standoff": 15
           },
           "zerolinecolor": "white",
           "zerolinewidth": 2
          }
         }
        },
        "xaxis": {
         "anchor": "y",
         "domain": [
          0,
          1
         ],
         "title": {
          "text": "Step"
         }
        },
        "yaxis": {
         "anchor": "x",
         "domain": [
          0,
          1
         ],
         "title": {
          "text": "Shap Value"
         }
        }
       }
      }
     },
     "metadata": {},
     "output_type": "display_data"
    }
   ],
   "source": [
    "object_group = {\n",
    "    'Treasure':['DT','SDT'],\n",
    "    'Exit': ['DE','SDE'],\n",
    "    'Potion': ['DP','SDP'],\n",
    "    'Monster': ['DM'],\n",
    "    'HP': ['HP']\n",
    "}\n",
    "group = {\n",
    "    'Treasure':['DT','SDT'],\n",
    "    'Exit': ['DE','SDE'],\n",
    "    'Health': ['DP','SDP','HP'],\n",
    "    'Monster':['DM']\n",
    "}\n",
    "basic_group = {\n",
    "    'Treasure':['DT','SDT'],\n",
    "    'Exit': ['DE','SDE'],\n",
    "    'Health': ['DP','SDP','HP','DM'],\n",
    "    # 'Monster':['DM']\n",
    "}\n",
    "safety_group = {\n",
    "    'Treasure':['DT'],\n",
    "    'Exit': ['DE'],\n",
    "    'Potion': ['DP'],\n",
    "    'Safe': ['SDT','SDP','SDE','HP'],\n",
    "    'Monster':['DM','HP']\n",
    "}\n",
    "df_shapley, pred_explain, internal, timing,df = group_shap_single_exp(base_config,approach='empirical',group= group)\n",
    "print(df['action'].unique())\n",
    "#TODO look how to exclude non column\n",
    "df_shapley.drop(columns = 'none',inplace=True)\n",
    "fig =px.line(data_frame=df_shapley.abs(),x= df_shapley.index ,y = df_shapley.columns).update_layout(xaxis_title=\"Step\", yaxis_title=\"Shap Value\")\n",
    "fig.show()"
   ]
  },
  {
   "cell_type": "code",
   "execution_count": 17,
   "metadata": {},
   "outputs": [
    {
     "name": "stdout",
     "output_type": "stream",
     "text": [
      "----------Generating Data----------\n",
      "{'lvl': 'policy_2', 'obs_type': 'distance', 'learning_algo': 'PPO', 'exp_type': 'switch_exitLessBetter', 'action_type': 'switch', 'action_space_type': 'discrete', 'play_style': 'switch', 'reward_scheme': 'switch', 'exp_path': 'switching', 'base_path': 'play_style_models/base/', 'which_model': 'best_model'}\n",
      "switch-policy_2_switch_switch_switch_exitLessBetter_PPO\n"
     ]
    },
    {
     "name": "stderr",
     "output_type": "stream",
     "text": [
      "R[write to console]: Note: You passed a model to explain() which is not natively supported, and did not supply a 'get_model_specs' function to explain().\n",
      "Consistency checks between model and data is therefore disabled.\n",
      "\n",
      "\n",
      "R[write to console]: Setting parameter 'n_batches' to 2 as a fair trade-off between memory consumption and computation time.\n",
      "Reducing 'n_batches' typically reduces the computation time at the cost of increased memory consumption.\n",
      "\n",
      "\n"
     ]
    },
    {
     "name": "stdout",
     "output_type": "stream",
     "text": [
      "0      [3.1140745]\n",
      "1      [3.1140451]\n",
      "2       [3.113708]\n",
      "3      [3.1117535]\n",
      "4      [3.0976179]\n",
      "          ...     \n",
      "115     [2.678426]\n",
      "116    [2.6784258]\n",
      "117    [1.1655737]\n",
      "118    [1.1655735]\n",
      "119    [1.1655732]\n",
      "Name: curr_obs, Length: 120, dtype: object\n",
      "['TREASURE' 'KILLER' 'POTION']\n"
     ]
    },
    {
     "data": {
      "application/vnd.plotly.v1+json": {
       "config": {
        "plotlyServerURL": "https://plot.ly"
       },
       "data": [
        {
         "hovertemplate": "variable=Treasure<br>index=%{x}<br>value=%{y}<extra></extra>",
         "legendgroup": "Treasure",
         "line": {
          "color": "#636efa",
          "dash": "solid"
         },
         "marker": {
          "symbol": "circle"
         },
         "mode": "lines",
         "name": "Treasure",
         "orientation": "v",
         "showlegend": true,
         "type": "scatter",
         "x": [
          "1",
          "2",
          "3",
          "4",
          "5",
          "6",
          "7",
          "8",
          "9",
          "10",
          "11",
          "12",
          "13",
          "14",
          "15",
          "16",
          "17",
          "18",
          "19",
          "20",
          "21",
          "22",
          "23",
          "24"
         ],
         "xaxis": "x",
         "y": [
          0.3498618288843824,
          0.35203341008103695,
          0.3615272094472995,
          0.4178370212468426,
          0.5305520204220756,
          0.30790339926903937,
          0.18522358752630635,
          0.13113270486891743,
          0.12123272322855597,
          0.11314413144522431,
          0.06496652436074599,
          0.06220285439177289,
          0.04374413147105912,
          0.03216082537456317,
          0.033972089457961215,
          0.03507887437759844,
          0.0317384628765271,
          0.03188603423492004,
          0.03605131821214353,
          0.04072811524874915,
          0.0644961423920195,
          0.03640578243042766,
          0.02907305527062866,
          0.03304134416670479
         ],
         "yaxis": "y"
        },
        {
         "hovertemplate": "variable=Exit<br>index=%{x}<br>value=%{y}<extra></extra>",
         "legendgroup": "Exit",
         "line": {
          "color": "#EF553B",
          "dash": "solid"
         },
         "marker": {
          "symbol": "circle"
         },
         "mode": "lines",
         "name": "Exit",
         "orientation": "v",
         "showlegend": true,
         "type": "scatter",
         "x": [
          "1",
          "2",
          "3",
          "4",
          "5",
          "6",
          "7",
          "8",
          "9",
          "10",
          "11",
          "12",
          "13",
          "14",
          "15",
          "16",
          "17",
          "18",
          "19",
          "20",
          "21",
          "22",
          "23",
          "24"
         ],
         "xaxis": "x",
         "y": [
          0.3542009196184704,
          0.35166995674748336,
          0.34132078714798947,
          0.2864950114552641,
          0.16395569102198423,
          0.004394890106850269,
          0.1085837839496849,
          0.15143151278622743,
          0.15354106699283057,
          0.14498537647488977,
          0.06729953089191283,
          0.06453586092352977,
          0.011524066231532532,
          0.08921624109253726,
          0.1274551778203519,
          0.15440487386914323,
          0.16416814488106782,
          0.1643729394453797,
          0.1580146356741006,
          0.11269195027797177,
          0.0212418018126885,
          0.2452323070439805,
          0.39671283885689435,
          0.44942187335216705
         ],
         "yaxis": "y"
        },
        {
         "hovertemplate": "variable=Potion<br>index=%{x}<br>value=%{y}<extra></extra>",
         "legendgroup": "Potion",
         "line": {
          "color": "#00cc96",
          "dash": "solid"
         },
         "marker": {
          "symbol": "circle"
         },
         "mode": "lines",
         "name": "Potion",
         "orientation": "v",
         "showlegend": true,
         "type": "scatter",
         "x": [
          "1",
          "2",
          "3",
          "4",
          "5",
          "6",
          "7",
          "8",
          "9",
          "10",
          "11",
          "12",
          "13",
          "14",
          "15",
          "16",
          "17",
          "18",
          "19",
          "20",
          "21",
          "22",
          "23",
          "24"
         ],
         "xaxis": "x",
         "y": [
          0.07791191143985936,
          0.0762359799361604,
          0.07301016970663206,
          0.06775530269260377,
          0.07105723955227519,
          0.10243317081324643,
          0.10623841514510735,
          0.10113437333819081,
          0.09649695026564095,
          0.09475232753466542,
          0.06729951502137096,
          0.06453586094890026,
          0.05061035089414371,
          0.09088865473261343,
          0.08768882928696797,
          0.08440436821436204,
          0.0845067398903826,
          0.08398103925544897,
          0.08647150473872356,
          0.10749977778963082,
          0.5804689210767326,
          0.6650787744194402,
          0.5197145266670047,
          0.4773889209918536
         ],
         "yaxis": "y"
        },
        {
         "hovertemplate": "variable=Monster<br>index=%{x}<br>value=%{y}<extra></extra>",
         "legendgroup": "Monster",
         "line": {
          "color": "#ab63fa",
          "dash": "solid"
         },
         "marker": {
          "symbol": "circle"
         },
         "mode": "lines",
         "name": "Monster",
         "orientation": "v",
         "showlegend": true,
         "type": "scatter",
         "x": [
          "1",
          "2",
          "3",
          "4",
          "5",
          "6",
          "7",
          "8",
          "9",
          "10",
          "11",
          "12",
          "13",
          "14",
          "15",
          "16",
          "17",
          "18",
          "19",
          "20",
          "21",
          "22",
          "23",
          "24"
         ],
         "xaxis": "x",
         "y": [
          0.043012088701679746,
          0.04387900687801986,
          0.050684050968723166,
          0.05735520677875109,
          0.047660998082472185,
          0.01914009950929363,
          0.005461022924863223,
          0.001473040774305378,
          0.0003708091892685261,
          0.012570456883273249,
          0.01219216778699044,
          0.00408062085595289,
          0.3151478996947412,
          0.08161399225985859,
          0.05045526580835423,
          0.026801285253761173,
          0.010467758893721908,
          0.010700619889961667,
          0.014715798808856135,
          0.02121085134649041,
          0.014402925804879722,
          0.07408360227997775,
          0.09253810273040376,
          0.0831489356439225
         ],
         "yaxis": "y"
        },
        {
         "hovertemplate": "variable=HP<br>index=%{x}<br>value=%{y}<extra></extra>",
         "legendgroup": "HP",
         "line": {
          "color": "#FFA15A",
          "dash": "solid"
         },
         "marker": {
          "symbol": "circle"
         },
         "mode": "lines",
         "name": "HP",
         "orientation": "v",
         "showlegend": true,
         "type": "scatter",
         "x": [
          "1",
          "2",
          "3",
          "4",
          "5",
          "6",
          "7",
          "8",
          "9",
          "10",
          "11",
          "12",
          "13",
          "14",
          "15",
          "16",
          "17",
          "18",
          "19",
          "20",
          "21",
          "22",
          "23",
          "24"
         ],
         "xaxis": "x",
         "y": [
          0.027517620059780812,
          0.026378550429775854,
          0.029439537747760897,
          0.0342944188326588,
          0.032213424896975054,
          0.049422349298581976,
          0.04924965386260178,
          0.05140078217337014,
          0.05270969707908506,
          0.055409707876175204,
          0.043983921262625555,
          0.044163367057921496,
          0.08844839188993621,
          0.13226263966674012,
          0.13019351811006108,
          0.13128904864246776,
          0.1344165224032191,
          0.13465213919519237,
          0.13867008346980558,
          0.1611462461446509,
          0.18979703417208735,
          0.13023113461102012,
          0.11299331421064278,
          0.10803099950753747
         ],
         "yaxis": "y"
        }
       ],
       "layout": {
        "legend": {
         "title": {
          "text": "variable"
         },
         "tracegroupgap": 0
        },
        "margin": {
         "t": 60
        },
        "template": {
         "data": {
          "bar": [
           {
            "error_x": {
             "color": "#2a3f5f"
            },
            "error_y": {
             "color": "#2a3f5f"
            },
            "marker": {
             "line": {
              "color": "#E5ECF6",
              "width": 0.5
             },
             "pattern": {
              "fillmode": "overlay",
              "size": 10,
              "solidity": 0.2
             }
            },
            "type": "bar"
           }
          ],
          "barpolar": [
           {
            "marker": {
             "line": {
              "color": "#E5ECF6",
              "width": 0.5
             },
             "pattern": {
              "fillmode": "overlay",
              "size": 10,
              "solidity": 0.2
             }
            },
            "type": "barpolar"
           }
          ],
          "carpet": [
           {
            "aaxis": {
             "endlinecolor": "#2a3f5f",
             "gridcolor": "white",
             "linecolor": "white",
             "minorgridcolor": "white",
             "startlinecolor": "#2a3f5f"
            },
            "baxis": {
             "endlinecolor": "#2a3f5f",
             "gridcolor": "white",
             "linecolor": "white",
             "minorgridcolor": "white",
             "startlinecolor": "#2a3f5f"
            },
            "type": "carpet"
           }
          ],
          "choropleth": [
           {
            "colorbar": {
             "outlinewidth": 0,
             "ticks": ""
            },
            "type": "choropleth"
           }
          ],
          "contour": [
           {
            "colorbar": {
             "outlinewidth": 0,
             "ticks": ""
            },
            "colorscale": [
             [
              0,
              "#0d0887"
             ],
             [
              0.1111111111111111,
              "#46039f"
             ],
             [
              0.2222222222222222,
              "#7201a8"
             ],
             [
              0.3333333333333333,
              "#9c179e"
             ],
             [
              0.4444444444444444,
              "#bd3786"
             ],
             [
              0.5555555555555556,
              "#d8576b"
             ],
             [
              0.6666666666666666,
              "#ed7953"
             ],
             [
              0.7777777777777778,
              "#fb9f3a"
             ],
             [
              0.8888888888888888,
              "#fdca26"
             ],
             [
              1,
              "#f0f921"
             ]
            ],
            "type": "contour"
           }
          ],
          "contourcarpet": [
           {
            "colorbar": {
             "outlinewidth": 0,
             "ticks": ""
            },
            "type": "contourcarpet"
           }
          ],
          "heatmap": [
           {
            "colorbar": {
             "outlinewidth": 0,
             "ticks": ""
            },
            "colorscale": [
             [
              0,
              "#0d0887"
             ],
             [
              0.1111111111111111,
              "#46039f"
             ],
             [
              0.2222222222222222,
              "#7201a8"
             ],
             [
              0.3333333333333333,
              "#9c179e"
             ],
             [
              0.4444444444444444,
              "#bd3786"
             ],
             [
              0.5555555555555556,
              "#d8576b"
             ],
             [
              0.6666666666666666,
              "#ed7953"
             ],
             [
              0.7777777777777778,
              "#fb9f3a"
             ],
             [
              0.8888888888888888,
              "#fdca26"
             ],
             [
              1,
              "#f0f921"
             ]
            ],
            "type": "heatmap"
           }
          ],
          "heatmapgl": [
           {
            "colorbar": {
             "outlinewidth": 0,
             "ticks": ""
            },
            "colorscale": [
             [
              0,
              "#0d0887"
             ],
             [
              0.1111111111111111,
              "#46039f"
             ],
             [
              0.2222222222222222,
              "#7201a8"
             ],
             [
              0.3333333333333333,
              "#9c179e"
             ],
             [
              0.4444444444444444,
              "#bd3786"
             ],
             [
              0.5555555555555556,
              "#d8576b"
             ],
             [
              0.6666666666666666,
              "#ed7953"
             ],
             [
              0.7777777777777778,
              "#fb9f3a"
             ],
             [
              0.8888888888888888,
              "#fdca26"
             ],
             [
              1,
              "#f0f921"
             ]
            ],
            "type": "heatmapgl"
           }
          ],
          "histogram": [
           {
            "marker": {
             "pattern": {
              "fillmode": "overlay",
              "size": 10,
              "solidity": 0.2
             }
            },
            "type": "histogram"
           }
          ],
          "histogram2d": [
           {
            "colorbar": {
             "outlinewidth": 0,
             "ticks": ""
            },
            "colorscale": [
             [
              0,
              "#0d0887"
             ],
             [
              0.1111111111111111,
              "#46039f"
             ],
             [
              0.2222222222222222,
              "#7201a8"
             ],
             [
              0.3333333333333333,
              "#9c179e"
             ],
             [
              0.4444444444444444,
              "#bd3786"
             ],
             [
              0.5555555555555556,
              "#d8576b"
             ],
             [
              0.6666666666666666,
              "#ed7953"
             ],
             [
              0.7777777777777778,
              "#fb9f3a"
             ],
             [
              0.8888888888888888,
              "#fdca26"
             ],
             [
              1,
              "#f0f921"
             ]
            ],
            "type": "histogram2d"
           }
          ],
          "histogram2dcontour": [
           {
            "colorbar": {
             "outlinewidth": 0,
             "ticks": ""
            },
            "colorscale": [
             [
              0,
              "#0d0887"
             ],
             [
              0.1111111111111111,
              "#46039f"
             ],
             [
              0.2222222222222222,
              "#7201a8"
             ],
             [
              0.3333333333333333,
              "#9c179e"
             ],
             [
              0.4444444444444444,
              "#bd3786"
             ],
             [
              0.5555555555555556,
              "#d8576b"
             ],
             [
              0.6666666666666666,
              "#ed7953"
             ],
             [
              0.7777777777777778,
              "#fb9f3a"
             ],
             [
              0.8888888888888888,
              "#fdca26"
             ],
             [
              1,
              "#f0f921"
             ]
            ],
            "type": "histogram2dcontour"
           }
          ],
          "mesh3d": [
           {
            "colorbar": {
             "outlinewidth": 0,
             "ticks": ""
            },
            "type": "mesh3d"
           }
          ],
          "parcoords": [
           {
            "line": {
             "colorbar": {
              "outlinewidth": 0,
              "ticks": ""
             }
            },
            "type": "parcoords"
           }
          ],
          "pie": [
           {
            "automargin": true,
            "type": "pie"
           }
          ],
          "scatter": [
           {
            "fillpattern": {
             "fillmode": "overlay",
             "size": 10,
             "solidity": 0.2
            },
            "type": "scatter"
           }
          ],
          "scatter3d": [
           {
            "line": {
             "colorbar": {
              "outlinewidth": 0,
              "ticks": ""
             }
            },
            "marker": {
             "colorbar": {
              "outlinewidth": 0,
              "ticks": ""
             }
            },
            "type": "scatter3d"
           }
          ],
          "scattercarpet": [
           {
            "marker": {
             "colorbar": {
              "outlinewidth": 0,
              "ticks": ""
             }
            },
            "type": "scattercarpet"
           }
          ],
          "scattergeo": [
           {
            "marker": {
             "colorbar": {
              "outlinewidth": 0,
              "ticks": ""
             }
            },
            "type": "scattergeo"
           }
          ],
          "scattergl": [
           {
            "marker": {
             "colorbar": {
              "outlinewidth": 0,
              "ticks": ""
             }
            },
            "type": "scattergl"
           }
          ],
          "scattermapbox": [
           {
            "marker": {
             "colorbar": {
              "outlinewidth": 0,
              "ticks": ""
             }
            },
            "type": "scattermapbox"
           }
          ],
          "scatterpolar": [
           {
            "marker": {
             "colorbar": {
              "outlinewidth": 0,
              "ticks": ""
             }
            },
            "type": "scatterpolar"
           }
          ],
          "scatterpolargl": [
           {
            "marker": {
             "colorbar": {
              "outlinewidth": 0,
              "ticks": ""
             }
            },
            "type": "scatterpolargl"
           }
          ],
          "scatterternary": [
           {
            "marker": {
             "colorbar": {
              "outlinewidth": 0,
              "ticks": ""
             }
            },
            "type": "scatterternary"
           }
          ],
          "surface": [
           {
            "colorbar": {
             "outlinewidth": 0,
             "ticks": ""
            },
            "colorscale": [
             [
              0,
              "#0d0887"
             ],
             [
              0.1111111111111111,
              "#46039f"
             ],
             [
              0.2222222222222222,
              "#7201a8"
             ],
             [
              0.3333333333333333,
              "#9c179e"
             ],
             [
              0.4444444444444444,
              "#bd3786"
             ],
             [
              0.5555555555555556,
              "#d8576b"
             ],
             [
              0.6666666666666666,
              "#ed7953"
             ],
             [
              0.7777777777777778,
              "#fb9f3a"
             ],
             [
              0.8888888888888888,
              "#fdca26"
             ],
             [
              1,
              "#f0f921"
             ]
            ],
            "type": "surface"
           }
          ],
          "table": [
           {
            "cells": {
             "fill": {
              "color": "#EBF0F8"
             },
             "line": {
              "color": "white"
             }
            },
            "header": {
             "fill": {
              "color": "#C8D4E3"
             },
             "line": {
              "color": "white"
             }
            },
            "type": "table"
           }
          ]
         },
         "layout": {
          "annotationdefaults": {
           "arrowcolor": "#2a3f5f",
           "arrowhead": 0,
           "arrowwidth": 1
          },
          "autotypenumbers": "strict",
          "coloraxis": {
           "colorbar": {
            "outlinewidth": 0,
            "ticks": ""
           }
          },
          "colorscale": {
           "diverging": [
            [
             0,
             "#8e0152"
            ],
            [
             0.1,
             "#c51b7d"
            ],
            [
             0.2,
             "#de77ae"
            ],
            [
             0.3,
             "#f1b6da"
            ],
            [
             0.4,
             "#fde0ef"
            ],
            [
             0.5,
             "#f7f7f7"
            ],
            [
             0.6,
             "#e6f5d0"
            ],
            [
             0.7,
             "#b8e186"
            ],
            [
             0.8,
             "#7fbc41"
            ],
            [
             0.9,
             "#4d9221"
            ],
            [
             1,
             "#276419"
            ]
           ],
           "sequential": [
            [
             0,
             "#0d0887"
            ],
            [
             0.1111111111111111,
             "#46039f"
            ],
            [
             0.2222222222222222,
             "#7201a8"
            ],
            [
             0.3333333333333333,
             "#9c179e"
            ],
            [
             0.4444444444444444,
             "#bd3786"
            ],
            [
             0.5555555555555556,
             "#d8576b"
            ],
            [
             0.6666666666666666,
             "#ed7953"
            ],
            [
             0.7777777777777778,
             "#fb9f3a"
            ],
            [
             0.8888888888888888,
             "#fdca26"
            ],
            [
             1,
             "#f0f921"
            ]
           ],
           "sequentialminus": [
            [
             0,
             "#0d0887"
            ],
            [
             0.1111111111111111,
             "#46039f"
            ],
            [
             0.2222222222222222,
             "#7201a8"
            ],
            [
             0.3333333333333333,
             "#9c179e"
            ],
            [
             0.4444444444444444,
             "#bd3786"
            ],
            [
             0.5555555555555556,
             "#d8576b"
            ],
            [
             0.6666666666666666,
             "#ed7953"
            ],
            [
             0.7777777777777778,
             "#fb9f3a"
            ],
            [
             0.8888888888888888,
             "#fdca26"
            ],
            [
             1,
             "#f0f921"
            ]
           ]
          },
          "colorway": [
           "#636efa",
           "#EF553B",
           "#00cc96",
           "#ab63fa",
           "#FFA15A",
           "#19d3f3",
           "#FF6692",
           "#B6E880",
           "#FF97FF",
           "#FECB52"
          ],
          "font": {
           "color": "#2a3f5f"
          },
          "geo": {
           "bgcolor": "white",
           "lakecolor": "white",
           "landcolor": "#E5ECF6",
           "showlakes": true,
           "showland": true,
           "subunitcolor": "white"
          },
          "hoverlabel": {
           "align": "left"
          },
          "hovermode": "closest",
          "mapbox": {
           "style": "light"
          },
          "paper_bgcolor": "white",
          "plot_bgcolor": "#E5ECF6",
          "polar": {
           "angularaxis": {
            "gridcolor": "white",
            "linecolor": "white",
            "ticks": ""
           },
           "bgcolor": "#E5ECF6",
           "radialaxis": {
            "gridcolor": "white",
            "linecolor": "white",
            "ticks": ""
           }
          },
          "scene": {
           "xaxis": {
            "backgroundcolor": "#E5ECF6",
            "gridcolor": "white",
            "gridwidth": 2,
            "linecolor": "white",
            "showbackground": true,
            "ticks": "",
            "zerolinecolor": "white"
           },
           "yaxis": {
            "backgroundcolor": "#E5ECF6",
            "gridcolor": "white",
            "gridwidth": 2,
            "linecolor": "white",
            "showbackground": true,
            "ticks": "",
            "zerolinecolor": "white"
           },
           "zaxis": {
            "backgroundcolor": "#E5ECF6",
            "gridcolor": "white",
            "gridwidth": 2,
            "linecolor": "white",
            "showbackground": true,
            "ticks": "",
            "zerolinecolor": "white"
           }
          },
          "shapedefaults": {
           "line": {
            "color": "#2a3f5f"
           }
          },
          "ternary": {
           "aaxis": {
            "gridcolor": "white",
            "linecolor": "white",
            "ticks": ""
           },
           "baxis": {
            "gridcolor": "white",
            "linecolor": "white",
            "ticks": ""
           },
           "bgcolor": "#E5ECF6",
           "caxis": {
            "gridcolor": "white",
            "linecolor": "white",
            "ticks": ""
           }
          },
          "title": {
           "x": 0.05
          },
          "xaxis": {
           "automargin": true,
           "gridcolor": "white",
           "linecolor": "white",
           "ticks": "",
           "title": {
            "standoff": 15
           },
           "zerolinecolor": "white",
           "zerolinewidth": 2
          },
          "yaxis": {
           "automargin": true,
           "gridcolor": "white",
           "linecolor": "white",
           "ticks": "",
           "title": {
            "standoff": 15
           },
           "zerolinecolor": "white",
           "zerolinewidth": 2
          }
         }
        },
        "xaxis": {
         "anchor": "y",
         "domain": [
          0,
          1
         ],
         "title": {
          "text": "Step"
         }
        },
        "yaxis": {
         "anchor": "x",
         "domain": [
          0,
          1
         ],
         "title": {
          "text": "Shap Value"
         }
        }
       }
      }
     },
     "metadata": {},
     "output_type": "display_data"
    }
   ],
   "source": [
    "df_shapley, pred_explain, internal, timing,df = group_shap_single_exp(base_config,approach='empirical',group= object_group)\n",
    "print(df['action'].unique())\n",
    "#TODO look how to exclude non column\n",
    "df_shapley.drop(columns = 'none',inplace=True)\n",
    "fig =px.line(data_frame=df_shapley.abs(),x= df_shapley.index ,y = df_shapley.columns).update_layout(xaxis_title=\"Step\", yaxis_title=\"Shap Value\")\n",
    "fig.show()"
   ]
  },
  {
   "cell_type": "markdown",
   "metadata": {},
   "source": [
    "### using list of levels"
   ]
  },
  {
   "cell_type": "code",
   "execution_count": 7,
   "metadata": {},
   "outputs": [],
   "source": [
    "def group_shap_lvl_analysis(lvl, base_config,approach='independence', grouping =None):\n",
    "    df_gshap_list, pred_explain_list, internal_list, timing_list, df_list = [],[],[],[],[]\n",
    "    configs =gen_config(lvl=lvl,algo=base_config['algo'],obs_type=base_config['obs_type'],exp_type=base_config['exp_type'],base_path= base_config['base_path'],which_model=base_config['which_model'])\n",
    "    for config in configs:\n",
    "        df_shapley, pred_explain, internal, timing, df = group_shap_single_exp(config=config,approach=approach, group=group)"
   ]
  },
  {
   "cell_type": "code",
   "execution_count": 74,
   "metadata": {},
   "outputs": [
    {
     "name": "stdout",
     "output_type": "stream",
     "text": [
      "     step                            curr_obs    action  reward\n",
      "0       0     [12, 4, 4, 20, 20, 24, 24, 100]  TREASURE    -1.0\n",
      "1       1     [11, 3, 3, 19, 19, 23, 23, 100]  TREASURE    -1.0\n",
      "2       2     [10, 2, 2, 18, 18, 22, 22, 100]  TREASURE    -1.0\n",
      "3       3      [9, 1, 1, 17, 17, 21, 21, 100]  TREASURE     4.0\n",
      "4       4      [8, 0, 0, 16, 16, 20, 20, 100]  TREASURE    -1.0\n",
      "..    ...                                 ...       ...     ...\n",
      "115    19  [1000, 1000, 1000, 5, 5, 5, 5, 95]  TREASURE    -1.0\n",
      "116    20  [1000, 1000, 1000, 6, 6, 4, 4, 95]  TREASURE    -1.0\n",
      "117    21  [1000, 1000, 1000, 5, 5, 3, 3, 95]  TREASURE    -1.0\n",
      "118    22  [1000, 1000, 1000, 4, 4, 2, 2, 95]  TREASURE    -1.0\n",
      "119    23  [1000, 1000, 1000, 3, 3, 1, 1, 95]  TREASURE    19.0\n",
      "\n",
      "[120 rows x 4 columns]\n"
     ]
    }
   ],
   "source": [
    "print(df[['step','curr_obs','action','reward']])"
   ]
  },
  {
   "cell_type": "code",
   "execution_count": 96,
   "metadata": {},
   "outputs": [
    {
     "ename": "KeyboardInterrupt",
     "evalue": "",
     "output_type": "error",
     "traceback": [
      "\u001b[0;31m---------------------------------------------------------------------------\u001b[0m",
      "\u001b[0;31mKeyboardInterrupt\u001b[0m                         Traceback (most recent call last)",
      "Cell \u001b[0;32mIn[96], line 6\u001b[0m\n\u001b[1;32m      2\u001b[0m simp_data[obs_names] \u001b[38;5;241m=\u001b[39msimp_data[obs_names]\u001b[38;5;241m.\u001b[39mreplace(\u001b[38;5;241m1000\u001b[39m,\u001b[38;5;241m-\u001b[39m\u001b[38;5;241m1\u001b[39m)\n\u001b[1;32m      3\u001b[0m \u001b[38;5;66;03m# simp_data[obs_names] =simp_data[obs_names].replace(1000,-1)\u001b[39;00m\n\u001b[1;32m      4\u001b[0m \n\u001b[1;32m      5\u001b[0m \u001b[38;5;66;03m# print(simp_data)\u001b[39;00m\n\u001b[0;32m----> 6\u001b[0m \u001b[43msns\u001b[49m\u001b[38;5;241;43m.\u001b[39;49m\u001b[43mpairplot\u001b[49m\u001b[43m(\u001b[49m\u001b[43msimp_data\u001b[49m\u001b[43m[\u001b[49m\u001b[43m[\u001b[49m\u001b[38;5;124;43m'\u001b[39;49m\u001b[38;5;124;43mDM\u001b[39;49m\u001b[38;5;124;43m'\u001b[39;49m\u001b[43m,\u001b[49m\u001b[43m \u001b[49m\u001b[38;5;124;43m'\u001b[39;49m\u001b[38;5;124;43mDT\u001b[39;49m\u001b[38;5;124;43m'\u001b[39;49m\u001b[43m,\u001b[49m\u001b[43m \u001b[49m\u001b[38;5;124;43m'\u001b[39;49m\u001b[38;5;124;43mSDT\u001b[39;49m\u001b[38;5;124;43m'\u001b[39;49m\u001b[43m,\u001b[49m\u001b[43m \u001b[49m\u001b[38;5;124;43m'\u001b[39;49m\u001b[38;5;124;43mDP\u001b[39;49m\u001b[38;5;124;43m'\u001b[39;49m\u001b[43m,\u001b[49m\u001b[43m \u001b[49m\u001b[38;5;124;43m'\u001b[39;49m\u001b[38;5;124;43mSDP\u001b[39;49m\u001b[38;5;124;43m'\u001b[39;49m\u001b[43m,\u001b[49m\u001b[43m \u001b[49m\u001b[38;5;124;43m'\u001b[39;49m\u001b[38;5;124;43mDE\u001b[39;49m\u001b[38;5;124;43m'\u001b[39;49m\u001b[43m,\u001b[49m\u001b[43m \u001b[49m\u001b[38;5;124;43m'\u001b[39;49m\u001b[38;5;124;43mSDE\u001b[39;49m\u001b[38;5;124;43m'\u001b[39;49m\u001b[43m,\u001b[49m\u001b[43m \u001b[49m\u001b[38;5;124;43m'\u001b[39;49m\u001b[38;5;124;43mHP\u001b[39;49m\u001b[38;5;124;43m'\u001b[39;49m\u001b[43m,\u001b[49m\u001b[38;5;124;43m'\u001b[39;49m\u001b[38;5;124;43maction\u001b[39;49m\u001b[38;5;124;43m'\u001b[39;49m\u001b[43m]\u001b[49m\u001b[43m]\u001b[49m\u001b[43m,\u001b[49m\u001b[43mhue\u001b[49m\u001b[38;5;241;43m=\u001b[39;49m\u001b[38;5;124;43m'\u001b[39;49m\u001b[38;5;124;43maction\u001b[39;49m\u001b[38;5;124;43m'\u001b[39;49m\u001b[43m)\u001b[49m\n",
      "File \u001b[0;32m~/anaconda3/envs/groupshap/lib/python3.12/site-packages/seaborn/axisgrid.py:2174\u001b[0m, in \u001b[0;36mpairplot\u001b[0;34m(data, hue, hue_order, palette, vars, x_vars, y_vars, kind, diag_kind, markers, height, aspect, corner, dropna, plot_kws, diag_kws, grid_kws, size)\u001b[0m\n\u001b[1;32m   2171\u001b[0m \u001b[38;5;28;01mif\u001b[39;00m hue \u001b[38;5;129;01mis\u001b[39;00m \u001b[38;5;129;01mnot\u001b[39;00m \u001b[38;5;28;01mNone\u001b[39;00m:\n\u001b[1;32m   2172\u001b[0m     grid\u001b[38;5;241m.\u001b[39madd_legend()\n\u001b[0;32m-> 2174\u001b[0m \u001b[43mgrid\u001b[49m\u001b[38;5;241;43m.\u001b[39;49m\u001b[43mtight_layout\u001b[49m\u001b[43m(\u001b[49m\u001b[43m)\u001b[49m\n\u001b[1;32m   2176\u001b[0m \u001b[38;5;28;01mreturn\u001b[39;00m grid\n",
      "File \u001b[0;32m~/anaconda3/envs/groupshap/lib/python3.12/site-packages/seaborn/axisgrid.py:118\u001b[0m, in \u001b[0;36mGrid.tight_layout\u001b[0;34m(self, *args, **kwargs)\u001b[0m\n\u001b[1;32m    116\u001b[0m \u001b[38;5;28;01mif\u001b[39;00m \u001b[38;5;28mself\u001b[39m\u001b[38;5;241m.\u001b[39m_tight_layout_pad \u001b[38;5;129;01mis\u001b[39;00m \u001b[38;5;129;01mnot\u001b[39;00m \u001b[38;5;28;01mNone\u001b[39;00m:\n\u001b[1;32m    117\u001b[0m     kwargs\u001b[38;5;241m.\u001b[39msetdefault(\u001b[38;5;124m\"\u001b[39m\u001b[38;5;124mpad\u001b[39m\u001b[38;5;124m\"\u001b[39m, \u001b[38;5;28mself\u001b[39m\u001b[38;5;241m.\u001b[39m_tight_layout_pad)\n\u001b[0;32m--> 118\u001b[0m \u001b[38;5;28;43mself\u001b[39;49m\u001b[38;5;241;43m.\u001b[39;49m\u001b[43m_figure\u001b[49m\u001b[38;5;241;43m.\u001b[39;49m\u001b[43mtight_layout\u001b[49m\u001b[43m(\u001b[49m\u001b[38;5;241;43m*\u001b[39;49m\u001b[43margs\u001b[49m\u001b[43m,\u001b[49m\u001b[43m \u001b[49m\u001b[38;5;241;43m*\u001b[39;49m\u001b[38;5;241;43m*\u001b[39;49m\u001b[43mkwargs\u001b[49m\u001b[43m)\u001b[49m\n\u001b[1;32m    119\u001b[0m \u001b[38;5;28;01mreturn\u001b[39;00m \u001b[38;5;28mself\u001b[39m\n",
      "File \u001b[0;32m~/anaconda3/envs/groupshap/lib/python3.12/site-packages/matplotlib/figure.py:3540\u001b[0m, in \u001b[0;36mFigure.tight_layout\u001b[0;34m(self, pad, h_pad, w_pad, rect)\u001b[0m\n\u001b[1;32m   3538\u001b[0m previous_engine \u001b[38;5;241m=\u001b[39m \u001b[38;5;28mself\u001b[39m\u001b[38;5;241m.\u001b[39mget_layout_engine()\n\u001b[1;32m   3539\u001b[0m \u001b[38;5;28mself\u001b[39m\u001b[38;5;241m.\u001b[39mset_layout_engine(engine)\n\u001b[0;32m-> 3540\u001b[0m \u001b[43mengine\u001b[49m\u001b[38;5;241;43m.\u001b[39;49m\u001b[43mexecute\u001b[49m\u001b[43m(\u001b[49m\u001b[38;5;28;43mself\u001b[39;49m\u001b[43m)\u001b[49m\n\u001b[1;32m   3541\u001b[0m \u001b[38;5;28;01mif\u001b[39;00m previous_engine \u001b[38;5;129;01mis\u001b[39;00m \u001b[38;5;129;01mnot\u001b[39;00m \u001b[38;5;28;01mNone\u001b[39;00m \u001b[38;5;129;01mand\u001b[39;00m \u001b[38;5;129;01mnot\u001b[39;00m \u001b[38;5;28misinstance\u001b[39m(\n\u001b[1;32m   3542\u001b[0m     previous_engine, (TightLayoutEngine, PlaceHolderLayoutEngine)\n\u001b[1;32m   3543\u001b[0m ):\n\u001b[1;32m   3544\u001b[0m     _api\u001b[38;5;241m.\u001b[39mwarn_external(\u001b[38;5;124m'\u001b[39m\u001b[38;5;124mThe figure layout has changed to tight\u001b[39m\u001b[38;5;124m'\u001b[39m)\n",
      "File \u001b[0;32m~/anaconda3/envs/groupshap/lib/python3.12/site-packages/matplotlib/layout_engine.py:183\u001b[0m, in \u001b[0;36mTightLayoutEngine.execute\u001b[0;34m(self, fig)\u001b[0m\n\u001b[1;32m    181\u001b[0m renderer \u001b[38;5;241m=\u001b[39m fig\u001b[38;5;241m.\u001b[39m_get_renderer()\n\u001b[1;32m    182\u001b[0m \u001b[38;5;28;01mwith\u001b[39;00m \u001b[38;5;28mgetattr\u001b[39m(renderer, \u001b[38;5;124m\"\u001b[39m\u001b[38;5;124m_draw_disabled\u001b[39m\u001b[38;5;124m\"\u001b[39m, nullcontext)():\n\u001b[0;32m--> 183\u001b[0m     kwargs \u001b[38;5;241m=\u001b[39m \u001b[43mget_tight_layout_figure\u001b[49m\u001b[43m(\u001b[49m\n\u001b[1;32m    184\u001b[0m \u001b[43m        \u001b[49m\u001b[43mfig\u001b[49m\u001b[43m,\u001b[49m\u001b[43m \u001b[49m\u001b[43mfig\u001b[49m\u001b[38;5;241;43m.\u001b[39;49m\u001b[43maxes\u001b[49m\u001b[43m,\u001b[49m\u001b[43m \u001b[49m\u001b[43mget_subplotspec_list\u001b[49m\u001b[43m(\u001b[49m\u001b[43mfig\u001b[49m\u001b[38;5;241;43m.\u001b[39;49m\u001b[43maxes\u001b[49m\u001b[43m)\u001b[49m\u001b[43m,\u001b[49m\u001b[43m \u001b[49m\u001b[43mrenderer\u001b[49m\u001b[43m,\u001b[49m\n\u001b[1;32m    185\u001b[0m \u001b[43m        \u001b[49m\u001b[43mpad\u001b[49m\u001b[38;5;241;43m=\u001b[39;49m\u001b[43minfo\u001b[49m\u001b[43m[\u001b[49m\u001b[38;5;124;43m'\u001b[39;49m\u001b[38;5;124;43mpad\u001b[39;49m\u001b[38;5;124;43m'\u001b[39;49m\u001b[43m]\u001b[49m\u001b[43m,\u001b[49m\u001b[43m \u001b[49m\u001b[43mh_pad\u001b[49m\u001b[38;5;241;43m=\u001b[39;49m\u001b[43minfo\u001b[49m\u001b[43m[\u001b[49m\u001b[38;5;124;43m'\u001b[39;49m\u001b[38;5;124;43mh_pad\u001b[39;49m\u001b[38;5;124;43m'\u001b[39;49m\u001b[43m]\u001b[49m\u001b[43m,\u001b[49m\u001b[43m \u001b[49m\u001b[43mw_pad\u001b[49m\u001b[38;5;241;43m=\u001b[39;49m\u001b[43minfo\u001b[49m\u001b[43m[\u001b[49m\u001b[38;5;124;43m'\u001b[39;49m\u001b[38;5;124;43mw_pad\u001b[39;49m\u001b[38;5;124;43m'\u001b[39;49m\u001b[43m]\u001b[49m\u001b[43m,\u001b[49m\n\u001b[1;32m    186\u001b[0m \u001b[43m        \u001b[49m\u001b[43mrect\u001b[49m\u001b[38;5;241;43m=\u001b[39;49m\u001b[43minfo\u001b[49m\u001b[43m[\u001b[49m\u001b[38;5;124;43m'\u001b[39;49m\u001b[38;5;124;43mrect\u001b[39;49m\u001b[38;5;124;43m'\u001b[39;49m\u001b[43m]\u001b[49m\u001b[43m)\u001b[49m\n\u001b[1;32m    187\u001b[0m \u001b[38;5;28;01mif\u001b[39;00m kwargs:\n\u001b[1;32m    188\u001b[0m     fig\u001b[38;5;241m.\u001b[39msubplots_adjust(\u001b[38;5;241m*\u001b[39m\u001b[38;5;241m*\u001b[39mkwargs)\n",
      "File \u001b[0;32m~/anaconda3/envs/groupshap/lib/python3.12/site-packages/matplotlib/_tight_layout.py:293\u001b[0m, in \u001b[0;36mget_tight_layout_figure\u001b[0;34m(fig, axes_list, subplotspec_list, renderer, pad, h_pad, w_pad, rect)\u001b[0m\n\u001b[1;32m    290\u001b[0m     \u001b[38;5;28;01mif\u001b[39;00m top \u001b[38;5;129;01mis\u001b[39;00m \u001b[38;5;129;01mnot\u001b[39;00m \u001b[38;5;28;01mNone\u001b[39;00m:\n\u001b[1;32m    291\u001b[0m         top \u001b[38;5;241m-\u001b[39m\u001b[38;5;241m=\u001b[39m (\u001b[38;5;241m1\u001b[39m \u001b[38;5;241m-\u001b[39m kwargs[\u001b[38;5;124m\"\u001b[39m\u001b[38;5;124mtop\u001b[39m\u001b[38;5;124m\"\u001b[39m])\n\u001b[0;32m--> 293\u001b[0m     kwargs \u001b[38;5;241m=\u001b[39m \u001b[43m_auto_adjust_subplotpars\u001b[49m\u001b[43m(\u001b[49m\u001b[43mfig\u001b[49m\u001b[43m,\u001b[49m\u001b[43m \u001b[49m\u001b[43mrenderer\u001b[49m\u001b[43m,\u001b[49m\n\u001b[1;32m    294\u001b[0m \u001b[43m                                      \u001b[49m\u001b[43mshape\u001b[49m\u001b[38;5;241;43m=\u001b[39;49m\u001b[43m(\u001b[49m\u001b[43mmax_nrows\u001b[49m\u001b[43m,\u001b[49m\u001b[43m \u001b[49m\u001b[43mmax_ncols\u001b[49m\u001b[43m)\u001b[49m\u001b[43m,\u001b[49m\n\u001b[1;32m    295\u001b[0m \u001b[43m                                      \u001b[49m\u001b[43mspan_pairs\u001b[49m\u001b[38;5;241;43m=\u001b[39;49m\u001b[43mspan_pairs\u001b[49m\u001b[43m,\u001b[49m\n\u001b[1;32m    296\u001b[0m \u001b[43m                                      \u001b[49m\u001b[43msubplot_list\u001b[49m\u001b[38;5;241;43m=\u001b[39;49m\u001b[43msubplot_list\u001b[49m\u001b[43m,\u001b[49m\n\u001b[1;32m    297\u001b[0m \u001b[43m                                      \u001b[49m\u001b[43max_bbox_list\u001b[49m\u001b[38;5;241;43m=\u001b[39;49m\u001b[43max_bbox_list\u001b[49m\u001b[43m,\u001b[49m\n\u001b[1;32m    298\u001b[0m \u001b[43m                                      \u001b[49m\u001b[43mpad\u001b[49m\u001b[38;5;241;43m=\u001b[39;49m\u001b[43mpad\u001b[49m\u001b[43m,\u001b[49m\u001b[43m \u001b[49m\u001b[43mh_pad\u001b[49m\u001b[38;5;241;43m=\u001b[39;49m\u001b[43mh_pad\u001b[49m\u001b[43m,\u001b[49m\u001b[43m \u001b[49m\u001b[43mw_pad\u001b[49m\u001b[38;5;241;43m=\u001b[39;49m\u001b[43mw_pad\u001b[49m\u001b[43m,\u001b[49m\n\u001b[1;32m    299\u001b[0m \u001b[43m                                      \u001b[49m\u001b[43mrect\u001b[49m\u001b[38;5;241;43m=\u001b[39;49m\u001b[43m(\u001b[49m\u001b[43mleft\u001b[49m\u001b[43m,\u001b[49m\u001b[43m \u001b[49m\u001b[43mbottom\u001b[49m\u001b[43m,\u001b[49m\u001b[43m \u001b[49m\u001b[43mright\u001b[49m\u001b[43m,\u001b[49m\u001b[43m \u001b[49m\u001b[43mtop\u001b[49m\u001b[43m)\u001b[49m\u001b[43m)\u001b[49m\n\u001b[1;32m    301\u001b[0m \u001b[38;5;28;01mreturn\u001b[39;00m kwargs\n",
      "File \u001b[0;32m~/anaconda3/envs/groupshap/lib/python3.12/site-packages/matplotlib/_tight_layout.py:82\u001b[0m, in \u001b[0;36m_auto_adjust_subplotpars\u001b[0;34m(fig, renderer, shape, span_pairs, subplot_list, ax_bbox_list, pad, h_pad, w_pad, rect)\u001b[0m\n\u001b[1;32m     80\u001b[0m \u001b[38;5;28;01mfor\u001b[39;00m ax \u001b[38;5;129;01min\u001b[39;00m subplots:\n\u001b[1;32m     81\u001b[0m     \u001b[38;5;28;01mif\u001b[39;00m ax\u001b[38;5;241m.\u001b[39mget_visible():\n\u001b[0;32m---> 82\u001b[0m         bb \u001b[38;5;241m+\u001b[39m\u001b[38;5;241m=\u001b[39m [\u001b[43mmartist\u001b[49m\u001b[38;5;241;43m.\u001b[39;49m\u001b[43m_get_tightbbox_for_layout_only\u001b[49m\u001b[43m(\u001b[49m\u001b[43max\u001b[49m\u001b[43m,\u001b[49m\u001b[43m \u001b[49m\u001b[43mrenderer\u001b[49m\u001b[43m)\u001b[49m]\n\u001b[1;32m     84\u001b[0m tight_bbox_raw \u001b[38;5;241m=\u001b[39m Bbox\u001b[38;5;241m.\u001b[39munion(bb)\n\u001b[1;32m     85\u001b[0m tight_bbox \u001b[38;5;241m=\u001b[39m fig\u001b[38;5;241m.\u001b[39mtransFigure\u001b[38;5;241m.\u001b[39minverted()\u001b[38;5;241m.\u001b[39mtransform_bbox(tight_bbox_raw)\n",
      "File \u001b[0;32m~/anaconda3/envs/groupshap/lib/python3.12/site-packages/matplotlib/artist.py:1411\u001b[0m, in \u001b[0;36m_get_tightbbox_for_layout_only\u001b[0;34m(obj, *args, **kwargs)\u001b[0m\n\u001b[1;32m   1405\u001b[0m \u001b[38;5;250m\u001b[39m\u001b[38;5;124;03m\"\"\"\u001b[39;00m\n\u001b[1;32m   1406\u001b[0m \u001b[38;5;124;03mMatplotlib's `.Axes.get_tightbbox` and `.Axis.get_tightbbox` support a\u001b[39;00m\n\u001b[1;32m   1407\u001b[0m \u001b[38;5;124;03m*for_layout_only* kwarg; this helper tries to use the kwarg but skips it\u001b[39;00m\n\u001b[1;32m   1408\u001b[0m \u001b[38;5;124;03mwhen encountering third-party subclasses that do not support it.\u001b[39;00m\n\u001b[1;32m   1409\u001b[0m \u001b[38;5;124;03m\"\"\"\u001b[39;00m\n\u001b[1;32m   1410\u001b[0m \u001b[38;5;28;01mtry\u001b[39;00m:\n\u001b[0;32m-> 1411\u001b[0m     \u001b[38;5;28;01mreturn\u001b[39;00m \u001b[43mobj\u001b[49m\u001b[38;5;241;43m.\u001b[39;49m\u001b[43mget_tightbbox\u001b[49m\u001b[43m(\u001b[49m\u001b[38;5;241;43m*\u001b[39;49m\u001b[43margs\u001b[49m\u001b[43m,\u001b[49m\u001b[43m \u001b[49m\u001b[38;5;241;43m*\u001b[39;49m\u001b[38;5;241;43m*\u001b[39;49m\u001b[43m{\u001b[49m\u001b[38;5;241;43m*\u001b[39;49m\u001b[38;5;241;43m*\u001b[39;49m\u001b[43mkwargs\u001b[49m\u001b[43m,\u001b[49m\u001b[43m \u001b[49m\u001b[38;5;124;43m\"\u001b[39;49m\u001b[38;5;124;43mfor_layout_only\u001b[39;49m\u001b[38;5;124;43m\"\u001b[39;49m\u001b[43m:\u001b[49m\u001b[43m \u001b[49m\u001b[38;5;28;43;01mTrue\u001b[39;49;00m\u001b[43m}\u001b[49m\u001b[43m)\u001b[49m\n\u001b[1;32m   1412\u001b[0m \u001b[38;5;28;01mexcept\u001b[39;00m \u001b[38;5;167;01mTypeError\u001b[39;00m:\n\u001b[1;32m   1413\u001b[0m     \u001b[38;5;28;01mreturn\u001b[39;00m obj\u001b[38;5;241m.\u001b[39mget_tightbbox(\u001b[38;5;241m*\u001b[39margs, \u001b[38;5;241m*\u001b[39m\u001b[38;5;241m*\u001b[39mkwargs)\n",
      "File \u001b[0;32m~/anaconda3/envs/groupshap/lib/python3.12/site-packages/matplotlib/_api/deprecation.py:454\u001b[0m, in \u001b[0;36mmake_keyword_only.<locals>.wrapper\u001b[0;34m(*args, **kwargs)\u001b[0m\n\u001b[1;32m    448\u001b[0m \u001b[38;5;28;01mif\u001b[39;00m \u001b[38;5;28mlen\u001b[39m(args) \u001b[38;5;241m>\u001b[39m name_idx:\n\u001b[1;32m    449\u001b[0m     warn_deprecated(\n\u001b[1;32m    450\u001b[0m         since, message\u001b[38;5;241m=\u001b[39m\u001b[38;5;124m\"\u001b[39m\u001b[38;5;124mPassing the \u001b[39m\u001b[38;5;132;01m%(name)s\u001b[39;00m\u001b[38;5;124m \u001b[39m\u001b[38;5;132;01m%(obj_type)s\u001b[39;00m\u001b[38;5;124m \u001b[39m\u001b[38;5;124m\"\u001b[39m\n\u001b[1;32m    451\u001b[0m         \u001b[38;5;124m\"\u001b[39m\u001b[38;5;124mpositionally is deprecated since Matplotlib \u001b[39m\u001b[38;5;132;01m%(since)s\u001b[39;00m\u001b[38;5;124m; the \u001b[39m\u001b[38;5;124m\"\u001b[39m\n\u001b[1;32m    452\u001b[0m         \u001b[38;5;124m\"\u001b[39m\u001b[38;5;124mparameter will become keyword-only \u001b[39m\u001b[38;5;132;01m%(removal)s\u001b[39;00m\u001b[38;5;124m.\u001b[39m\u001b[38;5;124m\"\u001b[39m,\n\u001b[1;32m    453\u001b[0m         name\u001b[38;5;241m=\u001b[39mname, obj_type\u001b[38;5;241m=\u001b[39m\u001b[38;5;124mf\u001b[39m\u001b[38;5;124m\"\u001b[39m\u001b[38;5;124mparameter of \u001b[39m\u001b[38;5;132;01m{\u001b[39;00mfunc\u001b[38;5;241m.\u001b[39m\u001b[38;5;18m__name__\u001b[39m\u001b[38;5;132;01m}\u001b[39;00m\u001b[38;5;124m()\u001b[39m\u001b[38;5;124m\"\u001b[39m)\n\u001b[0;32m--> 454\u001b[0m \u001b[38;5;28;01mreturn\u001b[39;00m \u001b[43mfunc\u001b[49m\u001b[43m(\u001b[49m\u001b[38;5;241;43m*\u001b[39;49m\u001b[43margs\u001b[49m\u001b[43m,\u001b[49m\u001b[43m \u001b[49m\u001b[38;5;241;43m*\u001b[39;49m\u001b[38;5;241;43m*\u001b[39;49m\u001b[43mkwargs\u001b[49m\u001b[43m)\u001b[49m\n",
      "File \u001b[0;32m~/anaconda3/envs/groupshap/lib/python3.12/site-packages/matplotlib/axes/_base.py:4395\u001b[0m, in \u001b[0;36m_AxesBase.get_tightbbox\u001b[0;34m(self, renderer, call_axes_locator, bbox_extra_artists, for_layout_only)\u001b[0m\n\u001b[1;32m   4393\u001b[0m \u001b[38;5;28;01mfor\u001b[39;00m axis \u001b[38;5;129;01min\u001b[39;00m \u001b[38;5;28mself\u001b[39m\u001b[38;5;241m.\u001b[39m_axis_map\u001b[38;5;241m.\u001b[39mvalues():\n\u001b[1;32m   4394\u001b[0m     \u001b[38;5;28;01mif\u001b[39;00m \u001b[38;5;28mself\u001b[39m\u001b[38;5;241m.\u001b[39maxison \u001b[38;5;129;01mand\u001b[39;00m axis\u001b[38;5;241m.\u001b[39mget_visible():\n\u001b[0;32m-> 4395\u001b[0m         ba \u001b[38;5;241m=\u001b[39m \u001b[43mmartist\u001b[49m\u001b[38;5;241;43m.\u001b[39;49m\u001b[43m_get_tightbbox_for_layout_only\u001b[49m\u001b[43m(\u001b[49m\u001b[43maxis\u001b[49m\u001b[43m,\u001b[49m\u001b[43m \u001b[49m\u001b[43mrenderer\u001b[49m\u001b[43m)\u001b[49m\n\u001b[1;32m   4396\u001b[0m         \u001b[38;5;28;01mif\u001b[39;00m ba:\n\u001b[1;32m   4397\u001b[0m             bb\u001b[38;5;241m.\u001b[39mappend(ba)\n",
      "File \u001b[0;32m~/anaconda3/envs/groupshap/lib/python3.12/site-packages/matplotlib/artist.py:1411\u001b[0m, in \u001b[0;36m_get_tightbbox_for_layout_only\u001b[0;34m(obj, *args, **kwargs)\u001b[0m\n\u001b[1;32m   1405\u001b[0m \u001b[38;5;250m\u001b[39m\u001b[38;5;124;03m\"\"\"\u001b[39;00m\n\u001b[1;32m   1406\u001b[0m \u001b[38;5;124;03mMatplotlib's `.Axes.get_tightbbox` and `.Axis.get_tightbbox` support a\u001b[39;00m\n\u001b[1;32m   1407\u001b[0m \u001b[38;5;124;03m*for_layout_only* kwarg; this helper tries to use the kwarg but skips it\u001b[39;00m\n\u001b[1;32m   1408\u001b[0m \u001b[38;5;124;03mwhen encountering third-party subclasses that do not support it.\u001b[39;00m\n\u001b[1;32m   1409\u001b[0m \u001b[38;5;124;03m\"\"\"\u001b[39;00m\n\u001b[1;32m   1410\u001b[0m \u001b[38;5;28;01mtry\u001b[39;00m:\n\u001b[0;32m-> 1411\u001b[0m     \u001b[38;5;28;01mreturn\u001b[39;00m \u001b[43mobj\u001b[49m\u001b[38;5;241;43m.\u001b[39;49m\u001b[43mget_tightbbox\u001b[49m\u001b[43m(\u001b[49m\u001b[38;5;241;43m*\u001b[39;49m\u001b[43margs\u001b[49m\u001b[43m,\u001b[49m\u001b[43m \u001b[49m\u001b[38;5;241;43m*\u001b[39;49m\u001b[38;5;241;43m*\u001b[39;49m\u001b[43m{\u001b[49m\u001b[38;5;241;43m*\u001b[39;49m\u001b[38;5;241;43m*\u001b[39;49m\u001b[43mkwargs\u001b[49m\u001b[43m,\u001b[49m\u001b[43m \u001b[49m\u001b[38;5;124;43m\"\u001b[39;49m\u001b[38;5;124;43mfor_layout_only\u001b[39;49m\u001b[38;5;124;43m\"\u001b[39;49m\u001b[43m:\u001b[49m\u001b[43m \u001b[49m\u001b[38;5;28;43;01mTrue\u001b[39;49;00m\u001b[43m}\u001b[49m\u001b[43m)\u001b[49m\n\u001b[1;32m   1412\u001b[0m \u001b[38;5;28;01mexcept\u001b[39;00m \u001b[38;5;167;01mTypeError\u001b[39;00m:\n\u001b[1;32m   1413\u001b[0m     \u001b[38;5;28;01mreturn\u001b[39;00m obj\u001b[38;5;241m.\u001b[39mget_tightbbox(\u001b[38;5;241m*\u001b[39margs, \u001b[38;5;241m*\u001b[39m\u001b[38;5;241m*\u001b[39mkwargs)\n",
      "File \u001b[0;32m~/anaconda3/envs/groupshap/lib/python3.12/site-packages/matplotlib/axis.py:1336\u001b[0m, in \u001b[0;36mAxis.get_tightbbox\u001b[0;34m(self, renderer, for_layout_only)\u001b[0m\n\u001b[1;32m   1333\u001b[0m     renderer \u001b[38;5;241m=\u001b[39m \u001b[38;5;28mself\u001b[39m\u001b[38;5;241m.\u001b[39mfigure\u001b[38;5;241m.\u001b[39m_get_renderer()\n\u001b[1;32m   1334\u001b[0m ticks_to_draw \u001b[38;5;241m=\u001b[39m \u001b[38;5;28mself\u001b[39m\u001b[38;5;241m.\u001b[39m_update_ticks()\n\u001b[0;32m-> 1336\u001b[0m \u001b[38;5;28;43mself\u001b[39;49m\u001b[38;5;241;43m.\u001b[39;49m\u001b[43m_update_label_position\u001b[49m\u001b[43m(\u001b[49m\u001b[43mrenderer\u001b[49m\u001b[43m)\u001b[49m\n\u001b[1;32m   1338\u001b[0m \u001b[38;5;66;03m# go back to just this axis's tick labels\u001b[39;00m\n\u001b[1;32m   1339\u001b[0m tlb1, tlb2 \u001b[38;5;241m=\u001b[39m \u001b[38;5;28mself\u001b[39m\u001b[38;5;241m.\u001b[39m_get_ticklabel_bboxes(ticks_to_draw, renderer)\n",
      "File \u001b[0;32m~/anaconda3/envs/groupshap/lib/python3.12/site-packages/matplotlib/axis.py:2609\u001b[0m, in \u001b[0;36mYAxis._update_label_position\u001b[0;34m(self, renderer)\u001b[0m\n\u001b[1;32m   2605\u001b[0m     \u001b[38;5;28;01mreturn\u001b[39;00m\n\u001b[1;32m   2607\u001b[0m \u001b[38;5;66;03m# get bounding boxes for this axis and any siblings\u001b[39;00m\n\u001b[1;32m   2608\u001b[0m \u001b[38;5;66;03m# that have been set by `fig.align_ylabels()`\u001b[39;00m\n\u001b[0;32m-> 2609\u001b[0m bboxes, bboxes2 \u001b[38;5;241m=\u001b[39m \u001b[38;5;28;43mself\u001b[39;49m\u001b[38;5;241;43m.\u001b[39;49m\u001b[43m_get_tick_boxes_siblings\u001b[49m\u001b[43m(\u001b[49m\u001b[43mrenderer\u001b[49m\u001b[38;5;241;43m=\u001b[39;49m\u001b[43mrenderer\u001b[49m\u001b[43m)\u001b[49m\n\u001b[1;32m   2610\u001b[0m x, y \u001b[38;5;241m=\u001b[39m \u001b[38;5;28mself\u001b[39m\u001b[38;5;241m.\u001b[39mlabel\u001b[38;5;241m.\u001b[39mget_position()\n\u001b[1;32m   2611\u001b[0m \u001b[38;5;28;01mif\u001b[39;00m \u001b[38;5;28mself\u001b[39m\u001b[38;5;241m.\u001b[39mlabel_position \u001b[38;5;241m==\u001b[39m \u001b[38;5;124m'\u001b[39m\u001b[38;5;124mleft\u001b[39m\u001b[38;5;124m'\u001b[39m:\n",
      "File \u001b[0;32m~/anaconda3/envs/groupshap/lib/python3.12/site-packages/matplotlib/axis.py:2160\u001b[0m, in \u001b[0;36mAxis._get_tick_boxes_siblings\u001b[0;34m(self, renderer)\u001b[0m\n\u001b[1;32m   2158\u001b[0m \u001b[38;5;28;01mfor\u001b[39;00m ax \u001b[38;5;129;01min\u001b[39;00m grouper\u001b[38;5;241m.\u001b[39mget_siblings(\u001b[38;5;28mself\u001b[39m\u001b[38;5;241m.\u001b[39maxes):\n\u001b[1;32m   2159\u001b[0m     axis \u001b[38;5;241m=\u001b[39m ax\u001b[38;5;241m.\u001b[39m_axis_map[name]\n\u001b[0;32m-> 2160\u001b[0m     ticks_to_draw \u001b[38;5;241m=\u001b[39m \u001b[43maxis\u001b[49m\u001b[38;5;241;43m.\u001b[39;49m\u001b[43m_update_ticks\u001b[49m\u001b[43m(\u001b[49m\u001b[43m)\u001b[49m\n\u001b[1;32m   2161\u001b[0m     tlb, tlb2 \u001b[38;5;241m=\u001b[39m axis\u001b[38;5;241m.\u001b[39m_get_ticklabel_bboxes(ticks_to_draw, renderer)\n\u001b[1;32m   2162\u001b[0m     bboxes\u001b[38;5;241m.\u001b[39mextend(tlb)\n",
      "File \u001b[0;32m~/anaconda3/envs/groupshap/lib/python3.12/site-packages/matplotlib/axis.py:1282\u001b[0m, in \u001b[0;36mAxis._update_ticks\u001b[0;34m(self)\u001b[0m\n\u001b[1;32m   1280\u001b[0m     tick\u001b[38;5;241m.\u001b[39mlabel1\u001b[38;5;241m.\u001b[39mset_text(label)\n\u001b[1;32m   1281\u001b[0m     tick\u001b[38;5;241m.\u001b[39mlabel2\u001b[38;5;241m.\u001b[39mset_text(label)\n\u001b[0;32m-> 1282\u001b[0m minor_locs \u001b[38;5;241m=\u001b[39m \u001b[38;5;28;43mself\u001b[39;49m\u001b[38;5;241;43m.\u001b[39;49m\u001b[43mget_minorticklocs\u001b[49m\u001b[43m(\u001b[49m\u001b[43m)\u001b[49m\n\u001b[1;32m   1283\u001b[0m minor_labels \u001b[38;5;241m=\u001b[39m \u001b[38;5;28mself\u001b[39m\u001b[38;5;241m.\u001b[39mminor\u001b[38;5;241m.\u001b[39mformatter\u001b[38;5;241m.\u001b[39mformat_ticks(minor_locs)\n\u001b[1;32m   1284\u001b[0m minor_ticks \u001b[38;5;241m=\u001b[39m \u001b[38;5;28mself\u001b[39m\u001b[38;5;241m.\u001b[39mget_minor_ticks(\u001b[38;5;28mlen\u001b[39m(minor_locs))\n",
      "File \u001b[0;32m~/anaconda3/envs/groupshap/lib/python3.12/site-packages/matplotlib/axis.py:1502\u001b[0m, in \u001b[0;36mAxis.get_minorticklocs\u001b[0;34m(self)\u001b[0m\n\u001b[1;32m   1500\u001b[0m minor_locs \u001b[38;5;241m=\u001b[39m np\u001b[38;5;241m.\u001b[39masarray(\u001b[38;5;28mself\u001b[39m\u001b[38;5;241m.\u001b[39mminor\u001b[38;5;241m.\u001b[39mlocator())\n\u001b[1;32m   1501\u001b[0m \u001b[38;5;28;01mif\u001b[39;00m \u001b[38;5;28mself\u001b[39m\u001b[38;5;241m.\u001b[39mremove_overlapping_locs:\n\u001b[0;32m-> 1502\u001b[0m     major_locs \u001b[38;5;241m=\u001b[39m \u001b[38;5;28;43mself\u001b[39;49m\u001b[38;5;241;43m.\u001b[39;49m\u001b[43mmajor\u001b[49m\u001b[38;5;241;43m.\u001b[39;49m\u001b[43mlocator\u001b[49m\u001b[43m(\u001b[49m\u001b[43m)\u001b[49m\n\u001b[1;32m   1503\u001b[0m     transform \u001b[38;5;241m=\u001b[39m \u001b[38;5;28mself\u001b[39m\u001b[38;5;241m.\u001b[39m_scale\u001b[38;5;241m.\u001b[39mget_transform()\n\u001b[1;32m   1504\u001b[0m     tr_minor_locs \u001b[38;5;241m=\u001b[39m transform\u001b[38;5;241m.\u001b[39mtransform(minor_locs)\n",
      "File \u001b[0;32m~/anaconda3/envs/groupshap/lib/python3.12/site-packages/matplotlib/ticker.py:2142\u001b[0m, in \u001b[0;36mMaxNLocator.__call__\u001b[0;34m(self)\u001b[0m\n\u001b[1;32m   2140\u001b[0m \u001b[38;5;28;01mdef\u001b[39;00m \u001b[38;5;21m__call__\u001b[39m(\u001b[38;5;28mself\u001b[39m):\n\u001b[1;32m   2141\u001b[0m     vmin, vmax \u001b[38;5;241m=\u001b[39m \u001b[38;5;28mself\u001b[39m\u001b[38;5;241m.\u001b[39maxis\u001b[38;5;241m.\u001b[39mget_view_interval()\n\u001b[0;32m-> 2142\u001b[0m     \u001b[38;5;28;01mreturn\u001b[39;00m \u001b[38;5;28;43mself\u001b[39;49m\u001b[38;5;241;43m.\u001b[39;49m\u001b[43mtick_values\u001b[49m\u001b[43m(\u001b[49m\u001b[43mvmin\u001b[49m\u001b[43m,\u001b[49m\u001b[43m \u001b[49m\u001b[43mvmax\u001b[49m\u001b[43m)\u001b[49m\n",
      "File \u001b[0;32m~/anaconda3/envs/groupshap/lib/python3.12/site-packages/matplotlib/ticker.py:2150\u001b[0m, in \u001b[0;36mMaxNLocator.tick_values\u001b[0;34m(self, vmin, vmax)\u001b[0m\n\u001b[1;32m   2147\u001b[0m     vmin \u001b[38;5;241m=\u001b[39m \u001b[38;5;241m-\u001b[39mvmax\n\u001b[1;32m   2148\u001b[0m vmin, vmax \u001b[38;5;241m=\u001b[39m mtransforms\u001b[38;5;241m.\u001b[39mnonsingular(\n\u001b[1;32m   2149\u001b[0m     vmin, vmax, expander\u001b[38;5;241m=\u001b[39m\u001b[38;5;241m1e-13\u001b[39m, tiny\u001b[38;5;241m=\u001b[39m\u001b[38;5;241m1e-14\u001b[39m)\n\u001b[0;32m-> 2150\u001b[0m locs \u001b[38;5;241m=\u001b[39m \u001b[38;5;28;43mself\u001b[39;49m\u001b[38;5;241;43m.\u001b[39;49m\u001b[43m_raw_ticks\u001b[49m\u001b[43m(\u001b[49m\u001b[43mvmin\u001b[49m\u001b[43m,\u001b[49m\u001b[43m \u001b[49m\u001b[43mvmax\u001b[49m\u001b[43m)\u001b[49m\n\u001b[1;32m   2152\u001b[0m prune \u001b[38;5;241m=\u001b[39m \u001b[38;5;28mself\u001b[39m\u001b[38;5;241m.\u001b[39m_prune\n\u001b[1;32m   2153\u001b[0m \u001b[38;5;28;01mif\u001b[39;00m prune \u001b[38;5;241m==\u001b[39m \u001b[38;5;124m'\u001b[39m\u001b[38;5;124mlower\u001b[39m\u001b[38;5;124m'\u001b[39m:\n",
      "File \u001b[0;32m~/anaconda3/envs/groupshap/lib/python3.12/site-packages/matplotlib/ticker.py:2079\u001b[0m, in \u001b[0;36mMaxNLocator._raw_ticks\u001b[0;34m(self, vmin, vmax)\u001b[0m\n\u001b[1;32m   2076\u001b[0m     \u001b[38;5;28;01mif\u001b[39;00m kwargs:\n\u001b[1;32m   2077\u001b[0m         \u001b[38;5;28;01mraise\u001b[39;00m _api\u001b[38;5;241m.\u001b[39mkwarg_error(\u001b[38;5;124m\"\u001b[39m\u001b[38;5;124mset_params\u001b[39m\u001b[38;5;124m\"\u001b[39m, kwargs)\n\u001b[0;32m-> 2079\u001b[0m \u001b[38;5;28;01mdef\u001b[39;00m \u001b[38;5;21m_raw_ticks\u001b[39m(\u001b[38;5;28mself\u001b[39m, vmin, vmax):\n\u001b[1;32m   2080\u001b[0m \u001b[38;5;250m    \u001b[39m\u001b[38;5;124;03m\"\"\"\u001b[39;00m\n\u001b[1;32m   2081\u001b[0m \u001b[38;5;124;03m    Generate a list of tick locations including the range *vmin* to\u001b[39;00m\n\u001b[1;32m   2082\u001b[0m \u001b[38;5;124;03m    *vmax*.  In some applications, one or both of the end locations\u001b[39;00m\n\u001b[1;32m   2083\u001b[0m \u001b[38;5;124;03m    will not be needed, in which case they are trimmed off\u001b[39;00m\n\u001b[1;32m   2084\u001b[0m \u001b[38;5;124;03m    elsewhere.\u001b[39;00m\n\u001b[1;32m   2085\u001b[0m \u001b[38;5;124;03m    \"\"\"\u001b[39;00m\n\u001b[1;32m   2086\u001b[0m     \u001b[38;5;28;01mif\u001b[39;00m \u001b[38;5;28mself\u001b[39m\u001b[38;5;241m.\u001b[39m_nbins \u001b[38;5;241m==\u001b[39m \u001b[38;5;124m'\u001b[39m\u001b[38;5;124mauto\u001b[39m\u001b[38;5;124m'\u001b[39m:\n",
      "\u001b[0;31mKeyboardInterrupt\u001b[0m: "
     ]
    }
   ],
   "source": [
    "obs_names = ['DM', 'DT', 'SDT', 'DP', 'SDP', 'DE', 'SDE', 'HP']\n",
    "simp_data[obs_names] =simp_data[obs_names].replace(1000,-1)\n",
    "# simp_data[obs_names] =simp_data[obs_names].replace(1000,-1)\n",
    "\n",
    "# print(simp_data)\n",
    "sns.pairplot(simp_data[['DM', 'DT', 'SDT', 'DP', 'SDP', 'DE', 'SDE', 'HP','action']],hue='action')"
   ]
  },
  {
   "cell_type": "code",
   "execution_count": 5,
   "metadata": {},
   "outputs": [
    {
     "name": "stdout",
     "output_type": "stream",
     "text": [
      "switch\n",
      "[ 0.7375278 -1.5325549 -1.4994874  2.3702395]\n"
     ]
    },
    {
     "ename": "NotImplementedError",
     "evalue": "Conversion 'py2rpy' not defined for objects of type '<class 'numpy.ndarray'>'",
     "output_type": "error",
     "traceback": [
      "\u001b[0;31m---------------------------------------------------------------------------\u001b[0m",
      "\u001b[0;31mNotImplementedError\u001b[0m                       Traceback (most recent call last)",
      "Cell \u001b[0;32mIn[5], line 1\u001b[0m\n\u001b[0;32m----> 1\u001b[0m \u001b[43mgen_groupshap_data\u001b[49m\u001b[43m(\u001b[49m\u001b[43mlvl_list\u001b[49m\u001b[43m,\u001b[49m\u001b[43mdf_data\u001b[49m\u001b[43m,\u001b[49m\u001b[38;5;124;43m\"\u001b[39;49m\u001b[38;5;124;43mkernel\u001b[39;49m\u001b[38;5;124;43m\"\u001b[39;49m\u001b[43m)\u001b[49m\n",
      "Cell \u001b[0;32mIn[3], line 168\u001b[0m, in \u001b[0;36mgen_groupshap_data\u001b[0;34m(lvl_list, df, explainer_type)\u001b[0m\n\u001b[1;32m    166\u001b[0m \u001b[38;5;28mprint\u001b[39m(dfy_train\u001b[38;5;241m.\u001b[39mmean())\n\u001b[1;32m    167\u001b[0m \u001b[38;5;28;01mif\u001b[39;00m explainer_type \u001b[38;5;241m==\u001b[39m \u001b[38;5;124m\"\u001b[39m\u001b[38;5;124mkernel\u001b[39m\u001b[38;5;124m\"\u001b[39m:\n\u001b[0;32m--> 168\u001b[0m     df_shapley, pred_explain, internal, timing \u001b[38;5;241m=\u001b[39m \u001b[43mexplain\u001b[49m\u001b[43m(\u001b[49m\n\u001b[1;32m    169\u001b[0m \u001b[43m        \u001b[49m\u001b[43mmodel\u001b[49m\u001b[38;5;241;43m=\u001b[39;49m\u001b[43mmodel\u001b[49m\u001b[43m,\u001b[49m\n\u001b[1;32m    170\u001b[0m \u001b[43m        \u001b[49m\u001b[43mx_train\u001b[49m\u001b[38;5;241;43m=\u001b[39;49m\u001b[43mdf_train\u001b[49m\u001b[43m,\u001b[49m\n\u001b[1;32m    171\u001b[0m \u001b[43m        \u001b[49m\u001b[43mx_explain\u001b[49m\u001b[38;5;241;43m=\u001b[39;49m\u001b[43mdf_train\u001b[49m\u001b[43m,\u001b[49m\n\u001b[1;32m    172\u001b[0m \u001b[43m        \u001b[49m\u001b[43mapproach\u001b[49m\u001b[38;5;241;43m=\u001b[39;49m\u001b[38;5;124;43m'\u001b[39;49m\u001b[38;5;124;43memperical\u001b[39;49m\u001b[38;5;124;43m'\u001b[39;49m\u001b[43m,\u001b[49m\n\u001b[1;32m    173\u001b[0m \u001b[43m        \u001b[49m\u001b[43mpredict_model\u001b[49m\u001b[38;5;241;43m=\u001b[39;49m\u001b[43m \u001b[49m\u001b[38;5;28;43;01mlambda\u001b[39;49;00m\u001b[43m \u001b[49m\u001b[43mx\u001b[49m\u001b[43m:\u001b[49m\u001b[43m \u001b[49m\u001b[43mmodel\u001b[49m\u001b[38;5;241;43m.\u001b[39;49m\u001b[43mforward\u001b[49m\u001b[43m(\u001b[49m\u001b[43mVariable\u001b[49m\u001b[43m(\u001b[49m\u001b[43mtorch\u001b[49m\u001b[38;5;241;43m.\u001b[39;49m\u001b[43mfrom_numpy\u001b[49m\u001b[43m(\u001b[49m\u001b[43mx\u001b[49m\u001b[38;5;241;43m.\u001b[39;49m\u001b[43mvalues\u001b[49m\u001b[43m)\u001b[49m\u001b[43m,\u001b[49m\u001b[43mrequires_grad\u001b[49m\u001b[38;5;241;43m=\u001b[39;49m\u001b[38;5;28;43;01mFalse\u001b[39;49;00m\u001b[43m)\u001b[49m\u001b[38;5;241;43m.\u001b[39;49m\u001b[43mto\u001b[49m\u001b[43m(\u001b[49m\u001b[43mfloat32\u001b[49m\u001b[43m)\u001b[49m\u001b[43m)\u001b[49m\u001b[38;5;241;43m.\u001b[39;49m\u001b[43mdetach\u001b[49m\u001b[43m(\u001b[49m\u001b[43m)\u001b[49m\u001b[38;5;241;43m.\u001b[39;49m\u001b[43mcpu\u001b[49m\u001b[43m(\u001b[49m\u001b[43m)\u001b[49m\u001b[38;5;241;43m.\u001b[39;49m\u001b[43mnumpy\u001b[49m\u001b[43m(\u001b[49m\u001b[43m)\u001b[49m\u001b[43m,\u001b[49m\n\u001b[1;32m    174\u001b[0m \u001b[43m        \u001b[49m\u001b[43mprediction_zero\u001b[49m\u001b[38;5;241;43m=\u001b[39;49m\u001b[43mdfy_train\u001b[49m\u001b[38;5;241;43m.\u001b[39;49m\u001b[43mmean\u001b[49m\u001b[43m(\u001b[49m\u001b[43m)\u001b[49m\u001b[43m,\u001b[49m\n\u001b[1;32m    175\u001b[0m \u001b[43m        \u001b[49m\u001b[43moutput_size\u001b[49m\u001b[38;5;241;43m=\u001b[39;49m\u001b[38;5;241;43m4\u001b[39;49m\n\u001b[1;32m    176\u001b[0m \u001b[43m    \u001b[49m\u001b[43m)\u001b[49m\n\u001b[1;32m    177\u001b[0m     f \u001b[38;5;241m=\u001b[39m \u001b[38;5;28;01mlambda\u001b[39;00m x: model\u001b[38;5;241m.\u001b[39mforward(Variable(torch\u001b[38;5;241m.\u001b[39mfrom_numpy(x),requires_grad\u001b[38;5;241m=\u001b[39m\u001b[38;5;28;01mFalse\u001b[39;00m)\u001b[38;5;241m.\u001b[39mto(float32)\u001b[38;5;241m.\u001b[39mcuda())\u001b[38;5;241m.\u001b[39mdetach()\u001b[38;5;241m.\u001b[39mcpu()\u001b[38;5;241m.\u001b[39mnumpy()\n\u001b[1;32m    178\u001b[0m \u001b[38;5;28;01melse\u001b[39;00m:\n",
      "File \u001b[0;32m~/Masters/gym-md/shapr/python/shaprpy/explain.py:119\u001b[0m, in \u001b[0;36mexplain\u001b[0;34m(model, x_explain, x_train, approach, prediction_zero, n_combinations, group, n_samples, n_batches, seed, keep_samp_for_vS, predict_model, get_model_specs, timing, output_size)\u001b[0m\n\u001b[1;32m    116\u001b[0m \u001b[38;5;28;01melse\u001b[39;00m:\n\u001b[1;32m    117\u001b[0m   r_group \u001b[38;5;241m=\u001b[39m ListVector({key: StrVector(value) \u001b[38;5;28;01mfor\u001b[39;00m key, value \u001b[38;5;129;01min\u001b[39;00m group\u001b[38;5;241m.\u001b[39mitems()})\n\u001b[0;32m--> 119\u001b[0m rinternal \u001b[38;5;241m=\u001b[39m \u001b[43mshapr\u001b[49m\u001b[38;5;241;43m.\u001b[39;49m\u001b[43msetup\u001b[49m\u001b[43m(\u001b[49m\n\u001b[1;32m    120\u001b[0m \u001b[43m    \u001b[49m\u001b[43mx_train\u001b[49m\u001b[43m \u001b[49m\u001b[38;5;241;43m=\u001b[39;49m\u001b[43m \u001b[49m\u001b[43mpy2r\u001b[49m\u001b[43m(\u001b[49m\u001b[43mx_train\u001b[49m\u001b[43m)\u001b[49m\u001b[43m,\u001b[49m\n\u001b[1;32m    121\u001b[0m \u001b[43m    \u001b[49m\u001b[43mx_explain\u001b[49m\u001b[43m \u001b[49m\u001b[38;5;241;43m=\u001b[39;49m\u001b[43m \u001b[49m\u001b[43mpy2r\u001b[49m\u001b[43m(\u001b[49m\u001b[43mx_explain\u001b[49m\u001b[43m)\u001b[49m\u001b[43m,\u001b[49m\n\u001b[1;32m    122\u001b[0m \u001b[43m    \u001b[49m\u001b[43mapproach\u001b[49m\u001b[43m \u001b[49m\u001b[38;5;241;43m=\u001b[39;49m\u001b[43m \u001b[49m\u001b[43mapproach\u001b[49m\u001b[43m,\u001b[49m\n\u001b[1;32m    123\u001b[0m \u001b[43m    \u001b[49m\u001b[43mprediction_zero\u001b[49m\u001b[43m \u001b[49m\u001b[38;5;241;43m=\u001b[39;49m\u001b[43m \u001b[49m\u001b[43mprediction_zero\u001b[49m\u001b[43m,\u001b[49m\n\u001b[1;32m    124\u001b[0m \u001b[43m    \u001b[49m\u001b[43mn_combinations\u001b[49m\u001b[43m \u001b[49m\u001b[38;5;241;43m=\u001b[39;49m\u001b[43m \u001b[49m\u001b[43mmaybe_null\u001b[49m\u001b[43m(\u001b[49m\u001b[43mn_combinations\u001b[49m\u001b[43m)\u001b[49m\u001b[43m,\u001b[49m\n\u001b[1;32m    125\u001b[0m \u001b[43m    \u001b[49m\u001b[43mgroup\u001b[49m\u001b[43m \u001b[49m\u001b[38;5;241;43m=\u001b[39;49m\u001b[43m \u001b[49m\u001b[43mr_group\u001b[49m\u001b[43m,\u001b[49m\n\u001b[1;32m    126\u001b[0m \u001b[43m    \u001b[49m\u001b[43mn_samples\u001b[49m\u001b[43m \u001b[49m\u001b[38;5;241;43m=\u001b[39;49m\u001b[43m \u001b[49m\u001b[43mn_samples\u001b[49m\u001b[43m,\u001b[49m\n\u001b[1;32m    127\u001b[0m \u001b[43m    \u001b[49m\u001b[43mn_batches\u001b[49m\u001b[43m \u001b[49m\u001b[38;5;241;43m=\u001b[39;49m\u001b[43m \u001b[49m\u001b[43mmaybe_null\u001b[49m\u001b[43m(\u001b[49m\u001b[43mn_batches\u001b[49m\u001b[43m)\u001b[49m\u001b[43m,\u001b[49m\n\u001b[1;32m    128\u001b[0m \u001b[43m    \u001b[49m\u001b[43mseed\u001b[49m\u001b[43m \u001b[49m\u001b[38;5;241;43m=\u001b[39;49m\u001b[43m \u001b[49m\u001b[43mseed\u001b[49m\u001b[43m,\u001b[49m\n\u001b[1;32m    129\u001b[0m \u001b[43m    \u001b[49m\u001b[43mkeep_samp_for_vS\u001b[49m\u001b[43m \u001b[49m\u001b[38;5;241;43m=\u001b[39;49m\u001b[43m \u001b[49m\u001b[43mkeep_samp_for_vS\u001b[49m\u001b[43m,\u001b[49m\n\u001b[1;32m    130\u001b[0m \u001b[43m    \u001b[49m\u001b[43mfeature_specs\u001b[49m\u001b[43m \u001b[49m\u001b[38;5;241;43m=\u001b[39;49m\u001b[43m \u001b[49m\u001b[43mrfeature_specs\u001b[49m\u001b[43m,\u001b[49m\n\u001b[1;32m    131\u001b[0m \u001b[43m    \u001b[49m\u001b[43mtiming\u001b[49m\u001b[43m \u001b[49m\u001b[38;5;241;43m=\u001b[39;49m\u001b[43m \u001b[49m\u001b[43mtiming\u001b[49m\u001b[43m,\u001b[49m\n\u001b[1;32m    132\u001b[0m \u001b[43m    \u001b[49m\u001b[43mis_python\u001b[49m\u001b[38;5;241;43m=\u001b[39;49m\u001b[38;5;28;43;01mTrue\u001b[39;49;00m\u001b[43m,\u001b[49m\n\u001b[1;32m    133\u001b[0m \u001b[43m    \u001b[49m\u001b[43mverbose\u001b[49m\u001b[43m \u001b[49m\u001b[38;5;241;43m=\u001b[39;49m\u001b[43m \u001b[49m\u001b[38;5;241;43m0\u001b[39;49m\u001b[43m,\u001b[49m\n\u001b[1;32m    134\u001b[0m \u001b[43m    \u001b[49m\u001b[43moutput_size\u001b[49m\u001b[38;5;241;43m=\u001b[39;49m\u001b[43moutput_size\u001b[49m\n\u001b[1;32m    135\u001b[0m \u001b[43m\u001b[49m\u001b[43m)\u001b[49m\n\u001b[1;32m    137\u001b[0m timing_list[\u001b[38;5;124m\"\u001b[39m\u001b[38;5;124msetup\u001b[39m\u001b[38;5;124m\"\u001b[39m] \u001b[38;5;241m=\u001b[39m datetime\u001b[38;5;241m.\u001b[39mnow()\n\u001b[1;32m    139\u001b[0m predict_model \u001b[38;5;241m=\u001b[39m get_predict_model(\n\u001b[1;32m    140\u001b[0m   x_test \u001b[38;5;241m=\u001b[39m x_train\u001b[38;5;241m.\u001b[39mhead(\u001b[38;5;241m2\u001b[39m),\n\u001b[1;32m    141\u001b[0m   predict_model \u001b[38;5;241m=\u001b[39m predict_model,\n\u001b[1;32m    142\u001b[0m   model \u001b[38;5;241m=\u001b[39m model,\n\u001b[1;32m    143\u001b[0m )\n",
      "File \u001b[0;32m~/anaconda3/envs/groupshap/lib/python3.12/site-packages/rpy2/robjects/functions.py:208\u001b[0m, in \u001b[0;36mSignatureTranslatedFunction.__call__\u001b[0;34m(self, *args, **kwargs)\u001b[0m\n\u001b[1;32m    206\u001b[0m         v \u001b[38;5;241m=\u001b[39m kwargs\u001b[38;5;241m.\u001b[39mpop(k)\n\u001b[1;32m    207\u001b[0m         kwargs[r_k] \u001b[38;5;241m=\u001b[39m v\n\u001b[0;32m--> 208\u001b[0m \u001b[38;5;28;01mreturn\u001b[39;00m (\u001b[38;5;28;43msuper\u001b[39;49m\u001b[43m(\u001b[49m\u001b[43mSignatureTranslatedFunction\u001b[49m\u001b[43m,\u001b[49m\u001b[43m \u001b[49m\u001b[38;5;28;43mself\u001b[39;49m\u001b[43m)\u001b[49m\n\u001b[1;32m    209\u001b[0m \u001b[43m        \u001b[49m\u001b[38;5;241;43m.\u001b[39;49m\u001b[38;5;21;43m__call__\u001b[39;49m\u001b[43m(\u001b[49m\u001b[38;5;241;43m*\u001b[39;49m\u001b[43margs\u001b[49m\u001b[43m,\u001b[49m\u001b[43m \u001b[49m\u001b[38;5;241;43m*\u001b[39;49m\u001b[38;5;241;43m*\u001b[39;49m\u001b[43mkwargs\u001b[49m\u001b[43m)\u001b[49m)\n",
      "File \u001b[0;32m~/anaconda3/envs/groupshap/lib/python3.12/site-packages/rpy2/robjects/functions.py:130\u001b[0m, in \u001b[0;36mFunction.__call__\u001b[0;34m(self, *args, **kwargs)\u001b[0m\n\u001b[1;32m    128\u001b[0m         new_kwargs[k] \u001b[38;5;241m=\u001b[39m v\n\u001b[1;32m    129\u001b[0m     \u001b[38;5;28;01melse\u001b[39;00m:\n\u001b[0;32m--> 130\u001b[0m         new_kwargs[k] \u001b[38;5;241m=\u001b[39m \u001b[43mcv\u001b[49m\u001b[38;5;241;43m.\u001b[39;49m\u001b[43mpy2rpy\u001b[49m\u001b[43m(\u001b[49m\u001b[43mv\u001b[49m\u001b[43m)\u001b[49m\n\u001b[1;32m    131\u001b[0m res \u001b[38;5;241m=\u001b[39m \u001b[38;5;28msuper\u001b[39m(Function, \u001b[38;5;28mself\u001b[39m)\u001b[38;5;241m.\u001b[39m\u001b[38;5;21m__call__\u001b[39m(\u001b[38;5;241m*\u001b[39mnew_args, \u001b[38;5;241m*\u001b[39m\u001b[38;5;241m*\u001b[39mnew_kwargs)\n\u001b[1;32m    132\u001b[0m res \u001b[38;5;241m=\u001b[39m cv\u001b[38;5;241m.\u001b[39mrpy2py(res)\n",
      "File \u001b[0;32m~/anaconda3/envs/groupshap/lib/python3.12/functools.py:909\u001b[0m, in \u001b[0;36msingledispatch.<locals>.wrapper\u001b[0;34m(*args, **kw)\u001b[0m\n\u001b[1;32m    905\u001b[0m \u001b[38;5;28;01mif\u001b[39;00m \u001b[38;5;129;01mnot\u001b[39;00m args:\n\u001b[1;32m    906\u001b[0m     \u001b[38;5;28;01mraise\u001b[39;00m \u001b[38;5;167;01mTypeError\u001b[39;00m(\u001b[38;5;124mf\u001b[39m\u001b[38;5;124m'\u001b[39m\u001b[38;5;132;01m{\u001b[39;00mfuncname\u001b[38;5;132;01m}\u001b[39;00m\u001b[38;5;124m requires at least \u001b[39m\u001b[38;5;124m'\u001b[39m\n\u001b[1;32m    907\u001b[0m                     \u001b[38;5;124m'\u001b[39m\u001b[38;5;124m1 positional argument\u001b[39m\u001b[38;5;124m'\u001b[39m)\n\u001b[0;32m--> 909\u001b[0m \u001b[38;5;28;01mreturn\u001b[39;00m \u001b[43mdispatch\u001b[49m\u001b[43m(\u001b[49m\u001b[43margs\u001b[49m\u001b[43m[\u001b[49m\u001b[38;5;241;43m0\u001b[39;49m\u001b[43m]\u001b[49m\u001b[38;5;241;43m.\u001b[39;49m\u001b[38;5;18;43m__class__\u001b[39;49m\u001b[43m)\u001b[49m\u001b[43m(\u001b[49m\u001b[38;5;241;43m*\u001b[39;49m\u001b[43margs\u001b[49m\u001b[43m,\u001b[49m\u001b[43m \u001b[49m\u001b[38;5;241;43m*\u001b[39;49m\u001b[38;5;241;43m*\u001b[39;49m\u001b[43mkw\u001b[49m\u001b[43m)\u001b[49m\n",
      "File \u001b[0;32m~/anaconda3/envs/groupshap/lib/python3.12/site-packages/rpy2/robjects/conversion.py:240\u001b[0m, in \u001b[0;36m_py2rpy\u001b[0;34m(obj)\u001b[0m\n\u001b[1;32m    238\u001b[0m \u001b[38;5;28;01mif\u001b[39;00m \u001b[38;5;28misinstance\u001b[39m(obj, _rinterface_capi\u001b[38;5;241m.\u001b[39mSupportsSEXP):\n\u001b[1;32m    239\u001b[0m     \u001b[38;5;28;01mreturn\u001b[39;00m obj\n\u001b[0;32m--> 240\u001b[0m \u001b[38;5;28;01mraise\u001b[39;00m \u001b[38;5;167;01mNotImplementedError\u001b[39;00m(\n\u001b[1;32m    241\u001b[0m     \u001b[38;5;124m\"\u001b[39m\u001b[38;5;124mConversion \u001b[39m\u001b[38;5;124m'\u001b[39m\u001b[38;5;124mpy2rpy\u001b[39m\u001b[38;5;124m'\u001b[39m\u001b[38;5;124m not defined for objects of type \u001b[39m\u001b[38;5;124m'\u001b[39m\u001b[38;5;132;01m%s\u001b[39;00m\u001b[38;5;124m'\u001b[39m\u001b[38;5;124m\"\u001b[39m \u001b[38;5;241m%\u001b[39m\n\u001b[1;32m    242\u001b[0m     \u001b[38;5;28mstr\u001b[39m(\u001b[38;5;28mtype\u001b[39m(obj))\n\u001b[1;32m    243\u001b[0m )\n",
      "\u001b[0;31mNotImplementedError\u001b[0m: Conversion 'py2rpy' not defined for objects of type '<class 'numpy.ndarray'>'"
     ]
    }
   ],
   "source": [
    "gen_groupshap_data(lvl_list,df_data,\"kernel\")"
   ]
  },
  {
   "cell_type": "code",
   "execution_count": 72,
   "metadata": {},
   "outputs": [
    {
     "name": "stdout",
     "output_type": "stream",
     "text": [
      "False\n"
     ]
    }
   ],
   "source": [
    "df_train.describe()\n",
    "print(torch.cuda.is_available())"
   ]
  },
  {
   "cell_type": "code",
   "execution_count": 32,
   "metadata": {},
   "outputs": [
    {
     "name": "stdout",
     "output_type": "stream",
     "text": [
      "OrderedDict({'mlp_extractor.policy_net.0.weight': tensor([[-2.8711e-02,  2.3895e-01,  7.1839e-02, -8.0047e-03,  1.6270e-01,\n",
      "          3.6994e-02, -1.9117e-02, -2.9320e-01],\n",
      "        [-1.5817e-01, -5.7575e-02, -2.0278e-01, -4.5236e-02, -3.0052e-01,\n",
      "         -8.4830e-02,  7.5421e-02,  1.9323e-02],\n",
      "        [ 2.4805e-01,  3.0252e-01,  2.6052e-01,  1.0057e-01, -1.5738e-01,\n",
      "         -1.9299e-01,  4.6540e-03,  3.1289e-01],\n",
      "        [-2.3671e-01, -2.5660e-01, -1.3034e-01,  6.7191e-03,  5.6608e-02,\n",
      "         -1.4447e-01,  8.4548e-02,  2.6592e-01],\n",
      "        [-5.3237e-03,  1.6518e-01, -2.9941e-01, -2.3138e-01, -8.2819e-02,\n",
      "          2.9298e-01, -3.9536e-01,  4.6884e-02],\n",
      "        [-8.7504e-02, -2.0512e-01,  1.0577e-01, -8.8037e-02,  1.8560e-02,\n",
      "         -1.6988e-01, -1.6097e-01, -3.1531e-02],\n",
      "        [-9.4181e-02, -9.7177e-02,  1.1550e-01,  1.1941e-01,  3.4195e-02,\n",
      "         -1.9690e-01,  9.2885e-02, -5.4432e-03],\n",
      "        [ 2.1120e-01, -2.1161e-01, -1.8274e-02,  4.4049e-02,  1.3864e-01,\n",
      "          6.7146e-02, -1.7700e-01, -4.2174e-02],\n",
      "        [-1.2714e-01, -1.1637e-01, -6.8238e-02, -8.2356e-02, -1.3830e-01,\n",
      "         -1.9724e-01, -1.0631e-02,  1.0166e-01],\n",
      "        [-2.1574e-01, -1.1133e-02, -2.2141e-01,  9.9420e-03, -2.1039e-01,\n",
      "          1.6326e-02,  6.6766e-03, -6.5331e-01],\n",
      "        [ 1.6277e-02, -4.4637e-02, -1.1046e-01,  1.3835e-01, -3.5934e-02,\n",
      "         -5.6687e-02,  1.0259e-01,  6.0698e-02],\n",
      "        [-4.2622e-03, -1.2973e-02,  1.6287e-01,  3.4823e-01,  1.0359e-01,\n",
      "         -3.0532e-02, -1.8215e-01, -1.5903e-01],\n",
      "        [ 2.8193e-01,  1.8110e-01,  9.8420e-02, -2.1642e-01, -1.7889e-01,\n",
      "          4.1506e-01,  1.0802e-01, -7.1475e-04],\n",
      "        [ 1.6843e-01,  2.7934e-01,  1.0304e-01,  1.4908e-02,  1.1701e-01,\n",
      "         -6.2574e-02, -3.1345e-01,  1.8619e-01],\n",
      "        [ 1.3774e-01,  1.3181e-01,  1.6100e-01, -1.9066e-01,  2.1447e-01,\n",
      "          1.5477e-01,  9.1812e-02,  7.0328e-02],\n",
      "        [-1.1217e-01, -1.0822e-01, -2.0116e-01, -4.1443e-01,  2.7617e-01,\n",
      "          8.4125e-02,  6.8850e-02, -7.8333e-02],\n",
      "        [-3.3301e-01, -1.0361e-01, -6.5351e-02,  1.1520e-01,  1.6874e-01,\n",
      "         -8.1517e-02,  4.5850e-02,  2.3664e-01],\n",
      "        [ 9.5171e-02, -1.9175e-03, -2.5711e-01,  1.7430e-02,  1.5401e-02,\n",
      "          2.9799e-02,  3.4202e-01,  3.1319e-02],\n",
      "        [-3.4591e-01,  5.6472e-02,  4.9059e-01, -3.4631e-01,  4.4463e-02,\n",
      "         -3.9935e-02, -1.7562e-01,  3.1510e-01],\n",
      "        [ 1.4902e-01,  1.7649e-01, -1.7277e-01, -6.6963e-04, -2.1366e-03,\n",
      "         -4.2579e-01,  2.2142e-01,  9.4709e-02],\n",
      "        [-2.4767e-01,  2.8862e-01, -1.4846e-02,  8.4207e-02, -6.0209e-02,\n",
      "         -5.1506e-02,  7.4104e-02, -7.2646e-02],\n",
      "        [-1.5946e-01,  2.9532e-01,  3.1110e-01,  4.0426e-01, -1.6445e-01,\n",
      "         -3.8312e-02, -4.9186e-02, -1.7278e-01],\n",
      "        [-9.7462e-02, -2.3522e-01, -1.0737e-01, -1.1841e-01, -1.1012e-01,\n",
      "          1.9991e-01,  1.1477e-01,  1.4138e-01],\n",
      "        [ 1.4729e-01,  1.0250e-01,  5.9526e-03,  7.5415e-02,  1.3026e-01,\n",
      "          1.7711e-01,  3.7007e-01, -1.9082e-01],\n",
      "        [ 1.3846e-01, -3.5868e-02, -2.0647e-01, -6.9467e-02, -2.4811e-01,\n",
      "         -1.1093e-01,  1.1668e-01, -2.1052e-01],\n",
      "        [ 2.5860e-01, -1.8776e-01,  7.1972e-02,  1.2128e-02, -3.3251e-01,\n",
      "          2.1748e-01, -2.2140e-01, -1.0330e-02],\n",
      "        [-3.3193e-01, -5.2756e-02,  4.0008e-02,  1.0126e-01,  1.4982e-02,\n",
      "          1.1981e-01,  2.1149e-01,  2.3421e-01],\n",
      "        [-4.4445e-01,  4.1769e-01,  2.0335e-01, -2.6167e-01,  2.9004e-02,\n",
      "          1.0395e-02,  1.6641e-01, -9.7834e-02],\n",
      "        [-1.1848e-01, -2.9151e-01,  1.7701e-01, -2.3158e-01,  1.1175e-01,\n",
      "          2.5506e-01, -2.1156e-01, -6.7255e-02],\n",
      "        [-2.3398e-01,  2.8024e-01, -1.4561e-01,  2.8763e-01,  2.5518e-02,\n",
      "          1.3502e-01,  5.6535e-03,  1.0384e-01],\n",
      "        [ 5.9835e-06, -9.6024e-02, -1.9796e-01,  1.0414e-03,  2.1545e-01,\n",
      "          6.3979e-02, -1.6546e-01, -2.1249e-01],\n",
      "        [-1.0343e-01, -7.6122e-02, -2.2857e-02, -2.9029e-01, -4.0237e-01,\n",
      "          1.0154e-02,  5.5931e-02, -1.2861e-01],\n",
      "        [-1.5079e-01, -5.6258e-02, -7.6425e-03, -1.5921e-01,  4.5852e-02,\n",
      "          1.8233e-01, -1.7277e-01, -6.8055e-02],\n",
      "        [ 1.4008e-01,  7.8505e-02,  2.8110e-01, -1.1601e-01, -2.3503e-02,\n",
      "         -1.2637e-01,  2.5232e-01, -1.7412e-01],\n",
      "        [ 1.9803e-01, -3.3012e-01,  3.5376e-03,  1.0718e-01,  3.4463e-01,\n",
      "         -7.9031e-02, -2.0878e-01, -1.3842e-01],\n",
      "        [-1.0646e-01, -2.6702e-01,  3.3513e-02,  2.8358e-01, -3.6587e-02,\n",
      "         -4.6202e-02,  2.0136e-01,  6.1622e-02],\n",
      "        [-1.8505e-01,  2.1219e-01,  6.9715e-02, -2.4734e-01, -1.7888e-01,\n",
      "         -2.0216e-01, -2.6127e-01,  1.4016e-01],\n",
      "        [ 2.7180e-01,  2.0832e-01, -2.0849e-01, -2.9970e-01,  1.3879e-01,\n",
      "         -3.1561e-01, -6.5534e-03, -1.0881e-01],\n",
      "        [ 2.6782e-02,  4.7055e-04, -2.0815e-01, -1.7528e-01,  2.1397e-02,\n",
      "          1.0562e-01,  9.3475e-02,  1.8304e-01],\n",
      "        [ 5.4701e-02,  7.3784e-02,  2.0549e-01,  1.7813e-01, -5.5810e-03,\n",
      "          6.0618e-02,  1.3894e-01,  2.4740e-01],\n",
      "        [ 7.1824e-02,  3.1176e-02,  1.1457e-01,  1.0307e-01,  2.9704e-03,\n",
      "         -1.0477e-01, -1.6121e-01, -1.9001e-01],\n",
      "        [ 1.5019e-01, -2.4491e-02, -5.2801e-02,  7.4640e-02, -1.8382e-01,\n",
      "         -3.9439e-02, -5.2849e-02, -7.7947e-03],\n",
      "        [-3.5849e-02,  6.7097e-02, -1.1062e-01, -9.3298e-02,  5.4395e-02,\n",
      "          4.5550e-02,  9.1913e-02, -3.1605e-01],\n",
      "        [-7.0996e-02,  3.3307e-01, -3.3102e-01, -1.1364e-01,  8.7454e-02,\n",
      "          7.5447e-02, -1.1388e-01,  2.0327e-01],\n",
      "        [-1.1455e-01, -7.8874e-02,  5.6073e-02,  9.9381e-02,  2.9377e-01,\n",
      "          2.1528e-01,  2.1413e-01,  2.1099e-01],\n",
      "        [ 7.2142e-02, -1.3680e-01, -2.2486e-02,  2.1984e-01, -1.5361e-01,\n",
      "          2.2496e-01, -1.8548e-01, -3.6749e-02],\n",
      "        [-1.5145e-01,  2.8775e-02,  8.7752e-02,  1.4753e-01, -9.4370e-02,\n",
      "          6.3801e-02, -1.8253e-01,  1.6627e-02],\n",
      "        [-1.5798e-01,  3.5329e-02,  7.7903e-02, -8.0469e-03,  1.2294e-01,\n",
      "          2.9000e-01,  1.2991e-01, -2.3490e-02],\n",
      "        [-8.9091e-02, -1.7369e-02, -2.1311e-01, -1.4076e-01, -2.6690e-01,\n",
      "         -4.1410e-01, -3.1459e-01,  6.6179e-02],\n",
      "        [-3.2472e-02,  1.4922e-01, -1.1103e-01, -1.4836e-01,  1.6353e-01,\n",
      "          2.1945e-01, -3.1581e-01, -2.6561e-02],\n",
      "        [-2.4116e-01,  1.2172e-01, -2.7980e-01,  1.2118e-01,  2.8941e-01,\n",
      "         -2.4785e-02, -1.3929e-01,  9.6282e-02],\n",
      "        [-1.6771e-01,  4.8895e-02,  9.6285e-02, -7.8655e-02,  1.2573e-02,\n",
      "         -1.2905e-01,  1.4185e-02, -4.0735e-01],\n",
      "        [-4.0507e-02,  2.1440e-01, -8.6975e-02,  2.5035e-01, -6.1184e-02,\n",
      "         -1.7721e-01,  4.8085e-02, -6.5640e-02],\n",
      "        [ 5.5627e-02,  1.9608e-01, -4.6932e-01,  5.6088e-02,  7.8417e-02,\n",
      "         -3.5313e-02,  1.4988e-01,  2.1906e-01],\n",
      "        [ 1.4468e-01, -9.7142e-02,  3.5314e-01, -1.4047e-01,  1.5702e-01,\n",
      "         -2.8358e-01, -1.3530e-01, -6.3297e-02],\n",
      "        [ 1.7180e-01, -1.2417e-03, -1.1093e-01,  1.9870e-01,  3.3848e-01,\n",
      "          8.4113e-02, -2.1089e-01,  7.5196e-02],\n",
      "        [-1.8813e-01,  3.9774e-03, -7.2885e-02,  1.0435e-01, -1.6588e-01,\n",
      "         -1.1262e-01, -4.2366e-01,  9.9548e-04],\n",
      "        [-1.0426e-01,  1.0012e-01, -7.2042e-02,  1.6795e-01, -3.9948e-01,\n",
      "          3.0819e-01, -3.9275e-02,  5.2324e-02],\n",
      "        [-1.5019e-01, -3.4803e-02,  1.8223e-02,  2.1690e-01, -2.2794e-01,\n",
      "          3.4198e-01, -8.0818e-02, -1.2955e-01],\n",
      "        [ 7.1834e-02,  2.8507e-01, -6.3646e-02,  2.5827e-01,  2.1392e-01,\n",
      "         -1.4047e-02, -1.9461e-01, -7.8874e-02],\n",
      "        [-2.0188e-01,  1.5683e-01,  1.2320e-01, -9.5227e-02,  2.7152e-01,\n",
      "          2.8269e-02,  1.2520e-01, -3.0133e-01],\n",
      "        [ 9.6984e-03,  8.0173e-02, -1.0053e-01,  2.1301e-01,  4.6264e-02,\n",
      "         -1.3312e-02, -1.2199e-01, -3.3983e-02],\n",
      "        [ 3.2840e-01,  3.8021e-01,  6.0705e-02, -1.0581e-01, -8.1725e-02,\n",
      "          2.3925e-01, -6.6804e-02,  1.7117e-02],\n",
      "        [-2.4049e-01,  4.2957e-03, -1.0284e-01,  9.4166e-02,  2.1778e-01,\n",
      "         -3.8247e-02, -1.8401e-01, -1.9561e-01]]), 'mlp_extractor.policy_net.0.bias': tensor([-4.2934e-11,  4.1901e-05,  1.9685e-10,  4.4149e-09, -9.7765e-04,\n",
      "        -2.3537e-06,  1.3195e-04, -1.3436e-04,  2.4940e-05,  0.0000e+00,\n",
      "         4.2903e-04, -6.4183e-05,  9.4276e-05, -1.8112e-05,  6.6968e-09,\n",
      "         1.6057e-05,  2.8399e-09,  3.1047e-04, -1.8984e-07,  2.2217e-03,\n",
      "        -3.9417e-05, -3.6607e-06, -4.2706e-06,  4.2676e-04,  4.3921e-12,\n",
      "        -1.9422e-04,  0.0000e+00, -7.7407e-04, -2.6739e-04,  8.5592e-08,\n",
      "        -3.7839e-09, -1.0832e-08, -9.6964e-06,  5.4557e-06,  1.3920e-09,\n",
      "        -1.5400e-06,  1.1401e-03, -1.8538e-09,  1.0765e-08,  0.0000e+00,\n",
      "         9.3021e-10, -3.1596e-03, -1.1142e-10, -6.2262e-08,  0.0000e+00,\n",
      "         2.4242e-04, -3.0886e-04,  8.4479e-05, -1.1376e-06, -6.1600e-04,\n",
      "         6.1558e-04, -2.6549e-05,  1.0789e-06,  2.8173e-08, -3.0066e-04,\n",
      "        -1.2353e-05, -4.6994e-07,  6.2288e-06, -4.0463e-04, -2.9935e-04,\n",
      "        -4.8574e-08, -3.4294e-04,  6.2864e-06, -9.6212e-10]), 'mlp_extractor.policy_net.2.weight': tensor([[ 0.2041,  0.0677, -0.2045,  ...,  0.1488, -0.1769,  0.2294],\n",
      "        [-0.0245,  0.0074,  0.2525,  ..., -0.1688, -0.0563,  0.0011],\n",
      "        [-0.2666, -0.1579, -0.4254,  ..., -0.0530,  0.0444, -0.0562],\n",
      "        ...,\n",
      "        [-0.0205,  0.1544,  0.1452,  ...,  0.3244, -0.3123, -0.0193],\n",
      "        [ 0.1858,  0.3873, -0.2406,  ..., -0.0878,  0.0535, -0.0928],\n",
      "        [-0.1374,  0.3013, -0.1493,  ...,  0.2019, -0.4736,  0.1231]]), 'mlp_extractor.policy_net.2.bias': tensor([-1.1612e-02,  4.5445e-03,  1.1450e-02,  1.0969e-02,  4.9514e-04,\n",
      "         8.9587e-03,  7.7753e-03,  1.9250e-02,  5.4949e-04,  1.2038e-02,\n",
      "         1.2997e-02,  8.2291e-03, -6.3914e-03, -4.8184e-03, -1.7426e-02,\n",
      "        -7.4767e-03,  1.2553e-02,  8.3778e-03,  1.9105e-02,  6.9935e-03,\n",
      "        -1.4835e-02, -2.1066e-02, -8.8460e-03, -4.6710e-03,  1.3602e-02,\n",
      "         8.4981e-04,  1.5479e-02, -3.1832e-03, -1.2085e-02, -1.9372e-02,\n",
      "         1.1551e-02, -4.2804e-04, -1.1118e-02, -1.5217e-02,  1.0622e-02,\n",
      "         1.6852e-02, -1.5428e-02,  1.6425e-04, -8.4084e-04, -1.8348e-02,\n",
      "         5.2406e-03,  3.6301e-05, -1.3864e-02, -6.2693e-03, -1.2580e-02,\n",
      "         1.0294e-03,  1.9496e-02,  1.1016e-02, -1.0128e-02,  1.5682e-03,\n",
      "         8.7474e-03, -1.2372e-02, -3.7301e-03,  1.0880e-02,  1.5458e-02,\n",
      "         1.9939e-02,  6.7967e-03,  7.5253e-03,  1.9354e-02,  1.4787e-02,\n",
      "        -2.0570e-02,  1.1841e-02, -1.9183e-02, -7.6638e-03]), 'mlp_extractor.value_net.0.weight': tensor([[ 1.0973e-01,  9.3629e-02,  1.3246e-01,  1.9826e-01,  5.8637e-02,\n",
      "         -1.3491e-01, -4.6568e-01, -2.2747e-01],\n",
      "        [-1.0943e-01,  1.1074e-01, -1.6203e-01,  1.5335e-01,  2.0637e-01,\n",
      "         -2.4953e-01,  1.4734e-01,  1.2629e-01],\n",
      "        [-2.1115e-01, -6.8854e-02,  1.8678e-01,  1.7027e-01,  3.6603e-01,\n",
      "         -2.7165e-02, -1.8577e-01,  3.2742e-02],\n",
      "        [ 2.2463e-01, -2.9820e-01, -6.0011e-02, -1.7237e-01, -2.0073e-01,\n",
      "         -3.9195e-01,  6.8293e-02, -1.5588e-01],\n",
      "        [-4.9227e-01,  1.5354e-01, -2.2558e-01, -1.3170e-01,  2.1968e-01,\n",
      "          3.6509e-01, -9.0024e-03, -6.5571e-02],\n",
      "        [-1.3711e-01,  7.3639e-03,  4.0734e-02,  2.2758e-01, -2.7420e-01,\n",
      "          6.8948e-02, -9.7573e-02, -5.2799e-03],\n",
      "        [ 2.5820e-01,  9.6820e-02,  1.1577e-01, -5.7214e-02, -5.2340e-02,\n",
      "          1.6318e-01,  1.1678e-01,  8.2850e-02],\n",
      "        [-3.4518e-02,  1.4550e-01, -2.1940e-01, -6.4492e-02,  1.8964e-01,\n",
      "         -8.7269e-02,  4.9303e-02, -1.7684e-01],\n",
      "        [-1.1365e-01, -1.8943e-01,  4.1163e-02, -2.1103e-02,  2.2689e-01,\n",
      "         -3.1874e-02, -3.7417e-01, -2.2226e-01],\n",
      "        [-1.2870e-01, -1.7587e-01, -1.6682e-02,  8.1504e-02,  1.7685e-01,\n",
      "         -1.0765e-01,  9.4376e-02, -2.7445e-01],\n",
      "        [ 1.0393e-01,  1.8213e-02, -5.2781e-02,  4.6630e-02,  1.8410e-01,\n",
      "          1.0733e-01, -1.6242e-01, -2.7251e-02],\n",
      "        [-5.3587e-01,  6.1997e-02, -5.2929e-01,  1.6367e-01,  3.2634e-02,\n",
      "          1.1018e-01, -2.8406e-02,  2.3384e-02],\n",
      "        [-9.9117e-02, -9.2934e-02,  1.3940e-01,  1.4913e-01, -1.6327e-01,\n",
      "         -4.1450e-02,  2.6788e-01, -9.6886e-03],\n",
      "        [-1.6290e-02,  3.3253e-01, -3.9049e-01,  1.5607e-01,  1.8686e-01,\n",
      "          2.4146e-03,  3.5438e-01, -5.1867e-01],\n",
      "        [ 4.3849e-02,  8.2723e-04, -9.3757e-02, -8.6825e-03, -1.0638e-01,\n",
      "          3.0444e-01,  3.5879e-02,  1.1457e-01],\n",
      "        [-1.9685e-01, -2.0063e-02,  2.0713e-02,  8.0945e-02,  9.7249e-02,\n",
      "         -8.1832e-02,  5.7764e-03,  4.8355e-02],\n",
      "        [ 2.3692e-02,  2.1847e-01,  6.5349e-02, -8.9029e-02, -4.2249e-02,\n",
      "          3.7081e-01,  1.0696e-01, -2.4167e-02],\n",
      "        [-1.1253e-01,  2.0277e-02,  1.4381e-01, -1.5883e-02, -2.2513e-01,\n",
      "         -6.4589e-02, -2.5336e-02, -2.5615e-01],\n",
      "        [-2.7107e-01, -1.9116e-01, -6.3712e-02, -8.3898e-02, -4.7804e-02,\n",
      "         -3.0776e-01,  1.0699e-01,  1.1614e-01],\n",
      "        [-2.2595e-01,  7.2322e-02,  1.0773e-01, -1.2308e-02,  2.1479e-01,\n",
      "          1.2488e-01,  3.2641e-01, -3.0574e-02],\n",
      "        [ 2.9072e-01, -1.2617e-01,  3.0078e-02, -8.3650e-02, -3.9443e-01,\n",
      "         -5.9382e-03, -2.0289e-01, -5.0576e-01],\n",
      "        [-2.3211e-01,  8.5739e-02, -7.7736e-02,  1.1597e-01,  2.3867e-02,\n",
      "          1.4221e-01, -1.0394e-02, -4.1456e-02],\n",
      "        [-2.3002e-01, -7.8508e-02, -2.8123e-01,  5.6237e-01,  2.3200e-01,\n",
      "          3.5013e-01, -1.1158e-01, -8.0542e-02],\n",
      "        [ 7.3595e-02, -2.4740e-01,  2.0254e-02,  4.2157e-02,  3.4410e-02,\n",
      "         -1.4048e-02,  3.8787e-02, -6.6139e-02],\n",
      "        [-1.2333e-03, -1.5924e-01, -1.4452e-01, -1.4518e-01, -8.0723e-02,\n",
      "          6.4966e-02, -1.9292e-01, -2.9078e-01],\n",
      "        [ 3.9148e-01, -3.1989e-01, -2.7851e-01,  8.5072e-02, -9.4009e-02,\n",
      "         -1.5567e-01,  4.7500e-02,  1.4702e-02],\n",
      "        [ 5.8279e-02,  2.8662e-03,  3.2091e-02, -2.5142e-01,  3.3962e-01,\n",
      "         -1.9827e-01,  1.4144e-02,  4.2095e-02],\n",
      "        [-8.7159e-02,  2.7262e-01, -9.9791e-02, -3.5114e-01,  8.3894e-02,\n",
      "         -4.8346e-01,  1.0806e-01, -2.1947e-01],\n",
      "        [ 2.0171e-01,  1.6203e-01,  3.3581e-01,  2.8823e-01, -1.9331e-01,\n",
      "          9.1033e-02,  2.3787e-01, -4.7233e-01],\n",
      "        [-6.5150e-02,  5.9446e-02, -5.5230e-02,  1.3047e-01, -1.8531e-01,\n",
      "         -2.2183e-01, -1.0712e-02,  1.3863e-01],\n",
      "        [ 1.9293e-01, -1.5838e-01,  5.6490e-02, -2.0993e-01, -4.2357e-01,\n",
      "         -3.2176e-01,  1.0080e-02,  1.2750e-01],\n",
      "        [-1.2794e-01,  8.1160e-03, -2.6649e-01,  2.3248e-01,  8.3454e-02,\n",
      "         -7.4357e-02, -4.4513e-02,  4.8991e-02],\n",
      "        [-2.9262e-01,  8.3963e-02,  2.9134e-01,  9.9549e-02, -2.2465e-01,\n",
      "         -3.6607e-01, -1.0037e-02,  6.8592e-03],\n",
      "        [-1.6794e-02,  7.7976e-03,  1.4852e-01, -2.7479e-01, -1.9667e-01,\n",
      "         -2.3993e-01,  2.0897e-01,  2.8007e-02],\n",
      "        [-1.0569e-01,  1.5124e-02,  5.5996e-02, -9.2511e-02, -1.5639e-01,\n",
      "          1.2463e-02, -1.5504e-01,  3.3358e-01],\n",
      "        [-2.9260e-02,  1.4706e-02, -3.5622e-02, -1.7700e-01,  9.7226e-02,\n",
      "          1.3616e-01,  1.0339e-01, -3.0765e-01],\n",
      "        [-1.0750e-01, -4.2882e-01, -1.9511e-01,  2.6710e-02, -2.6427e-01,\n",
      "          6.2057e-02,  3.0976e-01, -1.0746e-01],\n",
      "        [-2.9718e-02, -5.9780e-01, -3.3312e-02, -1.9511e-02,  1.1989e-01,\n",
      "          8.1875e-02, -2.0385e-01, -2.1232e-01],\n",
      "        [-4.2507e-02, -1.8268e-02,  4.5645e-02, -1.4122e-01, -2.3149e-01,\n",
      "          4.5238e-02,  3.2770e-03,  3.4396e-02],\n",
      "        [ 2.3093e-01,  3.6512e-01, -9.8466e-02,  4.3919e-02, -1.8181e-01,\n",
      "         -2.9129e-02, -6.1637e-02,  2.1523e-01],\n",
      "        [-1.6084e-01, -1.2688e-01,  2.6896e-02,  1.5492e-01, -9.4196e-02,\n",
      "          4.3299e-01,  7.6773e-02,  1.6628e-02],\n",
      "        [ 1.5530e-01, -1.1621e-01,  2.8900e-01,  1.8769e-01,  1.4321e-01,\n",
      "          4.3321e-02, -3.1143e-02,  1.4886e-01],\n",
      "        [-9.7320e-02,  4.1336e-02,  2.5558e-02,  1.1326e-01,  1.4476e-01,\n",
      "         -6.3007e-02,  1.9203e-01, -1.2382e-01],\n",
      "        [ 1.5415e-01,  1.3080e-01,  3.5100e-01,  2.5865e-02,  3.7387e-02,\n",
      "         -5.0779e-02,  4.1052e-02, -5.4625e-02],\n",
      "        [-3.4371e-01,  4.7957e-02, -3.2711e-01,  4.9559e-02,  1.1005e-02,\n",
      "         -2.2040e-01, -3.0952e-01, -2.5784e-01],\n",
      "        [-1.1190e-01,  3.4984e-02, -1.9562e-01,  3.1918e-01, -9.9536e-02,\n",
      "          1.7307e-02, -9.8686e-02,  2.7867e-01],\n",
      "        [-9.3341e-02, -5.8107e-02,  9.3898e-02, -3.7455e-01, -7.9369e-02,\n",
      "          9.3210e-02, -8.0159e-02, -7.3262e-02],\n",
      "        [-1.3239e-02, -3.3785e-01,  4.2291e-02, -1.9474e-01,  2.5626e-02,\n",
      "         -2.1175e-01, -2.5249e-02, -2.8861e-02],\n",
      "        [-1.3411e-01,  1.4945e-01,  2.8574e-01,  1.8454e-01, -1.8225e-01,\n",
      "         -1.1702e-01, -1.8208e-01,  9.7335e-02],\n",
      "        [ 8.0631e-02, -3.4141e-02,  1.8115e-01,  3.8206e-02, -2.1061e-02,\n",
      "         -1.8070e-01,  1.6906e-01, -1.5393e-02],\n",
      "        [ 1.4748e-01,  3.9884e-02,  4.9732e-02, -3.5576e-01,  9.6274e-02,\n",
      "         -9.8083e-02, -1.8867e-01,  1.6651e-02],\n",
      "        [ 2.4623e-01,  1.0178e-01, -3.7629e-01, -3.3470e-01,  2.5731e-02,\n",
      "          1.2611e-01, -3.0623e-02,  1.9036e-01],\n",
      "        [ 3.7102e-01,  2.2280e-01, -2.3565e-01,  1.0400e-01,  2.6710e-02,\n",
      "         -6.7369e-02,  1.2621e-01, -6.5786e-02],\n",
      "        [ 1.4934e-01, -2.0395e-01, -2.2760e-01, -1.2139e-01,  3.2607e-01,\n",
      "          1.7297e-01, -1.0525e-01,  1.4098e-02],\n",
      "        [ 1.7344e-01,  1.2317e-01, -1.8914e-01, -2.0303e-02, -3.6447e-01,\n",
      "         -3.3593e-02, -1.8965e-01, -1.3970e-01],\n",
      "        [ 2.4193e-01,  3.9834e-02, -1.5662e-01, -1.1277e-01, -5.4065e-02,\n",
      "         -4.3244e-02, -2.1510e-01, -1.7547e-02],\n",
      "        [-8.3868e-02,  1.8908e-02, -5.0708e-01,  2.7901e-01, -7.9604e-02,\n",
      "         -1.6273e-01,  1.0179e-01, -1.0366e-01],\n",
      "        [ 2.4405e-02, -1.2099e-01,  4.7731e-02,  5.7416e-02,  7.3225e-03,\n",
      "          1.3106e-01,  6.4244e-02, -2.3708e-01],\n",
      "        [-1.7640e-01,  2.5314e-02, -6.5694e-02, -5.4892e-03,  2.2970e-01,\n",
      "          8.9417e-02, -8.0952e-03, -2.7729e-02],\n",
      "        [-2.4569e-01,  2.1072e-01,  8.5854e-02, -1.0644e-01, -2.2512e-01,\n",
      "          1.1533e-01, -8.0099e-02, -2.2564e-01],\n",
      "        [ 3.3247e-01,  1.2077e-01,  3.8296e-01, -1.0201e-01,  2.3342e-01,\n",
      "         -1.9862e-01,  1.1639e-01, -5.2533e-02],\n",
      "        [-1.7467e-01, -2.6359e-01, -5.1487e-02, -1.0466e-01, -3.8237e-02,\n",
      "          1.9900e-01,  3.7479e-01,  7.3434e-02],\n",
      "        [ 5.0001e-02,  1.0459e-02, -2.4532e-01,  2.9401e-01,  7.0858e-02,\n",
      "          1.8482e-01, -2.6941e-01,  1.7592e-02],\n",
      "        [-2.0826e-01,  8.6642e-02, -2.8293e-02, -2.0473e-01,  9.3489e-02,\n",
      "          3.4968e-01,  5.1403e-02, -4.0753e-04]]), 'mlp_extractor.value_net.0.bias': tensor([-1.5813e-07, -1.3820e-03,  3.4622e-02,  0.0000e+00,  1.4632e-01,\n",
      "        -2.3970e-03, -6.0825e-04, -1.0118e-03,  0.0000e+00, -2.8120e-06,\n",
      "         3.8366e-02,  2.1520e-01,  8.0167e-03, -1.6399e-05, -1.0394e-04,\n",
      "        -6.4411e-02,  1.5451e-02,  5.3721e-07, -3.7671e-02,  2.3549e-02,\n",
      "         0.0000e+00,  9.2986e-02,  2.0465e-01, -1.4887e-02,  0.0000e+00,\n",
      "        -5.6362e-02, -4.2006e-02, -8.2199e-09,  5.2199e-04,  4.7663e-02,\n",
      "        -1.8346e-01, -9.5462e-03, -1.3738e-02, -1.1679e-01,  7.9533e-06,\n",
      "        -4.9434e-04, -2.0804e-02,  8.9400e-07, -7.3300e-02,  3.4864e-04,\n",
      "         1.7583e-02,  1.2121e-04, -3.3954e-02, -6.1176e-02,  0.0000e+00,\n",
      "         2.5228e-06, -1.9564e-02, -3.6190e-03,  6.1727e-02, -4.8894e-02,\n",
      "        -2.7467e-02,  2.1789e-03, -1.8016e-02,  4.0540e-02,  1.0073e-05,\n",
      "        -2.3406e-02, -1.0343e-02, -2.5332e-02,  6.6063e-02,  2.3402e-05,\n",
      "        -3.5477e-02,  1.5163e-02,  3.9325e-02,  6.3605e-02]), 'mlp_extractor.value_net.2.weight': tensor([[ 0.0848,  0.1509,  0.0249,  ...,  0.3593,  0.0032, -0.3147],\n",
      "        [ 0.0376,  0.1874, -0.0123,  ...,  0.2598, -0.0678,  0.0409],\n",
      "        [-0.0604,  0.2989, -0.0599,  ..., -0.0907, -0.1306,  0.0391],\n",
      "        ...,\n",
      "        [ 0.0477, -0.2003,  0.0207,  ..., -0.0524, -0.1953, -0.1457],\n",
      "        [ 0.0871, -0.0673, -0.0703,  ..., -0.1552,  0.3789, -0.2519],\n",
      "        [ 0.1412,  0.1385, -0.2271,  ...,  0.0306, -0.3803,  0.1126]]), 'mlp_extractor.value_net.2.bias': tensor([ 0.1115,  0.0911,  0.0988, -0.1123,  0.0922, -0.0239, -0.0573,  0.0601,\n",
      "         0.0144, -0.0742, -0.0274, -0.0674,  0.0490,  0.0625,  0.0274,  0.0890,\n",
      "         0.1136,  0.1009, -0.0827, -0.0664,  0.0574, -0.0496, -0.0618,  0.0256,\n",
      "         0.0142, -0.0245, -0.1155, -0.1206, -0.0233, -0.0238, -0.0677,  0.0606,\n",
      "        -0.1154, -0.0703, -0.1024,  0.0890,  0.0271, -0.0347, -0.0239,  0.0883,\n",
      "        -0.0431,  0.0773, -0.0368, -0.0496,  0.0883, -0.0303,  0.0653, -0.0823,\n",
      "         0.1430,  0.1106,  0.0966,  0.0255,  0.0526,  0.0819, -0.0476, -0.0601,\n",
      "         0.0282,  0.0832,  0.0803, -0.0739,  0.0887, -0.0263, -0.0097,  0.1112]), 'action_net.weight': tensor([[-8.6843e-02,  8.5849e-02,  5.6041e-02,  8.2470e-02,  2.0736e-02,\n",
      "          9.2299e-02,  6.5929e-02,  8.7936e-02,  1.3404e-02,  7.1464e-02,\n",
      "          5.2273e-02,  8.9037e-02, -6.8057e-02, -6.5222e-02, -6.1710e-02,\n",
      "         -5.7443e-02,  4.1360e-02,  8.2818e-02,  7.2141e-02,  6.7755e-02,\n",
      "         -5.4222e-02, -9.8226e-02, -6.6739e-02, -6.5949e-02,  9.3401e-02,\n",
      "         -1.2403e-02,  7.8509e-02, -3.6616e-02, -8.7893e-02, -8.7830e-02,\n",
      "          3.4423e-02,  8.8795e-03, -5.6294e-02, -8.2065e-02,  8.4700e-02,\n",
      "          8.3610e-02, -7.5929e-02,  1.1737e-02, -8.4915e-02, -7.6382e-02,\n",
      "          7.4957e-04, -2.3724e-02, -6.6846e-02, -1.6895e-02, -8.5930e-02,\n",
      "         -1.8085e-02,  9.0170e-02,  9.1074e-02, -8.7783e-02,  5.9769e-02,\n",
      "          8.0589e-02, -7.7014e-02, -8.3975e-02,  7.8854e-02,  9.4100e-02,\n",
      "          8.8813e-02,  9.0355e-02,  9.0379e-02,  7.5960e-02,  6.5239e-02,\n",
      "         -8.8042e-02,  9.3497e-02, -7.9360e-02, -6.8276e-02],\n",
      "        [ 6.2780e-02, -5.7371e-02, -7.2314e-03, -5.3220e-02,  1.4265e-02,\n",
      "         -6.4920e-02, -2.3791e-02, -5.8465e-02, -1.4052e-02, -3.0656e-02,\n",
      "         -5.0654e-02, -6.8718e-02,  2.7315e-02,  2.1347e-02,  3.7884e-02,\n",
      "          1.7380e-02, -3.2318e-02, -5.9907e-02, -4.2607e-02, -2.9479e-02,\n",
      "          2.4525e-02,  6.4408e-02,  1.9446e-02,  2.0085e-02, -6.8520e-02,\n",
      "         -1.2175e-02, -4.3159e-02,  6.9400e-03,  6.8384e-02,  5.5071e-02,\n",
      "         -3.7796e-02, -2.9984e-03,  3.7141e-02,  5.2959e-02, -6.3963e-02,\n",
      "         -5.5611e-02,  4.3672e-02, -4.3608e-03,  5.7640e-02,  3.5748e-02,\n",
      "          2.3342e-02, -3.4870e-03,  1.7751e-02,  2.8004e-02,  5.7555e-02,\n",
      "         -1.2454e-02, -6.0496e-02, -6.5512e-02,  6.1884e-02, -2.0401e-02,\n",
      "         -5.0936e-02,  4.3148e-02,  5.4701e-02, -3.8791e-02, -6.8859e-02,\n",
      "         -5.0818e-02, -6.3011e-02, -6.3886e-02, -4.0204e-02, -5.4582e-02,\n",
      "          5.2046e-02, -6.6043e-02,  5.8466e-02,  2.8580e-02],\n",
      "        [ 7.6847e-03, -2.5976e-02, -6.3953e-02, -3.6818e-02, -2.6285e-02,\n",
      "          1.0980e-03, -5.5032e-02, -3.9901e-02,  1.9421e-02, -5.1846e-02,\n",
      "          7.9922e-05, -1.5143e-02,  5.1630e-02,  5.6656e-02,  2.7007e-02,\n",
      "          5.2533e-02, -1.4165e-02,  3.5718e-03, -3.5908e-02, -5.4010e-02,\n",
      "          3.3293e-02,  2.1290e-02,  5.2219e-02,  5.4520e-02,  1.8042e-02,\n",
      "          1.9171e-02, -4.3996e-02,  2.1474e-02,  6.5881e-03,  4.4444e-02,\n",
      "          5.9233e-03,  1.3707e-02, -1.3972e-02,  3.8562e-02,  8.9844e-03,\n",
      "         -1.1184e-02,  4.8775e-02,  1.0537e-02,  2.5519e-02,  5.0278e-02,\n",
      "         -4.7817e-02,  1.4146e-02,  6.2139e-02, -5.3240e-03,  3.4530e-02,\n",
      "          2.1359e-02, -2.0640e-02, -1.0875e-02, -2.0981e-02, -5.6475e-02,\n",
      "         -3.7742e-02,  4.3534e-02,  2.8903e-02, -1.9274e-02, -9.8704e-03,\n",
      "         -4.3540e-02, -6.3312e-03,  4.9435e-03, -4.0292e-02, -1.3266e-02,\n",
      "          4.8023e-02, -6.5509e-03,  1.8794e-02,  5.6881e-02],\n",
      "        [ 6.2130e-02, -6.0364e-02,  7.6807e-03, -5.6282e-02, -8.8814e-03,\n",
      "         -5.8237e-02, -2.7391e-02, -4.7402e-02, -2.7416e-02, -2.8754e-02,\n",
      "         -2.4754e-02, -6.4518e-02,  3.7025e-02,  3.0599e-02,  1.4514e-02,\n",
      "          1.7484e-02, -1.5520e-02, -5.4883e-02, -2.3557e-02, -2.9303e-02,\n",
      "         -4.6880e-03,  5.9372e-02,  2.3440e-02,  2.1329e-02, -6.0460e-02,\n",
      "          4.1070e-03, -5.1849e-02,  8.9813e-03,  5.7601e-02,  4.9759e-02,\n",
      "         -1.1583e-02, -2.7521e-02,  4.1064e-02,  6.0018e-02, -5.6652e-02,\n",
      "         -4.8136e-02,  4.6872e-02, -2.8040e-02,  6.0852e-02,  3.8838e-02,\n",
      "          4.0155e-02,  1.9212e-02,  1.3867e-02,  2.4055e-04,  6.1023e-02,\n",
      "          1.3134e-02, -5.4616e-02, -6.2619e-02,  5.7226e-02, -2.5970e-02,\n",
      "         -5.7473e-02,  4.9713e-02,  6.1431e-02, -4.4176e-02, -5.6054e-02,\n",
      "         -5.2678e-02, -6.2292e-02, -5.8443e-02, -3.0133e-02, -3.4902e-02,\n",
      "          5.1851e-02, -6.2007e-02,  4.5272e-02,  2.2127e-02]]), 'action_net.bias': tensor([ 0.0864, -0.0591, -0.0252, -0.0626]), 'value_net.weight': tensor([[ 0.3846,  0.4675,  0.5150, -0.3971,  0.4725, -0.4255, -0.4419,  0.5433,\n",
      "         -0.5255, -0.4054, -0.5432, -0.4522,  0.4933,  0.3959,  0.4643,  0.5178,\n",
      "          0.5365,  0.4569, -0.5266, -0.6169,  0.6129, -0.4489, -0.5452,  0.4191,\n",
      "          0.4414, -0.5583, -0.4060, -0.4204, -0.6645, -0.4571, -0.5279,  0.5790,\n",
      "         -0.5198, -0.5078, -0.5713,  0.3887,  0.4380, -0.6223, -0.5687,  0.4528,\n",
      "         -0.4580,  0.4271, -0.3637, -0.4484,  0.4972, -0.3944,  0.4962, -0.6191,\n",
      "          0.4656,  0.6446,  0.5592, -0.5399,  0.4651,  0.4073, -0.4213, -0.5558,\n",
      "          0.4781,  0.5331,  0.5813, -0.5397,  0.4238, -0.4147, -0.4120,  0.4184]]), 'value_net.bias': tensor([0.3645])})\n"
     ]
    }
   ],
   "source": [
    "model_path = 'logs/switching_analysis_1/switch-hard_killer_killer_switch_analysis_PPO/killer/best_model.zip'\n",
    "model_path = 'logs/switching_analysis_1/switch-hard_treasure_treasure_switch_analysis_PPO/treasure/best_model.zip'\n",
    "model_path = 'logs/switching_analysis_1/switch-hard_switch_switch_switch_analysis_PPO/switch/best_model.zip'\n",
    "model_path = 'logs/switching_analysis_new/switch-hard_killer_killer_switch_analysis_killer_PPO/killer/latest_model_260000_steps.zip'\n",
    "\n",
    "\n",
    "model = PPO.load(model_path, device='cpu')\n",
    "print(model.policy.state_dict())"
   ]
  },
  {
   "cell_type": "code",
   "execution_count": 51,
   "metadata": {},
   "outputs": [
    {
     "name": "stdout",
     "output_type": "stream",
     "text": [
      "----------Generating Data----------\n",
      "{'action_type': 'switch', 'action_space_type': 'discrete', 'obs_type': 'distance', 'lvl': 'hard', 'play_style': 'switch', 'reward_scheme': 'switch', 'exp_type': 'switch_analysis', 'learning_algo': 'PPO', 'exp_path': 'switching_analysis/', 'base_path': './play_style_models/base/'}\n",
      "switch-hard_switch_switch_switch_analysis_PPO\n",
      "----------Generating Data----------\n",
      "{'action_type': 'switch', 'action_space_type': 'discrete', 'obs_type': 'distance', 'lvl': 'hard', 'play_style': 'hard', 'reward_scheme': 'hard', 'exp_type': 'switch_analysis', 'learning_algo': 'PPO', 'exp_path': 'switching_analysis/', 'base_path': './play_style_models/base/'}\n",
      "switch-hard_hard_hard_switch_analysis_PPO\n",
      "----------Generating Data----------\n",
      "{'action_type': 'switch', 'action_space_type': 'discrete', 'obs_type': 'distance', 'lvl': 'hard', 'play_style': 'treasure', 'reward_scheme': 'treasure', 'exp_type': 'switch_analysis', 'learning_algo': 'PPO', 'exp_path': 'switching_analysis/', 'base_path': './play_style_models/base/'}\n",
      "switch-hard_treasure_treasure_switch_analysis_PPO\n",
      "----------Generating Data----------\n",
      "{'action_type': 'switch', 'action_space_type': 'discrete', 'obs_type': 'distance', 'lvl': 'hard', 'play_style': 'killer', 'reward_scheme': 'killer', 'exp_type': 'switch_analysis', 'learning_algo': 'PPO', 'exp_path': 'switching_analysis/', 'base_path': './play_style_models/base/'}\n",
      "switch-hard_killer_killer_switch_analysis_PPO\n",
      "----------Generating Data----------\n",
      "{'action_type': 'switch', 'action_space_type': 'discrete', 'obs_type': 'distance', 'lvl': 'hard', 'play_style': 'potion', 'reward_scheme': 'potion', 'exp_type': 'switch_analysis', 'learning_algo': 'PPO', 'exp_path': 'switching_analysis/', 'base_path': './play_style_models/base/'}\n",
      "switch-hard_potion_potion_switch_analysis_PPO\n",
      "----------Generating Data----------\n",
      "{'action_type': 'switch', 'action_space_type': 'discrete', 'obs_type': 'distance', 'lvl': 'hard', 'play_style': 'runner', 'reward_scheme': 'runner', 'exp_type': 'switch_analysis', 'learning_algo': 'PPO', 'exp_path': 'switching_analysis/', 'base_path': './play_style_models/base/'}\n",
      "switch-hard_runner_runner_switch_analysis_PPO\n",
      "killer\n",
      "---------------------Groupshapley for hard-killer-----------------\n",
      "2.8101859092712402\n"
     ]
    },
    {
     "name": "stderr",
     "output_type": "stream",
     "text": [
      "R[write to console]: Note: You passed a model to explain() which is not natively supported, and did not supply a 'get_model_specs' function to explain().\n",
      "Consistency checks between model and data is therefore disabled.\n",
      "\n",
      "\n",
      "R[write to console]: Setting parameter 'n_batches' to 3 as a fair trade-off between memory consumption and computation time.\n",
      "Reducing 'n_batches' typically reduces the computation time at the cost of increased memory consumption.\n",
      "\n",
      "\n"
     ]
    },
    {
     "name": "stdout",
     "output_type": "stream",
     "text": [
      "<rpy2.rinterface.FloatSexpVector object at 0x7f918a3f5cd0> [14]\n",
      "2\n"
     ]
    }
   ],
   "source": [
    "lvl ='hard'\n",
    "lvl_list = ['hard']\n",
    "game_data, df, df_train, df_test, simp_data =gen_analysis_data(lvl_list)\n",
    "configs = gen_config(lvl =lvl,algo =\"PPO\",obs_type=\"distance\", exp_type=\"switch_analysis_killer\",switch_path=\"switching_analysis_new/\",base_path=\"./play_style_models/base/\")\n",
    "config = configs[3]\n",
    "algo =config['learning_algo']\n",
    "path = config['exp_path']\n",
    "#seperate dataframe based on config\n",
    "print(config['play_style'])\n",
    "df_curr = df.loc[(df['level']== lvl) & (df['play_style']== config['play_style'])]\n",
    "print(f\"---------------------Groupshapley for {lvl}-{config['play_style']}-----------------\")\n",
    "# format data\n",
    "df_train, df_test ,simp_data= prep_data(df_curr)#TODO need convert back to dataframe alos check why they are not same type as input shap\n",
    "\n",
    "#create correct model\n",
    "if config['action_type'] == \"switch\":\n",
    "    exp = f\"{config['action_type']}-{lvl}_{config['play_style']}_{config['reward_scheme']}_{config['exp_type']}_{algo}\"\n",
    "    model_path = f\"logs/{path}/{exp}/{config['play_style']}/latest_model_500000_steps.zip\"\n",
    "else:\n",
    "    exp = f\"{lvl}_{config['play_style']}_{config['reward_scheme']}_{config['exp_type']}\"\n",
    "    model_path = f\"logs/{path}/{exp}/best_model/best_model\"\n",
    "\n",
    "if algo ==\"PPO\":\n",
    "    model = PPO.load(model_path, device='cpu')\n",
    "elif config.algo =='DQN':\n",
    "    model = DQN.load(model_path, device='cuda')\n",
    "state_log = np.array(df_curr['curr_obs'].values.tolist())\n",
    "data =torch.FloatTensor(state_log).to('cpu')\n",
    "\n",
    "\n",
    "if config['obs_type']== 'grid':\n",
    "    model = grid_sb3Wrapper(model)\n",
    "elif algo =='PPO':\n",
    "    model = sb3Wrapper(model)\n",
    "elif algo == 'DQN':\n",
    "    model = sb3_DQN_wrapper(model)\n",
    "\n",
    "\n",
    "#tensor\n",
    "dfy_train = df_curr['curr_obs'].apply(lambda x: np.max(model.forward(Variable(torch.from_numpy(x),requires_grad=False).to(float32)).detach().numpy(),keepdims=True))\n",
    "\n",
    "print(dfy_train.mean().item())\n",
    "df_shapley, pred_explain, internal, timing = explain(\n",
    "    model=model,\n",
    "    x_train=df_train,\n",
    "    x_explain=df_train.head(),\n",
    "    approach='independence',\n",
    "    predict_model= lambda m,x: np.max(m(torch.from_numpy(x.to_numpy()).to(float32)).detach().numpy(),keepdims=False,axis=1), #requires model and x as param\n",
    "    prediction_zero=dfy_train.mean().item(),\n",
    ")\n",
    "\n",
    "# make agent model\n",
    "# extract correspoding dataframe\n",
    "# gen groupshap values for that config\n",
    "# add to dataframe"
   ]
  },
  {
   "cell_type": "code",
   "execution_count": 52,
   "metadata": {},
   "outputs": [
    {
     "data": {
      "text/html": [
       "<div>\n",
       "<style scoped>\n",
       "    .dataframe tbody tr th:only-of-type {\n",
       "        vertical-align: middle;\n",
       "    }\n",
       "\n",
       "    .dataframe tbody tr th {\n",
       "        vertical-align: top;\n",
       "    }\n",
       "\n",
       "    .dataframe thead th {\n",
       "        text-align: right;\n",
       "    }\n",
       "</style>\n",
       "<table border=\"1\" class=\"dataframe\">\n",
       "  <thead>\n",
       "    <tr style=\"text-align: right;\">\n",
       "      <th></th>\n",
       "      <th>none</th>\n",
       "      <th>DM</th>\n",
       "      <th>DT</th>\n",
       "      <th>SDT</th>\n",
       "      <th>DP</th>\n",
       "      <th>SDP</th>\n",
       "      <th>DE</th>\n",
       "      <th>SDE</th>\n",
       "      <th>HP</th>\n",
       "    </tr>\n",
       "  </thead>\n",
       "  <tbody>\n",
       "    <tr>\n",
       "      <th>1</th>\n",
       "      <td>2.810186</td>\n",
       "      <td>0.003321</td>\n",
       "      <td>0.000729</td>\n",
       "      <td>0.001564</td>\n",
       "      <td>-0.002194</td>\n",
       "      <td>0.001378</td>\n",
       "      <td>-0.007106</td>\n",
       "      <td>-0.269511</td>\n",
       "      <td>-0.004172</td>\n",
       "    </tr>\n",
       "    <tr>\n",
       "      <th>2</th>\n",
       "      <td>2.810186</td>\n",
       "      <td>0.000602</td>\n",
       "      <td>-0.000510</td>\n",
       "      <td>-0.000835</td>\n",
       "      <td>-0.000982</td>\n",
       "      <td>0.001456</td>\n",
       "      <td>0.001551</td>\n",
       "      <td>0.082965</td>\n",
       "      <td>0.000679</td>\n",
       "    </tr>\n",
       "    <tr>\n",
       "      <th>3</th>\n",
       "      <td>2.810186</td>\n",
       "      <td>0.005503</td>\n",
       "      <td>-0.000269</td>\n",
       "      <td>-0.000333</td>\n",
       "      <td>0.000374</td>\n",
       "      <td>-0.001496</td>\n",
       "      <td>0.000117</td>\n",
       "      <td>0.080891</td>\n",
       "      <td>0.000140</td>\n",
       "    </tr>\n",
       "    <tr>\n",
       "      <th>4</th>\n",
       "      <td>2.810186</td>\n",
       "      <td>-0.000535</td>\n",
       "      <td>-0.000187</td>\n",
       "      <td>-0.000156</td>\n",
       "      <td>-0.000513</td>\n",
       "      <td>0.000519</td>\n",
       "      <td>0.001385</td>\n",
       "      <td>0.083394</td>\n",
       "      <td>0.001019</td>\n",
       "    </tr>\n",
       "    <tr>\n",
       "      <th>5</th>\n",
       "      <td>2.810186</td>\n",
       "      <td>0.002916</td>\n",
       "      <td>-0.000482</td>\n",
       "      <td>-0.000783</td>\n",
       "      <td>-0.000144</td>\n",
       "      <td>-0.000049</td>\n",
       "      <td>0.000975</td>\n",
       "      <td>0.081943</td>\n",
       "      <td>0.000549</td>\n",
       "    </tr>\n",
       "  </tbody>\n",
       "</table>\n",
       "</div>"
      ],
      "text/plain": [
       "       none        DM        DT       SDT        DP       SDP        DE  \\\n",
       "1  2.810186  0.003321  0.000729  0.001564 -0.002194  0.001378 -0.007106   \n",
       "2  2.810186  0.000602 -0.000510 -0.000835 -0.000982  0.001456  0.001551   \n",
       "3  2.810186  0.005503 -0.000269 -0.000333  0.000374 -0.001496  0.000117   \n",
       "4  2.810186 -0.000535 -0.000187 -0.000156 -0.000513  0.000519  0.001385   \n",
       "5  2.810186  0.002916 -0.000482 -0.000783 -0.000144 -0.000049  0.000975   \n",
       "\n",
       "        SDE        HP  \n",
       "1 -0.269511 -0.004172  \n",
       "2  0.082965  0.000679  \n",
       "3  0.080891  0.000140  \n",
       "4  0.083394  0.001019  \n",
       "5  0.081943  0.000549  "
      ]
     },
     "execution_count": 52,
     "metadata": {},
     "output_type": "execute_result"
    }
   ],
   "source": [
    "df_shapley"
   ]
  },
  {
   "cell_type": "code",
   "execution_count": null,
   "metadata": {},
   "outputs": [],
   "source": []
  }
 ],
 "metadata": {
  "kernelspec": {
   "display_name": "groupshap",
   "language": "python",
   "name": "python3"
  },
  "language_info": {
   "codemirror_mode": {
    "name": "ipython",
    "version": 3
   },
   "file_extension": ".py",
   "mimetype": "text/x-python",
   "name": "python",
   "nbconvert_exporter": "python",
   "pygments_lexer": "ipython3",
   "version": "3.12.2"
  }
 },
 "nbformat": 4,
 "nbformat_minor": 2
}
