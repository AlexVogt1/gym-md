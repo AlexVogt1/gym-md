{
 "cells": [
  {
   "cell_type": "code",
   "execution_count": 3,
   "metadata": {},
   "outputs": [],
   "source": [
    "import sklearn\n",
    "from sklearn.model_selection import train_test_split\n",
    "import numpy as np\n",
    "import shap\n",
    "import time"
   ]
  },
  {
   "cell_type": "code",
   "execution_count": 8,
   "metadata": {},
   "outputs": [],
   "source": [
    "df_iris = shap.datasets.iris()\n",
    "df_census = shap.datasets.adult()\n",
    "df_imdb = shap.datasets.imdb()\n",
    "df_cal = shap.datasets.california()\n",
    "df_emotion = shap.datasets."
   ]
  },
  {
   "cell_type": "code",
   "execution_count": 10,
   "metadata": {},
   "outputs": [
    {
     "data": {
      "text/plain": [
       "(        Age  Workclass  Education-Num  Marital Status  Occupation  \\\n",
       " 0      39.0          7           13.0               4           1   \n",
       " 1      50.0          6           13.0               2           4   \n",
       " 2      38.0          4            9.0               0           6   \n",
       " 3      53.0          4            7.0               2           6   \n",
       " 4      28.0          4           13.0               2          10   \n",
       " ...     ...        ...            ...             ...         ...   \n",
       " 32556  27.0          4           12.0               2          13   \n",
       " 32557  40.0          4            9.0               2           7   \n",
       " 32558  58.0          4            9.0               6           1   \n",
       " 32559  22.0          4            9.0               4           1   \n",
       " 32560  52.0          5            9.0               2           4   \n",
       " \n",
       "        Relationship  Race  Sex  Capital Gain  Capital Loss  Hours per week  \\\n",
       " 0                 0     4    1        2174.0           0.0            40.0   \n",
       " 1                 4     4    1           0.0           0.0            13.0   \n",
       " 2                 0     4    1           0.0           0.0            40.0   \n",
       " 3                 4     2    1           0.0           0.0            40.0   \n",
       " 4                 5     2    0           0.0           0.0            40.0   \n",
       " ...             ...   ...  ...           ...           ...             ...   \n",
       " 32556             5     4    0           0.0           0.0            38.0   \n",
       " 32557             4     4    1           0.0           0.0            40.0   \n",
       " 32558             1     4    0           0.0           0.0            40.0   \n",
       " 32559             3     4    1           0.0           0.0            20.0   \n",
       " 32560             5     4    0       15024.0           0.0            40.0   \n",
       " \n",
       "        Country  \n",
       " 0           39  \n",
       " 1           39  \n",
       " 2           39  \n",
       " 3           39  \n",
       " 4            5  \n",
       " ...        ...  \n",
       " 32556       39  \n",
       " 32557       39  \n",
       " 32558       39  \n",
       " 32559       39  \n",
       " 32560       39  \n",
       " \n",
       " [32561 rows x 12 columns],\n",
       " array([False, False, False, ..., False, False,  True]))"
      ]
     },
     "execution_count": 10,
     "metadata": {},
     "output_type": "execute_result"
    }
   ],
   "source": [
    "df_census"
   ]
  },
  {
   "cell_type": "code",
   "execution_count": null,
   "metadata": {},
   "outputs": [],
   "source": []
  }
 ],
 "metadata": {
  "kernelspec": {
   "display_name": "base",
   "language": "python",
   "name": "python3"
  },
  "language_info": {
   "codemirror_mode": {
    "name": "ipython",
    "version": 3
   },
   "file_extension": ".py",
   "mimetype": "text/x-python",
   "name": "python",
   "nbconvert_exporter": "python",
   "pygments_lexer": "ipython3",
   "version": "3.10.9"
  },
  "orig_nbformat": 4
 },
 "nbformat": 4,
 "nbformat_minor": 2
}
