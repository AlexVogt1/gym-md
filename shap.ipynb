{
 "cells": [
  {
   "attachments": {},
   "cell_type": "markdown",
   "metadata": {},
   "source": [
    "## Imports"
   ]
  },
  {
   "cell_type": "code",
   "execution_count": null,
   "metadata": {},
   "outputs": [],
   "source": [
    "import numpy as np\n",
    "import pandas as pd\n",
    "import seaborn as sns\n",
    "import matplotlib.pyplot as plt\n",
    "import matplotlib.image as mpimg\n",
    "import shap\n",
    "import sklearn\n",
    "from sklearn.model_selection import train_test_split\n",
    "from sklearn.neural_network import MLPClassifier, MLPRegressor\n",
    "from keras.models import Sequential, Model\n",
    "from keras.layers import Dense,Activation,Dropout, Flatten, Concatenate, concatenate, Input, Lambda\n",
    "# from keras.layers.embeddings import Embedding\n",
    "from keras.layers.normalization import batch_normalization \n",
    "from keras.utils import np_utils\n",
    "from tqdm import tqdm\n",
    "import ipywidgets as widgets"
   ]
  },
  {
   "attachments": {},
   "cell_type": "markdown",
   "metadata": {},
   "source": [
    "## Util Functions"
   ]
  },
  {
   "cell_type": "code",
   "execution_count": null,
   "metadata": {},
   "outputs": [],
   "source": [
    "# def convert_to_int()\n",
    "\n",
    "def get_reshape(row):\n",
    "    # print(row)\n",
    "    return np.fromstring(row['grid'].replace('\\n','')\n",
    "                                    .replace('[','')\n",
    "                                    .replace(']','')\n",
    "                                    .replace('  ',' '), sep=' ').reshape(row['grid_rows'],row['grid_columns'])\n",
    "\n",
    "def convert_obs(df):\n",
    "    return df['observation'].apply(lambda x: \n",
    "                           np.fromstring(\n",
    "                               x.replace('\\n','')\n",
    "                                .replace('[','')\n",
    "                                .replace(']','')\n",
    "                                .replace('  ',' '), sep=' '))\n",
    "\n",
    "def gen_heatmap(df,f, ax):\n",
    "    df = df.reset_index()\n",
    "    x_array = df['x'].to_numpy()\n",
    "    y_array =df['y'].to_numpy()\n",
    "    grid = np.zeros((df['grid_rows'][0],df['grid_columns'][0]))\n",
    "    for i, j in zip(y_array,x_array):\n",
    "        grid[i,j]+=1\n",
    "    heat =sns.heatmap(grid,cmap='viridis',alpha =0.6,zorder=2,ax=ax)\n",
    "    my_image = mpimg.imread(f)\n",
    "    # plt.imshow(my_image)\n",
    "    plt.title(df['experiment'][0])\n",
    "    ax.heat.imshow(my_image,aspect=heat.get_aspect(),extent= heat.get_xlim() + heat.get_ylim(),zorder=1)\n",
    "    # plt.close()\n",
    "    # return heat\n",
    "\n",
    "def keras_classifier(n_inputs,n_outputs):\n",
    "    model = Sequential()\n",
    "    model.add(Dense(1000, input_dim= n_inputs, activation='relu'))\n",
    "    model.add(Dense(500, activation='relu'))\n",
    "    model.add(Dense(300, activation='relu'))\n",
    "    model.add(Dropout(0.2))\n",
    "    model.add(Dense(n_outputs, activation='softmax'))\n",
    "    model.compile(loss='categorical_crossentropy',optimizer='adam',metrics=['accuracy'])\n",
    "    return model\n",
    "\n"
   ]
  },
  {
   "attachments": {},
   "cell_type": "markdown",
   "metadata": {},
   "source": [
    "## Data Handling"
   ]
  },
  {
   "attachments": {},
   "cell_type": "markdown",
   "metadata": {},
   "source": [
    "### Reading in the data "
   ]
  },
  {
   "cell_type": "code",
   "execution_count": null,
   "metadata": {},
   "outputs": [],
   "source": [
    "df1 = pd.read_csv('./data/data.csv')\n",
    "df = pd.read_csv('./data/data_policy_switching.csv')\n",
    "df.describe()"
   ]
  },
  {
   "attachments": {},
   "cell_type": "markdown",
   "metadata": {},
   "source": [
    "### Data Manipulation\n"
   ]
  },
  {
   "cell_type": "code",
   "execution_count": null,
   "metadata": {},
   "outputs": [],
   "source": [
    "# Modify the grid to be a correct numpy array representing the level\n",
    "df1['grid'] = df1[['grid','grid_rows','grid_columns']].apply(lambda x: get_reshape(x),axis=1)\n",
    "df['grid'] = df[['grid','grid_rows','grid_columns']].apply(lambda x: get_reshape(x),axis=1)\n",
    "\n",
    "# format the observation space into numpy array\n",
    "df1['observation'] = convert_obs(df1)\n",
    "df['observation'] = convert_obs(df)\n",
    "\n",
    "# Shuffle the data \n",
    "df1 = df1.sample(frac=1)\n",
    "df = df.sample(frac=1)\n",
    "df.head()"
   ]
  },
  {
   "cell_type": "code",
   "execution_count": null,
   "metadata": {},
   "outputs": [],
   "source": [
    "# split the observation into seperate columns\n",
    "# observations = [dist_monster, dist_treaure, safe_dist_teasure, dist_potion, safe_dist_potion, dist_exit, safe_dist_exit, HP]\n",
    "obs = ['dist_monster', 'dist_treaure', 'safe_dist_teasure', 'dist_potion', 'safe_dist_potion', 'dist_exit', 'safe_dist_exit', 'HP']\n",
    "\n",
    "df1[obs] = pd.DataFrame(df1['observation'].to_list(), index= df1.index)\n",
    "df[obs] = pd.DataFrame(df['observation'].to_list(), index= df.index)\n",
    "df1.describe()\n"
   ]
  },
  {
   "attachments": {},
   "cell_type": "markdown",
   "metadata": {},
   "source": [
    "## Creating the dataset"
   ]
  },
  {
   "cell_type": "code",
   "execution_count": null,
   "metadata": {},
   "outputs": [],
   "source": [
    "data = df[['dist_monster', 'dist_treaure', 'safe_dist_teasure', 'dist_potion', 'safe_dist_potion', 'dist_exit', 'safe_dist_exit', 'HP', 'action']]\n",
    "data"
   ]
  },
  {
   "cell_type": "code",
   "execution_count": null,
   "metadata": {},
   "outputs": [],
   "source": [
    "# data[obs] = (df[obs]-df[obs].mean())/df[obs].std()\n",
    "y_data = pd.get_dummies(df['action'])\n",
    "print(y_data)"
   ]
  },
  {
   "cell_type": "code",
   "execution_count": null,
   "metadata": {},
   "outputs": [],
   "source": [
    "sns.pairplot(data=data, hue = 'action')"
   ]
  },
  {
   "cell_type": "code",
   "execution_count": null,
   "metadata": {},
   "outputs": [],
   "source": [
    "x_data = data[obs].to_numpy()\n",
    "y_data = data['action']\n",
    "print(y_data)"
   ]
  },
  {
   "attachments": {},
   "cell_type": "markdown",
   "metadata": {},
   "source": [
    "### Split data"
   ]
  },
  {
   "cell_type": "code",
   "execution_count": null,
   "metadata": {},
   "outputs": [],
   "source": [
    "x_train, x_test,y_train, y_test = train_test_split(x_data,y_data,test_size=.2, random_state=42)"
   ]
  },
  {
   "attachments": {},
   "cell_type": "markdown",
   "metadata": {},
   "source": [
    "### create and train model (sklearn logistic regression)"
   ]
  },
  {
   "cell_type": "code",
   "execution_count": null,
   "metadata": {},
   "outputs": [],
   "source": [
    "model_LG = sklearn.linear_model.LogisticRegression(max_iter=100000000, tol=1e-12)\n",
    "model_LG.fit(x_train,y_train)\n",
    "model_LG.score(x_test,y_test)"
   ]
  },
  {
   "cell_type": "code",
   "execution_count": null,
   "metadata": {},
   "outputs": [],
   "source": [
    "# nn = MLPClassifier(solver=\"adam\",alpha=1e-0001,hidden_layer_sizes=(8,8,8),random_state=42, max_iter=10000000000000)\n",
    "# nn.fit(data[obs].values,data['action'].values)\n",
    "# nn.score(x_test,y_test)\n",
    "\n",
    "nn = MLPClassifier(solver=\"adam\",alpha=1e-0001,hidden_layer_sizes=(20,20,20),random_state=42, max_iter=10000000000000)\n",
    "nn.fit(df[obs].values,df['action'].values)\n",
    "nn.score(df[obs].values,df['action'].values)"
   ]
  },
  {
   "cell_type": "code",
   "execution_count": null,
   "metadata": {},
   "outputs": [],
   "source": [
    "nn1 = MLPRegressor(alpha=1e-1, hidden_layer_sizes=(8,8,8), random_state=0, max_iter=1000000000)\n",
    "# nn1.fit(df[obs],y_train)"
   ]
  },
  {
   "cell_type": "code",
   "execution_count": null,
   "metadata": {},
   "outputs": [],
   "source": [
    "explainerKernel = shap.KernelExplainer(nn.predict_proba,data[obs])\n",
    "shap_vals = explainerKernel.shap_values(x_test)\n",
    "# shap.force_plot(explainer.expected_value[0],shap_vals[0],x_test)"
   ]
  },
  {
   "cell_type": "code",
   "execution_count": null,
   "metadata": {},
   "outputs": [],
   "source": [
    "# print the JS visualization code to the notebook\n",
    "shap.initjs()\n",
    "# shap.force_plot(explainer.expected_value[0],shap_vals[0],x_test)\n",
    "shap.summary_plot(shap_vals,feature_names=data[obs].columns, class_names= y_data.columns)"
   ]
  },
  {
   "cell_type": "code",
   "execution_count": null,
   "metadata": {},
   "outputs": [],
   "source": [
    "# Create the list of all labels for the drop down list\n",
    "list_of_labels = y_data.columns.to_list()\n",
    "\n",
    "# Create a list of tuples so that the index of the label is what is returned\n",
    "tuple_of_labels = list(zip(list_of_labels, range(len(list_of_labels))))\n",
    "\n",
    "# Create a widget for the labels and then display the widget\n",
    "current_label = widgets.Dropdown(options=tuple_of_labels,\n",
    "                              value=0,\n",
    "                              description='Select Label:'\n",
    "                              )\n",
    "\n",
    "# Display the dropdown list (Note: access index value with 'current_label.value')\n",
    "current_label"
   ]
  },
  {
   "cell_type": "code",
   "execution_count": null,
   "metadata": {},
   "outputs": [],
   "source": [
    "\n",
    "shap.summary_plot(shap_values = shap_vals[current_label.value],feature_names= data[obs].columns)"
   ]
  },
  {
   "cell_type": "code",
   "execution_count": null,
   "metadata": {},
   "outputs": [],
   "source": [
    "# plot for all 4 classes"
   ]
  },
  {
   "cell_type": "code",
   "execution_count": null,
   "metadata": {},
   "outputs": [],
   "source": [
    "shap.bar_plot(shap_values = shap_vals[current_label.value])"
   ]
  },
  {
   "cell_type": "code",
   "execution_count": null,
   "metadata": {},
   "outputs": [],
   "source": [
    "explainer = shap.Explainer(nn.predict_proba, data[obs])\n",
    "shap_values = explainer(data[obs])"
   ]
  },
  {
   "cell_type": "code",
   "execution_count": null,
   "metadata": {},
   "outputs": [],
   "source": [
    "shap.summary_plot(shap_values[current_label.value])\n"
   ]
  },
  {
   "cell_type": "code",
   "execution_count": null,
   "metadata": {},
   "outputs": [],
   "source": []
  },
  {
   "attachments": {},
   "cell_type": "markdown",
   "metadata": {},
   "source": [
    "## Keras and big dataset"
   ]
  },
  {
   "cell_type": "code",
   "execution_count": null,
   "metadata": {},
   "outputs": [],
   "source": [
    "ldata =['dist_monster', 'dist_treaure', 'safe_dist_teasure', 'dist_potion', 'safe_dist_potion', 'dist_exit', 'safe_dist_exit', 'HP', 'action']\n",
    "data = pd.concat([df[ldata],df1[ldata]], ignore_index=True)\n",
    "data"
   ]
  },
  {
   "cell_type": "code",
   "execution_count": null,
   "metadata": {},
   "outputs": [],
   "source": [
    "x_data = data[obs]\n",
    "y_data = pd.get_dummies(data['action'])\n",
    "y_data.head()\n"
   ]
  },
  {
   "cell_type": "code",
   "execution_count": null,
   "metadata": {},
   "outputs": [],
   "source": [
    "nn = MLPClassifier(solver=\"adam\",alpha=1e-0001,hidden_layer_sizes=(20,20,20),random_state=42, max_iter=10000000000000)\n",
    "nn.fit(data[obs].values,data['action'].values)\n",
    "nn.score(data[obs].values,data['action'].values)"
   ]
  },
  {
   "cell_type": "code",
   "execution_count": null,
   "metadata": {},
   "outputs": [],
   "source": [
    "model = keras_classifier(len(x_data.columns), len(y_data.columns))\n",
    "model.summary()"
   ]
  },
  {
   "cell_type": "code",
   "execution_count": null,
   "metadata": {},
   "outputs": [],
   "source": [
    "model.fit(x_data.values,y_data.values,batch_size=20, epochs= 10, verbose=1)"
   ]
  },
  {
   "cell_type": "code",
   "execution_count": null,
   "metadata": {},
   "outputs": [],
   "source": [
    "def f(X):\n",
    "    return model.predict([X[:,i] for i in range(X.shape[1])])"
   ]
  },
  {
   "cell_type": "code",
   "execution_count": null,
   "metadata": {},
   "outputs": [],
   "source": [
    "Kernel_explainer = shap.KernelExplainer(model.predict, x_data.iloc[:50,:])\n",
    "# deep_explainer = shap.DeepExplainer(model,x_data.iloc[:50,:])\n",
    "exact_explainer = shap.explainers.Exact(model.predict, x_data.iloc[:50,:])\n",
    "explainer = shap.Explainer(model.predict, x_data.iloc[:100,:])\n",
    "# Kernel_explainer = shap.KernelExplainer(nn.predict_proba, x_data.iloc[:50,:])\n",
    "# # deep_explainer = shap.DeepExplainer(model,x_data.iloc[:50,:])\n",
    "# exact_explainer = shap.explainers.Exact(nn.predict_proba, x_data.iloc[:50,:])\n",
    "# explainer = shap.Explainer(nn.predict_proba, x_data.iloc[:100,:])"
   ]
  },
  {
   "cell_type": "code",
   "execution_count": 98,
   "metadata": {},
   "outputs": [
    {
     "data": {
      "application/vnd.jupyter.widget-view+json": {
       "model_id": "d0df2a8f5cd64bd798fcd1b2f72654d2",
       "version_major": 2,
       "version_minor": 0
      },
      "text/plain": [
       "  0%|          | 0/100 [00:00<?, ?it/s]"
      ]
     },
     "metadata": {},
     "output_type": "display_data"
    },
    {
     "name": "stdout",
     "output_type": "stream",
     "text": [
      "1/1 [==============================] - 0s 30ms/step\n",
      "157/157 [==============================] - 1s 3ms/step\n",
      "1/1 [==============================] - 0s 14ms/step\n",
      "157/157 [==============================] - 1s 4ms/step\n",
      "1/1 [==============================] - 0s 15ms/step\n",
      "157/157 [==============================] - 1s 3ms/step\n",
      "1/1 [==============================] - 0s 18ms/step\n",
      "157/157 [==============================] - 1s 3ms/step\n",
      "1/1 [==============================] - 0s 14ms/step\n",
      "157/157 [==============================] - 1s 4ms/step\n",
      "1/1 [==============================] - 0s 14ms/step\n",
      "157/157 [==============================] - 1s 4ms/step\n",
      "1/1 [==============================] - 0s 15ms/step\n",
      "157/157 [==============================] - 1s 4ms/step\n",
      "1/1 [==============================] - 0s 20ms/step\n",
      "157/157 [==============================] - 1s 3ms/step\n",
      "1/1 [==============================] - 0s 17ms/step\n",
      "157/157 [==============================] - 1s 5ms/step\n",
      "1/1 [==============================] - 0s 14ms/step\n",
      "157/157 [==============================] - 1s 4ms/step\n",
      "1/1 [==============================] - 0s 22ms/step\n",
      "157/157 [==============================] - 1s 4ms/step\n",
      "1/1 [==============================] - 0s 14ms/step\n",
      "157/157 [==============================] - 0s 2ms/step\n",
      "1/1 [==============================] - 0s 14ms/step\n",
      "157/157 [==============================] - 1s 4ms/step\n",
      "1/1 [==============================] - 0s 14ms/step\n",
      "157/157 [==============================] - 1s 4ms/step\n",
      "1/1 [==============================] - 0s 15ms/step\n",
      "157/157 [==============================] - 1s 4ms/step\n",
      "1/1 [==============================] - 0s 14ms/step\n",
      "157/157 [==============================] - 1s 4ms/step\n",
      "1/1 [==============================] - 0s 14ms/step\n",
      "157/157 [==============================] - 1s 4ms/step\n",
      "1/1 [==============================] - 0s 22ms/step\n",
      "157/157 [==============================] - 0s 3ms/step\n",
      "1/1 [==============================] - 0s 15ms/step\n",
      "157/157 [==============================] - 1s 4ms/step\n",
      "1/1 [==============================] - 0s 14ms/step\n",
      "157/157 [==============================] - 1s 4ms/step\n",
      "1/1 [==============================] - 0s 15ms/step\n",
      "157/157 [==============================] - 1s 4ms/step\n",
      "1/1 [==============================] - 0s 15ms/step\n",
      "157/157 [==============================] - 1s 4ms/step\n",
      "1/1 [==============================] - 0s 14ms/step\n",
      "157/157 [==============================] - 1s 5ms/step\n",
      "1/1 [==============================] - 0s 14ms/step\n",
      "157/157 [==============================] - 1s 3ms/step\n",
      "1/1 [==============================] - 0s 16ms/step\n",
      "157/157 [==============================] - 1s 3ms/step\n",
      "1/1 [==============================] - 0s 24ms/step\n",
      "157/157 [==============================] - 1s 4ms/step\n",
      "1/1 [==============================] - 0s 16ms/step\n",
      "157/157 [==============================] - 1s 5ms/step\n",
      "1/1 [==============================] - 0s 17ms/step\n",
      "157/157 [==============================] - 1s 3ms/step\n",
      "1/1 [==============================] - 0s 18ms/step\n",
      "157/157 [==============================] - 1s 5ms/step\n",
      "1/1 [==============================] - 0s 19ms/step\n",
      "157/157 [==============================] - 1s 5ms/step\n",
      "1/1 [==============================] - 0s 22ms/step\n",
      "157/157 [==============================] - 1s 4ms/step\n",
      "1/1 [==============================] - 0s 15ms/step\n",
      "157/157 [==============================] - 0s 3ms/step\n",
      "1/1 [==============================] - 0s 14ms/step\n",
      "157/157 [==============================] - 1s 3ms/step\n",
      "1/1 [==============================] - 0s 15ms/step\n",
      "157/157 [==============================] - 1s 5ms/step\n",
      "1/1 [==============================] - 0s 18ms/step\n",
      "157/157 [==============================] - 1s 4ms/step\n",
      "1/1 [==============================] - 0s 20ms/step\n",
      "157/157 [==============================] - 1s 4ms/step\n",
      "1/1 [==============================] - 0s 14ms/step\n",
      "157/157 [==============================] - 1s 4ms/step\n",
      "1/1 [==============================] - 0s 21ms/step\n",
      "157/157 [==============================] - 1s 5ms/step\n",
      "1/1 [==============================] - 0s 16ms/step\n",
      "157/157 [==============================] - 1s 4ms/step\n",
      "1/1 [==============================] - 0s 23ms/step\n",
      "157/157 [==============================] - 1s 5ms/step\n",
      "1/1 [==============================] - 0s 19ms/step\n",
      "157/157 [==============================] - 1s 4ms/step\n",
      "1/1 [==============================] - 0s 26ms/step\n",
      "157/157 [==============================] - 1s 4ms/step\n",
      "1/1 [==============================] - 0s 15ms/step\n",
      "157/157 [==============================] - 1s 5ms/step\n",
      "1/1 [==============================] - 0s 14ms/step\n",
      "157/157 [==============================] - 1s 4ms/step\n",
      "1/1 [==============================] - 0s 17ms/step\n",
      "157/157 [==============================] - 1s 4ms/step\n",
      "1/1 [==============================] - 0s 15ms/step\n",
      "157/157 [==============================] - 1s 5ms/step\n",
      "1/1 [==============================] - 0s 15ms/step\n",
      "157/157 [==============================] - 1s 4ms/step\n",
      "1/1 [==============================] - 0s 14ms/step\n",
      "157/157 [==============================] - 1s 4ms/step\n",
      "1/1 [==============================] - 0s 14ms/step\n",
      "157/157 [==============================] - 1s 5ms/step\n",
      "1/1 [==============================] - 0s 16ms/step\n",
      "157/157 [==============================] - 1s 4ms/step\n",
      "1/1 [==============================] - 0s 14ms/step\n",
      "157/157 [==============================] - 1s 4ms/step\n",
      "1/1 [==============================] - 0s 14ms/step\n",
      "157/157 [==============================] - 1s 4ms/step\n",
      "1/1 [==============================] - 0s 16ms/step\n",
      "157/157 [==============================] - 1s 4ms/step\n",
      "1/1 [==============================] - 0s 16ms/step\n",
      "157/157 [==============================] - 1s 4ms/step\n",
      "1/1 [==============================] - 0s 14ms/step\n",
      "157/157 [==============================] - 1s 4ms/step\n",
      "1/1 [==============================] - 0s 14ms/step\n",
      "157/157 [==============================] - 1s 4ms/step\n",
      "1/1 [==============================] - 0s 22ms/step\n",
      "157/157 [==============================] - 1s 5ms/step\n",
      "1/1 [==============================] - 0s 17ms/step\n",
      "157/157 [==============================] - 1s 4ms/step\n",
      "1/1 [==============================] - 0s 22ms/step\n",
      "157/157 [==============================] - 1s 4ms/step\n",
      "1/1 [==============================] - 0s 14ms/step\n",
      "157/157 [==============================] - 1s 5ms/step\n",
      "1/1 [==============================] - 0s 18ms/step\n",
      "157/157 [==============================] - 1s 4ms/step\n",
      "1/1 [==============================] - 0s 22ms/step\n",
      "157/157 [==============================] - 1s 4ms/step\n",
      "1/1 [==============================] - 0s 14ms/step\n",
      "157/157 [==============================] - 1s 4ms/step\n",
      "1/1 [==============================] - 0s 14ms/step\n",
      "157/157 [==============================] - 1s 4ms/step\n",
      "1/1 [==============================] - 0s 14ms/step\n",
      "157/157 [==============================] - 1s 4ms/step\n",
      "1/1 [==============================] - 0s 13ms/step\n",
      "157/157 [==============================] - 1s 5ms/step\n",
      "1/1 [==============================] - 0s 29ms/step\n",
      "157/157 [==============================] - 1s 4ms/step\n",
      "1/1 [==============================] - 0s 15ms/step\n",
      "157/157 [==============================] - 1s 4ms/step\n",
      "1/1 [==============================] - 0s 23ms/step\n",
      "157/157 [==============================] - 1s 3ms/step\n",
      "1/1 [==============================] - 0s 14ms/step\n",
      "157/157 [==============================] - 1s 4ms/step\n",
      "1/1 [==============================] - 0s 21ms/step\n",
      "157/157 [==============================] - 1s 5ms/step\n",
      "1/1 [==============================] - 0s 22ms/step\n",
      "157/157 [==============================] - 1s 4ms/step\n",
      "1/1 [==============================] - 0s 14ms/step\n",
      "157/157 [==============================] - 1s 4ms/step\n",
      "1/1 [==============================] - 0s 14ms/step\n",
      "157/157 [==============================] - 1s 3ms/step\n",
      "1/1 [==============================] - 0s 19ms/step\n",
      "157/157 [==============================] - 1s 5ms/step\n",
      "1/1 [==============================] - 0s 20ms/step\n",
      "157/157 [==============================] - 1s 4ms/step\n",
      "1/1 [==============================] - 0s 20ms/step\n",
      "157/157 [==============================] - 1s 4ms/step\n",
      "1/1 [==============================] - 0s 15ms/step\n",
      "157/157 [==============================] - 1s 5ms/step\n",
      "1/1 [==============================] - 0s 17ms/step\n",
      "157/157 [==============================] - 1s 4ms/step\n",
      "1/1 [==============================] - 0s 13ms/step\n",
      "157/157 [==============================] - 1s 4ms/step\n",
      "1/1 [==============================] - 0s 15ms/step\n",
      "157/157 [==============================] - 1s 4ms/step\n",
      "1/1 [==============================] - 0s 15ms/step\n",
      "157/157 [==============================] - 1s 5ms/step\n",
      "1/1 [==============================] - 0s 15ms/step\n",
      "157/157 [==============================] - 1s 5ms/step\n",
      "1/1 [==============================] - 0s 15ms/step\n",
      "157/157 [==============================] - 1s 4ms/step\n",
      "1/1 [==============================] - 0s 17ms/step\n",
      "157/157 [==============================] - 1s 5ms/step\n",
      "1/1 [==============================] - 0s 14ms/step\n",
      "157/157 [==============================] - 1s 4ms/step\n",
      "1/1 [==============================] - 0s 28ms/step\n",
      "157/157 [==============================] - 1s 4ms/step\n",
      "1/1 [==============================] - 0s 16ms/step\n",
      "157/157 [==============================] - 1s 5ms/step\n",
      "1/1 [==============================] - 0s 14ms/step\n",
      "157/157 [==============================] - 1s 4ms/step\n",
      "1/1 [==============================] - 0s 20ms/step\n",
      "157/157 [==============================] - 1s 4ms/step\n",
      "1/1 [==============================] - 0s 15ms/step\n",
      "157/157 [==============================] - 1s 5ms/step\n",
      "1/1 [==============================] - 0s 15ms/step\n",
      "157/157 [==============================] - 1s 4ms/step\n",
      "1/1 [==============================] - 0s 15ms/step\n",
      "157/157 [==============================] - 1s 5ms/step\n",
      "1/1 [==============================] - 0s 18ms/step\n",
      "157/157 [==============================] - 1s 4ms/step\n",
      "1/1 [==============================] - 0s 16ms/step\n",
      "157/157 [==============================] - 1s 4ms/step\n",
      "1/1 [==============================] - 0s 13ms/step\n",
      "157/157 [==============================] - 1s 3ms/step\n",
      "1/1 [==============================] - 0s 13ms/step\n",
      "157/157 [==============================] - 1s 4ms/step\n",
      "1/1 [==============================] - 0s 18ms/step\n",
      "157/157 [==============================] - 1s 3ms/step\n",
      "1/1 [==============================] - 0s 20ms/step\n",
      "157/157 [==============================] - 1s 4ms/step\n",
      "1/1 [==============================] - 0s 22ms/step\n",
      "157/157 [==============================] - 1s 4ms/step\n",
      "441/441 [==============================] - 2s 4ms/step\n",
      "441/441 [==============================] - 2s 4ms/step\n",
      "27/27 [==============================] - 0s 3ms/step\n",
      "428/428 [==============================] - 2s 4ms/step\n",
      "27/27 [==============================] - 0s 4ms/step\n",
      "438/438 [==============================] - 2s 4ms/step\n",
      "28/28 [==============================] - 0s 4ms/step\n",
      "427/427 [==============================] - 3s 6ms/step\n",
      "26/26 [==============================] - 0s 10ms/step\n"
     ]
    },
    {
     "name": "stderr",
     "output_type": "stream",
     "text": [
      "Exact explainer:   5%|▌         | 5/100 [00:00<?, ?it/s]"
     ]
    },
    {
     "name": "stdout",
     "output_type": "stream",
     "text": [
      "432/432 [==============================] - 2s 5ms/step\n",
      "27/27 [==============================] - 0s 5ms/step\n"
     ]
    },
    {
     "name": "stderr",
     "output_type": "stream",
     "text": [
      "Exact explainer:   7%|▋         | 7/100 [00:15<02:17,  1.48s/it]"
     ]
    },
    {
     "name": "stdout",
     "output_type": "stream",
     "text": [
      "775/775 [==============================] - 4s 5ms/step\n",
      "28/28 [==============================] - 0s 5ms/step\n"
     ]
    },
    {
     "name": "stderr",
     "output_type": "stream",
     "text": [
      "Exact explainer:   8%|▊         | 8/100 [00:19<04:00,  2.61s/it]"
     ]
    },
    {
     "name": "stdout",
     "output_type": "stream",
     "text": [
      "409/409 [==============================] - 2s 4ms/step\n",
      "26/26 [==============================] - 0s 4ms/step\n"
     ]
    },
    {
     "name": "stderr",
     "output_type": "stream",
     "text": [
      "Exact explainer:   9%|▉         | 9/100 [00:22<03:39,  2.41s/it]"
     ]
    },
    {
     "name": "stdout",
     "output_type": "stream",
     "text": [
      "427/427 [==============================] - 2s 3ms/step\n",
      "26/26 [==============================] - 0s 4ms/step\n"
     ]
    },
    {
     "name": "stderr",
     "output_type": "stream",
     "text": [
      "Exact explainer:  10%|█         | 10/100 [00:24<03:24,  2.27s/it]"
     ]
    },
    {
     "name": "stdout",
     "output_type": "stream",
     "text": [
      "766/766 [==============================] - 3s 3ms/step\n",
      "28/28 [==============================] - 0s 3ms/step\n"
     ]
    },
    {
     "name": "stderr",
     "output_type": "stream",
     "text": [
      "Exact explainer:  11%|█         | 11/100 [00:27<03:48,  2.56s/it]"
     ]
    },
    {
     "name": "stdout",
     "output_type": "stream",
     "text": [
      "428/428 [==============================] - 2s 4ms/step\n",
      "27/27 [==============================] - 0s 4ms/step\n"
     ]
    },
    {
     "name": "stderr",
     "output_type": "stream",
     "text": [
      "Exact explainer:  12%|█▏        | 12/100 [00:29<03:38,  2.49s/it]"
     ]
    },
    {
     "name": "stdout",
     "output_type": "stream",
     "text": [
      "428/428 [==============================] - 2s 4ms/step\n",
      "27/27 [==============================] - 0s 4ms/step\n"
     ]
    },
    {
     "name": "stderr",
     "output_type": "stream",
     "text": [
      "Exact explainer:  13%|█▎        | 13/100 [00:31<03:26,  2.38s/it]"
     ]
    },
    {
     "name": "stdout",
     "output_type": "stream",
     "text": [
      "425/425 [==============================] - 1s 3ms/step\n",
      "26/26 [==============================] - 0s 2ms/step\n"
     ]
    },
    {
     "name": "stderr",
     "output_type": "stream",
     "text": [
      "Exact explainer:  14%|█▍        | 14/100 [00:33<03:12,  2.23s/it]"
     ]
    },
    {
     "name": "stdout",
     "output_type": "stream",
     "text": [
      "772/772 [==============================] - 3s 4ms/step\n",
      "28/28 [==============================] - 0s 4ms/step\n"
     ]
    },
    {
     "name": "stderr",
     "output_type": "stream",
     "text": [
      "Exact explainer:  15%|█▌        | 15/100 [00:37<03:44,  2.65s/it]"
     ]
    },
    {
     "name": "stdout",
     "output_type": "stream",
     "text": [
      "763/763 [==============================] - 3s 4ms/step\n",
      "28/28 [==============================] - 0s 4ms/step\n"
     ]
    },
    {
     "name": "stderr",
     "output_type": "stream",
     "text": [
      "Exact explainer:  16%|█▌        | 16/100 [00:40<03:59,  2.85s/it]"
     ]
    },
    {
     "name": "stdout",
     "output_type": "stream",
     "text": [
      "432/432 [==============================] - 2s 4ms/step\n",
      "27/27 [==============================] - 0s 5ms/step\n"
     ]
    },
    {
     "name": "stderr",
     "output_type": "stream",
     "text": [
      "Exact explainer:  17%|█▋        | 17/100 [00:42<03:42,  2.68s/it]"
     ]
    },
    {
     "name": "stdout",
     "output_type": "stream",
     "text": [
      "432/432 [==============================] - 2s 4ms/step\n",
      "27/27 [==============================] - 0s 5ms/step\n"
     ]
    },
    {
     "name": "stderr",
     "output_type": "stream",
     "text": [
      "Exact explainer:  18%|█▊        | 18/100 [00:44<03:22,  2.47s/it]"
     ]
    },
    {
     "name": "stdout",
     "output_type": "stream",
     "text": [
      "437/437 [==============================] - 2s 4ms/step\n",
      "28/28 [==============================] - 0s 5ms/step\n"
     ]
    },
    {
     "name": "stderr",
     "output_type": "stream",
     "text": [
      "Exact explainer:  19%|█▉        | 19/100 [00:47<03:16,  2.43s/it]"
     ]
    },
    {
     "name": "stdout",
     "output_type": "stream",
     "text": [
      "416/416 [==============================] - 2s 4ms/step\n",
      "26/26 [==============================] - 0s 3ms/step\n"
     ]
    },
    {
     "name": "stderr",
     "output_type": "stream",
     "text": [
      "Exact explainer:  20%|██        | 20/100 [00:49<03:04,  2.30s/it]"
     ]
    },
    {
     "name": "stdout",
     "output_type": "stream",
     "text": [
      "446/446 [==============================] - 2s 4ms/step\n",
      "28/28 [==============================] - 0s 5ms/step\n"
     ]
    },
    {
     "name": "stderr",
     "output_type": "stream",
     "text": [
      "Exact explainer:  21%|██        | 21/100 [00:51<02:59,  2.27s/it]"
     ]
    },
    {
     "name": "stdout",
     "output_type": "stream",
     "text": [
      "444/444 [==============================] - 2s 4ms/step\n",
      "28/28 [==============================] - 0s 3ms/step\n"
     ]
    },
    {
     "name": "stderr",
     "output_type": "stream",
     "text": [
      "Exact explainer:  22%|██▏       | 22/100 [00:53<02:58,  2.29s/it]"
     ]
    },
    {
     "name": "stdout",
     "output_type": "stream",
     "text": [
      "429/429 [==============================] - 2s 4ms/step\n",
      "27/27 [==============================] - 0s 4ms/step\n"
     ]
    },
    {
     "name": "stderr",
     "output_type": "stream",
     "text": [
      "Exact explainer:  23%|██▎       | 23/100 [00:55<02:52,  2.24s/it]"
     ]
    },
    {
     "name": "stdout",
     "output_type": "stream",
     "text": [
      "763/763 [==============================] - 3s 4ms/step\n",
      "28/28 [==============================] - 0s 5ms/step\n"
     ]
    },
    {
     "name": "stderr",
     "output_type": "stream",
     "text": [
      "Exact explainer:  24%|██▍       | 24/100 [00:59<03:15,  2.58s/it]"
     ]
    },
    {
     "name": "stdout",
     "output_type": "stream",
     "text": [
      "425/425 [==============================] - 2s 4ms/step\n",
      "26/26 [==============================] - 0s 4ms/step\n"
     ]
    },
    {
     "name": "stderr",
     "output_type": "stream",
     "text": [
      "Exact explainer:  25%|██▌       | 25/100 [01:01<03:01,  2.42s/it]"
     ]
    },
    {
     "name": "stdout",
     "output_type": "stream",
     "text": [
      "425/425 [==============================] - 2s 5ms/step\n",
      "26/26 [==============================] - 0s 4ms/step\n"
     ]
    },
    {
     "name": "stderr",
     "output_type": "stream",
     "text": [
      "Exact explainer:  26%|██▌       | 26/100 [01:04<03:10,  2.58s/it]"
     ]
    },
    {
     "name": "stdout",
     "output_type": "stream",
     "text": [
      "434/434 [==============================] - 1s 3ms/step\n",
      "27/27 [==============================] - 0s 4ms/step\n"
     ]
    },
    {
     "name": "stderr",
     "output_type": "stream",
     "text": [
      "Exact explainer:  27%|██▋       | 27/100 [01:06<02:54,  2.40s/it]"
     ]
    },
    {
     "name": "stdout",
     "output_type": "stream",
     "text": [
      "441/441 [==============================] - 2s 4ms/step\n",
      "27/27 [==============================] - 0s 6ms/step\n"
     ]
    },
    {
     "name": "stderr",
     "output_type": "stream",
     "text": [
      "Exact explainer:  28%|██▊       | 28/100 [01:08<02:49,  2.35s/it]"
     ]
    },
    {
     "name": "stdout",
     "output_type": "stream",
     "text": [
      "416/416 [==============================] - 2s 5ms/step\n",
      "26/26 [==============================] - 0s 5ms/step\n"
     ]
    },
    {
     "name": "stderr",
     "output_type": "stream",
     "text": [
      "Exact explainer:  29%|██▉       | 29/100 [01:11<02:59,  2.52s/it]"
     ]
    },
    {
     "name": "stdout",
     "output_type": "stream",
     "text": [
      "437/437 [==============================] - 2s 4ms/step\n",
      "27/27 [==============================] - 0s 4ms/step\n"
     ]
    },
    {
     "name": "stderr",
     "output_type": "stream",
     "text": [
      "Exact explainer:  30%|███       | 30/100 [01:13<02:49,  2.42s/it]"
     ]
    },
    {
     "name": "stdout",
     "output_type": "stream",
     "text": [
      "437/437 [==============================] - 2s 4ms/step\n",
      "27/27 [==============================] - 0s 6ms/step\n"
     ]
    },
    {
     "name": "stderr",
     "output_type": "stream",
     "text": [
      "Exact explainer:  31%|███       | 31/100 [01:15<02:45,  2.40s/it]"
     ]
    },
    {
     "name": "stdout",
     "output_type": "stream",
     "text": [
      "445/445 [==============================] - 2s 4ms/step\n",
      "27/27 [==============================] - 0s 5ms/step\n"
     ]
    },
    {
     "name": "stderr",
     "output_type": "stream",
     "text": [
      "Exact explainer:  32%|███▏      | 32/100 [01:18<02:42,  2.39s/it]"
     ]
    },
    {
     "name": "stdout",
     "output_type": "stream",
     "text": [
      "427/427 [==============================] - 1s 3ms/step\n",
      "26/26 [==============================] - 0s 6ms/step\n"
     ]
    },
    {
     "name": "stderr",
     "output_type": "stream",
     "text": [
      "Exact explainer:  33%|███▎      | 33/100 [01:21<02:51,  2.55s/it]"
     ]
    },
    {
     "name": "stdout",
     "output_type": "stream",
     "text": [
      "438/438 [==============================] - 2s 4ms/step\n",
      "28/28 [==============================] - 0s 4ms/step\n"
     ]
    },
    {
     "name": "stderr",
     "output_type": "stream",
     "text": [
      "Exact explainer:  34%|███▍      | 34/100 [01:23<02:43,  2.47s/it]"
     ]
    },
    {
     "name": "stdout",
     "output_type": "stream",
     "text": [
      "437/437 [==============================] - 2s 4ms/step\n",
      "28/28 [==============================] - 0s 5ms/step\n"
     ]
    },
    {
     "name": "stderr",
     "output_type": "stream",
     "text": [
      "Exact explainer:  35%|███▌      | 35/100 [01:25<02:37,  2.42s/it]"
     ]
    },
    {
     "name": "stdout",
     "output_type": "stream",
     "text": [
      "441/441 [==============================] - 2s 4ms/step\n",
      "27/27 [==============================] - 0s 4ms/step\n"
     ]
    },
    {
     "name": "stderr",
     "output_type": "stream",
     "text": [
      "Exact explainer:  36%|███▌      | 36/100 [01:27<02:31,  2.36s/it]"
     ]
    },
    {
     "name": "stdout",
     "output_type": "stream",
     "text": [
      "437/437 [==============================] - 2s 4ms/step\n",
      "28/28 [==============================] - 0s 2ms/step\n"
     ]
    },
    {
     "name": "stderr",
     "output_type": "stream",
     "text": [
      "Exact explainer:  37%|███▋      | 37/100 [01:30<02:28,  2.36s/it]"
     ]
    },
    {
     "name": "stdout",
     "output_type": "stream",
     "text": [
      "425/425 [==============================] - 1s 3ms/step\n",
      "26/26 [==============================] - 0s 3ms/step\n"
     ]
    },
    {
     "name": "stderr",
     "output_type": "stream",
     "text": [
      "Exact explainer:  38%|███▊      | 38/100 [01:32<02:16,  2.20s/it]"
     ]
    },
    {
     "name": "stdout",
     "output_type": "stream",
     "text": [
      "425/425 [==============================] - 2s 4ms/step\n",
      "26/26 [==============================] - 0s 4ms/step\n"
     ]
    },
    {
     "name": "stderr",
     "output_type": "stream",
     "text": [
      "Exact explainer:  39%|███▉      | 39/100 [01:34<02:12,  2.17s/it]"
     ]
    },
    {
     "name": "stdout",
     "output_type": "stream",
     "text": [
      "770/770 [==============================] - 3s 4ms/step\n",
      "28/28 [==============================] - 0s 3ms/step\n"
     ]
    },
    {
     "name": "stderr",
     "output_type": "stream",
     "text": [
      "Exact explainer:  40%|████      | 40/100 [01:37<02:33,  2.56s/it]"
     ]
    },
    {
     "name": "stdout",
     "output_type": "stream",
     "text": [
      "419/419 [==============================] - 2s 4ms/step\n",
      "26/26 [==============================] - 0s 7ms/step\n"
     ]
    },
    {
     "name": "stderr",
     "output_type": "stream",
     "text": [
      "Exact explainer:  41%|████      | 41/100 [01:40<02:28,  2.51s/it]"
     ]
    },
    {
     "name": "stdout",
     "output_type": "stream",
     "text": [
      "449/449 [==============================] - 2s 4ms/step\n",
      "28/28 [==============================] - 0s 6ms/step\n"
     ]
    },
    {
     "name": "stderr",
     "output_type": "stream",
     "text": [
      "Exact explainer:  42%|████▏     | 42/100 [01:42<02:22,  2.46s/it]"
     ]
    },
    {
     "name": "stdout",
     "output_type": "stream",
     "text": [
      "427/427 [==============================] - 2s 4ms/step\n",
      "27/27 [==============================] - 0s 5ms/step\n"
     ]
    },
    {
     "name": "stderr",
     "output_type": "stream",
     "text": [
      "Exact explainer:  43%|████▎     | 43/100 [01:44<02:17,  2.42s/it]"
     ]
    },
    {
     "name": "stdout",
     "output_type": "stream",
     "text": [
      "409/409 [==============================] - 2s 4ms/step\n",
      "26/26 [==============================] - 0s 6ms/step\n"
     ]
    },
    {
     "name": "stderr",
     "output_type": "stream",
     "text": [
      "Exact explainer:  44%|████▍     | 44/100 [01:46<02:12,  2.37s/it]"
     ]
    },
    {
     "name": "stdout",
     "output_type": "stream",
     "text": [
      "438/438 [==============================] - 2s 4ms/step\n",
      "28/28 [==============================] - 0s 3ms/step\n"
     ]
    },
    {
     "name": "stderr",
     "output_type": "stream",
     "text": [
      "Exact explainer:  45%|████▌     | 45/100 [01:48<02:03,  2.25s/it]"
     ]
    },
    {
     "name": "stdout",
     "output_type": "stream",
     "text": [
      "427/427 [==============================] - 2s 4ms/step\n",
      "26/26 [==============================] - 0s 4ms/step\n"
     ]
    },
    {
     "name": "stderr",
     "output_type": "stream",
     "text": [
      "Exact explainer:  46%|████▌     | 46/100 [01:51<01:59,  2.21s/it]"
     ]
    },
    {
     "name": "stdout",
     "output_type": "stream",
     "text": [
      "432/432 [==============================] - 2s 4ms/step\n",
      "26/26 [==============================] - 0s 4ms/step\n"
     ]
    },
    {
     "name": "stderr",
     "output_type": "stream",
     "text": [
      "Exact explainer:  47%|████▋     | 47/100 [01:53<01:59,  2.25s/it]"
     ]
    },
    {
     "name": "stdout",
     "output_type": "stream",
     "text": [
      "431/431 [==============================] - 2s 4ms/step\n",
      "26/26 [==============================] - 0s 4ms/step\n"
     ]
    },
    {
     "name": "stderr",
     "output_type": "stream",
     "text": [
      "Exact explainer:  48%|████▊     | 48/100 [01:55<01:57,  2.27s/it]"
     ]
    },
    {
     "name": "stdout",
     "output_type": "stream",
     "text": [
      "433/433 [==============================] - 2s 5ms/step\n",
      "27/27 [==============================] - 0s 6ms/step\n"
     ]
    },
    {
     "name": "stderr",
     "output_type": "stream",
     "text": [
      "Exact explainer:  49%|████▉     | 49/100 [01:58<02:07,  2.50s/it]"
     ]
    },
    {
     "name": "stdout",
     "output_type": "stream",
     "text": [
      "447/447 [==============================] - 2s 4ms/step\n",
      "28/28 [==============================] - 0s 4ms/step\n"
     ]
    },
    {
     "name": "stderr",
     "output_type": "stream",
     "text": [
      "Exact explainer:  50%|█████     | 50/100 [02:01<02:02,  2.45s/it]"
     ]
    },
    {
     "name": "stdout",
     "output_type": "stream",
     "text": [
      "761/761 [==============================] - 3s 4ms/step\n",
      "28/28 [==============================] - 0s 5ms/step\n"
     ]
    },
    {
     "name": "stderr",
     "output_type": "stream",
     "text": [
      "Exact explainer:  51%|█████     | 51/100 [02:04<02:19,  2.85s/it]"
     ]
    },
    {
     "name": "stdout",
     "output_type": "stream",
     "text": [
      "440/440 [==============================] - 2s 3ms/step\n",
      "28/28 [==============================] - 0s 6ms/step\n"
     ]
    },
    {
     "name": "stderr",
     "output_type": "stream",
     "text": [
      "Exact explainer:  52%|█████▏    | 52/100 [02:06<02:06,  2.63s/it]"
     ]
    },
    {
     "name": "stdout",
     "output_type": "stream",
     "text": [
      "416/416 [==============================] - 2s 4ms/step\n",
      "26/26 [==============================] - 0s 3ms/step\n"
     ]
    },
    {
     "name": "stderr",
     "output_type": "stream",
     "text": [
      "Exact explainer:  53%|█████▎    | 53/100 [02:09<01:58,  2.51s/it]"
     ]
    },
    {
     "name": "stdout",
     "output_type": "stream",
     "text": [
      "441/441 [==============================] - 2s 4ms/step\n",
      "28/28 [==============================] - 0s 5ms/step\n"
     ]
    },
    {
     "name": "stderr",
     "output_type": "stream",
     "text": [
      "Exact explainer:  54%|█████▍    | 54/100 [02:11<01:58,  2.57s/it]"
     ]
    },
    {
     "name": "stdout",
     "output_type": "stream",
     "text": [
      "419/419 [==============================] - 2s 4ms/step\n",
      "26/26 [==============================] - 0s 6ms/step\n"
     ]
    },
    {
     "name": "stderr",
     "output_type": "stream",
     "text": [
      "Exact explainer:  55%|█████▌    | 55/100 [02:14<01:50,  2.46s/it]"
     ]
    },
    {
     "name": "stdout",
     "output_type": "stream",
     "text": [
      "437/437 [==============================] - 2s 4ms/step\n",
      "27/27 [==============================] - 0s 5ms/step\n"
     ]
    },
    {
     "name": "stderr",
     "output_type": "stream",
     "text": [
      "Exact explainer:  56%|█████▌    | 56/100 [02:16<01:45,  2.39s/it]"
     ]
    },
    {
     "name": "stdout",
     "output_type": "stream",
     "text": [
      "433/433 [==============================] - 2s 4ms/step\n",
      "27/27 [==============================] - 0s 8ms/step\n"
     ]
    },
    {
     "name": "stderr",
     "output_type": "stream",
     "text": [
      "Exact explainer:  57%|█████▋    | 57/100 [02:18<01:41,  2.36s/it]"
     ]
    },
    {
     "name": "stdout",
     "output_type": "stream",
     "text": [
      "409/409 [==============================] - 2s 4ms/step\n",
      "26/26 [==============================] - 0s 4ms/step\n"
     ]
    },
    {
     "name": "stderr",
     "output_type": "stream",
     "text": [
      "Exact explainer:  58%|█████▊    | 58/100 [02:20<01:36,  2.31s/it]"
     ]
    },
    {
     "name": "stdout",
     "output_type": "stream",
     "text": [
      "416/416 [==============================] - 2s 4ms/step\n",
      "26/26 [==============================] - 0s 5ms/step\n"
     ]
    },
    {
     "name": "stderr",
     "output_type": "stream",
     "text": [
      "Exact explainer:  59%|█████▉    | 59/100 [02:23<01:34,  2.30s/it]"
     ]
    },
    {
     "name": "stdout",
     "output_type": "stream",
     "text": [
      "758/758 [==============================] - 3s 4ms/step\n",
      "27/27 [==============================] - 0s 4ms/step\n"
     ]
    },
    {
     "name": "stderr",
     "output_type": "stream",
     "text": [
      "Exact explainer:  60%|██████    | 60/100 [02:26<01:46,  2.67s/it]"
     ]
    },
    {
     "name": "stdout",
     "output_type": "stream",
     "text": [
      "430/430 [==============================] - 2s 4ms/step\n",
      "27/27 [==============================] - 0s 5ms/step\n"
     ]
    },
    {
     "name": "stderr",
     "output_type": "stream",
     "text": [
      "Exact explainer:  61%|██████    | 61/100 [02:28<01:40,  2.58s/it]"
     ]
    },
    {
     "name": "stdout",
     "output_type": "stream",
     "text": [
      "430/430 [==============================] - 2s 4ms/step\n",
      "27/27 [==============================] - 0s 5ms/step\n"
     ]
    },
    {
     "name": "stderr",
     "output_type": "stream",
     "text": [
      "Exact explainer:  62%|██████▏   | 62/100 [02:31<01:36,  2.53s/it]"
     ]
    },
    {
     "name": "stdout",
     "output_type": "stream",
     "text": [
      "443/443 [==============================] - 2s 4ms/step\n",
      "27/27 [==============================] - 0s 5ms/step\n"
     ]
    },
    {
     "name": "stderr",
     "output_type": "stream",
     "text": [
      "Exact explainer:  63%|██████▎   | 63/100 [02:33<01:30,  2.45s/it]"
     ]
    },
    {
     "name": "stdout",
     "output_type": "stream",
     "text": [
      "429/429 [==============================] - 2s 4ms/step\n",
      "27/27 [==============================] - 0s 5ms/step\n"
     ]
    },
    {
     "name": "stderr",
     "output_type": "stream",
     "text": [
      "Exact explainer:  64%|██████▍   | 64/100 [02:35<01:26,  2.39s/it]"
     ]
    },
    {
     "name": "stdout",
     "output_type": "stream",
     "text": [
      "770/770 [==============================] - 3s 4ms/step\n",
      "28/28 [==============================] - 0s 4ms/step\n"
     ]
    },
    {
     "name": "stderr",
     "output_type": "stream",
     "text": [
      "Exact explainer:  65%|██████▌   | 65/100 [02:39<01:33,  2.67s/it]"
     ]
    },
    {
     "name": "stdout",
     "output_type": "stream",
     "text": [
      "437/437 [==============================] - 2s 4ms/step\n",
      "28/28 [==============================] - 0s 4ms/step\n"
     ]
    },
    {
     "name": "stderr",
     "output_type": "stream",
     "text": [
      "Exact explainer:  66%|██████▌   | 66/100 [02:41<01:24,  2.50s/it]"
     ]
    },
    {
     "name": "stdout",
     "output_type": "stream",
     "text": [
      "416/416 [==============================] - 2s 4ms/step\n",
      "26/26 [==============================] - 0s 6ms/step\n"
     ]
    },
    {
     "name": "stderr",
     "output_type": "stream",
     "text": [
      "Exact explainer:  67%|██████▋   | 67/100 [02:43<01:23,  2.53s/it]"
     ]
    },
    {
     "name": "stdout",
     "output_type": "stream",
     "text": [
      "438/438 [==============================] - 2s 4ms/step\n",
      "28/28 [==============================] - 0s 4ms/step\n"
     ]
    },
    {
     "name": "stderr",
     "output_type": "stream",
     "text": [
      "Exact explainer:  68%|██████▊   | 68/100 [02:46<01:18,  2.44s/it]"
     ]
    },
    {
     "name": "stdout",
     "output_type": "stream",
     "text": [
      "766/766 [==============================] - 3s 4ms/step\n",
      "28/28 [==============================] - 0s 5ms/step\n"
     ]
    },
    {
     "name": "stderr",
     "output_type": "stream",
     "text": [
      "Exact explainer:  69%|██████▉   | 69/100 [02:49<01:25,  2.75s/it]"
     ]
    },
    {
     "name": "stdout",
     "output_type": "stream",
     "text": [
      "437/437 [==============================] - 2s 4ms/step\n",
      "28/28 [==============================] - 0s 5ms/step\n"
     ]
    },
    {
     "name": "stderr",
     "output_type": "stream",
     "text": [
      "Exact explainer:  70%|███████   | 70/100 [02:52<01:20,  2.67s/it]"
     ]
    },
    {
     "name": "stdout",
     "output_type": "stream",
     "text": [
      "431/431 [==============================] - 2s 4ms/step\n",
      "26/26 [==============================] - 0s 4ms/step\n"
     ]
    },
    {
     "name": "stderr",
     "output_type": "stream",
     "text": [
      "Exact explainer:  71%|███████   | 71/100 [02:55<01:19,  2.73s/it]"
     ]
    },
    {
     "name": "stdout",
     "output_type": "stream",
     "text": [
      "447/447 [==============================] - 2s 4ms/step\n",
      "28/28 [==============================] - 0s 5ms/step\n"
     ]
    },
    {
     "name": "stderr",
     "output_type": "stream",
     "text": [
      "Exact explainer:  72%|███████▏  | 72/100 [02:57<01:12,  2.58s/it]"
     ]
    },
    {
     "name": "stdout",
     "output_type": "stream",
     "text": [
      "427/427 [==============================] - 1s 3ms/step\n",
      "27/27 [==============================] - 0s 4ms/step\n"
     ]
    },
    {
     "name": "stderr",
     "output_type": "stream",
     "text": [
      "Exact explainer:  73%|███████▎  | 73/100 [02:59<01:04,  2.39s/it]"
     ]
    },
    {
     "name": "stdout",
     "output_type": "stream",
     "text": [
      "409/409 [==============================] - 1s 3ms/step\n",
      "26/26 [==============================] - 0s 7ms/step\n"
     ]
    },
    {
     "name": "stderr",
     "output_type": "stream",
     "text": [
      "Exact explainer:  74%|███████▍  | 74/100 [03:02<01:07,  2.60s/it]"
     ]
    },
    {
     "name": "stdout",
     "output_type": "stream",
     "text": [
      "433/433 [==============================] - 1s 3ms/step\n",
      "27/27 [==============================] - 0s 6ms/step\n"
     ]
    },
    {
     "name": "stderr",
     "output_type": "stream",
     "text": [
      "Exact explainer:  75%|███████▌  | 75/100 [03:04<01:01,  2.45s/it]"
     ]
    },
    {
     "name": "stdout",
     "output_type": "stream",
     "text": [
      "425/425 [==============================] - 1s 3ms/step\n",
      "27/27 [==============================] - 0s 5ms/step\n"
     ]
    },
    {
     "name": "stderr",
     "output_type": "stream",
     "text": [
      "Exact explainer:  76%|███████▌  | 76/100 [03:06<00:54,  2.28s/it]"
     ]
    },
    {
     "name": "stdout",
     "output_type": "stream",
     "text": [
      "428/428 [==============================] - 1s 3ms/step\n",
      "27/27 [==============================] - 0s 4ms/step\n"
     ]
    },
    {
     "name": "stderr",
     "output_type": "stream",
     "text": [
      "Exact explainer:  77%|███████▋  | 77/100 [03:08<00:49,  2.15s/it]"
     ]
    },
    {
     "name": "stdout",
     "output_type": "stream",
     "text": [
      "428/428 [==============================] - 2s 5ms/step\n",
      "27/27 [==============================] - 0s 9ms/step\n"
     ]
    },
    {
     "name": "stderr",
     "output_type": "stream",
     "text": [
      "Exact explainer:  78%|███████▊  | 78/100 [03:10<00:51,  2.35s/it]"
     ]
    },
    {
     "name": "stdout",
     "output_type": "stream",
     "text": [
      "430/430 [==============================] - 1s 3ms/step\n",
      "27/27 [==============================] - 0s 5ms/step\n"
     ]
    },
    {
     "name": "stderr",
     "output_type": "stream",
     "text": [
      "Exact explainer:  79%|███████▉  | 79/100 [03:13<00:47,  2.29s/it]"
     ]
    },
    {
     "name": "stdout",
     "output_type": "stream",
     "text": [
      "761/761 [==============================] - 3s 4ms/step\n",
      "28/28 [==============================] - 0s 4ms/step\n"
     ]
    },
    {
     "name": "stderr",
     "output_type": "stream",
     "text": [
      "Exact explainer:  80%|████████  | 80/100 [03:16<00:53,  2.68s/it]"
     ]
    },
    {
     "name": "stdout",
     "output_type": "stream",
     "text": [
      "762/762 [==============================] - 3s 4ms/step\n",
      "27/27 [==============================] - 0s 6ms/step\n"
     ]
    },
    {
     "name": "stderr",
     "output_type": "stream",
     "text": [
      "Exact explainer:  81%|████████  | 81/100 [03:20<00:58,  3.09s/it]"
     ]
    },
    {
     "name": "stdout",
     "output_type": "stream",
     "text": [
      "427/427 [==============================] - 2s 4ms/step\n",
      "27/27 [==============================] - 0s 3ms/step\n"
     ]
    },
    {
     "name": "stderr",
     "output_type": "stream",
     "text": [
      "Exact explainer:  82%|████████▏ | 82/100 [03:23<00:51,  2.89s/it]"
     ]
    },
    {
     "name": "stdout",
     "output_type": "stream",
     "text": [
      "437/437 [==============================] - 2s 4ms/step\n",
      "27/27 [==============================] - 0s 4ms/step\n"
     ]
    },
    {
     "name": "stderr",
     "output_type": "stream",
     "text": [
      "Exact explainer:  83%|████████▎ | 83/100 [03:25<00:46,  2.73s/it]"
     ]
    },
    {
     "name": "stdout",
     "output_type": "stream",
     "text": [
      "443/443 [==============================] - 2s 4ms/step\n",
      "27/27 [==============================] - 0s 7ms/step\n"
     ]
    },
    {
     "name": "stderr",
     "output_type": "stream",
     "text": [
      "Exact explainer:  84%|████████▍ | 84/100 [03:27<00:42,  2.66s/it]"
     ]
    },
    {
     "name": "stdout",
     "output_type": "stream",
     "text": [
      "766/766 [==============================] - 3s 4ms/step\n",
      "28/28 [==============================] - 0s 4ms/step\n"
     ]
    },
    {
     "name": "stderr",
     "output_type": "stream",
     "text": [
      "Exact explainer:  85%|████████▌ | 85/100 [03:31<00:43,  2.91s/it]"
     ]
    },
    {
     "name": "stdout",
     "output_type": "stream",
     "text": [
      "445/445 [==============================] - 2s 4ms/step\n",
      "28/28 [==============================] - 0s 5ms/step\n"
     ]
    },
    {
     "name": "stderr",
     "output_type": "stream",
     "text": [
      "Exact explainer:  86%|████████▌ | 86/100 [03:34<00:39,  2.84s/it]"
     ]
    },
    {
     "name": "stdout",
     "output_type": "stream",
     "text": [
      "441/441 [==============================] - 2s 4ms/step\n",
      "28/28 [==============================] - 0s 4ms/step\n"
     ]
    },
    {
     "name": "stderr",
     "output_type": "stream",
     "text": [
      "Exact explainer:  87%|████████▋ | 87/100 [03:36<00:35,  2.73s/it]"
     ]
    },
    {
     "name": "stdout",
     "output_type": "stream",
     "text": [
      "427/427 [==============================] - 1s 3ms/step\n",
      "26/26 [==============================] - 0s 7ms/step\n"
     ]
    },
    {
     "name": "stderr",
     "output_type": "stream",
     "text": [
      "Exact explainer:  88%|████████▊ | 88/100 [03:38<00:30,  2.51s/it]"
     ]
    },
    {
     "name": "stdout",
     "output_type": "stream",
     "text": [
      "440/440 [==============================] - 2s 4ms/step\n",
      "27/27 [==============================] - 0s 5ms/step\n"
     ]
    },
    {
     "name": "stderr",
     "output_type": "stream",
     "text": [
      "Exact explainer:  89%|████████▉ | 89/100 [03:40<00:27,  2.46s/it]"
     ]
    },
    {
     "name": "stdout",
     "output_type": "stream",
     "text": [
      "446/446 [==============================] - 2s 5ms/step\n",
      "28/28 [==============================] - 0s 5ms/step\n"
     ]
    },
    {
     "name": "stderr",
     "output_type": "stream",
     "text": [
      "Exact explainer:  90%|█████████ | 90/100 [03:43<00:25,  2.55s/it]"
     ]
    },
    {
     "name": "stdout",
     "output_type": "stream",
     "text": [
      "432/432 [==============================] - 2s 4ms/step\n",
      "27/27 [==============================] - 0s 9ms/step\n"
     ]
    },
    {
     "name": "stderr",
     "output_type": "stream",
     "text": [
      "Exact explainer:  91%|█████████ | 91/100 [03:46<00:22,  2.50s/it]"
     ]
    },
    {
     "name": "stdout",
     "output_type": "stream",
     "text": [
      "432/432 [==============================] - 3s 6ms/step\n",
      "26/26 [==============================] - 0s 11ms/step\n"
     ]
    },
    {
     "name": "stderr",
     "output_type": "stream",
     "text": [
      "Exact explainer:  92%|█████████▏| 92/100 [03:51<00:27,  3.43s/it]"
     ]
    },
    {
     "name": "stdout",
     "output_type": "stream",
     "text": [
      "437/437 [==============================] - 2s 5ms/step\n",
      "28/28 [==============================] - 0s 5ms/step\n"
     ]
    },
    {
     "name": "stderr",
     "output_type": "stream",
     "text": [
      "Exact explainer:  93%|█████████▎| 93/100 [03:54<00:22,  3.19s/it]"
     ]
    },
    {
     "name": "stdout",
     "output_type": "stream",
     "text": [
      "774/774 [==============================] - 3s 4ms/step\n",
      "27/27 [==============================] - 0s 14ms/step\n"
     ]
    },
    {
     "name": "stderr",
     "output_type": "stream",
     "text": [
      "Exact explainer:  94%|█████████▍| 94/100 [03:58<00:21,  3.60s/it]"
     ]
    },
    {
     "name": "stdout",
     "output_type": "stream",
     "text": [
      "425/425 [==============================] - 3s 7ms/step\n",
      "27/27 [==============================] - 0s 5ms/step\n"
     ]
    },
    {
     "name": "stderr",
     "output_type": "stream",
     "text": [
      "Exact explainer:  95%|█████████▌| 95/100 [04:02<00:18,  3.61s/it]"
     ]
    },
    {
     "name": "stdout",
     "output_type": "stream",
     "text": [
      "427/427 [==============================] - 2s 5ms/step\n",
      "26/26 [==============================] - 0s 7ms/step\n"
     ]
    },
    {
     "name": "stderr",
     "output_type": "stream",
     "text": [
      "Exact explainer:  96%|█████████▌| 96/100 [04:05<00:13,  3.32s/it]"
     ]
    },
    {
     "name": "stdout",
     "output_type": "stream",
     "text": [
      "427/427 [==============================] - 2s 4ms/step\n",
      "26/26 [==============================] - 0s 5ms/step\n"
     ]
    },
    {
     "name": "stderr",
     "output_type": "stream",
     "text": [
      "Exact explainer:  97%|█████████▋| 97/100 [04:07<00:09,  3.07s/it]"
     ]
    },
    {
     "name": "stdout",
     "output_type": "stream",
     "text": [
      "409/409 [==============================] - 2s 4ms/step\n",
      "26/26 [==============================] - 0s 4ms/step\n"
     ]
    },
    {
     "name": "stderr",
     "output_type": "stream",
     "text": [
      "Exact explainer:  98%|█████████▊| 98/100 [04:09<00:05,  2.82s/it]"
     ]
    },
    {
     "name": "stdout",
     "output_type": "stream",
     "text": [
      "419/419 [==============================] - 2s 4ms/step\n",
      "26/26 [==============================] - 0s 7ms/step\n"
     ]
    },
    {
     "name": "stderr",
     "output_type": "stream",
     "text": [
      "Exact explainer:  99%|█████████▉| 99/100 [04:12<00:02,  2.74s/it]"
     ]
    },
    {
     "name": "stdout",
     "output_type": "stream",
     "text": [
      "428/428 [==============================] - 2s 4ms/step\n",
      "27/27 [==============================] - 0s 7ms/step\n"
     ]
    },
    {
     "name": "stderr",
     "output_type": "stream",
     "text": [
      "Exact explainer: 100%|██████████| 100/100 [04:14<00:00,  2.68s/it]"
     ]
    },
    {
     "name": "stdout",
     "output_type": "stream",
     "text": [
      "440/440 [==============================] - 2s 5ms/step\n",
      "28/28 [==============================] - 0s 6ms/step\n"
     ]
    },
    {
     "name": "stderr",
     "output_type": "stream",
     "text": [
      "Exact explainer: 101it [04:17,  2.68s/it]                         \n"
     ]
    }
   ],
   "source": [
    "kernel_shap_values = Kernel_explainer.shap_values(X = x_data.iloc[:100,:],nsamples=100)\n",
    "explainer_shap_values = explainer(x_data.iloc[:100,:])"
   ]
  },
  {
   "cell_type": "code",
   "execution_count": 99,
   "metadata": {},
   "outputs": [
    {
     "data": {
      "application/vnd.jupyter.widget-view+json": {
       "model_id": "401b8d4b14e94e558861d33d5db100d5",
       "version_major": 2,
       "version_minor": 0
      },
      "text/plain": [
       "Dropdown(description='Select Label:', options=(('EXIT', 0), ('EXIT_SAFELY', 1), ('MONSTER', 2), ('POTION', 3),…"
      ]
     },
     "metadata": {},
     "output_type": "display_data"
    }
   ],
   "source": [
    "# Create the list of all labels for the drop down list\n",
    "list_of_labels = y_data.columns.to_list()\n",
    "\n",
    "# Create a list of tuples so that the index of the label is what is returned\n",
    "tuple_of_labels = list(zip(list_of_labels, range(len(list_of_labels))))\n",
    "\n",
    "# Create a widget for the labels and then display the widget\n",
    "current_label = widgets.Dropdown(options=tuple_of_labels,\n",
    "                              value=0,\n",
    "                              description='Select Label:'\n",
    "                              )\n",
    "\n",
    "# Display the dropdown list (Note: access index value with 'current_label.value')\n",
    "current_label"
   ]
  },
  {
   "cell_type": "code",
   "execution_count": 104,
   "metadata": {},
   "outputs": [
    {
     "data": {
      "image/png": "[encoded data removed]",
      "text/plain": [
       "<Figure size 800x470 with 1 Axes>"
      ]
     },
     "metadata": {},
     "output_type": "display_data"
    },
    {
     "name": "stdout",
     "output_type": "stream",
     "text": [
      "Dropdown(description='Select Label:', options=(('EXIT', 0), ('EXIT_SAFELY', 1), ('MONSTER', 2), ('POTION', 3), ('POTION_SAFELY', 4), ('TREASURE', 5), ('TREASURE_SAFELY', 6)), value=0)\n"
     ]
    }
   ],
   "source": [
    "shap.summary_plot(shap_values = kernel_shap_values, feature_names=data[obs].columns, class_names=y_data.columns, plot_type='bar')\n",
    "# shap.bar_plot(shap_values = kernel_shap_values, feature_names=data[obs].columns)\n",
    "print(current_label)\n"
   ]
  },
  {
   "cell_type": "code",
   "execution_count": 122,
   "metadata": {},
   "outputs": [
    {
     "ename": "TypeError",
     "evalue": "list indices must be integers or slices, not tuple",
     "output_type": "error",
     "traceback": [
      "\u001b[0;31m---------------------------------------------------------------------------\u001b[0m",
      "\u001b[0;31mTypeError\u001b[0m                                 Traceback (most recent call last)",
      "Cell \u001b[0;32mIn[122], line 4\u001b[0m\n\u001b[1;32m      1\u001b[0m \u001b[39m# explainer_shap_values= explainer.shap\u001b[39;00m\n\u001b[1;32m      2\u001b[0m \u001b[39m# shap.plots.bar(explainer_shap_values[:,2])\u001b[39;00m\n\u001b[1;32m      3\u001b[0m \u001b[39m# explainer_shap_values\u001b[39;00m\n\u001b[0;32m----> 4\u001b[0m kernel_shap_values[\u001b[39m0\u001b[39;49m,:]\n",
      "\u001b[0;31mTypeError\u001b[0m: list indices must be integers or slices, not tuple"
     ]
    }
   ],
   "source": [
    "# explainer_shap_values= explainer.shap\n",
    "# shap.plots.bar(explainer_shap_values[:,2])\n",
    "# explainer_shap_values\n",
    "kernel_shap_values[0,:]"
   ]
  },
  {
   "cell_type": "code",
   "execution_count": 121,
   "metadata": {},
   "outputs": [
    {
     "ename": "TypeError",
     "evalue": "list indices must be integers or slices, not tuple",
     "output_type": "error",
     "traceback": [
      "\u001b[0;31m---------------------------------------------------------------------------\u001b[0m",
      "\u001b[0;31mTypeError\u001b[0m                                 Traceback (most recent call last)",
      "Cell \u001b[0;32mIn[121], line 2\u001b[0m\n\u001b[1;32m      1\u001b[0m \u001b[39m# fig, axs = plt.subplots(2,3)\u001b[39;00m\n\u001b[0;32m----> 2\u001b[0m shap\u001b[39m.\u001b[39msummary_plot(kernel_shap_values[\u001b[39m0\u001b[39;49m,:])\n",
      "\u001b[0;31mTypeError\u001b[0m: list indices must be integers or slices, not tuple"
     ]
    }
   ],
   "source": [
    "# fig, axs = plt.subplots(2,3)\n",
    "shap.summary_plot(kernel_shap_values[0,:])"
   ]
  },
  {
   "cell_type": "code",
   "execution_count": 113,
   "metadata": {},
   "outputs": [
    {
     "data": {
      "text/plain": [
       "{}"
      ]
     },
     "execution_count": 113,
     "metadata": {},
     "output_type": "execute_result"
    }
   ],
   "source": [
    "Kernel_explainer.explain_row(x_data.iloc[0,:],max_evals=5,main_effects='',error_bounds=1, outputs=0,silent=0)"
   ]
  },
  {
   "cell_type": "code",
   "execution_count": 129,
   "metadata": {},
   "outputs": [
    {
     "ename": "IndexError",
     "evalue": "too many indices for array: array is 1-dimensional, but 2 were indexed",
     "output_type": "error",
     "traceback": [
      "\u001b[0;31m---------------------------------------------------------------------------\u001b[0m",
      "\u001b[0;31mIndexError\u001b[0m                                Traceback (most recent call last)",
      "Cell \u001b[0;32mIn[129], line 1\u001b[0m\n\u001b[0;32m----> 1\u001b[0m shap\u001b[39m.\u001b[39;49mforce_plot(Kernel_explainer\u001b[39m.\u001b[39;49mexpected_value[\u001b[39m0\u001b[39;49m],kernel_shap_values[\u001b[39m0\u001b[39;49m],x_data\u001b[39m.\u001b[39;49miloc[\u001b[39m0\u001b[39;49m])\n",
      "File \u001b[0;32m~/anaconda3/lib/python3.10/site-packages/shap/plots/_force.py:186\u001b[0m, in \u001b[0;36mforce\u001b[0;34m(base_value, shap_values, features, feature_names, out_names, link, plot_cmap, matplotlib, show, figsize, ordering_keys, ordering_keys_time_format, text_rotation, contribution_threshold)\u001b[0m\n\u001b[1;32m    184\u001b[0m     display_features \u001b[39m=\u001b[39m [\u001b[39m\"\u001b[39m\u001b[39m\"\u001b[39m \u001b[39mfor\u001b[39;00m i \u001b[39min\u001b[39;00m \u001b[39mrange\u001b[39m(\u001b[39mlen\u001b[39m(feature_names))]\n\u001b[1;32m    185\u001b[0m \u001b[39melse\u001b[39;00m:\n\u001b[0;32m--> 186\u001b[0m     display_features \u001b[39m=\u001b[39m features[k, :]\n\u001b[1;32m    188\u001b[0m instance \u001b[39m=\u001b[39m Instance(np\u001b[39m.\u001b[39mones((\u001b[39m1\u001b[39m, \u001b[39mlen\u001b[39m(feature_names))), display_features)\n\u001b[1;32m    189\u001b[0m e \u001b[39m=\u001b[39m AdditiveExplanation(\n\u001b[1;32m    190\u001b[0m     base_value,\n\u001b[1;32m    191\u001b[0m     np\u001b[39m.\u001b[39msum(shap_values[k, :]) \u001b[39m+\u001b[39m base_value,\n\u001b[0;32m   (...)\u001b[0m\n\u001b[1;32m    197\u001b[0m     DenseData(np\u001b[39m.\u001b[39mones((\u001b[39m1\u001b[39m, \u001b[39mlen\u001b[39m(feature_names))), \u001b[39mlist\u001b[39m(feature_names))\n\u001b[1;32m    198\u001b[0m )\n",
      "\u001b[0;31mIndexError\u001b[0m: too many indices for array: array is 1-dimensional, but 2 were indexed"
     ]
    }
   ],
   "source": [
    "shap.force_plot(Kernel_explainer.expected_value[0],kernel_shap_values[0],x_data.iloc[0])"
   ]
  },
  {
   "cell_type": "code",
   "execution_count": null,
   "metadata": {},
   "outputs": [],
   "source": []
  }
 ],
 "metadata": {
  "kernelspec": {
   "display_name": "base",
   "language": "python",
   "name": "python3"
  },
  "language_info": {
   "codemirror_mode": {
    "name": "ipython",
    "version": 3
   },
   "file_extension": ".py",
   "mimetype": "text/x-python",
   "name": "python",
   "nbconvert_exporter": "python",
   "pygments_lexer": "ipython3",
   "version": "3.10.9"
  },
  "orig_nbformat": 4
 },
 "nbformat": 4,
 "nbformat_minor": 2
}
