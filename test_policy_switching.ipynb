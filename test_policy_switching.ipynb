{
 "cells": [
  {
   "cell_type": "code",
   "execution_count": 1,
   "metadata": {},
   "outputs": [
    {
     "name": "stderr",
     "output_type": "stream",
     "text": [
      "2023-09-13 15:26:15.628814: I tensorflow/core/platform/cpu_feature_guard.cc:193] This TensorFlow binary is optimized with oneAPI Deep Neural Network Library (oneDNN) to use the following CPU instructions in performance-critical operations:  SSE4.1 SSE4.2 AVX AVX2 FMA\n",
      "To enable them in other operations, rebuild TensorFlow with the appropriate compiler flags.\n"
     ]
    }
   ],
   "source": [
    "import gym_md\n",
    "import gym\n",
    "from gym_md.helper.policy_wrapper import PolicyWapper\n",
    "\n",
    "\n"
   ]
  },
  {
   "cell_type": "code",
   "execution_count": 16,
   "metadata": {},
   "outputs": [],
   "source": [
    "policies = PolicyWapper(path='./play_style_models/base/')\n",
    "obs = [4, 4, 4, 6, 6, 8, 8, 5]"
   ]
  },
  {
   "cell_type": "code",
   "execution_count": 24,
   "metadata": {},
   "outputs": [
    {
     "name": "stdout",
     "output_type": "stream",
     "text": [
      "<gym_md.helper.policy_wrapper.PolicyWapper object at 0x7f0d062390a0>\n",
      "[<stable_baselines3.ppo.ppo.PPO object at 0x7f0d037c2cd0>, <stable_baselines3.ppo.ppo.PPO object at 0x7f0d12b82be0>, <stable_baselines3.ppo.ppo.PPO object at 0x7f0d061aba60>, <stable_baselines3.ppo.ppo.PPO object at 0x7f0d06377790>]\n",
      "['BEST_MODEL', 'KILLER', 'TREASURE', 'POTION']\n",
      "[-1.         -1.         -1.          1.          0.35692644 -1.\n",
      " -1.        ]\n"
     ]
    }
   ],
   "source": [
    "print(policies)\n",
    "print(policies.wrapped_models)\n",
    "print(policies.policy_names)\n",
    "print(policies.wrapped_models[3].predict(obs, deterministic=False)[0])"
   ]
  },
  {
   "cell_type": "code",
   "execution_count": null,
   "metadata": {},
   "outputs": [],
   "source": []
  },
  {
   "cell_type": "code",
   "execution_count": null,
   "metadata": {},
   "outputs": [],
   "source": []
  }
 ],
 "metadata": {
  "kernelspec": {
   "display_name": "test1",
   "language": "python",
   "name": "python3"
  },
  "language_info": {
   "codemirror_mode": {
    "name": "ipython",
    "version": 3
   },
   "file_extension": ".py",
   "mimetype": "text/x-python",
   "name": "python",
   "nbconvert_exporter": "python",
   "pygments_lexer": "ipython3",
   "version": "3.9.16"
  },
  "orig_nbformat": 4
 },
 "nbformat": 4,
 "nbformat_minor": 2
}
